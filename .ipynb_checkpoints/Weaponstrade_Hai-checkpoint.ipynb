{
 "cells": [
  {
   "cell_type": "code",
   "execution_count": null,
   "metadata": {
    "collapsed": true
   },
   "outputs": [],
   "source": [
    "## current issue: for some reason new zealand is missing from the table"
   ]
  },
  {
   "cell_type": "markdown",
   "metadata": {},
   "source": [
    "    Who are the suppliers and recipients of major conventional weapons?\n",
    "    What weapons have been exported or imported by specific suppliers or recipients?\n",
    "    How have the relationships between different suppliers and recipients changed over time?\n",
    "    Where do countries in conflict get their weapons from?\n",
    "    How do states implement their export control regulations?\n",
    "    Where are potentially destabilizing build ups of weapons occurring?\n",
    "    What is the relationship between access to natural resources and arms transfers?"
   ]
  },
  {
   "cell_type": "code",
   "execution_count": null,
   "metadata": {
    "collapsed": false
   },
   "outputs": [],
   "source": [
    "import pandas as pd\n",
    "import numpy as np\n",
    "import os\n",
    "import networkx as nx\n",
    "import operator\n",
    "import matplotlib.pyplot as plt\n",
    "import community\n",
    "%matplotlib inline  \n",
    "import plotly\n",
    "from plotly.graph_objs import *\n",
    "import plotly.plotly as py\n"
   ]
  },
  {
   "cell_type": "code",
   "execution_count": null,
   "metadata": {
    "collapsed": true
   },
   "outputs": [],
   "source": [
    "import copy"
   ]
  },
  {
   "cell_type": "markdown",
   "metadata": {},
   "source": [
    "# 1) Importing and linking the data\n",
    "\n",
    "## 1.1) Reading the CSV files into seperate clean panda dataframes"
   ]
  },
  {
   "cell_type": "code",
   "execution_count": null,
   "metadata": {
    "collapsed": false
   },
   "outputs": [],
   "source": [
    "def loadTable(directory, country_code):\n",
    "    path = directory+'TIV-Import-'+country_code+'-1950-2015.csv'\n",
    "    df = pd.read_csv(path)\n",
    "    \n",
    "    #extract current country\n",
    "    to_country = df.columns.values.tolist()[0].split('TIV of arms exports to ')[1].split(', 1950-2015')[0]\n",
    "    \n",
    "    #downsize\n",
    "    df = df.ix[9:]\n",
    "    \n",
    "    #get rid of column\n",
    "    df = df.drop(df.columns[[0]],axis =1)\n",
    "    df.columns = df.iloc[0]\n",
    "    df.columns.values[0] = 'country'\n",
    "    df = df.set_index((df['country']))\n",
    "    df = df.drop(df.columns[0], axis=1)\n",
    "    \n",
    "    #take the data less the header row\n",
    "    df = df[1:] \n",
    "    df.index.name = None #credit to ulynn\n",
    "    df.columns.name = None\n",
    "    \n",
    "    # Format of the keys should be YEAR - COUNTRYFROM - COUNTRYTO --> Faster query over the years\n",
    "    try:\n",
    "        df.columns = df.columns.astype('string').str.replace('\\.0','')\n",
    "    except:\n",
    "        df.columns = df.columns.astype('str').str.replace('\\.0','')\n",
    "        \n",
    "    df.fillna(0, inplace=True)\n",
    "    try:\n",
    "        df.drop(df.loc['Unknown country'].name,inplace=True)\n",
    "    except:\n",
    "        \"\"\n",
    "        #print \"UNSUCCESSFUL DROP:\",'Unknown country'\n",
    "        \n",
    "    #last cleansing\n",
    "    df.drop(df.index[[-1,-2]],inplace=True)\n",
    "    df.drop(df.columns[-1], axis=1,inplace=True)\n",
    "\n",
    "    return df, to_country"
   ]
  },
  {
   "cell_type": "markdown",
   "metadata": {},
   "source": [
    "## 1.2) Convert one pandas dataframe into a structured dict"
   ]
  },
  {
   "cell_type": "code",
   "execution_count": null,
   "metadata": {
    "collapsed": false
   },
   "outputs": [],
   "source": [
    "#FORMAT\n",
    "#[YEARS][FROM][TO] = MONEY\n",
    "def convertTableToDict(df, onecountrydict, countryTo):\n",
    "    years = list(df.columns.values)\n",
    "    countries = list(df.index)\n",
    "    \n",
    "    for year in years:\n",
    "        onecountrydict.setdefault(year, dict())\n",
    "        onecountrydict[year].setdefault(countryTo, dict())\n",
    "        \n",
    "        for countryFrom in countries:\n",
    "            value = df.get_value(countryFrom, year)\n",
    "            onecountrydict[year][countryTo].setdefault(countryFrom, value)\n",
    "            #onecountrydict[year][countryTo].setdefault(\"Total\", 0)\n",
    "            #onecountrydict[year][countryTo][\"Total\"] += value\n",
    "            \n",
    "    return onecountrydict"
   ]
  },
  {
   "cell_type": "code",
   "execution_count": null,
   "metadata": {
    "collapsed": true
   },
   "outputs": [],
   "source": [
    "#FORMAT\n",
    "#[YEARS][FROM][TO] = MONEY\n",
    "def convertTableToDict(df, onecountrydict, countryTo):\n",
    "    years = list(df.columns.values)\n",
    "    listofcountries = list(df.index)\n",
    "\n",
    "    for y in range(0,len(years)):\n",
    "        year = years[y]\n",
    "        onecountrydict.setdefault(year, dict())\n",
    "        onecountrydict[year].setdefault(countryTo, dict())\n",
    "        \n",
    "        for country in range(0,len(listofcountries)):\n",
    "            countryFrom = listofcountries[country]\n",
    "            value = df.get_value(countryFrom, year)\n",
    "            onecountrydict[year][countryTo].setdefault(countryFrom, value)\n",
    "            #onecountrydict[year][countryTo].setdefault(\"Total\", 0)\n",
    "            #onecountrydict[year][countryTo][\"Total\"] += value\n",
    "            \n",
    "    return onecountrydict"
   ]
  },
  {
   "cell_type": "code",
   "execution_count": null,
   "metadata": {
    "collapsed": true
   },
   "outputs": [],
   "source": [
    "#delete empty cells from dict\n",
    "\n",
    "def clean_empty(d):\n",
    "    if not isinstance(d, (dict, list)):\n",
    "        return d\n",
    "    if isinstance(d, list):\n",
    "        return [v for v in (clean_empty(v) for v in d) if v]\n",
    "    return {k: v for k, v in ((k, clean_empty(v)) for k, v in d.items()) if v}"
   ]
  },
  {
   "cell_type": "code",
   "execution_count": null,
   "metadata": {
    "collapsed": false
   },
   "outputs": [],
   "source": [
    "countryImportDict = dict()\n",
    "PATH = '/Users/hai/Devproj/weaponstradeanalysis/data/'\n",
    "\n",
    "countryCodeMap = dict()\n",
    "\n",
    "for f in os.listdir(PATH):\n",
    "    if not f.startswith('.'):\n",
    "        if \"country_codes.csv\" not in f:\n",
    "            countryCode = f.replace('TIV-Import-',\"\").replace('-1950-2015.csv', \"\")\n",
    "            df,to_country = loadTable(PATH, countryCode)\n",
    "            countryImportDict = convertTableToDict(df, countryImportDict, to_country)\n",
    "            countryCodeMap.setdefault(to_country, countryCode)\n",
    "\n",
    "countryImportDict = clean_empty(countryImportDict)\n",
    "\n",
    "MultiDiDict = dict()\n",
    "for year in countryImportDict:\n",
    "    MultiDiDict.setdefault(year, dict())\n",
    "    for countryImport in countryImportDict[year]:\n",
    "        for countryExport in countryImportDict[year][countryImport]:\n",
    "            MultiDiDict[year].setdefault(countryExport, dict())\n",
    "            MultiDiDict[year][countryExport].setdefault(countryImport, 0)\n",
    "            MultiDiDict[year][countryExport][countryImport] += countryImportDict[year][countryImport][countryExport]"
   ]
  },
  {
   "cell_type": "code",
   "execution_count": null,
   "metadata": {
    "collapsed": false
   },
   "outputs": [],
   "source": [
    "df = pd.DataFrame.from_dict(countryCodeMap, orient=\"index\")\n",
    "df.sort_index(inplace=True)\n",
    "df.to_csv('countrymap.csv')\n"
   ]
  },
  {
   "cell_type": "code",
   "execution_count": null,
   "metadata": {
    "collapsed": true
   },
   "outputs": [],
   "source": [
    "CompleteDict = copy.deepcopy(MultiDiDict)"
   ]
  },
  {
   "cell_type": "markdown",
   "metadata": {},
   "source": [
    "# read weapon expenditure data from SIPRI beta dataset"
   ]
  },
  {
   "cell_type": "markdown",
   "metadata": {},
   "source": [
    "## Read table into dataframe"
   ]
  },
  {
   "cell_type": "code",
   "execution_count": null,
   "metadata": {
    "collapsed": false
   },
   "outputs": [],
   "source": [
    "gdpdf = pd.read_excel('/Users/hai/Devproj/weaponstradeanalysis/newdata/SIPRI extended milex database beta/Constant USD Beta.xlsx')\n",
    "gdpdf = gdpdf.iloc[2:175, 2:]\n",
    "gdpdf.columns = gdpdf.iloc[0]\n",
    "gdpdf.columns.values[0] = 'Country'\n",
    "gdpdf = gdpdf.set_index((gdpdf['Country']))\n",
    "gdpdf = gdpdf.drop(gdpdf.columns[0], axis=1)\n",
    "gdpdf = gdpdf[1:] \n",
    "gdpdf.index.name = None #credit to ulynn\n",
    "gdpdf.columns.name = None\n",
    "gdpdf.drop(['Montenegro'], inplace = True)"
   ]
  },
  {
   "cell_type": "code",
   "execution_count": null,
   "metadata": {
    "collapsed": false
   },
   "outputs": [],
   "source": []
  },
  {
   "cell_type": "code",
   "execution_count": null,
   "metadata": {
    "collapsed": false
   },
   "outputs": [],
   "source": [
    "namecorrectionmapping = pd.read_csv('/Users/hai/Devproj/weaponstradeanalysis/countrymapping.csv', delimiter = ';', header = None)\n",
    "namecorrectionmapping.columns = ['countrycode','newname', 'oldname']\n",
    "\n",
    "namecorrectionmapping.set_index((namecorrectionmapping['oldname']), inplace = True)\n",
    "namecorrectionmapping.drop(namecorrectionmapping.columns[[0,2]], axis=1, inplace = True)\n",
    "namecorrectionmapping.index.name = None\n",
    "namemappingdict = namecorrectionmapping.to_dict()\n",
    "\n"
   ]
  },
  {
   "cell_type": "markdown",
   "metadata": {},
   "source": [
    "## use the manually created table to synchronize countries"
   ]
  },
  {
   "cell_type": "code",
   "execution_count": null,
   "metadata": {
    "collapsed": false
   },
   "outputs": [],
   "source": []
  },
  {
   "cell_type": "code",
   "execution_count": null,
   "metadata": {
    "collapsed": false
   },
   "outputs": [],
   "source": [
    "#format {Country: {year: value}}\n",
    "\n",
    "def convertGDPTableToDict(df,namemapping):\n",
    "    years = list(df.columns.values)\n",
    "    countries = list(df.index)\n",
    "    GDPdict = dict()\n",
    "    for year in years:\n",
    "        GDPdict.setdefault(str(year), dict())\n",
    "        for country in countries:\n",
    "            value = df.get_value(country, year)\n",
    "            if isinstance(value,float):\n",
    "                value = value * 0.5520917815626 #inflation correction from constant 2014 to constant 1990\n",
    "            GDPdict[str(year)].setdefault((namemapping['newname'][country]), value)\n",
    "    return GDPdict"
   ]
  },
  {
   "cell_type": "code",
   "execution_count": null,
   "metadata": {
    "collapsed": false
   },
   "outputs": [],
   "source": [
    "gdpdict = convertGDPTableToDict(gdpdf, namemappingdict)"
   ]
  },
  {
   "cell_type": "code",
   "execution_count": null,
   "metadata": {
    "collapsed": false
   },
   "outputs": [],
   "source": []
  },
  {
   "cell_type": "markdown",
   "metadata": {},
   "source": [
    "## Analysis function"
   ]
  },
  {
   "cell_type": "code",
   "execution_count": null,
   "metadata": {
    "collapsed": true
   },
   "outputs": [],
   "source": [
    "def createNeighbourGraph(G, node):\n",
    "    \n",
    "    newGraph = nx.Graph()\n",
    "    \n",
    "    for edge in G.edges(data=True):\n",
    "        if edge[0] == node or edge[1] == node:\n",
    "            newGraph.add_edge(edge[0],edge[1],edge[2])\n",
    "    \n",
    "    return newGraph"
   ]
  },
  {
   "cell_type": "code",
   "execution_count": null,
   "metadata": {
    "collapsed": false
   },
   "outputs": [],
   "source": [
    "def addUpDict(MasterDict):\n",
    "\n",
    "    SomethingsOverwrittenDict = MasterDict\n",
    "\n",
    "    AddedUpDict = dict()\n",
    "\n",
    "    for year in SomethingsOverwrittenDict:\n",
    "        AddedUpDict.setdefault(year, dict())\n",
    "        for countryExport in SomethingsOverwrittenDict[year]:\n",
    "            for countryImport in SomethingsOverwrittenDict[year][countryExport]:\n",
    "                AddedUpDict[year].setdefault(countryExport, dict())\n",
    "                AddedUpDict[year][countryExport].setdefault(countryImport, 0)\n",
    "                Richtung = SomethingsOverwrittenDict[year][countryExport][countryImport]\n",
    "                #andere richtung verfügbar?\n",
    "                if countryImport in SomethingsOverwrittenDict[year]:\n",
    "                    if countryExport in SomethingsOverwrittenDict[year][countryImport]:\n",
    "                        andereRichtung = SomethingsOverwrittenDict[year][countryImport][countryExport]\n",
    "                    else: andereRichtung = 0\n",
    "                else: andereRichtung = 0\n",
    "                \n",
    "                #Transmitting stuff into the AddedUpDict\n",
    "                if (Richtung + andereRichtung) != 0:\n",
    "                    AddedUpDict[year][countryExport][countryImport] = Richtung + andereRichtung\n",
    "\n",
    "                #\"Clearing the MasterDict\"\n",
    "                SomethingsOverwrittenDict[year][countryExport][countryImport] = 0\n",
    "\n",
    "                if countryImport in SomethingsOverwrittenDict[year]:\n",
    "                    if countryExport in SomethingsOverwrittenDict[year][countryImport]:\n",
    "                        SomethingsOverwrittenDict[year][countryImport][countryExport] = 0\n",
    "    \n",
    "    return AddedUpDict"
   ]
  },
  {
   "cell_type": "code",
   "execution_count": null,
   "metadata": {
    "collapsed": true
   },
   "outputs": [],
   "source": [
    "def createYearGraph(AddedUpDict, year, gdpdict):\n",
    "    \n",
    "    G = nx.Graph()    \n",
    "    for countryExport in AddedUpDict[year]:\n",
    "        for countryImport in AddedUpDict[year][countryExport]:\n",
    "            if AddedUpDict[year][countryExport][countryImport] != 0:\n",
    "                G.add_weighted_edges_from([(countryExport,countryImport,AddedUpDict[year][countryExport][countryImport])])\n",
    "    \n",
    "    for node in G.nodes():\n",
    "        if node in gdpdict[year]:\n",
    "            G.node[node]['military expenditure'] = gdpdict[year][node]\n",
    "        else:\n",
    "            G.node[node]['military expenditure'] = 'no data'\n",
    "    \n",
    "    return G"
   ]
  },
  {
   "cell_type": "code",
   "execution_count": null,
   "metadata": {
    "collapsed": true
   },
   "outputs": [],
   "source": [
    "def createYearMultiDiGraph(AddedUpDict, year,gdpdict):\n",
    "    \n",
    "    G = nx.MultiDiGraph()    \n",
    "    for countryExport in AddedUpDict[year]:\n",
    "        for countryImport in AddedUpDict[year][countryExport]:\n",
    "            if AddedUpDict[year][countryExport][countryImport] != 0:\n",
    "                G.add_weighted_edges_from([(countryExport,countryImport,AddedUpDict[year][countryExport][countryImport])])\n",
    "    \n",
    "    for node in mastergraph.nodes():\n",
    "        if node in gdpdict[year]:\n",
    "            mastergraph.node[node]['military expenditure'] = gdpdict[year][node]\n",
    "        else:\n",
    "            mastergraph.node[node]['military expenditure'] = 'no data'\n",
    "    \n",
    "    return G"
   ]
  },
  {
   "cell_type": "code",
   "execution_count": null,
   "metadata": {
    "collapsed": false
   },
   "outputs": [],
   "source": [
    "AddedUpDict = addUpDict(MultiDiDict)\n",
    "AddedUpDict = clean_empty(AddedUpDict)\n",
    "\n",
    "mastergraph = createYearGraph(AddedUpDict, '1960',gdpdict)"
   ]
  },
  {
   "cell_type": "code",
   "execution_count": null,
   "metadata": {
    "collapsed": false
   },
   "outputs": [],
   "source": []
  },
  {
   "cell_type": "code",
   "execution_count": null,
   "metadata": {
    "collapsed": false
   },
   "outputs": [],
   "source": []
  },
  {
   "cell_type": "code",
   "execution_count": null,
   "metadata": {
    "collapsed": false
   },
   "outputs": [],
   "source": [
    "for node in mastergraph.nodes(data = True):\n",
    "    print node\n",
    "    \n",
    "    \n",
    "\n",
    "\n",
    "\n",
    "#plt.gcf().clear()\n",
    "#nx.draw(mastergraph,node_size=40, alpha=0.3, node_color=\"blue\", with_labels=False)\n",
    "#plt.show()\n",
    "#plt.rcParams['figure.figsize'] = (9, 9)"
   ]
  },
  {
   "cell_type": "code",
   "execution_count": null,
   "metadata": {
    "collapsed": false
   },
   "outputs": [],
   "source": [
    "sorted(nx.pagerank_numpy(mastergraph).items(), key=operator.itemgetter(1), reverse=True)[:10]"
   ]
  },
  {
   "cell_type": "code",
   "execution_count": null,
   "metadata": {
    "collapsed": false
   },
   "outputs": [],
   "source": [
    "data = pd.DataFrame(sorted(nx.betweenness_centrality(mastergraph).items(), key=operator.itemgetter(1), reverse=True)[:10])\n",
    "data.columns = ['country','betweenness centrality']"
   ]
  },
  {
   "cell_type": "code",
   "execution_count": null,
   "metadata": {
    "collapsed": false
   },
   "outputs": [],
   "source": [
    "from bokeh.charts import Bar, output_notebook, show\n",
    "output_notebook()\n",
    "\n",
    "p = Bar(data, 'country', values='betweenness centrality', title=\"betweenness centrality in \"+year,color='country', legend=None)\n",
    "\n",
    "show(p)"
   ]
  },
  {
   "cell_type": "code",
   "execution_count": null,
   "metadata": {
    "collapsed": false
   },
   "outputs": [],
   "source": [
    "#nx.draw_networkx(mastergraph, pos = spring_pos, cmap = plt.get_cmap(\"rainbow\"), node_color = bt_colors, node_size = bt_values, with_labels = False)"
   ]
  },
  {
   "cell_type": "code",
   "execution_count": null,
   "metadata": {
    "collapsed": false
   },
   "outputs": [],
   "source": [
    "\"\"\"G = mastergraph\n",
    "pos=nx.spring_layout(G)\n",
    "\"\"\";"
   ]
  },
  {
   "cell_type": "code",
   "execution_count": null,
   "metadata": {
    "collapsed": false
   },
   "outputs": [],
   "source": [
    "\"\"\"edge_trace = []\n",
    "\n",
    "for edge in G.edges(data=True):\n",
    "    countryFrom = edge[0]\n",
    "    countryTo = edge[1]\n",
    "    x0, y0 = pos[countryFrom]\n",
    "    x1, y1 = pos[countryTo]\n",
    "\n",
    "    edge_trace.append(\n",
    "        Scatter(\n",
    "            x=[x0, x1, None], \n",
    "            y=[y0, y1, None], \n",
    "            #text=[edge[2].values()[0]],\n",
    "            text='skip',\n",
    "            line=Line(width = (edge[2].values()[0]/100),\n",
    "                      color ='#888'\n",
    "                     ),\n",
    "            #hoverinfo=edge[2].values()[0],\n",
    "            hoverinfo='none',\n",
    "            mode='lines'\n",
    "        )\n",
    "    )\n",
    "\"\"\";"
   ]
  },
  {
   "cell_type": "code",
   "execution_count": null,
   "metadata": {
    "collapsed": true
   },
   "outputs": [],
   "source": [
    "\"\"\"node_trace = Scatter(\n",
    "    x=[], \n",
    "    y=[], \n",
    "    text=[],\n",
    "    mode='markers', \n",
    "    hoverinfo='text',\n",
    "    marker=Marker(\n",
    "        showscale=True,\n",
    "        # colorscale options\n",
    "        # 'Greys' | 'Greens' | 'Bluered' | 'Hot' | 'Picnic' | 'Portland' |\n",
    "        # Jet' | 'RdBu' | 'Blackbody' | 'Earth' | 'Electric' | 'YIOrRd' | 'YIGnBu'\n",
    "        colorscale='YIOrRd',\n",
    "        reversescale=True,\n",
    "        color=[], \n",
    "        size=10,         \n",
    "        colorbar=dict(\n",
    "            thickness=15,\n",
    "            title='Node Connections',\n",
    "            xanchor='left',\n",
    "            titleside='right'\n",
    "        ),\n",
    "        line=dict(width=2)))\n",
    "\n",
    "for node in G.nodes():\n",
    "    x, y = pos[node]\n",
    "    node_trace['x'].append(x)\n",
    "    node_trace['y'].append(y)\n",
    "    node_trace['text'].append(str(countryCodeMap[node]))\n",
    "    \n",
    "for node, adjacencies in enumerate(G.adjacency_list()):\n",
    "    node_trace['marker']['color'].append(len(adjacencies))    \n",
    "\"\"\";"
   ]
  },
  {
   "cell_type": "code",
   "execution_count": null,
   "metadata": {
    "collapsed": true
   },
   "outputs": [],
   "source": [
    "\"\"\"\n",
    "fig = Figure(data=Data(edge_trace+[node_trace]),\n",
    "             layout=Layout(\n",
    "                title='The Worlds Weapon Trade',\n",
    "                titlefont=dict(size=16),\n",
    "                showlegend=False, \n",
    "                width=650,\n",
    "                height=650,\n",
    "                hovermode='closest',\n",
    "                margin=dict(b=20,l=5,r=5,t=40),\n",
    "                annotations=[ dict(\n",
    "                    text=\"Datasource: SIPRI\",\n",
    "                    showarrow=False,\n",
    "                    xref=\"paper\", yref=\"paper\",\n",
    "                    x=0.005, y=-0.002 ) ],\n",
    "                xaxis=XAxis(showgrid=False, zeroline=False, showticklabels=False),\n",
    "                yaxis=YAxis(showgrid=False, zeroline=False, showticklabels=False))\n",
    "            )\n",
    "\n",
    "#py.iplot(fig, filename='weaponstrade')\n",
    "\"\"\";\n"
   ]
  },
  {
   "cell_type": "markdown",
   "metadata": {
    "collapsed": false
   },
   "source": [
    "# K-Means"
   ]
  },
  {
   "cell_type": "code",
   "execution_count": null,
   "metadata": {
    "collapsed": false
   },
   "outputs": [],
   "source": []
  },
  {
   "cell_type": "markdown",
   "metadata": {
    "collapsed": false
   },
   "source": [
    "## Cluster the nodes\n",
    "\n",
    "http://scikit-learn.org/stable/modules/clustering.html"
   ]
  },
  {
   "cell_type": "code",
   "execution_count": null,
   "metadata": {
    "collapsed": false
   },
   "outputs": [],
   "source": [
    "#from sklearn.cluster import KMeans"
   ]
  },
  {
   "cell_type": "code",
   "execution_count": null,
   "metadata": {
    "collapsed": false
   },
   "outputs": [],
   "source": [
    "#posdf = pd.DataFrame()\n",
    "#posdf = posdf.from_dict(pos)\n",
    "#posdf = posdf.transpose()"
   ]
  },
  {
   "cell_type": "code",
   "execution_count": null,
   "metadata": {
    "collapsed": false,
    "scrolled": true
   },
   "outputs": [],
   "source": [
    "\"\"\"reduced_data = posdf.values\n",
    "kmeans = KMeans(init='k-means++', n_clusters=5, n_init=10)\n",
    "kmeans.fit(reduced_data)\"\"\";"
   ]
  },
  {
   "cell_type": "code",
   "execution_count": null,
   "metadata": {
    "collapsed": false
   },
   "outputs": [],
   "source": [
    "\"\"\"#Visualization from Here http://scikit-learn.org/stable/auto_examples/cluster/plot_kmeans_digits.html\n",
    "\n",
    "# Step size of the mesh. Decrease to increase the quality of the VQ.\n",
    "h = .02     # point in the mesh [x_min, x_max]x[y_min, y_max].\n",
    "\n",
    "# Plot the decision boundary. For that, we will assign a color to each\n",
    "x_min, x_max = reduced_data[:, 0].min() - 1, reduced_data[:, 0].max() + 1\n",
    "y_min, y_max = reduced_data[:, 1].min() - 1, reduced_data[:, 1].max() + 1\n",
    "xx, yy = np.meshgrid(np.arange(x_min, x_max, h), np.arange(y_min, y_max, h))\n",
    "\n",
    "# Obtain labels for each point in mesh. Use last trained model.\n",
    "Z = kmeans.predict(np.c_[xx.ravel(), yy.ravel()])\n",
    "\n",
    "# Put the result into a color plot\n",
    "Z = Z.reshape(xx.shape)\n",
    "plt.figure(1)\n",
    "plt.clf()\n",
    "plt.imshow(Z, interpolation='nearest',\n",
    "           extent=(xx.min(), xx.max(), yy.min(), yy.max()),\n",
    "           cmap=plt.cm.Paired,\n",
    "           aspect='auto', origin='lower')\n",
    "\n",
    "plt.plot(reduced_data[:, 0], reduced_data[:, 1], 'k.', markersize=2)\n",
    "\n",
    "# Plot the centroids as a white X\n",
    "centroids = kmeans.cluster_centers_\n",
    "plt.scatter(centroids[:, 0], centroids[:, 1],\n",
    "            marker='x', s=169, linewidths=3,\n",
    "            color='w', zorder=10)\n",
    "plt.title('K-means clustering on the digits dataset (PCA-reduced data)\\n'\n",
    "          'Centroids are marked with white cross')\n",
    "plt.xlim(x_min, x_max)\n",
    "plt.ylim(y_min, y_max)\n",
    "plt.xticks(())\n",
    "plt.yticks(())\n",
    "plt.show()\"\"\";"
   ]
  },
  {
   "cell_type": "markdown",
   "metadata": {
    "collapsed": true
   },
   "source": [
    "TIL kmeans is a shitty algorithm, since it only takes X and Y into account, not good for graphs"
   ]
  },
  {
   "cell_type": "markdown",
   "metadata": {},
   "source": [
    "# Clustering using the louvain method\n",
    "\n",
    "It uses the louvain method described in Fast unfolding of communities in large networks, Vincent D Blondel, Jean-Loup Guillaume, Renaud Lambiotte, Renaud Lefebvre, Journal of Statistical Mechanics: Theory and Experiment 2008(10), P10008 (12pp)"
   ]
  },
  {
   "cell_type": "code",
   "execution_count": null,
   "metadata": {
    "collapsed": false
   },
   "outputs": [],
   "source": [
    "G = mastergraph\n",
    "\n",
    "#first compute the best partition\n",
    "partition = community.best_partition(G)\n",
    "\n",
    "#drawing\n",
    "size = float(len(set(partition.values())))\n",
    "pos = nx.spring_layout(G)\n",
    "count = 0.\n",
    "#for com in set(partition.values()) :\n",
    "    #count = count + 1.\n",
    "    #list_nodes = [nodes for nodes in partition.keys()\n",
    "    #                            if partition[nodes] == com]\n",
    "    #nx.draw_networkx_nodes(G, pos, list_nodes, node_size = 20,\n",
    "    #                            node_color = str(count / size))\n",
    "    #nx.draw_networkx_edges(G,pos, alpha=0.5)\n",
    "#plt.show()"
   ]
  },
  {
   "cell_type": "code",
   "execution_count": null,
   "metadata": {
    "collapsed": false
   },
   "outputs": [],
   "source": [
    "n = (G.number_of_nodes())/2 \n",
    "part = dict([])\n",
    "for node in G.nodes():\n",
    "    part[node] = node\n",
    "ind = community.induced_graph(part, G)\n",
    "goal = nx.Graph()\n",
    "goal.add_weighted_edges_from([(0,1,n*n),(0,0,n*(n-1)/2), (1, 1, n*(n-1)/2)])  # NOQA\n",
    "\"\"\"\n",
    "#drawing\n",
    "partition2 = community.best_partition(goal)\n",
    "size = float(len(set(partition2.values())))\n",
    "pos = nx.spring_layout(goal)\n",
    "count = 0.\n",
    "for com in set(partition2.values()) :\n",
    "    count = count + 1.\n",
    "    list_nodes = [nodes for nodes in partition2.keys()\n",
    "                                if partition2[nodes] == com]\n",
    "    nx.draw_networkx_nodes(goal, pos, list_nodes, node_size = 20,\n",
    "                                node_color = str(count / size))\n",
    "    nx.draw_networkx_edges(goal,pos, alpha=0.5)\n",
    "#plt.show()\"\"\";"
   ]
  },
  {
   "cell_type": "code",
   "execution_count": null,
   "metadata": {
    "collapsed": false
   },
   "outputs": [],
   "source": [
    "colormap = dict([(0, 'rgb(91,147,204)'), (1, 'rgb(255,46,43)'),(2, 'rgb(145,58,31)'), (3, 'rgb(151,219,79)'), (4, 'rgb(41,255,25)'), (5, 'rgb(255,104,0)'), (6, 'rgb(44,20,204)'), (7, 'rgb(178,84,18)')])"
   ]
  },
  {
   "cell_type": "code",
   "execution_count": null,
   "metadata": {
    "collapsed": true
   },
   "outputs": [],
   "source": [
    "pos3=nx.spring_layout(mastergraph, dim=3)"
   ]
  },
  {
   "cell_type": "code",
   "execution_count": null,
   "metadata": {
    "collapsed": false,
    "scrolled": true
   },
   "outputs": [],
   "source": [
    "trace1 = []\n",
    "for edge in G.edges(data=True):\n",
    "    trace1.append(\n",
    "        Scatter3d(x=[pos3[edge[0]][0],pos3[edge[1]][0], None],\n",
    "                  y=[pos3[edge[0]][1],pos3[edge[1]][1], None],\n",
    "                   z=[pos3[edge[0]][2],pos3[edge[1]][2], None],\n",
    "                   mode='lines',\n",
    "                   line=Line(color='rgb(125,125,125)',\n",
    "                             width=(np.log(edge[2].values()[0])),\n",
    "                             colorscale = 'Bluered'),\n",
    "                   hoverinfo='none',\n",
    "                   opacity=0.7\n",
    "                   )\n",
    "        )\n",
    "\n",
    "trace2 = []\n",
    "for node in G.nodes():\n",
    "    totaltrade = 0\n",
    "    for edge in G.edges(data=True):\n",
    "        if edge[0] == node or edge[1] == node:\n",
    "            totaltrade += edge[2].values()[0]\n",
    "            \n",
    "    trace2.append(\n",
    "        Scatter3d(x=pos3[node][0],\n",
    "                  y=pos3[node][1],\n",
    "                   z=pos3[node][2],\n",
    "                   mode='markers',\n",
    "                   name='Country',\n",
    "                   marker=Marker(symbol='dot',\n",
    "                                 size=np.log(totaltrade),\n",
    "                                 #color=partition[node],\n",
    "                                 color=colormap[partition[node]],\n",
    "                                 showscale=False,\n",
    "                                 cmin = 0,\n",
    "                                 cmax = 4,\n",
    "                                    # colorscale options\n",
    "                                    # 'Greys' | 'Greens' | 'Bluered' | 'Hot' | 'Picnic' | 'Portland' |\n",
    "                                    # Jet' | 'RdBu' | 'Blackbody' | 'Earth' | 'Electric' | 'YIOrRd' | 'YIGnBu'\n",
    "                                 colorscale='Electric',\n",
    "                                 line=Line(color='rgb(50,50,50)', width=0.5)                                 ),\n",
    "                   #text=str(countryCodeMap[node]),\n",
    "                   text=str(node),\n",
    "                   hoverinfo='text',\n",
    "                   opacity=0.7\n",
    "                   )\n",
    "        )"
   ]
  },
  {
   "cell_type": "code",
   "execution_count": null,
   "metadata": {
    "collapsed": true
   },
   "outputs": [],
   "source": [
    "axis=dict(showbackground=False,\n",
    "          showline=False,\n",
    "          zeroline=False,\n",
    "          showgrid=True,\n",
    "          showticklabels=False,\n",
    "          title=''\n",
    "          )"
   ]
  },
  {
   "cell_type": "code",
   "execution_count": null,
   "metadata": {
    "collapsed": true
   },
   "outputs": [],
   "source": [
    "layout = Layout(\n",
    "         title=\"Global Weapontrade\",\n",
    "         width=800,\n",
    "         height=800,\n",
    "         showlegend=False,\n",
    "         scene=Scene(\n",
    "             xaxis=XAxis(axis),\n",
    "             yaxis=YAxis(axis),\n",
    "             zaxis=ZAxis(axis),\n",
    "        ),\n",
    "    margin=Margin(\n",
    "        t=100\n",
    "    ),\n",
    "    hovermode='closest',\n",
    "    annotations=Annotations([\n",
    "           Annotation(\n",
    "           showarrow=False,\n",
    "            text=\"SIPRI\",\n",
    "            xref='paper',\n",
    "            yref='paper',\n",
    "            x=0,\n",
    "            y=0.1,\n",
    "            xanchor='left',\n",
    "            yanchor='bottom',\n",
    "            font=Font(\n",
    "                size=14\n",
    "            )\n",
    "            )\n",
    "        ]),\n",
    ")\n"
   ]
  },
  {
   "cell_type": "code",
   "execution_count": null,
   "metadata": {
    "collapsed": false
   },
   "outputs": [],
   "source": [
    "#data=Data(trace1+trace2)\n",
    "#fig=Figure(data=data, layout=layout)\n",
    "\n",
    "#py.iplot(fig, filename='Weapontrade')"
   ]
  },
  {
   "cell_type": "code",
   "execution_count": null,
   "metadata": {
    "collapsed": true
   },
   "outputs": [],
   "source": [
    "test = createNeighbourGraph(G, 'Germany (FRG)')"
   ]
  },
  {
   "cell_type": "code",
   "execution_count": null,
   "metadata": {
    "collapsed": false
   },
   "outputs": [],
   "source": [
    "plt.gcf().clear()\n",
    "nx.draw(test,node_size=40, alpha=0.3, node_color=\"blue\", with_labels=True)\n",
    "plt.show()\n",
    "plt.rcParams['figure.figsize'] = (9, 9)"
   ]
  },
  {
   "cell_type": "code",
   "execution_count": null,
   "metadata": {
    "collapsed": true
   },
   "outputs": [],
   "source": [
    "completeGraph = createYearMultiDiGraph(CompleteDict, '1990')"
   ]
  },
  {
   "cell_type": "code",
   "execution_count": null,
   "metadata": {
    "collapsed": false
   },
   "outputs": [],
   "source": [
    "plt.gcf().clear()\n",
    "nx.draw(completeGraph,node_size=40, alpha=0.3, node_color=\"blue\", with_labels=False)\n",
    "plt.show()\n",
    "plt.rcParams['figure.figsize'] = (9, 9)"
   ]
  },
  {
   "cell_type": "code",
   "execution_count": null,
   "metadata": {
    "collapsed": false
   },
   "outputs": [],
   "source": [
    "#completeGraph.edges(data = True)"
   ]
  },
  {
   "cell_type": "code",
   "execution_count": null,
   "metadata": {
    "collapsed": true
   },
   "outputs": [],
   "source": [
    "## Analyze countries influence over time"
   ]
  },
  {
   "cell_type": "markdown",
   "metadata": {
    "collapsed": false
   },
   "source": [
    "def influenceOverTime(countrydict,country):\n",
    "    influence = dict()\n",
    "    for year in countrydict:\n",
    "        G = createYearGraph(countrydict, year)\n",
    "        valuethisyear = 0\n",
    "        for entry in nx.betweenness_centrality(G).items():\n",
    "            if entry[0] == country:\n",
    "                valuethisyear = entry[1]\n",
    "        influence[year] = valuethisyear\n",
    "    return influence"
   ]
  },
  {
   "cell_type": "markdown",
   "metadata": {},
   "source": [
    "# Influence Analysis"
   ]
  },
  {
   "cell_type": "code",
   "execution_count": null,
   "metadata": {
    "collapsed": false
   },
   "outputs": [],
   "source": [
    "from bokeh.plotting import figure, output_notebook, show\n",
    "from bokeh.io import output_notebook\n",
    "\n",
    "from bokeh.models import ColumnDataSource,HoverTool\n",
    "output_notebook()"
   ]
  },
  {
   "cell_type": "code",
   "execution_count": null,
   "metadata": {
    "collapsed": false
   },
   "outputs": [],
   "source": [
    "def influenceOverTimeAll(countrydict):\n",
    "    influenceAll = dict()\n",
    "    for year in countrydict:\n",
    "        G = createYearGraph(countrydict, year)\n",
    "        for entry in nx.betweenness_centrality(G).items():\n",
    "            if entry[0] in influenceAll:\n",
    "                influenceAll[entry[0]][year] = entry[1]\n",
    "            else:\n",
    "                influenceAll.setdefault(entry[0], dict())\n",
    "                influenceAll[entry[0]][year] = entry[1]\n",
    "    return influenceAll"
   ]
  },
  {
   "cell_type": "code",
   "execution_count": null,
   "metadata": {
    "collapsed": false
   },
   "outputs": [],
   "source": [
    "def generateInfluenceTimelines(plot,influencedict, countries):\n",
    "    from bokeh.palettes import Spectral10\n",
    "    d = dict(x=[], y=[],country=[], color=[])\n",
    "    color = copy.copy(Spectral10)\n",
    "    for country in countries:\n",
    "        countrycolor = color[0]\n",
    "        color.remove(countrycolor)\n",
    "        line = dict(xe=[], ye=[])\n",
    "        for entry in sorted(influencedict[country].items(), key=operator.itemgetter(0)):\n",
    "            d['x'].append(entry[0])\n",
    "            d['y'].append(entry[1])\n",
    "            d['country'].append(country)\n",
    "            d['color'].append(countrycolor)\n",
    "            line['xe'].append(entry[0])\n",
    "            line['ye'].append(entry[1])\n",
    "        plot.line(line['xe'], line['ye'], color=countrycolor)\n",
    "    \n",
    "    s1 = plot.scatter('x', 'y', line_width=1, color = 'color', source=ColumnDataSource(d))\n",
    "    plot.add_tools(HoverTool(renderers=[s1], tooltips=[('node centrality','@y'),\n",
    "                                                    ('year','@x'),\n",
    "                                                    ('country','@country')]))\n",
    "\n",
    "    return plot"
   ]
  },
  {
   "cell_type": "code",
   "execution_count": null,
   "metadata": {
    "collapsed": false
   },
   "outputs": [],
   "source": []
  },
  {
   "cell_type": "code",
   "execution_count": null,
   "metadata": {
    "collapsed": false
   },
   "outputs": [],
   "source": [
    "influencedict = influenceOverTimeAll(AddedUpDict)\n",
    "\n",
    "\n",
    "plot = figure(plot_width=600, plot_height=400, tools=['pan','tap','box_zoom','reset','wheel_zoom'])\n",
    "\n",
    "countriestoanalyze = ['Canada', 'United States', 'China']\n",
    "\n",
    "plot = generateInfluenceTimelines(plot,influencedict,countriestoanalyze)\n"
   ]
  },
  {
   "cell_type": "code",
   "execution_count": null,
   "metadata": {
    "collapsed": false
   },
   "outputs": [],
   "source": [
    "plot.yaxis.bounds = [0,1]\n",
    "plot.xaxis.bounds = [1950,2015]\n",
    "plot.x_range.start =1950\n",
    "plot.x_range.end =2015\n",
    "plot.y_range.start =0\n",
    "plot.y_range.end =1\n",
    "show(plot)\n"
   ]
  },
  {
   "cell_type": "markdown",
   "metadata": {},
   "source": [
    "## New Visualization"
   ]
  },
  {
   "cell_type": "code",
   "execution_count": null,
   "metadata": {
    "collapsed": true
   },
   "outputs": [],
   "source": [
    "from math import sqrt\n",
    "from bokeh.models import ColumnDataSource"
   ]
  },
  {
   "cell_type": "code",
   "execution_count": null,
   "metadata": {
    "collapsed": false
   },
   "outputs": [],
   "source": [
    "from bokeh.plotting import figure,show\n",
    "from bokeh.io import output_notebook\n",
    "from bokeh.models import HoverTool\n",
    "\n",
    "output_notebook()\n",
    "layout = nx.spring_layout(G,iterations = 100)"
   ]
  },
  {
   "cell_type": "code",
   "execution_count": null,
   "metadata": {
    "collapsed": true
   },
   "outputs": [],
   "source": [
    "def get_nodes_specs(_network, _layout):\n",
    "    d = dict(x=[], y=[], color=[], country=[], size=[], totaltrade =[], cluster=[], alpha=[], largestpartner=[])\n",
    "    \n",
    "    for node in _network.nodes():\n",
    "        totaltrade = 0\n",
    "        largest_trade_partner_trade = 0\n",
    "        largest_trade_partner_name = ''  \n",
    "        \n",
    "        for edge in G.edges(data=True):\n",
    "                if edge[0] == node or edge[1] == node:\n",
    "                    totaltrade += edge[2].values()[0]\n",
    "                    if edge[2].values()[0] >= largest_trade_partner_trade:\n",
    "                        largest_trade_partner_trade = edge[2].values()[0]\n",
    "                        if edge[0] == node:\n",
    "                            largest_trade_partner_name = edge[1]\n",
    "                        else:\n",
    "                            largest_trade_partner_name = edge[0] \n",
    "\n",
    "        d['x'].append(_layout[node][0])\n",
    "        d['y'].append(_layout[node][1])\n",
    "        d['color'].append(colormap[partition[node]])\n",
    "        d['country'].append(node)\n",
    "        d['size'].append(np.log(totaltrade))\n",
    "        d['totaltrade'].append(totaltrade)\n",
    "        d['cluster'].append(partition[node])\n",
    "        d['alpha'].append(0.7)\n",
    "        d['largestpartner'].append(largest_trade_partner_name)\n",
    "    return d"
   ]
  },
  {
   "cell_type": "code",
   "execution_count": null,
   "metadata": {
    "collapsed": true
   },
   "outputs": [],
   "source": [
    "def get_edges_specs(_network, _layout):\n",
    "    d = dict(xs=[], ys=[], alphas=[], width=[])\n",
    "    weights = []\n",
    "    for u, v, data in _network.edges(data=True):\n",
    "        weights.append(data)\n",
    "    max_weight = max(weights).values()\n",
    "    calc_alpha = lambda h: 0.1 + 0.6 * (h / max_weight)\n",
    "    for u, v, data in _network.edges(data=True):\n",
    "        d['xs'].append([_layout[u][0], _layout[v][0]])\n",
    "        d['ys'].append([_layout[u][1], _layout[v][1]])\n",
    "        d['alphas'].append(calc_alpha(data['weight']))\n",
    "        d['width'].append(np.log(data.values()[0]))\n",
    "    \n",
    "    return d"
   ]
  },
  {
   "cell_type": "code",
   "execution_count": null,
   "metadata": {
    "collapsed": false
   },
   "outputs": [],
   "source": [
    "hover = HoverTool(tooltips=[('country','@country'),\n",
    "                            ('cluster','@cluster'),\n",
    "                            ('total trade','@totaltrade'),\n",
    "                            ('largest tradepartner', '@largestpartner')])\n",
    "\n",
    "plot = figure(plot_width=600, plot_height=400, tools=['pan','tap',hover,'box_zoom','reset','wheel_zoom'])\n",
    "\n",
    "r_circles = plot.circle('x','y', source=ColumnDataSource(get_nodes_specs(G, layout)), size='size', color='color', level='overlay')\n",
    "r_lines = plot.multi_line('xs', 'ys', line_width='width', alpha='alphas', color='navy', source=ColumnDataSource(get_edges_specs(G, layout)))\n"
   ]
  },
  {
   "cell_type": "code",
   "execution_count": null,
   "metadata": {
    "collapsed": false
   },
   "outputs": [],
   "source": [
    "show(plot)"
   ]
  },
  {
   "cell_type": "code",
   "execution_count": null,
   "metadata": {
    "collapsed": false
   },
   "outputs": [],
   "source": []
  },
  {
   "cell_type": "code",
   "execution_count": null,
   "metadata": {
    "collapsed": false
   },
   "outputs": [],
   "source": [
    "centrality =\\\n",
    "    nx.algorithms.centrality.betweenness_centrality(G)\n",
    "# first element are nodes again\n",
    "_, nodes_centrality = zip(*sorted(centrality.items()))\n",
    "max_centraliy = max(nodes_centrality)\n",
    "nodes_source.add([7 + 10 * t / max_centraliy\n",
    "                  for t in nodes_centrality],\n",
    "                 'centrality')"
   ]
  },
  {
   "cell_type": "code",
   "execution_count": null,
   "metadata": {
    "collapsed": true
   },
   "outputs": [],
   "source": [
    "partition = community.best_partition(G)\n",
    "p_, nodes_community = zip(*sorted(partition.items()))\n",
    "nodes_source.add(nodes_community, 'community')\n",
    "community_colors = ['#e41a1c','#377eb8', '#4daf4a','#984ea3','#ff7f00','#ffff33','#a65628', '#b3cde3','#ccebc5','#decbe4','#fed9a6','#ffffcc','#e5d8bd','#fddaec','#1b9e77','#d95f02','#7570b3','#e7298a','#66a61e','#e6ab02','#a6761d','#666666']\n",
    "nodes_source.add([community_colors[t % len(community_colors)]\n",
    "                  for t in nodes_community],\n",
    "                 'community_color')"
   ]
  },
  {
   "cell_type": "code",
   "execution_count": null,
   "metadata": {
    "collapsed": true
   },
   "outputs": [],
   "source": [
    "r_circles.glyph.size = 'centrality'\n",
    "r_circles.glyph.fill_color = 'community_color'"
   ]
  },
  {
   "cell_type": "code",
   "execution_count": null,
   "metadata": {
    "collapsed": false
   },
   "outputs": [],
   "source": [
    "ColumnDataSource.selected\n",
    "{\n",
    " # line or patch glyph selections\n",
    " '0d': {'get_view': {}, 'glyph': None,\n",
    "        'indices': []},\n",
    " # all other glyph selections\n",
    " '1d': {'indices': [73]},\n",
    " # [multi]line or patch selections\n",
    " '2d': {'indices': []}\n",
    "}"
   ]
  },
  {
   "cell_type": "code",
   "execution_count": null,
   "metadata": {
    "collapsed": true
   },
   "outputs": [],
   "source": [
    "def remove_node():\n",
    "    idx = nodes_source.selected['1d']['indices'][0]\n",
    "    \n",
    "    # update networkX network\n",
    "    node = nodes_source.data['name'][idx]\n",
    "    G.remove_node(node)\n",
    "    \n",
    "    # update layout\n",
    "    layout.pop(node)\n",
    "    \n",
    "    # update nodes ColumnDataSource\n",
    "    new_source_data = dict()\n",
    "    for column in nodes_source.column_names:\n",
    "        new_source_data[column] =\\\n",
    "        [e for i, e in enumerate(nodes_source.data[column])\n",
    "         if i != idx]\n",
    "    nodes_source.data = new_source_data\n",
    "\n",
    "    # update lines ColumnDataSource\n",
    "    lines_source.data = get_edges_specs(G, layout)"
   ]
  },
  {
   "cell_type": "code",
   "execution_count": null,
   "metadata": {
    "collapsed": false
   },
   "outputs": [],
   "source": []
  },
  {
   "cell_type": "code",
   "execution_count": null,
   "metadata": {
    "collapsed": true
   },
   "outputs": [],
   "source": [
    "# analyze weapon trade before/during/after conflict\n",
    "# weapon flow democratic vs republican leadership #germany\n"
   ]
  },
  {
   "cell_type": "code",
   "execution_count": null,
   "metadata": {
    "collapsed": true
   },
   "outputs": [],
   "source": []
  }
 ],
 "metadata": {
  "anaconda-cloud": {},
  "celltoolbar": "Raw Cell Format",
  "kernelspec": {
   "display_name": "Python [Root]",
   "language": "python",
   "name": "Python [Root]"
  },
  "language_info": {
   "codemirror_mode": {
    "name": "ipython",
    "version": 2
   },
   "file_extension": ".py",
   "mimetype": "text/x-python",
   "name": "python",
   "nbconvert_exporter": "python",
   "pygments_lexer": "ipython2",
   "version": "2.7.12"
  }
 },
 "nbformat": 4,
 "nbformat_minor": 0
}
