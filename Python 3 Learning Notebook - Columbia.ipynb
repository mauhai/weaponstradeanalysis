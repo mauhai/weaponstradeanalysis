{
 "cells": [
  {
   "cell_type": "code",
   "execution_count": 1,
   "metadata": {
    "collapsed": false
   },
   "outputs": [],
   "source": [
    "request_url='https://maps.googleapis.com/maps/api/geocode/json?address=3022+Broadway,+New+York,+NY'\n",
    "import requests\n",
    "response = requests.get(request_url).json()"
   ]
  },
  {
   "cell_type": "code",
   "execution_count": 2,
   "metadata": {
    "collapsed": false
   },
   "outputs": [
    {
     "data": {
      "text/plain": [
       "[{u'address_components': [{u'long_name': u'3022',\n",
       "    u'short_name': u'3022',\n",
       "    u'types': [u'street_number']},\n",
       "   {u'long_name': u'Broadway',\n",
       "    u'short_name': u'Broadway',\n",
       "    u'types': [u'route']},\n",
       "   {u'long_name': u'Upper Manhattan',\n",
       "    u'short_name': u'Upper Manhattan',\n",
       "    u'types': [u'neighborhood', u'political']},\n",
       "   {u'long_name': u'Manhattan',\n",
       "    u'short_name': u'Manhattan',\n",
       "    u'types': [u'political', u'sublocality', u'sublocality_level_1']},\n",
       "   {u'long_name': u'New York',\n",
       "    u'short_name': u'New York',\n",
       "    u'types': [u'locality', u'political']},\n",
       "   {u'long_name': u'New York County',\n",
       "    u'short_name': u'New York County',\n",
       "    u'types': [u'administrative_area_level_2', u'political']},\n",
       "   {u'long_name': u'New York',\n",
       "    u'short_name': u'NY',\n",
       "    u'types': [u'administrative_area_level_1', u'political']},\n",
       "   {u'long_name': u'United States',\n",
       "    u'short_name': u'US',\n",
       "    u'types': [u'country', u'political']},\n",
       "   {u'long_name': u'10027',\n",
       "    u'short_name': u'10027',\n",
       "    u'types': [u'postal_code']},\n",
       "   {u'long_name': u'6945',\n",
       "    u'short_name': u'6945',\n",
       "    u'types': [u'postal_code_suffix']}],\n",
       "  u'formatted_address': u'3022 Broadway, New York, NY 10027, USA',\n",
       "  u'geometry': {u'location': {u'lat': 40.8089292, u'lng': -73.9613646},\n",
       "   u'location_type': u'ROOFTOP',\n",
       "   u'viewport': {u'northeast': {u'lat': 40.8102781802915,\n",
       "     u'lng': -73.96001561970849},\n",
       "    u'southwest': {u'lat': 40.80758021970851, u'lng': -73.96271358029149}}},\n",
       "  u'place_id': u'ChIJyWjfuz_2wokRQ75fmtdrlN8',\n",
       "  u'types': [u'street_address']}]"
      ]
     },
     "execution_count": 2,
     "metadata": {},
     "output_type": "execute_result"
    }
   ],
   "source": [
    "response['results']"
   ]
  },
  {
   "cell_type": "code",
   "execution_count": 4,
   "metadata": {
    "collapsed": false
   },
   "outputs": [
    {
     "name": "stdout",
     "output_type": "stream",
     "text": [
      "status\n",
      "results\n"
     ]
    }
   ],
   "source": [
    "for key in response:\n",
    "    print(key)"
   ]
  },
  {
   "cell_type": "code",
   "execution_count": null,
   "metadata": {
    "collapsed": true
   },
   "outputs": [],
   "source": [
    "import gmplot"
   ]
  },
  {
   "cell_type": "code",
   "execution_count": 7,
   "metadata": {
    "collapsed": true
   },
   "outputs": [],
   "source": [
    "first_response = response['results'][0]"
   ]
  },
  {
   "cell_type": "code",
   "execution_count": 8,
   "metadata": {
    "collapsed": false
   },
   "outputs": [
    {
     "data": {
      "text/plain": [
       "40.8089292"
      ]
     },
     "execution_count": 8,
     "metadata": {},
     "output_type": "execute_result"
    }
   ],
   "source": [
    "lat = first_response['geometry']['location']['lat']"
   ]
  },
  {
   "cell_type": "code",
   "execution_count": 10,
   "metadata": {
    "collapsed": true
   },
   "outputs": [],
   "source": [
    "long = first_response['geometry']['location']['lng']"
   ]
  },
  {
   "cell_type": "code",
   "execution_count": 11,
   "metadata": {
    "collapsed": false
   },
   "outputs": [],
   "source": [
    "import requests\n",
    "def get_lat_long(adress):\n",
    "    search_adress = '+'.join(adress.split())\n",
    "    base_url = 'https://maps.googleapis.com/maps/api/geocode/json?address='\n",
    "    requests_url = base_url+request_url\n",
    "    response = requests.get(request_url).json()['results'][0]\n",
    "    lat = response['geometry']['location']['lat']\n",
    "    long = response['geometry']['location']['long']\n",
    "    "
   ]
  },
  {
   "cell_type": "code",
   "execution_count": null,
   "metadata": {
    "collapsed": true
   },
   "outputs": [],
   "source": []
  }
 ],
 "metadata": {
  "anaconda-cloud": {},
  "kernelspec": {
   "display_name": "Python [Root]",
   "language": "python",
   "name": "Python [Root]"
  },
  "language_info": {
   "codemirror_mode": {
    "name": "ipython",
    "version": 2
   },
   "file_extension": ".py",
   "mimetype": "text/x-python",
   "name": "python",
   "nbconvert_exporter": "python",
   "pygments_lexer": "ipython2",
   "version": "2.7.12"
  }
 },
 "nbformat": 4,
 "nbformat_minor": 0
}
