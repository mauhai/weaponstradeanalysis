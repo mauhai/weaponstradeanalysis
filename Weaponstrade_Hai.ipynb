{
 "cells": [
  {
   "cell_type": "code",
   "execution_count": null,
   "metadata": {
    "collapsed": true
   },
   "outputs": [],
   "source": [
    "## DISPLAY ALL nodes and edges, but remove those which are not in the filter (see movies)"
   ]
  },
  {
   "cell_type": "code",
   "execution_count": 1,
   "metadata": {
    "collapsed": true
   },
   "outputs": [],
   "source": []
  },
  {
   "cell_type": "markdown",
   "metadata": {},
   "source": [
    "    Who are the suppliers and recipients of major conventional weapons?\n",
    "    What weapons have been exported or imported by specific suppliers or recipients?\n",
    "    How have the relationships between different suppliers and recipients changed over time?\n",
    "    Where do countries in conflict get their weapons from?\n",
    "    How do states implement their export control regulations?\n",
    "    Where are potentially destabilizing build ups of weapons occurring?\n",
    "    What is the relationship between access to natural resources and arms transfers?"
   ]
  },
  {
   "cell_type": "markdown",
   "metadata": {},
   "source": [
    "Ideas for Data dashboard:\n",
    "\n",
    "Able to select graph and look at data inflow and outflow of each country during that time"
   ]
  },
  {
   "cell_type": "code",
   "execution_count": 2,
   "metadata": {
    "collapsed": false
   },
   "outputs": [],
   "source": [
    "import pandas as pd\n",
    "import numpy as np\n",
    "import os\n",
    "import networkx as nx\n",
    "import operator\n",
    "import matplotlib.pyplot as plt\n",
    "import community\n",
    "%matplotlib inline  \n",
    "import plotly\n",
    "from plotly.graph_objs import *\n",
    "import plotly.plotly as py\n",
    "import math\n"
   ]
  },
  {
   "cell_type": "code",
   "execution_count": 3,
   "metadata": {
    "collapsed": true
   },
   "outputs": [],
   "source": [
    "import copy"
   ]
  },
  {
   "cell_type": "markdown",
   "metadata": {},
   "source": [
    "# 1) Importing and linking the data\n",
    "\n",
    "## 1.1) Reading the CSV files into seperate clean panda dataframes"
   ]
  },
  {
   "cell_type": "code",
   "execution_count": 4,
   "metadata": {
    "collapsed": false
   },
   "outputs": [],
   "source": [
    "def loadTable(directory, country_code):\n",
    "    path = directory+'TIV-Import-'+country_code+'-1950-2015.csv'\n",
    "    df = pd.read_csv(path)\n",
    "    \n",
    "    #extract current country\n",
    "    to_country = df.columns.values.tolist()[0].split('TIV of arms exports to ')[1].split(', 1950-2015')[0]\n",
    "    \n",
    "    #downsize\n",
    "    df = df.ix[9:]\n",
    "    \n",
    "    #get rid of column\n",
    "    df = df.drop(df.columns[[0]],axis =1)\n",
    "    df.columns = df.iloc[0]\n",
    "    df.columns.values[0] = 'country'\n",
    "    df = df.set_index((df['country']))\n",
    "    df = df.drop(df.columns[0], axis=1)\n",
    "    \n",
    "    #take the data less the header row\n",
    "    df = df[1:] \n",
    "    df.index.name = None #credit to ulynn\n",
    "    df.columns.name = None\n",
    "    \n",
    "    # Format of the keys should be YEAR - COUNTRYFROM - COUNTRYTO --> Faster query over the years\n",
    "\n",
    "    df.columns = df.columns.astype('str').str.replace('\\.0','')\n",
    "        \n",
    "    df.fillna(0, inplace=True)\n",
    "    try:\n",
    "        df.drop(df.loc['Unknown country'].name,inplace=True)\n",
    "    except:\n",
    "        \"\"\n",
    "        \n",
    "    #last cleansing\n",
    "    df.drop(df.index[[-1,-2]],inplace=True)\n",
    "    df.drop(df.columns[-1], axis=1,inplace=True)\n",
    "\n",
    "    return df, to_country"
   ]
  },
  {
   "cell_type": "markdown",
   "metadata": {},
   "source": [
    "## 1.2) Convert one pandas dataframe into a structured dict"
   ]
  },
  {
   "cell_type": "code",
   "execution_count": 5,
   "metadata": {
    "collapsed": false
   },
   "outputs": [],
   "source": [
    "#FORMAT\n",
    "#[YEARS][FROM][TO] = MONEY\n",
    "def convertTableToDict(df, onecountrydict, countryTo):\n",
    "    years = list(df.columns.values)\n",
    "    countries = list(df.index)\n",
    "    \n",
    "    for year in years:\n",
    "        onecountrydict.setdefault(year, dict())\n",
    "        onecountrydict[year].setdefault(countryTo, dict())\n",
    "        \n",
    "        for country in countries:\n",
    "            value = df.get_value(country, year)\n",
    "            onecountrydict[year][countryTo].setdefault(country, value)\n",
    "            \n",
    "    return onecountrydict"
   ]
  },
  {
   "cell_type": "code",
   "execution_count": 6,
   "metadata": {
    "collapsed": true
   },
   "outputs": [],
   "source": [
    "#delete empty cells from dict\n",
    "\n",
    "def clean_empty(d):\n",
    "    if not isinstance(d, (dict, list)): #dictionairy or list\n",
    "        return d\n",
    "    if isinstance(d, list): \n",
    "        return [v for v in (clean_empty(v) for v in d) if v] #list comprehension\n",
    "    return {k: v for k, v in ((k, clean_empty(v)) for k, v in d.items()) if v}\n"
   ]
  },
  {
   "cell_type": "code",
   "execution_count": 7,
   "metadata": {
    "collapsed": false
   },
   "outputs": [],
   "source": [
    "countryImportDict = dict()\n",
    "PATH = '/Users/hai/Devproj/weaponstradeanalysis/data/'\n",
    "\n",
    "countryCodeMap = dict()\n",
    "\n",
    "for f in os.listdir(PATH):\n",
    "    if not f.startswith('.'):\n",
    "        if \"country_codes.csv\" not in f:\n",
    "            countryCode = f.replace('TIV-Import-',\"\").replace('-1950-2015.csv', \"\")\n",
    "            df,to_country = loadTable(PATH, countryCode)\n",
    "            countryImportDict = convertTableToDict(df, countryImportDict, to_country)\n",
    "            countryCodeMap.setdefault(to_country, countryCode)\n",
    "\n",
    "countryImportDict = clean_empty(countryImportDict)\n",
    "\n",
    "MultiDiDict = dict()\n",
    "for year in countryImportDict:\n",
    "    MultiDiDict.setdefault(year, dict())\n",
    "    for countryImport in countryImportDict[year]:\n",
    "        for countryExport in countryImportDict[year][countryImport]:\n",
    "            MultiDiDict[year].setdefault(countryExport, dict())\n",
    "            MultiDiDict[year][countryExport].setdefault(countryImport, 0)\n",
    "            MultiDiDict[year][countryExport][countryImport] += countryImportDict[year][countryImport][countryExport]"
   ]
  },
  {
   "cell_type": "code",
   "execution_count": 8,
   "metadata": {
    "collapsed": false
   },
   "outputs": [],
   "source": [
    "df = pd.DataFrame.from_dict(countryCodeMap, orient=\"index\")\n",
    "df.sort_index(inplace=True)\n",
    "df.to_csv('countrymap.csv')\n"
   ]
  },
  {
   "cell_type": "code",
   "execution_count": null,
   "metadata": {
    "collapsed": true
   },
   "outputs": [],
   "source": []
  },
  {
   "cell_type": "markdown",
   "metadata": {},
   "source": [
    "# read weapon expenditure data from SIPRI beta dataset"
   ]
  },
  {
   "cell_type": "markdown",
   "metadata": {},
   "source": [
    "## Read table into dataframe"
   ]
  },
  {
   "cell_type": "code",
   "execution_count": 9,
   "metadata": {
    "collapsed": false
   },
   "outputs": [],
   "source": [
    "militaryexpdf = pd.read_excel('/Users/hai/Devproj/weaponstradeanalysis/newdata/SIPRI extended milex database beta/Constant USD Beta.xlsx')\n",
    "militaryexpdf = militaryexpdf.iloc[2:175, 2:]\n",
    "militaryexpdf.columns = militaryexpdf.iloc[0]\n",
    "militaryexpdf.columns.values[0] = 'Country'\n",
    "militaryexpdf = militaryexpdf.set_index((militaryexpdf['Country']))\n",
    "militaryexpdf = militaryexpdf.drop(militaryexpdf.columns[0], axis=1)\n",
    "militaryexpdf = militaryexpdf[1:] \n",
    "militaryexpdf.index.name = None #credit to ulynn\n",
    "militaryexpdf.columns.name = None\n",
    "militaryexpdf.drop(['Montenegro'], inplace = True)\n",
    "\n",
    "\n",
    "namecorrectionmapping = pd.read_csv('/Users/hai/Devproj/weaponstradeanalysis/countrymapping.csv', delimiter = ';', header = None)\n",
    "namecorrectionmapping.columns = ['countrycode','newname', 'oldname']\n",
    "\n",
    "namecorrectionmapping.set_index((namecorrectionmapping['oldname']), inplace = True)\n",
    "namecorrectionmapping.drop(namecorrectionmapping.columns[[0,2]], axis=1, inplace = True)\n",
    "namecorrectionmapping.index.name = None\n",
    "namemappingdict = namecorrectionmapping.to_dict()\n",
    "\n",
    "\n",
    "from decimal import Decimal\n",
    "\n",
    "\n",
    "def convertmilitaryexpTableToDict(df,namemapping):\n",
    "    years = list(df.columns.values)\n",
    "    countries = list(df.index)\n",
    "    militaryexpdict = dict()\n",
    "    for year in years:\n",
    "        militaryexpdict.setdefault(str(year), dict())\n",
    "        for country in countries:\n",
    "            value = df.get_value(country, year)\n",
    "            if isinstance(value,float):\n",
    "                value = round(Decimal(value * 0.5520917815626),1) #inflation correction from constant 2014 to constant 1990\n",
    "            militaryexpdict[str(year)].setdefault((namemapping['newname'][country]), value)\n",
    "    return militaryexpdict\n",
    "\n",
    "militaryexpdict = convertmilitaryexpTableToDict(militaryexpdf, namemappingdict)"
   ]
  },
  {
   "cell_type": "markdown",
   "metadata": {},
   "source": [
    "## use the manually created table to synchronize countries"
   ]
  },
  {
   "cell_type": "code",
   "execution_count": 10,
   "metadata": {
    "collapsed": false
   },
   "outputs": [],
   "source": [
    "excludedentities = pd.read_csv('excludedcountries.csv', delimiter=';', header = None)\n",
    "excludedentities.columns = ['Name','Code']\n",
    "excludedentities.set_index((excludedentities['Name']), inplace = True)\n",
    "excludedentities.drop(excludedentities.columns[[0]], axis=1, inplace = True)\n",
    "excludedentities.index.name = None\n",
    "excludedentities = excludedentities.index\n"
   ]
  },
  {
   "cell_type": "code",
   "execution_count": 11,
   "metadata": {
    "collapsed": true
   },
   "outputs": [],
   "source": [
    "def clean_noncountries(d):\n",
    "    if not isinstance(d, (dict)): #dictionairy or list\n",
    "        return d\n",
    "    return {k: v for k, v in ((k, clean_noncountries(v)) for k, v in d.items()) if k not in excludedentities}"
   ]
  },
  {
   "cell_type": "code",
   "execution_count": null,
   "metadata": {
    "collapsed": false
   },
   "outputs": [],
   "source": []
  },
  {
   "cell_type": "markdown",
   "metadata": {},
   "source": [
    "## Analysis function"
   ]
  },
  {
   "cell_type": "code",
   "execution_count": 12,
   "metadata": {
    "collapsed": true
   },
   "outputs": [],
   "source": [
    "def createNeighbourGraph(G, node):\n",
    "    \n",
    "    newGraph = nx.Graph()\n",
    "    \n",
    "    for edge in G.edges(data=True):\n",
    "        if edge[0] == node or edge[1] == node:\n",
    "            newGraph.add_edge(edge[0],edge[1],edge[2])\n",
    "    \n",
    "    return newGraph"
   ]
  },
  {
   "cell_type": "code",
   "execution_count": 13,
   "metadata": {
    "collapsed": false
   },
   "outputs": [],
   "source": [
    "# most fucked up function\n",
    "\n",
    "def addUpDict(MasterDict):\n",
    "\n",
    "    SomethingsOverwrittenDict = copy.deepcopy(MasterDict)\n",
    "\n",
    "    AddedUpDict = dict()\n",
    "\n",
    "    for year in SomethingsOverwrittenDict:\n",
    "        AddedUpDict.setdefault(year, dict())\n",
    "        for countryExport in SomethingsOverwrittenDict[year]:\n",
    "            for countryImport in SomethingsOverwrittenDict[year][countryExport]:\n",
    "                AddedUpDict[year].setdefault(countryExport, dict())\n",
    "                AddedUpDict[year][countryExport].setdefault(countryImport, 0)\n",
    "                Richtung = SomethingsOverwrittenDict[year][countryExport][countryImport]\n",
    "                #andere richtung verfügbar?\n",
    "                if countryImport in SomethingsOverwrittenDict[year]:\n",
    "                    if countryExport in SomethingsOverwrittenDict[year][countryImport]:\n",
    "                        andereRichtung = SomethingsOverwrittenDict[year][countryImport][countryExport]\n",
    "                    else: andereRichtung = 0\n",
    "                else: andereRichtung = 0\n",
    "                \n",
    "                #Transmitting stuff into the AddedUpDict\n",
    "                if (Richtung + andereRichtung) != 0:\n",
    "                    AddedUpDict[year][countryExport][countryImport] = Richtung + andereRichtung\n",
    "\n",
    "                #\"Clearing the MasterDict\"\n",
    "                SomethingsOverwrittenDict[year][countryExport][countryImport] = 0\n",
    "\n",
    "                if countryImport in SomethingsOverwrittenDict[year]:\n",
    "                    if countryExport in SomethingsOverwrittenDict[year][countryImport]:\n",
    "                        SomethingsOverwrittenDict[year][countryImport][countryExport] = 0\n",
    "    \n",
    "    return AddedUpDict"
   ]
  },
  {
   "cell_type": "code",
   "execution_count": 14,
   "metadata": {
    "collapsed": true
   },
   "outputs": [],
   "source": [
    "def createYearGraph(AddedUpDict, year, militaryexpdict):\n",
    "    \n",
    "    G = nx.Graph()    \n",
    "    for countryExport in AddedUpDict[year]:\n",
    "        for countryImport in AddedUpDict[year][countryExport]:\n",
    "            if AddedUpDict[year][countryExport][countryImport] != 0:\n",
    "                G.add_weighted_edges_from([(countryExport,countryImport,AddedUpDict[year][countryExport][countryImport])])\n",
    "    \n",
    "    for node in G.nodes_iter():\n",
    "        if node in militaryexpdict[year]:\n",
    "            G.node[node]['military expenditure'] = militaryexpdict[year][node]\n",
    "        else:\n",
    "            G.node[node]['military expenditure'] = 'no data'\n",
    "    \n",
    "    return G"
   ]
  },
  {
   "cell_type": "code",
   "execution_count": 15,
   "metadata": {
    "collapsed": true
   },
   "outputs": [],
   "source": [
    "def createYearMultiDiGraph(AddedUpDict, year,militaryexpdict):\n",
    "    \n",
    "    G = nx.MultiDiGraph()    \n",
    "    for countryExport in AddedUpDict[year]:\n",
    "        for countryImport in AddedUpDict[year][countryExport]:\n",
    "            if AddedUpDict[year][countryExport][countryImport] != 0:\n",
    "                G.add_weighted_edges_from([(countryExport,countryImport,AddedUpDict[year][countryExport][countryImport])])\n",
    "    \n",
    "    for node in G.nodes_iter():\n",
    "        if node in militaryexpdict[year]:\n",
    "            G.node[node]['military expenditure'] = militaryexpdict[year][node]\n",
    "        else:\n",
    "            G.node[node]['military expenditure'] = 'no data'\n",
    "    \n",
    "    return G"
   ]
  },
  {
   "cell_type": "code",
   "execution_count": null,
   "metadata": {
    "collapsed": false
   },
   "outputs": [],
   "source": []
  },
  {
   "cell_type": "code",
   "execution_count": null,
   "metadata": {
    "collapsed": false
   },
   "outputs": [],
   "source": []
  },
  {
   "cell_type": "code",
   "execution_count": 16,
   "metadata": {
    "collapsed": true
   },
   "outputs": [],
   "source": [
    "MultiDiDict = clean_empty(clean_noncountries(MultiDiDict))\n",
    "AddedUpDict = clean_empty(clean_noncountries(addUpDict(MultiDiDict)))\n",
    "\n",
    "year = '1960'\n",
    "\n",
    "multigraph = createYearMultiDiGraph(MultiDiDict, year ,militaryexpdict)\n",
    "mastergraph = createYearGraph(AddedUpDict, year , militaryexpdict)"
   ]
  },
  {
   "cell_type": "code",
   "execution_count": 17,
   "metadata": {
    "collapsed": false
   },
   "outputs": [
    {
     "data": {
      "text/plain": [
       "[('United States', 0.20526553677553744),\n",
       " ('Soviet Union', 0.10478705583233927),\n",
       " ('United Kingdom', 0.08429183389558412),\n",
       " ('Germany (FRG)', 0.06702907888030331),\n",
       " ('France', 0.05295981179707184),\n",
       " ('China', 0.03559242890220521),\n",
       " ('Japan', 0.02651695216565388),\n",
       " ('Switzerland', 0.02156040057991938),\n",
       " ('India', 0.01978686378117994),\n",
       " ('Turkey', 0.018682580022232508)]"
      ]
     },
     "execution_count": 17,
     "metadata": {},
     "output_type": "execute_result"
    }
   ],
   "source": [
    "sorted(nx.pagerank_numpy(mastergraph).items(), key=operator.itemgetter(1), reverse=True)[:10]"
   ]
  },
  {
   "cell_type": "code",
   "execution_count": 18,
   "metadata": {
    "collapsed": false
   },
   "outputs": [
    {
     "data": {
      "text/html": [
       "\n",
       "    <div class=\"bk-root\">\n",
       "        <a href=\"http://bokeh.pydata.org\" target=\"_blank\" class=\"bk-logo bk-logo-small bk-logo-notebook\"></a>\n",
       "        <span id=\"7471be8c-a6eb-406c-a0fc-93f7a9a5a616\">Loading BokehJS ...</span>\n",
       "    </div>"
      ]
     },
     "metadata": {},
     "output_type": "display_data"
    },
    {
     "data": {
      "application/javascript": [
       "\n",
       "(function(global) {\n",
       "  function now() {\n",
       "    return new Date();\n",
       "  }\n",
       "\n",
       "  if (typeof (window._bokeh_onload_callbacks) === \"undefined\") {\n",
       "    window._bokeh_onload_callbacks = [];\n",
       "  }\n",
       "\n",
       "  function run_callbacks() {\n",
       "    window._bokeh_onload_callbacks.forEach(function(callback) { callback() });\n",
       "    delete window._bokeh_onload_callbacks\n",
       "    console.info(\"Bokeh: all callbacks have finished\");\n",
       "  }\n",
       "\n",
       "  function load_libs(js_urls, callback) {\n",
       "    window._bokeh_onload_callbacks.push(callback);\n",
       "    if (window._bokeh_is_loading > 0) {\n",
       "      console.log(\"Bokeh: BokehJS is being loaded, scheduling callback at\", now());\n",
       "      return null;\n",
       "    }\n",
       "    if (js_urls == null || js_urls.length === 0) {\n",
       "      run_callbacks();\n",
       "      return null;\n",
       "    }\n",
       "    console.log(\"Bokeh: BokehJS not loaded, scheduling load and callback at\", now());\n",
       "    window._bokeh_is_loading = js_urls.length;\n",
       "    for (var i = 0; i < js_urls.length; i++) {\n",
       "      var url = js_urls[i];\n",
       "      var s = document.createElement('script');\n",
       "      s.src = url;\n",
       "      s.async = false;\n",
       "      s.onreadystatechange = s.onload = function() {\n",
       "        window._bokeh_is_loading--;\n",
       "        if (window._bokeh_is_loading === 0) {\n",
       "          console.log(\"Bokeh: all BokehJS libraries loaded\");\n",
       "          run_callbacks()\n",
       "        }\n",
       "      };\n",
       "      s.onerror = function() {\n",
       "        console.warn(\"failed to load library \" + url);\n",
       "      };\n",
       "      console.log(\"Bokeh: injecting script tag for BokehJS library: \", url);\n",
       "      document.getElementsByTagName(\"head\")[0].appendChild(s);\n",
       "    }\n",
       "  };\n",
       "\n",
       "  var js_urls = ['https://cdn.pydata.org/bokeh/release/bokeh-0.12.0.min.js', 'https://cdn.pydata.org/bokeh/release/bokeh-widgets-0.12.0.min.js', 'https://cdn.pydata.org/bokeh/release/bokeh-compiler-0.12.0.min.js'];\n",
       "\n",
       "  var inline_js = [\n",
       "    function(Bokeh) {\n",
       "      Bokeh.set_log_level(\"info\");\n",
       "    },\n",
       "    \n",
       "    function(Bokeh) {\n",
       "      Bokeh.$(\"#7471be8c-a6eb-406c-a0fc-93f7a9a5a616\").text(\"BokehJS successfully loaded\");\n",
       "    },\n",
       "    function(Bokeh) {\n",
       "      console.log(\"Bokeh: injecting CSS: https://cdn.pydata.org/bokeh/release/bokeh-0.12.0.min.css\");\n",
       "      Bokeh.embed.inject_css(\"https://cdn.pydata.org/bokeh/release/bokeh-0.12.0.min.css\");\n",
       "      console.log(\"Bokeh: injecting CSS: https://cdn.pydata.org/bokeh/release/bokeh-widgets-0.12.0.min.css\");\n",
       "      Bokeh.embed.inject_css(\"https://cdn.pydata.org/bokeh/release/bokeh-widgets-0.12.0.min.css\");\n",
       "    }\n",
       "  ];\n",
       "\n",
       "  function run_inline_js() {\n",
       "    for (var i = 0; i < inline_js.length; i++) {\n",
       "      inline_js[i](window.Bokeh);\n",
       "    }\n",
       "  }\n",
       "\n",
       "  if (window._bokeh_is_loading === 0) {\n",
       "    console.log(\"Bokeh: BokehJS loaded, going straight to plotting\");\n",
       "    run_inline_js();\n",
       "  } else {\n",
       "    load_libs(js_urls, function() {\n",
       "      console.log(\"Bokeh: BokehJS plotting callback run at\", now());\n",
       "      run_inline_js();\n",
       "    });\n",
       "  }\n",
       "}(this));"
      ]
     },
     "metadata": {},
     "output_type": "display_data"
    },
    {
     "data": {
      "text/html": [
       "\n",
       "\n",
       "    <div class=\"bk-root\">\n",
       "        <div class=\"plotdiv\" id=\"402ef052-280b-47ec-a383-ca396fa3a514\"></div>\n",
       "    </div>\n",
       "<script type=\"text/javascript\">\n",
       "  \n",
       "  (function(global) {\n",
       "    function now() {\n",
       "      return new Date();\n",
       "    }\n",
       "  \n",
       "    if (typeof (window._bokeh_onload_callbacks) === \"undefined\") {\n",
       "      window._bokeh_onload_callbacks = [];\n",
       "    }\n",
       "  \n",
       "    function run_callbacks() {\n",
       "      window._bokeh_onload_callbacks.forEach(function(callback) { callback() });\n",
       "      delete window._bokeh_onload_callbacks\n",
       "      console.info(\"Bokeh: all callbacks have finished\");\n",
       "    }\n",
       "  \n",
       "    function load_libs(js_urls, callback) {\n",
       "      window._bokeh_onload_callbacks.push(callback);\n",
       "      if (window._bokeh_is_loading > 0) {\n",
       "        console.log(\"Bokeh: BokehJS is being loaded, scheduling callback at\", now());\n",
       "        return null;\n",
       "      }\n",
       "      if (js_urls == null || js_urls.length === 0) {\n",
       "        run_callbacks();\n",
       "        return null;\n",
       "      }\n",
       "      console.log(\"Bokeh: BokehJS not loaded, scheduling load and callback at\", now());\n",
       "      window._bokeh_is_loading = js_urls.length;\n",
       "      for (var i = 0; i < js_urls.length; i++) {\n",
       "        var url = js_urls[i];\n",
       "        var s = document.createElement('script');\n",
       "        s.src = url;\n",
       "        s.async = false;\n",
       "        s.onreadystatechange = s.onload = function() {\n",
       "          window._bokeh_is_loading--;\n",
       "          if (window._bokeh_is_loading === 0) {\n",
       "            console.log(\"Bokeh: all BokehJS libraries loaded\");\n",
       "            run_callbacks()\n",
       "          }\n",
       "        };\n",
       "        s.onerror = function() {\n",
       "          console.warn(\"failed to load library \" + url);\n",
       "        };\n",
       "        console.log(\"Bokeh: injecting script tag for BokehJS library: \", url);\n",
       "        document.getElementsByTagName(\"head\")[0].appendChild(s);\n",
       "      }\n",
       "    };var element = document.getElementById(\"402ef052-280b-47ec-a383-ca396fa3a514\");\n",
       "    if (element == null) {\n",
       "      console.log(\"Bokeh: ERROR: autoload.js configured with elementid '402ef052-280b-47ec-a383-ca396fa3a514' but no matching script tag was found. \")\n",
       "      return false;\n",
       "    }\n",
       "  \n",
       "    var js_urls = [];\n",
       "  \n",
       "    var inline_js = [\n",
       "      function(Bokeh) {\n",
       "        Bokeh.$(function() {\n",
       "            var docs_json = {\"e069d151-7729-4272-848b-2328c825b8c8\":{\"roots\":{\"references\":[{\"attributes\":{\"callback\":null,\"column_names\":[\"line_color\",\"line_alpha\",\"color\",\"fill_alpha\",\"height\",\"width\",\"y\",\"x\",\"label\"],\"data\":{\"chart_index\":[{\"country\":\"United Kingdom\"}],\"color\":[\"#407ee7\"],\"country\":[\"United Kingdom\"],\"fill_alpha\":[0.8],\"height\":[0.005085972080354102],\"label\":[{\"country\":\"United Kingdom\"}],\"line_alpha\":[1.0],\"line_color\":[\"white\"],\"width\":[0.8],\"x\":[\"United Kingdom\"],\"y\":[0.002542986040177051]}},\"id\":\"357b6ffd-677f-44b0-ab6b-97ce7083c209\",\"type\":\"ColumnDataSource\"},{\"attributes\":{\"dimension\":1,\"plot\":{\"id\":\"41d27b39-c6ce-44d7-83b4-8d55bd5b4f5e\",\"subtype\":\"Chart\",\"type\":\"Plot\"},\"ticker\":{\"id\":\"2871eb38-ee67-40d0-905d-6e2b6b43eb7f\",\"type\":\"BasicTicker\"}},\"id\":\"a6b8a1c1-4fe5-43dc-a46b-85b7e4ff3b40\",\"type\":\"Grid\"},{\"attributes\":{\"plot\":{\"id\":\"41d27b39-c6ce-44d7-83b4-8d55bd5b4f5e\",\"subtype\":\"Chart\",\"type\":\"Plot\"}},\"id\":\"e54ec5cd-2665-4d44-b7fb-68a349628554\",\"type\":\"SaveTool\"},{\"attributes\":{\"callback\":null,\"column_names\":[\"line_color\",\"line_alpha\",\"color\",\"fill_alpha\",\"height\",\"width\",\"y\",\"x\",\"label\"],\"data\":{\"chart_index\":[{\"country\":\"Sweden\"}],\"color\":[\"#f22c40\"],\"country\":[\"Sweden\"],\"fill_alpha\":[0.8],\"height\":[0.0011491317671092952],\"label\":[{\"country\":\"Sweden\"}],\"line_alpha\":[1.0],\"line_color\":[\"white\"],\"width\":[0.8],\"x\":[\"Sweden\"],\"y\":[0.0005745658835546476]}},\"id\":\"1f983931-7a1f-4c93-a991-72093f8a03ea\",\"type\":\"ColumnDataSource\"},{\"attributes\":{},\"id\":\"aec22839-0bec-4e79-aacb-62f0ef59aa09\",\"type\":\"CategoricalTickFormatter\"},{\"attributes\":{\"axis_label\":\"Sum( Betweenness Centrality )\",\"formatter\":{\"id\":\"ad949ba5-df4b-461b-9db7-43cd32c74906\",\"type\":\"BasicTickFormatter\"},\"plot\":{\"id\":\"41d27b39-c6ce-44d7-83b4-8d55bd5b4f5e\",\"subtype\":\"Chart\",\"type\":\"Plot\"},\"ticker\":{\"id\":\"2871eb38-ee67-40d0-905d-6e2b6b43eb7f\",\"type\":\"BasicTicker\"}},\"id\":\"437ca387-b60a-401a-ad8a-e059169b6221\",\"type\":\"LinearAxis\"},{\"attributes\":{\"fill_alpha\":{\"field\":\"fill_alpha\"},\"fill_color\":{\"field\":\"color\"},\"height\":{\"field\":\"height\",\"units\":\"data\"},\"line_color\":{\"field\":\"line_color\"},\"width\":{\"field\":\"width\",\"units\":\"data\"},\"x\":{\"field\":\"x\"},\"y\":{\"field\":\"y\"}},\"id\":\"12d8b958-6862-41b9-8a3d-a778cb14b798\",\"type\":\"Rect\"},{\"attributes\":{\"callback\":null,\"column_names\":[\"line_color\",\"line_alpha\",\"color\",\"fill_alpha\",\"height\",\"width\",\"y\",\"x\",\"label\"],\"data\":{\"chart_index\":[{\"country\":\"France\"}],\"color\":[\"#5ab738\"],\"country\":[\"France\"],\"fill_alpha\":[0.8],\"height\":[0.007948161389172625],\"label\":[{\"country\":\"France\"}],\"line_alpha\":[1.0],\"line_color\":[\"white\"],\"width\":[0.8],\"x\":[\"France\"],\"y\":[0.003974080694586313]}},\"id\":\"9b87060f-1239-460f-a15d-28bffe5ad551\",\"type\":\"ColumnDataSource\"},{\"attributes\":{\"plot\":{\"id\":\"41d27b39-c6ce-44d7-83b4-8d55bd5b4f5e\",\"subtype\":\"Chart\",\"type\":\"Plot\"}},\"id\":\"7f37c67c-db99-424d-9db6-33be490c88dc\",\"type\":\"HelpTool\"},{\"attributes\":{\"fill_alpha\":{\"field\":\"fill_alpha\"},\"fill_color\":{\"field\":\"color\"},\"height\":{\"field\":\"height\",\"units\":\"data\"},\"line_color\":{\"field\":\"line_color\"},\"width\":{\"field\":\"width\",\"units\":\"data\"},\"x\":{\"field\":\"x\"},\"y\":{\"field\":\"y\"}},\"id\":\"0bbaf582-203b-4954-aabc-bbdea94e03a2\",\"type\":\"Rect\"},{\"attributes\":{\"data_source\":{\"id\":\"1f983931-7a1f-4c93-a991-72093f8a03ea\",\"type\":\"ColumnDataSource\"},\"glyph\":{\"id\":\"0bbaf582-203b-4954-aabc-bbdea94e03a2\",\"type\":\"Rect\"},\"hover_glyph\":null,\"nonselection_glyph\":null,\"selection_glyph\":null},\"id\":\"35539454-80bb-4d56-b95d-65afd362a4a3\",\"type\":\"GlyphRenderer\"},{\"attributes\":{\"data_source\":{\"id\":\"9b87060f-1239-460f-a15d-28bffe5ad551\",\"type\":\"ColumnDataSource\"},\"glyph\":{\"id\":\"9a2e40d3-37f6-4e7c-ade3-cab8728fb128\",\"type\":\"Rect\"},\"hover_glyph\":null,\"nonselection_glyph\":null,\"selection_glyph\":null},\"id\":\"40a696d2-e0a5-4960-bc0e-29ca3f2197ea\",\"type\":\"GlyphRenderer\"},{\"attributes\":{\"data_source\":{\"id\":\"34c8f8ca-cd63-482b-9316-4fa5f76ec60d\",\"type\":\"ColumnDataSource\"},\"glyph\":{\"id\":\"2d7deb66-b3f4-46c2-adfe-de8ccd0f46f0\",\"type\":\"Rect\"},\"hover_glyph\":null,\"nonselection_glyph\":null,\"selection_glyph\":null},\"id\":\"62311a8d-4331-4883-b0be-1b4b0bc0f6da\",\"type\":\"GlyphRenderer\"},{\"attributes\":{\"callback\":null,\"end\":0.019741126149131767},\"id\":\"88b860ba-4a28-409c-a448-fcfa2c5d0494\",\"type\":\"Range1d\"},{\"attributes\":{\"callback\":null,\"factors\":[\"Finland\",\"France\",\"Germany (FRG)\",\"Italy\",\"Soviet Union\",\"Spain\",\"Sweden\",\"Switzerland\",\"United Kingdom\",\"United States\"]},\"id\":\"448e1018-ea30-4641-a344-c81e15d5aca0\",\"type\":\"FactorRange\"},{\"attributes\":{\"fill_alpha\":{\"field\":\"fill_alpha\"},\"fill_color\":{\"field\":\"color\"},\"height\":{\"field\":\"height\",\"units\":\"data\"},\"line_color\":{\"field\":\"line_color\"},\"width\":{\"field\":\"width\",\"units\":\"data\"},\"x\":{\"field\":\"x\"},\"y\":{\"field\":\"y\"}},\"id\":\"9f84e664-774b-4712-86d8-5eac281f8ad0\",\"type\":\"Rect\"},{\"attributes\":{\"fill_alpha\":{\"field\":\"fill_alpha\"},\"fill_color\":{\"field\":\"color\"},\"height\":{\"field\":\"height\",\"units\":\"data\"},\"line_color\":{\"field\":\"line_color\"},\"width\":{\"field\":\"width\",\"units\":\"data\"},\"x\":{\"field\":\"x\"},\"y\":{\"field\":\"y\"}},\"id\":\"763c0aeb-6629-4459-8df5-24b74cdf5510\",\"type\":\"Rect\"},{\"attributes\":{\"callback\":null,\"column_names\":[\"line_color\",\"line_alpha\",\"color\",\"fill_alpha\",\"height\",\"width\",\"y\",\"x\",\"label\"],\"data\":{\"chart_index\":[{\"country\":\"Finland\"}],\"color\":[\"#f22c40\"],\"country\":[\"Finland\"],\"fill_alpha\":[0.8],\"height\":[0.01139555669050051],\"label\":[{\"country\":\"Finland\"}],\"line_alpha\":[1.0],\"line_color\":[\"white\"],\"width\":[0.8],\"x\":[\"Finland\"],\"y\":[0.005697778345250255]}},\"id\":\"b1f321ff-fab1-4df0-a636-f7c0a169fde7\",\"type\":\"ColumnDataSource\"},{\"attributes\":{\"plot\":{\"id\":\"41d27b39-c6ce-44d7-83b4-8d55bd5b4f5e\",\"subtype\":\"Chart\",\"type\":\"Plot\"}},\"id\":\"a682ed49-f070-4223-ad1d-9db59a74316f\",\"type\":\"WheelZoomTool\"},{\"attributes\":{\"plot\":null,\"text\":\"betweenness centrality in 1960\"},\"id\":\"10863ca9-4888-40c0-9766-bb49180ffe88\",\"type\":\"Title\"},{\"attributes\":{\"callback\":null,\"column_names\":[\"line_color\",\"line_alpha\",\"color\",\"fill_alpha\",\"height\",\"width\",\"y\",\"x\",\"label\"],\"data\":{\"chart_index\":[{\"country\":\"United States\"}],\"color\":[\"#df5320\"],\"country\":[\"United States\"],\"fill_alpha\":[0.8],\"height\":[0.014140704800817161],\"label\":[{\"country\":\"United States\"}],\"line_alpha\":[1.0],\"line_color\":[\"white\"],\"width\":[0.8],\"x\":[\"United States\"],\"y\":[0.007070352400408581]}},\"id\":\"34c8f8ca-cd63-482b-9316-4fa5f76ec60d\",\"type\":\"ColumnDataSource\"},{\"attributes\":{\"data_source\":{\"id\":\"357b6ffd-677f-44b0-ab6b-97ce7083c209\",\"type\":\"ColumnDataSource\"},\"glyph\":{\"id\":\"b68d5a65-aded-4261-aa4e-95f4bbde9952\",\"type\":\"Rect\"},\"hover_glyph\":null,\"nonselection_glyph\":null,\"selection_glyph\":null},\"id\":\"2da1eaad-364b-4e0d-88d5-8db924e132e9\",\"type\":\"GlyphRenderer\"},{\"attributes\":{\"axis_label\":\"Country\",\"formatter\":{\"id\":\"aec22839-0bec-4e79-aacb-62f0ef59aa09\",\"type\":\"CategoricalTickFormatter\"},\"major_label_orientation\":0.7853981633974483,\"plot\":{\"id\":\"41d27b39-c6ce-44d7-83b4-8d55bd5b4f5e\",\"subtype\":\"Chart\",\"type\":\"Plot\"},\"ticker\":{\"id\":\"6d88a1cb-1737-46a7-a26d-4215a6552abf\",\"type\":\"CategoricalTicker\"}},\"id\":\"c5c4b9f6-cef5-43c1-90c6-fc66cf04d30b\",\"type\":\"CategoricalAxis\"},{\"attributes\":{\"callback\":null,\"column_names\":[\"line_color\",\"line_alpha\",\"color\",\"fill_alpha\",\"height\",\"width\",\"y\",\"x\",\"label\"],\"data\":{\"chart_index\":[{\"country\":\"Soviet Union\"}],\"color\":[\"#00ad9c\"],\"country\":[\"Soviet Union\"],\"fill_alpha\":[0.8],\"height\":[0.018801072522982635],\"label\":[{\"country\":\"Soviet Union\"}],\"line_alpha\":[1.0],\"line_color\":[\"white\"],\"width\":[0.8],\"x\":[\"Soviet Union\"],\"y\":[0.009400536261491317]}},\"id\":\"86c8dbf4-59e3-44b0-9819-4cb1106fcd1f\",\"type\":\"ColumnDataSource\"},{\"attributes\":{\"plot\":{\"id\":\"41d27b39-c6ce-44d7-83b4-8d55bd5b4f5e\",\"subtype\":\"Chart\",\"type\":\"Plot\"}},\"id\":\"fd1c2947-5fe7-420b-aa0f-a323c5dec057\",\"type\":\"PanTool\"},{\"attributes\":{\"callback\":null,\"column_names\":[\"line_color\",\"line_alpha\",\"color\",\"fill_alpha\",\"height\",\"width\",\"y\",\"x\",\"label\"],\"data\":{\"chart_index\":[{\"country\":\"Italy\"}],\"color\":[\"#df5320\"],\"country\":[\"Italy\"],\"fill_alpha\":[0.8],\"height\":[0.0015321756894790604],\"label\":[{\"country\":\"Italy\"}],\"line_alpha\":[1.0],\"line_color\":[\"white\"],\"width\":[0.8],\"x\":[\"Italy\"],\"y\":[0.0007660878447395302]}},\"id\":\"156b6632-bbb8-4926-9592-fead39b28581\",\"type\":\"ColumnDataSource\"},{\"attributes\":{\"plot\":{\"id\":\"41d27b39-c6ce-44d7-83b4-8d55bd5b4f5e\",\"subtype\":\"Chart\",\"type\":\"Plot\"}},\"id\":\"99c75ce2-ade4-474a-b8ca-7fdee97414f8\",\"type\":\"ResetTool\"},{\"attributes\":{\"data_source\":{\"id\":\"86c8dbf4-59e3-44b0-9819-4cb1106fcd1f\",\"type\":\"ColumnDataSource\"},\"glyph\":{\"id\":\"12d8b958-6862-41b9-8a3d-a778cb14b798\",\"type\":\"Rect\"},\"hover_glyph\":null,\"nonselection_glyph\":null,\"selection_glyph\":null},\"id\":\"dc88c9eb-15e1-4cf3-a7d7-08c2d0d93374\",\"type\":\"GlyphRenderer\"},{\"attributes\":{\"data_source\":{\"id\":\"b1f321ff-fab1-4df0-a636-f7c0a169fde7\",\"type\":\"ColumnDataSource\"},\"glyph\":{\"id\":\"6b2b3b15-1ffc-405e-a4c4-7bfa1b3fa2b4\",\"type\":\"Rect\"},\"hover_glyph\":null,\"nonselection_glyph\":null,\"selection_glyph\":null},\"id\":\"756164d7-97c8-43d7-88a8-a0f1bc574ec3\",\"type\":\"GlyphRenderer\"},{\"attributes\":{\"fill_alpha\":{\"field\":\"fill_alpha\"},\"fill_color\":{\"field\":\"color\"},\"height\":{\"field\":\"height\",\"units\":\"data\"},\"line_color\":{\"field\":\"line_color\"},\"width\":{\"field\":\"width\",\"units\":\"data\"},\"x\":{\"field\":\"x\"},\"y\":{\"field\":\"y\"}},\"id\":\"401f4d9c-80f2-47ca-b44c-e2dbd796deb4\",\"type\":\"Rect\"},{\"attributes\":{\"callback\":null,\"column_names\":[\"line_color\",\"line_alpha\",\"color\",\"fill_alpha\",\"height\",\"width\",\"y\",\"x\",\"label\"],\"data\":{\"chart_index\":[{\"country\":\"Switzerland\"}],\"color\":[\"#5ab738\"],\"country\":[\"Switzerland\"],\"fill_alpha\":[0.8],\"height\":[0.001787538304392237],\"label\":[{\"country\":\"Switzerland\"}],\"line_alpha\":[1.0],\"line_color\":[\"white\"],\"width\":[0.8],\"x\":[\"Switzerland\"],\"y\":[0.0008937691521961185]}},\"id\":\"9aeb707b-087a-4565-999b-6d133937089f\",\"type\":\"ColumnDataSource\"},{\"attributes\":{\"below\":[{\"id\":\"c5c4b9f6-cef5-43c1-90c6-fc66cf04d30b\",\"type\":\"CategoricalAxis\"}],\"left\":[{\"id\":\"437ca387-b60a-401a-ad8a-e059169b6221\",\"type\":\"LinearAxis\"}],\"renderers\":[{\"id\":\"01836914-7d4c-4c09-9761-08f0c732df22\",\"type\":\"BoxAnnotation\"},{\"id\":\"dc88c9eb-15e1-4cf3-a7d7-08c2d0d93374\",\"type\":\"GlyphRenderer\"},{\"id\":\"62311a8d-4331-4883-b0be-1b4b0bc0f6da\",\"type\":\"GlyphRenderer\"},{\"id\":\"756164d7-97c8-43d7-88a8-a0f1bc574ec3\",\"type\":\"GlyphRenderer\"},{\"id\":\"40a696d2-e0a5-4960-bc0e-29ca3f2197ea\",\"type\":\"GlyphRenderer\"},{\"id\":\"2da1eaad-364b-4e0d-88d5-8db924e132e9\",\"type\":\"GlyphRenderer\"},{\"id\":\"4ec6bda2-d323-4a90-b6a1-38a1db1ab1d2\",\"type\":\"GlyphRenderer\"},{\"id\":\"752bda8d-c96e-42dc-a566-e328893fd207\",\"type\":\"GlyphRenderer\"},{\"id\":\"f0e0b321-c53b-4b29-b7be-c91d59e8e6de\",\"type\":\"GlyphRenderer\"},{\"id\":\"54844402-f40f-4bfe-8a46-40406933f1ef\",\"type\":\"GlyphRenderer\"},{\"id\":\"35539454-80bb-4d56-b95d-65afd362a4a3\",\"type\":\"GlyphRenderer\"},{\"id\":\"c5c4b9f6-cef5-43c1-90c6-fc66cf04d30b\",\"type\":\"CategoricalAxis\"},{\"id\":\"437ca387-b60a-401a-ad8a-e059169b6221\",\"type\":\"LinearAxis\"},{\"id\":\"a6b8a1c1-4fe5-43dc-a46b-85b7e4ff3b40\",\"type\":\"Grid\"}],\"title\":{\"id\":\"10863ca9-4888-40c0-9766-bb49180ffe88\",\"type\":\"Title\"},\"tool_events\":{\"id\":\"c54424a8-b3c0-4812-9555-dd467f423844\",\"type\":\"ToolEvents\"},\"toolbar\":{\"id\":\"a78a9bf9-c9b4-4ead-9b96-21be5136ff5a\",\"type\":\"Toolbar\"},\"x_mapper_type\":\"auto\",\"x_range\":{\"id\":\"448e1018-ea30-4641-a344-c81e15d5aca0\",\"type\":\"FactorRange\"},\"y_mapper_type\":\"auto\",\"y_range\":{\"id\":\"88b860ba-4a28-409c-a448-fcfa2c5d0494\",\"type\":\"Range1d\"}},\"id\":\"41d27b39-c6ce-44d7-83b4-8d55bd5b4f5e\",\"subtype\":\"Chart\",\"type\":\"Plot\"},{\"attributes\":{\"overlay\":{\"id\":\"01836914-7d4c-4c09-9761-08f0c732df22\",\"type\":\"BoxAnnotation\"},\"plot\":{\"id\":\"41d27b39-c6ce-44d7-83b4-8d55bd5b4f5e\",\"subtype\":\"Chart\",\"type\":\"Plot\"}},\"id\":\"21261a02-b751-4acf-927c-2c8a8b6cf1c9\",\"type\":\"BoxZoomTool\"},{\"attributes\":{},\"id\":\"2871eb38-ee67-40d0-905d-6e2b6b43eb7f\",\"type\":\"BasicTicker\"},{\"attributes\":{},\"id\":\"ad949ba5-df4b-461b-9db7-43cd32c74906\",\"type\":\"BasicTickFormatter\"},{\"attributes\":{\"fill_alpha\":{\"field\":\"fill_alpha\"},\"fill_color\":{\"field\":\"color\"},\"height\":{\"field\":\"height\",\"units\":\"data\"},\"line_color\":{\"field\":\"line_color\"},\"width\":{\"field\":\"width\",\"units\":\"data\"},\"x\":{\"field\":\"x\"},\"y\":{\"field\":\"y\"}},\"id\":\"9a2e40d3-37f6-4e7c-ade3-cab8728fb128\",\"type\":\"Rect\"},{\"attributes\":{\"data_source\":{\"id\":\"394dbf23-d2bb-4ac8-b0d2-fef3b606f936\",\"type\":\"ColumnDataSource\"},\"glyph\":{\"id\":\"763c0aeb-6629-4459-8df5-24b74cdf5510\",\"type\":\"Rect\"},\"hover_glyph\":null,\"nonselection_glyph\":null,\"selection_glyph\":null},\"id\":\"54844402-f40f-4bfe-8a46-40406933f1ef\",\"type\":\"GlyphRenderer\"},{\"attributes\":{\"fill_alpha\":{\"field\":\"fill_alpha\"},\"fill_color\":{\"field\":\"color\"},\"height\":{\"field\":\"height\",\"units\":\"data\"},\"line_color\":{\"field\":\"line_color\"},\"width\":{\"field\":\"width\",\"units\":\"data\"},\"x\":{\"field\":\"x\"},\"y\":{\"field\":\"y\"}},\"id\":\"2d7deb66-b3f4-46c2-adfe-de8ccd0f46f0\",\"type\":\"Rect\"},{\"attributes\":{\"active_drag\":\"auto\",\"active_scroll\":\"auto\",\"active_tap\":\"auto\",\"tools\":[{\"id\":\"fd1c2947-5fe7-420b-aa0f-a323c5dec057\",\"type\":\"PanTool\"},{\"id\":\"a682ed49-f070-4223-ad1d-9db59a74316f\",\"type\":\"WheelZoomTool\"},{\"id\":\"21261a02-b751-4acf-927c-2c8a8b6cf1c9\",\"type\":\"BoxZoomTool\"},{\"id\":\"e54ec5cd-2665-4d44-b7fb-68a349628554\",\"type\":\"SaveTool\"},{\"id\":\"99c75ce2-ade4-474a-b8ca-7fdee97414f8\",\"type\":\"ResetTool\"},{\"id\":\"7f37c67c-db99-424d-9db6-33be490c88dc\",\"type\":\"HelpTool\"}]},\"id\":\"a78a9bf9-c9b4-4ead-9b96-21be5136ff5a\",\"type\":\"Toolbar\"},{\"attributes\":{\"fill_alpha\":{\"field\":\"fill_alpha\"},\"fill_color\":{\"field\":\"color\"},\"height\":{\"field\":\"height\",\"units\":\"data\"},\"line_color\":{\"field\":\"line_color\"},\"width\":{\"field\":\"width\",\"units\":\"data\"},\"x\":{\"field\":\"x\"},\"y\":{\"field\":\"y\"}},\"id\":\"b68d5a65-aded-4261-aa4e-95f4bbde9952\",\"type\":\"Rect\"},{\"attributes\":{},\"id\":\"6d88a1cb-1737-46a7-a26d-4215a6552abf\",\"type\":\"CategoricalTicker\"},{\"attributes\":{\"fill_alpha\":{\"field\":\"fill_alpha\"},\"fill_color\":{\"field\":\"color\"},\"height\":{\"field\":\"height\",\"units\":\"data\"},\"line_color\":{\"field\":\"line_color\"},\"width\":{\"field\":\"width\",\"units\":\"data\"},\"x\":{\"field\":\"x\"},\"y\":{\"field\":\"y\"}},\"id\":\"e041455d-efb4-4ee3-a6d2-7d5387c85c45\",\"type\":\"Rect\"},{\"attributes\":{\"bottom_units\":\"screen\",\"fill_alpha\":{\"value\":0.5},\"fill_color\":{\"value\":\"lightgrey\"},\"left_units\":\"screen\",\"level\":\"overlay\",\"line_alpha\":{\"value\":1.0},\"line_color\":{\"value\":\"black\"},\"line_dash\":[4,4],\"line_width\":{\"value\":2},\"plot\":null,\"render_mode\":\"css\",\"right_units\":\"screen\",\"top_units\":\"screen\"},\"id\":\"01836914-7d4c-4c09-9761-08f0c732df22\",\"type\":\"BoxAnnotation\"},{\"attributes\":{\"fill_alpha\":{\"field\":\"fill_alpha\"},\"fill_color\":{\"field\":\"color\"},\"height\":{\"field\":\"height\",\"units\":\"data\"},\"line_color\":{\"field\":\"line_color\"},\"width\":{\"field\":\"width\",\"units\":\"data\"},\"x\":{\"field\":\"x\"},\"y\":{\"field\":\"y\"}},\"id\":\"6b2b3b15-1ffc-405e-a4c4-7bfa1b3fa2b4\",\"type\":\"Rect\"},{\"attributes\":{\"data_source\":{\"id\":\"32ec4a66-c637-4c64-b988-b96421a58096\",\"type\":\"ColumnDataSource\"},\"glyph\":{\"id\":\"9f84e664-774b-4712-86d8-5eac281f8ad0\",\"type\":\"Rect\"},\"hover_glyph\":null,\"nonselection_glyph\":null,\"selection_glyph\":null},\"id\":\"4ec6bda2-d323-4a90-b6a1-38a1db1ab1d2\",\"type\":\"GlyphRenderer\"},{\"attributes\":{\"callback\":null,\"column_names\":[\"line_color\",\"line_alpha\",\"color\",\"fill_alpha\",\"height\",\"width\",\"y\",\"x\",\"label\"],\"data\":{\"chart_index\":[{\"country\":\"Spain\"}],\"color\":[\"#c33ff3\"],\"country\":[\"Spain\"],\"fill_alpha\":[0.8],\"height\":[0.0013087334014300308],\"label\":[{\"country\":\"Spain\"}],\"line_alpha\":[1.0],\"line_color\":[\"white\"],\"width\":[0.8],\"x\":[\"Spain\"],\"y\":[0.0006543667007150154]}},\"id\":\"394dbf23-d2bb-4ac8-b0d2-fef3b606f936\",\"type\":\"ColumnDataSource\"},{\"attributes\":{\"callback\":null,\"column_names\":[\"line_color\",\"line_alpha\",\"color\",\"fill_alpha\",\"height\",\"width\",\"y\",\"x\",\"label\"],\"data\":{\"chart_index\":[{\"country\":\"Germany (FRG)\"}],\"color\":[\"#407ee7\"],\"country\":[\"Germany (FRG)\"],\"fill_alpha\":[0.8],\"height\":[0.0035431562819203265],\"label\":[{\"country\":\"Germany (FRG)\"}],\"line_alpha\":[1.0],\"line_color\":[\"white\"],\"width\":[0.8],\"x\":[\"Germany (FRG)\"],\"y\":[0.0017715781409601632]}},\"id\":\"32ec4a66-c637-4c64-b988-b96421a58096\",\"type\":\"ColumnDataSource\"},{\"attributes\":{},\"id\":\"c54424a8-b3c0-4812-9555-dd467f423844\",\"type\":\"ToolEvents\"},{\"attributes\":{\"data_source\":{\"id\":\"156b6632-bbb8-4926-9592-fead39b28581\",\"type\":\"ColumnDataSource\"},\"glyph\":{\"id\":\"e041455d-efb4-4ee3-a6d2-7d5387c85c45\",\"type\":\"Rect\"},\"hover_glyph\":null,\"nonselection_glyph\":null,\"selection_glyph\":null},\"id\":\"f0e0b321-c53b-4b29-b7be-c91d59e8e6de\",\"type\":\"GlyphRenderer\"},{\"attributes\":{\"data_source\":{\"id\":\"9aeb707b-087a-4565-999b-6d133937089f\",\"type\":\"ColumnDataSource\"},\"glyph\":{\"id\":\"401f4d9c-80f2-47ca-b44c-e2dbd796deb4\",\"type\":\"Rect\"},\"hover_glyph\":null,\"nonselection_glyph\":null,\"selection_glyph\":null},\"id\":\"752bda8d-c96e-42dc-a566-e328893fd207\",\"type\":\"GlyphRenderer\"}],\"root_ids\":[\"41d27b39-c6ce-44d7-83b4-8d55bd5b4f5e\"]},\"title\":\"Bokeh Application\",\"version\":\"0.12.0\"}};\n",
       "            var render_items = [{\"docid\":\"e069d151-7729-4272-848b-2328c825b8c8\",\"elementid\":\"402ef052-280b-47ec-a383-ca396fa3a514\",\"modelid\":\"41d27b39-c6ce-44d7-83b4-8d55bd5b4f5e\",\"notebook_comms_target\":\"f994187b-600e-4fef-95cb-c9a2d6d0c679\"}];\n",
       "            \n",
       "            Bokeh.embed.embed_items(docs_json, render_items);\n",
       "        });\n",
       "      },\n",
       "      function(Bokeh) {\n",
       "      }\n",
       "    ];\n",
       "  \n",
       "    function run_inline_js() {\n",
       "      for (var i = 0; i < inline_js.length; i++) {\n",
       "        inline_js[i](window.Bokeh);\n",
       "      }\n",
       "    }\n",
       "  \n",
       "    if (window._bokeh_is_loading === 0) {\n",
       "      console.log(\"Bokeh: BokehJS loaded, going straight to plotting\");\n",
       "      run_inline_js();\n",
       "    } else {\n",
       "      load_libs(js_urls, function() {\n",
       "        console.log(\"Bokeh: BokehJS plotting callback run at\", now());\n",
       "        run_inline_js();\n",
       "      });\n",
       "    }\n",
       "  }(this));\n",
       "</script>"
      ]
     },
     "metadata": {},
     "output_type": "display_data"
    },
    {
     "data": {
      "text/html": [
       "<p><code>&lt;Bokeh Notebook handle for <strong>In[18]</strong>&gt;</code></p>"
      ],
      "text/plain": [
       "<bokeh.io._CommsHandle at 0x11ccae350>"
      ]
     },
     "execution_count": 18,
     "metadata": {},
     "output_type": "execute_result"
    }
   ],
   "source": [
    "from bokeh.charts import Bar, output_notebook, show\n",
    "output_notebook()\n",
    "\n",
    "\n",
    "data = pd.DataFrame(sorted(nx.betweenness_centrality(multigraph).items(), key=operator.itemgetter(1), reverse=True)[:10])\n",
    "data.columns = ['country','betweenness centrality']\n",
    "\n",
    "p = Bar(data, 'country', values='betweenness centrality', title=\"betweenness centrality in \"+year,color='country', legend=None)\n",
    "\n",
    "show(p)"
   ]
  },
  {
   "cell_type": "code",
   "execution_count": 19,
   "metadata": {
    "collapsed": false
   },
   "outputs": [],
   "source": [
    "#nx.draw_networkx(mastergraph, pos = spring_pos, cmap = plt.get_cmap(\"rainbow\"), node_color = bt_colors, node_size = bt_values, with_labels = False)"
   ]
  },
  {
   "cell_type": "code",
   "execution_count": 20,
   "metadata": {
    "collapsed": false
   },
   "outputs": [],
   "source": [
    "\"\"\"G = mastergraph\n",
    "pos=nx.spring_layout(G)\n",
    "\"\"\";"
   ]
  },
  {
   "cell_type": "code",
   "execution_count": 21,
   "metadata": {
    "collapsed": false
   },
   "outputs": [],
   "source": [
    "\"\"\"edge_trace = []\n",
    "\n",
    "for edge in G.edges(data=True):\n",
    "    countryFrom = edge[0]\n",
    "    countryTo = edge[1]\n",
    "    x0, y0 = pos[countryFrom]\n",
    "    x1, y1 = pos[countryTo]\n",
    "\n",
    "    edge_trace.append(\n",
    "        Scatter(\n",
    "            x=[x0, x1, None], \n",
    "            y=[y0, y1, None], \n",
    "            #text=[edge[2].values()[0]],\n",
    "            text='skip',\n",
    "            line=Line(width = (edge[2].values()[0]/100),\n",
    "                      color ='#888'\n",
    "                     ),\n",
    "            #hoverinfo=edge[2].values()[0],\n",
    "            hoverinfo='none',\n",
    "            mode='lines'\n",
    "        )\n",
    "    )\n",
    "\"\"\";"
   ]
  },
  {
   "cell_type": "code",
   "execution_count": 22,
   "metadata": {
    "collapsed": true
   },
   "outputs": [],
   "source": [
    "\"\"\"node_trace = Scatter(\n",
    "    x=[], \n",
    "    y=[], \n",
    "    text=[],\n",
    "    mode='markers', \n",
    "    hoverinfo='text',\n",
    "    marker=Marker(\n",
    "        showscale=True,\n",
    "        # colorscale options\n",
    "        # 'Greys' | 'Greens' | 'Bluered' | 'Hot' | 'Picnic' | 'Portland' |\n",
    "        # Jet' | 'RdBu' | 'Blackbody' | 'Earth' | 'Electric' | 'YIOrRd' | 'YIGnBu'\n",
    "        colorscale='YIOrRd',\n",
    "        reversescale=True,\n",
    "        color=[], \n",
    "        size=10,         \n",
    "        colorbar=dict(\n",
    "            thickness=15,\n",
    "            title='Node Connections',\n",
    "            xanchor='left',\n",
    "            titleside='right'\n",
    "        ),\n",
    "        line=dict(width=2)))\n",
    "\n",
    "for node in G.nodes():\n",
    "    x, y = pos[node]\n",
    "    node_trace['x'].append(x)\n",
    "    node_trace['y'].append(y)\n",
    "    node_trace['text'].append(str(countryCodeMap[node]))\n",
    "    \n",
    "for node, adjacencies in enumerate(G.adjacency_list()):\n",
    "    node_trace['marker']['color'].append(len(adjacencies))    \n",
    "\"\"\";"
   ]
  },
  {
   "cell_type": "code",
   "execution_count": 23,
   "metadata": {
    "collapsed": true
   },
   "outputs": [],
   "source": [
    "\"\"\"\n",
    "fig = Figure(data=Data(edge_trace+[node_trace]),\n",
    "             layout=Layout(\n",
    "                title='The Worlds Weapon Trade',\n",
    "                titlefont=dict(size=16),\n",
    "                showlegend=False, \n",
    "                width=650,\n",
    "                height=650,\n",
    "                hovermode='closest',\n",
    "                margin=dict(b=20,l=5,r=5,t=40),\n",
    "                annotations=[ dict(\n",
    "                    text=\"Datasource: SIPRI\",\n",
    "                    showarrow=False,\n",
    "                    xref=\"paper\", yref=\"paper\",\n",
    "                    x=0.005, y=-0.002 ) ],\n",
    "                xaxis=XAxis(showgrid=False, zeroline=False, showticklabels=False),\n",
    "                yaxis=YAxis(showgrid=False, zeroline=False, showticklabels=False))\n",
    "            )\n",
    "\n",
    "#py.iplot(fig, filename='weaponstrade')\n",
    "\"\"\";\n"
   ]
  },
  {
   "cell_type": "code",
   "execution_count": 24,
   "metadata": {
    "collapsed": false
   },
   "outputs": [],
   "source": [
    "\"\"\"#Visualization from Here http://scikit-learn.org/stable/auto_examples/cluster/plot_kmeans_digits.html\n",
    "\n",
    "# Step size of the mesh. Decrease to increase the quality of the VQ.\n",
    "h = .02     # point in the mesh [x_min, x_max]x[y_min, y_max].\n",
    "\n",
    "# Plot the decision boundary. For that, we will assign a color to each\n",
    "x_min, x_max = reduced_data[:, 0].min() - 1, reduced_data[:, 0].max() + 1\n",
    "y_min, y_max = reduced_data[:, 1].min() - 1, reduced_data[:, 1].max() + 1\n",
    "xx, yy = np.meshgrid(np.arange(x_min, x_max, h), np.arange(y_min, y_max, h))\n",
    "\n",
    "# Obtain labels for each point in mesh. Use last trained model.\n",
    "Z = kmeans.predict(np.c_[xx.ravel(), yy.ravel()])\n",
    "\n",
    "# Put the result into a color plot\n",
    "Z = Z.reshape(xx.shape)\n",
    "plt.figure(1)\n",
    "plt.clf()\n",
    "plt.imshow(Z, interpolation='nearest',\n",
    "           extent=(xx.min(), xx.max(), yy.min(), yy.max()),\n",
    "           cmap=plt.cm.Paired,\n",
    "           aspect='auto', origin='lower')\n",
    "\n",
    "plt.plot(reduced_data[:, 0], reduced_data[:, 1], 'k.', markersize=2)\n",
    "\n",
    "# Plot the centroids as a white X\n",
    "centroids = kmeans.cluster_centers_\n",
    "plt.scatter(centroids[:, 0], centroids[:, 1],\n",
    "            marker='x', s=169, linewidths=3,\n",
    "            color='w', zorder=10)\n",
    "plt.title('K-means clustering on the digits dataset (PCA-reduced data)\\n'\n",
    "          'Centroids are marked with white cross')\n",
    "plt.xlim(x_min, x_max)\n",
    "plt.ylim(y_min, y_max)\n",
    "plt.xticks(())\n",
    "plt.yticks(())\n",
    "plt.show()\"\"\";"
   ]
  },
  {
   "cell_type": "markdown",
   "metadata": {
    "collapsed": true
   },
   "source": [
    "TIL kmeans is a shitty algorithm, since it only takes X and Y into account, not good for graphs"
   ]
  },
  {
   "cell_type": "markdown",
   "metadata": {},
   "source": [
    "# Clustering using the louvain method\n",
    "\n",
    "It uses the louvain method described in Fast unfolding of communities in large networks, Vincent D Blondel, Jean-Loup Guillaume, Renaud Lambiotte, Renaud Lefebvre, Journal of Statistical Mechanics: Theory and Experiment 2008(10), P10008 (12pp)"
   ]
  },
  {
   "cell_type": "code",
   "execution_count": 25,
   "metadata": {
    "collapsed": false
   },
   "outputs": [],
   "source": [
    "#first compute the best partition\n",
    "partition = community.best_partition(mastergraph)\n",
    "\n",
    "#drawing\n",
    "size = float(len(set(partition.values())))\n",
    "pos = nx.spring_layout(mastergraph)\n",
    "count = 0.\n",
    "\n",
    "#for com in set(partition.values()) :\n",
    "    #count = count + 1.\n",
    "    #list_nodes = [nodes for nodes in partition.keys()\n",
    "    #                            if partition[nodes] == com]\n",
    "    #nx.draw_networkx_nodes(G, pos, list_nodes, node_size = 20,\n",
    "    #                            node_color = str(count / size))\n",
    "    #nx.draw_networkx_edges(G,pos, alpha=0.5)\n",
    "#plt.show()"
   ]
  },
  {
   "cell_type": "code",
   "execution_count": 26,
   "metadata": {
    "collapsed": false
   },
   "outputs": [],
   "source": [
    "n = (mastergraph.number_of_nodes())/2 \n",
    "part = dict([])\n",
    "for node in mastergraph.nodes_iter():\n",
    "    part[node] = node\n",
    "ind = community.induced_graph(part, mastergraph)\n",
    "goal = nx.Graph()\n",
    "goal.add_weighted_edges_from([(0,1,n*n),(0,0,n*(n-1)/2), (1, 1, n*(n-1)/2)])  # NOQA\n",
    "\n",
    "\"\"\"\n",
    "#drawing\n",
    "partition2 = community.best_partition(goal)\n",
    "size = float(len(set(partition2.values())))\n",
    "pos = nx.spring_layout(goal)\n",
    "count = 0.\n",
    "for com in set(partition2.values()) :\n",
    "    count = count + 1.\n",
    "    list_nodes = [nodes for nodes in partition2.keys()\n",
    "                                if partition2[nodes] == com]\n",
    "    nx.draw_networkx_nodes(goal, pos, list_nodes, node_size = 20,\n",
    "                                node_color = str(count / size))\n",
    "    nx.draw_networkx_edges(goal,pos, alpha=0.5)\n",
    "#plt.show()\"\"\";"
   ]
  },
  {
   "cell_type": "code",
   "execution_count": 27,
   "metadata": {
    "collapsed": false
   },
   "outputs": [],
   "source": [
    "colormap = dict([(0, 'rgb(91,147,204)'), (1, 'rgb(255,46,43)'),(2, 'rgb(145,58,31)'), (3, 'rgb(151,219,79)'), (4, 'rgb(41,255,25)'), (5, 'rgb(255,104,0)'), (6, 'rgb(44,20,204)'), (7, 'rgb(178,84,18)')])"
   ]
  },
  {
   "cell_type": "code",
   "execution_count": 28,
   "metadata": {
    "collapsed": true
   },
   "outputs": [],
   "source": [
    "pos3=nx.spring_layout(mastergraph, dim=3)"
   ]
  },
  {
   "cell_type": "code",
   "execution_count": 29,
   "metadata": {
    "collapsed": false,
    "scrolled": true
   },
   "outputs": [],
   "source": [
    "trace1 = []\n",
    "for edge in mastergraph.edges(data=True):\n",
    "    trace1.append(\n",
    "        Scatter3d(x=[pos3[edge[0]][0],pos3[edge[1]][0], None],\n",
    "                  y=[pos3[edge[0]][1],pos3[edge[1]][1], None],\n",
    "                   z=[pos3[edge[0]][2],pos3[edge[1]][2], None],\n",
    "                   mode='lines',\n",
    "                   line=Line(color='rgb(125,125,125)',\n",
    "                             width=(np.log(edge[2].values()[0])),\n",
    "                             colorscale = 'Bluered'),\n",
    "                   hoverinfo='none',\n",
    "                   opacity=0.7\n",
    "                   )\n",
    "        )\n",
    "\n",
    "trace2 = []\n",
    "for node in mastergraph.nodes_iter():\n",
    "    totaltrade = 0\n",
    "    for edge in mastergraph.edges(data=True):\n",
    "        if edge[0] == node or edge[1] == node:\n",
    "            totaltrade += edge[2].values()[0]\n",
    "            \n",
    "    trace2.append(\n",
    "        Scatter3d(x=pos3[node][0],\n",
    "                  y=pos3[node][1],\n",
    "                   z=pos3[node][2],\n",
    "                   mode='markers',\n",
    "                   name='Country',\n",
    "                   marker=Marker(symbol='dot',\n",
    "                                 size=np.log(totaltrade),\n",
    "                                 color=colormap[partition[node]],\n",
    "                                 showscale=False,\n",
    "                                 cmin = 0,\n",
    "                                 cmax = 4,\n",
    "                                    # colorscale options\n",
    "                                    # 'Greys' | 'Greens' | 'Bluered' | 'Hot' | 'Picnic' | 'Portland' |\n",
    "                                    # Jet' | 'RdBu' | 'Blackbody' | 'Earth' | 'Electric' | 'YIOrRd' | 'YIGnBu'\n",
    "                                 colorscale='Electric',\n",
    "                                 line=Line(color='rgb(50,50,50)', width=0.5)                                 ),\n",
    "                   text=str(node),\n",
    "                   hoverinfo='text',\n",
    "                   opacity=0.7\n",
    "                   )\n",
    "        )"
   ]
  },
  {
   "cell_type": "code",
   "execution_count": 30,
   "metadata": {
    "collapsed": true
   },
   "outputs": [],
   "source": [
    "axis=dict(showbackground=False,\n",
    "          showline=False,\n",
    "          zeroline=False,\n",
    "          showgrid=True,\n",
    "          showticklabels=False,\n",
    "          title=''\n",
    "          )"
   ]
  },
  {
   "cell_type": "code",
   "execution_count": 31,
   "metadata": {
    "collapsed": true
   },
   "outputs": [],
   "source": [
    "layout = Layout(\n",
    "         title=\"Global Weapontrade\",\n",
    "         width=800,\n",
    "         height=800,\n",
    "         showlegend=False,\n",
    "         scene=Scene(\n",
    "             xaxis=XAxis(axis),\n",
    "             yaxis=YAxis(axis),\n",
    "             zaxis=ZAxis(axis),\n",
    "        ),\n",
    "    margin=Margin(\n",
    "        t=100\n",
    "    ),\n",
    "    hovermode='closest',\n",
    "    annotations=Annotations([\n",
    "           Annotation(\n",
    "           showarrow=False,\n",
    "            text=\"SIPRI\",\n",
    "            xref='paper',\n",
    "            yref='paper',\n",
    "            x=0,\n",
    "            y=0.1,\n",
    "            xanchor='left',\n",
    "            yanchor='bottom',\n",
    "            font=Font(\n",
    "                size=14\n",
    "            )\n",
    "            )\n",
    "        ]),\n",
    ")\n"
   ]
  },
  {
   "cell_type": "code",
   "execution_count": 32,
   "metadata": {
    "collapsed": false
   },
   "outputs": [],
   "source": [
    "#data=Data(trace1+trace2)\n",
    "#fig=Figure(data=data, layout=layout)\n",
    "\n",
    "#py.iplot(fig, filename='Weapontrade')"
   ]
  },
  {
   "cell_type": "code",
   "execution_count": 33,
   "metadata": {
    "collapsed": true
   },
   "outputs": [],
   "source": [
    "test = createNeighbourGraph(mastergraph, 'Germany (FRG)')"
   ]
  },
  {
   "cell_type": "code",
   "execution_count": 34,
   "metadata": {
    "collapsed": false
   },
   "outputs": [
    {
     "data": {
      "image/png": "[encoded data removed]",
      "text/plain": [
       "<matplotlib.figure.Figure at 0x11ccaec50>"
      ]
     },
     "metadata": {},
     "output_type": "display_data"
    }
   ],
   "source": [
    "plt.gcf().clear()\n",
    "nx.draw(test,node_size=40, alpha=0.3, node_color=\"blue\", with_labels=True)\n",
    "plt.show()\n",
    "plt.rcParams['figure.figsize'] = (9, 9)"
   ]
  },
  {
   "cell_type": "code",
   "execution_count": 35,
   "metadata": {
    "collapsed": false
   },
   "outputs": [],
   "source": [
    "#completeGraph = createYearMultiDiGraph(MultiDiDict, '1990',militaryexpdict)"
   ]
  },
  {
   "cell_type": "code",
   "execution_count": 36,
   "metadata": {
    "collapsed": false
   },
   "outputs": [],
   "source": [
    "#plt.gcf().clear()\n",
    "#nx.draw(completeGraph,node_size=40, alpha=0.3, node_color=\"blue\", with_labels=False)\n",
    "#plt.show()\n",
    "#plt.rcParams['figure.figsize'] = (9, 9)"
   ]
  },
  {
   "cell_type": "code",
   "execution_count": 37,
   "metadata": {
    "collapsed": false
   },
   "outputs": [],
   "source": [
    "#completeGraph.edges(data = True)"
   ]
  },
  {
   "cell_type": "code",
   "execution_count": 38,
   "metadata": {
    "collapsed": true
   },
   "outputs": [],
   "source": [
    "## Analyze countries influence over time"
   ]
  },
  {
   "cell_type": "markdown",
   "metadata": {
    "collapsed": false
   },
   "source": [
    "def influenceOverTime(countrydict,country):\n",
    "    influence = dict()\n",
    "    for year in countrydict:\n",
    "        G = createYearGraph(countrydict, year)\n",
    "        valuethisyear = 0\n",
    "        for entry in nx.betweenness_centrality(G).items():\n",
    "            if entry[0] == country:\n",
    "                valuethisyear = entry[1]\n",
    "        influence[year] = valuethisyear\n",
    "    return influence"
   ]
  },
  {
   "cell_type": "markdown",
   "metadata": {},
   "source": [
    "# Influence Analysis"
   ]
  },
  {
   "cell_type": "markdown",
   "metadata": {},
   "source": [
    "### Definition"
   ]
  },
  {
   "cell_type": "code",
   "execution_count": 39,
   "metadata": {
    "collapsed": false
   },
   "outputs": [
    {
     "data": {
      "text/html": [
       "\n",
       "    <div class=\"bk-root\">\n",
       "        <a href=\"http://bokeh.pydata.org\" target=\"_blank\" class=\"bk-logo bk-logo-small bk-logo-notebook\"></a>\n",
       "        <span id=\"b027e3ec-2c80-4bc9-96ac-6986a8bae257\">Loading BokehJS ...</span>\n",
       "    </div>"
      ]
     },
     "metadata": {},
     "output_type": "display_data"
    },
    {
     "data": {
      "application/javascript": [
       "\n",
       "(function(global) {\n",
       "  function now() {\n",
       "    return new Date();\n",
       "  }\n",
       "\n",
       "  if (typeof (window._bokeh_onload_callbacks) === \"undefined\") {\n",
       "    window._bokeh_onload_callbacks = [];\n",
       "  }\n",
       "\n",
       "  function run_callbacks() {\n",
       "    window._bokeh_onload_callbacks.forEach(function(callback) { callback() });\n",
       "    delete window._bokeh_onload_callbacks\n",
       "    console.info(\"Bokeh: all callbacks have finished\");\n",
       "  }\n",
       "\n",
       "  function load_libs(js_urls, callback) {\n",
       "    window._bokeh_onload_callbacks.push(callback);\n",
       "    if (window._bokeh_is_loading > 0) {\n",
       "      console.log(\"Bokeh: BokehJS is being loaded, scheduling callback at\", now());\n",
       "      return null;\n",
       "    }\n",
       "    if (js_urls == null || js_urls.length === 0) {\n",
       "      run_callbacks();\n",
       "      return null;\n",
       "    }\n",
       "    console.log(\"Bokeh: BokehJS not loaded, scheduling load and callback at\", now());\n",
       "    window._bokeh_is_loading = js_urls.length;\n",
       "    for (var i = 0; i < js_urls.length; i++) {\n",
       "      var url = js_urls[i];\n",
       "      var s = document.createElement('script');\n",
       "      s.src = url;\n",
       "      s.async = false;\n",
       "      s.onreadystatechange = s.onload = function() {\n",
       "        window._bokeh_is_loading--;\n",
       "        if (window._bokeh_is_loading === 0) {\n",
       "          console.log(\"Bokeh: all BokehJS libraries loaded\");\n",
       "          run_callbacks()\n",
       "        }\n",
       "      };\n",
       "      s.onerror = function() {\n",
       "        console.warn(\"failed to load library \" + url);\n",
       "      };\n",
       "      console.log(\"Bokeh: injecting script tag for BokehJS library: \", url);\n",
       "      document.getElementsByTagName(\"head\")[0].appendChild(s);\n",
       "    }\n",
       "  };\n",
       "\n",
       "  var js_urls = ['https://cdn.pydata.org/bokeh/release/bokeh-0.12.0.min.js', 'https://cdn.pydata.org/bokeh/release/bokeh-widgets-0.12.0.min.js', 'https://cdn.pydata.org/bokeh/release/bokeh-compiler-0.12.0.min.js'];\n",
       "\n",
       "  var inline_js = [\n",
       "    function(Bokeh) {\n",
       "      Bokeh.set_log_level(\"info\");\n",
       "    },\n",
       "    \n",
       "    function(Bokeh) {\n",
       "      Bokeh.$(\"#b027e3ec-2c80-4bc9-96ac-6986a8bae257\").text(\"BokehJS successfully loaded\");\n",
       "    },\n",
       "    function(Bokeh) {\n",
       "      console.log(\"Bokeh: injecting CSS: https://cdn.pydata.org/bokeh/release/bokeh-0.12.0.min.css\");\n",
       "      Bokeh.embed.inject_css(\"https://cdn.pydata.org/bokeh/release/bokeh-0.12.0.min.css\");\n",
       "      console.log(\"Bokeh: injecting CSS: https://cdn.pydata.org/bokeh/release/bokeh-widgets-0.12.0.min.css\");\n",
       "      Bokeh.embed.inject_css(\"https://cdn.pydata.org/bokeh/release/bokeh-widgets-0.12.0.min.css\");\n",
       "    }\n",
       "  ];\n",
       "\n",
       "  function run_inline_js() {\n",
       "    for (var i = 0; i < inline_js.length; i++) {\n",
       "      inline_js[i](window.Bokeh);\n",
       "    }\n",
       "  }\n",
       "\n",
       "  if (window._bokeh_is_loading === 0) {\n",
       "    console.log(\"Bokeh: BokehJS loaded, going straight to plotting\");\n",
       "    run_inline_js();\n",
       "  } else {\n",
       "    load_libs(js_urls, function() {\n",
       "      console.log(\"Bokeh: BokehJS plotting callback run at\", now());\n",
       "      run_inline_js();\n",
       "    });\n",
       "  }\n",
       "}(this));"
      ]
     },
     "metadata": {},
     "output_type": "display_data"
    }
   ],
   "source": [
    "from bokeh.plotting import figure, output_notebook, show\n",
    "from bokeh.io import output_notebook\n",
    "\n",
    "from bokeh.models import ColumnDataSource,HoverTool\n",
    "output_notebook()"
   ]
  },
  {
   "cell_type": "code",
   "execution_count": 40,
   "metadata": {
    "collapsed": false
   },
   "outputs": [],
   "source": [
    "def influenceOverTimeAll(countrydict,militaryexpdict):\n",
    "    influenceAll = dict()\n",
    "    for year in countrydict:\n",
    "        G = createYearGraph(countrydict, year,militaryexpdict)\n",
    "        for entry in nx.betweenness_centrality(G).items():\n",
    "            if entry[0] in influenceAll:\n",
    "                influenceAll[entry[0]][year] = entry[1]\n",
    "            else:\n",
    "                influenceAll.setdefault(entry[0], dict())\n",
    "                influenceAll[entry[0]][year] = entry[1]\n",
    "    return influenceAll"
   ]
  },
  {
   "cell_type": "code",
   "execution_count": 41,
   "metadata": {
    "collapsed": false
   },
   "outputs": [],
   "source": [
    "def generateTimelinesPlot(influencedict, countries, name):\n",
    "    from bokeh.palettes import Spectral10\n",
    "    \n",
    "    plot = figure(plot_width=600, plot_height=400, tools=['pan','tap','box_zoom','reset','wheel_zoom','save'])\n",
    "\n",
    "    d = dict(x=[], y=[],country=[], color=[])\n",
    "    color = copy.copy(Spectral10)\n",
    "    for country in countries:\n",
    "        countrycolor = color[0]\n",
    "        color.remove(countrycolor)\n",
    "        line = dict(xe=[], ye=[],)\n",
    "        for entry in sorted(influencedict[country].items(), key=operator.itemgetter(0)):\n",
    "            d['x'].append(entry[0])\n",
    "            d['y'].append(entry[1])\n",
    "            d['country'].append(country)\n",
    "            d['color'].append(countrycolor)\n",
    "            line['xe'].append(entry[0])\n",
    "            line['ye'].append(entry[1])\n",
    "                    \n",
    "        plot.line(line['xe'], line['ye'],legend=country, color=countrycolor)\n",
    "    \n",
    "    s1 = plot.scatter('x', 'y', line_width=1, color = 'color', source=ColumnDataSource(d))\n",
    "    plot.add_tools(HoverTool(renderers=[s1], tooltips=[('year','@x'),('country','@country'),(name,'@y')]))\n",
    "    \n",
    "    return plot"
   ]
  },
  {
   "cell_type": "markdown",
   "metadata": {
    "collapsed": false
   },
   "source": [
    "### Execution"
   ]
  },
  {
   "cell_type": "code",
   "execution_count": 42,
   "metadata": {
    "collapsed": true
   },
   "outputs": [],
   "source": [
    "influencedict = influenceOverTimeAll(AddedUpDict,militaryexpdict)"
   ]
  },
  {
   "cell_type": "code",
   "execution_count": 43,
   "metadata": {
    "collapsed": false
   },
   "outputs": [
    {
     "data": {
      "text/html": [
       "\n",
       "\n",
       "    <div class=\"bk-root\">\n",
       "        <div class=\"plotdiv\" id=\"e75851c9-f50a-4928-9590-5ab502ed23fe\"></div>\n",
       "    </div>\n",
       "<script type=\"text/javascript\">\n",
       "  \n",
       "  (function(global) {\n",
       "    function now() {\n",
       "      return new Date();\n",
       "    }\n",
       "  \n",
       "    if (typeof (window._bokeh_onload_callbacks) === \"undefined\") {\n",
       "      window._bokeh_onload_callbacks = [];\n",
       "    }\n",
       "  \n",
       "    function run_callbacks() {\n",
       "      window._bokeh_onload_callbacks.forEach(function(callback) { callback() });\n",
       "      delete window._bokeh_onload_callbacks\n",
       "      console.info(\"Bokeh: all callbacks have finished\");\n",
       "    }\n",
       "  \n",
       "    function load_libs(js_urls, callback) {\n",
       "      window._bokeh_onload_callbacks.push(callback);\n",
       "      if (window._bokeh_is_loading > 0) {\n",
       "        console.log(\"Bokeh: BokehJS is being loaded, scheduling callback at\", now());\n",
       "        return null;\n",
       "      }\n",
       "      if (js_urls == null || js_urls.length === 0) {\n",
       "        run_callbacks();\n",
       "        return null;\n",
       "      }\n",
       "      console.log(\"Bokeh: BokehJS not loaded, scheduling load and callback at\", now());\n",
       "      window._bokeh_is_loading = js_urls.length;\n",
       "      for (var i = 0; i < js_urls.length; i++) {\n",
       "        var url = js_urls[i];\n",
       "        var s = document.createElement('script');\n",
       "        s.src = url;\n",
       "        s.async = false;\n",
       "        s.onreadystatechange = s.onload = function() {\n",
       "          window._bokeh_is_loading--;\n",
       "          if (window._bokeh_is_loading === 0) {\n",
       "            console.log(\"Bokeh: all BokehJS libraries loaded\");\n",
       "            run_callbacks()\n",
       "          }\n",
       "        };\n",
       "        s.onerror = function() {\n",
       "          console.warn(\"failed to load library \" + url);\n",
       "        };\n",
       "        console.log(\"Bokeh: injecting script tag for BokehJS library: \", url);\n",
       "        document.getElementsByTagName(\"head\")[0].appendChild(s);\n",
       "      }\n",
       "    };var element = document.getElementById(\"e75851c9-f50a-4928-9590-5ab502ed23fe\");\n",
       "    if (element == null) {\n",
       "      console.log(\"Bokeh: ERROR: autoload.js configured with elementid 'e75851c9-f50a-4928-9590-5ab502ed23fe' but no matching script tag was found. \")\n",
       "      return false;\n",
       "    }\n",
       "  \n",
       "    var js_urls = [];\n",
       "  \n",
       "    var inline_js = [\n",
       "      function(Bokeh) {\n",
       "        Bokeh.$(function() {\n",
       "            var docs_json = {\"6ae40a4e-c893-451d-9a69-42e0e916067d\":{\"roots\":{\"references\":[{\"attributes\":{\"line_color\":{\"value\":\"#3288bd\"},\"x\":{\"field\":\"x\"},\"y\":{\"field\":\"y\"}},\"id\":\"da72b58f-4ab0-4268-b17c-fcefea098738\",\"type\":\"Line\"},{\"attributes\":{},\"id\":\"d2808ca9-ff0c-4e64-bf8c-de44a89e164c\",\"type\":\"BasicTickFormatter\"},{\"attributes\":{\"plot\":{\"id\":\"4e44e58f-07f1-4ac7-a107-2717385c951c\",\"subtype\":\"Figure\",\"type\":\"Plot\"}},\"id\":\"2f07ad36-c07c-4af2-b80d-4501ca2da872\",\"type\":\"ResetTool\"},{\"attributes\":{\"data_source\":{\"id\":\"ce6a40ba-66f8-4e7a-b3e1-1ef166ca5f93\",\"type\":\"ColumnDataSource\"},\"glyph\":{\"id\":\"2b05c5c8-8899-4853-a453-c841d2ec6b55\",\"type\":\"Line\"},\"hover_glyph\":null,\"nonselection_glyph\":{\"id\":\"82de7981-4296-4f16-a0b1-7b6179103f59\",\"type\":\"Line\"},\"selection_glyph\":null},\"id\":\"45487891-7903-4704-ba3a-88c908580a8c\",\"type\":\"GlyphRenderer\"},{\"attributes\":{\"line_alpha\":{\"value\":0.1},\"line_color\":{\"value\":\"#1f77b4\"},\"x\":{\"field\":\"x\"},\"y\":{\"field\":\"y\"}},\"id\":\"82de7981-4296-4f16-a0b1-7b6179103f59\",\"type\":\"Line\"},{\"attributes\":{\"plot\":{\"id\":\"4e44e58f-07f1-4ac7-a107-2717385c951c\",\"subtype\":\"Figure\",\"type\":\"Plot\"}},\"id\":\"2f641021-4cc1-4eda-bc40-59f297ac7964\",\"type\":\"SaveTool\"},{\"attributes\":{\"bounds\":[1950,2015],\"formatter\":{\"id\":\"2989913b-b859-452a-8604-2d85b2b241ff\",\"type\":\"BasicTickFormatter\"},\"plot\":{\"id\":\"4e44e58f-07f1-4ac7-a107-2717385c951c\",\"subtype\":\"Figure\",\"type\":\"Plot\"},\"ticker\":{\"id\":\"c6a8488e-b459-4b60-93d9-5b153929deac\",\"type\":\"BasicTicker\"}},\"id\":\"92542bbe-0f0d-4f65-9429-f11d18ef5788\",\"type\":\"LinearAxis\"},{\"attributes\":{},\"id\":\"2db76d87-f045-40c6-b89d-cf6c671d0f0c\",\"type\":\"BasicTicker\"},{\"attributes\":{\"bounds\":[0,1],\"formatter\":{\"id\":\"d2808ca9-ff0c-4e64-bf8c-de44a89e164c\",\"type\":\"BasicTickFormatter\"},\"plot\":{\"id\":\"4e44e58f-07f1-4ac7-a107-2717385c951c\",\"subtype\":\"Figure\",\"type\":\"Plot\"},\"ticker\":{\"id\":\"2db76d87-f045-40c6-b89d-cf6c671d0f0c\",\"type\":\"BasicTicker\"}},\"id\":\"c4388232-f433-476c-9332-fb2298eeb315\",\"type\":\"LinearAxis\"},{\"attributes\":{\"line_color\":{\"value\":\"#5e4fa2\"},\"x\":{\"field\":\"x\"},\"y\":{\"field\":\"y\"}},\"id\":\"6beef20a-9e06-4ab7-8b5d-9aff0390934a\",\"type\":\"Line\"},{\"attributes\":{},\"id\":\"2989913b-b859-452a-8604-2d85b2b241ff\",\"type\":\"BasicTickFormatter\"},{\"attributes\":{\"plot\":{\"id\":\"4e44e58f-07f1-4ac7-a107-2717385c951c\",\"subtype\":\"Figure\",\"type\":\"Plot\"},\"ticker\":{\"id\":\"c6a8488e-b459-4b60-93d9-5b153929deac\",\"type\":\"BasicTicker\"}},\"id\":\"dc58400e-44ba-483b-a751-6029cb21d02a\",\"type\":\"Grid\"},{\"attributes\":{\"callback\":null,\"end\":1,\"start\":0},\"id\":\"129ee091-ebf4-406a-98a0-14dea3d63332\",\"type\":\"DataRange1d\"},{\"attributes\":{\"data_source\":{\"id\":\"62bf7b36-0b08-4119-a67c-736900611e87\",\"type\":\"ColumnDataSource\"},\"glyph\":{\"id\":\"4304d030-e7f1-4dca-b328-2ee3f783862c\",\"type\":\"Circle\"},\"hover_glyph\":null,\"nonselection_glyph\":{\"id\":\"5035be97-430b-4cc8-bcef-41f8d1e8739f\",\"type\":\"Circle\"},\"selection_glyph\":null},\"id\":\"ec5c69ea-f580-43dd-90e3-ce95664772e7\",\"type\":\"GlyphRenderer\"},{\"attributes\":{\"fill_color\":{\"field\":\"color\"},\"line_color\":{\"field\":\"color\"},\"x\":{\"field\":\"x\"},\"y\":{\"field\":\"y\"}},\"id\":\"4304d030-e7f1-4dca-b328-2ee3f783862c\",\"type\":\"Circle\"},{\"attributes\":{\"below\":[{\"id\":\"92542bbe-0f0d-4f65-9429-f11d18ef5788\",\"type\":\"LinearAxis\"}],\"left\":[{\"id\":\"c4388232-f433-476c-9332-fb2298eeb315\",\"type\":\"LinearAxis\"}],\"plot_height\":400,\"renderers\":[{\"id\":\"92542bbe-0f0d-4f65-9429-f11d18ef5788\",\"type\":\"LinearAxis\"},{\"id\":\"dc58400e-44ba-483b-a751-6029cb21d02a\",\"type\":\"Grid\"},{\"id\":\"c4388232-f433-476c-9332-fb2298eeb315\",\"type\":\"LinearAxis\"},{\"id\":\"8c37ba73-da27-4a64-9227-4aec1048a22a\",\"type\":\"Grid\"},{\"id\":\"d510deb3-5172-4957-8f85-d4b7fad15594\",\"type\":\"BoxAnnotation\"},{\"id\":\"a19f87a9-7785-4a6b-9420-d6e2f48eaa8d\",\"type\":\"Legend\"},{\"id\":\"ca43567c-c36f-4e61-834a-3cb10ea6272c\",\"type\":\"GlyphRenderer\"},{\"id\":\"e1b29d27-9e77-448a-a9d1-12824f2e70b3\",\"type\":\"GlyphRenderer\"},{\"id\":\"45487891-7903-4704-ba3a-88c908580a8c\",\"type\":\"GlyphRenderer\"},{\"id\":\"d20bbe54-8ee6-4cd6-a581-8247367378b6\",\"type\":\"GlyphRenderer\"},{\"id\":\"ec5c69ea-f580-43dd-90e3-ce95664772e7\",\"type\":\"GlyphRenderer\"}],\"title\":{\"id\":\"6cd808ae-d5b6-41e9-838e-8d965fdd295d\",\"type\":\"Title\"},\"tool_events\":{\"id\":\"3f345b61-362a-4e35-b239-bdb7999ecbc4\",\"type\":\"ToolEvents\"},\"toolbar\":{\"id\":\"a15fbfb8-9297-46e9-90ba-6ad018611f22\",\"type\":\"Toolbar\"},\"x_range\":{\"id\":\"d3104fc5-695c-4ef2-9ca9-b162610b2314\",\"type\":\"DataRange1d\"},\"y_range\":{\"id\":\"129ee091-ebf4-406a-98a0-14dea3d63332\",\"type\":\"DataRange1d\"}},\"id\":\"4e44e58f-07f1-4ac7-a107-2717385c951c\",\"subtype\":\"Figure\",\"type\":\"Plot\"},{\"attributes\":{\"callback\":null,\"column_names\":[\"y\",\"x\"],\"data\":{\"x\":[\"1950\",\"1953\",\"1954\",\"1955\",\"1956\",\"1957\",\"1958\",\"1959\",\"1960\",\"1961\",\"1962\",\"1963\",\"1964\",\"1965\",\"1966\",\"1967\",\"1968\",\"1969\",\"1970\",\"1971\",\"1972\",\"1975\",\"1976\",\"1977\",\"1978\",\"1979\",\"1980\",\"1982\",\"1986\",\"1989\",\"1990\",\"1991\",\"1992\",\"1993\",\"1994\",\"1995\",\"1996\",\"1997\",\"1998\",\"1999\",\"2000\",\"2001\",\"2002\",\"2003\",\"2004\",\"2005\",\"2006\",\"2007\",\"2008\",\"2009\",\"2010\",\"2011\",\"2012\",\"2013\",\"2014\",\"2015\"],\"y\":[0.0,0.0,0.0027738927738927732,0.0,0.0,0.0,0.003483483483483484,0.00011695906432748537,0.0008384405856315969,0.0,0.0,0.04568911192184715,0.0,0.0023611792941689845,0.0,0.0,0.0,0.0015266890630832401,0.0010507652108995894,0.0018433571185864765,0.0,0.0,5.374291088576803e-05,0.000736216664665274,0.0,0.0,0.00011385395642498575,0.0,8.84600865327929e-05,0.0,0.0011761501360220057,0.0013190222178986223,0.010988734349072429,0.0,0.00035801740347194886,0.0,0.0,0.0,0.0,0.0065807312610227766,8.158603247124091e-05,0.009134964784189976,0.0015145242099419995,0.0019813920017347996,0.0,0.0,0.017971956593261385,0.018347179648263885,0.020945147890372467,0.000982587391187627,0.00017089336448253297,0.003038598058923513,0.0,0.0,0.0,0.0007196020469765308]}},\"id\":\"84f15cdd-c805-4e13-9afc-3b137247d422\",\"type\":\"ColumnDataSource\"},{\"attributes\":{\"data_source\":{\"id\":\"215d0446-f40f-4b54-80c9-74774cff6c4e\",\"type\":\"ColumnDataSource\"},\"glyph\":{\"id\":\"6beef20a-9e06-4ab7-8b5d-9aff0390934a\",\"type\":\"Line\"},\"hover_glyph\":null,\"nonselection_glyph\":{\"id\":\"51777a2d-ae7a-4a8d-a32c-c5012c618779\",\"type\":\"Line\"},\"selection_glyph\":null},\"id\":\"ca43567c-c36f-4e61-834a-3cb10ea6272c\",\"type\":\"GlyphRenderer\"},{\"attributes\":{\"plot\":{\"id\":\"4e44e58f-07f1-4ac7-a107-2717385c951c\",\"subtype\":\"Figure\",\"type\":\"Plot\"}},\"id\":\"5d4ff521-6c7a-4c07-b182-2845b5a2f666\",\"type\":\"WheelZoomTool\"},{\"attributes\":{\"line_color\":{\"value\":\"#abdda4\"},\"x\":{\"field\":\"x\"},\"y\":{\"field\":\"y\"}},\"id\":\"8ad45649-8847-48e8-ac60-118902ce3e9e\",\"type\":\"Line\"},{\"attributes\":{},\"id\":\"c6a8488e-b459-4b60-93d9-5b153929deac\",\"type\":\"BasicTicker\"},{\"attributes\":{\"line_alpha\":{\"value\":0.1},\"line_color\":{\"value\":\"#1f77b4\"},\"x\":{\"field\":\"x\"},\"y\":{\"field\":\"y\"}},\"id\":\"51777a2d-ae7a-4a8d-a32c-c5012c618779\",\"type\":\"Line\"},{\"attributes\":{\"callback\":null,\"column_names\":[\"color\",\"country\",\"y\",\"x\"],\"data\":{\"color\":[\"#5e4fa2\",\"#5e4fa2\",\"#5e4fa2\",\"#5e4fa2\",\"#5e4fa2\",\"#5e4fa2\",\"#5e4fa2\",\"#5e4fa2\",\"#5e4fa2\",\"#5e4fa2\",\"#5e4fa2\",\"#5e4fa2\",\"#5e4fa2\",\"#5e4fa2\",\"#5e4fa2\",\"#5e4fa2\",\"#5e4fa2\",\"#5e4fa2\",\"#5e4fa2\",\"#5e4fa2\",\"#5e4fa2\",\"#5e4fa2\",\"#5e4fa2\",\"#5e4fa2\",\"#5e4fa2\",\"#5e4fa2\",\"#5e4fa2\",\"#5e4fa2\",\"#5e4fa2\",\"#5e4fa2\",\"#5e4fa2\",\"#5e4fa2\",\"#5e4fa2\",\"#5e4fa2\",\"#5e4fa2\",\"#5e4fa2\",\"#5e4fa2\",\"#5e4fa2\",\"#5e4fa2\",\"#5e4fa2\",\"#5e4fa2\",\"#5e4fa2\",\"#5e4fa2\",\"#5e4fa2\",\"#5e4fa2\",\"#5e4fa2\",\"#5e4fa2\",\"#5e4fa2\",\"#5e4fa2\",\"#5e4fa2\",\"#5e4fa2\",\"#5e4fa2\",\"#5e4fa2\",\"#5e4fa2\",\"#5e4fa2\",\"#5e4fa2\",\"#5e4fa2\",\"#5e4fa2\",\"#5e4fa2\",\"#5e4fa2\",\"#5e4fa2\",\"#5e4fa2\",\"#5e4fa2\",\"#5e4fa2\",\"#5e4fa2\",\"#5e4fa2\",\"#3288bd\",\"#3288bd\",\"#3288bd\",\"#3288bd\",\"#3288bd\",\"#3288bd\",\"#3288bd\",\"#3288bd\",\"#3288bd\",\"#3288bd\",\"#3288bd\",\"#3288bd\",\"#3288bd\",\"#3288bd\",\"#3288bd\",\"#3288bd\",\"#3288bd\",\"#3288bd\",\"#3288bd\",\"#3288bd\",\"#3288bd\",\"#3288bd\",\"#3288bd\",\"#3288bd\",\"#3288bd\",\"#3288bd\",\"#3288bd\",\"#3288bd\",\"#3288bd\",\"#3288bd\",\"#3288bd\",\"#3288bd\",\"#3288bd\",\"#3288bd\",\"#3288bd\",\"#3288bd\",\"#3288bd\",\"#3288bd\",\"#3288bd\",\"#3288bd\",\"#3288bd\",\"#3288bd\",\"#3288bd\",\"#3288bd\",\"#3288bd\",\"#3288bd\",\"#3288bd\",\"#3288bd\",\"#3288bd\",\"#3288bd\",\"#3288bd\",\"#3288bd\",\"#3288bd\",\"#3288bd\",\"#3288bd\",\"#3288bd\",\"#3288bd\",\"#3288bd\",\"#3288bd\",\"#3288bd\",\"#3288bd\",\"#3288bd\",\"#3288bd\",\"#3288bd\",\"#3288bd\",\"#3288bd\",\"#66c2a5\",\"#66c2a5\",\"#66c2a5\",\"#66c2a5\",\"#66c2a5\",\"#66c2a5\",\"#66c2a5\",\"#66c2a5\",\"#66c2a5\",\"#66c2a5\",\"#66c2a5\",\"#66c2a5\",\"#66c2a5\",\"#66c2a5\",\"#66c2a5\",\"#66c2a5\",\"#66c2a5\",\"#66c2a5\",\"#66c2a5\",\"#66c2a5\",\"#66c2a5\",\"#66c2a5\",\"#66c2a5\",\"#66c2a5\",\"#66c2a5\",\"#66c2a5\",\"#66c2a5\",\"#66c2a5\",\"#66c2a5\",\"#66c2a5\",\"#66c2a5\",\"#66c2a5\",\"#66c2a5\",\"#66c2a5\",\"#66c2a5\",\"#66c2a5\",\"#66c2a5\",\"#66c2a5\",\"#66c2a5\",\"#66c2a5\",\"#66c2a5\",\"#66c2a5\",\"#66c2a5\",\"#66c2a5\",\"#66c2a5\",\"#66c2a5\",\"#66c2a5\",\"#66c2a5\",\"#66c2a5\",\"#66c2a5\",\"#66c2a5\",\"#66c2a5\",\"#66c2a5\",\"#66c2a5\",\"#66c2a5\",\"#66c2a5\",\"#66c2a5\",\"#66c2a5\",\"#66c2a5\",\"#66c2a5\",\"#66c2a5\",\"#66c2a5\",\"#66c2a5\",\"#66c2a5\",\"#66c2a5\",\"#66c2a5\",\"#abdda4\",\"#abdda4\",\"#abdda4\",\"#abdda4\",\"#abdda4\",\"#abdda4\",\"#abdda4\",\"#abdda4\",\"#abdda4\",\"#abdda4\",\"#abdda4\",\"#abdda4\",\"#abdda4\",\"#abdda4\",\"#abdda4\",\"#abdda4\",\"#abdda4\",\"#abdda4\",\"#abdda4\",\"#abdda4\",\"#abdda4\",\"#abdda4\",\"#abdda4\",\"#abdda4\",\"#abdda4\",\"#abdda4\",\"#abdda4\",\"#abdda4\",\"#abdda4\",\"#abdda4\",\"#abdda4\",\"#abdda4\",\"#abdda4\",\"#abdda4\",\"#abdda4\",\"#abdda4\",\"#abdda4\",\"#abdda4\",\"#abdda4\",\"#abdda4\",\"#abdda4\",\"#abdda4\",\"#abdda4\",\"#abdda4\",\"#abdda4\",\"#abdda4\",\"#abdda4\",\"#abdda4\",\"#abdda4\",\"#abdda4\",\"#abdda4\",\"#abdda4\",\"#abdda4\",\"#abdda4\",\"#abdda4\",\"#abdda4\"],\"country\":[\"Canada\",\"Canada\",\"Canada\",\"Canada\",\"Canada\",\"Canada\",\"Canada\",\"Canada\",\"Canada\",\"Canada\",\"Canada\",\"Canada\",\"Canada\",\"Canada\",\"Canada\",\"Canada\",\"Canada\",\"Canada\",\"Canada\",\"Canada\",\"Canada\",\"Canada\",\"Canada\",\"Canada\",\"Canada\",\"Canada\",\"Canada\",\"Canada\",\"Canada\",\"Canada\",\"Canada\",\"Canada\",\"Canada\",\"Canada\",\"Canada\",\"Canada\",\"Canada\",\"Canada\",\"Canada\",\"Canada\",\"Canada\",\"Canada\",\"Canada\",\"Canada\",\"Canada\",\"Canada\",\"Canada\",\"Canada\",\"Canada\",\"Canada\",\"Canada\",\"Canada\",\"Canada\",\"Canada\",\"Canada\",\"Canada\",\"Canada\",\"Canada\",\"Canada\",\"Canada\",\"Canada\",\"Canada\",\"Canada\",\"Canada\",\"Canada\",\"Canada\",\"United States\",\"United States\",\"United States\",\"United States\",\"United States\",\"United States\",\"United States\",\"United States\",\"United States\",\"United States\",\"United States\",\"United States\",\"United States\",\"United States\",\"United States\",\"United States\",\"United States\",\"United States\",\"United States\",\"United States\",\"United States\",\"United States\",\"United States\",\"United States\",\"United States\",\"United States\",\"United States\",\"United States\",\"United States\",\"United States\",\"United States\",\"United States\",\"United States\",\"United States\",\"United States\",\"United States\",\"United States\",\"United States\",\"United States\",\"United States\",\"United States\",\"United States\",\"United States\",\"United States\",\"United States\",\"United States\",\"United States\",\"United States\",\"United States\",\"United States\",\"United States\",\"United States\",\"United States\",\"United States\",\"United States\",\"United States\",\"United States\",\"United States\",\"United States\",\"United States\",\"United States\",\"United States\",\"United States\",\"United States\",\"United States\",\"United States\",\"China\",\"China\",\"China\",\"China\",\"China\",\"China\",\"China\",\"China\",\"China\",\"China\",\"China\",\"China\",\"China\",\"China\",\"China\",\"China\",\"China\",\"China\",\"China\",\"China\",\"China\",\"China\",\"China\",\"China\",\"China\",\"China\",\"China\",\"China\",\"China\",\"China\",\"China\",\"China\",\"China\",\"China\",\"China\",\"China\",\"China\",\"China\",\"China\",\"China\",\"China\",\"China\",\"China\",\"China\",\"China\",\"China\",\"China\",\"China\",\"China\",\"China\",\"China\",\"China\",\"China\",\"China\",\"China\",\"China\",\"China\",\"China\",\"China\",\"China\",\"China\",\"China\",\"China\",\"China\",\"China\",\"China\",\"Myanmar\",\"Myanmar\",\"Myanmar\",\"Myanmar\",\"Myanmar\",\"Myanmar\",\"Myanmar\",\"Myanmar\",\"Myanmar\",\"Myanmar\",\"Myanmar\",\"Myanmar\",\"Myanmar\",\"Myanmar\",\"Myanmar\",\"Myanmar\",\"Myanmar\",\"Myanmar\",\"Myanmar\",\"Myanmar\",\"Myanmar\",\"Myanmar\",\"Myanmar\",\"Myanmar\",\"Myanmar\",\"Myanmar\",\"Myanmar\",\"Myanmar\",\"Myanmar\",\"Myanmar\",\"Myanmar\",\"Myanmar\",\"Myanmar\",\"Myanmar\",\"Myanmar\",\"Myanmar\",\"Myanmar\",\"Myanmar\",\"Myanmar\",\"Myanmar\",\"Myanmar\",\"Myanmar\",\"Myanmar\",\"Myanmar\",\"Myanmar\",\"Myanmar\",\"Myanmar\",\"Myanmar\",\"Myanmar\",\"Myanmar\",\"Myanmar\",\"Myanmar\",\"Myanmar\",\"Myanmar\",\"Myanmar\",\"Myanmar\"],\"x\":[\"1950\",\"1951\",\"1952\",\"1953\",\"1954\",\"1955\",\"1956\",\"1957\",\"1958\",\"1959\",\"1960\",\"1961\",\"1962\",\"1963\",\"1964\",\"1965\",\"1966\",\"1967\",\"1968\",\"1969\",\"1970\",\"1971\",\"1972\",\"1973\",\"1974\",\"1975\",\"1976\",\"1977\",\"1978\",\"1979\",\"1980\",\"1981\",\"1982\",\"1983\",\"1984\",\"1985\",\"1986\",\"1987\",\"1988\",\"1989\",\"1990\",\"1991\",\"1992\",\"1993\",\"1994\",\"1995\",\"1996\",\"1997\",\"1998\",\"1999\",\"2000\",\"2001\",\"2002\",\"2003\",\"2004\",\"2005\",\"2006\",\"2007\",\"2008\",\"2009\",\"2010\",\"2011\",\"2012\",\"2013\",\"2014\",\"2015\",\"1950\",\"1951\",\"1952\",\"1953\",\"1954\",\"1955\",\"1956\",\"1957\",\"1958\",\"1959\",\"1960\",\"1961\",\"1962\",\"1963\",\"1964\",\"1965\",\"1966\",\"1967\",\"1968\",\"1969\",\"1970\",\"1971\",\"1972\",\"1973\",\"1974\",\"1975\",\"1976\",\"1977\",\"1978\",\"1979\",\"1980\",\"1981\",\"1982\",\"1983\",\"1984\",\"1985\",\"1986\",\"1987\",\"1988\",\"1989\",\"1990\",\"1991\",\"1992\",\"1993\",\"1994\",\"1995\",\"1996\",\"1997\",\"1998\",\"1999\",\"2000\",\"2001\",\"2002\",\"2003\",\"2004\",\"2005\",\"2006\",\"2007\",\"2008\",\"2009\",\"2010\",\"2011\",\"2012\",\"2013\",\"2014\",\"2015\",\"1950\",\"1951\",\"1952\",\"1953\",\"1954\",\"1955\",\"1956\",\"1957\",\"1958\",\"1959\",\"1960\",\"1961\",\"1962\",\"1963\",\"1964\",\"1965\",\"1966\",\"1967\",\"1968\",\"1969\",\"1970\",\"1971\",\"1972\",\"1973\",\"1974\",\"1975\",\"1976\",\"1977\",\"1978\",\"1979\",\"1980\",\"1981\",\"1982\",\"1983\",\"1984\",\"1985\",\"1986\",\"1987\",\"1988\",\"1989\",\"1990\",\"1991\",\"1992\",\"1993\",\"1994\",\"1995\",\"1996\",\"1997\",\"1998\",\"1999\",\"2000\",\"2001\",\"2002\",\"2003\",\"2004\",\"2005\",\"2006\",\"2007\",\"2008\",\"2009\",\"2010\",\"2011\",\"2012\",\"2013\",\"2014\",\"2015\",\"1950\",\"1953\",\"1954\",\"1955\",\"1956\",\"1957\",\"1958\",\"1959\",\"1960\",\"1961\",\"1962\",\"1963\",\"1964\",\"1965\",\"1966\",\"1967\",\"1968\",\"1969\",\"1970\",\"1971\",\"1972\",\"1975\",\"1976\",\"1977\",\"1978\",\"1979\",\"1980\",\"1982\",\"1986\",\"1989\",\"1990\",\"1991\",\"1992\",\"1993\",\"1994\",\"1995\",\"1996\",\"1997\",\"1998\",\"1999\",\"2000\",\"2001\",\"2002\",\"2003\",\"2004\",\"2005\",\"2006\",\"2007\",\"2008\",\"2009\",\"2010\",\"2011\",\"2012\",\"2013\",\"2014\",\"2015\"],\"y\":[0.05457516339869278,0.011372549019607846,0.009084556254367573,0.010309653916211296,0.03423465423465424,0.047890025575447574,0.010372885460913627,0.006136820925553321,0.01822783822783823,0.07147034252297407,0.004858494841896271,0.015685563223338094,0.0,0.00035858237111959445,0.012064515272790165,0.04941458348352677,0.05763156390338393,0.03915260739431372,0.010864630711684147,0.010152917185062628,0.02164945543444984,0.007690948242681169,0.009398829565496232,0.016545417648173372,0.005630398701827275,0.0018418891677405606,0.013847380919470133,0.03288757951355748,0.013543715465521076,0.04265591269156616,0.03990684992347613,0.03543619052531044,0.03216371995860344,0.007428277077040868,0.0060507143490136465,0.022482772213054388,0.0495065440517033,0.023284626346281482,0.018589027826680805,0.023313908362966568,0.03799038922774323,0.01660877725493743,0.012698140906415802,0.011855055135303482,0.01551854899721319,0.035766721287636125,0.01961449377370997,0.0023849842772864197,0.018004418558911647,0.013069911114817553,0.010872307332875124,0.010668801992779349,0.005524385911948295,0.01115702203327778,0.024889760883140346,0.022548107741787653,0.01425678189788471,0.006709293352280154,0.03923741783802161,0.014730004181445986,0.008272579513189462,0.01891194436723979,0.051001972498022255,0.05142094919906228,0.07462669516640966,0.019370675458704894,0.49892810457516334,0.6243137254901959,0.6416259026321918,0.46990892531876144,0.4528293928293929,0.5530101895830795,0.55177267307549,0.7834942991281022,0.581883350883351,0.45002422723475355,0.5120799506077851,0.4625281390195511,0.5758696339958359,0.5568151485912423,0.44991732553658526,0.4839392858239507,0.46408210685530155,0.432182289087216,0.42667277383586516,0.42158936660290486,0.46429080116803434,0.4458519764673832,0.4672630665648324,0.4324301012517132,0.43362267796804477,0.38606886242042093,0.4034700084450506,0.32624100158056,0.31206968423149023,0.23279776087017176,0.2300049350502396,0.30980993818813496,0.32831616632675065,0.27218516112924107,0.3156142325713686,0.3169857511738994,0.3277244770559357,0.29423479797994745,0.3417112072611785,0.31365714243155546,0.26059248996797413,0.255571837911826,0.29949797987252375,0.3807829129140983,0.3718313648040297,0.37025543060520666,0.4236294762334561,0.39322524285090693,0.40146478915138234,0.2991141265296741,0.33905460000422494,0.3435092969656022,0.3651498889443949,0.45911084458510554,0.2467132221124511,0.29540494416156315,0.31583365294539295,0.3068572120476383,0.3070521237207498,0.2587426850629595,0.27116091399781567,0.2920088113347947,0.32406461400332165,0.2279209123553707,0.29301497751440686,0.4100366914052445,0.0,0.0,0.0,0.0,0.0,0.0,0.0,0.0,0.0,0.0,0.0,0.00013365410318096765,0.023809523809523808,0.0065897426339999125,0.03142476326885682,0.030703801257924962,0.042264323953329234,0.060757388233731856,0.04660313918466496,0.04125388938181245,0.04064622260504232,0.044423579616029926,0.06048402536770604,0.07831712391983368,0.052714997329254304,0.040742654699421614,0.04606829203621169,0.03471407637771408,0.04926015379669181,0.027766878864243973,0.028904637338041866,0.018117307396097973,0.04667722014162503,0.05242472422738476,0.03212170010916311,0.04647734336749748,0.025730371020134233,0.05668405045488987,0.055449201208491665,0.08221628642172356,0.07605613863263397,0.10195182301731065,0.11018193524646187,0.09558908778563553,0.15054575149214336,0.12556686441437728,0.11102830962112899,0.10283737220735746,0.05095154193257234,0.07897297649850205,0.11575684454152281,0.09654392212308247,0.09310603979930246,0.09911598562812762,0.09614220283541432,0.08719065748336903,0.10870251237256681,0.14121302215519047,0.16154210082189838,0.1393990493101022,0.10977739636868943,0.06900753836781563,0.0926183056239105,0.10137331614974053,0.12548863059416746,0.14444261520122453,0.0,0.0,0.0027738927738927732,0.0,0.0,0.0,0.003483483483483484,0.00011695906432748537,0.0008384405856315969,0.0,0.0,0.04568911192184715,0.0,0.0023611792941689845,0.0,0.0,0.0,0.0015266890630832401,0.0010507652108995894,0.0018433571185864765,0.0,0.0,5.374291088576803e-05,0.000736216664665274,0.0,0.0,0.00011385395642498575,0.0,8.84600865327929e-05,0.0,0.0011761501360220057,0.0013190222178986223,0.010988734349072429,0.0,0.00035801740347194886,0.0,0.0,0.0,0.0,0.0065807312610227766,8.158603247124091e-05,0.009134964784189976,0.0015145242099419995,0.0019813920017347996,0.0,0.0,0.017971956593261385,0.018347179648263885,0.020945147890372467,0.000982587391187627,0.00017089336448253297,0.003038598058923513,0.0,0.0,0.0,0.0007196020469765308]}},\"id\":\"62bf7b36-0b08-4119-a67c-736900611e87\",\"type\":\"ColumnDataSource\"},{\"attributes\":{\"callback\":null,\"column_names\":[\"y\",\"x\"],\"data\":{\"x\":[\"1950\",\"1951\",\"1952\",\"1953\",\"1954\",\"1955\",\"1956\",\"1957\",\"1958\",\"1959\",\"1960\",\"1961\",\"1962\",\"1963\",\"1964\",\"1965\",\"1966\",\"1967\",\"1968\",\"1969\",\"1970\",\"1971\",\"1972\",\"1973\",\"1974\",\"1975\",\"1976\",\"1977\",\"1978\",\"1979\",\"1980\",\"1981\",\"1982\",\"1983\",\"1984\",\"1985\",\"1986\",\"1987\",\"1988\",\"1989\",\"1990\",\"1991\",\"1992\",\"1993\",\"1994\",\"1995\",\"1996\",\"1997\",\"1998\",\"1999\",\"2000\",\"2001\",\"2002\",\"2003\",\"2004\",\"2005\",\"2006\",\"2007\",\"2008\",\"2009\",\"2010\",\"2011\",\"2012\",\"2013\",\"2014\",\"2015\"],\"y\":[0.0,0.0,0.0,0.0,0.0,0.0,0.0,0.0,0.0,0.0,0.0,0.00013365410318096765,0.023809523809523808,0.0065897426339999125,0.03142476326885682,0.030703801257924962,0.042264323953329234,0.060757388233731856,0.04660313918466496,0.04125388938181245,0.04064622260504232,0.044423579616029926,0.06048402536770604,0.07831712391983368,0.052714997329254304,0.040742654699421614,0.04606829203621169,0.03471407637771408,0.04926015379669181,0.027766878864243973,0.028904637338041866,0.018117307396097973,0.04667722014162503,0.05242472422738476,0.03212170010916311,0.04647734336749748,0.025730371020134233,0.05668405045488987,0.055449201208491665,0.08221628642172356,0.07605613863263397,0.10195182301731065,0.11018193524646187,0.09558908778563553,0.15054575149214336,0.12556686441437728,0.11102830962112899,0.10283737220735746,0.05095154193257234,0.07897297649850205,0.11575684454152281,0.09654392212308247,0.09310603979930246,0.09911598562812762,0.09614220283541432,0.08719065748336903,0.10870251237256681,0.14121302215519047,0.16154210082189838,0.1393990493101022,0.10977739636868943,0.06900753836781563,0.0926183056239105,0.10137331614974053,0.12548863059416746,0.14444261520122453]}},\"id\":\"ce6a40ba-66f8-4e7a-b3e1-1ef166ca5f93\",\"type\":\"ColumnDataSource\"},{\"attributes\":{\"active_drag\":\"auto\",\"active_scroll\":\"auto\",\"active_tap\":\"auto\",\"tools\":[{\"id\":\"44508961-dc1a-4e3e-b467-67b95094027d\",\"type\":\"PanTool\"},{\"id\":\"d689b98c-0cfb-4b6c-b7ec-b0f088ebdd59\",\"type\":\"TapTool\"},{\"id\":\"34239c28-1dd7-46c8-89a5-d3bc0e0c0884\",\"type\":\"BoxZoomTool\"},{\"id\":\"2f07ad36-c07c-4af2-b80d-4501ca2da872\",\"type\":\"ResetTool\"},{\"id\":\"5d4ff521-6c7a-4c07-b182-2845b5a2f666\",\"type\":\"WheelZoomTool\"},{\"id\":\"2f641021-4cc1-4eda-bc40-59f297ac7964\",\"type\":\"SaveTool\"},{\"id\":\"26eeb716-a137-4372-9d1f-ba4917081241\",\"type\":\"HoverTool\"}]},\"id\":\"a15fbfb8-9297-46e9-90ba-6ad018611f22\",\"type\":\"Toolbar\"},{\"attributes\":{\"callback\":null,\"plot\":{\"id\":\"4e44e58f-07f1-4ac7-a107-2717385c951c\",\"subtype\":\"Figure\",\"type\":\"Plot\"}},\"id\":\"d689b98c-0cfb-4b6c-b7ec-b0f088ebdd59\",\"type\":\"TapTool\"},{\"attributes\":{\"data_source\":{\"id\":\"ab965eee-3d22-4329-a841-ef6d587f9909\",\"type\":\"ColumnDataSource\"},\"glyph\":{\"id\":\"da72b58f-4ab0-4268-b17c-fcefea098738\",\"type\":\"Line\"},\"hover_glyph\":null,\"nonselection_glyph\":{\"id\":\"580ea2e1-2b5e-4721-89c7-fc7fa327a861\",\"type\":\"Line\"},\"selection_glyph\":null},\"id\":\"e1b29d27-9e77-448a-a9d1-12824f2e70b3\",\"type\":\"GlyphRenderer\"},{\"attributes\":{\"bottom_units\":\"screen\",\"fill_alpha\":{\"value\":0.5},\"fill_color\":{\"value\":\"lightgrey\"},\"left_units\":\"screen\",\"level\":\"overlay\",\"line_alpha\":{\"value\":1.0},\"line_color\":{\"value\":\"black\"},\"line_dash\":[4,4],\"line_width\":{\"value\":2},\"plot\":null,\"render_mode\":\"css\",\"right_units\":\"screen\",\"top_units\":\"screen\"},\"id\":\"d510deb3-5172-4957-8f85-d4b7fad15594\",\"type\":\"BoxAnnotation\"},{\"attributes\":{},\"id\":\"3f345b61-362a-4e35-b239-bdb7999ecbc4\",\"type\":\"ToolEvents\"},{\"attributes\":{\"line_alpha\":{\"value\":0.1},\"line_color\":{\"value\":\"#1f77b4\"},\"x\":{\"field\":\"x\"},\"y\":{\"field\":\"y\"}},\"id\":\"580ea2e1-2b5e-4721-89c7-fc7fa327a861\",\"type\":\"Line\"},{\"attributes\":{\"legends\":[[\"Canada\",[{\"id\":\"ca43567c-c36f-4e61-834a-3cb10ea6272c\",\"type\":\"GlyphRenderer\"}]],[\"United States\",[{\"id\":\"e1b29d27-9e77-448a-a9d1-12824f2e70b3\",\"type\":\"GlyphRenderer\"}]],[\"China\",[{\"id\":\"45487891-7903-4704-ba3a-88c908580a8c\",\"type\":\"GlyphRenderer\"}]],[\"Myanmar\",[{\"id\":\"d20bbe54-8ee6-4cd6-a581-8247367378b6\",\"type\":\"GlyphRenderer\"}]]],\"plot\":{\"id\":\"4e44e58f-07f1-4ac7-a107-2717385c951c\",\"subtype\":\"Figure\",\"type\":\"Plot\"}},\"id\":\"a19f87a9-7785-4a6b-9420-d6e2f48eaa8d\",\"type\":\"Legend\"},{\"attributes\":{\"callback\":null,\"column_names\":[\"y\",\"x\"],\"data\":{\"x\":[\"1950\",\"1951\",\"1952\",\"1953\",\"1954\",\"1955\",\"1956\",\"1957\",\"1958\",\"1959\",\"1960\",\"1961\",\"1962\",\"1963\",\"1964\",\"1965\",\"1966\",\"1967\",\"1968\",\"1969\",\"1970\",\"1971\",\"1972\",\"1973\",\"1974\",\"1975\",\"1976\",\"1977\",\"1978\",\"1979\",\"1980\",\"1981\",\"1982\",\"1983\",\"1984\",\"1985\",\"1986\",\"1987\",\"1988\",\"1989\",\"1990\",\"1991\",\"1992\",\"1993\",\"1994\",\"1995\",\"1996\",\"1997\",\"1998\",\"1999\",\"2000\",\"2001\",\"2002\",\"2003\",\"2004\",\"2005\",\"2006\",\"2007\",\"2008\",\"2009\",\"2010\",\"2011\",\"2012\",\"2013\",\"2014\",\"2015\"],\"y\":[0.49892810457516334,0.6243137254901959,0.6416259026321918,0.46990892531876144,0.4528293928293929,0.5530101895830795,0.55177267307549,0.7834942991281022,0.581883350883351,0.45002422723475355,0.5120799506077851,0.4625281390195511,0.5758696339958359,0.5568151485912423,0.44991732553658526,0.4839392858239507,0.46408210685530155,0.432182289087216,0.42667277383586516,0.42158936660290486,0.46429080116803434,0.4458519764673832,0.4672630665648324,0.4324301012517132,0.43362267796804477,0.38606886242042093,0.4034700084450506,0.32624100158056,0.31206968423149023,0.23279776087017176,0.2300049350502396,0.30980993818813496,0.32831616632675065,0.27218516112924107,0.3156142325713686,0.3169857511738994,0.3277244770559357,0.29423479797994745,0.3417112072611785,0.31365714243155546,0.26059248996797413,0.255571837911826,0.29949797987252375,0.3807829129140983,0.3718313648040297,0.37025543060520666,0.4236294762334561,0.39322524285090693,0.40146478915138234,0.2991141265296741,0.33905460000422494,0.3435092969656022,0.3651498889443949,0.45911084458510554,0.2467132221124511,0.29540494416156315,0.31583365294539295,0.3068572120476383,0.3070521237207498,0.2587426850629595,0.27116091399781567,0.2920088113347947,0.32406461400332165,0.2279209123553707,0.29301497751440686,0.4100366914052445]}},\"id\":\"ab965eee-3d22-4329-a841-ef6d587f9909\",\"type\":\"ColumnDataSource\"},{\"attributes\":{\"fill_alpha\":{\"value\":0.1},\"fill_color\":{\"value\":\"#1f77b4\"},\"line_alpha\":{\"value\":0.1},\"line_color\":{\"value\":\"#1f77b4\"},\"x\":{\"field\":\"x\"},\"y\":{\"field\":\"y\"}},\"id\":\"5035be97-430b-4cc8-bcef-41f8d1e8739f\",\"type\":\"Circle\"},{\"attributes\":{\"line_alpha\":{\"value\":0.1},\"line_color\":{\"value\":\"#1f77b4\"},\"x\":{\"field\":\"x\"},\"y\":{\"field\":\"y\"}},\"id\":\"955b357d-c91d-4366-ac6b-7764cc26e338\",\"type\":\"Line\"},{\"attributes\":{\"plot\":null,\"text\":null},\"id\":\"6cd808ae-d5b6-41e9-838e-8d965fdd295d\",\"type\":\"Title\"},{\"attributes\":{\"callback\":null,\"column_names\":[\"y\",\"x\"],\"data\":{\"x\":[\"1950\",\"1951\",\"1952\",\"1953\",\"1954\",\"1955\",\"1956\",\"1957\",\"1958\",\"1959\",\"1960\",\"1961\",\"1962\",\"1963\",\"1964\",\"1965\",\"1966\",\"1967\",\"1968\",\"1969\",\"1970\",\"1971\",\"1972\",\"1973\",\"1974\",\"1975\",\"1976\",\"1977\",\"1978\",\"1979\",\"1980\",\"1981\",\"1982\",\"1983\",\"1984\",\"1985\",\"1986\",\"1987\",\"1988\",\"1989\",\"1990\",\"1991\",\"1992\",\"1993\",\"1994\",\"1995\",\"1996\",\"1997\",\"1998\",\"1999\",\"2000\",\"2001\",\"2002\",\"2003\",\"2004\",\"2005\",\"2006\",\"2007\",\"2008\",\"2009\",\"2010\",\"2011\",\"2012\",\"2013\",\"2014\",\"2015\"],\"y\":[0.05457516339869278,0.011372549019607846,0.009084556254367573,0.010309653916211296,0.03423465423465424,0.047890025575447574,0.010372885460913627,0.006136820925553321,0.01822783822783823,0.07147034252297407,0.004858494841896271,0.015685563223338094,0.0,0.00035858237111959445,0.012064515272790165,0.04941458348352677,0.05763156390338393,0.03915260739431372,0.010864630711684147,0.010152917185062628,0.02164945543444984,0.007690948242681169,0.009398829565496232,0.016545417648173372,0.005630398701827275,0.0018418891677405606,0.013847380919470133,0.03288757951355748,0.013543715465521076,0.04265591269156616,0.03990684992347613,0.03543619052531044,0.03216371995860344,0.007428277077040868,0.0060507143490136465,0.022482772213054388,0.0495065440517033,0.023284626346281482,0.018589027826680805,0.023313908362966568,0.03799038922774323,0.01660877725493743,0.012698140906415802,0.011855055135303482,0.01551854899721319,0.035766721287636125,0.01961449377370997,0.0023849842772864197,0.018004418558911647,0.013069911114817553,0.010872307332875124,0.010668801992779349,0.005524385911948295,0.01115702203327778,0.024889760883140346,0.022548107741787653,0.01425678189788471,0.006709293352280154,0.03923741783802161,0.014730004181445986,0.008272579513189462,0.01891194436723979,0.051001972498022255,0.05142094919906228,0.07462669516640966,0.019370675458704894]}},\"id\":\"215d0446-f40f-4b54-80c9-74774cff6c4e\",\"type\":\"ColumnDataSource\"},{\"attributes\":{\"plot\":{\"id\":\"4e44e58f-07f1-4ac7-a107-2717385c951c\",\"subtype\":\"Figure\",\"type\":\"Plot\"}},\"id\":\"44508961-dc1a-4e3e-b467-67b95094027d\",\"type\":\"PanTool\"},{\"attributes\":{\"overlay\":{\"id\":\"d510deb3-5172-4957-8f85-d4b7fad15594\",\"type\":\"BoxAnnotation\"},\"plot\":{\"id\":\"4e44e58f-07f1-4ac7-a107-2717385c951c\",\"subtype\":\"Figure\",\"type\":\"Plot\"}},\"id\":\"34239c28-1dd7-46c8-89a5-d3bc0e0c0884\",\"type\":\"BoxZoomTool\"},{\"attributes\":{\"callback\":null,\"plot\":{\"id\":\"4e44e58f-07f1-4ac7-a107-2717385c951c\",\"subtype\":\"Figure\",\"type\":\"Plot\"},\"renderers\":[{\"id\":\"ec5c69ea-f580-43dd-90e3-ce95664772e7\",\"type\":\"GlyphRenderer\"}],\"tooltips\":[[\"year\",\"@x\"],[\"country\",\"@country\"],[\"node centrality\",\"@y\"]]},\"id\":\"26eeb716-a137-4372-9d1f-ba4917081241\",\"type\":\"HoverTool\"},{\"attributes\":{\"line_color\":{\"value\":\"#66c2a5\"},\"x\":{\"field\":\"x\"},\"y\":{\"field\":\"y\"}},\"id\":\"2b05c5c8-8899-4853-a453-c841d2ec6b55\",\"type\":\"Line\"},{\"attributes\":{\"callback\":null,\"end\":2015,\"start\":1950},\"id\":\"d3104fc5-695c-4ef2-9ca9-b162610b2314\",\"type\":\"DataRange1d\"},{\"attributes\":{\"data_source\":{\"id\":\"84f15cdd-c805-4e13-9afc-3b137247d422\",\"type\":\"ColumnDataSource\"},\"glyph\":{\"id\":\"8ad45649-8847-48e8-ac60-118902ce3e9e\",\"type\":\"Line\"},\"hover_glyph\":null,\"nonselection_glyph\":{\"id\":\"955b357d-c91d-4366-ac6b-7764cc26e338\",\"type\":\"Line\"},\"selection_glyph\":null},\"id\":\"d20bbe54-8ee6-4cd6-a581-8247367378b6\",\"type\":\"GlyphRenderer\"},{\"attributes\":{\"dimension\":1,\"plot\":{\"id\":\"4e44e58f-07f1-4ac7-a107-2717385c951c\",\"subtype\":\"Figure\",\"type\":\"Plot\"},\"ticker\":{\"id\":\"2db76d87-f045-40c6-b89d-cf6c671d0f0c\",\"type\":\"BasicTicker\"}},\"id\":\"8c37ba73-da27-4a64-9227-4aec1048a22a\",\"type\":\"Grid\"}],\"root_ids\":[\"4e44e58f-07f1-4ac7-a107-2717385c951c\"]},\"title\":\"Bokeh Application\",\"version\":\"0.12.0\"}};\n",
       "            var render_items = [{\"docid\":\"6ae40a4e-c893-451d-9a69-42e0e916067d\",\"elementid\":\"e75851c9-f50a-4928-9590-5ab502ed23fe\",\"modelid\":\"4e44e58f-07f1-4ac7-a107-2717385c951c\",\"notebook_comms_target\":\"2e3b6f57-ef92-41d3-9ed0-52452c25d37a\"}];\n",
       "            \n",
       "            Bokeh.embed.embed_items(docs_json, render_items);\n",
       "        });\n",
       "      },\n",
       "      function(Bokeh) {\n",
       "      }\n",
       "    ];\n",
       "  \n",
       "    function run_inline_js() {\n",
       "      for (var i = 0; i < inline_js.length; i++) {\n",
       "        inline_js[i](window.Bokeh);\n",
       "      }\n",
       "    }\n",
       "  \n",
       "    if (window._bokeh_is_loading === 0) {\n",
       "      console.log(\"Bokeh: BokehJS loaded, going straight to plotting\");\n",
       "      run_inline_js();\n",
       "    } else {\n",
       "      load_libs(js_urls, function() {\n",
       "        console.log(\"Bokeh: BokehJS plotting callback run at\", now());\n",
       "        run_inline_js();\n",
       "      });\n",
       "    }\n",
       "  }(this));\n",
       "</script>"
      ]
     },
     "metadata": {},
     "output_type": "display_data"
    },
    {
     "data": {
      "text/html": [
       "<p><code>&lt;Bokeh Notebook handle for <strong>In[43]</strong>&gt;</code></p>"
      ],
      "text/plain": [
       "<bokeh.io._CommsHandle at 0x11cedbe10>"
      ]
     },
     "execution_count": 43,
     "metadata": {},
     "output_type": "execute_result"
    }
   ],
   "source": [
    "countriestoanalyze = ['Canada', 'United States', 'China', 'Myanmar']\n",
    "\n",
    "plot = generateTimelinesPlot(influencedict,countriestoanalyze,'node centrality')\n",
    "\n",
    "plot.yaxis.bounds = [0,1]\n",
    "plot.xaxis.bounds = [1950,2015]\n",
    "plot.x_range.start = 1950\n",
    "plot.x_range.end = 2015\n",
    "plot.y_range.start = 0\n",
    "plot.y_range.end = 1\n",
    "\n",
    "show(plot)\n",
    "\n"
   ]
  },
  {
   "cell_type": "markdown",
   "metadata": {
    "collapsed": true
   },
   "source": [
    "### Analysisfunctions, In and Outflow of Weapons"
   ]
  },
  {
   "cell_type": "markdown",
   "metadata": {},
   "source": [
    "### Definition"
   ]
  },
  {
   "cell_type": "code",
   "execution_count": 44,
   "metadata": {
    "collapsed": false
   },
   "outputs": [],
   "source": [
    "def WeaponFlowTimeAll(MultiDiDict,militaryexpdict):\n",
    "    weaponinflow = dict()\n",
    "    weaponoutflow = dict()\n",
    "    for year in MultiDiDict:\n",
    "        G = createYearMultiDiGraph(MultiDiDict, year,militaryexpdict)\n",
    "        for country in G.nodes_iter():\n",
    "            inflow = 0\n",
    "            for x in G.in_edges_iter(nbunch=country, data=True):\n",
    "                inflow = inflow + x[2].values()[0]        \n",
    "            if country in weaponinflow:\n",
    "                weaponinflow[country][year] = inflow\n",
    "            else:\n",
    "                weaponinflow.setdefault(country, dict())\n",
    "                weaponinflow[country][year] = inflow\n",
    "                \n",
    "            outflow = 0\n",
    "            for x in G.out_edges_iter(nbunch=country, data=True):\n",
    "                outflow = outflow + x[2].values()[0]        \n",
    "            if country in weaponoutflow:\n",
    "                weaponoutflow[country][year] = outflow\n",
    "            else:\n",
    "                weaponoutflow.setdefault(country, dict())\n",
    "                weaponoutflow[country][year] = outflow\n",
    "    \n",
    "    return weaponinflow, weaponoutflow\n"
   ]
  },
  {
   "cell_type": "code",
   "execution_count": 45,
   "metadata": {
    "collapsed": false
   },
   "outputs": [],
   "source": [
    "weaponinflow, weaponoutflow = WeaponFlowTimeAll(MultiDiDict,militaryexpdict)"
   ]
  },
  {
   "cell_type": "code",
   "execution_count": 46,
   "metadata": {
    "collapsed": false
   },
   "outputs": [
    {
     "data": {
      "text/html": [
       "\n",
       "\n",
       "    <div class=\"bk-root\">\n",
       "        <div class=\"plotdiv\" id=\"c6f3c24c-520b-4a25-a8f1-62e747108c29\"></div>\n",
       "    </div>\n",
       "<script type=\"text/javascript\">\n",
       "  \n",
       "  (function(global) {\n",
       "    function now() {\n",
       "      return new Date();\n",
       "    }\n",
       "  \n",
       "    if (typeof (window._bokeh_onload_callbacks) === \"undefined\") {\n",
       "      window._bokeh_onload_callbacks = [];\n",
       "    }\n",
       "  \n",
       "    function run_callbacks() {\n",
       "      window._bokeh_onload_callbacks.forEach(function(callback) { callback() });\n",
       "      delete window._bokeh_onload_callbacks\n",
       "      console.info(\"Bokeh: all callbacks have finished\");\n",
       "    }\n",
       "  \n",
       "    function load_libs(js_urls, callback) {\n",
       "      window._bokeh_onload_callbacks.push(callback);\n",
       "      if (window._bokeh_is_loading > 0) {\n",
       "        console.log(\"Bokeh: BokehJS is being loaded, scheduling callback at\", now());\n",
       "        return null;\n",
       "      }\n",
       "      if (js_urls == null || js_urls.length === 0) {\n",
       "        run_callbacks();\n",
       "        return null;\n",
       "      }\n",
       "      console.log(\"Bokeh: BokehJS not loaded, scheduling load and callback at\", now());\n",
       "      window._bokeh_is_loading = js_urls.length;\n",
       "      for (var i = 0; i < js_urls.length; i++) {\n",
       "        var url = js_urls[i];\n",
       "        var s = document.createElement('script');\n",
       "        s.src = url;\n",
       "        s.async = false;\n",
       "        s.onreadystatechange = s.onload = function() {\n",
       "          window._bokeh_is_loading--;\n",
       "          if (window._bokeh_is_loading === 0) {\n",
       "            console.log(\"Bokeh: all BokehJS libraries loaded\");\n",
       "            run_callbacks()\n",
       "          }\n",
       "        };\n",
       "        s.onerror = function() {\n",
       "          console.warn(\"failed to load library \" + url);\n",
       "        };\n",
       "        console.log(\"Bokeh: injecting script tag for BokehJS library: \", url);\n",
       "        document.getElementsByTagName(\"head\")[0].appendChild(s);\n",
       "      }\n",
       "    };var element = document.getElementById(\"c6f3c24c-520b-4a25-a8f1-62e747108c29\");\n",
       "    if (element == null) {\n",
       "      console.log(\"Bokeh: ERROR: autoload.js configured with elementid 'c6f3c24c-520b-4a25-a8f1-62e747108c29' but no matching script tag was found. \")\n",
       "      return false;\n",
       "    }\n",
       "  \n",
       "    var js_urls = [];\n",
       "  \n",
       "    var inline_js = [\n",
       "      function(Bokeh) {\n",
       "        Bokeh.$(function() {\n",
       "            var docs_json = {\"cdd8337e-4894-40cd-94e3-5f35e62db1c1\":{\"roots\":{\"references\":[{\"attributes\":{\"callback\":null,\"plot\":{\"id\":\"babc80c7-79e9-4080-88c7-670da3c42cde\",\"subtype\":\"Figure\",\"type\":\"Plot\"}},\"id\":\"ed7afa95-2c8a-4d21-ab86-693c2ecf06ae\",\"type\":\"TapTool\"},{\"attributes\":{\"bottom_units\":\"screen\",\"fill_alpha\":{\"value\":0.5},\"fill_color\":{\"value\":\"lightgrey\"},\"left_units\":\"screen\",\"level\":\"overlay\",\"line_alpha\":{\"value\":1.0},\"line_color\":{\"value\":\"black\"},\"line_dash\":[4,4],\"line_width\":{\"value\":2},\"plot\":null,\"render_mode\":\"css\",\"right_units\":\"screen\",\"top_units\":\"screen\"},\"id\":\"f2a9d7b2-a3a6-442a-9efb-7df73878fa06\",\"type\":\"BoxAnnotation\"},{\"attributes\":{\"callback\":null},\"id\":\"c0041a0d-d5b2-47a3-8131-4f678a7a89ed\",\"type\":\"DataRange1d\"},{\"attributes\":{\"plot\":{\"id\":\"babc80c7-79e9-4080-88c7-670da3c42cde\",\"subtype\":\"Figure\",\"type\":\"Plot\"}},\"id\":\"628151a8-853e-4f66-b169-6da8c3696467\",\"type\":\"WheelZoomTool\"},{\"attributes\":{\"fill_alpha\":{\"value\":0.1},\"fill_color\":{\"value\":\"#1f77b4\"},\"line_alpha\":{\"value\":0.1},\"line_color\":{\"value\":\"#1f77b4\"},\"x\":{\"field\":\"x\"},\"y\":{\"field\":\"y\"}},\"id\":\"eabf6c97-e9bf-4712-a919-a77489f15a5a\",\"type\":\"Circle\"},{\"attributes\":{\"line_alpha\":{\"value\":0.1},\"line_color\":{\"value\":\"#1f77b4\"},\"x\":{\"field\":\"x\"},\"y\":{\"field\":\"y\"}},\"id\":\"8e2231cb-99a5-41fc-8747-ac5646fd16cb\",\"type\":\"Line\"},{\"attributes\":{\"overlay\":{\"id\":\"f2a9d7b2-a3a6-442a-9efb-7df73878fa06\",\"type\":\"BoxAnnotation\"},\"plot\":{\"id\":\"babc80c7-79e9-4080-88c7-670da3c42cde\",\"subtype\":\"Figure\",\"type\":\"Plot\"}},\"id\":\"8bad0548-1a7e-4d0c-9cb1-eeec8055e68f\",\"type\":\"BoxZoomTool\"},{\"attributes\":{\"data_source\":{\"id\":\"505695a8-8537-4290-ae9e-f266986e885c\",\"type\":\"ColumnDataSource\"},\"glyph\":{\"id\":\"73661c20-c14d-416b-98d7-c36060a04f0d\",\"type\":\"Line\"},\"hover_glyph\":null,\"nonselection_glyph\":{\"id\":\"8e2231cb-99a5-41fc-8747-ac5646fd16cb\",\"type\":\"Line\"},\"selection_glyph\":null},\"id\":\"bdae59c3-48bc-435d-bae8-7d7ad2b3ec6a\",\"type\":\"GlyphRenderer\"},{\"attributes\":{\"below\":[{\"id\":\"a0876f7b-2e49-40f4-8948-3cdc662a215b\",\"type\":\"LinearAxis\"}],\"left\":[{\"id\":\"58a18f5a-1473-4994-9f98-e2b60e8888b6\",\"type\":\"LinearAxis\"}],\"plot_height\":400,\"renderers\":[{\"id\":\"a0876f7b-2e49-40f4-8948-3cdc662a215b\",\"type\":\"LinearAxis\"},{\"id\":\"53801bce-1dd1-42c7-888a-5f0eb177cfc6\",\"type\":\"Grid\"},{\"id\":\"58a18f5a-1473-4994-9f98-e2b60e8888b6\",\"type\":\"LinearAxis\"},{\"id\":\"da31d722-77d7-4b17-b185-e6a8edb8f5ba\",\"type\":\"Grid\"},{\"id\":\"f2a9d7b2-a3a6-442a-9efb-7df73878fa06\",\"type\":\"BoxAnnotation\"},{\"id\":\"526b2183-b12d-4f7e-a1fc-97e699f7e7e4\",\"type\":\"Legend\"},{\"id\":\"bdae59c3-48bc-435d-bae8-7d7ad2b3ec6a\",\"type\":\"GlyphRenderer\"},{\"id\":\"9aa98a90-4b26-4a84-8da9-551d28d57908\",\"type\":\"GlyphRenderer\"}],\"title\":{\"id\":\"be3cdfd8-d84f-4cab-8f7e-d554a344785c\",\"type\":\"Title\"},\"tool_events\":{\"id\":\"2c9b213c-3707-41df-a1be-d5a85207c354\",\"type\":\"ToolEvents\"},\"toolbar\":{\"id\":\"ea6b11cc-177e-415e-bfb2-bc0e49898271\",\"type\":\"Toolbar\"},\"x_range\":{\"id\":\"52973790-5c8a-4cfc-aea5-1c3c7cebd952\",\"type\":\"DataRange1d\"},\"y_range\":{\"id\":\"c0041a0d-d5b2-47a3-8131-4f678a7a89ed\",\"type\":\"DataRange1d\"}},\"id\":\"babc80c7-79e9-4080-88c7-670da3c42cde\",\"subtype\":\"Figure\",\"type\":\"Plot\"},{\"attributes\":{},\"id\":\"9183ca52-eee4-4346-98ef-522d374ac0e1\",\"type\":\"BasicTicker\"},{\"attributes\":{\"fill_color\":{\"field\":\"color\"},\"line_color\":{\"field\":\"color\"},\"x\":{\"field\":\"x\"},\"y\":{\"field\":\"y\"}},\"id\":\"3195e1a1-f53b-45d1-a9cd-399a8153e124\",\"type\":\"Circle\"},{\"attributes\":{\"callback\":null,\"plot\":{\"id\":\"babc80c7-79e9-4080-88c7-670da3c42cde\",\"subtype\":\"Figure\",\"type\":\"Plot\"},\"renderers\":[{\"id\":\"9aa98a90-4b26-4a84-8da9-551d28d57908\",\"type\":\"GlyphRenderer\"}],\"tooltips\":[[\"year\",\"@x\"],[\"country\",\"@country\"],[\"Weapon Inflow\",\"@y\"]]},\"id\":\"eba86094-61f0-4b71-ba86-a6bbbcdf586d\",\"type\":\"HoverTool\"},{\"attributes\":{\"formatter\":{\"id\":\"09db3c13-f6ac-46ed-8747-9a154ac3a8de\",\"type\":\"BasicTickFormatter\"},\"plot\":{\"id\":\"babc80c7-79e9-4080-88c7-670da3c42cde\",\"subtype\":\"Figure\",\"type\":\"Plot\"},\"ticker\":{\"id\":\"9183ca52-eee4-4346-98ef-522d374ac0e1\",\"type\":\"BasicTicker\"}},\"id\":\"58a18f5a-1473-4994-9f98-e2b60e8888b6\",\"type\":\"LinearAxis\"},{\"attributes\":{},\"id\":\"2c9b213c-3707-41df-a1be-d5a85207c354\",\"type\":\"ToolEvents\"},{\"attributes\":{\"formatter\":{\"id\":\"dea2582f-8277-4305-a038-b4fd103344cd\",\"type\":\"BasicTickFormatter\"},\"plot\":{\"id\":\"babc80c7-79e9-4080-88c7-670da3c42cde\",\"subtype\":\"Figure\",\"type\":\"Plot\"},\"ticker\":{\"id\":\"bc13b716-48c8-4d5e-9f9d-5894139833fa\",\"type\":\"BasicTicker\"}},\"id\":\"a0876f7b-2e49-40f4-8948-3cdc662a215b\",\"type\":\"LinearAxis\"},{\"attributes\":{\"callback\":null},\"id\":\"52973790-5c8a-4cfc-aea5-1c3c7cebd952\",\"type\":\"DataRange1d\"},{\"attributes\":{},\"id\":\"bc13b716-48c8-4d5e-9f9d-5894139833fa\",\"type\":\"BasicTicker\"},{\"attributes\":{\"plot\":null,\"text\":\"Weapon inflow into countries\"},\"id\":\"be3cdfd8-d84f-4cab-8f7e-d554a344785c\",\"type\":\"Title\"},{\"attributes\":{\"callback\":null,\"column_names\":[\"y\",\"x\"],\"data\":{\"x\":[\"1950\",\"1953\",\"1954\",\"1955\",\"1956\",\"1957\",\"1958\",\"1959\",\"1960\",\"1961\",\"1962\",\"1963\",\"1964\",\"1965\",\"1966\",\"1967\",\"1968\",\"1969\",\"1970\",\"1971\",\"1972\",\"1975\",\"1976\",\"1977\",\"1978\",\"1979\",\"1980\",\"1982\",\"1986\",\"1989\",\"1990\",\"1991\",\"1992\",\"1993\",\"1994\",\"1995\",\"1996\",\"1997\",\"1998\",\"1999\",\"2000\",\"2001\",\"2002\",\"2003\",\"2004\",\"2005\",\"2006\",\"2007\",\"2008\",\"2009\",\"2010\",\"2011\",\"2012\",\"2013\",\"2014\",\"2015\"],\"y\":[4.0,16.0,40.0,47.0,30.0,53.0,60.0,21.0,13.0,16.0,14.0,51.0,18.0,19.0,3.0,14.0,6.0,22.0,4.0,23.0,4.0,53.0,10.0,9.0,25.0,19.0,41.0,39.0,8.0,34.0,266.0,231.0,64.0,323.0,96.0,223.0,118.0,231.0,156.0,141.0,17.0,149.0,158.0,83.0,194.0,160.0,175.0,138.0,93.0,52.0,63.0,662.0,478.0,238.0,301.0,321.0]}},\"id\":\"505695a8-8537-4290-ae9e-f266986e885c\",\"type\":\"ColumnDataSource\"},{\"attributes\":{\"line_color\":{\"value\":\"#5e4fa2\"},\"x\":{\"field\":\"x\"},\"y\":{\"field\":\"y\"}},\"id\":\"73661c20-c14d-416b-98d7-c36060a04f0d\",\"type\":\"Line\"},{\"attributes\":{\"plot\":{\"id\":\"babc80c7-79e9-4080-88c7-670da3c42cde\",\"subtype\":\"Figure\",\"type\":\"Plot\"}},\"id\":\"654d43ef-a243-48ff-ba21-28d894a8eae8\",\"type\":\"PanTool\"},{\"attributes\":{\"plot\":{\"id\":\"babc80c7-79e9-4080-88c7-670da3c42cde\",\"subtype\":\"Figure\",\"type\":\"Plot\"}},\"id\":\"94c1eb15-8c18-41b3-9489-0e767be08850\",\"type\":\"ResetTool\"},{\"attributes\":{\"plot\":{\"id\":\"babc80c7-79e9-4080-88c7-670da3c42cde\",\"subtype\":\"Figure\",\"type\":\"Plot\"}},\"id\":\"72ee94e9-aca4-4a5e-8e0b-c2c5ba06f261\",\"type\":\"SaveTool\"},{\"attributes\":{},\"id\":\"dea2582f-8277-4305-a038-b4fd103344cd\",\"type\":\"BasicTickFormatter\"},{\"attributes\":{\"legends\":[[\"Myanmar\",[{\"id\":\"bdae59c3-48bc-435d-bae8-7d7ad2b3ec6a\",\"type\":\"GlyphRenderer\"}]]],\"plot\":{\"id\":\"babc80c7-79e9-4080-88c7-670da3c42cde\",\"subtype\":\"Figure\",\"type\":\"Plot\"}},\"id\":\"526b2183-b12d-4f7e-a1fc-97e699f7e7e4\",\"type\":\"Legend\"},{\"attributes\":{\"data_source\":{\"id\":\"309b25c6-a402-4fa7-9d9c-2449e9323668\",\"type\":\"ColumnDataSource\"},\"glyph\":{\"id\":\"3195e1a1-f53b-45d1-a9cd-399a8153e124\",\"type\":\"Circle\"},\"hover_glyph\":null,\"nonselection_glyph\":{\"id\":\"eabf6c97-e9bf-4712-a919-a77489f15a5a\",\"type\":\"Circle\"},\"selection_glyph\":null},\"id\":\"9aa98a90-4b26-4a84-8da9-551d28d57908\",\"type\":\"GlyphRenderer\"},{\"attributes\":{\"dimension\":1,\"plot\":{\"id\":\"babc80c7-79e9-4080-88c7-670da3c42cde\",\"subtype\":\"Figure\",\"type\":\"Plot\"},\"ticker\":{\"id\":\"9183ca52-eee4-4346-98ef-522d374ac0e1\",\"type\":\"BasicTicker\"}},\"id\":\"da31d722-77d7-4b17-b185-e6a8edb8f5ba\",\"type\":\"Grid\"},{\"attributes\":{\"plot\":{\"id\":\"babc80c7-79e9-4080-88c7-670da3c42cde\",\"subtype\":\"Figure\",\"type\":\"Plot\"},\"ticker\":{\"id\":\"bc13b716-48c8-4d5e-9f9d-5894139833fa\",\"type\":\"BasicTicker\"}},\"id\":\"53801bce-1dd1-42c7-888a-5f0eb177cfc6\",\"type\":\"Grid\"},{\"attributes\":{\"active_drag\":\"auto\",\"active_scroll\":\"auto\",\"active_tap\":\"auto\",\"tools\":[{\"id\":\"654d43ef-a243-48ff-ba21-28d894a8eae8\",\"type\":\"PanTool\"},{\"id\":\"ed7afa95-2c8a-4d21-ab86-693c2ecf06ae\",\"type\":\"TapTool\"},{\"id\":\"8bad0548-1a7e-4d0c-9cb1-eeec8055e68f\",\"type\":\"BoxZoomTool\"},{\"id\":\"94c1eb15-8c18-41b3-9489-0e767be08850\",\"type\":\"ResetTool\"},{\"id\":\"628151a8-853e-4f66-b169-6da8c3696467\",\"type\":\"WheelZoomTool\"},{\"id\":\"72ee94e9-aca4-4a5e-8e0b-c2c5ba06f261\",\"type\":\"SaveTool\"},{\"id\":\"eba86094-61f0-4b71-ba86-a6bbbcdf586d\",\"type\":\"HoverTool\"}]},\"id\":\"ea6b11cc-177e-415e-bfb2-bc0e49898271\",\"type\":\"Toolbar\"},{\"attributes\":{},\"id\":\"09db3c13-f6ac-46ed-8747-9a154ac3a8de\",\"type\":\"BasicTickFormatter\"},{\"attributes\":{\"callback\":null,\"column_names\":[\"color\",\"country\",\"y\",\"x\"],\"data\":{\"color\":[\"#5e4fa2\",\"#5e4fa2\",\"#5e4fa2\",\"#5e4fa2\",\"#5e4fa2\",\"#5e4fa2\",\"#5e4fa2\",\"#5e4fa2\",\"#5e4fa2\",\"#5e4fa2\",\"#5e4fa2\",\"#5e4fa2\",\"#5e4fa2\",\"#5e4fa2\",\"#5e4fa2\",\"#5e4fa2\",\"#5e4fa2\",\"#5e4fa2\",\"#5e4fa2\",\"#5e4fa2\",\"#5e4fa2\",\"#5e4fa2\",\"#5e4fa2\",\"#5e4fa2\",\"#5e4fa2\",\"#5e4fa2\",\"#5e4fa2\",\"#5e4fa2\",\"#5e4fa2\",\"#5e4fa2\",\"#5e4fa2\",\"#5e4fa2\",\"#5e4fa2\",\"#5e4fa2\",\"#5e4fa2\",\"#5e4fa2\",\"#5e4fa2\",\"#5e4fa2\",\"#5e4fa2\",\"#5e4fa2\",\"#5e4fa2\",\"#5e4fa2\",\"#5e4fa2\",\"#5e4fa2\",\"#5e4fa2\",\"#5e4fa2\",\"#5e4fa2\",\"#5e4fa2\",\"#5e4fa2\",\"#5e4fa2\",\"#5e4fa2\",\"#5e4fa2\",\"#5e4fa2\",\"#5e4fa2\",\"#5e4fa2\",\"#5e4fa2\"],\"country\":[\"Myanmar\",\"Myanmar\",\"Myanmar\",\"Myanmar\",\"Myanmar\",\"Myanmar\",\"Myanmar\",\"Myanmar\",\"Myanmar\",\"Myanmar\",\"Myanmar\",\"Myanmar\",\"Myanmar\",\"Myanmar\",\"Myanmar\",\"Myanmar\",\"Myanmar\",\"Myanmar\",\"Myanmar\",\"Myanmar\",\"Myanmar\",\"Myanmar\",\"Myanmar\",\"Myanmar\",\"Myanmar\",\"Myanmar\",\"Myanmar\",\"Myanmar\",\"Myanmar\",\"Myanmar\",\"Myanmar\",\"Myanmar\",\"Myanmar\",\"Myanmar\",\"Myanmar\",\"Myanmar\",\"Myanmar\",\"Myanmar\",\"Myanmar\",\"Myanmar\",\"Myanmar\",\"Myanmar\",\"Myanmar\",\"Myanmar\",\"Myanmar\",\"Myanmar\",\"Myanmar\",\"Myanmar\",\"Myanmar\",\"Myanmar\",\"Myanmar\",\"Myanmar\",\"Myanmar\",\"Myanmar\",\"Myanmar\",\"Myanmar\"],\"x\":[\"1950\",\"1953\",\"1954\",\"1955\",\"1956\",\"1957\",\"1958\",\"1959\",\"1960\",\"1961\",\"1962\",\"1963\",\"1964\",\"1965\",\"1966\",\"1967\",\"1968\",\"1969\",\"1970\",\"1971\",\"1972\",\"1975\",\"1976\",\"1977\",\"1978\",\"1979\",\"1980\",\"1982\",\"1986\",\"1989\",\"1990\",\"1991\",\"1992\",\"1993\",\"1994\",\"1995\",\"1996\",\"1997\",\"1998\",\"1999\",\"2000\",\"2001\",\"2002\",\"2003\",\"2004\",\"2005\",\"2006\",\"2007\",\"2008\",\"2009\",\"2010\",\"2011\",\"2012\",\"2013\",\"2014\",\"2015\"],\"y\":[4.0,16.0,40.0,47.0,30.0,53.0,60.0,21.0,13.0,16.0,14.0,51.0,18.0,19.0,3.0,14.0,6.0,22.0,4.0,23.0,4.0,53.0,10.0,9.0,25.0,19.0,41.0,39.0,8.0,34.0,266.0,231.0,64.0,323.0,96.0,223.0,118.0,231.0,156.0,141.0,17.0,149.0,158.0,83.0,194.0,160.0,175.0,138.0,93.0,52.0,63.0,662.0,478.0,238.0,301.0,321.0]}},\"id\":\"309b25c6-a402-4fa7-9d9c-2449e9323668\",\"type\":\"ColumnDataSource\"}],\"root_ids\":[\"babc80c7-79e9-4080-88c7-670da3c42cde\"]},\"title\":\"Bokeh Application\",\"version\":\"0.12.0\"}};\n",
       "            var render_items = [{\"docid\":\"cdd8337e-4894-40cd-94e3-5f35e62db1c1\",\"elementid\":\"c6f3c24c-520b-4a25-a8f1-62e747108c29\",\"modelid\":\"babc80c7-79e9-4080-88c7-670da3c42cde\",\"notebook_comms_target\":\"9f86793d-6f53-47fb-b5fd-63ccee6ef67f\"}];\n",
       "            \n",
       "            Bokeh.embed.embed_items(docs_json, render_items);\n",
       "        });\n",
       "      },\n",
       "      function(Bokeh) {\n",
       "      }\n",
       "    ];\n",
       "  \n",
       "    function run_inline_js() {\n",
       "      for (var i = 0; i < inline_js.length; i++) {\n",
       "        inline_js[i](window.Bokeh);\n",
       "      }\n",
       "    }\n",
       "  \n",
       "    if (window._bokeh_is_loading === 0) {\n",
       "      console.log(\"Bokeh: BokehJS loaded, going straight to plotting\");\n",
       "      run_inline_js();\n",
       "    } else {\n",
       "      load_libs(js_urls, function() {\n",
       "        console.log(\"Bokeh: BokehJS plotting callback run at\", now());\n",
       "        run_inline_js();\n",
       "      });\n",
       "    }\n",
       "  }(this));\n",
       "</script>"
      ]
     },
     "metadata": {},
     "output_type": "display_data"
    },
    {
     "data": {
      "text/html": [
       "<p><code>&lt;Bokeh Notebook handle for <strong>In[46]</strong>&gt;</code></p>"
      ],
      "text/plain": [
       "<bokeh.io._CommsHandle at 0x11cc272d0>"
      ]
     },
     "execution_count": 46,
     "metadata": {},
     "output_type": "execute_result"
    }
   ],
   "source": [
    "plot3 = generateTimelinesPlot(weaponinflow, ['Myanmar'], 'Weapon Inflow')\n",
    "\n",
    "plot3.title.text = 'Weapon inflow into countries'\n",
    "\n",
    "show(plot3)"
   ]
  },
  {
   "cell_type": "code",
   "execution_count": 47,
   "metadata": {
    "collapsed": false
   },
   "outputs": [
    {
     "data": {
      "text/html": [
       "\n",
       "\n",
       "    <div class=\"bk-root\">\n",
       "        <div class=\"plotdiv\" id=\"39ef6569-85a9-479a-84be-f8178439a2dd\"></div>\n",
       "    </div>\n",
       "<script type=\"text/javascript\">\n",
       "  \n",
       "  (function(global) {\n",
       "    function now() {\n",
       "      return new Date();\n",
       "    }\n",
       "  \n",
       "    if (typeof (window._bokeh_onload_callbacks) === \"undefined\") {\n",
       "      window._bokeh_onload_callbacks = [];\n",
       "    }\n",
       "  \n",
       "    function run_callbacks() {\n",
       "      window._bokeh_onload_callbacks.forEach(function(callback) { callback() });\n",
       "      delete window._bokeh_onload_callbacks\n",
       "      console.info(\"Bokeh: all callbacks have finished\");\n",
       "    }\n",
       "  \n",
       "    function load_libs(js_urls, callback) {\n",
       "      window._bokeh_onload_callbacks.push(callback);\n",
       "      if (window._bokeh_is_loading > 0) {\n",
       "        console.log(\"Bokeh: BokehJS is being loaded, scheduling callback at\", now());\n",
       "        return null;\n",
       "      }\n",
       "      if (js_urls == null || js_urls.length === 0) {\n",
       "        run_callbacks();\n",
       "        return null;\n",
       "      }\n",
       "      console.log(\"Bokeh: BokehJS not loaded, scheduling load and callback at\", now());\n",
       "      window._bokeh_is_loading = js_urls.length;\n",
       "      for (var i = 0; i < js_urls.length; i++) {\n",
       "        var url = js_urls[i];\n",
       "        var s = document.createElement('script');\n",
       "        s.src = url;\n",
       "        s.async = false;\n",
       "        s.onreadystatechange = s.onload = function() {\n",
       "          window._bokeh_is_loading--;\n",
       "          if (window._bokeh_is_loading === 0) {\n",
       "            console.log(\"Bokeh: all BokehJS libraries loaded\");\n",
       "            run_callbacks()\n",
       "          }\n",
       "        };\n",
       "        s.onerror = function() {\n",
       "          console.warn(\"failed to load library \" + url);\n",
       "        };\n",
       "        console.log(\"Bokeh: injecting script tag for BokehJS library: \", url);\n",
       "        document.getElementsByTagName(\"head\")[0].appendChild(s);\n",
       "      }\n",
       "    };var element = document.getElementById(\"39ef6569-85a9-479a-84be-f8178439a2dd\");\n",
       "    if (element == null) {\n",
       "      console.log(\"Bokeh: ERROR: autoload.js configured with elementid '39ef6569-85a9-479a-84be-f8178439a2dd' but no matching script tag was found. \")\n",
       "      return false;\n",
       "    }\n",
       "  \n",
       "    var js_urls = [];\n",
       "  \n",
       "    var inline_js = [\n",
       "      function(Bokeh) {\n",
       "        Bokeh.$(function() {\n",
       "            var docs_json = {\"127da118-f9e3-458b-8817-8720bdedf1c6\":{\"roots\":{\"references\":[{\"attributes\":{\"line_alpha\":{\"value\":0.1},\"line_color\":{\"value\":\"#1f77b4\"},\"x\":{\"field\":\"x\"},\"y\":{\"field\":\"y\"}},\"id\":\"a03b35a6-a3f1-4b5b-b483-672f3e48705d\",\"type\":\"Line\"},{\"attributes\":{\"data_source\":{\"id\":\"34957c1d-abcb-4201-a138-82a4277ae5e3\",\"type\":\"ColumnDataSource\"},\"glyph\":{\"id\":\"5e8c045c-5385-492c-b78c-d20e6e4431c5\",\"type\":\"Line\"},\"hover_glyph\":null,\"nonselection_glyph\":{\"id\":\"48b13492-2535-4d57-a06d-56160d8ba5f4\",\"type\":\"Line\"},\"selection_glyph\":null},\"id\":\"0daefb78-b17b-4039-95c9-9b887ecd8f94\",\"type\":\"GlyphRenderer\"},{\"attributes\":{\"data_source\":{\"id\":\"84d903fe-9196-4c1c-a692-b561f7eed7c6\",\"type\":\"ColumnDataSource\"},\"glyph\":{\"id\":\"e40ee1ac-af78-4765-a7fc-01beee481a77\",\"type\":\"Line\"},\"hover_glyph\":null,\"nonselection_glyph\":{\"id\":\"fd304e0e-9bfe-4485-99cb-ea4548890c69\",\"type\":\"Line\"},\"selection_glyph\":null},\"id\":\"7bcc7e0f-794e-4f68-872d-8f7fbaa1fee6\",\"type\":\"GlyphRenderer\"},{\"attributes\":{\"line_alpha\":{\"value\":0.1},\"line_color\":{\"value\":\"#1f77b4\"},\"x\":{\"field\":\"x\"},\"y\":{\"field\":\"y\"}},\"id\":\"48b13492-2535-4d57-a06d-56160d8ba5f4\",\"type\":\"Line\"},{\"attributes\":{\"fill_color\":{\"field\":\"color\"},\"line_color\":{\"field\":\"color\"},\"x\":{\"field\":\"x\"},\"y\":{\"field\":\"y\"}},\"id\":\"f36ff65f-503a-43d8-aeb5-c91f580148d6\",\"type\":\"Circle\"},{\"attributes\":{\"line_alpha\":{\"value\":0.1},\"line_color\":{\"value\":\"#1f77b4\"},\"x\":{\"field\":\"x\"},\"y\":{\"field\":\"y\"}},\"id\":\"fd304e0e-9bfe-4485-99cb-ea4548890c69\",\"type\":\"Line\"},{\"attributes\":{\"data_source\":{\"id\":\"4eb05559-eccc-420a-8269-5e021f18bca3\",\"type\":\"ColumnDataSource\"},\"glyph\":{\"id\":\"f36ff65f-503a-43d8-aeb5-c91f580148d6\",\"type\":\"Circle\"},\"hover_glyph\":null,\"nonselection_glyph\":{\"id\":\"a7324a95-6ffa-4911-af3c-89b56c7880b0\",\"type\":\"Circle\"},\"selection_glyph\":null},\"id\":\"d4a9a738-8188-43de-94b3-180c7c78b671\",\"type\":\"GlyphRenderer\"},{\"attributes\":{\"callback\":null,\"column_names\":[\"y\",\"x\"],\"data\":{\"x\":[\"1950\",\"1951\",\"1952\",\"1953\",\"1954\",\"1955\",\"1956\",\"1957\",\"1958\",\"1959\",\"1960\",\"1961\",\"1962\",\"1963\",\"1964\",\"1965\",\"1966\",\"1967\",\"1968\",\"1969\",\"1970\",\"1971\",\"1972\",\"1973\",\"1974\",\"1975\",\"1976\",\"1977\",\"1978\",\"1979\",\"1980\",\"1981\",\"1982\",\"1983\",\"1984\",\"1985\",\"1986\",\"1987\",\"1988\",\"1989\",\"1990\",\"1991\",\"1992\",\"1993\",\"1994\",\"1995\",\"1996\",\"1997\",\"1998\",\"1999\",\"2000\",\"2001\",\"2002\",\"2003\",\"2004\",\"2005\",\"2006\",\"2007\",\"2008\",\"2009\",\"2010\",\"2011\",\"2012\",\"2013\",\"2014\",\"2015\"],\"y\":[0.0,0.0,0.0,0.0,0.0,0.0,39.0,30.0,463.0,361.0,285.0,35.0,51.0,11.0,61.0,419.0,619.0,410.0,682.0,608.0,845.0,1239.0,1185.0,672.0,509.0,671.0,613.0,225.0,618.0,559.0,949.0,643.0,1506.0,1774.0,1926.0,1274.0,1853.0,2596.0,1399.0,1032.0,935.0,1316.0,703.0,1436.0,1111.0,1014.0,773.0,435.0,352.0,331.0,303.0,516.0,526.0,702.0,400.0,289.0,671.0,505.0,636.0,1178.0,1497.0,1338.0,1729.0,2055.0,1362.0,1968.0]}},\"id\":\"34957c1d-abcb-4201-a138-82a4277ae5e3\",\"type\":\"ColumnDataSource\"},{\"attributes\":{\"callback\":null,\"column_names\":[\"y\",\"x\"],\"data\":{\"x\":[\"1953\",\"1954\",\"1955\",\"1956\",\"1957\",\"1958\",\"1959\",\"1960\",\"1961\",\"1962\",\"1963\",\"1964\",\"1965\",\"1966\",\"1967\",\"1968\",\"1969\",\"1970\",\"1971\",\"1972\",\"1973\",\"1974\",\"1975\",\"1976\",\"1977\",\"1978\",\"1979\",\"1980\",\"1981\",\"1982\",\"1983\",\"1984\",\"1985\",\"1986\",\"1987\",\"1988\",\"1989\",\"1990\",\"1991\",\"1992\",\"1993\",\"1994\",\"1995\",\"1996\",\"1997\",\"1998\",\"1999\",\"2000\",\"2001\",\"2002\",\"2003\",\"2004\",\"2005\",\"2006\",\"2007\",\"2008\",\"2009\",\"2010\",\"2011\",\"2012\",\"2013\",\"2014\",\"2015\"],\"y\":[38.0,29.0,24.0,24.0,44.0,25.0,93.0,156.0,9.0,126.0,94.0,380.0,268.0,654.0,722.0,550.0,710.0,1463.0,1367.0,1377.0,226.0,1210.0,1443.0,1665.0,1714.0,1630.0,1440.0,1621.0,1941.0,1588.0,2310.0,2861.0,1284.0,1412.0,957.0,1394.0,1204.0,1832.0,2514.0,1442.0,1541.0,2692.0,1465.0,1960.0,942.0,1824.0,1838.0,1615.0,875.0,904.0,1660.0,1124.0,2072.0,2699.0,3247.0,2379.0,2537.0,2747.0,1353.0,820.0,726.0,1789.0,2055.0]}},\"id\":\"84d903fe-9196-4c1c-a692-b561f7eed7c6\",\"type\":\"ColumnDataSource\"},{\"attributes\":{\"callback\":null},\"id\":\"44a98a22-2d92-441a-abff-7d90397cd072\",\"type\":\"DataRange1d\"},{\"attributes\":{\"plot\":{\"id\":\"fb965fed-aad8-449a-aeaf-e1fc12a48295\",\"subtype\":\"Figure\",\"type\":\"Plot\"}},\"id\":\"ba142f3e-1690-4984-a2b3-be9ddfeab05d\",\"type\":\"ResetTool\"},{\"attributes\":{},\"id\":\"463fef6b-c8b0-4fce-9a87-e6a7a15b2b2d\",\"type\":\"BasicTickFormatter\"},{\"attributes\":{\"callback\":null},\"id\":\"e562e0d7-ed72-48f4-972f-a9b29a75c8c8\",\"type\":\"DataRange1d\"},{\"attributes\":{\"dimension\":1,\"plot\":{\"id\":\"fb965fed-aad8-449a-aeaf-e1fc12a48295\",\"subtype\":\"Figure\",\"type\":\"Plot\"},\"ticker\":{\"id\":\"088bc832-30c5-424d-a669-11a2d864407d\",\"type\":\"BasicTicker\"}},\"id\":\"418e51cc-368b-4837-a456-89df8c138279\",\"type\":\"Grid\"},{\"attributes\":{},\"id\":\"a433c62d-da88-4c7a-bea9-9eba30d3da9c\",\"type\":\"BasicTicker\"},{\"attributes\":{\"active_drag\":\"auto\",\"active_scroll\":\"auto\",\"active_tap\":\"auto\",\"tools\":[{\"id\":\"bc0ec3bd-5ce9-471c-8fce-7fbd7d9fafcc\",\"type\":\"PanTool\"},{\"id\":\"03c4f545-34f9-47dc-b799-d39d2685f431\",\"type\":\"TapTool\"},{\"id\":\"d951ce34-eb4f-46dd-8670-adcebf5d0638\",\"type\":\"BoxZoomTool\"},{\"id\":\"ba142f3e-1690-4984-a2b3-be9ddfeab05d\",\"type\":\"ResetTool\"},{\"id\":\"c7d1514b-0e87-4301-b125-24df9d0350a9\",\"type\":\"WheelZoomTool\"},{\"id\":\"7e93f543-45cc-4589-b73f-835b4047bd76\",\"type\":\"SaveTool\"},{\"id\":\"2fdb1695-114b-410a-9094-a8892c10086c\",\"type\":\"HoverTool\"}]},\"id\":\"d056509a-c625-4d8a-ac66-f27d79c95d54\",\"type\":\"Toolbar\"},{\"attributes\":{},\"id\":\"8843814e-016f-4565-ba77-f9ff75b39b9a\",\"type\":\"ToolEvents\"},{\"attributes\":{\"plot\":{\"id\":\"fb965fed-aad8-449a-aeaf-e1fc12a48295\",\"subtype\":\"Figure\",\"type\":\"Plot\"}},\"id\":\"bc0ec3bd-5ce9-471c-8fce-7fbd7d9fafcc\",\"type\":\"PanTool\"},{\"attributes\":{},\"id\":\"088bc832-30c5-424d-a669-11a2d864407d\",\"type\":\"BasicTicker\"},{\"attributes\":{\"fill_alpha\":{\"value\":0.1},\"fill_color\":{\"value\":\"#1f77b4\"},\"line_alpha\":{\"value\":0.1},\"line_color\":{\"value\":\"#1f77b4\"},\"x\":{\"field\":\"x\"},\"y\":{\"field\":\"y\"}},\"id\":\"a7324a95-6ffa-4911-af3c-89b56c7880b0\",\"type\":\"Circle\"},{\"attributes\":{\"plot\":{\"id\":\"fb965fed-aad8-449a-aeaf-e1fc12a48295\",\"subtype\":\"Figure\",\"type\":\"Plot\"}},\"id\":\"c7d1514b-0e87-4301-b125-24df9d0350a9\",\"type\":\"WheelZoomTool\"},{\"attributes\":{\"plot\":{\"id\":\"fb965fed-aad8-449a-aeaf-e1fc12a48295\",\"subtype\":\"Figure\",\"type\":\"Plot\"},\"ticker\":{\"id\":\"a433c62d-da88-4c7a-bea9-9eba30d3da9c\",\"type\":\"BasicTicker\"}},\"id\":\"5781928d-9195-46e7-b3df-d5bb4d530d67\",\"type\":\"Grid\"},{\"attributes\":{\"line_color\":{\"value\":\"#3288bd\"},\"x\":{\"field\":\"x\"},\"y\":{\"field\":\"y\"}},\"id\":\"adf71fbf-e0de-428f-bd17-51eb79c7a975\",\"type\":\"Line\"},{\"attributes\":{\"data_source\":{\"id\":\"c06c7212-1583-41ff-b22f-10db357f3fa9\",\"type\":\"ColumnDataSource\"},\"glyph\":{\"id\":\"adf71fbf-e0de-428f-bd17-51eb79c7a975\",\"type\":\"Line\"},\"hover_glyph\":null,\"nonselection_glyph\":{\"id\":\"a03b35a6-a3f1-4b5b-b483-672f3e48705d\",\"type\":\"Line\"},\"selection_glyph\":null},\"id\":\"7efde619-911f-4f87-b187-f67fc0383b0c\",\"type\":\"GlyphRenderer\"},{\"attributes\":{\"overlay\":{\"id\":\"065322ee-15c8-4c1a-b74f-79c9f22e40a9\",\"type\":\"BoxAnnotation\"},\"plot\":{\"id\":\"fb965fed-aad8-449a-aeaf-e1fc12a48295\",\"subtype\":\"Figure\",\"type\":\"Plot\"}},\"id\":\"d951ce34-eb4f-46dd-8670-adcebf5d0638\",\"type\":\"BoxZoomTool\"},{\"attributes\":{\"formatter\":{\"id\":\"463fef6b-c8b0-4fce-9a87-e6a7a15b2b2d\",\"type\":\"BasicTickFormatter\"},\"plot\":{\"id\":\"fb965fed-aad8-449a-aeaf-e1fc12a48295\",\"subtype\":\"Figure\",\"type\":\"Plot\"},\"ticker\":{\"id\":\"a433c62d-da88-4c7a-bea9-9eba30d3da9c\",\"type\":\"BasicTicker\"}},\"id\":\"c5823889-aa65-483a-8c0c-41298cfd6f5d\",\"type\":\"LinearAxis\"},{\"attributes\":{\"legends\":[[\"Germany (FRG)\",[{\"id\":\"7bcc7e0f-794e-4f68-872d-8f7fbaa1fee6\",\"type\":\"GlyphRenderer\"}]],[\"United States\",[{\"id\":\"7efde619-911f-4f87-b187-f67fc0383b0c\",\"type\":\"GlyphRenderer\"}]],[\"China\",[{\"id\":\"0daefb78-b17b-4039-95c9-9b887ecd8f94\",\"type\":\"GlyphRenderer\"}]]],\"plot\":{\"id\":\"fb965fed-aad8-449a-aeaf-e1fc12a48295\",\"subtype\":\"Figure\",\"type\":\"Plot\"}},\"id\":\"114bb3d5-3b75-4a69-b66b-a6d0b828e414\",\"type\":\"Legend\"},{\"attributes\":{},\"id\":\"b75c5154-b317-4a2e-8809-e6c586b56499\",\"type\":\"BasicTickFormatter\"},{\"attributes\":{\"line_color\":{\"value\":\"#5e4fa2\"},\"x\":{\"field\":\"x\"},\"y\":{\"field\":\"y\"}},\"id\":\"e40ee1ac-af78-4765-a7fc-01beee481a77\",\"type\":\"Line\"},{\"attributes\":{\"bottom_units\":\"screen\",\"fill_alpha\":{\"value\":0.5},\"fill_color\":{\"value\":\"lightgrey\"},\"left_units\":\"screen\",\"level\":\"overlay\",\"line_alpha\":{\"value\":1.0},\"line_color\":{\"value\":\"black\"},\"line_dash\":[4,4],\"line_width\":{\"value\":2},\"plot\":null,\"render_mode\":\"css\",\"right_units\":\"screen\",\"top_units\":\"screen\"},\"id\":\"065322ee-15c8-4c1a-b74f-79c9f22e40a9\",\"type\":\"BoxAnnotation\"},{\"attributes\":{\"plot\":null,\"text\":null},\"id\":\"468f024c-89c7-4179-b233-023bd06d533d\",\"type\":\"Title\"},{\"attributes\":{\"plot\":{\"id\":\"fb965fed-aad8-449a-aeaf-e1fc12a48295\",\"subtype\":\"Figure\",\"type\":\"Plot\"}},\"id\":\"7e93f543-45cc-4589-b73f-835b4047bd76\",\"type\":\"SaveTool\"},{\"attributes\":{\"callback\":null,\"plot\":{\"id\":\"fb965fed-aad8-449a-aeaf-e1fc12a48295\",\"subtype\":\"Figure\",\"type\":\"Plot\"},\"renderers\":[{\"id\":\"d4a9a738-8188-43de-94b3-180c7c78b671\",\"type\":\"GlyphRenderer\"}],\"tooltips\":[[\"year\",\"@x\"],[\"country\",\"@country\"],[\"Weapon Outflow\",\"@y\"]]},\"id\":\"2fdb1695-114b-410a-9094-a8892c10086c\",\"type\":\"HoverTool\"},{\"attributes\":{\"line_color\":{\"value\":\"#66c2a5\"},\"x\":{\"field\":\"x\"},\"y\":{\"field\":\"y\"}},\"id\":\"5e8c045c-5385-492c-b78c-d20e6e4431c5\",\"type\":\"Line\"},{\"attributes\":{\"formatter\":{\"id\":\"b75c5154-b317-4a2e-8809-e6c586b56499\",\"type\":\"BasicTickFormatter\"},\"plot\":{\"id\":\"fb965fed-aad8-449a-aeaf-e1fc12a48295\",\"subtype\":\"Figure\",\"type\":\"Plot\"},\"ticker\":{\"id\":\"088bc832-30c5-424d-a669-11a2d864407d\",\"type\":\"BasicTicker\"}},\"id\":\"74088dd6-1029-463e-812a-e51db7b185bb\",\"type\":\"LinearAxis\"},{\"attributes\":{\"below\":[{\"id\":\"c5823889-aa65-483a-8c0c-41298cfd6f5d\",\"type\":\"LinearAxis\"}],\"left\":[{\"id\":\"74088dd6-1029-463e-812a-e51db7b185bb\",\"type\":\"LinearAxis\"}],\"plot_height\":400,\"renderers\":[{\"id\":\"c5823889-aa65-483a-8c0c-41298cfd6f5d\",\"type\":\"LinearAxis\"},{\"id\":\"5781928d-9195-46e7-b3df-d5bb4d530d67\",\"type\":\"Grid\"},{\"id\":\"74088dd6-1029-463e-812a-e51db7b185bb\",\"type\":\"LinearAxis\"},{\"id\":\"418e51cc-368b-4837-a456-89df8c138279\",\"type\":\"Grid\"},{\"id\":\"065322ee-15c8-4c1a-b74f-79c9f22e40a9\",\"type\":\"BoxAnnotation\"},{\"id\":\"114bb3d5-3b75-4a69-b66b-a6d0b828e414\",\"type\":\"Legend\"},{\"id\":\"7bcc7e0f-794e-4f68-872d-8f7fbaa1fee6\",\"type\":\"GlyphRenderer\"},{\"id\":\"7efde619-911f-4f87-b187-f67fc0383b0c\",\"type\":\"GlyphRenderer\"},{\"id\":\"0daefb78-b17b-4039-95c9-9b887ecd8f94\",\"type\":\"GlyphRenderer\"},{\"id\":\"d4a9a738-8188-43de-94b3-180c7c78b671\",\"type\":\"GlyphRenderer\"}],\"title\":{\"id\":\"468f024c-89c7-4179-b233-023bd06d533d\",\"type\":\"Title\"},\"tool_events\":{\"id\":\"8843814e-016f-4565-ba77-f9ff75b39b9a\",\"type\":\"ToolEvents\"},\"toolbar\":{\"id\":\"d056509a-c625-4d8a-ac66-f27d79c95d54\",\"type\":\"Toolbar\"},\"x_range\":{\"id\":\"e562e0d7-ed72-48f4-972f-a9b29a75c8c8\",\"type\":\"DataRange1d\"},\"y_range\":{\"id\":\"44a98a22-2d92-441a-abff-7d90397cd072\",\"type\":\"DataRange1d\"}},\"id\":\"fb965fed-aad8-449a-aeaf-e1fc12a48295\",\"subtype\":\"Figure\",\"type\":\"Plot\"},{\"attributes\":{\"callback\":null,\"column_names\":[\"color\",\"country\",\"y\",\"x\"],\"data\":{\"color\":[\"#5e4fa2\",\"#5e4fa2\",\"#5e4fa2\",\"#5e4fa2\",\"#5e4fa2\",\"#5e4fa2\",\"#5e4fa2\",\"#5e4fa2\",\"#5e4fa2\",\"#5e4fa2\",\"#5e4fa2\",\"#5e4fa2\",\"#5e4fa2\",\"#5e4fa2\",\"#5e4fa2\",\"#5e4fa2\",\"#5e4fa2\",\"#5e4fa2\",\"#5e4fa2\",\"#5e4fa2\",\"#5e4fa2\",\"#5e4fa2\",\"#5e4fa2\",\"#5e4fa2\",\"#5e4fa2\",\"#5e4fa2\",\"#5e4fa2\",\"#5e4fa2\",\"#5e4fa2\",\"#5e4fa2\",\"#5e4fa2\",\"#5e4fa2\",\"#5e4fa2\",\"#5e4fa2\",\"#5e4fa2\",\"#5e4fa2\",\"#5e4fa2\",\"#5e4fa2\",\"#5e4fa2\",\"#5e4fa2\",\"#5e4fa2\",\"#5e4fa2\",\"#5e4fa2\",\"#5e4fa2\",\"#5e4fa2\",\"#5e4fa2\",\"#5e4fa2\",\"#5e4fa2\",\"#5e4fa2\",\"#5e4fa2\",\"#5e4fa2\",\"#5e4fa2\",\"#5e4fa2\",\"#5e4fa2\",\"#5e4fa2\",\"#5e4fa2\",\"#5e4fa2\",\"#5e4fa2\",\"#5e4fa2\",\"#5e4fa2\",\"#5e4fa2\",\"#5e4fa2\",\"#5e4fa2\",\"#3288bd\",\"#3288bd\",\"#3288bd\",\"#3288bd\",\"#3288bd\",\"#3288bd\",\"#3288bd\",\"#3288bd\",\"#3288bd\",\"#3288bd\",\"#3288bd\",\"#3288bd\",\"#3288bd\",\"#3288bd\",\"#3288bd\",\"#3288bd\",\"#3288bd\",\"#3288bd\",\"#3288bd\",\"#3288bd\",\"#3288bd\",\"#3288bd\",\"#3288bd\",\"#3288bd\",\"#3288bd\",\"#3288bd\",\"#3288bd\",\"#3288bd\",\"#3288bd\",\"#3288bd\",\"#3288bd\",\"#3288bd\",\"#3288bd\",\"#3288bd\",\"#3288bd\",\"#3288bd\",\"#3288bd\",\"#3288bd\",\"#3288bd\",\"#3288bd\",\"#3288bd\",\"#3288bd\",\"#3288bd\",\"#3288bd\",\"#3288bd\",\"#3288bd\",\"#3288bd\",\"#3288bd\",\"#3288bd\",\"#3288bd\",\"#3288bd\",\"#3288bd\",\"#3288bd\",\"#3288bd\",\"#3288bd\",\"#3288bd\",\"#3288bd\",\"#3288bd\",\"#3288bd\",\"#3288bd\",\"#3288bd\",\"#3288bd\",\"#3288bd\",\"#3288bd\",\"#3288bd\",\"#3288bd\",\"#66c2a5\",\"#66c2a5\",\"#66c2a5\",\"#66c2a5\",\"#66c2a5\",\"#66c2a5\",\"#66c2a5\",\"#66c2a5\",\"#66c2a5\",\"#66c2a5\",\"#66c2a5\",\"#66c2a5\",\"#66c2a5\",\"#66c2a5\",\"#66c2a5\",\"#66c2a5\",\"#66c2a5\",\"#66c2a5\",\"#66c2a5\",\"#66c2a5\",\"#66c2a5\",\"#66c2a5\",\"#66c2a5\",\"#66c2a5\",\"#66c2a5\",\"#66c2a5\",\"#66c2a5\",\"#66c2a5\",\"#66c2a5\",\"#66c2a5\",\"#66c2a5\",\"#66c2a5\",\"#66c2a5\",\"#66c2a5\",\"#66c2a5\",\"#66c2a5\",\"#66c2a5\",\"#66c2a5\",\"#66c2a5\",\"#66c2a5\",\"#66c2a5\",\"#66c2a5\",\"#66c2a5\",\"#66c2a5\",\"#66c2a5\",\"#66c2a5\",\"#66c2a5\",\"#66c2a5\",\"#66c2a5\",\"#66c2a5\",\"#66c2a5\",\"#66c2a5\",\"#66c2a5\",\"#66c2a5\",\"#66c2a5\",\"#66c2a5\",\"#66c2a5\",\"#66c2a5\",\"#66c2a5\",\"#66c2a5\",\"#66c2a5\",\"#66c2a5\",\"#66c2a5\",\"#66c2a5\",\"#66c2a5\",\"#66c2a5\"],\"country\":[\"Germany (FRG)\",\"Germany (FRG)\",\"Germany (FRG)\",\"Germany (FRG)\",\"Germany (FRG)\",\"Germany (FRG)\",\"Germany (FRG)\",\"Germany (FRG)\",\"Germany (FRG)\",\"Germany (FRG)\",\"Germany (FRG)\",\"Germany (FRG)\",\"Germany (FRG)\",\"Germany (FRG)\",\"Germany (FRG)\",\"Germany (FRG)\",\"Germany (FRG)\",\"Germany (FRG)\",\"Germany (FRG)\",\"Germany (FRG)\",\"Germany (FRG)\",\"Germany (FRG)\",\"Germany (FRG)\",\"Germany (FRG)\",\"Germany (FRG)\",\"Germany (FRG)\",\"Germany (FRG)\",\"Germany (FRG)\",\"Germany (FRG)\",\"Germany (FRG)\",\"Germany (FRG)\",\"Germany (FRG)\",\"Germany (FRG)\",\"Germany (FRG)\",\"Germany (FRG)\",\"Germany (FRG)\",\"Germany (FRG)\",\"Germany (FRG)\",\"Germany (FRG)\",\"Germany (FRG)\",\"Germany (FRG)\",\"Germany (FRG)\",\"Germany (FRG)\",\"Germany (FRG)\",\"Germany (FRG)\",\"Germany (FRG)\",\"Germany (FRG)\",\"Germany (FRG)\",\"Germany (FRG)\",\"Germany (FRG)\",\"Germany (FRG)\",\"Germany (FRG)\",\"Germany (FRG)\",\"Germany (FRG)\",\"Germany (FRG)\",\"Germany (FRG)\",\"Germany (FRG)\",\"Germany (FRG)\",\"Germany (FRG)\",\"Germany (FRG)\",\"Germany (FRG)\",\"Germany (FRG)\",\"Germany (FRG)\",\"United States\",\"United States\",\"United States\",\"United States\",\"United States\",\"United States\",\"United States\",\"United States\",\"United States\",\"United States\",\"United States\",\"United States\",\"United States\",\"United States\",\"United States\",\"United States\",\"United States\",\"United States\",\"United States\",\"United States\",\"United States\",\"United States\",\"United States\",\"United States\",\"United States\",\"United States\",\"United States\",\"United States\",\"United States\",\"United States\",\"United States\",\"United States\",\"United States\",\"United States\",\"United States\",\"United States\",\"United States\",\"United States\",\"United States\",\"United States\",\"United States\",\"United States\",\"United States\",\"United States\",\"United States\",\"United States\",\"United States\",\"United States\",\"United States\",\"United States\",\"United States\",\"United States\",\"United States\",\"United States\",\"United States\",\"United States\",\"United States\",\"United States\",\"United States\",\"United States\",\"United States\",\"United States\",\"United States\",\"United States\",\"United States\",\"United States\",\"China\",\"China\",\"China\",\"China\",\"China\",\"China\",\"China\",\"China\",\"China\",\"China\",\"China\",\"China\",\"China\",\"China\",\"China\",\"China\",\"China\",\"China\",\"China\",\"China\",\"China\",\"China\",\"China\",\"China\",\"China\",\"China\",\"China\",\"China\",\"China\",\"China\",\"China\",\"China\",\"China\",\"China\",\"China\",\"China\",\"China\",\"China\",\"China\",\"China\",\"China\",\"China\",\"China\",\"China\",\"China\",\"China\",\"China\",\"China\",\"China\",\"China\",\"China\",\"China\",\"China\",\"China\",\"China\",\"China\",\"China\",\"China\",\"China\",\"China\",\"China\",\"China\",\"China\",\"China\",\"China\",\"China\"],\"x\":[\"1953\",\"1954\",\"1955\",\"1956\",\"1957\",\"1958\",\"1959\",\"1960\",\"1961\",\"1962\",\"1963\",\"1964\",\"1965\",\"1966\",\"1967\",\"1968\",\"1969\",\"1970\",\"1971\",\"1972\",\"1973\",\"1974\",\"1975\",\"1976\",\"1977\",\"1978\",\"1979\",\"1980\",\"1981\",\"1982\",\"1983\",\"1984\",\"1985\",\"1986\",\"1987\",\"1988\",\"1989\",\"1990\",\"1991\",\"1992\",\"1993\",\"1994\",\"1995\",\"1996\",\"1997\",\"1998\",\"1999\",\"2000\",\"2001\",\"2002\",\"2003\",\"2004\",\"2005\",\"2006\",\"2007\",\"2008\",\"2009\",\"2010\",\"2011\",\"2012\",\"2013\",\"2014\",\"2015\",\"1950\",\"1951\",\"1952\",\"1953\",\"1954\",\"1955\",\"1956\",\"1957\",\"1958\",\"1959\",\"1960\",\"1961\",\"1962\",\"1963\",\"1964\",\"1965\",\"1966\",\"1967\",\"1968\",\"1969\",\"1970\",\"1971\",\"1972\",\"1973\",\"1974\",\"1975\",\"1976\",\"1977\",\"1978\",\"1979\",\"1980\",\"1981\",\"1982\",\"1983\",\"1984\",\"1985\",\"1986\",\"1987\",\"1988\",\"1989\",\"1990\",\"1991\",\"1992\",\"1993\",\"1994\",\"1995\",\"1996\",\"1997\",\"1998\",\"1999\",\"2000\",\"2001\",\"2002\",\"2003\",\"2004\",\"2005\",\"2006\",\"2007\",\"2008\",\"2009\",\"2010\",\"2011\",\"2012\",\"2013\",\"2014\",\"2015\",\"1950\",\"1951\",\"1952\",\"1953\",\"1954\",\"1955\",\"1956\",\"1957\",\"1958\",\"1959\",\"1960\",\"1961\",\"1962\",\"1963\",\"1964\",\"1965\",\"1966\",\"1967\",\"1968\",\"1969\",\"1970\",\"1971\",\"1972\",\"1973\",\"1974\",\"1975\",\"1976\",\"1977\",\"1978\",\"1979\",\"1980\",\"1981\",\"1982\",\"1983\",\"1984\",\"1985\",\"1986\",\"1987\",\"1988\",\"1989\",\"1990\",\"1991\",\"1992\",\"1993\",\"1994\",\"1995\",\"1996\",\"1997\",\"1998\",\"1999\",\"2000\",\"2001\",\"2002\",\"2003\",\"2004\",\"2005\",\"2006\",\"2007\",\"2008\",\"2009\",\"2010\",\"2011\",\"2012\",\"2013\",\"2014\",\"2015\"],\"y\":[38.0,29.0,24.0,24.0,44.0,25.0,93.0,156.0,9.0,126.0,94.0,380.0,268.0,654.0,722.0,550.0,710.0,1463.0,1367.0,1377.0,226.0,1210.0,1443.0,1665.0,1714.0,1630.0,1440.0,1621.0,1941.0,1588.0,2310.0,2861.0,1284.0,1412.0,957.0,1394.0,1204.0,1832.0,2514.0,1442.0,1541.0,2692.0,1465.0,1960.0,942.0,1824.0,1838.0,1615.0,875.0,904.0,1660.0,1124.0,2072.0,2699.0,3247.0,2379.0,2537.0,2747.0,1353.0,820.0,726.0,1789.0,2055.0,1704.0,4721.0,6410.0,8923.0,6020.0,6593.0,8390.0,8572.0,9667.0,7335.0,5866.0,6281.0,5554.0,8620.0,12171.0,11030.0,8180.0,6964.0,8104.0,10910.0,8320.0,10626.0,8596.0,11368.0,11934.0,16120.0,15670.0,14472.0,13968.0,9640.0,10637.0,13459.0,12673.0,12565.0,10533.0,9908.0,11531.0,12110.0,11759.0,11311.0,10725.0,12501.0,14082.0,13804.0,11457.0,11133.0,10830.0,14546.0,15699.0,11545.0,7565.0,5682.0,4955.0,5615.0,6792.0,6826.0,7480.0,7802.0,6802.0,6391.0,8096.0,9105.0,9163.0,7692.0,10469.0,10483.0,0.0,0.0,0.0,0.0,0.0,0.0,39.0,30.0,463.0,361.0,285.0,35.0,51.0,11.0,61.0,419.0,619.0,410.0,682.0,608.0,845.0,1239.0,1185.0,672.0,509.0,671.0,613.0,225.0,618.0,559.0,949.0,643.0,1506.0,1774.0,1926.0,1274.0,1853.0,2596.0,1399.0,1032.0,935.0,1316.0,703.0,1436.0,1111.0,1014.0,773.0,435.0,352.0,331.0,303.0,516.0,526.0,702.0,400.0,289.0,671.0,505.0,636.0,1178.0,1497.0,1338.0,1729.0,2055.0,1362.0,1968.0]}},\"id\":\"4eb05559-eccc-420a-8269-5e021f18bca3\",\"type\":\"ColumnDataSource\"},{\"attributes\":{\"callback\":null,\"column_names\":[\"y\",\"x\"],\"data\":{\"x\":[\"1950\",\"1951\",\"1952\",\"1953\",\"1954\",\"1955\",\"1956\",\"1957\",\"1958\",\"1959\",\"1960\",\"1961\",\"1962\",\"1963\",\"1964\",\"1965\",\"1966\",\"1967\",\"1968\",\"1969\",\"1970\",\"1971\",\"1972\",\"1973\",\"1974\",\"1975\",\"1976\",\"1977\",\"1978\",\"1979\",\"1980\",\"1981\",\"1982\",\"1983\",\"1984\",\"1985\",\"1986\",\"1987\",\"1988\",\"1989\",\"1990\",\"1991\",\"1992\",\"1993\",\"1994\",\"1995\",\"1996\",\"1997\",\"1998\",\"1999\",\"2000\",\"2001\",\"2002\",\"2003\",\"2004\",\"2005\",\"2006\",\"2007\",\"2008\",\"2009\",\"2010\",\"2011\",\"2012\",\"2013\",\"2014\",\"2015\"],\"y\":[1704.0,4721.0,6410.0,8923.0,6020.0,6593.0,8390.0,8572.0,9667.0,7335.0,5866.0,6281.0,5554.0,8620.0,12171.0,11030.0,8180.0,6964.0,8104.0,10910.0,8320.0,10626.0,8596.0,11368.0,11934.0,16120.0,15670.0,14472.0,13968.0,9640.0,10637.0,13459.0,12673.0,12565.0,10533.0,9908.0,11531.0,12110.0,11759.0,11311.0,10725.0,12501.0,14082.0,13804.0,11457.0,11133.0,10830.0,14546.0,15699.0,11545.0,7565.0,5682.0,4955.0,5615.0,6792.0,6826.0,7480.0,7802.0,6802.0,6391.0,8096.0,9105.0,9163.0,7692.0,10469.0,10483.0]}},\"id\":\"c06c7212-1583-41ff-b22f-10db357f3fa9\",\"type\":\"ColumnDataSource\"},{\"attributes\":{\"callback\":null,\"plot\":{\"id\":\"fb965fed-aad8-449a-aeaf-e1fc12a48295\",\"subtype\":\"Figure\",\"type\":\"Plot\"}},\"id\":\"03c4f545-34f9-47dc-b799-d39d2685f431\",\"type\":\"TapTool\"}],\"root_ids\":[\"fb965fed-aad8-449a-aeaf-e1fc12a48295\"]},\"title\":\"Bokeh Application\",\"version\":\"0.12.0\"}};\n",
       "            var render_items = [{\"docid\":\"127da118-f9e3-458b-8817-8720bdedf1c6\",\"elementid\":\"39ef6569-85a9-479a-84be-f8178439a2dd\",\"modelid\":\"fb965fed-aad8-449a-aeaf-e1fc12a48295\",\"notebook_comms_target\":\"148ac54f-c5b8-45ad-a0cd-1a6191e2cf22\"}];\n",
       "            \n",
       "            Bokeh.embed.embed_items(docs_json, render_items);\n",
       "        });\n",
       "      },\n",
       "      function(Bokeh) {\n",
       "      }\n",
       "    ];\n",
       "  \n",
       "    function run_inline_js() {\n",
       "      for (var i = 0; i < inline_js.length; i++) {\n",
       "        inline_js[i](window.Bokeh);\n",
       "      }\n",
       "    }\n",
       "  \n",
       "    if (window._bokeh_is_loading === 0) {\n",
       "      console.log(\"Bokeh: BokehJS loaded, going straight to plotting\");\n",
       "      run_inline_js();\n",
       "    } else {\n",
       "      load_libs(js_urls, function() {\n",
       "        console.log(\"Bokeh: BokehJS plotting callback run at\", now());\n",
       "        run_inline_js();\n",
       "      });\n",
       "    }\n",
       "  }(this));\n",
       "</script>"
      ]
     },
     "metadata": {},
     "output_type": "display_data"
    },
    {
     "data": {
      "text/html": [
       "<p><code>&lt;Bokeh Notebook handle for <strong>In[47]</strong>&gt;</code></p>"
      ],
      "text/plain": [
       "<bokeh.io._CommsHandle at 0x117618890>"
      ]
     },
     "execution_count": 47,
     "metadata": {},
     "output_type": "execute_result"
    }
   ],
   "source": [
    "plot3 = generateTimelinesPlot(weaponoutflow, ['Germany (FRG)', 'United States', 'China'],'Weapon Outflow')\n",
    "\n",
    "show(plot3)"
   ]
  },
  {
   "cell_type": "markdown",
   "metadata": {},
   "source": [
    "## New Visualization"
   ]
  },
  {
   "cell_type": "code",
   "execution_count": 48,
   "metadata": {
    "collapsed": true
   },
   "outputs": [],
   "source": [
    "from math import sqrt\n",
    "from bokeh.models import ColumnDataSource"
   ]
  },
  {
   "cell_type": "code",
   "execution_count": 49,
   "metadata": {
    "collapsed": false
   },
   "outputs": [
    {
     "data": {
      "text/html": [
       "\n",
       "    <div class=\"bk-root\">\n",
       "        <a href=\"http://bokeh.pydata.org\" target=\"_blank\" class=\"bk-logo bk-logo-small bk-logo-notebook\"></a>\n",
       "        <span id=\"bf42a474-5ad3-4d6d-a6b4-687e74b1c3e8\">Loading BokehJS ...</span>\n",
       "    </div>"
      ]
     },
     "metadata": {},
     "output_type": "display_data"
    },
    {
     "data": {
      "application/javascript": [
       "\n",
       "(function(global) {\n",
       "  function now() {\n",
       "    return new Date();\n",
       "  }\n",
       "\n",
       "  if (typeof (window._bokeh_onload_callbacks) === \"undefined\") {\n",
       "    window._bokeh_onload_callbacks = [];\n",
       "  }\n",
       "\n",
       "  function run_callbacks() {\n",
       "    window._bokeh_onload_callbacks.forEach(function(callback) { callback() });\n",
       "    delete window._bokeh_onload_callbacks\n",
       "    console.info(\"Bokeh: all callbacks have finished\");\n",
       "  }\n",
       "\n",
       "  function load_libs(js_urls, callback) {\n",
       "    window._bokeh_onload_callbacks.push(callback);\n",
       "    if (window._bokeh_is_loading > 0) {\n",
       "      console.log(\"Bokeh: BokehJS is being loaded, scheduling callback at\", now());\n",
       "      return null;\n",
       "    }\n",
       "    if (js_urls == null || js_urls.length === 0) {\n",
       "      run_callbacks();\n",
       "      return null;\n",
       "    }\n",
       "    console.log(\"Bokeh: BokehJS not loaded, scheduling load and callback at\", now());\n",
       "    window._bokeh_is_loading = js_urls.length;\n",
       "    for (var i = 0; i < js_urls.length; i++) {\n",
       "      var url = js_urls[i];\n",
       "      var s = document.createElement('script');\n",
       "      s.src = url;\n",
       "      s.async = false;\n",
       "      s.onreadystatechange = s.onload = function() {\n",
       "        window._bokeh_is_loading--;\n",
       "        if (window._bokeh_is_loading === 0) {\n",
       "          console.log(\"Bokeh: all BokehJS libraries loaded\");\n",
       "          run_callbacks()\n",
       "        }\n",
       "      };\n",
       "      s.onerror = function() {\n",
       "        console.warn(\"failed to load library \" + url);\n",
       "      };\n",
       "      console.log(\"Bokeh: injecting script tag for BokehJS library: \", url);\n",
       "      document.getElementsByTagName(\"head\")[0].appendChild(s);\n",
       "    }\n",
       "  };\n",
       "\n",
       "  var js_urls = ['https://cdn.pydata.org/bokeh/release/bokeh-0.12.0.min.js', 'https://cdn.pydata.org/bokeh/release/bokeh-widgets-0.12.0.min.js', 'https://cdn.pydata.org/bokeh/release/bokeh-compiler-0.12.0.min.js'];\n",
       "\n",
       "  var inline_js = [\n",
       "    function(Bokeh) {\n",
       "      Bokeh.set_log_level(\"info\");\n",
       "    },\n",
       "    \n",
       "    function(Bokeh) {\n",
       "      Bokeh.$(\"#bf42a474-5ad3-4d6d-a6b4-687e74b1c3e8\").text(\"BokehJS successfully loaded\");\n",
       "    },\n",
       "    function(Bokeh) {\n",
       "      console.log(\"Bokeh: injecting CSS: https://cdn.pydata.org/bokeh/release/bokeh-0.12.0.min.css\");\n",
       "      Bokeh.embed.inject_css(\"https://cdn.pydata.org/bokeh/release/bokeh-0.12.0.min.css\");\n",
       "      console.log(\"Bokeh: injecting CSS: https://cdn.pydata.org/bokeh/release/bokeh-widgets-0.12.0.min.css\");\n",
       "      Bokeh.embed.inject_css(\"https://cdn.pydata.org/bokeh/release/bokeh-widgets-0.12.0.min.css\");\n",
       "    }\n",
       "  ];\n",
       "\n",
       "  function run_inline_js() {\n",
       "    for (var i = 0; i < inline_js.length; i++) {\n",
       "      inline_js[i](window.Bokeh);\n",
       "    }\n",
       "  }\n",
       "\n",
       "  if (window._bokeh_is_loading === 0) {\n",
       "    console.log(\"Bokeh: BokehJS loaded, going straight to plotting\");\n",
       "    run_inline_js();\n",
       "  } else {\n",
       "    load_libs(js_urls, function() {\n",
       "      console.log(\"Bokeh: BokehJS plotting callback run at\", now());\n",
       "      run_inline_js();\n",
       "    });\n",
       "  }\n",
       "}(this));"
      ]
     },
     "metadata": {},
     "output_type": "display_data"
    }
   ],
   "source": [
    "from bokeh.plotting import figure,show\n",
    "from bokeh.io import output_notebook\n",
    "from bokeh.models import HoverTool\n",
    "\n",
    "output_notebook()\n",
    "layout = nx.spring_layout(mastergraph)"
   ]
  },
  {
   "cell_type": "code",
   "execution_count": 50,
   "metadata": {
    "collapsed": false
   },
   "outputs": [],
   "source": [
    "def get_nodes_specs(_network, _layout):\n",
    "    d = dict(x=[], y=[], color=[], country=[], size=[], totaltrade =[], \n",
    "             cluster=[], alpha=[], largestpartner=[], military_expenditure=[])\n",
    "    \n",
    "    partition = community.best_partition(_network)\n",
    "    \n",
    "    for node in _network.nodes(data = True):\n",
    "        totaltrade = 0\n",
    "        largest_trade_partner_trade = 0\n",
    "        largest_trade_partner_name = ''  \n",
    "        \n",
    "        for edge in _network.edges(data=True):\n",
    "                if edge[0] == node[0] or edge[1] == node[0]:\n",
    "                    totaltrade += edge[2].values()[0]\n",
    "                    if edge[2].values()[0] >= largest_trade_partner_trade:\n",
    "                        largest_trade_partner_trade = edge[2].values()[0]\n",
    "                        if edge[0] == node[0]:\n",
    "                            largest_trade_partner_name = edge[1]\n",
    "                        else:\n",
    "                            largest_trade_partner_name = edge[0] \n",
    "\n",
    "        d['x'].append(_layout[node[0]][0])\n",
    "        d['y'].append(_layout[node[0]][1])\n",
    "        d['color'].append(colormap[partition[node[0]]])\n",
    "        d['country'].append(node[0])\n",
    "        \n",
    "        if isinstance(node[1].values()[0],float) and not math.isnan(node[1].values()[0]):\n",
    "            d['size'].append((np.log(node[1].values()[0]))*0.8)\n",
    "            d['alpha'].append(0.6)\n",
    "        else:\n",
    "            d['size'].append(np.log(totaltrade))\n",
    "            d['alpha'].append(0.2)\n",
    "        \n",
    "        d['totaltrade'].append(totaltrade)\n",
    "        d['cluster'].append(partition[node[0]])\n",
    "        \n",
    "        d['largestpartner'].append(largest_trade_partner_name)\n",
    "        d['military_expenditure'].append(node[1].values()[0])\n",
    "        \n",
    "    return d"
   ]
  },
  {
   "cell_type": "code",
   "execution_count": 51,
   "metadata": {
    "collapsed": true
   },
   "outputs": [],
   "source": [
    "def get_edges_specs(_network, _layout):\n",
    "    d = dict(xs=[], ys=[], alphas=[], width=[])\n",
    "    weights = []\n",
    "    for u, v, data in _network.edges(data=True):\n",
    "        weights.append(data)\n",
    "    max_weight = max(weights).values()\n",
    "    calc_alpha = lambda h: 0.1 + 0.6 * (h / max_weight)\n",
    "    for u, v, data in _network.edges(data=True):\n",
    "        d['xs'].append([_layout[u][0], _layout[v][0]])\n",
    "        d['ys'].append([_layout[u][1], _layout[v][1]])\n",
    "        d['alphas'].append(calc_alpha(data['weight']))\n",
    "        d['width'].append(np.log(data.values()[0]))\n",
    "    \n",
    "    return d"
   ]
  },
  {
   "cell_type": "code",
   "execution_count": 52,
   "metadata": {
    "collapsed": false
   },
   "outputs": [],
   "source": [
    "hover = HoverTool(tooltips=[('country','@country'),\n",
    "                            ('cluster','@cluster'),\n",
    "                            ('military expenditure','@military_expenditure'),\n",
    "                            ('largest tradepartner', '@largestpartner'),\n",
    "                            #('imports from', '@import'),\n",
    "                            #('exports from', '@export')\n",
    "                           ])\n",
    "\n",
    "plot = figure(plot_width=800, plot_height=600, tools=['pan','tap',hover,'box_zoom','reset','wheel_zoom','save'])\n",
    "\n",
    "layout = nx.spring_layout(mastergraph)\n",
    "\n",
    "nodes = ColumnDataSource(get_nodes_specs(mastergraph, layout))\n",
    "edges = ColumnDataSource(get_edges_specs(mastergraph, layout))\n",
    "\n",
    "r_circles = plot.circle('x','y', source=nodes, size='size', color='color', level='overlay',alpha='alpha')\n",
    "r_lines = plot.multi_line('xs', 'ys', source=edges, line_width='width', alpha='alphas', color='navy')\n"
   ]
  },
  {
   "cell_type": "code",
   "execution_count": 53,
   "metadata": {
    "collapsed": false
   },
   "outputs": [
    {
     "data": {
      "text/html": [
       "\n",
       "\n",
       "    <div class=\"bk-root\">\n",
       "        <div class=\"plotdiv\" id=\"5a7f7fb3-0b48-49b8-8ba8-88dd3790ee15\"></div>\n",
       "    </div>\n",
       "<script type=\"text/javascript\">\n",
       "  \n",
       "  (function(global) {\n",
       "    function now() {\n",
       "      return new Date();\n",
       "    }\n",
       "  \n",
       "    if (typeof (window._bokeh_onload_callbacks) === \"undefined\") {\n",
       "      window._bokeh_onload_callbacks = [];\n",
       "    }\n",
       "  \n",
       "    function run_callbacks() {\n",
       "      window._bokeh_onload_callbacks.forEach(function(callback) { callback() });\n",
       "      delete window._bokeh_onload_callbacks\n",
       "      console.info(\"Bokeh: all callbacks have finished\");\n",
       "    }\n",
       "  \n",
       "    function load_libs(js_urls, callback) {\n",
       "      window._bokeh_onload_callbacks.push(callback);\n",
       "      if (window._bokeh_is_loading > 0) {\n",
       "        console.log(\"Bokeh: BokehJS is being loaded, scheduling callback at\", now());\n",
       "        return null;\n",
       "      }\n",
       "      if (js_urls == null || js_urls.length === 0) {\n",
       "        run_callbacks();\n",
       "        return null;\n",
       "      }\n",
       "      console.log(\"Bokeh: BokehJS not loaded, scheduling load and callback at\", now());\n",
       "      window._bokeh_is_loading = js_urls.length;\n",
       "      for (var i = 0; i < js_urls.length; i++) {\n",
       "        var url = js_urls[i];\n",
       "        var s = document.createElement('script');\n",
       "        s.src = url;\n",
       "        s.async = false;\n",
       "        s.onreadystatechange = s.onload = function() {\n",
       "          window._bokeh_is_loading--;\n",
       "          if (window._bokeh_is_loading === 0) {\n",
       "            console.log(\"Bokeh: all BokehJS libraries loaded\");\n",
       "            run_callbacks()\n",
       "          }\n",
       "        };\n",
       "        s.onerror = function() {\n",
       "          console.warn(\"failed to load library \" + url);\n",
       "        };\n",
       "        console.log(\"Bokeh: injecting script tag for BokehJS library: \", url);\n",
       "        document.getElementsByTagName(\"head\")[0].appendChild(s);\n",
       "      }\n",
       "    };var element = document.getElementById(\"5a7f7fb3-0b48-49b8-8ba8-88dd3790ee15\");\n",
       "    if (element == null) {\n",
       "      console.log(\"Bokeh: ERROR: autoload.js configured with elementid '5a7f7fb3-0b48-49b8-8ba8-88dd3790ee15' but no matching script tag was found. \")\n",
       "      return false;\n",
       "    }\n",
       "  \n",
       "    var js_urls = [];\n",
       "  \n",
       "    var inline_js = [\n",
       "      function(Bokeh) {\n",
       "        Bokeh.$(function() {\n",
       "            var docs_json = {\"b56224f7-7483-43f6-843c-34b5a5d183c3\":{\"roots\":{\"references\":[{\"attributes\":{\"bottom_units\":\"screen\",\"fill_alpha\":{\"value\":0.5},\"fill_color\":{\"value\":\"lightgrey\"},\"left_units\":\"screen\",\"level\":\"overlay\",\"line_alpha\":{\"value\":1.0},\"line_color\":{\"value\":\"black\"},\"line_dash\":[4,4],\"line_width\":{\"value\":2},\"plot\":null,\"render_mode\":\"css\",\"right_units\":\"screen\",\"top_units\":\"screen\"},\"id\":\"4af65e8c-8483-4322-86a0-1c1cca881495\",\"type\":\"BoxAnnotation\"},{\"attributes\":{},\"id\":\"f529f55a-200b-4852-9d69-ee325f2156e6\",\"type\":\"BasicTickFormatter\"},{\"attributes\":{\"active_drag\":\"auto\",\"active_scroll\":\"auto\",\"active_tap\":\"auto\",\"tools\":[{\"id\":\"cc098f98-ba7d-41f2-8971-942b845db3cb\",\"type\":\"HoverTool\"},{\"id\":\"cc1005a4-00e2-4469-8bdc-80e657e802b0\",\"type\":\"PanTool\"},{\"id\":\"a496ba6c-ccc8-4e9d-a277-84e038ae2559\",\"type\":\"TapTool\"},{\"id\":\"6ce99bff-33eb-48bd-a3bc-400176302a0c\",\"type\":\"BoxZoomTool\"},{\"id\":\"b63ba175-21ae-4184-a2d3-88ef88372747\",\"type\":\"ResetTool\"},{\"id\":\"c22aa0d8-1b77-4266-804c-bd84ef5acbae\",\"type\":\"WheelZoomTool\"},{\"id\":\"913925df-99dc-46bb-9764-eac40dd791fc\",\"type\":\"SaveTool\"}]},\"id\":\"3532a7ca-8904-4835-862a-1d95f3c713b0\",\"type\":\"Toolbar\"},{\"attributes\":{\"callback\":null},\"id\":\"e9361987-c7d8-4906-9d28-5c870006fabd\",\"type\":\"DataRange1d\"},{\"attributes\":{},\"id\":\"e8773f22-65c8-4009-9132-711e719eae19\",\"type\":\"ToolEvents\"},{\"attributes\":{\"formatter\":{\"id\":\"b78678f5-d5ca-4347-8a0d-36dab67cbb40\",\"type\":\"BasicTickFormatter\"},\"plot\":{\"id\":\"404e8e30-8435-441f-a42d-c19a4dfb32a9\",\"subtype\":\"Figure\",\"type\":\"Plot\"},\"ticker\":{\"id\":\"a500cc53-01cc-4e57-a6b7-8415817304dc\",\"type\":\"BasicTicker\"}},\"id\":\"33b24657-865d-4932-bf24-ae59c2450255\",\"type\":\"LinearAxis\"},{\"attributes\":{},\"id\":\"b78678f5-d5ca-4347-8a0d-36dab67cbb40\",\"type\":\"BasicTickFormatter\"},{\"attributes\":{},\"id\":\"a500cc53-01cc-4e57-a6b7-8415817304dc\",\"type\":\"BasicTicker\"},{\"attributes\":{\"data_source\":{\"id\":\"3f300a6c-de77-4a61-9897-611a4902262d\",\"type\":\"ColumnDataSource\"},\"glyph\":{\"id\":\"14c740df-daa9-48b2-9ca6-9a4f5591a5fd\",\"type\":\"Circle\"},\"hover_glyph\":null,\"level\":\"overlay\",\"nonselection_glyph\":{\"id\":\"61cc31fa-8766-4c33-aa64-b1a6057869bf\",\"type\":\"Circle\"},\"selection_glyph\":null},\"id\":\"5e46e7e3-c6bf-4f4d-be9b-fc832e64495f\",\"type\":\"GlyphRenderer\"},{\"attributes\":{\"fill_alpha\":{\"field\":\"alpha\"},\"fill_color\":{\"field\":\"color\"},\"line_alpha\":{\"field\":\"alpha\"},\"line_color\":{\"field\":\"color\"},\"size\":{\"field\":\"size\",\"units\":\"screen\"},\"x\":{\"field\":\"x\"},\"y\":{\"field\":\"y\"}},\"id\":\"14c740df-daa9-48b2-9ca6-9a4f5591a5fd\",\"type\":\"Circle\"},{\"attributes\":{\"data_source\":{\"id\":\"c522869b-e438-43d8-96b5-28c6fc2f0d74\",\"type\":\"ColumnDataSource\"},\"glyph\":{\"id\":\"c611093a-e2df-4127-9071-5ad95f82de81\",\"type\":\"MultiLine\"},\"hover_glyph\":null,\"nonselection_glyph\":{\"id\":\"28efff99-8630-4e86-9d53-c97d7f7684e0\",\"type\":\"MultiLine\"},\"selection_glyph\":null},\"id\":\"ea887692-0957-4693-8de9-19a90e36d322\",\"type\":\"GlyphRenderer\"},{\"attributes\":{\"line_alpha\":{\"value\":0.1},\"line_color\":{\"value\":\"#1f77b4\"},\"line_width\":{\"field\":\"width\"},\"xs\":{\"field\":\"xs\"},\"ys\":{\"field\":\"ys\"}},\"id\":\"28efff99-8630-4e86-9d53-c97d7f7684e0\",\"type\":\"MultiLine\"},{\"attributes\":{\"callback\":null},\"id\":\"6cac00c1-f468-4572-9bbb-ae7bd296346a\",\"type\":\"DataRange1d\"},{\"attributes\":{\"line_alpha\":{\"field\":\"alphas\"},\"line_color\":{\"value\":\"navy\"},\"line_width\":{\"field\":\"width\"},\"xs\":{\"field\":\"xs\"},\"ys\":{\"field\":\"ys\"}},\"id\":\"c611093a-e2df-4127-9071-5ad95f82de81\",\"type\":\"MultiLine\"},{\"attributes\":{\"plot\":{\"id\":\"404e8e30-8435-441f-a42d-c19a4dfb32a9\",\"subtype\":\"Figure\",\"type\":\"Plot\"}},\"id\":\"cc1005a4-00e2-4469-8bdc-80e657e802b0\",\"type\":\"PanTool\"},{\"attributes\":{\"callback\":null,\"column_names\":[\"width\",\"ys\",\"alphas\",\"xs\"],\"data\":{\"alphas\":[[0.14664747017688196],[0.1004936240230358],[0.1002468120115179],[0.1004936240230358],[0.10493624023035789],[0.13331962155491567],[0.11110654051830524],[0.1078979843685726],[0.11801727684080626],[0.1244343891402715],[0.21846976552858904],[0.31522007404360347],[0.10740436034553683],[0.10246812011517895],[0.18934594816947758],[0.10617030028794736],[0.1004936240230358],[0.1002468120115179],[0.18169477581242288],[0.1041958041958042],[0.1004936240230358],[0.10148087206910737],[0.12196626902509256],[0.10345536816125052],[0.10148087206910737],[0.10296174413821473],[0.1041958041958042],[0.10394899218428631],[0.11085972850678734],[0.1004936240230358],[0.14467297408473878],[0.10197449609214315],[0.10987248046071577],[0.10123406005758948],[0.15109008638420404],[0.11160016454134102],[0.10987248046071577],[0.1004936240230358],[0.1002468120115179],[0.10098724804607158],[0.12739613327848623],[0.10098724804607158],[0.11036610448375155],[0.11530234471410943],[0.1157959687371452],[0.16293706293706295],[0.24290415466886053],[0.10320855614973262],[0.10987248046071577],[0.23426573426573427],[0.10123406005758948],[0.10123406005758948],[0.11110654051830524],[0.10098724804607158],[0.1004936240230358],[0.10987248046071577],[0.1002468120115179],[0.10691073632250103],[0.1004936240230358],[0.1002468120115179],[0.2120526532291238],[0.10493624023035789],[0.10074043603455368],[0.10296174413821473],[0.1041958041958042],[0.1002468120115179],[0.10074043603455368],[0.10913204442616208],[0.10567667626491156],[0.10148087206910737],[0.1002468120115179],[0.10296174413821473],[0.10197449609214315],[0.1002468120115179],[0.10246812011517895],[0.1157959687371452],[0.12937062937062938],[0.10074043603455368],[0.13480049362402305],[0.13134512546277252],[0.17034142328259977],[0.7],[0.10394899218428631],[0.10074043603455368],[0.20563554092965858],[0.10370218017276842],[0.1002468120115179],[0.12418757712875361],[0.10345536816125052],[0.1449197860962567],[0.11011929247223365],[0.12961744138214726],[0.17897984368572606],[0.1123406005758947],[0.116289592760181],[0.11283422459893049],[0.10246812011517895],[0.1078979843685726],[0.1157959687371452],[0.10691073632250103],[0.12690250925545044],[0.11258741258741259],[0.10271493212669684],[0.10123406005758948],[0.11554915672562732],[0.10320855614973262],[0.10197449609214315],[0.1041958041958042],[0.10123406005758948],[0.10148087206910737],[0.1367749897161662],[0.14220485396955984],[0.10123406005758948],[0.16269025092554504],[0.10197449609214315],[0.3048539695598519],[0.1004936240230358],[0.12616207322089676],[0.1004936240230358],[0.1002468120115179],[0.2169888934594817],[0.10518305224187578],[0.14121760592348828],[0.10666392431098314],[0.10246812011517895],[0.10123406005758948],[0.24784039489921844],[0.1004936240230358],[0.13060468942821885],[0.1002468120115179],[0.1078979843685726],[0.1002468120115179],[0.11258741258741259],[0.10222130810366105],[0.1691073632250103],[0.10074043603455368],[0.14121760592348828],[0.10493624023035789],[0.11727684080625257],[0.1444261620732209],[0.10246812011517895],[0.1004936240230358],[0.1004936240230358],[0.13430686960098726],[0.10197449609214315],[0.1002468120115179],[0.11530234471410943],[0.3798848210612916],[0.10370218017276842],[0.10740436034553683],[0.3105306458247635],[0.14985602632661457],[0.10098724804607158],[0.10271493212669684],[0.1002468120115179],[0.10913204442616208],[0.11752365281777047],[0.1004936240230358],[0.10123406005758948]],\"width\":[5.241747015059643,0.6931471805599453,0.0,0.6931471805599453,2.995732273553991,4.90527477843843,3.8066624897703196,3.4657359027997265,4.290459441148391,4.59511985013459,6.173786103901937,6.77078942390898,3.4011973816621555,2.302585092994046,5.8916442118257715,3.2188758248682006,0.6931471805599453,0.0,5.802118375377063,2.833213344056216,0.6931471805599453,1.791759469228055,4.48863636973214,2.6390573296152584,1.791759469228055,2.4849066497880004,2.833213344056216,2.772588722239781,3.784189633918261,0.6931471805599453,5.198497031265826,2.0794415416798357,3.6888794541139363,1.6094379124341003,5.332718793265369,3.8501476017100584,3.6888794541139363,0.6931471805599453,0.0,1.3862943611198906,4.709530201312334,1.3862943611198906,3.7376696182833684,4.127134385045092,4.1588830833596715,5.541263545158426,6.361302477572996,2.5649493574615367,3.6888794541139363,6.298949246855942,1.6094379124341003,1.6094379124341003,3.8066624897703196,1.3862943611198906,0.6931471805599453,3.6888794541139363,0.0,3.332204510175204,0.6931471805599453,0.0,6.118097198041348,2.995732273553991,1.0986122886681098,2.4849066497880004,2.833213344056216,0.0,1.0986122886681098,3.6109179126442243,3.1354942159291497,1.791759469228055,0.0,2.4849066497880004,2.0794415416798357,0.0,2.302585092994046,4.1588830833596715,4.77912349311153,1.0986122886681098,4.948759890378168,4.844187086458591,5.652489180268651,7.796057974316123,2.772588722239781,1.0986122886681098,6.059123195581797,2.70805020110221,0.0,4.584967478670572,2.6390573296152584,5.204006687076795,3.713572066704308,4.787491742782046,5.768320995793772,3.912023005428146,4.189654742026425,3.9512437185814275,2.302585092994046,3.4657359027997265,4.1588830833596715,3.332204510175204,4.6913478822291435,3.9318256327243257,2.3978952727983707,1.6094379124341003,4.143134726391533,2.5649493574615367,2.0794415416798357,2.833213344056216,1.6094379124341003,1.791759469228055,5.003946305945459,5.14166355650266,1.6094379124341003,5.537334267018537,2.0794415416798357,6.721425700790643,0.6931471805599453,4.663439094112067,0.6931471805599453,0.0,6.161207321695077,3.044522437723423,5.117993812416755,3.295836866004329,2.302585092994046,1.6094379124341003,6.395261598115449,0.6931471805599453,4.820281565605037,0.0,3.4657359027997265,0.0,3.9318256327243257,2.1972245773362196,5.634789603169249,1.0986122886681098,5.117993812416755,2.995732273553991,4.248495242049359,5.19295685089021,2.302585092994046,0.6931471805599453,0.6931471805599453,4.9344739331306915,2.0794415416798357,0.0,4.127134385045092,7.033506484287697,2.70805020110221,3.4011973816621555,6.748759547491679,5.308267697401205,1.3862943611198906,2.3978952727983707,0.0,3.6109179126442243,4.2626798770413155,0.6931471805599453,1.6094379124341003],\"xs\":[[0.47999576812990785,0.5177923472461055],[0.47999576812990785,0.6217130197292793],[0.47999576812990785,0.4196336777792606],[0.47999576812990785,0.35911579767361795],[0.47999576812990785,0.4752319800417531],[0.5140722111548357,0.5143127956427775],[0.5140722111548357,0.46841507694429896],[0.5140722111548357,0.5061829642300195],[0.5140722111548357,0.48027879947873636],[0.5140722111548357,0.6217130197292793],[0.5140722111548357,0.4752319800417531],[0.5140722111548357,0.5177923472461055],[0.5140722111548357,0.5023403870985594],[0.5140722111548357,0.5460393480282728],[0.5140722111548357,0.49294578842281483],[0.5140722111548357,0.48886935811156557],[0.5140722111548357,0.5425669924289566],[0.2938156309020985,0.4752319800417531],[0.8327877737648139,0.802319605844631],[0.6278012285565987,0.5177923472461055],[0.6278012285565987,0.5023403870985594],[0.6278012285565987,0.6250724062043042],[0.4650059962571705,0.5177923472461055],[0.4650059962571705,0.4752319800417531],[0.706028853295855,0.611718591251908],[0.5207815956280117,0.5143127956427775],[0.4811300054261307,0.5177923472461055],[0.5698439526776525,0.5177923472461055],[0.5323145689329126,0.5143127956427775],[0.5425669924289566,0.7983164068084954],[0.5425669924289566,0.5177923472461055],[0.5425669924289566,0.48027879947873636],[0.5425669924289566,0.4752319800417531],[0.5061829642300195,0.49204295883461646],[0.5061829642300195,0.5177923472461055],[0.5061829642300195,0.5143127956427775],[0.5061829642300195,0.4752319800417531],[0.5264786709359426,0.4950448689892511],[0.30894105381936876,0.5143127956427775],[0.48555478253659956,0.5177923472461055],[0.48555478253659956,0.5143127956427775],[0.48555478253659956,0.48027879947873636],[0.5825438731977943,0.5177923472461055],[0.8822853749819979,0.802319605844631],[0.8881797460618683,0.802319605844631],[0.5166276212305184,0.5177923472461055],[0.5105925751133514,0.5177923472461055],[0.5105925751133514,0.48886935811156557],[0.908540286692148,0.802319605844631],[0.5122465423637282,0.5143127956427775],[1.0,0.835809901254741],[1.0,0.802319605844631],[0.4752319800417531,0.49204295883461646],[0.4752319800417531,0.5373474616205871],[0.4752319800417531,0.48886935811156557],[0.4752319800417531,0.46841507694429896],[0.4752319800417531,0.03462523729564526],[0.4752319800417531,0.4950448689892511],[0.4752319800417531,0.11518501708771996],[0.4752319800417531,0.7222552940543421],[0.4752319800417531,0.5177923472461055],[0.4752319800417531,0.5307387361878577],[0.4752319800417531,0.5023403870985594],[0.4752319800417531,0.49294578842281483],[0.4752319800417531,0.4059207589189267],[0.4752319800417531,0.10698701185977737],[0.4752319800417531,0.42786847482067125],[0.4752319800417531,0.39374892387618626],[0.4752319800417531,0.5143127956427775],[0.4752319800417531,0.293644671455311],[0.4752319800417531,0.0],[0.4752319800417531,0.6250724062043042],[0.4752319800417531,0.505071347510326],[0.4752319800417531,0.050124948297863646],[0.3153504039527431,0.48027879947873636],[0.5373474616205871,0.5177923472461055],[0.5373474616205871,0.5143127956427775],[0.21591981114426964,0.5177923472461055],[0.48886935811156557,0.5177923472461055],[0.8458980589525148,0.802319605844631],[0.8225809504890172,0.8437867481617239],[0.8225809504890172,0.802319605844631],[0.39496928902196937,0.5177923472461055],[0.39496928902196937,0.5023403870985594],[0.5270717473651182,0.5177923472461055],[0.7222552940543421,0.5143127956427775],[0.7222552940543421,0.5023403870985594],[0.7222552940543421,0.802319605844631],[0.42483846143344683,0.5143127956427775],[0.6217130197292793,0.5177923472461055],[0.6217130197292793,0.5143127956427775],[0.6217130197292793,0.802319605844631],[0.5177923472461055,0.48027879947873636],[0.5177923472461055,0.4723004651378124],[0.5177923472461055,0.5530586703508671],[0.5177923472461055,0.4679934535885797],[0.5177923472461055,0.4196336777792606],[0.5177923472461055,0.5355566973443202],[0.5177923472461055,0.4950448689892511],[0.5177923472461055,0.5327142678145439],[0.5177923472461055,0.5204217161750596],[0.5177923472461055,0.4395070521867209],[0.5177923472461055,0.5023403870985594],[0.5177923472461055,0.4441419404268435],[0.5177923472461055,0.49204295883461646],[0.5177923472461055,0.4059207589189267],[0.5177923472461055,0.35911579767361795],[0.5177923472461055,0.611718591251908],[0.5177923472461055,0.39374892387618626],[0.5177923472461055,0.36700040880148693],[0.5177923472461055,0.5143127956427775],[0.5177923472461055,0.6250724062043042],[0.5177923472461055,0.27662888594626245],[0.5177923472461055,0.5460393480282728],[0.5177923472461055,0.3369916766337391],[0.5177923472461055,0.505071347510326],[0.5177923472461055,0.45609244912429103],[0.5023403870985594,0.5143127956427775],[0.5023403870985594,0.39374892387618626],[0.5023403870985594,0.293644671455311],[0.8202915436825626,0.802319605844631],[0.8212652786037284,0.8142664114086896],[0.8212652786037284,0.802319605844631],[0.42786847482067125,0.49294578842281483],[0.42786847482067125,0.5143127956427775],[0.40227753193419713,0.5143127956427775],[0.8238747424177342,0.802319605844631],[0.49204295883461646,0.3369916766337391],[0.49204295883461646,0.5143127956427775],[0.8982701960408073,0.8142664114086896],[0.8982701960408073,0.802319605844631],[0.46631027361865995,0.5143127956427775],[0.4679934535885797,0.5143127956427775],[0.4679934535885797,0.48027879947873636],[0.5355566973443202,0.5143127956427775],[0.7762258538699652,0.5307387361878577],[0.7762258538699652,0.802319605844631],[0.5204217161750596,0.5259556391734396],[0.49294578842281483,0.48027879947873636],[0.49294578842281483,0.5143127956427775],[0.49294578842281483,0.505071347510326],[0.4059207589189267,0.5143127956427775],[0.7983164068084954,0.8142664114086896],[0.7983164068084954,0.802319605844631],[0.6113022159017834,0.5143127956427775],[0.6113022159017834,0.802319605844631],[0.46841507694429896,0.5143127956427775],[0.8142664114086896,0.802319605844631],[0.4727012385920283,0.5143127956427775],[0.4924836891533504,0.5143127956427775],[0.835809901254741,0.802319605844631],[0.8437867481617239,0.802319605844631],[0.4874112157427618,0.5143127956427775],[0.505071347510326,0.5143127956427775],[0.505071347510326,0.35911579767361795],[0.9102791473767412,0.802319605844631],[0.802319605844631,0.6250724062043042],[0.35911579767361795,0.5143127956427775],[0.5143127956427775,0.6250724062043042]],\"ys\":[[0.5556061650933276,0.5473886352325529],[0.5556061650933276,0.4915673376142544],[0.5556061650933276,0.6891622168712834],[0.5556061650933276,0.48629051403379175],[0.5556061650933276,0.5221183515850284],[0.5121125202544898,0.44723084396393314],[0.5121125202544898,0.4639497405938353],[0.5121125202544898,0.5097977022142878],[0.5121125202544898,0.5340762361247375],[0.5121125202544898,0.4915673376142544],[0.5121125202544898,0.5221183515850284],[0.5121125202544898,0.5473886352325529],[0.5121125202544898,0.4637946428894676],[0.5121125202544898,0.5609966684398613],[0.5121125202544898,0.4822088279444564],[0.5121125202544898,0.5744747139629633],[0.5121125202544898,0.5365123029386967],[0.9654845362924593,0.5221183515850284],[0.41425974070540117,0.43742167595410475],[0.5777264748433754,0.5473886352325529],[0.5777264748433754,0.4637946428894676],[0.5777264748433754,0.506005240908488],[0.5777140451127065,0.5473886352325529],[0.5777140451127065,0.5221183515850284],[0.8753175676200758,0.7049393621531737],[0.28909228235809137,0.44723084396393314],[0.6860145399071447,0.5473886352325529],[0.6826635150579478,0.5473886352325529],[0.3656423429640016,0.44723084396393314],[0.5365123029386967,0.4769658574428663],[0.5365123029386967,0.5473886352325529],[0.5365123029386967,0.5340762361247375],[0.5365123029386967,0.5221183515850284],[0.5097977022142878,0.4910124078742],[0.5097977022142878,0.5473886352325529],[0.5097977022142878,0.44723084396393314],[0.5097977022142878,0.5221183515850284],[0.9613505022995973,0.6160684665725665],[0.03697452496008134,0.44723084396393314],[0.4147883486395101,0.5473886352325529],[0.4147883486395101,0.44723084396393314],[0.4147883486395101,0.5340762361247375],[0.6078996628481769,0.5473886352325529],[0.3997116824596853,0.43742167595410475],[0.42547100179600483,0.43742167595410475],[0.5857638265917963,0.5473886352325529],[0.5643530278081866,0.5473886352325529],[0.5643530278081866,0.5744747139629633],[0.436264691650452,0.43742167595410475],[0.42434101810864144,0.44723084396393314],[0.3867007494613635,0.4280110444070374],[0.3867007494613635,0.43742167595410475],[0.5221183515850284,0.4910124078742],[0.5221183515850284,0.4813274609178589],[0.5221183515850284,0.5744747139629633],[0.5221183515850284,0.4639497405938353],[0.5221183515850284,0.692174128791836],[0.5221183515850284,0.6160684665725665],[0.5221183515850284,0.5074793049430094],[0.5221183515850284,0.4353761921891065],[0.5221183515850284,0.5473886352325529],[0.5221183515850284,0.40883368049309293],[0.5221183515850284,0.4637946428894676],[0.5221183515850284,0.4822088279444564],[0.5221183515850284,0.49953361923582457],[0.5221183515850284,0.8176507094410466],[0.5221183515850284,0.41538447365393355],[0.5221183515850284,0.5314690726809402],[0.5221183515850284,0.44723084396393314],[0.5221183515850284,0.4319554049091263],[0.5221183515850284,0.5531277458577718],[0.5221183515850284,0.506005240908488],[0.5221183515850284,0.5373322041310623],[0.5221183515850284,0.3453770296615807],[0.6131547616818875,0.5340762361247375],[0.4813274609178589,0.5473886352325529],[0.4813274609178589,0.44723084396393314],[0.5597371284585643,0.5473886352325529],[0.5744747139629633,0.5473886352325529],[0.39632427641604007,0.43742167595410475],[0.43451111398793774,0.4440772935483698],[0.43451111398793774,0.43742167595410475],[0.5946316546398845,0.5473886352325529],[0.5946316546398845,0.4637946428894676],[0.5698380052025048,0.5473886352325529],[0.4353761921891065,0.44723084396393314],[0.4353761921891065,0.4637946428894676],[0.4353761921891065,0.43742167595410475],[0.3300888628349634,0.44723084396393314],[0.4915673376142544,0.5473886352325529],[0.4915673376142544,0.44723084396393314],[0.4915673376142544,0.43742167595410475],[0.5473886352325529,0.5340762361247375],[0.5473886352325529,0.6223661417434364],[0.5473886352325529,0.6070029890534453],[0.5473886352325529,0.4880832257420589],[0.5473886352325529,0.6891622168712834],[0.5473886352325529,0.45611584540360606],[0.5473886352325529,0.6160684665725665],[0.5473886352325529,0.6599772881464823],[0.5473886352325529,0.6275896048039897],[0.5473886352325529,0.5911128618054495],[0.5473886352325529,0.4637946428894676],[0.5473886352325529,0.781325420097677],[0.5473886352325529,0.4910124078742],[0.5473886352325529,0.49953361923582457],[0.5473886352325529,0.48629051403379175],[0.5473886352325529,0.7049393621531737],[0.5473886352325529,0.5314690726809402],[0.5473886352325529,0.7232118203084638],[0.5473886352325529,0.44723084396393314],[0.5473886352325529,0.506005240908488],[0.5473886352325529,0.6377047745053255],[0.5473886352325529,0.5609966684398613],[0.5473886352325529,0.5608529209831041],[0.5473886352325529,0.5373322041310623],[0.5473886352325529,0.8962460702304228],[0.4637946428894676,0.44723084396393314],[0.4637946428894676,0.5314690726809402],[0.4637946428894676,0.4319554049091263],[0.459182694337696,0.43742167595410475],[0.3939230868038853,0.42306618938809665],[0.3939230868038853,0.43742167595410475],[0.41538447365393355,0.4822088279444564],[0.41538447365393355,0.44723084396393314],[0.2425653231184136,0.44723084396393314],[0.44775660533329265,0.43742167595410475],[0.4910124078742,0.5608529209831041],[0.4910124078742,0.44723084396393314],[0.3681424827978823,0.42306618938809665],[0.3681424827978823,0.43742167595410475],[0.0,0.44723084396393314],[0.4880832257420589,0.44723084396393314],[0.4880832257420589,0.5340762361247375],[0.45611584540360606,0.44723084396393314],[0.410997108861546,0.40883368049309293],[0.410997108861546,0.43742167595410475],[0.6275896048039897,0.7600561845594607],[0.4822088279444564,0.5340762361247375],[0.4822088279444564,0.44723084396393314],[0.4822088279444564,0.5373322041310623],[0.49953361923582457,0.44723084396393314],[0.4769658574428663,0.42306618938809665],[0.4769658574428663,0.43742167595410475],[0.2976677238076446,0.44723084396393314],[0.2976677238076446,0.43742167595410475],[0.4639497405938353,0.44723084396393314],[0.42306618938809665,0.43742167595410475],[0.31120120312660104,0.44723084396393314],[0.35068451471099515,0.44723084396393314],[0.4280110444070374,0.43742167595410475],[0.4440772935483698,0.43742167595410475],[0.19342806814819563,0.44723084396393314],[0.5373322041310623,0.44723084396393314],[0.5373322041310623,0.48629051403379175],[0.46413352201144475,0.43742167595410475],[0.43742167595410475,0.506005240908488],[0.48629051403379175,0.44723084396393314],[0.44723084396393314,0.506005240908488]]}},\"id\":\"c522869b-e438-43d8-96b5-28c6fc2f0d74\",\"type\":\"ColumnDataSource\"},{\"attributes\":{\"plot\":{\"id\":\"404e8e30-8435-441f-a42d-c19a4dfb32a9\",\"subtype\":\"Figure\",\"type\":\"Plot\"}},\"id\":\"913925df-99dc-46bb-9764-eac40dd791fc\",\"type\":\"SaveTool\"},{\"attributes\":{\"plot\":null,\"text\":null},\"id\":\"8b0cce31-8d7d-480f-93a6-197fa948c04d\",\"type\":\"Title\"},{\"attributes\":{\"callback\":null,\"plot\":{\"id\":\"404e8e30-8435-441f-a42d-c19a4dfb32a9\",\"subtype\":\"Figure\",\"type\":\"Plot\"}},\"id\":\"a496ba6c-ccc8-4e9d-a277-84e038ae2559\",\"type\":\"TapTool\"},{\"attributes\":{\"fill_alpha\":{\"value\":0.1},\"fill_color\":{\"value\":\"#1f77b4\"},\"line_alpha\":{\"value\":0.1},\"line_color\":{\"value\":\"#1f77b4\"},\"size\":{\"field\":\"size\",\"units\":\"screen\"},\"x\":{\"field\":\"x\"},\"y\":{\"field\":\"y\"}},\"id\":\"61cc31fa-8766-4c33-aa64-b1a6057869bf\",\"type\":\"Circle\"},{\"attributes\":{\"dimension\":1,\"plot\":{\"id\":\"404e8e30-8435-441f-a42d-c19a4dfb32a9\",\"subtype\":\"Figure\",\"type\":\"Plot\"},\"ticker\":{\"id\":\"f13a6d31-17cd-4611-9cf7-0930353bf265\",\"type\":\"BasicTicker\"}},\"id\":\"2e0cc217-9477-4c03-962c-6c38cee285d6\",\"type\":\"Grid\"},{\"attributes\":{\"below\":[{\"id\":\"33b24657-865d-4932-bf24-ae59c2450255\",\"type\":\"LinearAxis\"}],\"left\":[{\"id\":\"b1ff11ec-1888-4778-a1f6-65e39341f4a8\",\"type\":\"LinearAxis\"}],\"plot_width\":800,\"renderers\":[{\"id\":\"33b24657-865d-4932-bf24-ae59c2450255\",\"type\":\"LinearAxis\"},{\"id\":\"b50482d1-d64a-4617-b919-f4448ce396d7\",\"type\":\"Grid\"},{\"id\":\"b1ff11ec-1888-4778-a1f6-65e39341f4a8\",\"type\":\"LinearAxis\"},{\"id\":\"2e0cc217-9477-4c03-962c-6c38cee285d6\",\"type\":\"Grid\"},{\"id\":\"4af65e8c-8483-4322-86a0-1c1cca881495\",\"type\":\"BoxAnnotation\"},{\"id\":\"5e46e7e3-c6bf-4f4d-be9b-fc832e64495f\",\"type\":\"GlyphRenderer\"},{\"id\":\"ea887692-0957-4693-8de9-19a90e36d322\",\"type\":\"GlyphRenderer\"}],\"title\":{\"id\":\"8b0cce31-8d7d-480f-93a6-197fa948c04d\",\"type\":\"Title\"},\"tool_events\":{\"id\":\"e8773f22-65c8-4009-9132-711e719eae19\",\"type\":\"ToolEvents\"},\"toolbar\":{\"id\":\"3532a7ca-8904-4835-862a-1d95f3c713b0\",\"type\":\"Toolbar\"},\"x_range\":{\"id\":\"6cac00c1-f468-4572-9bbb-ae7bd296346a\",\"type\":\"DataRange1d\"},\"y_range\":{\"id\":\"e9361987-c7d8-4906-9d28-5c870006fabd\",\"type\":\"DataRange1d\"}},\"id\":\"404e8e30-8435-441f-a42d-c19a4dfb32a9\",\"subtype\":\"Figure\",\"type\":\"Plot\"},{\"attributes\":{\"plot\":{\"id\":\"404e8e30-8435-441f-a42d-c19a4dfb32a9\",\"subtype\":\"Figure\",\"type\":\"Plot\"}},\"id\":\"b63ba175-21ae-4184-a2d3-88ef88372747\",\"type\":\"ResetTool\"},{\"attributes\":{},\"id\":\"f13a6d31-17cd-4611-9cf7-0930353bf265\",\"type\":\"BasicTicker\"},{\"attributes\":{\"plot\":{\"id\":\"404e8e30-8435-441f-a42d-c19a4dfb32a9\",\"subtype\":\"Figure\",\"type\":\"Plot\"}},\"id\":\"c22aa0d8-1b77-4266-804c-bd84ef5acbae\",\"type\":\"WheelZoomTool\"},{\"attributes\":{\"plot\":{\"id\":\"404e8e30-8435-441f-a42d-c19a4dfb32a9\",\"subtype\":\"Figure\",\"type\":\"Plot\"},\"ticker\":{\"id\":\"a500cc53-01cc-4e57-a6b7-8415817304dc\",\"type\":\"BasicTicker\"}},\"id\":\"b50482d1-d64a-4617-b919-f4448ce396d7\",\"type\":\"Grid\"},{\"attributes\":{\"callback\":null,\"column_names\":[\"largestpartner\",\"color\",\"country\",\"military_expenditure\",\"cluster\",\"totaltrade\",\"alpha\",\"y\",\"x\",\"size\"],\"data\":{\"alpha\":[0.6,0.6,0.2,0.6,0.2,0.6,0.2,0.6,0.2,0.6,0.2,0.6,0.6,0.2,0.2,0.6,0.6,0.2,0.2,0.6,0.6,0.2,0.6,0.2,0.6,0.2,0.6,0.2,0.6,0.2,0.2,0.2,0.6,0.2,0.6,0.2,0.2,0.6,0.6,0.2,0.2,0.2,0.6,0.6,0.6,0.2,0.2,0.6,0.2,0.6,0.6,0.6,0.6,0.6,0.6,0.6,0.2,0.6,0.6,0.6,0.6,0.6,0.6,0.2,0.2,0.6,0.2,0.6,0.6,0.6,0.6,0.2,0.6,0.2,0.2,0.2,0.2,0.2,0.6,0.6,0.2,0.2,0.6,0.6,0.2,0.6,0.2,0.2,0.6,0.6],\"cluster\":[0,0,0,1,0,0,0,2,0,0,2,0,0,0,2,2,0,1,1,0,0,1,2,1,0,0,2,0,0,1,0,1,0,0,1,2,0,0,2,1,1,0,0,2,0,1,0,2,1,2,0,2,0,2,0,0,0,1,0,0,0,0,0,0,1,0,0,0,2,0,2,0,1,2,2,1,0,1,2,0,1,1,0,0,0,2,0,0,0,0],\"color\":[\"rgb(91,147,204)\",\"rgb(91,147,204)\",\"rgb(91,147,204)\",\"rgb(255,46,43)\",\"rgb(91,147,204)\",\"rgb(91,147,204)\",\"rgb(91,147,204)\",\"rgb(145,58,31)\",\"rgb(91,147,204)\",\"rgb(91,147,204)\",\"rgb(145,58,31)\",\"rgb(91,147,204)\",\"rgb(91,147,204)\",\"rgb(91,147,204)\",\"rgb(145,58,31)\",\"rgb(145,58,31)\",\"rgb(91,147,204)\",\"rgb(255,46,43)\",\"rgb(255,46,43)\",\"rgb(91,147,204)\",\"rgb(91,147,204)\",\"rgb(255,46,43)\",\"rgb(145,58,31)\",\"rgb(255,46,43)\",\"rgb(91,147,204)\",\"rgb(91,147,204)\",\"rgb(145,58,31)\",\"rgb(91,147,204)\",\"rgb(91,147,204)\",\"rgb(255,46,43)\",\"rgb(91,147,204)\",\"rgb(255,46,43)\",\"rgb(91,147,204)\",\"rgb(91,147,204)\",\"rgb(255,46,43)\",\"rgb(145,58,31)\",\"rgb(91,147,204)\",\"rgb(91,147,204)\",\"rgb(145,58,31)\",\"rgb(255,46,43)\",\"rgb(255,46,43)\",\"rgb(91,147,204)\",\"rgb(91,147,204)\",\"rgb(145,58,31)\",\"rgb(91,147,204)\",\"rgb(255,46,43)\",\"rgb(91,147,204)\",\"rgb(145,58,31)\",\"rgb(255,46,43)\",\"rgb(145,58,31)\",\"rgb(91,147,204)\",\"rgb(145,58,31)\",\"rgb(91,147,204)\",\"rgb(145,58,31)\",\"rgb(91,147,204)\",\"rgb(91,147,204)\",\"rgb(91,147,204)\",\"rgb(255,46,43)\",\"rgb(91,147,204)\",\"rgb(91,147,204)\",\"rgb(91,147,204)\",\"rgb(91,147,204)\",\"rgb(91,147,204)\",\"rgb(91,147,204)\",\"rgb(255,46,43)\",\"rgb(91,147,204)\",\"rgb(91,147,204)\",\"rgb(91,147,204)\",\"rgb(145,58,31)\",\"rgb(91,147,204)\",\"rgb(145,58,31)\",\"rgb(91,147,204)\",\"rgb(255,46,43)\",\"rgb(145,58,31)\",\"rgb(145,58,31)\",\"rgb(255,46,43)\",\"rgb(91,147,204)\",\"rgb(255,46,43)\",\"rgb(145,58,31)\",\"rgb(91,147,204)\",\"rgb(255,46,43)\",\"rgb(255,46,43)\",\"rgb(91,147,204)\",\"rgb(91,147,204)\",\"rgb(91,147,204)\",\"rgb(145,58,31)\",\"rgb(91,147,204)\",\"rgb(91,147,204)\",\"rgb(91,147,204)\",\"rgb(91,147,204)\"],\"country\":[\"Canada\",\"Germany (FRG)\",\"Cambodia\",\"East Germany (GDR)\",\"Ethiopia\",\"Argentina\",\"Bolivia\",\"Ghana\",\"Saudi Arabia\",\"Guatemala\",\"Kuwait\",\"Spain\",\"Netherlands\",\"DR Congo\",\"Oman\",\"New Zealand\",\"Pakistan\",\"Albania\",\"Viet Nam\",\"South Korea\",\"Turkey\",\"Afghanistan\",\"India\",\"Mongolia\",\"France\",\"Somalia\",\"Peru\",\"Laos\",\"Norway\",\"Cuba\",\"Togo\",\"China\",\"Dominican Republic\",\"Taiwan (ROC)\",\"Finland\",\"Libya\",\"Indonesia\",\"United States\",\"Sweden\",\"Bulgaria\",\"Romania\",\"Chad\",\"South Africa\",\"Malaysia\",\"Austria\",\"Hungary\",\"Niger\",\"Brazil\",\"Guinea\",\"Ireland\",\"Ecuador\",\"Australia\",\"Iran\",\"Chile\",\"Belgium\",\"Thailand\",\"Haiti\",\"Iraq\",\"Denmark\",\"Philippines\",\"Morocco\",\"Switzerland\",\"Portugal\",\"Uruguay\",\"Egypt\",\"Colombia\",\"Nicaragua\",\"Italy\",\"Sudan\",\"Venezuela\",\"Israel\",\"Iceland\",\"Czechoslovakia\",\"Zimbabwe\",\"Jordan\",\"Poland\",\"Mauritania\",\"North Korea\",\"Sri Lanka\",\"Japan\",\"Syria\",\"Soviet Union\",\"Myanmar\",\"Mexico\",\"Tunisia\",\"United Kingdom\",\"Congo\",\"Yugoslavia\",\"Greece\",\"Paraguay\"],\"largestpartner\":[\"United States\",\"United States\",\"France\",\"Soviet Union\",\"United States\",\"United States\",\"Uruguay\",\"United Kingdom\",\"United States\",\"United States\",\"United Kingdom\",\"United States\",\"United States\",\"Belgium\",\"United Kingdom\",\"United Kingdom\",\"United States\",\"Soviet Union\",\"Soviet Union\",\"United States\",\"United States\",\"Soviet Union\",\"United Kingdom\",\"Soviet Union\",\"Germany (FRG)\",\"Italy\",\"United Kingdom\",\"United States\",\"United States\",\"Soviet Union\",\"France\",\"Soviet Union\",\"United States\",\"United States\",\"Soviet Union\",\"United Kingdom\",\"United States\",\"Germany (FRG)\",\"United Kingdom\",\"Soviet Union\",\"Soviet Union\",\"France\",\"Switzerland\",\"United Kingdom\",\"France\",\"Soviet Union\",\"France\",\"United Kingdom\",\"Soviet Union\",\"United Kingdom\",\"United States\",\"United States\",\"United States\",\"United Kingdom\",\"United States\",\"United States\",\"United States\",\"Soviet Union\",\"United States\",\"United States\",\"France\",\"Germany (FRG)\",\"France\",\"United States\",\"Soviet Union\",\"United States\",\"United States\",\"United States\",\"United Kingdom\",\"United States\",\"United Kingdom\",\"Denmark\",\"Soviet Union\",\"United Kingdom\",\"United Kingdom\",\"Soviet Union\",\"France\",\"China\",\"United Kingdom\",\"United States\",\"Soviet Union\",\"China\",\"United States\",\"United States\",\"France\",\"India\",\"France\",\"United States\",\"United States\",\"United States\"],\"military_expenditure\":[\"6639.6\",\"19588.5\",\"nan\",\"357.5\",\"nan\",\"616.4\",\"nan\",\"42.7\",\"nan\",\"58.5\",\"nan\",\"2329.4\",\"3785.7\",\"nan\",\"nan\",\"713.6\",\"374.5\",\"nan\",\"xxx\",\"455.0\",\"1161.7\",\"nan\",\"1592.9\",\"nan\",\"21772.4\",\"nan\",\"726.8\",\"nan\",\"1095.7\",\"nan\",\"nan\",\"nan\",\"129.7\",\"nan\",\"486.7\",\"nan\",\"nan\",\"200412.8\",\"2467.7\",\"nan\",\"nan\",\"nan\",\"187.8\",\"137.4\",\"781.4\",\"nan\",\"nan\",\"1300.8\",\"nan\",\"177.2\",\"72.5\",\"2824.8\",\"287.1\",\"138.5\",\"2416.1\",\"246.7\",\"nan\",\"172.9\",\"1416.1\",\"318.2\",\"145.4\",\"2179.4\",\"930.3\",\"nan\",\"nan\",\"271.8\",\"nan\",\"6959.3\",\"146.4\",\"1304.8\",\"634.5\",\"nan\",\"1545.7\",\"xxx\",\"nan\",\"nan\",\"nan\",\"nan\",\"28.6\",\"4959.7\",\"nan\",\"nan\",\"251.8\",\"393.2\",\"nan\",\"25561.3\",\"nan\",\"nan\",\"1005.5\",\"31.8\"],\"size\":[7.040645599753652,7.906158350662858,0.0,4.70330828970725,3.2188758248682006,5.139116882756769,1.791759469228055,3.0033591361876635,2.833213344056216,3.255221403390249,3.784189633918261,6.202692802134841,6.59118887146158,0.6931471805599453,0.0,5.2562580650126405,4.740473442365819,4.127134385045092,4.1588830833596715,4.896237935160761,5.646111782815543,3.6888794541139363,5.898649226640474,2.302585092994046,7.99071871328522,2.302585092994046,5.270921069217613,1.0986122886681098,5.599318965929079,4.844187086458591,0.0,7.906915488678587,3.8921792730579186,6.059123195581797,4.9501183334715275,2.6390573296152584,6.095824562432225,9.766507614726873,6.248833457376831,6.161207321695077,5.236441962829949,0.0,4.1883020534193305,3.938317103830599,5.328869746096776,6.395261598115449,0.0,5.736587791034837,3.4965075614664802,4.141823230536785,3.426869249488503,6.356954275691342,4.527864469701615,3.9446962605019147,6.231927959141288,4.406538418828249,1.6094379124341003,4.122170714151396,5.804529514583211,4.610144092722949,3.9835908520795353,6.149443910834229,5.468405691819611,3.1354942159291497,4.962844630259907,4.484053201373635,0.6931471805599453,7.078267338846278,3.9890740812217693,5.739044041045443,5.162269829723554,2.995732273553991,5.874585728926618,2.70805020110221,3.4011973816621555,6.754604099487962,0.6931471805599453,6.18826412308259,2.6827253742606456,6.8072804272150265,3.6109179126442243,8.875426919818963,4.422908097288198,4.779454710618409,3.784189633918261,8.119067814334386,0.0,5.579729825986222,5.530592167370166,2.767573031828905],\"totaltrade\":[214.0,2165.0,1.0,331.0,25.0,103.0,6.0,12.0,17.0,16.0,44.0,233.0,331.0,2.0,1.0,119.0,42.0,62.0,64.0,255.0,592.0,40.0,544.0,10.0,1316.0,10.0,187.0,3.0,181.0,127.0,1.0,2716.0,19.0,428.0,115.0,14.0,444.0,6085.0,159.0,474.0,188.0,1.0,40.0,5.0,7.0,599.0,1.0,239.0,33.0,1.0,66.0,112.0,11.0,312.0,94.0,28.0,5.0,170.0,129.0,51.0,23.0,661.0,32.0,23.0,143.0,5.0,2.0,494.0,9.0,50.0,147.0,20.0,1158.0,15.0,30.0,858.0,2.0,487.0,4.0,860.0,37.0,7154.0,13.0,6.0,44.0,2151.0,1.0,265.0,264.0,10.0],\"x\":[0.47999576812990785,0.5140722111548357,0.2938156309020985,0.8327877737648139,0.6278012285565987,0.4650059962571705,0.706028853295855,0.5207815956280117,0.4811300054261307,0.5698439526776525,0.5323145689329126,0.5425669924289566,0.5061829642300195,0.5264786709359426,0.30894105381936876,0.48555478253659956,0.5825438731977943,0.8822853749819979,0.8881797460618683,0.5166276212305184,0.5105925751133514,0.908540286692148,0.5122465423637282,1.0,0.4752319800417531,0.3153504039527431,0.5373474616205871,0.21591981114426964,0.48886935811156557,0.8458980589525148,0.03462523729564526,0.8225809504890172,0.39496928902196937,0.5270717473651182,0.7222552940543421,0.42483846143344683,0.6217130197292793,0.5177923472461055,0.5023403870985594,0.8202915436825626,0.8212652786037284,0.10698701185977737,0.42786847482067125,0.40227753193419713,0.293644671455311,0.8238747424177342,0.050124948297863646,0.49204295883461646,0.8982701960408073,0.46631027361865995,0.5530586703508671,0.4679934535885797,0.4196336777792606,0.5355566973443202,0.4950448689892511,0.5327142678145439,0.4441419404268435,0.7762258538699652,0.5204217161750596,0.4395070521867209,0.5307387361878577,0.49294578842281483,0.4059207589189267,0.611718591251908,0.7983164068084954,0.27662888594626245,0.45609244912429103,0.48027879947873636,0.6113022159017834,0.4723004651378124,0.46841507694429896,0.5259556391734396,0.8142664114086896,0.4727012385920283,0.4924836891533504,0.835809901254741,0.11518501708771996,0.8437867481617239,0.4874112157427618,0.505071347510326,0.9102791473767412,0.802319605844631,0.35911579767361795,0.36700040880148693,0.39374892387618626,0.5143127956427775,0.0,0.6250724062043042,0.5460393480282728,0.3369916766337391],\"y\":[0.5556061650933276,0.5121125202544898,0.9654845362924593,0.41425974070540117,0.5777264748433754,0.5777140451127065,0.8753175676200758,0.28909228235809137,0.6860145399071447,0.6826635150579478,0.3656423429640016,0.5365123029386967,0.5097977022142878,0.9613505022995973,0.03697452496008134,0.4147883486395101,0.6078996628481769,0.3997116824596853,0.42547100179600483,0.5857638265917963,0.5643530278081866,0.436264691650452,0.42434101810864144,0.3867007494613635,0.5221183515850284,0.6131547616818875,0.4813274609178589,0.5597371284585643,0.5744747139629633,0.39632427641604007,0.692174128791836,0.43451111398793774,0.5946316546398845,0.5698380052025048,0.4353761921891065,0.3300888628349634,0.4915673376142544,0.5473886352325529,0.4637946428894676,0.459182694337696,0.3939230868038853,0.8176507094410466,0.41538447365393355,0.2425653231184136,0.4319554049091263,0.44775660533329265,0.3453770296615807,0.4910124078742,0.3681424827978823,0.0,0.6070029890534453,0.4880832257420589,0.6891622168712834,0.45611584540360606,0.6160684665725665,0.6599772881464823,0.781325420097677,0.410997108861546,0.6275896048039897,0.5911128618054495,0.40883368049309293,0.4822088279444564,0.49953361923582457,0.7049393621531737,0.4769658574428663,0.6377047745053255,0.8962460702304228,0.5340762361247375,0.2976677238076446,0.6223661417434364,0.4639497405938353,0.7600561845594607,0.42306618938809665,0.31120120312660104,0.35068451471099515,0.4280110444070374,0.5074793049430094,0.4440772935483698,0.19342806814819563,0.5373322041310623,0.46413352201144475,0.43742167595410475,0.48629051403379175,0.7232118203084638,0.5314690726809402,0.44723084396393314,0.5531277458577718,0.506005240908488,0.5609966684398613,0.5608529209831041]}},\"id\":\"3f300a6c-de77-4a61-9897-611a4902262d\",\"type\":\"ColumnDataSource\"},{\"attributes\":{\"overlay\":{\"id\":\"4af65e8c-8483-4322-86a0-1c1cca881495\",\"type\":\"BoxAnnotation\"},\"plot\":{\"id\":\"404e8e30-8435-441f-a42d-c19a4dfb32a9\",\"subtype\":\"Figure\",\"type\":\"Plot\"}},\"id\":\"6ce99bff-33eb-48bd-a3bc-400176302a0c\",\"type\":\"BoxZoomTool\"},{\"attributes\":{\"callback\":null,\"plot\":{\"id\":\"404e8e30-8435-441f-a42d-c19a4dfb32a9\",\"subtype\":\"Figure\",\"type\":\"Plot\"},\"tooltips\":[[\"country\",\"@country\"],[\"cluster\",\"@cluster\"],[\"military expenditure\",\"@military_expenditure\"],[\"largest tradepartner\",\"@largestpartner\"]]},\"id\":\"cc098f98-ba7d-41f2-8971-942b845db3cb\",\"type\":\"HoverTool\"},{\"attributes\":{\"formatter\":{\"id\":\"f529f55a-200b-4852-9d69-ee325f2156e6\",\"type\":\"BasicTickFormatter\"},\"plot\":{\"id\":\"404e8e30-8435-441f-a42d-c19a4dfb32a9\",\"subtype\":\"Figure\",\"type\":\"Plot\"},\"ticker\":{\"id\":\"f13a6d31-17cd-4611-9cf7-0930353bf265\",\"type\":\"BasicTicker\"}},\"id\":\"b1ff11ec-1888-4778-a1f6-65e39341f4a8\",\"type\":\"LinearAxis\"}],\"root_ids\":[\"404e8e30-8435-441f-a42d-c19a4dfb32a9\"]},\"title\":\"Bokeh Application\",\"version\":\"0.12.0\"}};\n",
       "            var render_items = [{\"docid\":\"b56224f7-7483-43f6-843c-34b5a5d183c3\",\"elementid\":\"5a7f7fb3-0b48-49b8-8ba8-88dd3790ee15\",\"modelid\":\"404e8e30-8435-441f-a42d-c19a4dfb32a9\",\"notebook_comms_target\":\"f9f67abd-5a69-4a87-831f-fffed8781685\"}];\n",
       "            \n",
       "            Bokeh.embed.embed_items(docs_json, render_items);\n",
       "        });\n",
       "      },\n",
       "      function(Bokeh) {\n",
       "      }\n",
       "    ];\n",
       "  \n",
       "    function run_inline_js() {\n",
       "      for (var i = 0; i < inline_js.length; i++) {\n",
       "        inline_js[i](window.Bokeh);\n",
       "      }\n",
       "    }\n",
       "  \n",
       "    if (window._bokeh_is_loading === 0) {\n",
       "      console.log(\"Bokeh: BokehJS loaded, going straight to plotting\");\n",
       "      run_inline_js();\n",
       "    } else {\n",
       "      load_libs(js_urls, function() {\n",
       "        console.log(\"Bokeh: BokehJS plotting callback run at\", now());\n",
       "        run_inline_js();\n",
       "      });\n",
       "    }\n",
       "  }(this));\n",
       "</script>"
      ]
     },
     "metadata": {},
     "output_type": "display_data"
    },
    {
     "data": {
      "text/html": [
       "<p><code>&lt;Bokeh Notebook handle for <strong>In[53]</strong>&gt;</code></p>"
      ],
      "text/plain": [
       "<bokeh.io._CommsHandle at 0x11cee6fd0>"
      ]
     },
     "execution_count": 53,
     "metadata": {},
     "output_type": "execute_result"
    }
   ],
   "source": [
    "show(plot)"
   ]
  },
  {
   "cell_type": "code",
   "execution_count": 54,
   "metadata": {
    "collapsed": true
   },
   "outputs": [],
   "source": [
    "# analyze weapon trade before/during/after conflict\n",
    "# weapon flow democratic vs republican leadership #germany\n"
   ]
  },
  {
   "cell_type": "markdown",
   "metadata": {},
   "source": [
    "Deployment Scenario"
   ]
  },
  {
   "cell_type": "code",
   "execution_count": 64,
   "metadata": {
    "collapsed": false
   },
   "outputs": [],
   "source": [
    "def AllGraphs(countrydict, militaryexpdict):\n",
    "    AllGraphsDict = dict()\n",
    "    for year in countrydict:\n",
    "        G = createYearGraph(countrydict, year, militaryexpdict)\n",
    "        layout = nx.spring_layout(G)\n",
    "        \n",
    "        AllGraphsDict[year] = [G,layout]\n",
    "        \n",
    "    return AllGraphsDict\n",
    "\n",
    "AllGraphs = AllGraphs(AddedUpDict, militaryexpdict)\n",
    "nodes = dict()\n",
    "edges = dict()\n",
    "for year in AddedUpDict:\n",
    "    nodes[year] = ColumnDataSource(get_nodes_specs(AllGraphs[year][0],AllGraphs[year][1]))\n",
    "    edges[year] = ColumnDataSource(get_edges_specs(AllGraphs[year][0],AllGraphs[year][1]))\n",
    "    \n",
    "    \n",
    "    \n",
    "\n"
   ]
  },
  {
   "cell_type": "code",
   "execution_count": null,
   "metadata": {
    "collapsed": false
   },
   "outputs": [],
   "source": []
  },
  {
   "cell_type": "code",
   "execution_count": 65,
   "metadata": {
    "collapsed": false
   },
   "outputs": [],
   "source": [
    "year = '1990'\n",
    "nodes_source = nodes[year]\n",
    "edges_source = edges[year]"
   ]
  },
  {
   "cell_type": "code",
   "execution_count": 70,
   "metadata": {
    "collapsed": false
   },
   "outputs": [],
   "source": [
    "#setup plot\n",
    "hover = HoverTool(tooltips=[('country','@country'),\n",
    "                            ('cluster','@cluster'),\n",
    "                            ('military expenditure','@military_expenditure'),\n",
    "                            ('largest tradepartner', '@largestpartner'),\n",
    "                            #('imports from', '@import'),\n",
    "                            #('exports from', '@export')\n",
    "                           ])\n",
    "\n",
    "plot = figure(plot_width=500, plot_height=500, tools=['pan','tap',hover,'box_zoom','reset','wheel_zoom','save'])\n",
    "    \n",
    "r_circles = plot.circle('x','y', source=nodes_source, size='size', color='color', level='overlay',alpha='alpha')\n",
    "r_lines = plot.multi_line('xs', 'ys', source=edges_source, line_width='width', alpha='alphas', color='navy')\n",
    "\n"
   ]
  },
  {
   "cell_type": "code",
   "execution_count": null,
   "metadata": {
    "collapsed": true
   },
   "outputs": [],
   "source": [
    "#widgets"
   ]
  },
  {
   "cell_type": "code",
   "execution_count": 72,
   "metadata": {
    "collapsed": false
   },
   "outputs": [],
   "source": [
    "from bokeh.models.widgets import Slider\n",
    "year = Slider(title=\"year\", value=1950, start=1950, end=2015, step = 1)\n"
   ]
  },
  {
   "cell_type": "code",
   "execution_count": 74,
   "metadata": {
    "collapsed": false
   },
   "outputs": [],
   "source": [
    "#callbacks\n",
    "def update_data(attrname, old, new):\n",
    "\n",
    "    # Get the current slider values\n",
    "    year = str(year.value)\n",
    "\n",
    "    nodes_source = nodes[year]\n",
    "    edges_source = edges[year]\n",
    "\n",
    "year.on_change('value', update_data)"
   ]
  },
  {
   "cell_type": "code",
   "execution_count": 88,
   "metadata": {
    "collapsed": false
   },
   "outputs": [
    {
     "data": {
      "text/html": [
       "\n",
       "    <div class=\"bk-root\">\n",
       "        <a href=\"http://bokeh.pydata.org\" target=\"_blank\" class=\"bk-logo bk-logo-small bk-logo-notebook\"></a>\n",
       "        <span id=\"72e40862-9105-44ff-af2d-bcc80bfb256d\">Loading BokehJS ...</span>\n",
       "    </div>"
      ]
     },
     "metadata": {},
     "output_type": "display_data"
    },
    {
     "data": {
      "application/javascript": [
       "\n",
       "(function(global) {\n",
       "  function now() {\n",
       "    return new Date();\n",
       "  }\n",
       "\n",
       "  if (typeof (window._bokeh_onload_callbacks) === \"undefined\") {\n",
       "    window._bokeh_onload_callbacks = [];\n",
       "  }\n",
       "\n",
       "  function run_callbacks() {\n",
       "    window._bokeh_onload_callbacks.forEach(function(callback) { callback() });\n",
       "    delete window._bokeh_onload_callbacks\n",
       "    console.info(\"Bokeh: all callbacks have finished\");\n",
       "  }\n",
       "\n",
       "  function load_libs(js_urls, callback) {\n",
       "    window._bokeh_onload_callbacks.push(callback);\n",
       "    if (window._bokeh_is_loading > 0) {\n",
       "      console.log(\"Bokeh: BokehJS is being loaded, scheduling callback at\", now());\n",
       "      return null;\n",
       "    }\n",
       "    if (js_urls == null || js_urls.length === 0) {\n",
       "      run_callbacks();\n",
       "      return null;\n",
       "    }\n",
       "    console.log(\"Bokeh: BokehJS not loaded, scheduling load and callback at\", now());\n",
       "    window._bokeh_is_loading = js_urls.length;\n",
       "    for (var i = 0; i < js_urls.length; i++) {\n",
       "      var url = js_urls[i];\n",
       "      var s = document.createElement('script');\n",
       "      s.src = url;\n",
       "      s.async = false;\n",
       "      s.onreadystatechange = s.onload = function() {\n",
       "        window._bokeh_is_loading--;\n",
       "        if (window._bokeh_is_loading === 0) {\n",
       "          console.log(\"Bokeh: all BokehJS libraries loaded\");\n",
       "          run_callbacks()\n",
       "        }\n",
       "      };\n",
       "      s.onerror = function() {\n",
       "        console.warn(\"failed to load library \" + url);\n",
       "      };\n",
       "      console.log(\"Bokeh: injecting script tag for BokehJS library: \", url);\n",
       "      document.getElementsByTagName(\"head\")[0].appendChild(s);\n",
       "    }\n",
       "  };\n",
       "\n",
       "  var js_urls = ['https://cdn.pydata.org/bokeh/release/bokeh-0.12.0.min.js', 'https://cdn.pydata.org/bokeh/release/bokeh-widgets-0.12.0.min.js', 'https://cdn.pydata.org/bokeh/release/bokeh-compiler-0.12.0.min.js'];\n",
       "\n",
       "  var inline_js = [\n",
       "    function(Bokeh) {\n",
       "      Bokeh.set_log_level(\"info\");\n",
       "    },\n",
       "    \n",
       "    function(Bokeh) {\n",
       "      Bokeh.$(\"#72e40862-9105-44ff-af2d-bcc80bfb256d\").text(\"BokehJS successfully loaded\");\n",
       "    },\n",
       "    function(Bokeh) {\n",
       "      console.log(\"Bokeh: injecting CSS: https://cdn.pydata.org/bokeh/release/bokeh-0.12.0.min.css\");\n",
       "      Bokeh.embed.inject_css(\"https://cdn.pydata.org/bokeh/release/bokeh-0.12.0.min.css\");\n",
       "      console.log(\"Bokeh: injecting CSS: https://cdn.pydata.org/bokeh/release/bokeh-widgets-0.12.0.min.css\");\n",
       "      Bokeh.embed.inject_css(\"https://cdn.pydata.org/bokeh/release/bokeh-widgets-0.12.0.min.css\");\n",
       "    }\n",
       "  ];\n",
       "\n",
       "  function run_inline_js() {\n",
       "    for (var i = 0; i < inline_js.length; i++) {\n",
       "      inline_js[i](window.Bokeh);\n",
       "    }\n",
       "  }\n",
       "\n",
       "  if (window._bokeh_is_loading === 0) {\n",
       "    console.log(\"Bokeh: BokehJS loaded, going straight to plotting\");\n",
       "    run_inline_js();\n",
       "  } else {\n",
       "    load_libs(js_urls, function() {\n",
       "      console.log(\"Bokeh: BokehJS plotting callback run at\", now());\n",
       "      run_inline_js();\n",
       "    });\n",
       "  }\n",
       "}(this));"
      ]
     },
     "metadata": {},
     "output_type": "display_data"
    }
   ],
   "source": [
    "output_notebook()\n",
    "\n",
    "from bokeh.layouts import row, widgetbox\n",
    "from bokeh.io import curdoc, push_notebook\n",
    "\n",
    "inputs = widgetbox(year)\n",
    "\n",
    "curdoc().add_root(row(inputs, plot, width=1000))\n",
    "curdoc().title = \"Sliders\""
   ]
  },
  {
   "cell_type": "code",
   "execution_count": 91,
   "metadata": {
    "collapsed": false
   },
   "outputs": [
    {
     "data": {
      "text/html": [
       "\n",
       "\n",
       "    <div class=\"bk-root\">\n",
       "        <div class=\"plotdiv\" id=\"bb677ebb-40c1-4c87-a8a7-631dc3af6918\"></div>\n",
       "    </div>\n",
       "<script type=\"text/javascript\">\n",
       "  \n",
       "  (function(global) {\n",
       "    function now() {\n",
       "      return new Date();\n",
       "    }\n",
       "  \n",
       "    if (typeof (window._bokeh_onload_callbacks) === \"undefined\") {\n",
       "      window._bokeh_onload_callbacks = [];\n",
       "    }\n",
       "  \n",
       "    function run_callbacks() {\n",
       "      window._bokeh_onload_callbacks.forEach(function(callback) { callback() });\n",
       "      delete window._bokeh_onload_callbacks\n",
       "      console.info(\"Bokeh: all callbacks have finished\");\n",
       "    }\n",
       "  \n",
       "    function load_libs(js_urls, callback) {\n",
       "      window._bokeh_onload_callbacks.push(callback);\n",
       "      if (window._bokeh_is_loading > 0) {\n",
       "        console.log(\"Bokeh: BokehJS is being loaded, scheduling callback at\", now());\n",
       "        return null;\n",
       "      }\n",
       "      if (js_urls == null || js_urls.length === 0) {\n",
       "        run_callbacks();\n",
       "        return null;\n",
       "      }\n",
       "      console.log(\"Bokeh: BokehJS not loaded, scheduling load and callback at\", now());\n",
       "      window._bokeh_is_loading = js_urls.length;\n",
       "      for (var i = 0; i < js_urls.length; i++) {\n",
       "        var url = js_urls[i];\n",
       "        var s = document.createElement('script');\n",
       "        s.src = url;\n",
       "        s.async = false;\n",
       "        s.onreadystatechange = s.onload = function() {\n",
       "          window._bokeh_is_loading--;\n",
       "          if (window._bokeh_is_loading === 0) {\n",
       "            console.log(\"Bokeh: all BokehJS libraries loaded\");\n",
       "            run_callbacks()\n",
       "          }\n",
       "        };\n",
       "        s.onerror = function() {\n",
       "          console.warn(\"failed to load library \" + url);\n",
       "        };\n",
       "        console.log(\"Bokeh: injecting script tag for BokehJS library: \", url);\n",
       "        document.getElementsByTagName(\"head\")[0].appendChild(s);\n",
       "      }\n",
       "    };var element = document.getElementById(\"bb677ebb-40c1-4c87-a8a7-631dc3af6918\");\n",
       "    if (element == null) {\n",
       "      console.log(\"Bokeh: ERROR: autoload.js configured with elementid 'bb677ebb-40c1-4c87-a8a7-631dc3af6918' but no matching script tag was found. \")\n",
       "      return false;\n",
       "    }\n",
       "  \n",
       "    var js_urls = [];\n",
       "  \n",
       "    var inline_js = [\n",
       "      function(Bokeh) {\n",
       "        Bokeh.$(function() {\n",
       "            var docs_json = {\"3c8abb81-7ec0-486e-b407-6d3beb590ad7\":{\"roots\":{\"references\":[{\"attributes\":{\"plot\":{\"id\":\"a0968639-6eed-48fb-ab4b-aa7f9b5a59c1\",\"subtype\":\"Figure\",\"type\":\"Plot\"}},\"id\":\"5a54f4fe-c36a-4d02-96b4-1ded91042597\",\"type\":\"WheelZoomTool\"},{\"attributes\":{},\"id\":\"f8b7dbcf-16ee-489d-8594-107138b66ca1\",\"type\":\"ToolEvents\"},{\"attributes\":{\"callback\":null,\"plot\":{\"id\":\"a0968639-6eed-48fb-ab4b-aa7f9b5a59c1\",\"subtype\":\"Figure\",\"type\":\"Plot\"}},\"id\":\"44e101f1-7bc8-4480-8ad6-2ba02a038437\",\"type\":\"TapTool\"},{\"attributes\":{\"dimension\":1,\"plot\":{\"id\":\"a0968639-6eed-48fb-ab4b-aa7f9b5a59c1\",\"subtype\":\"Figure\",\"type\":\"Plot\"},\"ticker\":{\"id\":\"1ee1395e-08b5-47b2-a84d-a66e5631225c\",\"type\":\"BasicTicker\"}},\"id\":\"5e2984c5-fefb-4818-aab3-8fddce5e4f8d\",\"type\":\"Grid\"},{\"attributes\":{\"callback\":null,\"column_names\":[\"width\",\"ys\",\"alphas\",\"xs\"],\"data\":{\"alphas\":[[0.10283130161226899],[0.10235941801022415],[0.10259535981124657],[0.10117970900511208],[0.10047188360204483],[0.10023594180102242],[0.10188753440817933],[0.10495477782147071],[0.10070782540306725],[0.10188753440817933],[0.10448289421942589],[0.10070782540306725],[0.10637042862760519],[0.12642548171451043],[0.10047188360204483],[0.10047188360204483],[0.10023594180102242],[0.10094376720408967],[0.10235941801022415],[0.1639402280770743],[0.10306724341329139],[0.1212347620920173],[0.10023594180102242],[0.10471883602044829],[0.13067243413291388],[0.15426661423515534],[0.1537947306331105],[0.10283130161226899],[0.10401101061738105],[0.10259535981124657],[0.10401101061738105],[0.13869445536767597],[0.10023594180102242],[0.10117970900511208],[0.10047188360204483],[0.11439244986236728],[0.11014549744396383],[0.10188753440817933],[0.2597325992921746],[0.10023594180102242],[0.10023594180102242],[0.15945733385764843],[0.10023594180102242],[0.10212347620920173],[0.10943767204089658],[0.10047188360204483],[0.10235941801022415],[0.1113252064490759],[0.10188753440817933],[0.10047188360204483],[0.11698780967361384],[0.11038143924498624],[0.10755013763271727],[0.11061738104600866],[0.21230829728666928],[0.10070782540306725],[0.10330318521431381],[0.10306724341329139],[0.10235941801022415],[0.10141565080613449],[0.10070782540306725],[0.10117970900511208],[0.18541093197011405],[0.10684231222965003],[0.25406999606763664],[0.1700747149036571],[0.3489186000786473],[0.10117970900511208],[0.10943767204089658],[0.10023594180102242],[0.10047188360204483],[0.10235941801022415],[0.10188753440817933],[0.17951238694455368],[0.10141565080613449],[0.10471883602044829],[0.10353912701533623],[0.10353912701533623],[0.12618953991348802],[0.23708218639402281],[0.11344868265827764],[0.10117970900511208],[0.10047188360204483],[0.10188753440817933],[0.10660637042862761],[0.10047188360204483],[0.12878489972473456],[0.10637042862760519],[0.10353912701533623],[0.10141565080613449],[0.13539127015336216],[0.10235941801022415],[0.16771529689343295],[0.10235941801022415],[0.10637042862760519],[0.10070782540306725],[0.10023594180102242],[0.10849390483680693],[0.10047188360204483],[0.10259535981124657],[0.10047188360204483],[0.10471883602044829],[0.10283130161226899],[0.10047188360204483],[0.11840346047974834],[0.10023594180102242],[0.13161620133700355],[0.10707825403067243],[0.11887534408179316],[0.1129767990562328],[0.10141565080613449],[0.17668108533228472],[0.11769563507668108],[0.10047188360204483],[0.10070782540306725],[0.10448289421942589],[0.11911128588281558],[0.10094376720408967],[0.11061738104600866],[0.16276051907196226],[0.11698780967361384],[0.5791977978765238],[0.10094376720408967],[0.10235941801022415],[0.1259535981124656],[0.11250491545418798],[0.10094376720408967],[0.3326386158081006],[0.30196618167518674],[0.10023594180102242],[0.10023594180102242],[0.5482894219425876],[0.12265041289815179],[0.10259535981124657],[0.12736924891860008],[0.10117970900511208],[0.10235941801022415],[0.10353912701533623],[0.10023594180102242],[0.10424695241840347],[0.12736924891860008],[0.10047188360204483],[0.10070782540306725],[0.11392056626032246],[0.1146283916633897],[0.10401101061738105],[0.10141565080613449],[0.10188753440817933],[0.14530082579630357],[0.10165159260715691],[0.10094376720408967],[0.11510027526543454],[0.10235941801022415],[0.10731419583169485],[0.11226897365316556],[0.10707825403067243],[0.10188753440817933],[0.10188753440817933],[0.10778607943373968],[0.11014549744396383],[0.10849390483680693],[0.10637042862760519],[0.10094376720408967],[0.10023594180102242],[0.10188753440817933],[0.10165159260715691],[0.10023594180102242],[0.10377506881635863],[0.10047188360204483],[0.12241447109712938],[0.10188753440817933],[0.10707825403067243],[0.11321274085725522],[0.11981911128588282],[0.11108926464805349],[0.10212347620920173],[0.10589854502556037],[0.10377506881635863],[0.10495477782147071],[0.14530082579630357],[0.10353912701533623],[0.10566260322453795],[0.10047188360204483],[0.11061738104600866],[0.10660637042862761],[0.15119937082186394],[0.10707825403067243],[0.10660637042862761],[0.12430200550530869],[0.12052693668895006],[0.10047188360204483],[0.11911128588281558],[0.10660637042862761],[0.15237907982697602],[0.10141565080613449],[0.14435705859221393],[0.10471883602044829],[0.10235941801022415],[0.10589854502556037],[0.11061738104600866],[0.10353912701533623],[0.12500983090837595],[0.10117970900511208],[0.10023594180102242],[0.10070782540306725],[0.11934722768383799],[0.17054659850570192],[0.10684231222965003],[0.10377506881635863],[0.10188753440817933],[0.10070782540306725],[0.17361384191899332],[0.1490758946126622],[0.10259535981124657],[0.10778607943373968],[0.10990955564294141],[0.11250491545418798],[0.10920173023987417],[0.10495477782147071],[0.10117970900511208],[0.20145497443963822],[0.10613448682658277],[0.17361384191899332],[0.10165159260715691],[0.2807314195831695],[0.10353912701533623],[0.7],[0.10188753440817933],[0.10235941801022415],[0.10188753440817933],[0.10188753440817933],[0.10283130161226899],[0.10660637042862761],[0.10023594180102242],[0.10141565080613449],[0.1195831694848604],[0.2594966574911522],[0.10070782540306725],[0.10519071962249313],[0.22528509634290209],[0.10188753440817933],[0.12996460872984664],[0.10117970900511208],[0.10070782540306725],[0.10047188360204483],[0.10330318521431381],[0.10424695241840347],[0.11981911128588282],[0.10235941801022415],[0.10117970900511208],[0.10542666142351553],[0.11769563507668108],[0.10117970900511208],[0.10117970900511208],[0.10259535981124657],[0.10235941801022415],[0.1129767990562328],[0.11179709005112073],[0.14435705859221393],[0.10094376720408967],[0.10023594180102242],[0.2576091230829729],[0.10023594180102242],[0.10070782540306725],[0.10047188360204483],[0.10047188360204483],[0.10094376720408967],[0.10353912701533623],[0.10589854502556037],[0.10094376720408967],[0.1799842705465985],[0.25572158867479355],[0.11179709005112073],[0.10094376720408967],[0.10117970900511208],[0.10023594180102242],[0.10023594180102242],[0.10094376720408967],[0.10094376720408967],[0.10212347620920173],[0.10094376720408967],[0.23094769956744002],[0.10283130161226899],[0.10849390483680693],[0.10849390483680693],[0.10377506881635863],[0.10471883602044829],[0.10094376720408967],[0.10117970900511208],[0.13185214313802596],[0.10165159260715691],[0.11038143924498624],[0.10117970900511208],[0.10070782540306725],[0.10896578843885175],[0.10070782540306725],[0.10613448682658277],[0.17054659850570192],[0.10283130161226899],[0.14553676759732598],[0.10070782540306725],[0.10330318521431381],[0.2743609909555643],[0.13987416437278805],[0.11038143924498624],[0.15426661423515534],[0.12406606370428627],[0.10401101061738105],[0.10235941801022415],[0.10471883602044829],[0.10023594180102242]],\"width\":[2.4849066497880004,2.302585092994046,2.3978952727983707,1.6094379124341003,0.6931471805599453,0.0,2.0794415416798357,3.044522437723423,1.0986122886681098,2.0794415416798357,2.9444389791664403,1.0986122886681098,3.295836866004329,4.718498871295094,0.6931471805599453,0.6931471805599453,0.0,1.3862943611198906,2.302585092994046,5.602118820879701,2.5649493574615367,4.499809670330265,0.0,2.995732273553991,4.867534450455582,5.438079308923196,5.429345628954441,2.4849066497880004,2.833213344056216,2.3978952727983707,2.833213344056216,5.099866427824199,0.0,1.6094379124341003,0.6931471805599453,4.110873864173311,3.7612001156935624,2.0794415416798357,6.517671272912275,0.0,0.0,5.529429087511423,0.0,2.1972245773362196,3.6888794541139363,0.6931471805599453,2.302585092994046,3.871201010907891,2.0794415416798357,0.6931471805599453,4.276666119016055,3.784189633918261,3.4657359027997265,3.8066624897703196,6.16541785423142,1.0986122886681098,2.6390573296152584,2.5649493574615367,2.302585092994046,1.791759469228055,1.0986122886681098,1.6094379124341003,5.8916442118257715,3.367295829986474,6.481577129276431,5.6937321388027,6.961296045910167,1.6094379124341003,3.6888794541139363,0.0,0.6931471805599453,2.302585092994046,2.0794415416798357,5.820082930352362,1.791759469228055,2.995732273553991,2.70805020110221,2.70805020110221,4.709530201312334,6.364750756851911,4.04305126783455,1.6094379124341003,0.6931471805599453,2.0794415416798357,3.332204510175204,0.6931471805599453,4.804021044733257,3.295836866004329,2.70805020110221,1.791759469228055,5.0106352940962555,2.302585092994046,5.659482215759621,2.302585092994046,3.295836866004329,1.0986122886681098,0.0,3.58351893845611,0.6931471805599453,2.3978952727983707,0.6931471805599453,2.995732273553991,2.4849066497880004,0.6931471805599453,4.356708826689592,0.0,4.897839799950911,3.4011973816621555,4.382026634673881,4.007333185232471,1.791759469228055,5.783825182329737,4.31748811353631,0.6931471805599453,1.0986122886681098,2.9444389791664403,4.394449154672439,1.3862943611198906,3.8066624897703196,5.583496308781699,4.276666119016055,7.616283561580385,1.3862943611198906,2.302585092994046,4.700480365792417,3.970291913552122,1.3862943611198906,6.893656354602635,6.752270376141742,0.0,0.0,7.549609165154532,4.564348191467836,2.3978952727983707,4.7535901911063645,1.6094379124341003,2.302585092994046,2.70805020110221,0.0,2.8903717578961645,4.7535901911063645,0.6931471805599453,1.0986122886681098,4.07753744390572,4.127134385045092,2.833213344056216,1.791759469228055,2.0794415416798357,5.2574953720277815,1.9459101490553132,1.3862943611198906,4.1588830833596715,2.302585092994046,3.4339872044851463,3.9512437185814275,3.4011973816621555,2.0794415416798357,2.0794415416798357,3.4965075614664802,3.7612001156935624,3.58351893845611,3.295836866004329,1.3862943611198906,0.0,2.0794415416798357,1.9459101490553132,0.0,2.772588722239781,0.6931471805599453,4.553876891600541,2.0794415416798357,3.4011973816621555,4.02535169073515,4.430816798843313,3.8501476017100584,2.1972245773362196,3.2188758248682006,2.772588722239781,3.044522437723423,5.2574953720277815,2.70805020110221,3.1780538303479458,0.6931471805599453,3.8066624897703196,3.332204510175204,5.37989735354046,3.4011973816621555,3.332204510175204,4.634728988229636,4.465908118654584,0.6931471805599453,4.394449154672439,3.332204510175204,5.402677381872279,1.791759469228055,5.236441962829949,2.995732273553991,2.302585092994046,3.2188758248682006,3.8066624897703196,2.70805020110221,4.663439094112067,1.6094379124341003,0.0,1.0986122886681098,4.406719247264253,5.700443573390687,3.367295829986474,2.772588722239781,2.0794415416798357,1.0986122886681098,5.7430031878094825,5.337538079701318,2.3978952727983707,3.4965075614664802,3.7376696182833684,3.970291913552122,3.6635616461296463,3.044522437723423,1.6094379124341003,6.063785208687608,3.258096538021482,5.7430031878094825,1.9459101490553132,6.641182169740591,2.70805020110221,7.841099765422119,2.0794415416798357,2.302585092994046,2.0794415416798357,2.0794415416798357,2.4849066497880004,3.332204510175204,0.0,1.791759469228055,4.418840607796598,6.516193076042964,1.0986122886681098,3.091042453358316,6.274762021241939,2.0794415416798357,4.844187086458591,1.6094379124341003,1.0986122886681098,0.6931471805599453,2.6390573296152584,2.8903717578961645,4.430816798843313,2.302585092994046,1.6094379124341003,3.1354942159291497,4.31748811353631,1.6094379124341003,1.6094379124341003,2.3978952727983707,2.302585092994046,4.007333185232471,3.912023005428146,5.236441962829949,1.3862943611198906,0.0,6.504288173536645,0.0,1.0986122886681098,0.6931471805599453,0.6931471805599453,1.3862943611198906,2.70805020110221,3.2188758248682006,1.3862943611198906,5.82600010738045,6.492239835020471,3.912023005428146,1.3862943611198906,1.6094379124341003,0.0,0.0,1.3862943611198906,1.3862943611198906,2.1972245773362196,1.3862943611198906,6.318968113746434,2.4849066497880004,3.58351893845611,3.58351893845611,2.772588722239781,2.995732273553991,1.3862943611198906,1.6094379124341003,4.90527477843843,1.9459101490553132,3.784189633918261,1.6094379124341003,1.0986122886681098,3.6375861597263857,1.0986122886681098,3.258096538021482,5.700443573390687,2.4849066497880004,5.262690188904886,1.0986122886681098,2.6390573296152584,6.6052979209482015,5.1298987149230735,3.784189633918261,5.438079308923196,4.624972813284271,2.833213344056216,2.302585092994046,2.995732273553991,0.0],\"xs\":[[0.28060783275736134,0.3111980017369302],[0.28060783275736134,0.3254831644909382],[0.28060783275736134,0.30313565577420337],[0.28060783275736134,0.39746411731599834],[0.28060783275736134,0.41257052250268417],[0.28060783275736134,0.295572221173618],[0.28060783275736134,0.28993497787061784],[0.28060783275736134,0.3093496908407502],[0.28060783275736134,0.1896195378380221],[0.28060783275736134,0.3452008935103931],[0.28060783275736134,0.29418929527477067],[0.28060783275736134,0.2362499710401887],[0.28060783275736134,0.21564530169609952],[0.28060783275736134,0.32241911099018683],[0.28060783275736134,0.4096088632202777],[0.28060783275736134,0.38209650879482737],[0.28060783275736134,0.32032388559562586],[0.28060783275736134,0.1747694574424262],[0.28060783275736134,0.3269539005898227],[0.3093496908407502,0.28734869523508094],[0.3093496908407502,0.31041845009633434],[0.3093496908407502,0.2598602778929101],[0.3093496908407502,0.38067899966772556],[0.3093496908407502,0.3178806146010009],[0.3093496908407502,0.27885854855562636],[0.3093496908407502,0.3255381104674778],[0.3093496908407502,0.31659291963740693],[0.3093496908407502,0.38479675663333796],[0.3093496908407502,0.2930660100961499],[0.3093496908407502,0.25300903429888383],[0.3093496908407502,0.38209650879482737],[0.3093496908407502,0.3499104972204816],[0.3093496908407502,0.2362499710401887],[0.3093496908407502,0.22045236944579386],[0.3093496908407502,0.43115812985096696],[0.3093496908407502,0.30379892504925976],[0.3093496908407502,0.3955202215628637],[0.3093496908407502,0.2528235944541514],[0.3093496908407502,0.29418929527477067],[0.3093496908407502,0.35855785460343853],[0.3093496908407502,0.21564530169609952],[0.3093496908407502,0.32241911099018683],[0.3093496908407502,0.3111980017369302],[0.3093496908407502,0.35179796560460036],[0.3093496908407502,0.23095602600325307],[0.3093496908407502,0.295572221173618],[0.3093496908407502,0.28993497787061784],[0.3093496908407502,0.3776893492489995],[0.3093496908407502,0.3254831644909382],[0.3093496908407502,0.4127956517432331],[0.3093496908407502,0.2860617103863066],[0.3093496908407502,0.29938983116942086],[0.3093496908407502,0.30747883422190947],[0.4904834061302964,0.4090720299422387],[0.43826228075454465,0.4090720299422387],[0.6942182598764145,0.4090720299422387],[0.27885854855562636,0.29418929527477067],[0.27885854855562636,0.3178806146010009],[0.27885854855562636,0.31041845009633434],[0.27885854855562636,0.2137294137308475],[0.15771366692952857,0.29418929527477067],[0.15771366692952857,0.3452008935103931],[0.2615569730077027,0.29418929527477067],[0.31064799882854366,0.3111980017369302],[0.31064799882854366,0.3254831644909382],[0.31064799882854366,0.3452008935103931],[0.31064799882854366,0.29418929527477067],[0.31064799882854366,0.3150018702825472],[0.31064799882854366,0.32241911099018683],[0.7455564438899176,0.3452008935103931],[0.3499104972204816,0.4008266086360091],[0.3499104972204816,0.3178806146010009],[0.3499104972204816,0.31041845009633434],[0.3499104972204816,0.3452008935103931],[0.3499104972204816,0.29418929527477067],[0.3499104972204816,0.35855785460343853],[0.3499104972204816,0.3254831644909382],[0.3269539005898227,0.31041845009633434],[0.3269539005898227,0.3452008935103931],[0.3269539005898227,0.29418929527477067],[0.3269539005898227,0.32601280596458737],[0.3269539005898227,0.35855785460343853],[0.3269539005898227,0.6640245042537684],[0.3269539005898227,0.4022810324650617],[0.3269539005898227,0.2930660100961499],[0.4008266086360091,0.41853123131341097],[0.3178806146010009,0.28734869523508094],[0.3178806146010009,0.2598602778929101],[0.3178806146010009,0.4096088632202777],[0.3178806146010009,0.2528235944541514],[0.3178806146010009,0.3776893492489995],[0.3178806146010009,0.3452008935103931],[0.3178806146010009,0.29418929527477067],[0.3178806146010009,0.24643918260163405],[0.3178806146010009,0.30747883422190947],[0.055436952955051855,0.28993497787061784],[0.055436952955051855,0.3452008935103931],[0.21422673026257621,0.29418929527477067],[0.21422673026257621,0.28993497787061784],[0.21422673026257621,0.3254831644909382],[0.4022810324650617,0.29418929527477067],[0.4022810324650617,0.3452008935103931],[0.24643918260163405,0.29418929527477067],[0.24643918260163405,0.3254831644909382],[0.4357980326262157,0.4090720299422387],[0.35179796560460036,0.3254831644909382],[0.35179796560460036,0.30313565577420337],[0.35179796560460036,0.31041845009633434],[0.35179796560460036,0.39666427972573154],[0.35179796560460036,0.29418929527477067],[0.35179796560460036,0.35855785460343853],[0.35179796560460036,0.38479675663333796],[0.35179796560460036,0.32241911099018683],[0.35179796560460036,0.4096088632202777],[0.3776893492489995,0.160542955600851],[0.3776893492489995,0.31659291963740693],[0.3776893492489995,0.3452008935103931],[0.3776893492489995,0.29418929527477067],[0.3776893492489995,0.35855785460343853],[0.3776893492489995,0.3254831644909382],[0.3776893492489995,0.30747883422190947],[0.3776893492489995,0.4090720299422387],[0.21564530169609952,0.29418929527477067],[0.21564530169609952,0.3254831644909382],[0.30747883422190947,0.3254831644909382],[0.30747883422190947,0.31041845009633434],[0.30747883422190947,0.3452008935103931],[0.30747883422190947,0.29418929527477067],[0.28734869523508094,0.29418929527477067],[0.28734869523508094,0.31041845009633434],[0.28734869523508094,0.3452008935103931],[0.4172510434149919,0.4090720299422387],[0.39666427972573154,0.38479675663333796],[0.39666427972573154,0.4090720299422387],[0.4565689656510316,0.4090720299422387],[0.3452008935103931,0.5517674189198192],[0.3452008935103931,0.31041845009633434],[0.3452008935103931,0.3255381104674778],[0.3452008935103931,0.34611355774838315],[0.3452008935103931,0.5071597499522155],[0.3452008935103931,0.3391055150082961],[0.3452008935103931,0.150084476222317],[0.3452008935103931,0.5331534205531413],[0.3452008935103931,0.31659291963740693],[0.3452008935103931,0.38479675663333796],[0.3452008935103931,0.2930660100961499],[0.3452008935103931,0.38067899966772556],[0.3452008935103931,0.2676018506039335],[0.3452008935103931,0.38209650879482737],[0.3452008935103931,0.30379892504925976],[0.3452008935103931,0.43115812985096696],[0.3452008935103931,0.29418929527477067],[0.3452008935103931,0.32601280596458737],[0.3452008935103931,0.35855785460343853],[0.3452008935103931,0.3111980017369302],[0.3452008935103931,0.3950578589076111],[0.3452008935103931,0.23095602600325307],[0.3452008935103931,0.295572221173618],[0.3452008935103931,0.28993497787061784],[0.3452008935103931,0.32032388559562586],[0.3452008935103931,0.3375222495884283],[0.3452008935103931,0.3254831644909382],[0.3452008935103931,0.3978979671358425],[0.3452008935103931,0.4127956517432331],[0.3452008935103931,0.2860617103863066],[0.3452008935103931,0.29938983116942086],[0.3452008935103931,0.16596726032823295],[0.40370514763672427,0.3684920595006668],[0.43913806318858717,0.31041845009633434],[0.43913806318858717,0.4090720299422387],[0.5028256333876107,0.38479675663333796],[0.3255381104674778,0.30379892504925976],[0.3255381104674778,0.29418929527477067],[0.3255381104674778,0.35855785460343853],[0.3255381104674778,0.32241911099018683],[0.150084476222317,0.29418929527477067],[0.31659291963740693,0.2598602778929101],[0.31659291963740693,0.2822641956278838],[0.31659291963740693,0.31041845009633434],[0.31659291963740693,0.29418929527477067],[0.31659291963740693,0.35855785460343853],[0.38479675663333796,0.3950578589076111],[0.38479675663333796,0.31041845009633434],[0.38479675663333796,0.39109040597100675],[0.38479675663333796,0.28993497787061784],[0.38479675663333796,0.41257052250268417],[0.38479675663333796,0.29938983116942086],[0.38479675663333796,0.2822641956278838],[0.38479675663333796,0.4329764055105074],[0.38479675663333796,0.4096088632202777],[0.38479675663333796,0.25300903429888383],[0.38479675663333796,0.4090720299422387],[0.2598602778929101,0.2822641956278838],[0.2598602778929101,0.29418929527477067],[0.2598602778929101,0.10434013385612549],[0.2528235944541514,0.29418929527477067],[0.3684920595006668,0.28993497787061784],[0.3684920595006668,0.4090720299422387],[0.43115812985096696,0.3254831644909382],[0.43115812985096696,0.4090720299422387],[0.43115812985096696,0.35855785460343853],[0.29418929527477067,0.31041845009633434],[0.29418929527477067,0.38067899966772556],[0.29418929527477067,0.3391055150082961],[0.29418929527477067,0.023811744422208344],[0.29418929527477067,0.2822641956278838],[0.29418929527477067,0.30313565577420337],[0.29418929527477067,0.39109040597100675],[0.29418929527477067,0.20704990966810502],[0.29418929527477067,0.2930660100961499],[0.29418929527477067,0.30379892504925976],[0.29418929527477067,0.2676018506039335],[0.29418929527477067,0.25300903429888383],[0.29418929527477067,0.2362499710401887],[0.29418929527477067,0.32601280596458737],[0.29418929527477067,0.35855785460343853],[0.29418929527477067,0.32241911099018683],[0.29418929527477067,0.3111980017369302],[0.29418929527477067,0.23095602600325307],[0.29418929527477067,0.3375222495884283],[0.29418929527477067,0.28993497787061784],[0.29418929527477067,0.1896195378380221],[0.29418929527477067,0.3254831644909382],[0.29418929527477067,0.2137294137308475],[0.29418929527477067,0.2860617103863066],[0.29418929527477067,0.15246337617638758],[0.29418929527477067,0.29938983116942086],[0.29418929527477067,0.32032388559562586],[0.29418929527477067,0.1747694574424262],[0.35855785460343853,0.30379892504925976],[0.35855785460343853,0.3391055150082961],[0.35855785460343853,0.3150018702825472],[0.35855785460343853,0.4127956517432331],[0.4079713985528121,0.28993497787061784],[0.42325457195040783,0.3950578589076111],[0.42325457195040783,0.41257860325297147],[0.42325457195040783,0.4090720299422387],[0.160542955600851,0.3254831644909382],[0.3950578589076111,0.3254831644909382],[0.3950578589076111,0.4090720299422387],[0.39746411731599834,0.32241911099018683],[0.39746411731599834,0.4090720299422387],[0.23095602600325307,0.3254831644909382],[0.295572221173618,0.32241911099018683],[0.32032388559562586,0.3955202215628637],[0.32032388559562586,0.32241911099018683],[0.3150018702825472,0.2860617103863066],[0.29938983116942086,0.3254831644909382],[0.29938983116942086,0.31041845009633434],[0.3111980017369302,0.31041845009633434],[0.3111980017369302,0.28993497787061784],[0.3111980017369302,0.3254831644909382],[0.3111980017369302,0.32241911099018683],[0.3111980017369302,0.4096088632202777],[0.38067899966772556,0.31041845009633434],[0.38067899966772556,0.28993497787061784],[0.38067899966772556,0.4127956517432331],[0.38067899966772556,0.32241911099018683],[0.38067899966772556,0.4090720299422387],[0.41257860325297147,0.3955202215628637],[0.41257860325297147,0.39109040597100675],[0.41257860325297147,0.4090720299422387],[0.68220654065664,0.3254831644909382],[0.68220654065664,0.5071597499522155],[0.30313565577420337,0.31041845009633434],[0.30313565577420337,0.2362499710401887],[0.30313565577420337,0.1841116296409614],[0.30313565577420337,0.3254831644909382],[0.30313565577420337,0.32241911099018683],[0.4096088632202777,0.4329764055105074],[0.4096088632202777,0.4090720299422387],[0.39109040597100675,0.4090720299422387],[0.2930660100961499,0.3254831644909382],[0.2930660100961499,0.2822641956278838],[0.2930660100961499,0.32241911099018683],[0.2676018506039335,0.15246337617638758],[0.2676018506039335,0.2822641956278838],[0.25300903429888383,0.3254831644909382],[0.25300903429888383,0.2822641956278838],[0.38209650879482737,0.4127956517432331],[0.38209650879482737,0.32241911099018683],[0.38209650879482737,0.4090720299422387],[0.30379892504925976,0.3254831644909382],[0.30379892504925976,0.32601280596458737],[0.30379892504925976,0.2860617103863066],[0.2362499710401887,0.31041845009633434],[0.4876856663548395,0.4090720299422387],[0.32241911099018683,0.41257052250268417],[0.32241911099018683,0.1896195378380221],[0.32241911099018683,0.3254831644909382],[0.32241911099018683,0.1747694574424262],[0.31041845009633434,0.3254831644909382],[0.31041845009633434,0.3391055150082961],[0.0,0.28993497787061784],[0.3391055150082961,0.3254831644909382],[0.3391055150082961,0.2822641956278838],[0.3955202215628637,0.41257052250268417],[0.3955202215628637,0.4090720299422387],[0.22045236944579386,0.3254831644909382],[0.4329764055105074,0.4090720299422387],[0.15246337617638758,0.3254831644909382],[0.5478014299892523,0.4090720299422387],[0.43355782429885015,0.4090720299422387],[0.4090720299422387,0.45638109790112896],[0.4090720299422387,0.5073896783510283],[0.4090720299422387,0.4127956517432331],[0.4090720299422387,0.475601725171953],[0.41257052250268417,0.4127956517432331],[0.28993497787061784,0.3254831644909382],[0.3254831644909382,0.4127956517432331],[0.3254831644909382,0.1747694574424262]],\"ys\":[[0.5765547236847173,0.5889245684528674],[0.5765547236847173,0.5634068170329192],[0.5765547236847173,0.49767808384000967],[0.5765547236847173,0.6230000188466059],[0.5765547236847173,0.49486279952720796],[0.5765547236847173,0.7159231789798169],[0.5765547236847173,0.526485522121953],[0.5765547236847173,0.5295163529258451],[0.5765547236847173,0.5236671470113828],[0.5765547236847173,0.5633911364833531],[0.5765547236847173,0.536240612184107],[0.5765547236847173,0.43709106330373443],[0.5765547236847173,0.6186768424685815],[0.5765547236847173,0.5464230844020045],[0.5765547236847173,0.5504997378054004],[0.5765547236847173,0.5767382489287531],[0.5765547236847173,0.6325926162451696],[0.5765547236847173,0.4963433549461358],[0.5765547236847173,0.5330254909053496],[0.5295163529258451,0.545652508624109],[0.5295163529258451,0.5099695047536481],[0.5295163529258451,0.5452386508210396],[0.5295163529258451,0.5463088786435452],[0.5295163529258451,0.5664268281798569],[0.5295163529258451,0.4803858414910751],[0.5295163529258451,0.505552000201359],[0.5295163529258451,0.5246538539196516],[0.5295163529258451,0.514790234241478],[0.5295163529258451,0.6003428389679666],[0.5295163529258451,0.5552286786284767],[0.5295163529258451,0.5767382489287531],[0.5295163529258451,0.5321929123224501],[0.5295163529258451,0.43709106330373443],[0.5295163529258451,0.6663689888193578],[0.5295163529258451,0.520889551883568],[0.5295163529258451,0.4728070530915403],[0.5295163529258451,0.5444641377891998],[0.5295163529258451,0.5157290950480727],[0.5295163529258451,0.536240612184107],[0.5295163529258451,0.5122685818150557],[0.5295163529258451,0.6186768424685815],[0.5295163529258451,0.5464230844020045],[0.5295163529258451,0.5889245684528674],[0.5295163529258451,0.5010932958908257],[0.5295163529258451,0.5276610627423645],[0.5295163529258451,0.7159231789798169],[0.5295163529258451,0.526485522121953],[0.5295163529258451,0.5659448299733965],[0.5295163529258451,0.5634068170329192],[0.5295163529258451,0.5394894150550582],[0.5295163529258451,0.5136950185658409],[0.5295163529258451,0.5361780321897968],[0.5295163529258451,0.5538073763471892],[0.6229692495871023,0.5740949414619667],[0.5867941638737029,0.5740949414619667],[0.5985080488520168,0.5740949414619667],[0.4803858414910751,0.536240612184107],[0.4803858414910751,0.5664268281798569],[0.4803858414910751,0.5099695047536481],[0.4803858414910751,0.37072292887770997],[0.42831458726345556,0.536240612184107],[0.42831458726345556,0.5633911364833531],[0.5404126075827634,0.536240612184107],[0.5582830585979017,0.5889245684528674],[0.5582830585979017,0.5634068170329192],[0.5582830585979017,0.5633911364833531],[0.5582830585979017,0.536240612184107],[0.5582830585979017,0.41336691525866487],[0.5582830585979017,0.5464230844020045],[0.34555506712202316,0.5633911364833531],[0.5321929123224501,0.1654470387423515],[0.5321929123224501,0.5664268281798569],[0.5321929123224501,0.5099695047536481],[0.5321929123224501,0.5633911364833531],[0.5321929123224501,0.536240612184107],[0.5321929123224501,0.5122685818150557],[0.5321929123224501,0.5634068170329192],[0.5330254909053496,0.5099695047536481],[0.5330254909053496,0.5633911364833531],[0.5330254909053496,0.536240612184107],[0.5330254909053496,0.46706229520447257],[0.5330254909053496,0.5122685818150557],[0.5330254909053496,0.6697952576735231],[0.5330254909053496,0.44619859017915103],[0.5330254909053496,0.6003428389679666],[0.1654470387423515,0.0],[0.5664268281798569,0.545652508624109],[0.5664268281798569,0.5452386508210396],[0.5664268281798569,0.5504997378054004],[0.5664268281798569,0.5157290950480727],[0.5664268281798569,0.5659448299733965],[0.5664268281798569,0.5633911364833531],[0.5664268281798569,0.536240612184107],[0.5664268281798569,0.6625421871525392],[0.5664268281798569,0.5538073763471892],[0.6331089381059192,0.526485522121953],[0.6331089381059192,0.5633911364833531],[0.568666646091859,0.536240612184107],[0.568666646091859,0.526485522121953],[0.568666646091859,0.5634068170329192],[0.44619859017915103,0.536240612184107],[0.44619859017915103,0.5633911364833531],[0.6625421871525392,0.536240612184107],[0.6625421871525392,0.5634068170329192],[0.6436915811320115,0.5740949414619667],[0.5010932958908257,0.5634068170329192],[0.5010932958908257,0.49767808384000967],[0.5010932958908257,0.5099695047536481],[0.5010932958908257,0.4761642040168023],[0.5010932958908257,0.536240612184107],[0.5010932958908257,0.5122685818150557],[0.5010932958908257,0.514790234241478],[0.5010932958908257,0.5464230844020045],[0.5010932958908257,0.5504997378054004],[0.5659448299733965,0.6906265146245273],[0.5659448299733965,0.5246538539196516],[0.5659448299733965,0.5633911364833531],[0.5659448299733965,0.536240612184107],[0.5659448299733965,0.5122685818150557],[0.5659448299733965,0.5634068170329192],[0.5659448299733965,0.5538073763471892],[0.5659448299733965,0.5740949414619667],[0.6186768424685815,0.536240612184107],[0.6186768424685815,0.5634068170329192],[0.5538073763471892,0.5634068170329192],[0.5538073763471892,0.5099695047536481],[0.5538073763471892,0.5633911364833531],[0.5538073763471892,0.536240612184107],[0.545652508624109,0.536240612184107],[0.545652508624109,0.5099695047536481],[0.545652508624109,0.5633911364833531],[0.5740811537981706,0.5740949414619667],[0.4761642040168023,0.514790234241478],[0.4761642040168023,0.5740949414619667],[0.6110093281345295,0.5740949414619667],[0.5633911364833531,0.4270653097586554],[0.5633911364833531,0.5099695047536481],[0.5633911364833531,0.505552000201359],[0.5633911364833531,1.0],[0.5633911364833531,0.504790843525187],[0.5633911364833531,0.6031201402385179],[0.5633911364833531,0.6250260600779644],[0.5633911364833531,0.7966953414318134],[0.5633911364833531,0.5246538539196516],[0.5633911364833531,0.514790234241478],[0.5633911364833531,0.6003428389679666],[0.5633911364833531,0.5463088786435452],[0.5633911364833531,0.5616667144040303],[0.5633911364833531,0.5767382489287531],[0.5633911364833531,0.4728070530915403],[0.5633911364833531,0.520889551883568],[0.5633911364833531,0.536240612184107],[0.5633911364833531,0.46706229520447257],[0.5633911364833531,0.5122685818150557],[0.5633911364833531,0.5889245684528674],[0.5633911364833531,0.5867775312032332],[0.5633911364833531,0.5276610627423645],[0.5633911364833531,0.7159231789798169],[0.5633911364833531,0.526485522121953],[0.5633911364833531,0.6325926162451696],[0.5633911364833531,0.6614460519477686],[0.5633911364833531,0.5634068170329192],[0.5633911364833531,0.8217134352925736],[0.5633911364833531,0.5394894150550582],[0.5633911364833531,0.5136950185658409],[0.5633911364833531,0.5361780321897968],[0.5633911364833531,0.9588281300335333],[0.2857071360792595,0.4064456193500644],[0.6253475074423611,0.5099695047536481],[0.6253475074423611,0.5740949414619667],[0.3606613152627028,0.514790234241478],[0.505552000201359,0.4728070530915403],[0.505552000201359,0.536240612184107],[0.505552000201359,0.5122685818150557],[0.505552000201359,0.5464230844020045],[0.6250260600779644,0.536240612184107],[0.5246538539196516,0.5452386508210396],[0.5246538539196516,0.4944859776721773],[0.5246538539196516,0.5099695047536481],[0.5246538539196516,0.536240612184107],[0.5246538539196516,0.5122685818150557],[0.514790234241478,0.5867775312032332],[0.514790234241478,0.5099695047536481],[0.514790234241478,0.5626623279479237],[0.514790234241478,0.526485522121953],[0.514790234241478,0.49486279952720796],[0.514790234241478,0.5361780321897968],[0.514790234241478,0.4944859776721773],[0.514790234241478,0.5370650191562497],[0.514790234241478,0.5504997378054004],[0.514790234241478,0.5552286786284767],[0.514790234241478,0.5740949414619667],[0.5452386508210396,0.4944859776721773],[0.5452386508210396,0.536240612184107],[0.5452386508210396,0.6933263544024936],[0.5157290950480727,0.536240612184107],[0.4064456193500644,0.526485522121953],[0.4064456193500644,0.5740949414619667],[0.520889551883568,0.5634068170329192],[0.520889551883568,0.5740949414619667],[0.520889551883568,0.5122685818150557],[0.536240612184107,0.5099695047536481],[0.536240612184107,0.5463088786435452],[0.536240612184107,0.6031201402385179],[0.536240612184107,0.42583353235201454],[0.536240612184107,0.4944859776721773],[0.536240612184107,0.49767808384000967],[0.536240612184107,0.5626623279479237],[0.536240612184107,0.41735002738141724],[0.536240612184107,0.6003428389679666],[0.536240612184107,0.4728070530915403],[0.536240612184107,0.5616667144040303],[0.536240612184107,0.5552286786284767],[0.536240612184107,0.43709106330373443],[0.536240612184107,0.46706229520447257],[0.536240612184107,0.5122685818150557],[0.536240612184107,0.5464230844020045],[0.536240612184107,0.5889245684528674],[0.536240612184107,0.5276610627423645],[0.536240612184107,0.6614460519477686],[0.536240612184107,0.526485522121953],[0.536240612184107,0.5236671470113828],[0.536240612184107,0.5634068170329192],[0.536240612184107,0.37072292887770997],[0.536240612184107,0.5136950185658409],[0.536240612184107,0.5508478538833319],[0.536240612184107,0.5361780321897968],[0.536240612184107,0.6325926162451696],[0.536240612184107,0.4963433549461358],[0.5122685818150557,0.4728070530915403],[0.5122685818150557,0.6031201402385179],[0.5122685818150557,0.41336691525866487],[0.5122685818150557,0.5394894150550582],[0.9625924107935059,0.526485522121953],[0.5907657975160127,0.5867775312032332],[0.5907657975160127,0.5947122460815304],[0.5907657975160127,0.5740949414619667],[0.6906265146245273,0.5634068170329192],[0.5867775312032332,0.5634068170329192],[0.5867775312032332,0.5740949414619667],[0.6230000188466059,0.5464230844020045],[0.6230000188466059,0.5740949414619667],[0.5276610627423645,0.5634068170329192],[0.7159231789798169,0.5464230844020045],[0.6325926162451696,0.5444641377891998],[0.6325926162451696,0.5464230844020045],[0.41336691525866487,0.5136950185658409],[0.5361780321897968,0.5634068170329192],[0.5361780321897968,0.5099695047536481],[0.5889245684528674,0.5099695047536481],[0.5889245684528674,0.526485522121953],[0.5889245684528674,0.5634068170329192],[0.5889245684528674,0.5464230844020045],[0.5889245684528674,0.5504997378054004],[0.5463088786435452,0.5099695047536481],[0.5463088786435452,0.526485522121953],[0.5463088786435452,0.5394894150550582],[0.5463088786435452,0.5464230844020045],[0.5463088786435452,0.5740949414619667],[0.5947122460815304,0.5444641377891998],[0.5947122460815304,0.5626623279479237],[0.5947122460815304,0.5740949414619667],[0.46458569856588466,0.5634068170329192],[0.46458569856588466,0.504790843525187],[0.49767808384000967,0.5099695047536481],[0.49767808384000967,0.43709106330373443],[0.49767808384000967,0.2700131113750474],[0.49767808384000967,0.5634068170329192],[0.49767808384000967,0.5464230844020045],[0.5504997378054004,0.5370650191562497],[0.5504997378054004,0.5740949414619667],[0.5626623279479237,0.5740949414619667],[0.6003428389679666,0.5634068170329192],[0.6003428389679666,0.4944859776721773],[0.6003428389679666,0.5464230844020045],[0.5616667144040303,0.5508478538833319],[0.5616667144040303,0.4944859776721773],[0.5552286786284767,0.5634068170329192],[0.5552286786284767,0.4944859776721773],[0.5767382489287531,0.5394894150550582],[0.5767382489287531,0.5464230844020045],[0.5767382489287531,0.5740949414619667],[0.4728070530915403,0.5634068170329192],[0.4728070530915403,0.46706229520447257],[0.4728070530915403,0.5136950185658409],[0.43709106330373443,0.5099695047536481],[0.6813782724605194,0.5740949414619667],[0.5464230844020045,0.49486279952720796],[0.5464230844020045,0.5236671470113828],[0.5464230844020045,0.5634068170329192],[0.5464230844020045,0.4963433549461358],[0.5099695047536481,0.5634068170329192],[0.5099695047536481,0.6031201402385179],[0.5253860734321572,0.526485522121953],[0.6031201402385179,0.5634068170329192],[0.6031201402385179,0.4944859776721773],[0.5444641377891998,0.49486279952720796],[0.5444641377891998,0.5740949414619667],[0.6663689888193578,0.5634068170329192],[0.5370650191562497,0.5740949414619667],[0.5508478538833319,0.5634068170329192],[0.6463901299267949,0.5740949414619667],[0.5732915031545474,0.5740949414619667],[0.5740949414619667,0.5847887074603303],[0.5740949414619667,0.5779624327768873],[0.5740949414619667,0.5394894150550582],[0.5740949414619667,0.5779497509936489],[0.49486279952720796,0.5394894150550582],[0.526485522121953,0.5634068170329192],[0.5634068170329192,0.5394894150550582],[0.5634068170329192,0.4963433549461358]]}},\"id\":\"9c54e07c-c00a-4299-a7da-7709fbff0734\",\"type\":\"ColumnDataSource\"},{\"attributes\":{\"overlay\":{\"id\":\"9409c9e5-a42d-4b77-b1a7-c0fc21ee8cc3\",\"type\":\"BoxAnnotation\"},\"plot\":{\"id\":\"a0968639-6eed-48fb-ab4b-aa7f9b5a59c1\",\"subtype\":\"Figure\",\"type\":\"Plot\"}},\"id\":\"b729a992-2650-44f6-9e6c-0f110244953e\",\"type\":\"BoxZoomTool\"},{\"attributes\":{\"bottom_units\":\"screen\",\"fill_alpha\":{\"value\":0.5},\"fill_color\":{\"value\":\"lightgrey\"},\"left_units\":\"screen\",\"level\":\"overlay\",\"line_alpha\":{\"value\":1.0},\"line_color\":{\"value\":\"black\"},\"line_dash\":[4,4],\"line_width\":{\"value\":2},\"plot\":null,\"render_mode\":\"css\",\"right_units\":\"screen\",\"top_units\":\"screen\"},\"id\":\"9409c9e5-a42d-4b77-b1a7-c0fc21ee8cc3\",\"type\":\"BoxAnnotation\"},{\"attributes\":{\"fill_alpha\":{\"field\":\"alpha\"},\"fill_color\":{\"field\":\"color\"},\"line_alpha\":{\"field\":\"alpha\"},\"line_color\":{\"field\":\"color\"},\"size\":{\"field\":\"size\",\"units\":\"screen\"},\"x\":{\"field\":\"x\"},\"y\":{\"field\":\"y\"}},\"id\":\"75809bf1-76ce-41bb-afe3-9cdc74594f69\",\"type\":\"Circle\"},{\"attributes\":{\"plot\":{\"id\":\"a0968639-6eed-48fb-ab4b-aa7f9b5a59c1\",\"subtype\":\"Figure\",\"type\":\"Plot\"},\"ticker\":{\"id\":\"d74f5c0e-3dab-4049-beb2-0875396c355e\",\"type\":\"BasicTicker\"}},\"id\":\"345f7bd2-3e36-4ce0-a1eb-660204500607\",\"type\":\"Grid\"},{\"attributes\":{\"plot\":{\"id\":\"a0968639-6eed-48fb-ab4b-aa7f9b5a59c1\",\"subtype\":\"Figure\",\"type\":\"Plot\"}},\"id\":\"5de0b3fe-c432-45f3-a266-1ac60e24d5e5\",\"type\":\"SaveTool\"},{\"attributes\":{\"active_drag\":\"auto\",\"active_scroll\":\"auto\",\"active_tap\":\"auto\",\"tools\":[{\"id\":\"e0a4e5f2-bfb2-4b4f-b551-56bc00694641\",\"type\":\"HoverTool\"},{\"id\":\"ac537edc-f363-4fcc-8ed0-7dde6269815f\",\"type\":\"PanTool\"},{\"id\":\"44e101f1-7bc8-4480-8ad6-2ba02a038437\",\"type\":\"TapTool\"},{\"id\":\"b729a992-2650-44f6-9e6c-0f110244953e\",\"type\":\"BoxZoomTool\"},{\"id\":\"fcb2403c-81f1-47ea-9bda-10282aeccb87\",\"type\":\"ResetTool\"},{\"id\":\"5a54f4fe-c36a-4d02-96b4-1ded91042597\",\"type\":\"WheelZoomTool\"},{\"id\":\"5de0b3fe-c432-45f3-a266-1ac60e24d5e5\",\"type\":\"SaveTool\"}]},\"id\":\"f727c2a8-08d9-4f34-a9d5-2ca1f5350ba1\",\"type\":\"Toolbar\"},{\"attributes\":{\"plot\":{\"id\":\"a0968639-6eed-48fb-ab4b-aa7f9b5a59c1\",\"subtype\":\"Figure\",\"type\":\"Plot\"}},\"id\":\"ac537edc-f363-4fcc-8ed0-7dde6269815f\",\"type\":\"PanTool\"},{\"attributes\":{},\"id\":\"738bd4e8-89cc-4a36-b544-34764a077b35\",\"type\":\"BasicTickFormatter\"},{\"attributes\":{\"line_alpha\":{\"field\":\"alphas\"},\"line_color\":{\"value\":\"navy\"},\"line_width\":{\"field\":\"width\"},\"xs\":{\"field\":\"xs\"},\"ys\":{\"field\":\"ys\"}},\"id\":\"c9e75701-42f3-456a-b2cc-75f9ab248825\",\"type\":\"MultiLine\"},{\"attributes\":{\"plot\":null,\"text\":\"Skylon\"},\"id\":\"e24fd8d8-15e7-4b22-b0c6-f1c57277f572\",\"type\":\"Title\"},{\"attributes\":{\"callback\":null},\"id\":\"9ecd3d7f-70bc-496c-9c15-7b8a7cbec198\",\"type\":\"DataRange1d\"},{\"attributes\":{\"callback\":null,\"plot\":{\"id\":\"a0968639-6eed-48fb-ab4b-aa7f9b5a59c1\",\"subtype\":\"Figure\",\"type\":\"Plot\"},\"tooltips\":[[\"country\",\"@country\"],[\"cluster\",\"@cluster\"],[\"military expenditure\",\"@military_expenditure\"],[\"largest tradepartner\",\"@largestpartner\"]]},\"id\":\"e0a4e5f2-bfb2-4b4f-b551-56bc00694641\",\"type\":\"HoverTool\"},{\"attributes\":{\"formatter\":{\"id\":\"738bd4e8-89cc-4a36-b544-34764a077b35\",\"type\":\"BasicTickFormatter\"},\"plot\":{\"id\":\"a0968639-6eed-48fb-ab4b-aa7f9b5a59c1\",\"subtype\":\"Figure\",\"type\":\"Plot\"},\"ticker\":{\"id\":\"1ee1395e-08b5-47b2-a84d-a66e5631225c\",\"type\":\"BasicTicker\"}},\"id\":\"82d5922e-35c6-40b6-8b02-88c384d01b20\",\"type\":\"LinearAxis\"},{\"attributes\":{\"plot\":{\"id\":\"a0968639-6eed-48fb-ab4b-aa7f9b5a59c1\",\"subtype\":\"Figure\",\"type\":\"Plot\"}},\"id\":\"fcb2403c-81f1-47ea-9bda-10282aeccb87\",\"type\":\"ResetTool\"},{\"attributes\":{\"data_source\":{\"id\":\"b59036ee-26c4-448e-8033-d6ccdf3ef091\",\"type\":\"ColumnDataSource\"},\"glyph\":{\"id\":\"75809bf1-76ce-41bb-afe3-9cdc74594f69\",\"type\":\"Circle\"},\"hover_glyph\":null,\"level\":\"overlay\",\"nonselection_glyph\":{\"id\":\"691d9119-e1d1-402f-9e6d-78e83edb6b60\",\"type\":\"Circle\"},\"selection_glyph\":null},\"id\":\"4480b243-ed53-4bab-9354-8af6ae390f45\",\"type\":\"GlyphRenderer\"},{\"attributes\":{\"callback\":null,\"column_names\":[\"largestpartner\",\"color\",\"country\",\"military_expenditure\",\"cluster\",\"totaltrade\",\"alpha\",\"y\",\"x\",\"size\"],\"data\":{\"alpha\":[0.6,0.6,0.6,0.2,0.6,0.6,0.6,0.6,0.6,0.2,0.2,0.6,0.2,0.6,0.6,0.6,0.2,0.6,0.6,0.6,0.6,0.6,0.6,0.6,0.2,0.6,0.6,0.6,0.6,0.2,0.6,0.2,0.6,0.6,0.6,0.6,0.6,0.6,0.2,0.6,0.6,0.6,0.6,0.6,0.6,0.6,0.6,0.6,0.6,0.6,0.6,0.6,0.6,0.6,0.6,0.6,0.6,0.6,0.6,0.6,0.6,0.6,0.6,0.6,0.6,0.2,0.6,0.6,0.6,0.2,0.6,0.6,0.6,0.6,0.6,0.6,0.6,0.6,0.6,0.6,0.6,0.2,0.6,0.6,0.6,0.6,0.2,0.6,0.6,0.2,0.6,0.6,0.6,0.6,0.6,0.2,0.6,0.2,0.2,0.6,0.6,0.6],\"cluster\":[0,0,1,1,1,0,0,2,2,0,0,2,0,2,2,2,0,2,1,3,1,0,2,2,1,3,1,0,0,4,1,3,0,2,0,3,2,2,4,1,2,0,2,1,1,1,1,0,0,0,0,2,2,1,1,0,0,2,0,3,1,1,2,2,2,1,0,2,2,1,0,0,0,0,0,0,2,2,0,2,0,3,2,2,1,2,3,2,1,1,1,3,2,2,1,1,2,1,1,2,2,0],\"color\":[\"rgb(91,147,204)\",\"rgb(91,147,204)\",\"rgb(255,46,43)\",\"rgb(255,46,43)\",\"rgb(255,46,43)\",\"rgb(91,147,204)\",\"rgb(91,147,204)\",\"rgb(145,58,31)\",\"rgb(145,58,31)\",\"rgb(91,147,204)\",\"rgb(91,147,204)\",\"rgb(145,58,31)\",\"rgb(91,147,204)\",\"rgb(145,58,31)\",\"rgb(145,58,31)\",\"rgb(145,58,31)\",\"rgb(91,147,204)\",\"rgb(145,58,31)\",\"rgb(255,46,43)\",\"rgb(151,219,79)\",\"rgb(255,46,43)\",\"rgb(91,147,204)\",\"rgb(145,58,31)\",\"rgb(145,58,31)\",\"rgb(255,46,43)\",\"rgb(151,219,79)\",\"rgb(255,46,43)\",\"rgb(91,147,204)\",\"rgb(91,147,204)\",\"rgb(41,255,25)\",\"rgb(255,46,43)\",\"rgb(151,219,79)\",\"rgb(91,147,204)\",\"rgb(145,58,31)\",\"rgb(91,147,204)\",\"rgb(151,219,79)\",\"rgb(145,58,31)\",\"rgb(145,58,31)\",\"rgb(41,255,25)\",\"rgb(255,46,43)\",\"rgb(145,58,31)\",\"rgb(91,147,204)\",\"rgb(145,58,31)\",\"rgb(255,46,43)\",\"rgb(255,46,43)\",\"rgb(255,46,43)\",\"rgb(255,46,43)\",\"rgb(91,147,204)\",\"rgb(91,147,204)\",\"rgb(91,147,204)\",\"rgb(91,147,204)\",\"rgb(145,58,31)\",\"rgb(145,58,31)\",\"rgb(255,46,43)\",\"rgb(255,46,43)\",\"rgb(91,147,204)\",\"rgb(91,147,204)\",\"rgb(145,58,31)\",\"rgb(91,147,204)\",\"rgb(151,219,79)\",\"rgb(255,46,43)\",\"rgb(255,46,43)\",\"rgb(145,58,31)\",\"rgb(145,58,31)\",\"rgb(145,58,31)\",\"rgb(255,46,43)\",\"rgb(91,147,204)\",\"rgb(145,58,31)\",\"rgb(145,58,31)\",\"rgb(255,46,43)\",\"rgb(91,147,204)\",\"rgb(91,147,204)\",\"rgb(91,147,204)\",\"rgb(91,147,204)\",\"rgb(91,147,204)\",\"rgb(91,147,204)\",\"rgb(145,58,31)\",\"rgb(145,58,31)\",\"rgb(91,147,204)\",\"rgb(145,58,31)\",\"rgb(91,147,204)\",\"rgb(151,219,79)\",\"rgb(145,58,31)\",\"rgb(145,58,31)\",\"rgb(255,46,43)\",\"rgb(145,58,31)\",\"rgb(151,219,79)\",\"rgb(145,58,31)\",\"rgb(255,46,43)\",\"rgb(255,46,43)\",\"rgb(255,46,43)\",\"rgb(151,219,79)\",\"rgb(145,58,31)\",\"rgb(145,58,31)\",\"rgb(255,46,43)\",\"rgb(255,46,43)\",\"rgb(145,58,31)\",\"rgb(255,46,43)\",\"rgb(255,46,43)\",\"rgb(145,58,31)\",\"rgb(145,58,31)\",\"rgb(91,147,204)\"],\"country\":[\"Canada\",\"Germany (FRG)\",\"Cambodia\",\"East Germany (GDR)\",\"Ethiopia\",\"Argentina\",\"Cameroon\",\"Bahrain\",\"Saudi Arabia\",\"Guinea\",\"UAE\",\"Spain\",\"Liberia\",\"Netherlands\",\"DR Congo\",\"Oman\",\"Gabon\",\"New Zealand\",\"Yemen\",\"Pakistan\",\"India\",\"Kenya\",\"South Korea\",\"Turkey\",\"Afghanistan\",\"Bangladesh\",\"Viet Nam\",\"France\",\"Rwanda\",\"Somalia\",\"Peru\",\"Laos\",\"Norway\",\"Malawi\",\"Singapore\",\"China\",\"Taiwan (ROC)\",\"Indonesia\",\"Libya\",\"Finland\",\"United States\",\"Sweden\",\"Mali\",\"Bulgaria\",\"Mauritius\",\"Romania\",\"Angola\",\"Portugal\",\"South Africa\",\"Cyprus\",\"Austria\",\"Japan\",\"Brazil\",\"Kuwait\",\"Czechoslovakia\",\"Ghana\",\"Nigeria\",\"Ecuador\",\"Brunei\",\"Australia\",\"Iran\",\"Algeria\",\"Chile\",\"Belgium\",\"Thailand\",\"Iraq\",\"Denmark\",\"Philippines\",\"Morocco\",\"Guinea-Bissau\",\"Switzerland\",\"Uruguay\",\"Tunisia\",\"Colombia\",\"Fiji\",\"Qatar\",\"Italy\",\"Sudan\",\"Venezuela\",\"Israel\",\"Zambia\",\"Papua New Guinea\",\"Zimbabwe\",\"Jordan\",\"Poland\",\"Mauritania\",\"North Korea\",\"Sri Lanka\",\"Hungary\",\"Syria\",\"Soviet Union\",\"Myanmar\",\"Mexico\",\"Egypt\",\"Nicaragua\",\"Cuba\",\"United Kingdom\",\"Congo\",\"Yugoslavia\",\"Greece\",\"Paraguay\",\"Botswana\"],\"largestpartner\":[\"Switzerland\",\"United States\",\"Soviet Union\",\"Soviet Union\",\"Soviet Union\",\"Germany (FRG)\",\"France\",\"United States\",\"United States\",\"France\",\"France\",\"United States\",\"Zambia\",\"United States\",\"Egypt\",\"United States\",\"France\",\"United States\",\"Soviet Union\",\"China\",\"Soviet Union\",\"Canada\",\"United States\",\"United States\",\"Soviet Union\",\"China\",\"Soviet Union\",\"UAE\",\"France\",\"Libya\",\"Soviet Union\",\"China\",\"Germany (FRG)\",\"United States\",\"Germany (FRG)\",\"Pakistan\",\"United States\",\"United States\",\"Egypt\",\"Soviet Union\",\"Japan\",\"Norway\",\"Egypt\",\"Soviet Union\",\"United Kingdom\",\"Soviet Union\",\"Soviet Union\",\"Germany (FRG)\",\"France\",\"France\",\"Greece\",\"United States\",\"United Kingdom\",\"Soviet Union\",\"Soviet Union\",\"Nigeria\",\"France\",\"United States\",\"France\",\"United States\",\"Soviet Union\",\"Soviet Union\",\"United Kingdom\",\"United States\",\"United States\",\"Soviet Union\",\"Germany (FRG)\",\"Italy\",\"Spain\",\"Soviet Union\",\"Germany (FRG)\",\"France\",\"France\",\"United States\",\"France\",\"France\",\"United States\",\"Egypt\",\"France\",\"United States\",\"Liberia\",\"Australia\",\"Spain\",\"United States\",\"Soviet Union\",\"United Kingdom\",\"Soviet Union\",\"United States\",\"Soviet Union\",\"Soviet Union\",\"India\",\"China\",\"United States\",\"United States\",\"Soviet Union\",\"Soviet Union\",\"Saudi Arabia\",\"Soviet Union\",\"Soviet Union\",\"United States\",\"Taiwan (ROC)\",\"United States\"],\"military_expenditure\":[\"10620.1\",\"40325.8\",\"6.0\",\"xxx\",\"467.3\",\"1109.9\",\"128.8\",\"182.9\",\"14976.8\",\"nan\",\"nan\",\"10830.7\",\"nan\",\"7565.2\",\"20.6\",\"1635.2\",\"nan\",\"1351.3\",\"1021.2\",\"2644.8\",\"10237.9\",\"576.4\",\"9185.3\",\"7072.6\",\"nan\",\"384.6\",\"1075.5\",\"38391.2\",\"62.2\",\"nan\",\"1027.2\",\"nan\",\"3042.3\",\"8.5\",\"2252.9\",\"12160.1\",\"6351.9\",\"1360.5\",\"nan\",\"1539.0\",\"306268.4\",\"4433.6\",\"32.6\",\"1968.6\",\"9.8\",\"2483.8\",\"191.7\",\"2127.2\",\"3010.0\",\"460.9\",\"1993.8\",\"23626.3\",\"9102.4\",\"10296.0\",\"5368.6\",\"11.6\",\"464.6\",\"301.4\",\"240.2\",\"7892.4\",\"2049.4\",\"354.5\",\"1162.7\",\"4580.9\",\"2155.1\",\"nan\",\"2602.5\",\"1165.3\",\"1064.5\",\"nan\",\"4455.5\",\"590.0\",\"185.3\",\"1468.9\",\"30.4\",\"1035.7\",\"20313.7\",\"650.6\",\"2832.1\",\"7426.0\",\"228.4\",\"no data\",\"91.0\",\"421.1\",\"4028.7\",\"24.7\",\"nan\",\"277.1\",\"1520.8\",\"nan\",\"148813.5\",\"282.1\",\"1533.4\",\"2028.3\",\"55.9\",\"nan\",\"35701.3\",\"nan\",\"nan\",\"3746.8\",\"154.1\",\"141.8\"],\"size\":[7.416402968757964,8.483797393285036,1.433407575382444,6.16541785423142,4.917577159765105,5.609620160126347,3.886608650936203,4.167151644317456,7.691406092875247,0.0,6.331501849893691,7.4321119785429275,1.3862943611198906,7.1450512507314405,2.4202328606364283,5.919616320007509,3.4011973816621555,5.767057896835233,5.542986948293863,6.304280581653408,7.387081439549684,5.085441491300294,7.300287727251733,7.091186753878073,7.549609165154532,4.761763066523744,5.584432758966228,8.444466836517167,3.304283999796107,2.772588722239781,5.547673546348558,2.0794415416798357,6.416295269828848,1.7120529307970167,6.175978843346478,7.524732303336444,7.005207407784001,5.772486046578641,3.828641396489095,5.871110507071104,10.105773696535119,6.717573739286971,2.7874498306981295,6.068062327356089,1.8259059085412213,6.254035939611146,4.204745320041279,6.130049471943049,6.4077562861943385,4.90654487978117,6.078238115670883,8.056092621842456,7.293034715197106,7.3916085994207705,6.870657956702207,1.9608040784898553,4.912941456269047,4.566750628953916,4.385177527716706,7.178924440076244,6.100241877092494,4.696566676777746,5.64680013253965,6.743720611482853,6.140473924138821,6.658011045870748,6.291382240391299,5.648587074863375,5.576208387466828,2.995732273553991,6.7215156536422205,5.104098029519812,4.177580906633051,5.833815280269896,2.7315540867297408,5.554266244475867,7.935240651400159,5.182316011231401,6.359019011939732,7.13019410778962,4.344878782225485,1.3862943611198906,3.60868760521348,4.834296268134306,6.640959217804192,2.5654425949071453,5.703782474656201,4.499502761495147,5.861593432939376,6.6052979209482015,9.528359298457795,4.513809294406361,5.868194216899836,6.091962626211794,3.2188515041288426,5.1298987149230735,8.38635390533645,3.784189633918261,5.8916442118257715,6.582925937067981,4.030081393860857,3.963534091278422],\"totaltrade\":[261.0,2544.0,45.0,476.0,3.0,173.0,8.0,362.0,2079.0,1.0,562.0,817.0,4.0,697.0,4.0,49.0,30.0,24.0,78.0,717.0,2719.0,42.0,1284.0,1251.0,1900.0,187.0,116.0,1764.0,1.0,16.0,97.0,8.0,462.0,11.0,575.0,1150.0,398.0,202.0,46.0,91.0,11083.0,320.0,1.0,765.0,6.0,613.0,140.0,74.0,14.0,68.0,35.0,2718.0,246.0,326.0,756.0,4.0,21.0,3.0,3.0,492.0,454.0,735.0,129.0,322.0,229.0,779.0,193.0,33.0,136.0,20.0,844.0,41.0,4.0,13.0,1.0,5.0,364.0,3.0,171.0,166.0,2.0,4.0,2.0,16.0,374.0,17.0,300.0,19.0,14.0,739.0,10445.0,266.0,34.0,581.0,102.0,169.0,1984.0,44.0,362.0,900.0,6.0,22.0],\"x\":[0.28060783275736134,0.3093496908407502,0.4904834061302964,0.43826228075454465,0.6942182598764145,0.27885854855562636,0.15771366692952857,0.2615569730077027,0.31064799882854366,0.7455564438899176,0.3499104972204816,0.3269539005898227,0.4008266086360091,0.3178806146010009,0.055436952955051855,0.21422673026257621,0.4022810324650617,0.24643918260163405,0.4357980326262157,0.35179796560460036,0.3776893492489995,0.21564530169609952,0.30747883422190947,0.28734869523508094,0.4172510434149919,0.39666427972573154,0.4565689656510316,0.3452008935103931,0.34611355774838315,0.40370514763672427,0.43913806318858717,0.5028256333876107,0.3255381104674778,0.150084476222317,0.31659291963740693,0.38479675663333796,0.2598602778929101,0.2528235944541514,0.3684920595006668,0.43115812985096696,0.29418929527477067,0.35855785460343853,0.4079713985528121,0.42325457195040783,0.160542955600851,0.3950578589076111,0.39746411731599834,0.23095602600325307,0.295572221173618,0.32032388559562586,0.3150018702825472,0.29938983116942086,0.3111980017369302,0.38067899966772556,0.41257860325297147,0.68220654065664,0.5071597499522155,0.023811744422208344,0.5331534205531413,0.30313565577420337,0.4096088632202777,0.39109040597100675,0.2930660100961499,0.2676018506039335,0.25300903429888383,0.38209650879482737,0.30379892504925976,0.2362499710401887,0.32601280596458737,0.4876856663548395,0.32241911099018683,0.3375222495884283,0.3978979671358425,0.2137294137308475,0.16596726032823295,0.5517674189198192,0.31041845009633434,0.0,0.3391055150082961,0.2822641956278838,0.41853123131341097,0.1841116296409614,0.6640245042537684,0.20704990966810502,0.3955202215628637,0.22045236944579386,0.4329764055105074,0.15246337617638758,0.5478014299892523,0.43355782429885015,0.4090720299422387,0.41257052250268417,0.1896195378380221,0.28993497787061784,0.475601725171953,0.45638109790112896,0.3254831644909382,0.5073896783510283,0.4127956517432331,0.2860617103863066,0.10434013385612549,0.1747694574424262],\"y\":[0.5765547236847173,0.5295163529258451,0.6229692495871023,0.5867941638737029,0.5985080488520168,0.4803858414910751,0.42831458726345556,0.5404126075827634,0.5582830585979017,0.34555506712202316,0.5321929123224501,0.5330254909053496,0.1654470387423515,0.5664268281798569,0.6331089381059192,0.568666646091859,0.44619859017915103,0.6625421871525392,0.6436915811320115,0.5010932958908257,0.5659448299733965,0.6186768424685815,0.5538073763471892,0.545652508624109,0.5740811537981706,0.4761642040168023,0.6110093281345295,0.5633911364833531,1.0,0.2857071360792595,0.6253475074423611,0.3606613152627028,0.505552000201359,0.6250260600779644,0.5246538539196516,0.514790234241478,0.5452386508210396,0.5157290950480727,0.4064456193500644,0.520889551883568,0.536240612184107,0.5122685818150557,0.9625924107935059,0.5907657975160127,0.6906265146245273,0.5867775312032332,0.6230000188466059,0.5276610627423645,0.7159231789798169,0.6325926162451696,0.41336691525866487,0.5361780321897968,0.5889245684528674,0.5463088786435452,0.5947122460815304,0.46458569856588466,0.504790843525187,0.42583353235201454,0.7966953414318134,0.49767808384000967,0.5504997378054004,0.5626623279479237,0.6003428389679666,0.5616667144040303,0.5552286786284767,0.5767382489287531,0.4728070530915403,0.43709106330373443,0.46706229520447257,0.6813782724605194,0.5464230844020045,0.6614460519477686,0.8217134352925736,0.37072292887770997,0.9588281300335333,0.4270653097586554,0.5099695047536481,0.5253860734321572,0.6031201402385179,0.4944859776721773,0.0,0.2700131113750474,0.6697952576735231,0.41735002738141724,0.5444641377891998,0.6663689888193578,0.5370650191562497,0.5508478538833319,0.6463901299267949,0.5732915031545474,0.5740949414619667,0.49486279952720796,0.5236671470113828,0.526485522121953,0.5779497509936489,0.5847887074603303,0.5634068170329192,0.5779624327768873,0.5394894150550582,0.5136950185658409,0.6933263544024936,0.4963433549461358]}},\"id\":\"b59036ee-26c4-448e-8033-d6ccdf3ef091\",\"type\":\"ColumnDataSource\"},{\"attributes\":{},\"id\":\"1ee1395e-08b5-47b2-a84d-a66e5631225c\",\"type\":\"BasicTicker\"},{\"attributes\":{\"below\":[{\"id\":\"7f3c2ec2-8071-4d99-a263-768d90e9d18b\",\"type\":\"LinearAxis\"}],\"left\":[{\"id\":\"82d5922e-35c6-40b6-8b02-88c384d01b20\",\"type\":\"LinearAxis\"}],\"plot_height\":500,\"plot_width\":500,\"renderers\":[{\"id\":\"7f3c2ec2-8071-4d99-a263-768d90e9d18b\",\"type\":\"LinearAxis\"},{\"id\":\"345f7bd2-3e36-4ce0-a1eb-660204500607\",\"type\":\"Grid\"},{\"id\":\"82d5922e-35c6-40b6-8b02-88c384d01b20\",\"type\":\"LinearAxis\"},{\"id\":\"5e2984c5-fefb-4818-aab3-8fddce5e4f8d\",\"type\":\"Grid\"},{\"id\":\"9409c9e5-a42d-4b77-b1a7-c0fc21ee8cc3\",\"type\":\"BoxAnnotation\"},{\"id\":\"4480b243-ed53-4bab-9354-8af6ae390f45\",\"type\":\"GlyphRenderer\"},{\"id\":\"4af303c7-c264-4995-ab8f-4ec99798d84a\",\"type\":\"GlyphRenderer\"}],\"title\":{\"id\":\"e24fd8d8-15e7-4b22-b0c6-f1c57277f572\",\"type\":\"Title\"},\"tool_events\":{\"id\":\"f8b7dbcf-16ee-489d-8594-107138b66ca1\",\"type\":\"ToolEvents\"},\"toolbar\":{\"id\":\"f727c2a8-08d9-4f34-a9d5-2ca1f5350ba1\",\"type\":\"Toolbar\"},\"x_range\":{\"id\":\"9ecd3d7f-70bc-496c-9c15-7b8a7cbec198\",\"type\":\"DataRange1d\"},\"y_range\":{\"id\":\"f72199d5-610c-400a-a85a-483bbe5cfba4\",\"type\":\"DataRange1d\"}},\"id\":\"a0968639-6eed-48fb-ab4b-aa7f9b5a59c1\",\"subtype\":\"Figure\",\"type\":\"Plot\"},{\"attributes\":{\"formatter\":{\"id\":\"30d73a49-e1da-4dbf-bec3-0410a1602ecb\",\"type\":\"BasicTickFormatter\"},\"plot\":{\"id\":\"a0968639-6eed-48fb-ab4b-aa7f9b5a59c1\",\"subtype\":\"Figure\",\"type\":\"Plot\"},\"ticker\":{\"id\":\"d74f5c0e-3dab-4049-beb2-0875396c355e\",\"type\":\"BasicTicker\"}},\"id\":\"7f3c2ec2-8071-4d99-a263-768d90e9d18b\",\"type\":\"LinearAxis\"},{\"attributes\":{\"callback\":null},\"id\":\"f72199d5-610c-400a-a85a-483bbe5cfba4\",\"type\":\"DataRange1d\"},{\"attributes\":{\"fill_alpha\":{\"value\":0.1},\"fill_color\":{\"value\":\"#1f77b4\"},\"line_alpha\":{\"value\":0.1},\"line_color\":{\"value\":\"#1f77b4\"},\"size\":{\"field\":\"size\",\"units\":\"screen\"},\"x\":{\"field\":\"x\"},\"y\":{\"field\":\"y\"}},\"id\":\"691d9119-e1d1-402f-9e6d-78e83edb6b60\",\"type\":\"Circle\"},{\"attributes\":{\"data_source\":{\"id\":\"9c54e07c-c00a-4299-a7da-7709fbff0734\",\"type\":\"ColumnDataSource\"},\"glyph\":{\"id\":\"c9e75701-42f3-456a-b2cc-75f9ab248825\",\"type\":\"MultiLine\"},\"hover_glyph\":null,\"nonselection_glyph\":{\"id\":\"ff5adf9b-ca2c-4ca9-98c3-5f5f4c929a09\",\"type\":\"MultiLine\"},\"selection_glyph\":null},\"id\":\"4af303c7-c264-4995-ab8f-4ec99798d84a\",\"type\":\"GlyphRenderer\"},{\"attributes\":{\"line_alpha\":{\"value\":0.1},\"line_color\":{\"value\":\"#1f77b4\"},\"line_width\":{\"field\":\"width\"},\"xs\":{\"field\":\"xs\"},\"ys\":{\"field\":\"ys\"}},\"id\":\"ff5adf9b-ca2c-4ca9-98c3-5f5f4c929a09\",\"type\":\"MultiLine\"},{\"attributes\":{},\"id\":\"30d73a49-e1da-4dbf-bec3-0410a1602ecb\",\"type\":\"BasicTickFormatter\"},{\"attributes\":{},\"id\":\"d74f5c0e-3dab-4049-beb2-0875396c355e\",\"type\":\"BasicTicker\"}],\"root_ids\":[\"a0968639-6eed-48fb-ab4b-aa7f9b5a59c1\"]},\"title\":\"Bokeh Application\",\"version\":\"0.12.0\"}};\n",
       "            var render_items = [{\"docid\":\"3c8abb81-7ec0-486e-b407-6d3beb590ad7\",\"elementid\":\"bb677ebb-40c1-4c87-a8a7-631dc3af6918\",\"modelid\":\"a0968639-6eed-48fb-ab4b-aa7f9b5a59c1\",\"notebook_comms_target\":\"3b4a4547-d818-46cd-9bbe-61940dec07f5\"}];\n",
       "            \n",
       "            Bokeh.embed.embed_items(docs_json, render_items);\n",
       "        });\n",
       "      },\n",
       "      function(Bokeh) {\n",
       "      }\n",
       "    ];\n",
       "  \n",
       "    function run_inline_js() {\n",
       "      for (var i = 0; i < inline_js.length; i++) {\n",
       "        inline_js[i](window.Bokeh);\n",
       "      }\n",
       "    }\n",
       "  \n",
       "    if (window._bokeh_is_loading === 0) {\n",
       "      console.log(\"Bokeh: BokehJS loaded, going straight to plotting\");\n",
       "      run_inline_js();\n",
       "    } else {\n",
       "      load_libs(js_urls, function() {\n",
       "        console.log(\"Bokeh: BokehJS plotting callback run at\", now());\n",
       "        run_inline_js();\n",
       "      });\n",
       "    }\n",
       "  }(this));\n",
       "</script>"
      ]
     },
     "metadata": {},
     "output_type": "display_data"
    },
    {
     "data": {
      "text/html": [
       "<p><code>&lt;Bokeh Notebook handle for <strong>In[91]</strong>&gt;</code></p>"
      ],
      "text/plain": [
       "<bokeh.io._CommsHandle at 0x11dd6b210>"
      ]
     },
     "execution_count": 91,
     "metadata": {},
     "output_type": "execute_result"
    }
   ],
   "source": [
    "show(plot)\n"
   ]
  },
  {
   "cell_type": "code",
   "execution_count": 90,
   "metadata": {
    "collapsed": false
   },
   "outputs": [],
   "source": [
    "plot.title = \"Skylon\"\n",
    "push_notebook()\n",
    "\n"
   ]
  },
  {
   "cell_type": "code",
   "execution_count": null,
   "metadata": {
    "collapsed": true
   },
   "outputs": [],
   "source": [
    "def AllGraphs(countrydict, militaryexpdict):\n",
    "    AllGraphsDict = dict()\n",
    "    for year in countrydict:\n",
    "        G = createYearGraph(countrydict, year, militaryexpdict)\n",
    "        layout = nx.spring_layout(G)\n",
    "        \n",
    "        AllGraphsDict[year] = [G,layout]\n",
    "        \n",
    "    return AllGraphsDict\n",
    "\n",
    "AllGraphs = AllGraphs(AddedUpDict, militaryexpdict)\n",
    "\n",
    "nodes = dict()\n",
    "edges = dict()\n",
    "\n",
    "for year in AddedUpDict:\n",
    "    \n",
    "    nodes[year] = ColumnDataSource(get_nodes_specs(AllGraphs[year][0],AllGraphs[year][1]))\n",
    "    edges[year] = ColumnDataSource(get_edges_specs(AllGraphs[year][0],AllGraphs[year][1]))\n",
    "\n",
    "year = Slider(title=\"year\", value=1950, start=1950, end=2015, step = 1)\n",
    "\n",
    "nodes_source = nodes[str(year.value)]\n",
    "edges_source = edges[str(year.value)]\n",
    "\n",
    "# Set up plot\n",
    "\n",
    "hover = HoverTool(tooltips=[('country','@country'),\n",
    "                            ('cluster','@cluster'),\n",
    "                            ('military expenditure','@military_expenditure'),\n",
    "                            ('largest tradepartner', '@largestpartner'),\n",
    "                            #('imports from', '@import'),\n",
    "                            #('exports from', '@export')\n",
    "                           ])\n",
    "\n",
    "plot = figure(plot_width=500, plot_height=500, tools=['pan','tap',hover,'box_zoom','reset','wheel_zoom','save'])\n",
    "    \n",
    "r_circles = plot.circle('x','y', source=nodes_source, size='size', color='color', level='overlay',alpha='alpha')\n",
    "r_lines = plot.multi_line('xs', 'ys', source=edges_source, line_width='width', alpha='alphas', color='navy')\n",
    "\n",
    "# Set up widgets\n",
    "\n",
    "# Set up callbacks\n",
    "\n",
    "def update_data(attrname, old, new):\n",
    "\n",
    "    # Get the current slider values\n",
    "    nodes_source = nodes[str(year.value)]\n",
    "    edges_source = edges[str(year.value)]\n",
    "    print year\n",
    "\n",
    "year.on_change('value', update_data)\n",
    "\n",
    "\n",
    "# Set up layouts and add to document\n",
    "\n",
    "curdoc().add_root(row(year, plot, width=1000))\n",
    "curdoc().title = \"Sliders\""
   ]
  }
 ],
 "metadata": {
  "anaconda-cloud": {},
  "celltoolbar": "Raw Cell Format",
  "kernelspec": {
   "display_name": "Python [Root]",
   "language": "python",
   "name": "Python [Root]"
  },
  "language_info": {
   "codemirror_mode": {
    "name": "ipython",
    "version": 2
   },
   "file_extension": ".py",
   "mimetype": "text/x-python",
   "name": "python",
   "nbconvert_exporter": "python",
   "pygments_lexer": "ipython2",
   "version": "2.7.12"
  }
 },
 "nbformat": 4,
 "nbformat_minor": 0
}
