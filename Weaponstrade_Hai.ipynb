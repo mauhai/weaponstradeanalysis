{
 "cells": [
  {
   "cell_type": "markdown",
   "metadata": {},
   "source": [
    "    Who are the suppliers and recipients of major conventional weapons?\n",
    "    What weapons have been exported or imported by specific suppliers or recipients?\n",
    "    How have the relationships between different suppliers and recipients changed over time?\n",
    "    Where do countries in conflict get their weapons from?\n",
    "    How do states implement their export control regulations?\n",
    "    Where are potentially destabilizing build ups of weapons occurring?\n",
    "    What is the relationship between access to natural resources and arms transfers?"
   ]
  },
  {
   "cell_type": "code",
   "execution_count": 1,
   "metadata": {
    "collapsed": false
   },
   "outputs": [],
   "source": [
    "import pandas as pd\n",
    "import numpy as np\n",
    "import os\n",
    "import networkx as nx\n",
    "import operator\n",
    "import matplotlib.pyplot as plt\n",
    "import community\n",
    "%matplotlib inline  \n",
    "import plotly\n",
    "from plotly.graph_objs import *\n",
    "import plotly.plotly as py\n"
   ]
  },
  {
   "cell_type": "code",
   "execution_count": 2,
   "metadata": {
    "collapsed": true
   },
   "outputs": [],
   "source": [
    "import copy"
   ]
  },
  {
   "cell_type": "markdown",
   "metadata": {},
   "source": [
    "# 1) Importing and linking the data\n",
    "\n",
    "## 1.1) Reading the CSV files into seperate clean panda dataframes"
   ]
  },
  {
   "cell_type": "code",
   "execution_count": 3,
   "metadata": {
    "collapsed": false
   },
   "outputs": [],
   "source": [
    "def loadTable(directory, country_code):\n",
    "    path = directory+'TIV-Import-'+country_code+'-1950-2015.csv'\n",
    "    df = pd.read_csv(path)\n",
    "    \n",
    "    #extract current country\n",
    "    to_country = df.columns.values.tolist()[0].split('TIV of arms exports to ')[1].split(', 1950-2015')[0]\n",
    "    \n",
    "    #downsize\n",
    "    df = df.ix[9:]\n",
    "    \n",
    "    #get rid of column\n",
    "    df = df.drop(df.columns[[0]],axis =1)\n",
    "    df.columns = df.iloc[0]\n",
    "    df.columns.values[0] = 'country'\n",
    "    df = df.set_index((df['country']))\n",
    "    df = df.drop(df.columns[0], axis=1)\n",
    "    \n",
    "    #take the data less the header row\n",
    "    df = df[1:] \n",
    "    df.index.name = None #credit to ulynn\n",
    "    df.columns.name = None\n",
    "    \n",
    "    # Format of the keys should be YEAR - COUNTRYFROM - COUNTRYTO --> Faster query over the years\n",
    "    try:\n",
    "        df.columns = df.columns.astype('string').str.replace('\\.0','')\n",
    "    except:\n",
    "        df.columns = df.columns.astype('str').str.replace('\\.0','')\n",
    "        \n",
    "    df.fillna(0, inplace=True)\n",
    "    try:\n",
    "        df.drop(df.loc['Unknown country'].name,inplace=True)\n",
    "    except:\n",
    "        \"\"\n",
    "        #print \"UNSUCCESSFUL DROP:\",'Unknown country'\n",
    "        \n",
    "    #last cleansing\n",
    "    df.drop(df.index[[-1,-2]],inplace=True)\n",
    "    df.drop(df.columns[-1], axis=1,inplace=True)\n",
    "\n",
    "    return df, to_country"
   ]
  },
  {
   "cell_type": "markdown",
   "metadata": {},
   "source": [
    "## 1.2) Convert one pandas dataframe into a structured dict"
   ]
  },
  {
   "cell_type": "code",
   "execution_count": 4,
   "metadata": {
    "collapsed": false
   },
   "outputs": [],
   "source": [
    "#FORMAT\n",
    "#[YEARS][FROM][TO] = MONEY\n",
    "def convertTableToDict(df, onecountrydict, countryTo):\n",
    "    years = list(df.columns.values)\n",
    "    listofcountries = list(df.index)\n",
    "\n",
    "    for y in range(0,len(years)):\n",
    "        year = years[y]\n",
    "        onecountrydict.setdefault(year, dict())\n",
    "        onecountrydict[year].setdefault(countryTo, dict())\n",
    "        \n",
    "        for country in range(0,len(listofcountries)):\n",
    "            countryFrom = listofcountries[country]\n",
    "            value = df.get_value(countryFrom, year)\n",
    "            onecountrydict[year][countryTo].setdefault(countryFrom, value)\n",
    "            #onecountrydict[year][countryTo].setdefault(\"Total\", 0)\n",
    "            #onecountrydict[year][countryTo][\"Total\"] += value\n",
    "            \n",
    "    return onecountrydict"
   ]
  },
  {
   "cell_type": "code",
   "execution_count": 5,
   "metadata": {
    "collapsed": true
   },
   "outputs": [],
   "source": [
    "#delete empty cells from dict\n",
    "\n",
    "def clean_empty(d):\n",
    "    if not isinstance(d, (dict, list)):\n",
    "        return d\n",
    "    if isinstance(d, list):\n",
    "        return [v for v in (clean_empty(v) for v in d) if v]\n",
    "    return {k: v for k, v in ((k, clean_empty(v)) for k, v in d.items()) if v}"
   ]
  },
  {
   "cell_type": "code",
   "execution_count": 6,
   "metadata": {
    "collapsed": false
   },
   "outputs": [],
   "source": [
    "countryImportDict = dict()\n",
    "PATH = '/Users/hai/Devproj/weaponstradeanalysis/data/'\n",
    "\n",
    "countryCodeMap = dict()\n",
    "\n",
    "for f in os.listdir(PATH):\n",
    "    if not f.startswith('.'):\n",
    "        if \"country_codes.csv\" not in f:\n",
    "            countryCode = f.replace('TIV-Import-',\"\").replace('-1950-2015.csv', \"\")\n",
    "            df,to_country = loadTable(PATH, countryCode)\n",
    "            countryImportDict = convertTableToDict(df, countryImportDict, to_country)\n",
    "            countryCodeMap.setdefault(to_country, countryCode)\n",
    "\n",
    "countryImportDict = clean_empty(countryImportDict)\n",
    "\n",
    "MultiDiDict = dict()\n",
    "for year in countryImportDict:\n",
    "    MultiDiDict.setdefault(year, dict())\n",
    "    for countryImport in countryImportDict[year]:\n",
    "        for countryExport in countryImportDict[year][countryImport]:\n",
    "            MultiDiDict[year].setdefault(countryExport, dict())\n",
    "            MultiDiDict[year][countryExport].setdefault(countryImport, 0)\n",
    "            MultiDiDict[year][countryExport][countryImport] += countryImportDict[year][countryImport][countryExport]"
   ]
  },
  {
   "cell_type": "code",
   "execution_count": 7,
   "metadata": {
    "collapsed": false
   },
   "outputs": [],
   "source": [
    "df = pd.DataFrame.from_dict(countryCodeMap, orient=\"index\")\n",
    "df.sort_index(inplace=True)\n",
    "df.to_csv('countrymap.csv')\n"
   ]
  },
  {
   "cell_type": "code",
   "execution_count": 8,
   "metadata": {
    "collapsed": true
   },
   "outputs": [],
   "source": [
    "CompleteDict = copy.deepcopy(MultiDiDict)"
   ]
  },
  {
   "cell_type": "markdown",
   "metadata": {},
   "source": [
    "## Analysis function"
   ]
  },
  {
   "cell_type": "code",
   "execution_count": 9,
   "metadata": {
    "collapsed": true
   },
   "outputs": [],
   "source": [
    "def createNeighbourGraph(G, node):\n",
    "    \n",
    "    newGraph = nx.Graph()\n",
    "    \n",
    "    for edge in G.edges(data=True):\n",
    "        if edge[0] == node or edge[1] == node:\n",
    "            newGraph.add_edge(edge[0],edge[1],edge[2])\n",
    "    \n",
    "    return newGraph"
   ]
  },
  {
   "cell_type": "code",
   "execution_count": 10,
   "metadata": {
    "collapsed": false
   },
   "outputs": [],
   "source": [
    "def addUpDict(MasterDict):\n",
    "\n",
    "    SomethingsOverwrittenDict = MasterDict\n",
    "\n",
    "    AddedUpDict = dict()\n",
    "\n",
    "    for year in SomethingsOverwrittenDict:\n",
    "        AddedUpDict.setdefault(year, dict())\n",
    "        for countryExport in SomethingsOverwrittenDict[year]:\n",
    "            for countryImport in SomethingsOverwrittenDict[year][countryExport]:\n",
    "                AddedUpDict[year].setdefault(countryExport, dict())\n",
    "                AddedUpDict[year][countryExport].setdefault(countryImport, 0)\n",
    "                Richtung = SomethingsOverwrittenDict[year][countryExport][countryImport]\n",
    "                #andere richtung verfügbar?\n",
    "                if countryImport in SomethingsOverwrittenDict[year]:\n",
    "                    if countryExport in SomethingsOverwrittenDict[year][countryImport]:\n",
    "                        andereRichtung = SomethingsOverwrittenDict[year][countryImport][countryExport]\n",
    "                    else: andereRichtung = 0\n",
    "                else: andereRichtung = 0\n",
    "                \n",
    "                #Transmitting stuff into the AddedUpDict\n",
    "                if (Richtung + andereRichtung) != 0:\n",
    "                    AddedUpDict[year][countryExport][countryImport] = Richtung + andereRichtung\n",
    "\n",
    "                #\"Clearing the MasterDict\"\n",
    "                SomethingsOverwrittenDict[year][countryExport][countryImport] = 0\n",
    "\n",
    "                if countryImport in SomethingsOverwrittenDict[year]:\n",
    "                    if countryExport in SomethingsOverwrittenDict[year][countryImport]:\n",
    "                        SomethingsOverwrittenDict[year][countryImport][countryExport] = 0\n",
    "    \n",
    "    return AddedUpDict"
   ]
  },
  {
   "cell_type": "code",
   "execution_count": 11,
   "metadata": {
    "collapsed": true
   },
   "outputs": [],
   "source": [
    "def createYearGraph(AddedUpDict, year):\n",
    "    \n",
    "    G = nx.Graph()\n",
    "    year = year\n",
    "    \n",
    "    for countryExport in AddedUpDict[year]:\n",
    "        for countryImport in AddedUpDict[year][countryExport]:\n",
    "            if AddedUpDict[year][countryExport][countryImport] != 0:\n",
    "                G.add_weighted_edges_from([(countryExport,countryImport,AddedUpDict[year][countryExport][countryImport])])\n",
    "    return G"
   ]
  },
  {
   "cell_type": "code",
   "execution_count": 12,
   "metadata": {
    "collapsed": true
   },
   "outputs": [],
   "source": [
    "def createYearMultiDiGraph(AddedUpDict, year):\n",
    "    \n",
    "    G = nx.MultiDiGraph()\n",
    "    year = year\n",
    "    \n",
    "    for countryExport in AddedUpDict[year]:\n",
    "        for countryImport in AddedUpDict[year][countryExport]:\n",
    "            if AddedUpDict[year][countryExport][countryImport] != 0:\n",
    "                G.add_weighted_edges_from([(countryExport,countryImport,AddedUpDict[year][countryExport][countryImport])])\n",
    "    return G"
   ]
  },
  {
   "cell_type": "code",
   "execution_count": null,
   "metadata": {
    "collapsed": true
   },
   "outputs": [],
   "source": []
  },
  {
   "cell_type": "code",
   "execution_count": 13,
   "metadata": {
    "collapsed": false
   },
   "outputs": [],
   "source": [
    "AddedUpDict = addUpDict(MultiDiDict)\n",
    "AddedUpDict = clean_empty(AddedUpDict)\n",
    "\n",
    "mastergraph = createYearGraph(AddedUpDict, '1960')"
   ]
  },
  {
   "cell_type": "code",
   "execution_count": 14,
   "metadata": {
    "collapsed": false
   },
   "outputs": [
    {
     "data": {
      "image/png": "[encoded data removed]",
      "text/plain": [
       "<matplotlib.figure.Figure at 0x1177d8650>"
      ]
     },
     "metadata": {},
     "output_type": "display_data"
    }
   ],
   "source": [
    "plt.gcf().clear()\n",
    "nx.draw(mastergraph,node_size=40, alpha=0.3, node_color=\"blue\", with_labels=False)\n",
    "plt.show()\n",
    "plt.rcParams['figure.figsize'] = (9, 9)"
   ]
  },
  {
   "cell_type": "code",
   "execution_count": 15,
   "metadata": {
    "collapsed": false
   },
   "outputs": [
    {
     "data": {
      "text/plain": [
       "[('United States', 0.2058827441745041),\n",
       " ('Soviet Union', 0.10335243107457322),\n",
       " ('United Kingdom', 0.08401764928272469),\n",
       " ('Germany (FRG)', 0.06642774180127158),\n",
       " ('France', 0.05371137463936625),\n",
       " ('China', 0.03492772807414171),\n",
       " ('Japan', 0.026246801014696904),\n",
       " ('Switzerland', 0.021170222074970234),\n",
       " ('India', 0.019408049392894755),\n",
       " ('Turkey', 0.018465300952745494)]"
      ]
     },
     "execution_count": 15,
     "metadata": {},
     "output_type": "execute_result"
    }
   ],
   "source": [
    "sorted(nx.pagerank_numpy(mastergraph).items(), key=operator.itemgetter(1), reverse=True)[:10]"
   ]
  },
  {
   "cell_type": "code",
   "execution_count": 16,
   "metadata": {
    "collapsed": false
   },
   "outputs": [],
   "source": [
    "data = pd.DataFrame(sorted(nx.betweenness_centrality(mastergraph).items(), key=operator.itemgetter(1), reverse=True)[:10])\n",
    "data.columns = ['country','betweenness centrality']"
   ]
  },
  {
   "cell_type": "code",
   "execution_count": 17,
   "metadata": {
    "collapsed": false
   },
   "outputs": [
    {
     "data": {
      "text/html": [
       "\n",
       "    <div class=\"bk-root\">\n",
       "        <a href=\"http://bokeh.pydata.org\" target=\"_blank\" class=\"bk-logo bk-logo-small bk-logo-notebook\"></a>\n",
       "        <span id=\"b249264a-3d22-470f-abc4-4510d8122516\">Loading BokehJS ...</span>\n",
       "    </div>"
      ]
     },
     "metadata": {},
     "output_type": "display_data"
    },
    {
     "data": {
      "application/javascript": [
       "\n",
       "(function(global) {\n",
       "  function now() {\n",
       "    return new Date();\n",
       "  }\n",
       "\n",
       "  if (typeof (window._bokeh_onload_callbacks) === \"undefined\") {\n",
       "    window._bokeh_onload_callbacks = [];\n",
       "  }\n",
       "\n",
       "  function run_callbacks() {\n",
       "    window._bokeh_onload_callbacks.forEach(function(callback) { callback() });\n",
       "    delete window._bokeh_onload_callbacks\n",
       "    console.info(\"Bokeh: all callbacks have finished\");\n",
       "  }\n",
       "\n",
       "  function load_libs(js_urls, callback) {\n",
       "    window._bokeh_onload_callbacks.push(callback);\n",
       "    if (window._bokeh_is_loading > 0) {\n",
       "      console.log(\"Bokeh: BokehJS is being loaded, scheduling callback at\", now());\n",
       "      return null;\n",
       "    }\n",
       "    if (js_urls == null || js_urls.length === 0) {\n",
       "      run_callbacks();\n",
       "      return null;\n",
       "    }\n",
       "    console.log(\"Bokeh: BokehJS not loaded, scheduling load and callback at\", now());\n",
       "    window._bokeh_is_loading = js_urls.length;\n",
       "    for (var i = 0; i < js_urls.length; i++) {\n",
       "      var url = js_urls[i];\n",
       "      var s = document.createElement('script');\n",
       "      s.src = url;\n",
       "      s.async = false;\n",
       "      s.onreadystatechange = s.onload = function() {\n",
       "        window._bokeh_is_loading--;\n",
       "        if (window._bokeh_is_loading === 0) {\n",
       "          console.log(\"Bokeh: all BokehJS libraries loaded\");\n",
       "          run_callbacks()\n",
       "        }\n",
       "      };\n",
       "      s.onerror = function() {\n",
       "        console.warn(\"failed to load library \" + url);\n",
       "      };\n",
       "      console.log(\"Bokeh: injecting script tag for BokehJS library: \", url);\n",
       "      document.getElementsByTagName(\"head\")[0].appendChild(s);\n",
       "    }\n",
       "  };\n",
       "\n",
       "  var js_urls = ['https://cdn.pydata.org/bokeh/release/bokeh-0.12.0.min.js', 'https://cdn.pydata.org/bokeh/release/bokeh-widgets-0.12.0.min.js', 'https://cdn.pydata.org/bokeh/release/bokeh-compiler-0.12.0.min.js'];\n",
       "\n",
       "  var inline_js = [\n",
       "    function(Bokeh) {\n",
       "      Bokeh.set_log_level(\"info\");\n",
       "    },\n",
       "    \n",
       "    function(Bokeh) {\n",
       "      Bokeh.$(\"#b249264a-3d22-470f-abc4-4510d8122516\").text(\"BokehJS successfully loaded\");\n",
       "    },\n",
       "    function(Bokeh) {\n",
       "      console.log(\"Bokeh: injecting CSS: https://cdn.pydata.org/bokeh/release/bokeh-0.12.0.min.css\");\n",
       "      Bokeh.embed.inject_css(\"https://cdn.pydata.org/bokeh/release/bokeh-0.12.0.min.css\");\n",
       "      console.log(\"Bokeh: injecting CSS: https://cdn.pydata.org/bokeh/release/bokeh-widgets-0.12.0.min.css\");\n",
       "      Bokeh.embed.inject_css(\"https://cdn.pydata.org/bokeh/release/bokeh-widgets-0.12.0.min.css\");\n",
       "    }\n",
       "  ];\n",
       "\n",
       "  function run_inline_js() {\n",
       "    for (var i = 0; i < inline_js.length; i++) {\n",
       "      inline_js[i](window.Bokeh);\n",
       "    }\n",
       "  }\n",
       "\n",
       "  if (window._bokeh_is_loading === 0) {\n",
       "    console.log(\"Bokeh: BokehJS loaded, going straight to plotting\");\n",
       "    run_inline_js();\n",
       "  } else {\n",
       "    load_libs(js_urls, function() {\n",
       "      console.log(\"Bokeh: BokehJS plotting callback run at\", now());\n",
       "      run_inline_js();\n",
       "    });\n",
       "  }\n",
       "}(this));"
      ]
     },
     "metadata": {},
     "output_type": "display_data"
    },
    {
     "data": {
      "text/html": [
       "\n",
       "\n",
       "    <div class=\"bk-root\">\n",
       "        <div class=\"plotdiv\" id=\"c0483930-b617-45c0-87aa-3541ca74ce6e\"></div>\n",
       "    </div>\n",
       "<script type=\"text/javascript\">\n",
       "  \n",
       "  (function(global) {\n",
       "    function now() {\n",
       "      return new Date();\n",
       "    }\n",
       "  \n",
       "    if (typeof (window._bokeh_onload_callbacks) === \"undefined\") {\n",
       "      window._bokeh_onload_callbacks = [];\n",
       "    }\n",
       "  \n",
       "    function run_callbacks() {\n",
       "      window._bokeh_onload_callbacks.forEach(function(callback) { callback() });\n",
       "      delete window._bokeh_onload_callbacks\n",
       "      console.info(\"Bokeh: all callbacks have finished\");\n",
       "    }\n",
       "  \n",
       "    function load_libs(js_urls, callback) {\n",
       "      window._bokeh_onload_callbacks.push(callback);\n",
       "      if (window._bokeh_is_loading > 0) {\n",
       "        console.log(\"Bokeh: BokehJS is being loaded, scheduling callback at\", now());\n",
       "        return null;\n",
       "      }\n",
       "      if (js_urls == null || js_urls.length === 0) {\n",
       "        run_callbacks();\n",
       "        return null;\n",
       "      }\n",
       "      console.log(\"Bokeh: BokehJS not loaded, scheduling load and callback at\", now());\n",
       "      window._bokeh_is_loading = js_urls.length;\n",
       "      for (var i = 0; i < js_urls.length; i++) {\n",
       "        var url = js_urls[i];\n",
       "        var s = document.createElement('script');\n",
       "        s.src = url;\n",
       "        s.async = false;\n",
       "        s.onreadystatechange = s.onload = function() {\n",
       "          window._bokeh_is_loading--;\n",
       "          if (window._bokeh_is_loading === 0) {\n",
       "            console.log(\"Bokeh: all BokehJS libraries loaded\");\n",
       "            run_callbacks()\n",
       "          }\n",
       "        };\n",
       "        s.onerror = function() {\n",
       "          console.warn(\"failed to load library \" + url);\n",
       "        };\n",
       "        console.log(\"Bokeh: injecting script tag for BokehJS library: \", url);\n",
       "        document.getElementsByTagName(\"head\")[0].appendChild(s);\n",
       "      }\n",
       "    };var element = document.getElementById(\"c0483930-b617-45c0-87aa-3541ca74ce6e\");\n",
       "    if (element == null) {\n",
       "      console.log(\"Bokeh: ERROR: autoload.js configured with elementid 'c0483930-b617-45c0-87aa-3541ca74ce6e' but no matching script tag was found. \")\n",
       "      return false;\n",
       "    }\n",
       "  \n",
       "    var js_urls = [];\n",
       "  \n",
       "    var inline_js = [\n",
       "      function(Bokeh) {\n",
       "        Bokeh.$(function() {\n",
       "            var docs_json = {\"adf5a8d3-aaf3-4c73-895e-63530c1d8ac4\":{\"roots\":{\"references\":[{\"attributes\":{\"fill_alpha\":{\"field\":\"fill_alpha\"},\"fill_color\":{\"field\":\"color\"},\"height\":{\"field\":\"height\",\"units\":\"data\"},\"line_color\":{\"field\":\"line_color\"},\"width\":{\"field\":\"width\",\"units\":\"data\"},\"x\":{\"field\":\"x\"},\"y\":{\"field\":\"y\"}},\"id\":\"f4e3082c-0e5a-4bd0-878e-2c334a289798\",\"type\":\"Rect\"},{\"attributes\":{\"callback\":null,\"column_names\":[\"line_color\",\"line_alpha\",\"color\",\"fill_alpha\",\"height\",\"width\",\"y\",\"x\",\"label\"],\"data\":{\"chart_index\":[{\"country\":\"Soviet Union\"}],\"color\":[\"#f22c40\"],\"country\":[\"Soviet Union\"],\"fill_alpha\":[0.8],\"height\":[0.31588222652052433],\"label\":[{\"country\":\"Soviet Union\"}],\"line_alpha\":[1.0],\"line_color\":[\"white\"],\"width\":[0.8],\"x\":[\"Soviet Union\"],\"y\":[0.15794111326026217]}},\"id\":\"255b060c-db94-4a15-9c27-09045aa8490c\",\"type\":\"ColumnDataSource\"},{\"attributes\":{\"fill_alpha\":{\"field\":\"fill_alpha\"},\"fill_color\":{\"field\":\"color\"},\"height\":{\"field\":\"height\",\"units\":\"data\"},\"line_color\":{\"field\":\"line_color\"},\"width\":{\"field\":\"width\",\"units\":\"data\"},\"x\":{\"field\":\"x\"},\"y\":{\"field\":\"y\"}},\"id\":\"460a6739-6328-4603-a01e-5d4024b69eec\",\"type\":\"Rect\"},{\"attributes\":{\"fill_alpha\":{\"field\":\"fill_alpha\"},\"fill_color\":{\"field\":\"color\"},\"height\":{\"field\":\"height\",\"units\":\"data\"},\"line_color\":{\"field\":\"line_color\"},\"width\":{\"field\":\"width\",\"units\":\"data\"},\"x\":{\"field\":\"x\"},\"y\":{\"field\":\"y\"}},\"id\":\"6235763d-0bec-4542-8c80-dca2ed22803f\",\"type\":\"Rect\"},{\"attributes\":{\"data_source\":{\"id\":\"fb9e9c01-df11-46d0-9a3d-1f22d3271844\",\"type\":\"ColumnDataSource\"},\"glyph\":{\"id\":\"bfe516ad-b4d8-4429-9efe-53b2480c8dcc\",\"type\":\"Rect\"},\"hover_glyph\":null,\"nonselection_glyph\":null,\"selection_glyph\":null},\"id\":\"9a503357-2090-4181-8824-94366674f6da\",\"type\":\"GlyphRenderer\"},{\"attributes\":{\"callback\":null,\"column_names\":[\"line_color\",\"line_alpha\",\"color\",\"fill_alpha\",\"height\",\"width\",\"y\",\"x\",\"label\"],\"data\":{\"chart_index\":[{\"country\":\"United Kingdom\"}],\"color\":[\"#5ab738\"],\"country\":[\"United Kingdom\"],\"fill_alpha\":[0.8],\"height\":[0.2855330137077056],\"label\":[{\"country\":\"United Kingdom\"}],\"line_alpha\":[1.0],\"line_color\":[\"white\"],\"width\":[0.8],\"x\":[\"United Kingdom\"],\"y\":[0.1427665068538528]}},\"id\":\"b676cf05-4600-4666-81c7-1d75dfda1210\",\"type\":\"ColumnDataSource\"},{\"attributes\":{\"callback\":null,\"column_names\":[\"line_color\",\"line_alpha\",\"color\",\"fill_alpha\",\"height\",\"width\",\"y\",\"x\",\"label\"],\"data\":{\"chart_index\":[{\"country\":\"Finland\"}],\"color\":[\"#5ab738\"],\"country\":[\"Finland\"],\"fill_alpha\":[0.8],\"height\":[0.05229048604748494],\"label\":[{\"country\":\"Finland\"}],\"line_alpha\":[1.0],\"line_color\":[\"white\"],\"width\":[0.8],\"x\":[\"Finland\"],\"y\":[0.02614524302374247]}},\"id\":\"c8617818-2380-4c9e-a9f4-7d868d708750\",\"type\":\"ColumnDataSource\"},{\"attributes\":{\"plot\":{\"id\":\"0fcbf6d0-4e00-437e-80f9-fab3ea2049ba\",\"subtype\":\"Chart\",\"type\":\"Plot\"}},\"id\":\"77ff6d66-ba92-4e12-9351-b02cca055495\",\"type\":\"SaveTool\"},{\"attributes\":{\"below\":[{\"id\":\"94b7ee7d-5992-4053-bd96-a1bee19c1006\",\"type\":\"CategoricalAxis\"}],\"left\":[{\"id\":\"01312cfe-404d-4501-ba47-a418ebdecff0\",\"type\":\"LinearAxis\"}],\"renderers\":[{\"id\":\"6f09a917-094e-4ab3-ae5a-27dad8a4ffe2\",\"type\":\"BoxAnnotation\"},{\"id\":\"a254193a-03bd-40bb-8ee4-add11c058666\",\"type\":\"GlyphRenderer\"},{\"id\":\"07000d61-93f8-4ce5-8607-59e7d01c373b\",\"type\":\"GlyphRenderer\"},{\"id\":\"258137d1-20b7-4731-881e-ff7b0210e0db\",\"type\":\"GlyphRenderer\"},{\"id\":\"85e67cde-baae-4931-bb9c-39c70ab42725\",\"type\":\"GlyphRenderer\"},{\"id\":\"9a503357-2090-4181-8824-94366674f6da\",\"type\":\"GlyphRenderer\"},{\"id\":\"ae70c6d4-9ec7-4c93-868b-9e15c47b277d\",\"type\":\"GlyphRenderer\"},{\"id\":\"5212df60-301a-4925-a006-8da7ba0c0810\",\"type\":\"GlyphRenderer\"},{\"id\":\"0a834ad8-f4cd-4b20-b210-7cbb093fc27f\",\"type\":\"GlyphRenderer\"},{\"id\":\"26ffc1d9-02af-4989-92e7-00ec8dbc67de\",\"type\":\"GlyphRenderer\"},{\"id\":\"c46ab50f-1fb1-49b2-9ee5-e23e7780ba2d\",\"type\":\"GlyphRenderer\"},{\"id\":\"94b7ee7d-5992-4053-bd96-a1bee19c1006\",\"type\":\"CategoricalAxis\"},{\"id\":\"01312cfe-404d-4501-ba47-a418ebdecff0\",\"type\":\"LinearAxis\"},{\"id\":\"ddbe2e01-f642-4cdc-9841-19f6f361cf2f\",\"type\":\"Grid\"}],\"title\":{\"id\":\"5e0da4f4-db97-4de5-9b6e-c6cff6eb7e8f\",\"type\":\"Title\"},\"tool_events\":{\"id\":\"8663c5bc-4bf8-4f07-8dcd-37c73866c327\",\"type\":\"ToolEvents\"},\"toolbar\":{\"id\":\"c9f9d921-4084-4e9d-97fa-7f0451ad7f14\",\"type\":\"Toolbar\"},\"x_mapper_type\":\"auto\",\"x_range\":{\"id\":\"e80ecda3-516d-447e-a4ba-4c503a1b182c\",\"type\":\"FactorRange\"},\"y_mapper_type\":\"auto\",\"y_range\":{\"id\":\"9459fb29-4dca-4d73-b384-c61adb8a6947\",\"type\":\"Range1d\"}},\"id\":\"0fcbf6d0-4e00-437e-80f9-fab3ea2049ba\",\"subtype\":\"Chart\",\"type\":\"Plot\"},{\"attributes\":{\"data_source\":{\"id\":\"2404d6bc-e2e6-48d3-9b15-881649e44690\",\"type\":\"ColumnDataSource\"},\"glyph\":{\"id\":\"bc1033b5-2d00-4721-91b7-67317f037e38\",\"type\":\"Rect\"},\"hover_glyph\":null,\"nonselection_glyph\":null,\"selection_glyph\":null},\"id\":\"0a834ad8-f4cd-4b20-b210-7cbb093fc27f\",\"type\":\"GlyphRenderer\"},{\"attributes\":{\"plot\":{\"id\":\"0fcbf6d0-4e00-437e-80f9-fab3ea2049ba\",\"subtype\":\"Chart\",\"type\":\"Plot\"}},\"id\":\"5180f1ba-d4f1-4420-b0c8-3676e0762bd6\",\"type\":\"HelpTool\"},{\"attributes\":{},\"id\":\"c2f14ea8-daa1-470a-99d7-ea54f8e35f1c\",\"type\":\"CategoricalTicker\"},{\"attributes\":{\"callback\":null,\"column_names\":[\"line_color\",\"line_alpha\",\"color\",\"fill_alpha\",\"height\",\"width\",\"y\",\"x\",\"label\"],\"data\":{\"chart_index\":[{\"country\":\"Belgium\"}],\"color\":[\"#f22c40\"],\"country\":[\"Belgium\"],\"fill_alpha\":[0.8],\"height\":[0.04188129899216125],\"label\":[{\"country\":\"Belgium\"}],\"line_alpha\":[1.0],\"line_color\":[\"white\"],\"width\":[0.8],\"x\":[\"Belgium\"],\"y\":[0.020940649496080627]}},\"id\":\"2404d6bc-e2e6-48d3-9b15-881649e44690\",\"type\":\"ColumnDataSource\"},{\"attributes\":{\"callback\":null,\"column_names\":[\"line_color\",\"line_alpha\",\"color\",\"fill_alpha\",\"height\",\"width\",\"y\",\"x\",\"label\"],\"data\":{\"chart_index\":[{\"country\":\"Indonesia\"}],\"color\":[\"#00ad9c\"],\"country\":[\"Indonesia\"],\"fill_alpha\":[0.8],\"height\":[0.09456693797679237],\"label\":[{\"country\":\"Indonesia\"}],\"line_alpha\":[1.0],\"line_color\":[\"white\"],\"width\":[0.8],\"x\":[\"Indonesia\"],\"y\":[0.047283468988396186]}},\"id\":\"eb362dc2-ba7f-43d8-9054-eda9c4706004\",\"type\":\"ColumnDataSource\"},{\"attributes\":{\"data_source\":{\"id\":\"c8617818-2380-4c9e-a9f4-7d868d708750\",\"type\":\"ColumnDataSource\"},\"glyph\":{\"id\":\"c128b144-07d2-4fc5-8202-6ccc3411f6db\",\"type\":\"Rect\"},\"hover_glyph\":null,\"nonselection_glyph\":null,\"selection_glyph\":null},\"id\":\"5212df60-301a-4925-a006-8da7ba0c0810\",\"type\":\"GlyphRenderer\"},{\"attributes\":{\"data_source\":{\"id\":\"d3aaabe4-0cfc-4552-a880-8f86af6d449c\",\"type\":\"ColumnDataSource\"},\"glyph\":{\"id\":\"f4e3082c-0e5a-4bd0-878e-2c334a289798\",\"type\":\"Rect\"},\"hover_glyph\":null,\"nonselection_glyph\":null,\"selection_glyph\":null},\"id\":\"85e67cde-baae-4931-bb9c-39c70ab42725\",\"type\":\"GlyphRenderer\"},{\"attributes\":{\"fill_alpha\":{\"field\":\"fill_alpha\"},\"fill_color\":{\"field\":\"color\"},\"height\":{\"field\":\"height\",\"units\":\"data\"},\"line_color\":{\"field\":\"line_color\"},\"width\":{\"field\":\"width\",\"units\":\"data\"},\"x\":{\"field\":\"x\"},\"y\":{\"field\":\"y\"}},\"id\":\"0499d323-e522-4616-acab-9190f7e69ffd\",\"type\":\"Rect\"},{\"attributes\":{\"data_source\":{\"id\":\"3838b4ad-616c-4db8-9bba-a499159ce2d6\",\"type\":\"ColumnDataSource\"},\"glyph\":{\"id\":\"6235763d-0bec-4542-8c80-dca2ed22803f\",\"type\":\"Rect\"},\"hover_glyph\":null,\"nonselection_glyph\":null,\"selection_glyph\":null},\"id\":\"a254193a-03bd-40bb-8ee4-add11c058666\",\"type\":\"GlyphRenderer\"},{\"attributes\":{\"active_drag\":\"auto\",\"active_scroll\":\"auto\",\"active_tap\":\"auto\",\"tools\":[{\"id\":\"713ce76f-3e5c-4f93-a928-fdc9bef12504\",\"type\":\"PanTool\"},{\"id\":\"1bc90abe-3c16-45df-a72d-424100d9c4c7\",\"type\":\"WheelZoomTool\"},{\"id\":\"0d114f4f-635d-43a7-aeec-cad20766c5e5\",\"type\":\"BoxZoomTool\"},{\"id\":\"77ff6d66-ba92-4e12-9351-b02cca055495\",\"type\":\"SaveTool\"},{\"id\":\"4429f569-1b2d-4c8c-923c-6ac4218232f7\",\"type\":\"ResetTool\"},{\"id\":\"5180f1ba-d4f1-4420-b0c8-3676e0762bd6\",\"type\":\"HelpTool\"}]},\"id\":\"c9f9d921-4084-4e9d-97fa-7f0451ad7f14\",\"type\":\"Toolbar\"},{\"attributes\":{\"data_source\":{\"id\":\"b676cf05-4600-4666-81c7-1d75dfda1210\",\"type\":\"ColumnDataSource\"},\"glyph\":{\"id\":\"0499d323-e522-4616-acab-9190f7e69ffd\",\"type\":\"Rect\"},\"hover_glyph\":null,\"nonselection_glyph\":null,\"selection_glyph\":null},\"id\":\"258137d1-20b7-4731-881e-ff7b0210e0db\",\"type\":\"GlyphRenderer\"},{\"attributes\":{\"dimension\":1,\"plot\":{\"id\":\"0fcbf6d0-4e00-437e-80f9-fab3ea2049ba\",\"subtype\":\"Chart\",\"type\":\"Plot\"},\"ticker\":{\"id\":\"0b9915fb-5a5a-4440-bf77-a3ff8ff23b29\",\"type\":\"BasicTicker\"}},\"id\":\"ddbe2e01-f642-4cdc-9841-19f6f361cf2f\",\"type\":\"Grid\"},{\"attributes\":{\"data_source\":{\"id\":\"255b060c-db94-4a15-9c27-09045aa8490c\",\"type\":\"ColumnDataSource\"},\"glyph\":{\"id\":\"7a7c6462-6b88-49e4-ab7e-ddd042e3b76d\",\"type\":\"Rect\"},\"hover_glyph\":null,\"nonselection_glyph\":null,\"selection_glyph\":null},\"id\":\"07000d61-93f8-4ce5-8607-59e7d01c373b\",\"type\":\"GlyphRenderer\"},{\"attributes\":{\"callback\":null,\"column_names\":[\"line_color\",\"line_alpha\",\"color\",\"fill_alpha\",\"height\",\"width\",\"y\",\"x\",\"label\"],\"data\":{\"chart_index\":[{\"country\":\"Italy\"}],\"color\":[\"#c33ff3\"],\"country\":[\"Italy\"],\"fill_alpha\":[0.8],\"height\":[0.023223750866528003],\"label\":[{\"country\":\"Italy\"}],\"line_alpha\":[1.0],\"line_color\":[\"white\"],\"width\":[0.8],\"x\":[\"Italy\"],\"y\":[0.011611875433264002]}},\"id\":\"ec0900c8-3b58-457e-95d7-a1587c2377f8\",\"type\":\"ColumnDataSource\"},{\"attributes\":{\"plot\":{\"id\":\"0fcbf6d0-4e00-437e-80f9-fab3ea2049ba\",\"subtype\":\"Chart\",\"type\":\"Plot\"}},\"id\":\"4429f569-1b2d-4c8c-923c-6ac4218232f7\",\"type\":\"ResetTool\"},{\"attributes\":{\"fill_alpha\":{\"field\":\"fill_alpha\"},\"fill_color\":{\"field\":\"color\"},\"height\":{\"field\":\"height\",\"units\":\"data\"},\"line_color\":{\"field\":\"line_color\"},\"width\":{\"field\":\"width\",\"units\":\"data\"},\"x\":{\"field\":\"x\"},\"y\":{\"field\":\"y\"}},\"id\":\"bc1033b5-2d00-4721-91b7-67317f037e38\",\"type\":\"Rect\"},{\"attributes\":{\"callback\":null,\"end\":0.5360293783297699},\"id\":\"9459fb29-4dca-4d73-b384-c61adb8a6947\",\"type\":\"Range1d\"},{\"attributes\":{},\"id\":\"4a3e58aa-58a9-442b-b47e-beb3dac80de2\",\"type\":\"BasicTickFormatter\"},{\"attributes\":{\"fill_alpha\":{\"field\":\"fill_alpha\"},\"fill_color\":{\"field\":\"color\"},\"height\":{\"field\":\"height\",\"units\":\"data\"},\"line_color\":{\"field\":\"line_color\"},\"width\":{\"field\":\"width\",\"units\":\"data\"},\"x\":{\"field\":\"x\"},\"y\":{\"field\":\"y\"}},\"id\":\"d3164cc3-b787-4a57-be8a-0759c7aa23ff\",\"type\":\"Rect\"},{\"attributes\":{\"plot\":{\"id\":\"0fcbf6d0-4e00-437e-80f9-fab3ea2049ba\",\"subtype\":\"Chart\",\"type\":\"Plot\"}},\"id\":\"1bc90abe-3c16-45df-a72d-424100d9c4c7\",\"type\":\"WheelZoomTool\"},{\"attributes\":{\"plot\":null,\"text\":\"betweenness centrality in 2009\"},\"id\":\"5e0da4f4-db97-4de5-9b6e-c6cff6eb7e8f\",\"type\":\"Title\"},{\"attributes\":{\"data_source\":{\"id\":\"26876713-45db-43d1-be35-f773734c372c\",\"type\":\"ColumnDataSource\"},\"glyph\":{\"id\":\"40aa8427-1cea-4b66-b8f2-72c844a30140\",\"type\":\"Rect\"},\"hover_glyph\":null,\"nonselection_glyph\":null,\"selection_glyph\":null},\"id\":\"c46ab50f-1fb1-49b2-9ee5-e23e7780ba2d\",\"type\":\"GlyphRenderer\"},{\"attributes\":{\"axis_label\":\"Country\",\"formatter\":{\"id\":\"7e2300fd-11ef-4c53-9ae4-8f221e63a76b\",\"type\":\"CategoricalTickFormatter\"},\"major_label_orientation\":0.7853981633974483,\"plot\":{\"id\":\"0fcbf6d0-4e00-437e-80f9-fab3ea2049ba\",\"subtype\":\"Chart\",\"type\":\"Plot\"},\"ticker\":{\"id\":\"c2f14ea8-daa1-470a-99d7-ea54f8e35f1c\",\"type\":\"CategoricalTicker\"}},\"id\":\"94b7ee7d-5992-4053-bd96-a1bee19c1006\",\"type\":\"CategoricalAxis\"},{\"attributes\":{\"plot\":{\"id\":\"0fcbf6d0-4e00-437e-80f9-fab3ea2049ba\",\"subtype\":\"Chart\",\"type\":\"Plot\"}},\"id\":\"713ce76f-3e5c-4f93-a928-fdc9bef12504\",\"type\":\"PanTool\"},{\"attributes\":{\"callback\":null,\"column_names\":[\"line_color\",\"line_alpha\",\"color\",\"fill_alpha\",\"height\",\"width\",\"y\",\"x\",\"label\"],\"data\":{\"chart_index\":[{\"country\":\"Germany (FRG)\"}],\"color\":[\"#df5320\"],\"country\":[\"Germany (FRG)\"],\"fill_alpha\":[0.8],\"height\":[0.021521938308052522],\"label\":[{\"country\":\"Germany (FRG)\"}],\"line_alpha\":[1.0],\"line_color\":[\"white\"],\"width\":[0.8],\"x\":[\"Germany (FRG)\"],\"y\":[0.010760969154026261]}},\"id\":\"26876713-45db-43d1-be35-f773734c372c\",\"type\":\"ColumnDataSource\"},{\"attributes\":{},\"id\":\"8663c5bc-4bf8-4f07-8dcd-37c73866c327\",\"type\":\"ToolEvents\"},{\"attributes\":{\"fill_alpha\":{\"field\":\"fill_alpha\"},\"fill_color\":{\"field\":\"color\"},\"height\":{\"field\":\"height\",\"units\":\"data\"},\"line_color\":{\"field\":\"line_color\"},\"width\":{\"field\":\"width\",\"units\":\"data\"},\"x\":{\"field\":\"x\"},\"y\":{\"field\":\"y\"}},\"id\":\"7a7c6462-6b88-49e4-ab7e-ddd042e3b76d\",\"type\":\"Rect\"},{\"attributes\":{\"data_source\":{\"id\":\"eb362dc2-ba7f-43d8-9054-eda9c4706004\",\"type\":\"ColumnDataSource\"},\"glyph\":{\"id\":\"460a6739-6328-4603-a01e-5d4024b69eec\",\"type\":\"Rect\"},\"hover_glyph\":null,\"nonselection_glyph\":null,\"selection_glyph\":null},\"id\":\"ae70c6d4-9ec7-4c93-868b-9e15c47b277d\",\"type\":\"GlyphRenderer\"},{\"attributes\":{\"axis_label\":\"Sum( Betweenness Centrality )\",\"formatter\":{\"id\":\"4a3e58aa-58a9-442b-b47e-beb3dac80de2\",\"type\":\"BasicTickFormatter\"},\"plot\":{\"id\":\"0fcbf6d0-4e00-437e-80f9-fab3ea2049ba\",\"subtype\":\"Chart\",\"type\":\"Plot\"},\"ticker\":{\"id\":\"0b9915fb-5a5a-4440-bf77-a3ff8ff23b29\",\"type\":\"BasicTicker\"}},\"id\":\"01312cfe-404d-4501-ba47-a418ebdecff0\",\"type\":\"LinearAxis\"},{\"attributes\":{\"callback\":null,\"column_names\":[\"line_color\",\"line_alpha\",\"color\",\"fill_alpha\",\"height\",\"width\",\"y\",\"x\",\"label\"],\"data\":{\"chart_index\":[{\"country\":\"France\"}],\"color\":[\"#407ee7\"],\"country\":[\"France\"],\"fill_alpha\":[0.8],\"height\":[0.2422281849045568],\"label\":[{\"country\":\"France\"}],\"line_alpha\":[1.0],\"line_color\":[\"white\"],\"width\":[0.8],\"x\":[\"France\"],\"y\":[0.1211140924522784]}},\"id\":\"d3aaabe4-0cfc-4552-a880-8f86af6d449c\",\"type\":\"ColumnDataSource\"},{\"attributes\":{\"bottom_units\":\"screen\",\"fill_alpha\":{\"value\":0.5},\"fill_color\":{\"value\":\"lightgrey\"},\"left_units\":\"screen\",\"level\":\"overlay\",\"line_alpha\":{\"value\":1.0},\"line_color\":{\"value\":\"black\"},\"line_dash\":[4,4],\"line_width\":{\"value\":2},\"plot\":null,\"render_mode\":\"css\",\"right_units\":\"screen\",\"top_units\":\"screen\"},\"id\":\"6f09a917-094e-4ab3-ae5a-27dad8a4ffe2\",\"type\":\"BoxAnnotation\"},{\"attributes\":{\"fill_alpha\":{\"field\":\"fill_alpha\"},\"fill_color\":{\"field\":\"color\"},\"height\":{\"field\":\"height\",\"units\":\"data\"},\"line_color\":{\"field\":\"line_color\"},\"width\":{\"field\":\"width\",\"units\":\"data\"},\"x\":{\"field\":\"x\"},\"y\":{\"field\":\"y\"}},\"id\":\"40aa8427-1cea-4b66-b8f2-72c844a30140\",\"type\":\"Rect\"},{\"attributes\":{},\"id\":\"0b9915fb-5a5a-4440-bf77-a3ff8ff23b29\",\"type\":\"BasicTicker\"},{\"attributes\":{},\"id\":\"7e2300fd-11ef-4c53-9ae4-8f221e63a76b\",\"type\":\"CategoricalTickFormatter\"},{\"attributes\":{\"callback\":null,\"factors\":[\"Belgium\",\"Finland\",\"France\",\"Germany (FRG)\",\"Indonesia\",\"Italy\",\"Soviet Union\",\"United Kingdom\",\"United States\",\"Yugoslavia\"]},\"id\":\"e80ecda3-516d-447e-a4ba-4c503a1b182c\",\"type\":\"FactorRange\"},{\"attributes\":{\"fill_alpha\":{\"field\":\"fill_alpha\"},\"fill_color\":{\"field\":\"color\"},\"height\":{\"field\":\"height\",\"units\":\"data\"},\"line_color\":{\"field\":\"line_color\"},\"width\":{\"field\":\"width\",\"units\":\"data\"},\"x\":{\"field\":\"x\"},\"y\":{\"field\":\"y\"}},\"id\":\"bfe516ad-b4d8-4429-9efe-53b2480c8dcc\",\"type\":\"Rect\"},{\"attributes\":{\"callback\":null,\"column_names\":[\"line_color\",\"line_alpha\",\"color\",\"fill_alpha\",\"height\",\"width\",\"y\",\"x\",\"label\"],\"data\":{\"chart_index\":[{\"country\":\"Yugoslavia\"}],\"color\":[\"#df5320\"],\"country\":[\"Yugoslavia\"],\"fill_alpha\":[0.8],\"height\":[0.11015874631776085],\"label\":[{\"country\":\"Yugoslavia\"}],\"line_alpha\":[1.0],\"line_color\":[\"white\"],\"width\":[0.8],\"x\":[\"Yugoslavia\"],\"y\":[0.055079373158880424]}},\"id\":\"fb9e9c01-df11-46d0-9a3d-1f22d3271844\",\"type\":\"ColumnDataSource\"},{\"attributes\":{\"fill_alpha\":{\"field\":\"fill_alpha\"},\"fill_color\":{\"field\":\"color\"},\"height\":{\"field\":\"height\",\"units\":\"data\"},\"line_color\":{\"field\":\"line_color\"},\"width\":{\"field\":\"width\",\"units\":\"data\"},\"x\":{\"field\":\"x\"},\"y\":{\"field\":\"y\"}},\"id\":\"c128b144-07d2-4fc5-8202-6ccc3411f6db\",\"type\":\"Rect\"},{\"attributes\":{\"data_source\":{\"id\":\"ec0900c8-3b58-457e-95d7-a1587c2377f8\",\"type\":\"ColumnDataSource\"},\"glyph\":{\"id\":\"d3164cc3-b787-4a57-be8a-0759c7aa23ff\",\"type\":\"Rect\"},\"hover_glyph\":null,\"nonselection_glyph\":null,\"selection_glyph\":null},\"id\":\"26ffc1d9-02af-4989-92e7-00ec8dbc67de\",\"type\":\"GlyphRenderer\"},{\"attributes\":{\"callback\":null,\"column_names\":[\"line_color\",\"line_alpha\",\"color\",\"fill_alpha\",\"height\",\"width\",\"y\",\"x\",\"label\"],\"data\":{\"chart_index\":[{\"country\":\"United States\"}],\"color\":[\"#407ee7\"],\"country\":[\"United States\"],\"fill_alpha\":[0.8],\"height\":[0.5105041698378762],\"label\":[{\"country\":\"United States\"}],\"line_alpha\":[1.0],\"line_color\":[\"white\"],\"width\":[0.8],\"x\":[\"United States\"],\"y\":[0.2552520849189381]}},\"id\":\"3838b4ad-616c-4db8-9bba-a499159ce2d6\",\"type\":\"ColumnDataSource\"},{\"attributes\":{\"overlay\":{\"id\":\"6f09a917-094e-4ab3-ae5a-27dad8a4ffe2\",\"type\":\"BoxAnnotation\"},\"plot\":{\"id\":\"0fcbf6d0-4e00-437e-80f9-fab3ea2049ba\",\"subtype\":\"Chart\",\"type\":\"Plot\"}},\"id\":\"0d114f4f-635d-43a7-aeec-cad20766c5e5\",\"type\":\"BoxZoomTool\"}],\"root_ids\":[\"0fcbf6d0-4e00-437e-80f9-fab3ea2049ba\"]},\"title\":\"Bokeh Application\",\"version\":\"0.12.0\"}};\n",
       "            var render_items = [{\"docid\":\"adf5a8d3-aaf3-4c73-895e-63530c1d8ac4\",\"elementid\":\"c0483930-b617-45c0-87aa-3541ca74ce6e\",\"modelid\":\"0fcbf6d0-4e00-437e-80f9-fab3ea2049ba\",\"notebook_comms_target\":\"9addb8f7-9976-4018-90e9-6247b3953225\"}];\n",
       "            \n",
       "            Bokeh.embed.embed_items(docs_json, render_items);\n",
       "        });\n",
       "      },\n",
       "      function(Bokeh) {\n",
       "      }\n",
       "    ];\n",
       "  \n",
       "    function run_inline_js() {\n",
       "      for (var i = 0; i < inline_js.length; i++) {\n",
       "        inline_js[i](window.Bokeh);\n",
       "      }\n",
       "    }\n",
       "  \n",
       "    if (window._bokeh_is_loading === 0) {\n",
       "      console.log(\"Bokeh: BokehJS loaded, going straight to plotting\");\n",
       "      run_inline_js();\n",
       "    } else {\n",
       "      load_libs(js_urls, function() {\n",
       "        console.log(\"Bokeh: BokehJS plotting callback run at\", now());\n",
       "        run_inline_js();\n",
       "      });\n",
       "    }\n",
       "  }(this));\n",
       "</script>"
      ]
     },
     "metadata": {},
     "output_type": "display_data"
    },
    {
     "data": {
      "text/html": [
       "<p><code>&lt;Bokeh Notebook handle for <strong>In[17]</strong>&gt;</code></p>"
      ],
      "text/plain": [
       "<bokeh.io._CommsHandle at 0x11c73aed0>"
      ]
     },
     "execution_count": 17,
     "metadata": {},
     "output_type": "execute_result"
    }
   ],
   "source": [
    "from bokeh.charts import Bar, output_notebook, show\n",
    "output_notebook()\n",
    "\n",
    "p = Bar(data, 'country', values='betweenness centrality', title=\"betweenness centrality in \"+year,color='country', legend=None)\n",
    "\n",
    "show(p)"
   ]
  },
  {
   "cell_type": "code",
   "execution_count": 18,
   "metadata": {
    "collapsed": false
   },
   "outputs": [],
   "source": [
    "#nx.draw_networkx(mastergraph, pos = spring_pos, cmap = plt.get_cmap(\"rainbow\"), node_color = bt_colors, node_size = bt_values, with_labels = False)"
   ]
  },
  {
   "cell_type": "code",
   "execution_count": 19,
   "metadata": {
    "collapsed": false
   },
   "outputs": [],
   "source": [
    "\"\"\"G = mastergraph\n",
    "pos=nx.spring_layout(G)\n",
    "\"\"\";"
   ]
  },
  {
   "cell_type": "code",
   "execution_count": 20,
   "metadata": {
    "collapsed": false
   },
   "outputs": [],
   "source": [
    "\"\"\"edge_trace = []\n",
    "\n",
    "for edge in G.edges(data=True):\n",
    "    countryFrom = edge[0]\n",
    "    countryTo = edge[1]\n",
    "    x0, y0 = pos[countryFrom]\n",
    "    x1, y1 = pos[countryTo]\n",
    "\n",
    "    edge_trace.append(\n",
    "        Scatter(\n",
    "            x=[x0, x1, None], \n",
    "            y=[y0, y1, None], \n",
    "            #text=[edge[2].values()[0]],\n",
    "            text='skip',\n",
    "            line=Line(width = (edge[2].values()[0]/100),\n",
    "                      color ='#888'\n",
    "                     ),\n",
    "            #hoverinfo=edge[2].values()[0],\n",
    "            hoverinfo='none',\n",
    "            mode='lines'\n",
    "        )\n",
    "    )\n",
    "\"\"\";"
   ]
  },
  {
   "cell_type": "code",
   "execution_count": 21,
   "metadata": {
    "collapsed": true
   },
   "outputs": [],
   "source": [
    "\"\"\"node_trace = Scatter(\n",
    "    x=[], \n",
    "    y=[], \n",
    "    text=[],\n",
    "    mode='markers', \n",
    "    hoverinfo='text',\n",
    "    marker=Marker(\n",
    "        showscale=True,\n",
    "        # colorscale options\n",
    "        # 'Greys' | 'Greens' | 'Bluered' | 'Hot' | 'Picnic' | 'Portland' |\n",
    "        # Jet' | 'RdBu' | 'Blackbody' | 'Earth' | 'Electric' | 'YIOrRd' | 'YIGnBu'\n",
    "        colorscale='YIOrRd',\n",
    "        reversescale=True,\n",
    "        color=[], \n",
    "        size=10,         \n",
    "        colorbar=dict(\n",
    "            thickness=15,\n",
    "            title='Node Connections',\n",
    "            xanchor='left',\n",
    "            titleside='right'\n",
    "        ),\n",
    "        line=dict(width=2)))\n",
    "\n",
    "for node in G.nodes():\n",
    "    x, y = pos[node]\n",
    "    node_trace['x'].append(x)\n",
    "    node_trace['y'].append(y)\n",
    "    node_trace['text'].append(str(countryCodeMap[node]))\n",
    "    \n",
    "for node, adjacencies in enumerate(G.adjacency_list()):\n",
    "    node_trace['marker']['color'].append(len(adjacencies))    \n",
    "\"\"\";"
   ]
  },
  {
   "cell_type": "code",
   "execution_count": 22,
   "metadata": {
    "collapsed": true
   },
   "outputs": [],
   "source": [
    "\"\"\"\n",
    "fig = Figure(data=Data(edge_trace+[node_trace]),\n",
    "             layout=Layout(\n",
    "                title='The Worlds Weapon Trade',\n",
    "                titlefont=dict(size=16),\n",
    "                showlegend=False, \n",
    "                width=650,\n",
    "                height=650,\n",
    "                hovermode='closest',\n",
    "                margin=dict(b=20,l=5,r=5,t=40),\n",
    "                annotations=[ dict(\n",
    "                    text=\"Datasource: SIPRI\",\n",
    "                    showarrow=False,\n",
    "                    xref=\"paper\", yref=\"paper\",\n",
    "                    x=0.005, y=-0.002 ) ],\n",
    "                xaxis=XAxis(showgrid=False, zeroline=False, showticklabels=False),\n",
    "                yaxis=YAxis(showgrid=False, zeroline=False, showticklabels=False))\n",
    "            )\n",
    "\n",
    "#py.iplot(fig, filename='weaponstrade')\n",
    "\"\"\";\n"
   ]
  },
  {
   "cell_type": "markdown",
   "metadata": {
    "collapsed": false
   },
   "source": [
    "# K-Means"
   ]
  },
  {
   "cell_type": "code",
   "execution_count": null,
   "metadata": {
    "collapsed": false
   },
   "outputs": [],
   "source": []
  },
  {
   "cell_type": "markdown",
   "metadata": {
    "collapsed": false
   },
   "source": [
    "## Cluster the nodes\n",
    "\n",
    "http://scikit-learn.org/stable/modules/clustering.html"
   ]
  },
  {
   "cell_type": "code",
   "execution_count": 23,
   "metadata": {
    "collapsed": false
   },
   "outputs": [],
   "source": [
    "#from sklearn.cluster import KMeans"
   ]
  },
  {
   "cell_type": "code",
   "execution_count": 24,
   "metadata": {
    "collapsed": false
   },
   "outputs": [],
   "source": [
    "#posdf = pd.DataFrame()\n",
    "#posdf = posdf.from_dict(pos)\n",
    "#posdf = posdf.transpose()"
   ]
  },
  {
   "cell_type": "code",
   "execution_count": 25,
   "metadata": {
    "collapsed": false,
    "scrolled": true
   },
   "outputs": [],
   "source": [
    "\"\"\"reduced_data = posdf.values\n",
    "kmeans = KMeans(init='k-means++', n_clusters=5, n_init=10)\n",
    "kmeans.fit(reduced_data)\"\"\";"
   ]
  },
  {
   "cell_type": "code",
   "execution_count": 26,
   "metadata": {
    "collapsed": false
   },
   "outputs": [],
   "source": [
    "\"\"\"#Visualization from Here http://scikit-learn.org/stable/auto_examples/cluster/plot_kmeans_digits.html\n",
    "\n",
    "# Step size of the mesh. Decrease to increase the quality of the VQ.\n",
    "h = .02     # point in the mesh [x_min, x_max]x[y_min, y_max].\n",
    "\n",
    "# Plot the decision boundary. For that, we will assign a color to each\n",
    "x_min, x_max = reduced_data[:, 0].min() - 1, reduced_data[:, 0].max() + 1\n",
    "y_min, y_max = reduced_data[:, 1].min() - 1, reduced_data[:, 1].max() + 1\n",
    "xx, yy = np.meshgrid(np.arange(x_min, x_max, h), np.arange(y_min, y_max, h))\n",
    "\n",
    "# Obtain labels for each point in mesh. Use last trained model.\n",
    "Z = kmeans.predict(np.c_[xx.ravel(), yy.ravel()])\n",
    "\n",
    "# Put the result into a color plot\n",
    "Z = Z.reshape(xx.shape)\n",
    "plt.figure(1)\n",
    "plt.clf()\n",
    "plt.imshow(Z, interpolation='nearest',\n",
    "           extent=(xx.min(), xx.max(), yy.min(), yy.max()),\n",
    "           cmap=plt.cm.Paired,\n",
    "           aspect='auto', origin='lower')\n",
    "\n",
    "plt.plot(reduced_data[:, 0], reduced_data[:, 1], 'k.', markersize=2)\n",
    "\n",
    "# Plot the centroids as a white X\n",
    "centroids = kmeans.cluster_centers_\n",
    "plt.scatter(centroids[:, 0], centroids[:, 1],\n",
    "            marker='x', s=169, linewidths=3,\n",
    "            color='w', zorder=10)\n",
    "plt.title('K-means clustering on the digits dataset (PCA-reduced data)\\n'\n",
    "          'Centroids are marked with white cross')\n",
    "plt.xlim(x_min, x_max)\n",
    "plt.ylim(y_min, y_max)\n",
    "plt.xticks(())\n",
    "plt.yticks(())\n",
    "plt.show()\"\"\";"
   ]
  },
  {
   "cell_type": "markdown",
   "metadata": {
    "collapsed": true
   },
   "source": [
    "TIL kmeans is a shitty algorithm, since it only takes X and Y into account, not good for graphs"
   ]
  },
  {
   "cell_type": "markdown",
   "metadata": {},
   "source": [
    "# Clustering using the louvain method\n",
    "\n",
    "It uses the louvain method described in Fast unfolding of communities in large networks, Vincent D Blondel, Jean-Loup Guillaume, Renaud Lambiotte, Renaud Lefebvre, Journal of Statistical Mechanics: Theory and Experiment 2008(10), P10008 (12pp)"
   ]
  },
  {
   "cell_type": "code",
   "execution_count": 27,
   "metadata": {
    "collapsed": false
   },
   "outputs": [
    {
     "data": {
      "image/png": "[encoded data removed]",
      "text/plain": [
       "<matplotlib.figure.Figure at 0x11804e710>"
      ]
     },
     "metadata": {},
     "output_type": "display_data"
    }
   ],
   "source": [
    "G = mastergraph\n",
    "\n",
    "#first compute the best partition\n",
    "partition = community.best_partition(G)\n",
    "\n",
    "#drawing\n",
    "size = float(len(set(partition.values())))\n",
    "pos = nx.spring_layout(G)\n",
    "count = 0.\n",
    "for com in set(partition.values()) :\n",
    "    count = count + 1.\n",
    "    list_nodes = [nodes for nodes in partition.keys()\n",
    "                                if partition[nodes] == com]\n",
    "    nx.draw_networkx_nodes(G, pos, list_nodes, node_size = 20,\n",
    "                                node_color = str(count / size))\n",
    "    nx.draw_networkx_edges(G,pos, alpha=0.5)\n",
    "plt.show()"
   ]
  },
  {
   "cell_type": "code",
   "execution_count": 28,
   "metadata": {
    "collapsed": false
   },
   "outputs": [
    {
     "data": {
      "image/png": "[encoded data removed]",
      "text/plain": [
       "<matplotlib.figure.Figure at 0x11c95c9d0>"
      ]
     },
     "metadata": {},
     "output_type": "display_data"
    }
   ],
   "source": [
    "n = (G.number_of_nodes())/2 \n",
    "part = dict([])\n",
    "for node in G.nodes():\n",
    "    part[node] = node\n",
    "ind = community.induced_graph(part, G)\n",
    "goal = nx.Graph()\n",
    "goal.add_weighted_edges_from([(0,1,n*n),(0,0,n*(n-1)/2), (1, 1, n*(n-1)/2)])  # NOQA\n",
    "\n",
    "#drawing\n",
    "partition = community.best_partition(goal)\n",
    "size = float(len(set(partition.values())))\n",
    "pos = nx.spring_layout(goal)\n",
    "count = 0.\n",
    "for com in set(partition.values()) :\n",
    "    count = count + 1.\n",
    "    list_nodes = [nodes for nodes in partition.keys()\n",
    "                                if partition[nodes] == com]\n",
    "    nx.draw_networkx_nodes(goal, pos, list_nodes, node_size = 20,\n",
    "                                node_color = str(count / size))\n",
    "    nx.draw_networkx_edges(goal,pos, alpha=0.5)\n",
    "plt.show()"
   ]
  },
  {
   "cell_type": "code",
   "execution_count": 29,
   "metadata": {
    "collapsed": false
   },
   "outputs": [],
   "source": [
    "colormap = dict([(0, 'rgb(91,147,204)'), (1, 'rgb(255,46,43)'),(2, 'rgb(145,58,31)'), (3, 'rgb(151,219,79)'), (4, 'rgb(41,255,25)'), (5, 'rgb(255,104,0)'), (6, 'rgb(44,20,204)'), (7, 'rgb(178,84,18)')])"
   ]
  },
  {
   "cell_type": "code",
   "execution_count": 30,
   "metadata": {
    "collapsed": true
   },
   "outputs": [],
   "source": [
    "pos3=nx.spring_layout(mastergraph, dim=3)"
   ]
  },
  {
   "cell_type": "code",
   "execution_count": 31,
   "metadata": {
    "collapsed": false,
    "scrolled": true
   },
   "outputs": [
    {
     "ename": "KeyError",
     "evalue": "'Canada'",
     "output_type": "error",
     "traceback": [
      "\u001b[0;31m---------------------------------------------------------------------------\u001b[0m",
      "\u001b[0;31mKeyError\u001b[0m                                  Traceback (most recent call last)",
      "\u001b[0;32m<ipython-input-31-263a709319fe>\u001b[0m in \u001b[0;36m<module>\u001b[0;34m()\u001b[0m\n\u001b[1;32m     30\u001b[0m                                  \u001b[0msize\u001b[0m\u001b[0;34m=\u001b[0m\u001b[0mnp\u001b[0m\u001b[0;34m.\u001b[0m\u001b[0mlog\u001b[0m\u001b[0;34m(\u001b[0m\u001b[0mtotaltrade\u001b[0m\u001b[0;34m)\u001b[0m\u001b[0;34m,\u001b[0m\u001b[0;34m\u001b[0m\u001b[0m\n\u001b[1;32m     31\u001b[0m                                  \u001b[0;31m#color=partition[node],\u001b[0m\u001b[0;34m\u001b[0m\u001b[0;34m\u001b[0m\u001b[0m\n\u001b[0;32m---> 32\u001b[0;31m                                  \u001b[0mcolor\u001b[0m\u001b[0;34m=\u001b[0m\u001b[0mcolormap\u001b[0m\u001b[0;34m[\u001b[0m\u001b[0mpartition\u001b[0m\u001b[0;34m[\u001b[0m\u001b[0mnode\u001b[0m\u001b[0;34m]\u001b[0m\u001b[0;34m]\u001b[0m\u001b[0;34m,\u001b[0m\u001b[0;34m\u001b[0m\u001b[0m\n\u001b[0m\u001b[1;32m     33\u001b[0m                                  \u001b[0mshowscale\u001b[0m\u001b[0;34m=\u001b[0m\u001b[0mFalse\u001b[0m\u001b[0;34m,\u001b[0m\u001b[0;34m\u001b[0m\u001b[0m\n\u001b[1;32m     34\u001b[0m                                  \u001b[0mcmin\u001b[0m \u001b[0;34m=\u001b[0m \u001b[0;36m0\u001b[0m\u001b[0;34m,\u001b[0m\u001b[0;34m\u001b[0m\u001b[0m\n",
      "\u001b[0;31mKeyError\u001b[0m: 'Canada'"
     ]
    }
   ],
   "source": [
    "trace1 = []\n",
    "for edge in G.edges(data=True):\n",
    "    trace1.append(\n",
    "        Scatter3d(x=[pos3[edge[0]][0],pos3[edge[1]][0], None],\n",
    "                  y=[pos3[edge[0]][1],pos3[edge[1]][1], None],\n",
    "                   z=[pos3[edge[0]][2],pos3[edge[1]][2], None],\n",
    "                   mode='lines',\n",
    "                   line=Line(color='rgb(125,125,125)',\n",
    "                             width=(np.log(edge[2].values()[0])),\n",
    "                             colorscale = 'Bluered'),\n",
    "                   hoverinfo='none',\n",
    "                   opacity=0.7\n",
    "                   )\n",
    "        )\n",
    "\n",
    "trace2 = []\n",
    "for node in G.nodes():\n",
    "    totaltrade = 0\n",
    "    for edge in G.edges(data=True):\n",
    "        if edge[0] == node or edge[1] == node:\n",
    "            totaltrade += edge[2].values()[0]\n",
    "            \n",
    "    trace2.append(\n",
    "        Scatter3d(x=pos3[node][0],\n",
    "                  y=pos3[node][1],\n",
    "                   z=pos3[node][2],\n",
    "                   mode='markers',\n",
    "                   name='Country',\n",
    "                   marker=Marker(symbol='dot',\n",
    "                                 size=np.log(totaltrade),\n",
    "                                 #color=partition[node],\n",
    "                                 color=colormap[partition[node]],\n",
    "                                 showscale=False,\n",
    "                                 cmin = 0,\n",
    "                                 cmax = 4,\n",
    "                                    # colorscale options\n",
    "                                    # 'Greys' | 'Greens' | 'Bluered' | 'Hot' | 'Picnic' | 'Portland' |\n",
    "                                    # Jet' | 'RdBu' | 'Blackbody' | 'Earth' | 'Electric' | 'YIOrRd' | 'YIGnBu'\n",
    "                                 colorscale='Electric',\n",
    "                                 line=Line(color='rgb(50,50,50)', width=0.5)                                 ),\n",
    "                   #text=str(countryCodeMap[node]),\n",
    "                   text=str(node),\n",
    "                   hoverinfo='text',\n",
    "                   opacity=0.7\n",
    "                   )\n",
    "        )"
   ]
  },
  {
   "cell_type": "code",
   "execution_count": null,
   "metadata": {
    "collapsed": true
   },
   "outputs": [],
   "source": [
    "axis=dict(showbackground=False,\n",
    "          showline=False,\n",
    "          zeroline=False,\n",
    "          showgrid=True,\n",
    "          showticklabels=False,\n",
    "          title=''\n",
    "          )"
   ]
  },
  {
   "cell_type": "code",
   "execution_count": null,
   "metadata": {
    "collapsed": true
   },
   "outputs": [],
   "source": [
    "layout = Layout(\n",
    "         title=\"Global Weapontrade\",\n",
    "         width=800,\n",
    "         height=800,\n",
    "         showlegend=False,\n",
    "         scene=Scene(\n",
    "             xaxis=XAxis(axis),\n",
    "             yaxis=YAxis(axis),\n",
    "             zaxis=ZAxis(axis),\n",
    "        ),\n",
    "    margin=Margin(\n",
    "        t=100\n",
    "    ),\n",
    "    hovermode='closest',\n",
    "    annotations=Annotations([\n",
    "           Annotation(\n",
    "           showarrow=False,\n",
    "            text=\"SIPRI\",\n",
    "            xref='paper',\n",
    "            yref='paper',\n",
    "            x=0,\n",
    "            y=0.1,\n",
    "            xanchor='left',\n",
    "            yanchor='bottom',\n",
    "            font=Font(\n",
    "                size=14\n",
    "            )\n",
    "            )\n",
    "        ]),\n",
    ")\n"
   ]
  },
  {
   "cell_type": "code",
   "execution_count": null,
   "metadata": {
    "collapsed": false
   },
   "outputs": [],
   "source": [
    "#data=Data(trace1+trace2)\n",
    "#fig=Figure(data=data, layout=layout)\n",
    "\n",
    "#py.iplot(fig, filename='Weapontrade')"
   ]
  },
  {
   "cell_type": "code",
   "execution_count": null,
   "metadata": {
    "collapsed": false
   },
   "outputs": [],
   "source": [
    "print nx.info(G)"
   ]
  },
  {
   "cell_type": "code",
   "execution_count": null,
   "metadata": {
    "collapsed": true
   },
   "outputs": [],
   "source": [
    "test = createNeighbourGraph(G, 'Saudi Arabia')"
   ]
  },
  {
   "cell_type": "code",
   "execution_count": null,
   "metadata": {
    "collapsed": false
   },
   "outputs": [],
   "source": [
    "plt.gcf().clear()\n",
    "nx.draw(test,node_size=40, alpha=0.3, node_color=\"blue\", with_labels=True)\n",
    "plt.show()\n",
    "plt.rcParams['figure.figsize'] = (9, 9)"
   ]
  },
  {
   "cell_type": "code",
   "execution_count": null,
   "metadata": {
    "collapsed": true
   },
   "outputs": [],
   "source": [
    "completeGraph = createYearMultiDiGraph(CompleteDict, '1990')"
   ]
  },
  {
   "cell_type": "code",
   "execution_count": null,
   "metadata": {
    "collapsed": false
   },
   "outputs": [],
   "source": [
    "plt.gcf().clear()\n",
    "nx.draw(completeGraph,node_size=40, alpha=0.3, node_color=\"blue\", with_labels=False)\n",
    "plt.show()\n",
    "plt.rcParams['figure.figsize'] = (9, 9)"
   ]
  },
  {
   "cell_type": "code",
   "execution_count": null,
   "metadata": {
    "collapsed": false
   },
   "outputs": [],
   "source": [
    "#completeGraph.edges(data = True)"
   ]
  },
  {
   "cell_type": "code",
   "execution_count": null,
   "metadata": {
    "collapsed": true
   },
   "outputs": [],
   "source": [
    "## Analyze countries influence over time"
   ]
  },
  {
   "cell_type": "markdown",
   "metadata": {
    "collapsed": false
   },
   "source": [
    "def influenceOverTime(countrydict,country):\n",
    "    influence = dict()\n",
    "    for year in countrydict:\n",
    "        G = createYearGraph(countrydict, year)\n",
    "        valuethisyear = 0\n",
    "        for entry in nx.betweenness_centrality(G).items():\n",
    "            if entry[0] == country:\n",
    "                valuethisyear = entry[1]\n",
    "        influence[year] = valuethisyear\n",
    "    return influence"
   ]
  },
  {
   "cell_type": "markdown",
   "metadata": {},
   "source": [
    "# Influence Analysis"
   ]
  },
  {
   "cell_type": "code",
   "execution_count": null,
   "metadata": {
    "collapsed": false
   },
   "outputs": [],
   "source": [
    "from bokeh.plotting import figure, output_notebook, show\n",
    "from bokeh.io import output_notebook\n",
    "\n",
    "from bokeh.models import ColumnDataSource,HoverTool\n",
    "output_notebook()"
   ]
  },
  {
   "cell_type": "code",
   "execution_count": null,
   "metadata": {
    "collapsed": false
   },
   "outputs": [],
   "source": [
    "def influenceOverTimeAll(countrydict):\n",
    "    influenceAll = dict()\n",
    "    for year in countrydict:\n",
    "        G = createYearGraph(countrydict, year)\n",
    "        for entry in nx.betweenness_centrality(G).items():\n",
    "            if entry[0] in influenceAll:\n",
    "                influenceAll[entry[0]][year] = entry[1]\n",
    "            else:\n",
    "                influenceAll.setdefault(entry[0], dict())\n",
    "                influenceAll[entry[0]][year] = entry[1]\n",
    "    return influenceAll"
   ]
  },
  {
   "cell_type": "code",
   "execution_count": null,
   "metadata": {
    "collapsed": false
   },
   "outputs": [],
   "source": [
    "def generateInfluenceTimelines(plot,influencedict, countries):\n",
    "    from bokeh.palettes import Spectral10\n",
    "    d = dict(x=[], y=[],country=[], color=[])\n",
    "    color = copy.copy(Spectral10)\n",
    "    for country in countries:\n",
    "        countrycolor = color[0]\n",
    "        color.remove(countrycolor)\n",
    "        line = dict(xe=[], ye=[])\n",
    "        for entry in sorted(influencedict[country].items(), key=operator.itemgetter(0)):\n",
    "            d['x'].append(entry[0])\n",
    "            d['y'].append(entry[1])\n",
    "            d['country'].append(country)\n",
    "            d['color'].append(countrycolor)\n",
    "            line['xe'].append(entry[0])\n",
    "            line['ye'].append(entry[1])\n",
    "        plot.line(line['xe'], line['ye'], color=countrycolor)\n",
    "    \n",
    "    s1 = plot.scatter('x', 'y', line_width=1, color = 'color', source=ColumnDataSource(d))\n",
    "    plot.add_tools(HoverTool(renderers=[s1], tooltips=[('y','@y'),\n",
    "                                                    ('year','@x'),\n",
    "                                                    ('country','@country')]))\n",
    "\n",
    "    return plot"
   ]
  },
  {
   "cell_type": "code",
   "execution_count": null,
   "metadata": {
    "collapsed": false
   },
   "outputs": [],
   "source": []
  },
  {
   "cell_type": "code",
   "execution_count": null,
   "metadata": {
    "collapsed": false
   },
   "outputs": [],
   "source": [
    "influencedict = influenceOverTimeAll(AddedUpDict)\n",
    "\n",
    "\n",
    "plot = figure(plot_width=600, plot_height=400, tools=['pan','tap','box_zoom','reset','wheel_zoom'])\n",
    "\n",
    "countriestoanalyze = ['Canada', 'United States', 'China']\n",
    "\n",
    "plot = generateInfluenceTimelines(plot,influencedict,countriestoanalyze)\n"
   ]
  },
  {
   "cell_type": "code",
   "execution_count": null,
   "metadata": {
    "collapsed": false
   },
   "outputs": [],
   "source": [
    "plot.yaxis.bounds = [0,1]\n",
    "plot.xaxis.bounds = [1950,2015]\n",
    "plot.x_range.start =1950\n",
    "plot.x_range.end =2015\n",
    "plot.y_range.start =0\n",
    "plot.y_range.end =1\n",
    "show(plot)\n"
   ]
  },
  {
   "cell_type": "markdown",
   "metadata": {},
   "source": [
    "## New Visualization"
   ]
  },
  {
   "cell_type": "code",
   "execution_count": null,
   "metadata": {
    "collapsed": true
   },
   "outputs": [],
   "source": [
    "from math import sqrt\n",
    "from bokeh.models import ColumnDataSource"
   ]
  },
  {
   "cell_type": "code",
   "execution_count": null,
   "metadata": {
    "collapsed": false
   },
   "outputs": [],
   "source": [
    "from bokeh.plotting import figure,show\n",
    "from bokeh.io import output_notebook\n",
    "from bokeh.models import HoverTool\n",
    "\n",
    "output_notebook()\n",
    "layout = nx.spring_layout(G,iterations = 100)"
   ]
  },
  {
   "cell_type": "code",
   "execution_count": null,
   "metadata": {
    "collapsed": true
   },
   "outputs": [],
   "source": [
    "def get_nodes_specs(_network, _layout):\n",
    "    d = dict(x=[], y=[], color=[], country=[], size=[], totaltrade =[], cluster=[], alpha=[], largestpartner=[])\n",
    "    \n",
    "    for node in _network.nodes():\n",
    "        totaltrade = 0\n",
    "        largest_trade_partner_trade = 0\n",
    "        largest_trade_partner_name = ''  \n",
    "        \n",
    "        for edge in G.edges(data=True):\n",
    "                if edge[0] == node or edge[1] == node:\n",
    "                    totaltrade += edge[2].values()[0]\n",
    "                    if edge[2].values()[0] >= largest_trade_partner_trade:\n",
    "                        largest_trade_partner_trade = edge[2].values()[0]\n",
    "                        if edge[0] == node:\n",
    "                            largest_trade_partner_name = edge[1]\n",
    "                        else:\n",
    "                            largest_trade_partner_name = edge[0] \n",
    "\n",
    "        d['x'].append(_layout[node][0])\n",
    "        d['y'].append(_layout[node][1])\n",
    "        d['color'].append(colormap[partition[node]])\n",
    "        d['country'].append(node)\n",
    "        d['size'].append(np.log(totaltrade))\n",
    "        d['totaltrade'].append(totaltrade)\n",
    "        d['cluster'].append(partition[node])\n",
    "        d['alpha'].append(0.7)\n",
    "        d['largestpartner'].append(largest_trade_partner_name)\n",
    "    return d"
   ]
  },
  {
   "cell_type": "code",
   "execution_count": null,
   "metadata": {
    "collapsed": true
   },
   "outputs": [],
   "source": [
    "def get_edges_specs(_network, _layout):\n",
    "    d = dict(xs=[], ys=[], alphas=[], width=[])\n",
    "    weights = []\n",
    "    for u, v, data in _network.edges(data=True):\n",
    "        weights.append(data)\n",
    "    max_weight = max(weights).values()\n",
    "    calc_alpha = lambda h: 0.1 + 0.6 * (h / max_weight)\n",
    "    for u, v, data in _network.edges(data=True):\n",
    "        d['xs'].append([_layout[u][0], _layout[v][0]])\n",
    "        d['ys'].append([_layout[u][1], _layout[v][1]])\n",
    "        d['alphas'].append(calc_alpha(data['weight']))\n",
    "        d['width'].append(np.log(data.values()[0]))\n",
    "    \n",
    "    return d"
   ]
  },
  {
   "cell_type": "code",
   "execution_count": null,
   "metadata": {
    "collapsed": false
   },
   "outputs": [],
   "source": [
    "hover = HoverTool(tooltips=[('country','@country'),\n",
    "                            ('cluster','@cluster'),\n",
    "                            ('total trade','@totaltrade'),\n",
    "                            ('largest tradepartner', '@largestpartner')])\n",
    "\n",
    "plot = figure(plot_width=600, plot_height=400, tools=['pan','tap',hover,'box_zoom','reset','wheel_zoom'])\n",
    "\n",
    "r_circles = plot.circle('x','y', source=ColumnDataSource(get_nodes_specs(G, layout)), size='size', color='color', level='overlay')\n",
    "r_lines = plot.multi_line('xs', 'ys', line_width='width', alpha='alphas', color='navy', source=ColumnDataSource(get_edges_specs(G, layout)))\n"
   ]
  },
  {
   "cell_type": "code",
   "execution_count": null,
   "metadata": {
    "collapsed": false
   },
   "outputs": [],
   "source": [
    "show(plot)"
   ]
  },
  {
   "cell_type": "code",
   "execution_count": null,
   "metadata": {
    "collapsed": false
   },
   "outputs": [],
   "source": []
  },
  {
   "cell_type": "code",
   "execution_count": null,
   "metadata": {
    "collapsed": true
   },
   "outputs": [],
   "source": [
    "centrality =\\\n",
    "    nx.algorithms.centrality.betweenness_centrality(G)\n",
    "# first element are nodes again\n",
    "_, nodes_centrality = zip(*sorted(centrality.items()))\n",
    "max_centraliy = max(nodes_centrality)\n",
    "nodes_source.add([7 + 10 * t / max_centraliy\n",
    "                  for t in nodes_centrality],\n",
    "                 'centrality')"
   ]
  },
  {
   "cell_type": "code",
   "execution_count": null,
   "metadata": {
    "collapsed": true
   },
   "outputs": [],
   "source": [
    "partition = community.best_partition(G)\n",
    "p_, nodes_community = zip(*sorted(partition.items()))\n",
    "nodes_source.add(nodes_community, 'community')\n",
    "community_colors = ['#e41a1c','#377eb8', '#4daf4a','#984ea3','#ff7f00','#ffff33','#a65628', '#b3cde3','#ccebc5','#decbe4','#fed9a6','#ffffcc','#e5d8bd','#fddaec','#1b9e77','#d95f02','#7570b3','#e7298a','#66a61e','#e6ab02','#a6761d','#666666']\n",
    "nodes_source.add([community_colors[t % len(community_colors)]\n",
    "                  for t in nodes_community],\n",
    "                 'community_color')"
   ]
  },
  {
   "cell_type": "code",
   "execution_count": null,
   "metadata": {
    "collapsed": true
   },
   "outputs": [],
   "source": [
    "r_circles.glyph.size = 'centrality'\n",
    "r_circles.glyph.fill_color = 'community_color'"
   ]
  },
  {
   "cell_type": "code",
   "execution_count": null,
   "metadata": {
    "collapsed": false
   },
   "outputs": [],
   "source": [
    "ColumnDataSource.selected\n",
    "{\n",
    " # line or patch glyph selections\n",
    " '0d': {'get_view': {}, 'glyph': None,\n",
    "        'indices': []},\n",
    " # all other glyph selections\n",
    " '1d': {'indices': [73]},\n",
    " # [multi]line or patch selections\n",
    " '2d': {'indices': []}\n",
    "}"
   ]
  },
  {
   "cell_type": "code",
   "execution_count": null,
   "metadata": {
    "collapsed": true
   },
   "outputs": [],
   "source": [
    "def remove_node():\n",
    "    idx = nodes_source.selected['1d']['indices'][0]\n",
    "    \n",
    "    # update networkX network\n",
    "    node = nodes_source.data['name'][idx]\n",
    "    G.remove_node(node)\n",
    "    \n",
    "    # update layout\n",
    "    layout.pop(node)\n",
    "    \n",
    "    # update nodes ColumnDataSource\n",
    "    new_source_data = dict()\n",
    "    for column in nodes_source.column_names:\n",
    "        new_source_data[column] =\\\n",
    "        [e for i, e in enumerate(nodes_source.data[column])\n",
    "         if i != idx]\n",
    "    nodes_source.data = new_source_data\n",
    "\n",
    "    # update lines ColumnDataSource\n",
    "    lines_source.data = get_edges_specs(G, layout)"
   ]
  },
  {
   "cell_type": "code",
   "execution_count": null,
   "metadata": {
    "collapsed": false
   },
   "outputs": [],
   "source": []
  },
  {
   "cell_type": "code",
   "execution_count": null,
   "metadata": {
    "collapsed": true
   },
   "outputs": [],
   "source": [
    "# analyze weapon trade before/during/after conflict\n",
    "# weapon flow democratic vs republican leadership #germany\n"
   ]
  },
  {
   "cell_type": "code",
   "execution_count": null,
   "metadata": {
    "collapsed": true
   },
   "outputs": [],
   "source": []
  }
 ],
 "metadata": {
  "anaconda-cloud": {},
  "celltoolbar": "Raw Cell Format",
  "kernelspec": {
   "display_name": "Python [Root]",
   "language": "python",
   "name": "Python [Root]"
  },
  "language_info": {
   "codemirror_mode": {
    "name": "ipython",
    "version": 2
   },
   "file_extension": ".py",
   "mimetype": "text/x-python",
   "name": "python",
   "nbconvert_exporter": "python",
   "pygments_lexer": "ipython2",
   "version": "2.7.12"
  }
 },
 "nbformat": 4,
 "nbformat_minor": 0
}
