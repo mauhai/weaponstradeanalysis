{
 "cells": [
  {
   "cell_type": "code",
   "execution_count": 1,
   "metadata": {
    "collapsed": true
   },
   "outputs": [],
   "source": [
    "## DISPLAY ALL nodes and edges, but remove those which are not in the filter (see movies)"
   ]
  },
  {
   "cell_type": "markdown",
   "metadata": {},
   "source": [
    "    Who are the suppliers and recipients of major conventional weapons?\n",
    "    What weapons have been exported or imported by specific suppliers or recipients?\n",
    "    How have the relationships between different suppliers and recipients changed over time?\n",
    "    Where do countries in conflict get their weapons from?\n",
    "    How do states implement their export control regulations?\n",
    "    Where are potentially destabilizing build ups of weapons occurring?\n",
    "    What is the relationship between access to natural resources and arms transfers?"
   ]
  },
  {
   "cell_type": "markdown",
   "metadata": {},
   "source": [
    "Ideas for Data dashboard:\n",
    "\n",
    "Able to select graph and look at data inflow and outflow of each country during that time"
   ]
  },
  {
   "cell_type": "code",
   "execution_count": 2,
   "metadata": {
    "collapsed": false
   },
   "outputs": [],
   "source": [
    "import pandas as pd\n",
    "import numpy as np\n",
    "import os\n",
    "import networkx as nx\n",
    "import operator\n",
    "import matplotlib.pyplot as plt\n",
    "import community\n",
    "%matplotlib inline  \n",
    "import plotly\n",
    "from plotly.graph_objs import *\n",
    "import plotly.plotly as py\n",
    "import math\n",
    "import copy\n",
    "import seaborn as sns\n"
   ]
  },
  {
   "cell_type": "code",
   "execution_count": 3,
   "metadata": {
    "collapsed": true
   },
   "outputs": [],
   "source": [
    "from bokeh.plotting import figure, output_notebook, show\n",
    "from bokeh.models import ColumnDataSource,HoverTool\n"
   ]
  },
  {
   "cell_type": "markdown",
   "metadata": {},
   "source": [
    "# 1) Importing and linking the data\n",
    "\n",
    "## 1.1) Reading the CSV files into seperate clean panda dataframes"
   ]
  },
  {
   "cell_type": "code",
   "execution_count": 4,
   "metadata": {
    "collapsed": false
   },
   "outputs": [],
   "source": [
    "def loadTable(directory, country_code):\n",
    "    path = directory+'TIV-Import-'+country_code+'-1950-2015.csv'\n",
    "    df = pd.read_csv(path)\n",
    "    \n",
    "    #extract current country\n",
    "    to_country = df.columns.values.tolist()[0].split('TIV of arms exports to ')[1].split(', 1950-2015')[0]\n",
    "    \n",
    "    #downsize\n",
    "    df = df.ix[9:]\n",
    "    \n",
    "    #get rid of column\n",
    "    df = df.drop(df.columns[[0]],axis =1)\n",
    "    df.columns = df.iloc[0]\n",
    "    df.columns.values[0] = 'country'\n",
    "    df = df.set_index((df['country']))\n",
    "    df = df.drop(df.columns[0], axis=1)\n",
    "    \n",
    "    #take the data less the header row\n",
    "    df = df[1:] \n",
    "    df.index.name = None #credit to ulynn\n",
    "    df.columns.name = None\n",
    "    \n",
    "    # Format of the keys should be YEAR - COUNTRYFROM - COUNTRYTO --> Faster query over the years\n",
    "\n",
    "    df.columns = df.columns.astype('str').str.replace('\\.0','')\n",
    "        \n",
    "    df.fillna(0, inplace=True)\n",
    "    try:\n",
    "        df.drop(df.loc['Unknown country'].name,inplace=True)\n",
    "    except:\n",
    "        \"\"\n",
    "        \n",
    "    #last cleansing\n",
    "    df.drop(df.index[[-1,-2]],inplace=True)\n",
    "    df.drop(df.columns[-1], axis=1,inplace=True)\n",
    "\n",
    "    return df, to_country"
   ]
  },
  {
   "cell_type": "markdown",
   "metadata": {},
   "source": [
    "## 1.2) Convert one pandas dataframe into a structured dict"
   ]
  },
  {
   "cell_type": "code",
   "execution_count": 5,
   "metadata": {
    "collapsed": false
   },
   "outputs": [],
   "source": [
    "#FORMAT\n",
    "#[YEARS][FROM][TO] = MONEY\n",
    "def convertTableToDict(df, onecountrydict, countryTo):\n",
    "    years = list(df.columns.values)\n",
    "    countries = list(df.index)\n",
    "    \n",
    "    for year in years:\n",
    "        onecountrydict.setdefault(year, dict())\n",
    "        onecountrydict[year].setdefault(countryTo, dict())\n",
    "        \n",
    "        for country in countries:\n",
    "            value = df.get_value(country, year)\n",
    "            onecountrydict[year][countryTo].setdefault(country, value)\n",
    "            \n",
    "    return onecountrydict"
   ]
  },
  {
   "cell_type": "code",
   "execution_count": 6,
   "metadata": {
    "collapsed": true
   },
   "outputs": [],
   "source": [
    "#delete empty cells from dict\n",
    "\n",
    "def clean_empty(d):\n",
    "    if not isinstance(d, (dict, list)): #dictionairy or list\n",
    "        return d\n",
    "    if isinstance(d, list): \n",
    "        return [v for v in (clean_empty(v) for v in d) if v] #list comprehension\n",
    "    return {k: v for k, v in ((k, clean_empty(v)) for k, v in d.items()) if v}\n"
   ]
  },
  {
   "cell_type": "code",
   "execution_count": 7,
   "metadata": {
    "collapsed": false
   },
   "outputs": [],
   "source": [
    "countryImportDict = dict()\n",
    "PATH = '/Users/hai/Devproj/weaponstradeanalysis/data/'\n",
    "\n",
    "countryCodeMap = dict()\n",
    "\n",
    "for f in os.listdir(PATH):\n",
    "    if not f.startswith('.'):\n",
    "        if \"country_codes.csv\" not in f:\n",
    "            countryCode = f.replace('TIV-Import-',\"\").replace('-1950-2015.csv', \"\")\n",
    "            df,to_country = loadTable(PATH, countryCode)\n",
    "            countryImportDict = convertTableToDict(df, countryImportDict, to_country)\n",
    "            countryCodeMap.setdefault(to_country, countryCode)\n",
    "countryCodeMap['Montenegro'] = 'MNE'\n",
    "countryCodeMap['Aruba'] = 'ABW'\n",
    "\n",
    "countryImportDict = clean_empty(countryImportDict)\n",
    "\n",
    "MultiDiDict = dict()\n",
    "for year in countryImportDict:\n",
    "    MultiDiDict.setdefault(year, dict())\n",
    "    for countryImport in countryImportDict[year]:\n",
    "        for countryExport in countryImportDict[year][countryImport]:\n",
    "            MultiDiDict[year].setdefault(countryExport, dict())\n",
    "            MultiDiDict[year][countryExport].setdefault(countryImport, 0)\n",
    "            MultiDiDict[year][countryExport][countryImport] += countryImportDict[year][countryImport][countryExport]"
   ]
  },
  {
   "cell_type": "code",
   "execution_count": 8,
   "metadata": {
    "collapsed": false
   },
   "outputs": [],
   "source": [
    "df = pd.DataFrame.from_dict(countryCodeMap, orient=\"index\")\n",
    "df.sort_index(inplace=True)\n",
    "df.to_csv('countrymap.csv')"
   ]
  },
  {
   "cell_type": "code",
   "execution_count": 9,
   "metadata": {
    "collapsed": false
   },
   "outputs": [
    {
     "data": {
      "text/plain": [
       "200.0"
      ]
     },
     "execution_count": 9,
     "metadata": {},
     "output_type": "execute_result"
    }
   ],
   "source": [
    "MultiDiDict['2015']['Germany (FRG)']['United States']"
   ]
  },
  {
   "cell_type": "markdown",
   "metadata": {},
   "source": [
    "# read weapon expenditure data from SIPRI beta dataset"
   ]
  },
  {
   "cell_type": "markdown",
   "metadata": {},
   "source": [
    "## Read table into dataframe"
   ]
  },
  {
   "cell_type": "code",
   "execution_count": 10,
   "metadata": {
    "collapsed": false
   },
   "outputs": [],
   "source": [
    "militaryexpdf = pd.read_excel('/Users/hai/Devproj/weaponstradeanalysis/newdata/SIPRI extended milex database beta/Constant USD Beta.xlsx')\n",
    "militaryexpdf = militaryexpdf.iloc[2:175, 2:]\n",
    "militaryexpdf.columns = militaryexpdf.iloc[0]\n",
    "militaryexpdf.columns.values[0] = 'Country'\n",
    "militaryexpdf = militaryexpdf.set_index((militaryexpdf['Country']))\n",
    "militaryexpdf = militaryexpdf.drop(militaryexpdf.columns[0], axis=1)\n",
    "militaryexpdf = militaryexpdf[1:] \n",
    "militaryexpdf.index.name = None #credit to ulynn\n",
    "militaryexpdf.columns.name = None\n",
    "#militaryexpdf.drop(['Montenegro'], inplace = True)\n",
    "\n",
    "\n",
    "namecorrectionmapping = pd.read_csv('/Users/hai/Devproj/weaponstradeanalysis/countrymapping.csv', delimiter = ';', header = None)\n",
    "namecorrectionmapping.columns = ['countrycode','newname', 'oldname']\n",
    "\n",
    "namecorrectionmapping.set_index((namecorrectionmapping['oldname']), inplace = True)\n",
    "namecorrectionmapping.drop(namecorrectionmapping.columns[[0,2]], axis=1, inplace = True)\n",
    "namecorrectionmapping.index.name = None\n",
    "namemappingdict = namecorrectionmapping.to_dict()\n",
    "\n",
    "\n",
    "from decimal import Decimal\n",
    "\n",
    "\n",
    "def convertmilitaryexpTableToDict(df,namemapping):\n",
    "    years = list(df.columns.values)\n",
    "    countries = list(df.index)\n",
    "    militaryexpdict = dict()\n",
    "    for year in years:\n",
    "        militaryexpdict.setdefault(str(year), dict())\n",
    "        for country in countries:\n",
    "            value = df.get_value(country, year)\n",
    "            if isinstance(value,float):\n",
    "                value = round(Decimal(value * 0.5520917815626),1) #inflation correction from constant 2014 to constant 1990\n",
    "            militaryexpdict[str(year)].setdefault((namemapping['newname'][country]), value)\n",
    "    return militaryexpdict\n",
    "\n",
    "militaryexpdict = convertmilitaryexpTableToDict(militaryexpdf, namemappingdict)"
   ]
  },
  {
   "cell_type": "markdown",
   "metadata": {},
   "source": [
    "## use the manually created table to synchronize countries"
   ]
  },
  {
   "cell_type": "code",
   "execution_count": null,
   "metadata": {
    "collapsed": false
   },
   "outputs": [],
   "source": []
  },
  {
   "cell_type": "code",
   "execution_count": 11,
   "metadata": {
    "collapsed": false
   },
   "outputs": [],
   "source": [
    "excludedentities = pd.read_csv('excludedcountries.csv', delimiter=';', header = None)\n",
    "excludedentities.columns = ['Name','Code']\n",
    "excludedentitiesdict = dict()\n",
    "for number in range (0,80,1):\n",
    "    excludedentities.Name[number]\n",
    "    #this code is not applicable to other stuff or even to the general country code dict, but it works here so..\n",
    "    if excludedentities.Code[number].find('X') != -1:\n",
    "        excludedentitiesdict[excludedentities.Name[number]] = excludedentities.Code[number]\n",
    "    #insert countries into dict\n",
    "excludedentities = excludedentitiesdict.keys()\n",
    "excludedentities.insert(0,'Lesotho')\n"
   ]
  },
  {
   "cell_type": "code",
   "execution_count": 12,
   "metadata": {
    "collapsed": false
   },
   "outputs": [
    {
     "data": {
      "text/plain": [
       "['Lesotho',\n",
       " 'FNLA (Angola)*',\n",
       " 'Mujahedin (Afghanistan)*',\n",
       " 'PAIGC (Portugal)*',\n",
       " 'Amal (Lebanon)*',\n",
       " 'FAN (Chad)*',\n",
       " 'Syria rebels*',\n",
       " 'ANC (South Africa)*',\n",
       " 'SNA (Somalia)*',\n",
       " 'Contras (Nicaragua)*',\n",
       " 'Hamas (Palestine)*',\n",
       " 'EPLF (Ethiopia)*',\n",
       " 'LRA (Uganda)*',\n",
       " 'GUNT (Chad)*',\n",
       " 'Hezbollah (Lebanon)*',\n",
       " 'SPLA (Sudan)*',\n",
       " 'Armas (Guatemala)*',\n",
       " 'Unknown country',\n",
       " 'Ukraine Rebels*',\n",
       " 'Anti-Castro rebels (Cuba)*',\n",
       " 'Haiti rebels*',\n",
       " 'Pathet Lao (Laos)*',\n",
       " 'FRELIMO (Portugal)*',\n",
       " 'NLA (Macedonia)*',\n",
       " 'ELF (Ethiopia)*',\n",
       " 'UNITA (Angola)*',\n",
       " 'UIC (Somalia)*',\n",
       " 'Unknown rebel group*',\n",
       " 'RPF (Rwanda)*',\n",
       " 'PIJ (Israel/Palestine)*',\n",
       " 'MPLA (Portugal)*',\n",
       " 'SLA (Lebanon)*',\n",
       " 'PKK (Turkey)*',\n",
       " 'Indonesia rebels*',\n",
       " 'NTC (Libya)*',\n",
       " 'United Wa State (Myanmar)*',\n",
       " 'ZAPU (Zimbabwe)*',\n",
       " 'MNLF (Philippines)*',\n",
       " 'PRC (Israel/Palestine)*',\n",
       " 'Northern Alliance (Afghanistan)*',\n",
       " 'Khmer Rouge (Cambodia)*',\n",
       " 'MTA (Myanmar)*',\n",
       " 'Viet Minh (France)*',\n",
       " 'PLO (Israel)*',\n",
       " 'Southern rebels (Yemen)*',\n",
       " 'Provisional IRA (UK)*',\n",
       " 'FMLN (El Salvador)*',\n",
       " 'Viet Cong (South Vietnam)*',\n",
       " 'LF (Lebanon)*',\n",
       " 'RUF (Sierra Leone)*',\n",
       " 'LTTE (Sri Lanka)*',\n",
       " 'Lebanon Palestinian rebels*']"
      ]
     },
     "execution_count": 12,
     "metadata": {},
     "output_type": "execute_result"
    }
   ],
   "source": [
    "excludedentities"
   ]
  },
  {
   "cell_type": "code",
   "execution_count": 13,
   "metadata": {
    "collapsed": true
   },
   "outputs": [],
   "source": [
    "def clean_noncountries(d):\n",
    "    if not isinstance(d, (dict)): #dictionairy or list\n",
    "        return d\n",
    "    return {k: v for k, v in ((k, clean_noncountries(v)) for k, v in d.items()) if k not in excludedentities}"
   ]
  },
  {
   "cell_type": "markdown",
   "metadata": {},
   "source": [
    "## Analysis function"
   ]
  },
  {
   "cell_type": "code",
   "execution_count": 14,
   "metadata": {
    "collapsed": true
   },
   "outputs": [],
   "source": [
    "def createNeighbourGraph(G, node):\n",
    "    \n",
    "    newGraph = nx.Graph()\n",
    "    \n",
    "    for edge in G.edges(data=True):\n",
    "        if edge[0] == node or edge[1] == node:\n",
    "            newGraph.add_edge(edge[0],edge[1],edge[2])\n",
    "    \n",
    "    return newGraph"
   ]
  },
  {
   "cell_type": "code",
   "execution_count": 15,
   "metadata": {
    "collapsed": false
   },
   "outputs": [],
   "source": [
    "# most fucked up function\n",
    "\n",
    "def addUpDict(MasterDict):\n",
    "\n",
    "    SomethingsOverwrittenDict = copy.deepcopy(MasterDict)\n",
    "\n",
    "    AddedUpDict = dict()\n",
    "\n",
    "    for year in SomethingsOverwrittenDict:\n",
    "        AddedUpDict.setdefault(year, dict())\n",
    "        for countryExport in SomethingsOverwrittenDict[year]:\n",
    "            for countryImport in SomethingsOverwrittenDict[year][countryExport]:\n",
    "                AddedUpDict[year].setdefault(countryExport, dict())\n",
    "                AddedUpDict[year][countryExport].setdefault(countryImport, 0)\n",
    "                Richtung = SomethingsOverwrittenDict[year][countryExport][countryImport]\n",
    "                #andere richtung verfügbar?\n",
    "                if countryImport in SomethingsOverwrittenDict[year]:\n",
    "                    if countryExport in SomethingsOverwrittenDict[year][countryImport]:\n",
    "                        andereRichtung = SomethingsOverwrittenDict[year][countryImport][countryExport]\n",
    "                    else: andereRichtung = 0\n",
    "                else: andereRichtung = 0\n",
    "                \n",
    "                #Transmitting stuff into the AddedUpDict\n",
    "                if (Richtung + andereRichtung) != 0:\n",
    "                    AddedUpDict[year][countryExport][countryImport] = Richtung + andereRichtung\n",
    "\n",
    "                #\"Clearing the MasterDict\"\n",
    "                SomethingsOverwrittenDict[year][countryExport][countryImport] = 0\n",
    "\n",
    "                if countryImport in SomethingsOverwrittenDict[year]:\n",
    "                    if countryExport in SomethingsOverwrittenDict[year][countryImport]:\n",
    "                        SomethingsOverwrittenDict[year][countryImport][countryExport] = 0\n",
    "    \n",
    "    return AddedUpDict"
   ]
  },
  {
   "cell_type": "code",
   "execution_count": 16,
   "metadata": {
    "collapsed": true
   },
   "outputs": [],
   "source": [
    "def createYearGraph(AddedUpDict, year, militaryexpdict):\n",
    "    \n",
    "    G = nx.Graph()    \n",
    "    for countryExport in AddedUpDict[year]:\n",
    "        for countryImport in AddedUpDict[year][countryExport]:\n",
    "            if AddedUpDict[year][countryExport][countryImport] != 0:\n",
    "                G.add_weighted_edges_from([(countryExport,countryImport,AddedUpDict[year][countryExport][countryImport])])\n",
    "    \n",
    "    partition = community.best_partition(G)\n",
    "    \n",
    "    for node in G.nodes_iter():\n",
    "        if node in militaryexpdict[year]:\n",
    "            G.node[node]['military expenditure'] = militaryexpdict[year][node]\n",
    "            G.node[node]['cluster'] = partition[node]\n",
    "        else:\n",
    "            G.node[node]['military expenditure'] = 'no data'\n",
    "            \n",
    "        \n",
    "    G.graph['year']= year\n",
    "    \n",
    "    return G"
   ]
  },
  {
   "cell_type": "code",
   "execution_count": 17,
   "metadata": {
    "collapsed": true
   },
   "outputs": [],
   "source": [
    "def createYearMultiDiGraph(AddedUpDict, year ,militaryexpdict):\n",
    "    \n",
    "    G = nx.MultiDiGraph()    \n",
    "    for countryExport in AddedUpDict[year]:\n",
    "        for countryImport in AddedUpDict[year][countryExport]:\n",
    "            if AddedUpDict[year][countryExport][countryImport] != 0:\n",
    "                G.add_weighted_edges_from([(countryExport,countryImport,AddedUpDict[year][countryExport][countryImport])])\n",
    "    \n",
    "    #temporarily also create the normal graph\n",
    "    partition = community.best_partition(createYearGraph(AddedUpDict, year ,militaryexpdict))\n",
    "\n",
    "    for node in G.nodes_iter():\n",
    "        if node in militaryexpdict[year]:\n",
    "            G.node[node]['military expenditure'] = militaryexpdict[year][node]\n",
    "            G.node[node]['cluster'] = partition[node]\n",
    "        else:\n",
    "            G.node[node]['military expenditure'] = 'no data'\n",
    "            \n",
    "    G.graph['year']= year\n",
    "    \n",
    "    return G"
   ]
  },
  {
   "cell_type": "code",
   "execution_count": 18,
   "metadata": {
    "collapsed": true
   },
   "outputs": [],
   "source": [
    "MultiDiDict = clean_empty(clean_noncountries(MultiDiDict))\n",
    "MultiDiDict = clean_empty(MultiDiDict)\n",
    "AddedUpDict = addUpDict(MultiDiDict)\n",
    "\n",
    "year = '1960'\n",
    "\n",
    "multigraph = createYearMultiDiGraph(MultiDiDict, year ,militaryexpdict)\n",
    "mastergraph = createYearGraph(AddedUpDict, year , militaryexpdict)"
   ]
  },
  {
   "cell_type": "code",
   "execution_count": 19,
   "metadata": {
    "collapsed": false
   },
   "outputs": [
    {
     "data": {
      "text/plain": [
       "[('United States', 0.20797502643783997),\n",
       " ('Soviet Union', 0.10089780538268207),\n",
       " ('United Kingdom', 0.0852172112882519),\n",
       " ('Germany (FRG)', 0.06677267049528118),\n",
       " ('France', 0.052673063598498215),\n",
       " ('China', 0.03425718873625696),\n",
       " ('Japan', 0.02652745064176293),\n",
       " ('Switzerland', 0.021383560760446514),\n",
       " ('India', 0.019696083909003417),\n",
       " ('Turkey', 0.018671110677637198)]"
      ]
     },
     "execution_count": 19,
     "metadata": {},
     "output_type": "execute_result"
    }
   ],
   "source": [
    "sorted(nx.pagerank_numpy(mastergraph).items(), key=operator.itemgetter(1), reverse=True)[:10]"
   ]
  },
  {
   "cell_type": "code",
   "execution_count": 20,
   "metadata": {
    "collapsed": false
   },
   "outputs": [],
   "source": [
    "#nx.draw_networkx(mastergraph, pos = spring_pos, cmap = plt.get_cmap(\"rainbow\"), node_color = bt_colors, node_size = bt_values, with_labels = False)"
   ]
  },
  {
   "cell_type": "raw",
   "metadata": {
    "collapsed": false
   },
   "source": [
    "G = mastergraph\n",
    "pos=nx.spring_layout(G)"
   ]
  },
  {
   "cell_type": "raw",
   "metadata": {
    "collapsed": false
   },
   "source": [
    "edge_trace = []\n",
    "\n",
    "for edge in G.edges(data=True):\n",
    "    countryFrom = edge[0]\n",
    "    countryTo = edge[1]\n",
    "    x0, y0 = pos[countryFrom]\n",
    "    x1, y1 = pos[countryTo]\n",
    "\n",
    "    edge_trace.append(\n",
    "        Scatter(\n",
    "            x=[x0, x1, None], \n",
    "            y=[y0, y1, None], \n",
    "            #text=[edge[2]['weight']],\n",
    "            text='skip',\n",
    "            line=Line(width = (edge[2]['weight']/100),\n",
    "                      color ='#888'\n",
    "                     ),\n",
    "            #hoverinfo=edge[2]['weight'],\n",
    "            hoverinfo='none',\n",
    "            mode='lines'\n",
    "        )\n",
    "    )"
   ]
  },
  {
   "cell_type": "raw",
   "metadata": {
    "collapsed": true
   },
   "source": [
    "node_trace = Scatter(\n",
    "    x=[], \n",
    "    y=[], \n",
    "    text=[],\n",
    "    mode='markers', \n",
    "    hoverinfo='text',\n",
    "    marker=Marker(\n",
    "        showscale=True,\n",
    "        # colorscale options\n",
    "        # 'Greys' | 'Greens' | 'Bluered' | 'Hot' | 'Picnic' | 'Portland' |\n",
    "        # Jet' | 'RdBu' | 'Blackbody' | 'Earth' | 'Electric' | 'YIOrRd' | 'YIGnBu'\n",
    "        colorscale='YIOrRd',\n",
    "        reversescale=True,\n",
    "        color=[], \n",
    "        size=10,         \n",
    "        colorbar=dict(\n",
    "            thickness=15,\n",
    "            title='Node Connections',\n",
    "            xanchor='left',\n",
    "            titleside='right'\n",
    "        ),\n",
    "        line=dict(width=2)))\n",
    "\n",
    "for node in G.nodes():\n",
    "    x, y = pos[node]\n",
    "    node_trace['x'].append(x)\n",
    "    node_trace['y'].append(y)\n",
    "    node_trace['text'].append(str(countryCodeMap[node]))\n",
    "    \n",
    "for node, adjacencies in enumerate(G.adjacency_list()):\n",
    "    node_trace['marker']['color'].append(len(adjacencies))    \n"
   ]
  },
  {
   "cell_type": "raw",
   "metadata": {
    "collapsed": true
   },
   "source": [
    "fig = Figure(data=Data(edge_trace+[node_trace]),\n",
    "             layout=Layout(\n",
    "                title='The Worlds Weapon Trade',\n",
    "                titlefont=dict(size=16),\n",
    "                showlegend=False, \n",
    "                width=650,\n",
    "                height=650,\n",
    "                hovermode='closest',\n",
    "                margin=dict(b=20,l=5,r=5,t=40),\n",
    "                annotations=[ dict(\n",
    "                    text=\"Datasource: SIPRI\",\n",
    "                    showarrow=False,\n",
    "                    xref=\"paper\", yref=\"paper\",\n",
    "                    x=0.005, y=-0.002 ) ],\n",
    "                xaxis=XAxis(showgrid=False, zeroline=False, showticklabels=False),\n",
    "                yaxis=YAxis(showgrid=False, zeroline=False, showticklabels=False))\n",
    "            )\n",
    "\n",
    "#py.iplot(fig, filename='weaponstrade')"
   ]
  },
  {
   "cell_type": "raw",
   "metadata": {
    "collapsed": false
   },
   "source": [
    "#Visualization from Here http://scikit-learn.org/stable/auto_examples/cluster/plot_kmeans_digits.html\n",
    "\n",
    "# Step size of the mesh. Decrease to increase the quality of the VQ.\n",
    "h = .02     # point in the mesh [x_min, x_max]x[y_min, y_max].\n",
    "\n",
    "# Plot the decision boundary. For that, we will assign a color to each\n",
    "x_min, x_max = reduced_data[:, 0].min() - 1, reduced_data[:, 0].max() + 1\n",
    "y_min, y_max = reduced_data[:, 1].min() - 1, reduced_data[:, 1].max() + 1\n",
    "xx, yy = np.meshgrid(np.arange(x_min, x_max, h), np.arange(y_min, y_max, h))\n",
    "\n",
    "# Obtain labels for each point in mesh. Use last trained model.\n",
    "Z = kmeans.predict(np.c_[xx.ravel(), yy.ravel()])\n",
    "\n",
    "# Put the result into a color plot\n",
    "Z = Z.reshape(xx.shape)\n",
    "plt.figure(1)\n",
    "plt.clf()\n",
    "plt.imshow(Z, interpolation='nearest',\n",
    "           extent=(xx.min(), xx.max(), yy.min(), yy.max()),\n",
    "           cmap=plt.cm.Paired,\n",
    "           aspect='auto', origin='lower')\n",
    "\n",
    "plt.plot(reduced_data[:, 0], reduced_data[:, 1], 'k.', markersize=2)\n",
    "\n",
    "# Plot the centroids as a white X\n",
    "centroids = kmeans.cluster_centers_\n",
    "plt.scatter(centroids[:, 0], centroids[:, 1],\n",
    "            marker='x', s=169, linewidths=3,\n",
    "            color='w', zorder=10)\n",
    "plt.title('K-means clustering on the digits dataset (PCA-reduced data)\\n'\n",
    "          'Centroids are marked with white cross')\n",
    "plt.xlim(x_min, x_max)\n",
    "plt.ylim(y_min, y_max)\n",
    "plt.xticks(())\n",
    "plt.yticks(())\n",
    "plt.show()"
   ]
  },
  {
   "cell_type": "markdown",
   "metadata": {
    "collapsed": true
   },
   "source": [
    "TIL kmeans is a shitty algorithm, since it only takes X and Y into account, not good for graphs"
   ]
  },
  {
   "cell_type": "markdown",
   "metadata": {},
   "source": [
    "# Clustering using the louvain method\n",
    "\n",
    "It uses the louvain method described in Fast unfolding of communities in large networks, Vincent D Blondel, Jean-Loup Guillaume, Renaud Lambiotte, Renaud Lefebvre, Journal of Statistical Mechanics: Theory and Experiment 2008(10), P10008 (12pp)"
   ]
  },
  {
   "cell_type": "code",
   "execution_count": 189,
   "metadata": {
    "collapsed": false
   },
   "outputs": [],
   "source": [
    "#first compute the best partition\n",
    "partition = community.best_partition(mastergraph)\n"
   ]
  },
  {
   "cell_type": "raw",
   "metadata": {
    "collapsed": false
   },
   "source": [
    "n = (mastergraph.number_of_nodes())/2 \n",
    "part = dict([])\n",
    "for node in mastergraph.nodes_iter():\n",
    "    part[node] = node\n",
    "ind = community.induced_graph(part, mastergraph)\n",
    "goal = nx.Graph()\n",
    "goal.add_weighted_edges_from([(0,1,n*n),(0,0,n*(n-1)/2), (1, 1, n*(n-1)/2)])  # NOQA\n",
    "\n",
    "#drawing\n",
    "partition2 = community.best_partition(goal)\n",
    "size = float(len(set(partition2.values())))\n",
    "pos = nx.spring_layout(goal)\n",
    "count = 0.\n",
    "for com in set(partition2.values()) :\n",
    "    count = count + 1.\n",
    "    list_nodes = [nodes for nodes in partition2.keys()\n",
    "                                if partition2[nodes] == com]\n",
    "    nx.draw_networkx_nodes(goal, pos, list_nodes, node_size = 20,\n",
    "                                node_color = str(count / size))\n",
    "    nx.draw_networkx_edges(goal,pos, alpha=0.5)\n",
    "#plt.show()"
   ]
  },
  {
   "cell_type": "code",
   "execution_count": 186,
   "metadata": {
    "collapsed": false
   },
   "outputs": [],
   "source": [
    "from bokeh.palettes import Set1\n",
    "colormap = Set1[9]"
   ]
  },
  {
   "cell_type": "code",
   "execution_count": 187,
   "metadata": {
    "collapsed": true
   },
   "outputs": [],
   "source": [
    "pos3=nx.spring_layout(mastergraph, dim=3,k = 0.3)"
   ]
  },
  {
   "cell_type": "code",
   "execution_count": 190,
   "metadata": {
    "collapsed": false
   },
   "outputs": [],
   "source": [
    "trace1 = []\n",
    "for edge in mastergraph.edges(data=True):\n",
    "    trace1.append(\n",
    "        Scatter3d(x=[pos3[edge[0]][0],pos3[edge[1]][0], None],\n",
    "                  y=[pos3[edge[0]][1],pos3[edge[1]][1], None],\n",
    "                   z=[pos3[edge[0]][2],pos3[edge[1]][2], None],\n",
    "                   mode='lines',\n",
    "                   line=Line(color='rgb(125,125,125)',\n",
    "                             width=(np.log(edge[2]['weight'])),\n",
    "                             colorscale = 'Bluered'),\n",
    "                   hoverinfo='none',\n",
    "                   opacity=0.7\n",
    "                   )\n",
    "        )\n",
    "\n",
    "trace2 = []\n",
    "for node in mastergraph.nodes_iter():\n",
    "    totaltrade = 0\n",
    "    for edge in mastergraph.edges(data=True):\n",
    "        if edge[0] == node or edge[1] == node:\n",
    "            totaltrade += edge[2]['weight']\n",
    "            \n",
    "    trace2.append(\n",
    "        Scatter3d(x=pos3[node][0],\n",
    "                  y=pos3[node][1],\n",
    "                   z=pos3[node][2],\n",
    "                   mode='markers',\n",
    "                   name='Country',\n",
    "                   marker=Marker(symbol='dot',\n",
    "                                 size=np.log(totaltrade),\n",
    "                                 color=colormap[partition[node]],\n",
    "                                 showscale=False,\n",
    "                                 cmin = 0,\n",
    "                                 cmax = 4,\n",
    "                                    # colorscale options\n",
    "                                    # 'Greys' | 'Greens' | 'Bluered' | 'Hot' | 'Picnic' | 'Portland' |\n",
    "                                    # Jet' | 'RdBu' | 'Blackbody' | 'Earth' | 'Electric' | 'YIOrRd' | 'YIGnBu'\n",
    "                                 colorscale='Electric',\n",
    "                                 line=Line(color='rgb(50,50,50)', width=0.5)                                 ),\n",
    "                   text=str(node),\n",
    "                   hoverinfo='text',\n",
    "                   opacity=0.7\n",
    "                   )\n",
    "        )\n",
    "\n",
    "axis=dict(showbackground=False,\n",
    "          showline=False,\n",
    "          zeroline=False,\n",
    "          showgrid=True,\n",
    "          showticklabels=False,\n",
    "          title=''\n",
    "          )\n",
    "          \n",
    "layout = Layout(\n",
    "         title=\"Global Weapontrade\",\n",
    "         width=800,\n",
    "         height=800,\n",
    "         showlegend=False,\n",
    "         scene=Scene(\n",
    "             xaxis=XAxis(axis),\n",
    "             yaxis=YAxis(axis),\n",
    "             zaxis=ZAxis(axis),\n",
    "        ),\n",
    "    margin=Margin(\n",
    "        t=100\n",
    "    ),\n",
    "    hovermode='closest',\n",
    "    annotations=Annotations([\n",
    "           Annotation(\n",
    "           showarrow=False,\n",
    "            text=\"SIPRI\",\n",
    "            xref='paper',\n",
    "            yref='paper',\n",
    "            x=0,\n",
    "            y=0.1,\n",
    "            xanchor='left',\n",
    "            yanchor='bottom',\n",
    "            font=Font(\n",
    "                size=14\n",
    "            )\n",
    "            )\n",
    "        ]),\n",
    ")\n"
   ]
  },
  {
   "cell_type": "code",
   "execution_count": 191,
   "metadata": {
    "collapsed": false
   },
   "outputs": [
    {
     "data": {
      "text/html": [
       "<iframe id=\"igraph\" scrolling=\"no\" style=\"border:none;\" seamless=\"seamless\" src=\"https://plot.ly/~hai/6.embed\" height=\"800px\" width=\"800px\"></iframe>"
      ],
      "text/plain": [
       "<plotly.tools.PlotlyDisplay object>"
      ]
     },
     "execution_count": 191,
     "metadata": {},
     "output_type": "execute_result"
    }
   ],
   "source": [
    "data=Data(trace1+trace2)\n",
    "fig=Figure(data=data, layout=layout)\n",
    "\n",
    "py.iplot(fig, filename='Weapontrade')"
   ]
  },
  {
   "cell_type": "code",
   "execution_count": 26,
   "metadata": {
    "collapsed": false
   },
   "outputs": [
    {
     "data": {
      "image/png": "[encoded data removed]",
      "text/plain": [
       "<matplotlib.figure.Figure at 0x118ce1a50>"
      ]
     },
     "metadata": {},
     "output_type": "display_data"
    }
   ],
   "source": [
    "test = createNeighbourGraph(mastergraph, 'Germany (FRG)')\n",
    "plt.gcf().clear()\n",
    "nx.draw(test,node_size=40, alpha=0.3, node_color=\"blue\", with_labels=True)\n",
    "plt.show()\n",
    "plt.rcParams['figure.figsize'] = (9, 9)"
   ]
  },
  {
   "cell_type": "code",
   "execution_count": null,
   "metadata": {
    "collapsed": false
   },
   "outputs": [],
   "source": []
  },
  {
   "cell_type": "code",
   "execution_count": 27,
   "metadata": {
    "collapsed": false
   },
   "outputs": [],
   "source": [
    "#completeGraph = createYearMultiDiGraph(MultiDiDict, '1990',militaryexpdict)"
   ]
  },
  {
   "cell_type": "code",
   "execution_count": 28,
   "metadata": {
    "collapsed": false
   },
   "outputs": [],
   "source": [
    "#plt.gcf().clear()\n",
    "#nx.draw(completeGraph,node_size=40, alpha=0.3, node_color=\"blue\", with_labels=False)\n",
    "#plt.show()\n",
    "#plt.rcParams['figure.figsize'] = (9, 9)"
   ]
  },
  {
   "cell_type": "code",
   "execution_count": 29,
   "metadata": {
    "collapsed": false
   },
   "outputs": [],
   "source": [
    "#completeGraph.edges(data = True)"
   ]
  },
  {
   "cell_type": "code",
   "execution_count": 30,
   "metadata": {
    "collapsed": true
   },
   "outputs": [],
   "source": [
    "## Analyze countries influence over time"
   ]
  },
  {
   "cell_type": "raw",
   "metadata": {
    "collapsed": false
   },
   "source": [
    "def influenceOverTime(countrydict,country):\n",
    "    influence = dict()\n",
    "    for year in countrydict:\n",
    "        G = createYearGraph(countrydict, year)\n",
    "        valuethisyear = 0\n",
    "        for entry in nx.betweenness_centrality(G).items():\n",
    "            if entry[0] == country:\n",
    "                valuethisyear = entry[1]\n",
    "        influence[year] = valuethisyear\n",
    "    return influence"
   ]
  },
  {
   "cell_type": "markdown",
   "metadata": {},
   "source": [
    "# Generate all Graphs for each year"
   ]
  },
  {
   "cell_type": "code",
   "execution_count": 31,
   "metadata": {
    "collapsed": false
   },
   "outputs": [],
   "source": [
    "def displayLine(datalist,name):\n",
    "    from bokeh.palettes import Spectral10\n",
    "    \n",
    "    plot = figure(plot_width=600, plot_height=400, tools=['pan','tap','reset','wheel_zoom','save'])\n",
    "\n",
    "    d = dict(x=[], y=[],name=[],color=[])\n",
    "    color = copy.copy(Spectral10)\n",
    "    \n",
    "    line = dict(xe=[], ye=[])\n",
    "    for entry in sorted(datalist, key=operator.itemgetter(0)):\n",
    "        d['x'].append(entry[0])\n",
    "        d['y'].append(entry[1])\n",
    "        d['name'].append(name)\n",
    "        d['color'].append(color[0])\n",
    "        line['xe'].append(entry[0])\n",
    "        line['ye'].append(entry[1])\n",
    "    #add legend=name for a legend\n",
    "    plot.line(line['xe'], line['ye'], color=color[0])\n",
    "\n",
    "    s1 = plot.scatter('x', 'y', line_width=1, color = color[0], source=ColumnDataSource(d))\n",
    "    plot.add_tools(HoverTool(renderers=[s1], tooltips=[('year','@x'),(name,'@y')]))\n",
    "    plot.title.text=name\n",
    "    \n",
    "    return plot\n"
   ]
  },
  {
   "cell_type": "code",
   "execution_count": 32,
   "metadata": {
    "collapsed": true
   },
   "outputs": [],
   "source": [
    "def AllGraphs(countrydict, militaryexpdict):\n",
    "    AllGraphsDict = dict()\n",
    "    for year in countrydict:\n",
    "        G = createYearGraph(countrydict, year, militaryexpdict)\n",
    "        layout = nx.spring_layout(G)\n",
    "        AllGraphsDict[year] = [G,layout]\n",
    "    return AllGraphsDict\n",
    "\n",
    "AllGraphs = AllGraphs(AddedUpDict, militaryexpdict)"
   ]
  },
  {
   "cell_type": "markdown",
   "metadata": {},
   "source": [
    "## Total Weapontrade"
   ]
  },
  {
   "cell_type": "code",
   "execution_count": 33,
   "metadata": {
    "collapsed": false
   },
   "outputs": [],
   "source": [
    "from bokeh.plotting import figure, output_notebook, show"
   ]
  },
  {
   "cell_type": "code",
   "execution_count": 34,
   "metadata": {
    "collapsed": false
   },
   "outputs": [],
   "source": [
    "sumedgeslist = list()\n",
    "\n",
    "for year in AllGraphs:\n",
    "    sumofedges = 0 \n",
    "    for edge in AllGraphs[year][0].edges_iter(data=True):\n",
    "        sumofedges = sumofedges + edge[2]['weight']\n",
    "    sumedgeslist.append([year, sumofedges])\n",
    "        \n",
    "sumedgeslist = sorted(sumedgeslist, key=operator.itemgetter(0))\n",
    "sumedgeslist    \n",
    "\n",
    "#line = Line(militarexpchartdict, title=\"line\", legend=\"top_left\", ylabel='Languages')\n",
    "#show(line)\n",
    "\n",
    "plot = displayLine(sumedgeslist,'Global Weaponstrade in millions')\n",
    "show(plot)"
   ]
  },
  {
   "cell_type": "code",
   "execution_count": 35,
   "metadata": {
    "collapsed": false
   },
   "outputs": [],
   "source": [
    "militarexpchartlist = list()\n",
    "\n",
    "for year in AllGraphs:\n",
    "    sumofnodes = 0\n",
    "    for node in AllGraphs[year][0].nodes_iter(data=True):\n",
    "        if isinstance(node[1]['military expenditure'],(float,int)) and not math.isnan(node[1]['military expenditure']):\n",
    "            sumofnodes = sumofnodes + int(node[1]['military expenditure'])\n",
    "    militarexpchartlist.append([year, sumofnodes])\n",
    "\n",
    "militarexpchartdict = sorted(militarexpchartlist, key=operator.itemgetter(0))\n",
    "militarexpchartdict\n",
    "\n",
    "plot = displayLine(militarexpchartdict,'Global Military Expenditure in millions')\n",
    "show(plot)"
   ]
  },
  {
   "cell_type": "code",
   "execution_count": 36,
   "metadata": {
    "collapsed": false
   },
   "outputs": [],
   "source": [
    "availdata = list()\n",
    "\n",
    "for year in AllGraphs:\n",
    "    dataavailable = 0.0\n",
    "    datanotavailable = 0.0\n",
    "    for node in AllGraphs[year][0].nodes_iter(data=True):\n",
    "        if isinstance(node[1]['military expenditure'],(float,int)) and not math.isnan(node[1]['military expenditure']):\n",
    "            dataavailable+=1\n",
    "        else:\n",
    "            datanotavailable+=1\n",
    "    \n",
    "    quota = dataavailable/(dataavailable+datanotavailable)\n",
    "    availdata.append([year, quota])\n",
    "\n",
    "plot = displayLine(availdata,'data availability')\n",
    "show(plot)"
   ]
  },
  {
   "cell_type": "markdown",
   "metadata": {},
   "source": [
    "# Influence Analysis"
   ]
  },
  {
   "cell_type": "markdown",
   "metadata": {},
   "source": [
    "### Definition"
   ]
  },
  {
   "cell_type": "code",
   "execution_count": 37,
   "metadata": {
    "collapsed": false
   },
   "outputs": [
    {
     "data": {
      "text/html": [
       "\n",
       "    <div class=\"bk-root\">\n",
       "        <a href=\"http://bokeh.pydata.org\" target=\"_blank\" class=\"bk-logo bk-logo-small bk-logo-notebook\"></a>\n",
       "        <span id=\"f9a1a59a-99fe-4705-b0d9-ac3de7f14b5c\">Loading BokehJS ...</span>\n",
       "    </div>"
      ]
     },
     "metadata": {},
     "output_type": "display_data"
    },
    {
     "data": {
      "application/javascript": [
       "\n",
       "(function(global) {\n",
       "  function now() {\n",
       "    return new Date();\n",
       "  }\n",
       "\n",
       "  var force = \"1\";\n",
       "\n",
       "  if (typeof (window._bokeh_onload_callbacks) === \"undefined\" || force !== \"\") {\n",
       "    window._bokeh_onload_callbacks = [];\n",
       "    window._bokeh_is_loading = undefined;\n",
       "  }\n",
       "\n",
       "\n",
       "  \n",
       "  if (typeof (window._bokeh_timeout) === \"undefined\" || force !== \"\") {\n",
       "    window._bokeh_timeout = Date.now() + 5000;\n",
       "    window._bokeh_failed_load = false;\n",
       "  }\n",
       "\n",
       "  var NB_LOAD_WARNING = {'data': {'text/html':\n",
       "     \"<div style='background-color: #fdd'>\\n\"+\n",
       "     \"<p>\\n\"+\n",
       "     \"BokehJS does not appear to have successfully loaded. If loading BokehJS from CDN, this \\n\"+\n",
       "     \"may be due to a slow or bad network connection. Possible fixes:\\n\"+\n",
       "     \"</p>\\n\"+\n",
       "     \"<ul>\\n\"+\n",
       "     \"<li>re-rerun `output_notebook()` to attempt to load from CDN again, or</li>\\n\"+\n",
       "     \"<li>use INLINE resources instead, as so:</li>\\n\"+\n",
       "     \"</ul>\\n\"+\n",
       "     \"<code>\\n\"+\n",
       "     \"from bokeh.resources import INLINE\\n\"+\n",
       "     \"output_notebook(resources=INLINE)\\n\"+\n",
       "     \"</code>\\n\"+\n",
       "     \"</div>\"}};\n",
       "\n",
       "  function display_loaded() {\n",
       "    if (window.Bokeh !== undefined) {\n",
       "      Bokeh.$(\"#f9a1a59a-99fe-4705-b0d9-ac3de7f14b5c\").text(\"BokehJS successfully loaded.\");\n",
       "    } else if (Date.now() < window._bokeh_timeout) {\n",
       "      setTimeout(display_loaded, 100)\n",
       "    }\n",
       "  }\n",
       "\n",
       "  function run_callbacks() {\n",
       "    window._bokeh_onload_callbacks.forEach(function(callback) { callback() });\n",
       "    delete window._bokeh_onload_callbacks\n",
       "    console.info(\"Bokeh: all callbacks have finished\");\n",
       "  }\n",
       "\n",
       "  function load_libs(js_urls, callback) {\n",
       "    window._bokeh_onload_callbacks.push(callback);\n",
       "    if (window._bokeh_is_loading > 0) {\n",
       "      console.log(\"Bokeh: BokehJS is being loaded, scheduling callback at\", now());\n",
       "      return null;\n",
       "    }\n",
       "    if (js_urls == null || js_urls.length === 0) {\n",
       "      run_callbacks();\n",
       "      return null;\n",
       "    }\n",
       "    console.log(\"Bokeh: BokehJS not loaded, scheduling load and callback at\", now());\n",
       "    window._bokeh_is_loading = js_urls.length;\n",
       "    for (var i = 0; i < js_urls.length; i++) {\n",
       "      var url = js_urls[i];\n",
       "      var s = document.createElement('script');\n",
       "      s.src = url;\n",
       "      s.async = false;\n",
       "      s.onreadystatechange = s.onload = function() {\n",
       "        window._bokeh_is_loading--;\n",
       "        if (window._bokeh_is_loading === 0) {\n",
       "          console.log(\"Bokeh: all BokehJS libraries loaded\");\n",
       "          run_callbacks()\n",
       "        }\n",
       "      };\n",
       "      s.onerror = function() {\n",
       "        console.warn(\"failed to load library \" + url);\n",
       "      };\n",
       "      console.log(\"Bokeh: injecting script tag for BokehJS library: \", url);\n",
       "      document.getElementsByTagName(\"head\")[0].appendChild(s);\n",
       "    }\n",
       "  };var element = document.getElementById(\"f9a1a59a-99fe-4705-b0d9-ac3de7f14b5c\");\n",
       "  if (element == null) {\n",
       "    console.log(\"Bokeh: ERROR: autoload.js configured with elementid 'f9a1a59a-99fe-4705-b0d9-ac3de7f14b5c' but no matching script tag was found. \")\n",
       "    return false;\n",
       "  }\n",
       "\n",
       "  var js_urls = ['https://cdn.pydata.org/bokeh/release/bokeh-0.12.3.min.js', 'https://cdn.pydata.org/bokeh/release/bokeh-widgets-0.12.3.min.js'];\n",
       "\n",
       "  var inline_js = [\n",
       "    function(Bokeh) {\n",
       "      Bokeh.set_log_level(\"info\");\n",
       "    },\n",
       "    \n",
       "    function(Bokeh) {\n",
       "      \n",
       "      Bokeh.$(\"#f9a1a59a-99fe-4705-b0d9-ac3de7f14b5c\").text(\"BokehJS is loading...\");\n",
       "    },\n",
       "    function(Bokeh) {\n",
       "      console.log(\"Bokeh: injecting CSS: https://cdn.pydata.org/bokeh/release/bokeh-0.12.3.min.css\");\n",
       "      Bokeh.embed.inject_css(\"https://cdn.pydata.org/bokeh/release/bokeh-0.12.3.min.css\");\n",
       "      console.log(\"Bokeh: injecting CSS: https://cdn.pydata.org/bokeh/release/bokeh-widgets-0.12.3.min.css\");\n",
       "      Bokeh.embed.inject_css(\"https://cdn.pydata.org/bokeh/release/bokeh-widgets-0.12.3.min.css\");\n",
       "    }\n",
       "  ];\n",
       "\n",
       "  function run_inline_js() {\n",
       "    \n",
       "    if ((window.Bokeh !== undefined) || (force === \"1\")) {\n",
       "      for (var i = 0; i < inline_js.length; i++) {\n",
       "        inline_js[i](window.Bokeh);\n",
       "      }if (force === \"1\") {\n",
       "        display_loaded();\n",
       "      }} else if (Date.now() < window._bokeh_timeout) {\n",
       "      setTimeout(run_inline_js, 100);\n",
       "    } else if (!window._bokeh_failed_load) {\n",
       "      console.log(\"Bokeh: BokehJS failed to load within specified timeout.\");\n",
       "      window._bokeh_failed_load = true;\n",
       "    } else if (!force) {\n",
       "      var cell = $(\"#f9a1a59a-99fe-4705-b0d9-ac3de7f14b5c\").parents('.cell').data().cell;\n",
       "      cell.output_area.append_execute_result(NB_LOAD_WARNING)\n",
       "    }\n",
       "\n",
       "  }\n",
       "\n",
       "  if (window._bokeh_is_loading === 0) {\n",
       "    console.log(\"Bokeh: BokehJS loaded, going straight to plotting\");\n",
       "    run_inline_js();\n",
       "  } else {\n",
       "    load_libs(js_urls, function() {\n",
       "      console.log(\"Bokeh: BokehJS plotting callback run at\", now());\n",
       "      run_inline_js();\n",
       "    });\n",
       "  }\n",
       "}(this));"
      ]
     },
     "metadata": {},
     "output_type": "display_data"
    }
   ],
   "source": [
    "from bokeh.plotting import figure, output_notebook, show\n",
    "from bokeh.io import output_notebook\n",
    "\n",
    "from bokeh.models import ColumnDataSource,HoverTool\n",
    "output_notebook()"
   ]
  },
  {
   "cell_type": "code",
   "execution_count": 38,
   "metadata": {
    "collapsed": false
   },
   "outputs": [],
   "source": [
    "def generateTimelinesPlot(influencedict, countries, name):\n",
    "    from bokeh.palettes import Spectral10\n",
    "    \n",
    "    plot = figure(plot_width=600, plot_height=400, tools=['pan','tap','box_zoom','reset','wheel_zoom','save'])\n",
    "\n",
    "    d = dict(x=[], y=[],country=[], color=[])\n",
    "    color = copy.copy(Set1[9])\n",
    "    for country in countries:\n",
    "        countrycolor = color[0]\n",
    "        color.remove(countrycolor)\n",
    "        line = dict(xe=[], ye=[],)\n",
    "        for entry in sorted(influencedict[country].items(), key=operator.itemgetter(0)):\n",
    "            d['x'].append(entry[0])\n",
    "            d['y'].append(entry[1])\n",
    "            d['country'].append(country)\n",
    "            d['color'].append(countrycolor)\n",
    "            line['xe'].append(entry[0])\n",
    "            line['ye'].append(entry[1])\n",
    "                    \n",
    "        plot.line(line['xe'], line['ye'],legend=country, color=countrycolor)\n",
    "    \n",
    "    s1 = plot.scatter('x', 'y', line_width=1, color = 'color', source=ColumnDataSource(d))\n",
    "    plot.add_tools(HoverTool(renderers=[s1], tooltips=[('year','@x'),('country','@country'),(name,'@y')]))\n",
    "    \n",
    "    return plot"
   ]
  },
  {
   "cell_type": "code",
   "execution_count": 39,
   "metadata": {
    "collapsed": false
   },
   "outputs": [],
   "source": [
    "def influenceOverTimeAll(countrydict,militaryexpdict):\n",
    "    influenceAll = dict()\n",
    "    for year in countrydict:\n",
    "        G = createYearGraph(countrydict, year,militaryexpdict)\n",
    "        for entry in nx.betweenness_centrality(G).items():\n",
    "            if entry[0] in influenceAll:\n",
    "                influenceAll[entry[0]][year] = entry[1]\n",
    "            else:\n",
    "                influenceAll.setdefault(entry[0], dict())\n",
    "                influenceAll[entry[0]][year] = entry[1]\n",
    "    return influenceAll"
   ]
  },
  {
   "cell_type": "markdown",
   "metadata": {
    "collapsed": false
   },
   "source": [
    "### Execution"
   ]
  },
  {
   "cell_type": "code",
   "execution_count": 40,
   "metadata": {
    "collapsed": true
   },
   "outputs": [],
   "source": [
    "influencedict = influenceOverTimeAll(AddedUpDict,militaryexpdict)"
   ]
  },
  {
   "cell_type": "code",
   "execution_count": 41,
   "metadata": {
    "collapsed": false
   },
   "outputs": [
    {
     "data": {
      "text/html": [
       "\n",
       "\n",
       "    <div class=\"bk-root\">\n",
       "        <div class=\"plotdiv\" id=\"3aa17564-9862-4417-aa49-661681b2f2a2\"></div>\n",
       "    </div>\n",
       "<script type=\"text/javascript\">\n",
       "  \n",
       "  (function(global) {\n",
       "    function now() {\n",
       "      return new Date();\n",
       "    }\n",
       "  \n",
       "    var force = \"\";\n",
       "  \n",
       "    if (typeof (window._bokeh_onload_callbacks) === \"undefined\" || force !== \"\") {\n",
       "      window._bokeh_onload_callbacks = [];\n",
       "      window._bokeh_is_loading = undefined;\n",
       "    }\n",
       "  \n",
       "  \n",
       "    \n",
       "    if (typeof (window._bokeh_timeout) === \"undefined\" || force !== \"\") {\n",
       "      window._bokeh_timeout = Date.now() + 0;\n",
       "      window._bokeh_failed_load = false;\n",
       "    }\n",
       "  \n",
       "    var NB_LOAD_WARNING = {'data': {'text/html':\n",
       "       \"<div style='background-color: #fdd'>\\n\"+\n",
       "       \"<p>\\n\"+\n",
       "       \"BokehJS does not appear to have successfully loaded. If loading BokehJS from CDN, this \\n\"+\n",
       "       \"may be due to a slow or bad network connection. Possible fixes:\\n\"+\n",
       "       \"</p>\\n\"+\n",
       "       \"<ul>\\n\"+\n",
       "       \"<li>re-rerun `output_notebook()` to attempt to load from CDN again, or</li>\\n\"+\n",
       "       \"<li>use INLINE resources instead, as so:</li>\\n\"+\n",
       "       \"</ul>\\n\"+\n",
       "       \"<code>\\n\"+\n",
       "       \"from bokeh.resources import INLINE\\n\"+\n",
       "       \"output_notebook(resources=INLINE)\\n\"+\n",
       "       \"</code>\\n\"+\n",
       "       \"</div>\"}};\n",
       "  \n",
       "    function display_loaded() {\n",
       "      if (window.Bokeh !== undefined) {\n",
       "        Bokeh.$(\"#3aa17564-9862-4417-aa49-661681b2f2a2\").text(\"BokehJS successfully loaded.\");\n",
       "      } else if (Date.now() < window._bokeh_timeout) {\n",
       "        setTimeout(display_loaded, 100)\n",
       "      }\n",
       "    }\n",
       "  \n",
       "    function run_callbacks() {\n",
       "      window._bokeh_onload_callbacks.forEach(function(callback) { callback() });\n",
       "      delete window._bokeh_onload_callbacks\n",
       "      console.info(\"Bokeh: all callbacks have finished\");\n",
       "    }\n",
       "  \n",
       "    function load_libs(js_urls, callback) {\n",
       "      window._bokeh_onload_callbacks.push(callback);\n",
       "      if (window._bokeh_is_loading > 0) {\n",
       "        console.log(\"Bokeh: BokehJS is being loaded, scheduling callback at\", now());\n",
       "        return null;\n",
       "      }\n",
       "      if (js_urls == null || js_urls.length === 0) {\n",
       "        run_callbacks();\n",
       "        return null;\n",
       "      }\n",
       "      console.log(\"Bokeh: BokehJS not loaded, scheduling load and callback at\", now());\n",
       "      window._bokeh_is_loading = js_urls.length;\n",
       "      for (var i = 0; i < js_urls.length; i++) {\n",
       "        var url = js_urls[i];\n",
       "        var s = document.createElement('script');\n",
       "        s.src = url;\n",
       "        s.async = false;\n",
       "        s.onreadystatechange = s.onload = function() {\n",
       "          window._bokeh_is_loading--;\n",
       "          if (window._bokeh_is_loading === 0) {\n",
       "            console.log(\"Bokeh: all BokehJS libraries loaded\");\n",
       "            run_callbacks()\n",
       "          }\n",
       "        };\n",
       "        s.onerror = function() {\n",
       "          console.warn(\"failed to load library \" + url);\n",
       "        };\n",
       "        console.log(\"Bokeh: injecting script tag for BokehJS library: \", url);\n",
       "        document.getElementsByTagName(\"head\")[0].appendChild(s);\n",
       "      }\n",
       "    };var element = document.getElementById(\"3aa17564-9862-4417-aa49-661681b2f2a2\");\n",
       "    if (element == null) {\n",
       "      console.log(\"Bokeh: ERROR: autoload.js configured with elementid '3aa17564-9862-4417-aa49-661681b2f2a2' but no matching script tag was found. \")\n",
       "      return false;\n",
       "    }\n",
       "  \n",
       "    var js_urls = [];\n",
       "  \n",
       "    var inline_js = [\n",
       "      function(Bokeh) {\n",
       "        Bokeh.$(function() {\n",
       "            var docs_json = {\"adc38477-78c9-4c13-a5f7-0d4afce61136\":{\"roots\":{\"references\":[{\"attributes\":{\"label\":{\"value\":\"Soviet Union\"},\"renderers\":[{\"id\":\"539974fb-5a2d-4a83-b7a4-c76f49072d36\",\"type\":\"GlyphRenderer\"}]},\"id\":\"7264046d-8e59-40ac-86d7-630996daf5e9\",\"type\":\"LegendItem\"},{\"attributes\":{\"line_alpha\":{\"value\":0.1},\"line_color\":{\"value\":\"#1f77b4\"},\"x\":{\"field\":\"x\"},\"y\":{\"field\":\"y\"}},\"id\":\"67d8ff4d-f62c-4bfe-9998-49b9cf4f7e1a\",\"type\":\"Line\"},{\"attributes\":{\"items\":[{\"id\":\"64f71d7d-6f2e-4c63-8ddd-ba358c9549a4\",\"type\":\"LegendItem\"},{\"id\":\"ef9db5fe-ee13-4eda-9adc-5794b1617090\",\"type\":\"LegendItem\"},{\"id\":\"3e76dfe1-a967-4cde-87f1-0f5ba50cbc85\",\"type\":\"LegendItem\"},{\"id\":\"a49df13c-2664-4446-b27d-c7743889cfc0\",\"type\":\"LegendItem\"},{\"id\":\"7264046d-8e59-40ac-86d7-630996daf5e9\",\"type\":\"LegendItem\"},{\"id\":\"1dfa4231-f9be-4aab-b18e-2a6f9103d254\",\"type\":\"LegendItem\"}],\"plot\":{\"id\":\"588ff450-d97d-47eb-8b27-f8080cc7fb2a\",\"subtype\":\"Figure\",\"type\":\"Plot\"}},\"id\":\"01805651-c2fb-4fc7-9f59-6787c8fc5f67\",\"type\":\"Legend\"},{\"attributes\":{\"callback\":null,\"end\":1,\"start\":0},\"id\":\"14742f11-f8d1-4299-b96d-5d25d55025aa\",\"type\":\"DataRange1d\"},{\"attributes\":{\"fill_alpha\":{\"value\":0.1},\"fill_color\":{\"value\":\"#1f77b4\"},\"line_alpha\":{\"value\":0.1},\"line_color\":{\"value\":\"#1f77b4\"},\"x\":{\"field\":\"x\"},\"y\":{\"field\":\"y\"}},\"id\":\"f4d36c65-2a03-4808-811d-499dc68d3e06\",\"type\":\"Circle\"},{\"attributes\":{\"callback\":null,\"column_names\":[\"y\",\"x\"],\"data\":{\"x\":[\"1950\",\"1951\",\"1952\",\"1953\",\"1954\",\"1955\",\"1956\",\"1957\",\"1958\",\"1959\",\"1960\",\"1961\",\"1962\",\"1963\",\"1964\",\"1965\",\"1966\",\"1967\",\"1968\",\"1969\",\"1970\",\"1971\",\"1972\",\"1973\",\"1974\",\"1975\",\"1976\",\"1977\",\"1978\",\"1979\",\"1980\",\"1981\",\"1982\",\"1983\",\"1984\",\"1985\",\"1986\",\"1987\",\"1988\",\"1989\",\"1990\",\"1991\",\"1992\",\"1993\",\"1994\",\"1995\",\"1996\",\"1997\",\"1998\",\"1999\",\"2000\",\"2001\",\"2002\",\"2003\",\"2004\",\"2005\",\"2006\",\"2007\",\"2008\",\"2009\",\"2010\",\"2011\",\"2012\",\"2013\",\"2014\",\"2015\"],\"y\":[0.0,0.0,0.0,0.0,0.0,0.0,0.0,0.0,0.0,0.0,0.0,0.00012484394506866417,0.023255813953488372,0.006516765181310134,0.031137452283421678,0.030427848795195726,0.041866273344652406,0.05725622549842596,0.043949464106783666,0.03909133353001812,0.0392037416224519,0.04356288722263538,0.05933489046947004,0.0769132138128301,0.05154190151877388,0.04032020777146867,0.04562165559899261,0.03390627238641324,0.048243650761916924,0.027759731220732695,0.028376888421843948,0.017554194052318443,0.04477750646039399,0.05138693812101549,0.03115114570031583,0.045580943215532695,0.024864890514911968,0.05349726385540425,0.05206186275926257,0.07962480741779403,0.07172654233469473,0.09640566379489525,0.11018193524646187,0.09391971114297916,0.1463683990440058,0.1233018196066946,0.10909363232404928,0.10158128007623032,0.05030539328588832,0.07552572914991731,0.11403540297039891,0.09672690483238094,0.09310603979930246,0.09911598562812762,0.09475568463177324,0.08405528499124061,0.10568534997204135,0.13777004773121124,0.16018424372199366,0.13465321106297604,0.1078598281051507,0.06900753836781563,0.09092827258165352,0.0976754235779052,0.12278106392672866,0.13572009422379921]}},\"id\":\"9cad939f-325d-42c3-bb33-930ccbd143a2\",\"type\":\"ColumnDataSource\"},{\"attributes\":{\"line_alpha\":{\"value\":0.1},\"line_color\":{\"value\":\"#1f77b4\"},\"x\":{\"field\":\"x\"},\"y\":{\"field\":\"y\"}},\"id\":\"b9e5d5fe-3cb7-4c04-a98f-7202ee68fef4\",\"type\":\"Line\"},{\"attributes\":{\"callback\":null,\"column_names\":[\"y\",\"x\"],\"data\":{\"x\":[\"1992\",\"1993\",\"1994\",\"1995\",\"1996\",\"1997\",\"1998\",\"1999\",\"2000\",\"2001\",\"2002\",\"2003\",\"2004\",\"2005\",\"2006\",\"2007\",\"2008\",\"2009\",\"2010\",\"2011\",\"2012\",\"2013\",\"2014\",\"2015\"],\"y\":[0.17177291746095955,0.1999738957037577,0.15391168010229375,0.20203964561382637,0.2099395369556992,0.11471137102620996,0.16565705258284116,0.19206417037921314,0.17706647476645002,0.15987534890148195,0.19858217200214667,0.10648627878846949,0.1995556279266344,0.17758993735877432,0.14405561864674615,0.15711816792165834,0.12240958745386657,0.168379441623755,0.20763844227173414,0.17083863636256996,0.1310298725667046,0.12241419353397123,0.1313667484912652,0.08712484295554641]}},\"id\":\"3ee5476a-ab03-4513-8178-5a391b48fb67\",\"type\":\"ColumnDataSource\"},{\"attributes\":{\"callback\":null,\"plot\":{\"id\":\"588ff450-d97d-47eb-8b27-f8080cc7fb2a\",\"subtype\":\"Figure\",\"type\":\"Plot\"}},\"id\":\"2df95c1b-8c5a-4a95-840f-32b0eaa493f4\",\"type\":\"TapTool\"},{\"attributes\":{\"data_source\":{\"id\":\"9cad939f-325d-42c3-bb33-930ccbd143a2\",\"type\":\"ColumnDataSource\"},\"glyph\":{\"id\":\"a50a02e5-15e3-47dd-8c34-91f1b04b092d\",\"type\":\"Line\"},\"hover_glyph\":null,\"nonselection_glyph\":{\"id\":\"e97eb759-c958-4e74-9f17-8db55a94bc74\",\"type\":\"Line\"},\"selection_glyph\":null},\"id\":\"b39a3e44-cb2f-4725-a270-60100078cae4\",\"type\":\"GlyphRenderer\"},{\"attributes\":{},\"id\":\"b4b15e0a-27c8-45d9-b4d1-a1a8d7c9ac4b\",\"type\":\"BasicTickFormatter\"},{\"attributes\":{\"callback\":null,\"column_names\":[\"y\",\"x\"],\"data\":{\"x\":[\"1950\",\"1951\",\"1952\",\"1953\",\"1954\",\"1955\",\"1956\",\"1957\",\"1958\",\"1959\",\"1960\",\"1961\",\"1962\",\"1963\",\"1964\",\"1965\",\"1966\",\"1967\",\"1968\",\"1969\",\"1970\",\"1971\",\"1972\",\"1973\",\"1974\",\"1975\",\"1976\",\"1977\",\"1978\",\"1979\",\"1980\",\"1981\",\"1982\",\"1983\",\"1984\",\"1985\",\"1986\",\"1987\",\"1988\",\"1989\",\"1990\",\"1991\",\"1992\",\"1993\",\"1994\",\"1995\",\"1996\",\"1997\",\"1998\",\"1999\",\"2000\",\"2001\",\"2002\",\"2003\",\"2004\",\"2005\",\"2006\",\"2007\",\"2008\",\"2009\",\"2010\",\"2011\",\"2012\",\"2013\",\"2014\",\"2015\"],\"y\":[0.05457516339869278,0.011372549019607846,0.009084556254367573,0.010309653916211296,0.03389115030906076,0.04693581780538302,0.01008869681814887,0.006183409436834094,0.017685891233396363,0.07010449867592726,0.005532660809659408,0.014992848610530454,0.0,0.00035052434030791814,0.011998473957979788,0.04893210618541987,0.05730809930451957,0.0427479814765284,0.011194007437401695,0.009503931442706951,0.020857782608255996,0.007551556869738687,0.00909678502864292,0.016212611430626314,0.005420909347906352,0.0018092893594619667,0.013658733036120294,0.03215516218950733,0.01337629867775852,0.04236797110353933,0.03974319173622268,0.03450366679457021,0.031165913038861234,0.0074256978161292035,0.006216434984385273,0.02188843671043706,0.060823832945391836,0.02376746401104782,0.019807532725180047,0.023242006259441936,0.038240110245596245,0.019414569946660132,0.012698140906415802,0.011605475027191831,0.019325298158325253,0.036292460123123274,0.02007499036488763,0.0023391191950309117,0.01718861163527069,0.012737274220686667,0.010876848677386714,0.010627275617919638,0.005524385911948295,0.01115702203327778,0.025079044517386122,0.03924037357917666,0.014125532036653518,0.00646318243674996,0.03832336455944882,0.01479025016714958,0.007986099642938659,0.018911944367239787,0.05076581203873523,0.05011243796328971,0.07740814436879934,0.01894220216773045]}},\"id\":\"4d344c00-0d63-4ec2-a9e8-4887459ebe18\",\"type\":\"ColumnDataSource\"},{\"attributes\":{\"callback\":null,\"column_names\":[\"y\",\"x\"],\"data\":{\"x\":[\"1950\",\"1951\",\"1952\",\"1953\",\"1954\",\"1955\",\"1956\",\"1957\",\"1958\",\"1959\",\"1960\",\"1961\",\"1962\",\"1963\",\"1964\",\"1965\",\"1966\",\"1967\",\"1968\",\"1969\",\"1970\",\"1971\",\"1972\",\"1973\",\"1974\",\"1975\",\"1976\",\"1977\",\"1978\",\"1979\",\"1980\",\"1981\",\"1982\",\"1983\",\"1984\",\"1985\",\"1986\",\"1987\",\"1988\",\"1989\",\"1990\",\"1991\",\"1992\",\"1993\",\"1994\",\"1995\",\"1996\",\"1997\",\"1998\",\"1999\",\"2000\",\"2001\",\"2002\",\"2003\",\"2004\",\"2005\",\"2006\",\"2007\",\"2008\",\"2009\",\"2010\",\"2011\",\"2012\",\"2013\",\"2014\",\"2015\"],\"y\":[0.49892810457516334,0.6243137254901959,0.6416259026321918,0.46990892531876144,0.45031121449031886,0.5560504781622793,0.5558989273030369,0.7772006595636733,0.5846182383349164,0.458286951144094,0.5201869678552707,0.46522291337631483,0.579901796968265,0.5667743587352593,0.46162121222729613,0.4944711371336659,0.4752470629624828,0.436022442190273,0.42529573014114463,0.4201110558217038,0.46586765809893665,0.4523496904189468,0.4707301011307498,0.43963007105833046,0.4412271018849063,0.38462782645635285,0.40115156525947654,0.3214022321602979,0.30690985580707625,0.2324300095533085,0.23009310772120548,0.3024488676220853,0.3322633777835981,0.28686435711731095,0.33546971372761014,0.3307612824518721,0.32212360729046247,0.3176311025184896,0.357332459798286,0.32904779179815813,0.3020696185297851,0.2703913090715028,0.29949797987252375,0.3906237388275787,0.3860371709593446,0.36143412136126696,0.4185784884848875,0.4018894563757055,0.3903428883156944,0.3229069923270783,0.3441903448190596,0.3435986238180869,0.3651498889443949,0.45911084458510554,0.2540057370782335,0.3073535599165357,0.3148320374886884,0.301039985663377,0.303060152545782,0.27861730549445957,0.26679975097229564,0.2920088113347947,0.31835899478316076,0.22017044683186238,0.29784181988061476,0.4083615309213274]}},\"id\":\"9ff1b986-3a3b-4050-b21a-97d0e80f7805\",\"type\":\"ColumnDataSource\"},{\"attributes\":{\"plot\":{\"id\":\"588ff450-d97d-47eb-8b27-f8080cc7fb2a\",\"subtype\":\"Figure\",\"type\":\"Plot\"}},\"id\":\"ca5e2142-8079-470a-b694-684d02dd7cf6\",\"type\":\"SaveTool\"},{\"attributes\":{\"plot\":{\"id\":\"588ff450-d97d-47eb-8b27-f8080cc7fb2a\",\"subtype\":\"Figure\",\"type\":\"Plot\"},\"ticker\":{\"id\":\"c581406a-3b16-4a39-babd-4966f037ef5a\",\"type\":\"BasicTicker\"}},\"id\":\"9ba3c740-2784-4cdd-934f-ff7cb8b04dfe\",\"type\":\"Grid\"},{\"attributes\":{\"data_source\":{\"id\":\"8ee2c112-3520-4510-bb34-dea4c47b4f32\",\"type\":\"ColumnDataSource\"},\"glyph\":{\"id\":\"f3879ff8-af5c-40ae-9c7b-0baf057ccd99\",\"type\":\"Circle\"},\"hover_glyph\":null,\"nonselection_glyph\":{\"id\":\"f4d36c65-2a03-4808-811d-499dc68d3e06\",\"type\":\"Circle\"},\"selection_glyph\":null},\"id\":\"b2a723c2-5e70-4856-bccc-ca92437a1ede\",\"type\":\"GlyphRenderer\"},{\"attributes\":{\"plot\":null,\"text\":\"Influence over time\"},\"id\":\"090db294-edaa-409c-af94-c67e74780d0c\",\"type\":\"Title\"},{\"attributes\":{\"line_color\":{\"value\":\"#ffff33\"},\"x\":{\"field\":\"x\"},\"y\":{\"field\":\"y\"}},\"id\":\"afc46876-fc14-4555-ab18-b35dd9883497\",\"type\":\"Line\"},{\"attributes\":{\"data_source\":{\"id\":\"4641aada-97de-42a6-82af-6f5be6bd51eb\",\"type\":\"ColumnDataSource\"},\"glyph\":{\"id\":\"4f513be4-769b-4295-ae32-b63159d34903\",\"type\":\"Line\"},\"hover_glyph\":null,\"nonselection_glyph\":{\"id\":\"70114c73-1a53-409b-9c92-a713b0ad8190\",\"type\":\"Line\"},\"selection_glyph\":null},\"id\":\"539974fb-5a2d-4a83-b7a4-c76f49072d36\",\"type\":\"GlyphRenderer\"},{\"attributes\":{\"plot\":{\"id\":\"588ff450-d97d-47eb-8b27-f8080cc7fb2a\",\"subtype\":\"Figure\",\"type\":\"Plot\"}},\"id\":\"c6745d23-1200-481b-a477-d5f93f4d7007\",\"type\":\"PanTool\"},{\"attributes\":{\"label\":{\"value\":\"Myanmar\"},\"renderers\":[{\"id\":\"f62c58ab-bd18-4cf7-bc72-2d44aa183001\",\"type\":\"GlyphRenderer\"}]},\"id\":\"a49df13c-2664-4446-b27d-c7743889cfc0\",\"type\":\"LegendItem\"},{\"attributes\":{\"line_alpha\":{\"value\":0.1},\"line_color\":{\"value\":\"#1f77b4\"},\"x\":{\"field\":\"x\"},\"y\":{\"field\":\"y\"}},\"id\":\"83d36ff6-6d6a-4264-89cf-2cf575128a58\",\"type\":\"Line\"},{\"attributes\":{},\"id\":\"4a7e0fbe-b523-4efa-8f39-2c8bce37a113\",\"type\":\"ToolEvents\"},{\"attributes\":{\"label\":{\"value\":\"Russia\"},\"renderers\":[{\"id\":\"95c13f43-1958-4dc8-ba38-4ae79c4b77e3\",\"type\":\"GlyphRenderer\"}]},\"id\":\"1dfa4231-f9be-4aab-b18e-2a6f9103d254\",\"type\":\"LegendItem\"},{\"attributes\":{\"data_source\":{\"id\":\"99f916da-860f-4e46-885b-1f56e27ef5f7\",\"type\":\"ColumnDataSource\"},\"glyph\":{\"id\":\"08e0e31f-c46d-4c91-bf77-447e7b4bc632\",\"type\":\"Line\"},\"hover_glyph\":null,\"nonselection_glyph\":{\"id\":\"83d36ff6-6d6a-4264-89cf-2cf575128a58\",\"type\":\"Line\"},\"selection_glyph\":null},\"id\":\"f62c58ab-bd18-4cf7-bc72-2d44aa183001\",\"type\":\"GlyphRenderer\"},{\"attributes\":{\"callback\":null,\"column_names\":[\"y\",\"x\"],\"data\":{\"x\":[\"1950\",\"1951\",\"1952\",\"1953\",\"1954\",\"1955\",\"1956\",\"1957\",\"1958\",\"1959\",\"1960\",\"1961\",\"1962\",\"1963\",\"1964\",\"1965\",\"1966\",\"1967\",\"1968\",\"1969\",\"1970\",\"1971\",\"1972\",\"1973\",\"1974\",\"1975\",\"1976\",\"1977\",\"1978\",\"1979\",\"1980\",\"1981\",\"1982\",\"1983\",\"1984\",\"1985\",\"1986\",\"1987\",\"1988\",\"1989\",\"1990\",\"1991\"],\"y\":[0.30977777777777776,0.2580392156862745,0.3081761006289308,0.024043715846994537,0.024423337856173677,0.3178684807256236,0.28489300210190616,0.27796803652968033,0.3356971975393029,0.36746586746586746,0.3042887972761744,0.3355758312817309,0.3397596384910299,0.3269009652631634,0.22312111523316597,0.25267621489481357,0.22370518222619215,0.32207560597245677,0.24069153894385845,0.2033057363033372,0.22612372372046707,0.2275441646309043,0.2579875411083415,0.21583804916110683,0.2372406987626171,0.24664289374680973,0.23484411458954943,0.23826592860160434,0.24643992759007677,0.2707796220686297,0.31849935300117854,0.2708397401966884,0.27889690692626284,0.26688389226993375,0.26996066917919037,0.22858063474120022,0.29634802193122417,0.3104357224522925,0.2900407910254089,0.26955057312516606,0.24781829473896147,0.16729107491515677]}},\"id\":\"4641aada-97de-42a6-82af-6f5be6bd51eb\",\"type\":\"ColumnDataSource\"},{\"attributes\":{\"bounds\":[1950,2015],\"formatter\":{\"id\":\"3a3ecd72-75fa-4ab5-8adc-c4b1e4ae4b8a\",\"type\":\"BasicTickFormatter\"},\"plot\":{\"id\":\"588ff450-d97d-47eb-8b27-f8080cc7fb2a\",\"subtype\":\"Figure\",\"type\":\"Plot\"},\"ticker\":{\"id\":\"c581406a-3b16-4a39-babd-4966f037ef5a\",\"type\":\"BasicTicker\"}},\"id\":\"efb68eb2-7115-45a7-bf37-64bd34794427\",\"type\":\"LinearAxis\"},{\"attributes\":{\"line_color\":{\"value\":\"#984ea3\"},\"x\":{\"field\":\"x\"},\"y\":{\"field\":\"y\"}},\"id\":\"08e0e31f-c46d-4c91-bf77-447e7b4bc632\",\"type\":\"Line\"},{\"attributes\":{\"line_color\":{\"value\":\"#e41a1c\"},\"x\":{\"field\":\"x\"},\"y\":{\"field\":\"y\"}},\"id\":\"65ec75a2-4c24-4f59-b40a-db927ee0263b\",\"type\":\"Line\"},{\"attributes\":{\"data_source\":{\"id\":\"9ff1b986-3a3b-4050-b21a-97d0e80f7805\",\"type\":\"ColumnDataSource\"},\"glyph\":{\"id\":\"c487604f-478c-447d-9dc7-f2351c71457a\",\"type\":\"Line\"},\"hover_glyph\":null,\"nonselection_glyph\":{\"id\":\"67d8ff4d-f62c-4bfe-9998-49b9cf4f7e1a\",\"type\":\"Line\"},\"selection_glyph\":null},\"id\":\"5b3f79d8-cd0d-4897-a950-ec1425ab812d\",\"type\":\"GlyphRenderer\"},{\"attributes\":{\"callback\":null,\"end\":2015,\"start\":1950},\"id\":\"76e513ec-c24e-4885-8fe9-3f0021ea557e\",\"type\":\"DataRange1d\"},{\"attributes\":{\"fill_color\":{\"field\":\"color\"},\"line_color\":{\"field\":\"color\"},\"x\":{\"field\":\"x\"},\"y\":{\"field\":\"y\"}},\"id\":\"f3879ff8-af5c-40ae-9c7b-0baf057ccd99\",\"type\":\"Circle\"},{\"attributes\":{\"label\":{\"value\":\"Canada\"},\"renderers\":[{\"id\":\"40547d3f-c939-45ec-bc41-72c349525e68\",\"type\":\"GlyphRenderer\"}]},\"id\":\"64f71d7d-6f2e-4c63-8ddd-ba358c9549a4\",\"type\":\"LegendItem\"},{\"attributes\":{\"active_drag\":\"auto\",\"active_scroll\":\"auto\",\"active_tap\":\"auto\",\"tools\":[{\"id\":\"c6745d23-1200-481b-a477-d5f93f4d7007\",\"type\":\"PanTool\"},{\"id\":\"2df95c1b-8c5a-4a95-840f-32b0eaa493f4\",\"type\":\"TapTool\"},{\"id\":\"2cd13ca7-318c-450f-91bb-71b268bd2825\",\"type\":\"BoxZoomTool\"},{\"id\":\"dd211e27-c69e-4822-97b4-6ec166292a8f\",\"type\":\"ResetTool\"},{\"id\":\"fa30dd48-3518-4978-a3c8-72f5873c44c8\",\"type\":\"WheelZoomTool\"},{\"id\":\"ca5e2142-8079-470a-b694-684d02dd7cf6\",\"type\":\"SaveTool\"},{\"id\":\"9585e764-3e3a-4721-b254-8878916cfe85\",\"type\":\"HoverTool\"}]},\"id\":\"ef620c01-2e7c-41b1-9cce-d8b163358cae\",\"type\":\"Toolbar\"},{\"attributes\":{\"data_source\":{\"id\":\"3ee5476a-ab03-4513-8178-5a391b48fb67\",\"type\":\"ColumnDataSource\"},\"glyph\":{\"id\":\"afc46876-fc14-4555-ab18-b35dd9883497\",\"type\":\"Line\"},\"hover_glyph\":null,\"nonselection_glyph\":{\"id\":\"b9e5d5fe-3cb7-4c04-a98f-7202ee68fef4\",\"type\":\"Line\"},\"selection_glyph\":null},\"id\":\"95c13f43-1958-4dc8-ba38-4ae79c4b77e3\",\"type\":\"GlyphRenderer\"},{\"attributes\":{\"data_source\":{\"id\":\"4d344c00-0d63-4ec2-a9e8-4887459ebe18\",\"type\":\"ColumnDataSource\"},\"glyph\":{\"id\":\"65ec75a2-4c24-4f59-b40a-db927ee0263b\",\"type\":\"Line\"},\"hover_glyph\":null,\"nonselection_glyph\":{\"id\":\"559157e6-0d15-48d0-a515-7b732976e0e4\",\"type\":\"Line\"},\"selection_glyph\":null},\"id\":\"40547d3f-c939-45ec-bc41-72c349525e68\",\"type\":\"GlyphRenderer\"},{\"attributes\":{\"line_alpha\":{\"value\":0.1},\"line_color\":{\"value\":\"#1f77b4\"},\"x\":{\"field\":\"x\"},\"y\":{\"field\":\"y\"}},\"id\":\"559157e6-0d15-48d0-a515-7b732976e0e4\",\"type\":\"Line\"},{\"attributes\":{\"below\":[{\"id\":\"efb68eb2-7115-45a7-bf37-64bd34794427\",\"type\":\"LinearAxis\"}],\"left\":[{\"id\":\"d2064353-c2ca-4f17-a294-7194e4539f5c\",\"type\":\"LinearAxis\"}],\"plot_height\":400,\"renderers\":[{\"id\":\"efb68eb2-7115-45a7-bf37-64bd34794427\",\"type\":\"LinearAxis\"},{\"id\":\"9ba3c740-2784-4cdd-934f-ff7cb8b04dfe\",\"type\":\"Grid\"},{\"id\":\"d2064353-c2ca-4f17-a294-7194e4539f5c\",\"type\":\"LinearAxis\"},{\"id\":\"2506ed84-198e-4166-940a-4c1296f20186\",\"type\":\"Grid\"},{\"id\":\"6d280ea5-a5cd-4610-b07f-e0fc2de955d3\",\"type\":\"BoxAnnotation\"},{\"id\":\"01805651-c2fb-4fc7-9f59-6787c8fc5f67\",\"type\":\"Legend\"},{\"id\":\"40547d3f-c939-45ec-bc41-72c349525e68\",\"type\":\"GlyphRenderer\"},{\"id\":\"5b3f79d8-cd0d-4897-a950-ec1425ab812d\",\"type\":\"GlyphRenderer\"},{\"id\":\"b39a3e44-cb2f-4725-a270-60100078cae4\",\"type\":\"GlyphRenderer\"},{\"id\":\"f62c58ab-bd18-4cf7-bc72-2d44aa183001\",\"type\":\"GlyphRenderer\"},{\"id\":\"539974fb-5a2d-4a83-b7a4-c76f49072d36\",\"type\":\"GlyphRenderer\"},{\"id\":\"95c13f43-1958-4dc8-ba38-4ae79c4b77e3\",\"type\":\"GlyphRenderer\"},{\"id\":\"b2a723c2-5e70-4856-bccc-ca92437a1ede\",\"type\":\"GlyphRenderer\"}],\"title\":{\"id\":\"090db294-edaa-409c-af94-c67e74780d0c\",\"type\":\"Title\"},\"tool_events\":{\"id\":\"4a7e0fbe-b523-4efa-8f39-2c8bce37a113\",\"type\":\"ToolEvents\"},\"toolbar\":{\"id\":\"ef620c01-2e7c-41b1-9cce-d8b163358cae\",\"type\":\"Toolbar\"},\"x_range\":{\"id\":\"76e513ec-c24e-4885-8fe9-3f0021ea557e\",\"type\":\"DataRange1d\"},\"y_range\":{\"id\":\"14742f11-f8d1-4299-b96d-5d25d55025aa\",\"type\":\"DataRange1d\"}},\"id\":\"588ff450-d97d-47eb-8b27-f8080cc7fb2a\",\"subtype\":\"Figure\",\"type\":\"Plot\"},{\"attributes\":{\"label\":{\"value\":\"United States\"},\"renderers\":[{\"id\":\"5b3f79d8-cd0d-4897-a950-ec1425ab812d\",\"type\":\"GlyphRenderer\"}]},\"id\":\"ef9db5fe-ee13-4eda-9adc-5794b1617090\",\"type\":\"LegendItem\"},{\"attributes\":{\"bounds\":[0,1],\"formatter\":{\"id\":\"b4b15e0a-27c8-45d9-b4d1-a1a8d7c9ac4b\",\"type\":\"BasicTickFormatter\"},\"plot\":{\"id\":\"588ff450-d97d-47eb-8b27-f8080cc7fb2a\",\"subtype\":\"Figure\",\"type\":\"Plot\"},\"ticker\":{\"id\":\"f137d9de-d8f4-49bf-aac4-25387fca23cc\",\"type\":\"BasicTicker\"}},\"id\":\"d2064353-c2ca-4f17-a294-7194e4539f5c\",\"type\":\"LinearAxis\"},{\"attributes\":{},\"id\":\"c581406a-3b16-4a39-babd-4966f037ef5a\",\"type\":\"BasicTicker\"},{\"attributes\":{\"bottom_units\":\"screen\",\"fill_alpha\":{\"value\":0.5},\"fill_color\":{\"value\":\"lightgrey\"},\"left_units\":\"screen\",\"level\":\"overlay\",\"line_alpha\":{\"value\":1.0},\"line_color\":{\"value\":\"black\"},\"line_dash\":[4,4],\"line_width\":{\"value\":2},\"plot\":null,\"render_mode\":\"css\",\"right_units\":\"screen\",\"top_units\":\"screen\"},\"id\":\"6d280ea5-a5cd-4610-b07f-e0fc2de955d3\",\"type\":\"BoxAnnotation\"},{\"attributes\":{\"plot\":{\"id\":\"588ff450-d97d-47eb-8b27-f8080cc7fb2a\",\"subtype\":\"Figure\",\"type\":\"Plot\"}},\"id\":\"fa30dd48-3518-4978-a3c8-72f5873c44c8\",\"type\":\"WheelZoomTool\"},{\"attributes\":{\"line_color\":{\"value\":\"#4daf4a\"},\"x\":{\"field\":\"x\"},\"y\":{\"field\":\"y\"}},\"id\":\"a50a02e5-15e3-47dd-8c34-91f1b04b092d\",\"type\":\"Line\"},{\"attributes\":{},\"id\":\"3a3ecd72-75fa-4ab5-8adc-c4b1e4ae4b8a\",\"type\":\"BasicTickFormatter\"},{\"attributes\":{\"line_color\":{\"value\":\"#377eb8\"},\"x\":{\"field\":\"x\"},\"y\":{\"field\":\"y\"}},\"id\":\"c487604f-478c-447d-9dc7-f2351c71457a\",\"type\":\"Line\"},{\"attributes\":{\"label\":{\"value\":\"China\"},\"renderers\":[{\"id\":\"b39a3e44-cb2f-4725-a270-60100078cae4\",\"type\":\"GlyphRenderer\"}]},\"id\":\"3e76dfe1-a967-4cde-87f1-0f5ba50cbc85\",\"type\":\"LegendItem\"},{\"attributes\":{\"callback\":null,\"column_names\":[\"y\",\"x\"],\"data\":{\"x\":[\"1950\",\"1953\",\"1954\",\"1955\",\"1956\",\"1957\",\"1958\",\"1959\",\"1960\",\"1961\",\"1962\",\"1963\",\"1964\",\"1965\",\"1966\",\"1967\",\"1968\",\"1969\",\"1970\",\"1971\",\"1972\",\"1975\",\"1976\",\"1977\",\"1978\",\"1979\",\"1980\",\"1982\",\"1986\",\"1989\",\"1990\",\"1991\",\"1992\",\"1993\",\"1994\",\"1995\",\"1996\",\"1997\",\"1998\",\"1999\",\"2000\",\"2001\",\"2002\",\"2003\",\"2004\",\"2005\",\"2006\",\"2007\",\"2008\",\"2009\",\"2010\",\"2011\",\"2012\",\"2013\",\"2014\",\"2015\"],\"y\":[0.0,0.0,0.0026910900045228406,0.0,0.0,0.0,0.0035885167464114833,0.000111000111000111,0.0008259311204612748,0.0,0.0,0.04551002251479145,0.0,0.002383123106876526,0.0,0.0,0.0,0.0014052085480656912,0.000987095869275545,0.0018591318591318592,0.0,0.0,5.2791708923188074e-05,0.0007104988026019784,0.0,0.0,0.00011385395642498575,0.0,7.59892503011769e-05,0.0,0.0011183562002889734,0.0012085756080265346,0.010988734349072429,0.0,0.00032991927539580986,0.0,0.0,0.0,0.0,0.006179557724515994,7.701193685021177e-05,0.009134964784189976,0.0015145242099419995,0.0019813920017347996,0.0,0.0,0.01763785469142612,0.017855774650970605,0.020318088303209587,0.0009329214106548768,0.0001649753181457618,0.003038598058923513,0.0,0.0,0.0,0.0007741142795244628]}},\"id\":\"99f916da-860f-4e46-885b-1f56e27ef5f7\",\"type\":\"ColumnDataSource\"},{\"attributes\":{\"plot\":{\"id\":\"588ff450-d97d-47eb-8b27-f8080cc7fb2a\",\"subtype\":\"Figure\",\"type\":\"Plot\"}},\"id\":\"dd211e27-c69e-4822-97b4-6ec166292a8f\",\"type\":\"ResetTool\"},{\"attributes\":{\"callback\":null,\"column_names\":[\"color\",\"country\",\"y\",\"x\"],\"data\":{\"color\":[\"#e41a1c\",\"#e41a1c\",\"#e41a1c\",\"#e41a1c\",\"#e41a1c\",\"#e41a1c\",\"#e41a1c\",\"#e41a1c\",\"#e41a1c\",\"#e41a1c\",\"#e41a1c\",\"#e41a1c\",\"#e41a1c\",\"#e41a1c\",\"#e41a1c\",\"#e41a1c\",\"#e41a1c\",\"#e41a1c\",\"#e41a1c\",\"#e41a1c\",\"#e41a1c\",\"#e41a1c\",\"#e41a1c\",\"#e41a1c\",\"#e41a1c\",\"#e41a1c\",\"#e41a1c\",\"#e41a1c\",\"#e41a1c\",\"#e41a1c\",\"#e41a1c\",\"#e41a1c\",\"#e41a1c\",\"#e41a1c\",\"#e41a1c\",\"#e41a1c\",\"#e41a1c\",\"#e41a1c\",\"#e41a1c\",\"#e41a1c\",\"#e41a1c\",\"#e41a1c\",\"#e41a1c\",\"#e41a1c\",\"#e41a1c\",\"#e41a1c\",\"#e41a1c\",\"#e41a1c\",\"#e41a1c\",\"#e41a1c\",\"#e41a1c\",\"#e41a1c\",\"#e41a1c\",\"#e41a1c\",\"#e41a1c\",\"#e41a1c\",\"#e41a1c\",\"#e41a1c\",\"#e41a1c\",\"#e41a1c\",\"#e41a1c\",\"#e41a1c\",\"#e41a1c\",\"#e41a1c\",\"#e41a1c\",\"#e41a1c\",\"#377eb8\",\"#377eb8\",\"#377eb8\",\"#377eb8\",\"#377eb8\",\"#377eb8\",\"#377eb8\",\"#377eb8\",\"#377eb8\",\"#377eb8\",\"#377eb8\",\"#377eb8\",\"#377eb8\",\"#377eb8\",\"#377eb8\",\"#377eb8\",\"#377eb8\",\"#377eb8\",\"#377eb8\",\"#377eb8\",\"#377eb8\",\"#377eb8\",\"#377eb8\",\"#377eb8\",\"#377eb8\",\"#377eb8\",\"#377eb8\",\"#377eb8\",\"#377eb8\",\"#377eb8\",\"#377eb8\",\"#377eb8\",\"#377eb8\",\"#377eb8\",\"#377eb8\",\"#377eb8\",\"#377eb8\",\"#377eb8\",\"#377eb8\",\"#377eb8\",\"#377eb8\",\"#377eb8\",\"#377eb8\",\"#377eb8\",\"#377eb8\",\"#377eb8\",\"#377eb8\",\"#377eb8\",\"#377eb8\",\"#377eb8\",\"#377eb8\",\"#377eb8\",\"#377eb8\",\"#377eb8\",\"#377eb8\",\"#377eb8\",\"#377eb8\",\"#377eb8\",\"#377eb8\",\"#377eb8\",\"#377eb8\",\"#377eb8\",\"#377eb8\",\"#377eb8\",\"#377eb8\",\"#377eb8\",\"#4daf4a\",\"#4daf4a\",\"#4daf4a\",\"#4daf4a\",\"#4daf4a\",\"#4daf4a\",\"#4daf4a\",\"#4daf4a\",\"#4daf4a\",\"#4daf4a\",\"#4daf4a\",\"#4daf4a\",\"#4daf4a\",\"#4daf4a\",\"#4daf4a\",\"#4daf4a\",\"#4daf4a\",\"#4daf4a\",\"#4daf4a\",\"#4daf4a\",\"#4daf4a\",\"#4daf4a\",\"#4daf4a\",\"#4daf4a\",\"#4daf4a\",\"#4daf4a\",\"#4daf4a\",\"#4daf4a\",\"#4daf4a\",\"#4daf4a\",\"#4daf4a\",\"#4daf4a\",\"#4daf4a\",\"#4daf4a\",\"#4daf4a\",\"#4daf4a\",\"#4daf4a\",\"#4daf4a\",\"#4daf4a\",\"#4daf4a\",\"#4daf4a\",\"#4daf4a\",\"#4daf4a\",\"#4daf4a\",\"#4daf4a\",\"#4daf4a\",\"#4daf4a\",\"#4daf4a\",\"#4daf4a\",\"#4daf4a\",\"#4daf4a\",\"#4daf4a\",\"#4daf4a\",\"#4daf4a\",\"#4daf4a\",\"#4daf4a\",\"#4daf4a\",\"#4daf4a\",\"#4daf4a\",\"#4daf4a\",\"#4daf4a\",\"#4daf4a\",\"#4daf4a\",\"#4daf4a\",\"#4daf4a\",\"#4daf4a\",\"#984ea3\",\"#984ea3\",\"#984ea3\",\"#984ea3\",\"#984ea3\",\"#984ea3\",\"#984ea3\",\"#984ea3\",\"#984ea3\",\"#984ea3\",\"#984ea3\",\"#984ea3\",\"#984ea3\",\"#984ea3\",\"#984ea3\",\"#984ea3\",\"#984ea3\",\"#984ea3\",\"#984ea3\",\"#984ea3\",\"#984ea3\",\"#984ea3\",\"#984ea3\",\"#984ea3\",\"#984ea3\",\"#984ea3\",\"#984ea3\",\"#984ea3\",\"#984ea3\",\"#984ea3\",\"#984ea3\",\"#984ea3\",\"#984ea3\",\"#984ea3\",\"#984ea3\",\"#984ea3\",\"#984ea3\",\"#984ea3\",\"#984ea3\",\"#984ea3\",\"#984ea3\",\"#984ea3\",\"#984ea3\",\"#984ea3\",\"#984ea3\",\"#984ea3\",\"#984ea3\",\"#984ea3\",\"#984ea3\",\"#984ea3\",\"#984ea3\",\"#984ea3\",\"#984ea3\",\"#984ea3\",\"#984ea3\",\"#984ea3\",\"#ff7f00\",\"#ff7f00\",\"#ff7f00\",\"#ff7f00\",\"#ff7f00\",\"#ff7f00\",\"#ff7f00\",\"#ff7f00\",\"#ff7f00\",\"#ff7f00\",\"#ff7f00\",\"#ff7f00\",\"#ff7f00\",\"#ff7f00\",\"#ff7f00\",\"#ff7f00\",\"#ff7f00\",\"#ff7f00\",\"#ff7f00\",\"#ff7f00\",\"#ff7f00\",\"#ff7f00\",\"#ff7f00\",\"#ff7f00\",\"#ff7f00\",\"#ff7f00\",\"#ff7f00\",\"#ff7f00\",\"#ff7f00\",\"#ff7f00\",\"#ff7f00\",\"#ff7f00\",\"#ff7f00\",\"#ff7f00\",\"#ff7f00\",\"#ff7f00\",\"#ff7f00\",\"#ff7f00\",\"#ff7f00\",\"#ff7f00\",\"#ff7f00\",\"#ff7f00\",\"#ffff33\",\"#ffff33\",\"#ffff33\",\"#ffff33\",\"#ffff33\",\"#ffff33\",\"#ffff33\",\"#ffff33\",\"#ffff33\",\"#ffff33\",\"#ffff33\",\"#ffff33\",\"#ffff33\",\"#ffff33\",\"#ffff33\",\"#ffff33\",\"#ffff33\",\"#ffff33\",\"#ffff33\",\"#ffff33\",\"#ffff33\",\"#ffff33\",\"#ffff33\",\"#ffff33\"],\"country\":[\"Canada\",\"Canada\",\"Canada\",\"Canada\",\"Canada\",\"Canada\",\"Canada\",\"Canada\",\"Canada\",\"Canada\",\"Canada\",\"Canada\",\"Canada\",\"Canada\",\"Canada\",\"Canada\",\"Canada\",\"Canada\",\"Canada\",\"Canada\",\"Canada\",\"Canada\",\"Canada\",\"Canada\",\"Canada\",\"Canada\",\"Canada\",\"Canada\",\"Canada\",\"Canada\",\"Canada\",\"Canada\",\"Canada\",\"Canada\",\"Canada\",\"Canada\",\"Canada\",\"Canada\",\"Canada\",\"Canada\",\"Canada\",\"Canada\",\"Canada\",\"Canada\",\"Canada\",\"Canada\",\"Canada\",\"Canada\",\"Canada\",\"Canada\",\"Canada\",\"Canada\",\"Canada\",\"Canada\",\"Canada\",\"Canada\",\"Canada\",\"Canada\",\"Canada\",\"Canada\",\"Canada\",\"Canada\",\"Canada\",\"Canada\",\"Canada\",\"Canada\",\"United States\",\"United States\",\"United States\",\"United States\",\"United States\",\"United States\",\"United States\",\"United States\",\"United States\",\"United States\",\"United States\",\"United States\",\"United States\",\"United States\",\"United States\",\"United States\",\"United States\",\"United States\",\"United States\",\"United States\",\"United States\",\"United States\",\"United States\",\"United States\",\"United States\",\"United States\",\"United States\",\"United States\",\"United States\",\"United States\",\"United States\",\"United States\",\"United States\",\"United States\",\"United States\",\"United States\",\"United States\",\"United States\",\"United States\",\"United States\",\"United States\",\"United States\",\"United States\",\"United States\",\"United States\",\"United States\",\"United States\",\"United States\",\"United States\",\"United States\",\"United States\",\"United States\",\"United States\",\"United States\",\"United States\",\"United States\",\"United States\",\"United States\",\"United States\",\"United States\",\"United States\",\"United States\",\"United States\",\"United States\",\"United States\",\"United States\",\"China\",\"China\",\"China\",\"China\",\"China\",\"China\",\"China\",\"China\",\"China\",\"China\",\"China\",\"China\",\"China\",\"China\",\"China\",\"China\",\"China\",\"China\",\"China\",\"China\",\"China\",\"China\",\"China\",\"China\",\"China\",\"China\",\"China\",\"China\",\"China\",\"China\",\"China\",\"China\",\"China\",\"China\",\"China\",\"China\",\"China\",\"China\",\"China\",\"China\",\"China\",\"China\",\"China\",\"China\",\"China\",\"China\",\"China\",\"China\",\"China\",\"China\",\"China\",\"China\",\"China\",\"China\",\"China\",\"China\",\"China\",\"China\",\"China\",\"China\",\"China\",\"China\",\"China\",\"China\",\"China\",\"China\",\"Myanmar\",\"Myanmar\",\"Myanmar\",\"Myanmar\",\"Myanmar\",\"Myanmar\",\"Myanmar\",\"Myanmar\",\"Myanmar\",\"Myanmar\",\"Myanmar\",\"Myanmar\",\"Myanmar\",\"Myanmar\",\"Myanmar\",\"Myanmar\",\"Myanmar\",\"Myanmar\",\"Myanmar\",\"Myanmar\",\"Myanmar\",\"Myanmar\",\"Myanmar\",\"Myanmar\",\"Myanmar\",\"Myanmar\",\"Myanmar\",\"Myanmar\",\"Myanmar\",\"Myanmar\",\"Myanmar\",\"Myanmar\",\"Myanmar\",\"Myanmar\",\"Myanmar\",\"Myanmar\",\"Myanmar\",\"Myanmar\",\"Myanmar\",\"Myanmar\",\"Myanmar\",\"Myanmar\",\"Myanmar\",\"Myanmar\",\"Myanmar\",\"Myanmar\",\"Myanmar\",\"Myanmar\",\"Myanmar\",\"Myanmar\",\"Myanmar\",\"Myanmar\",\"Myanmar\",\"Myanmar\",\"Myanmar\",\"Myanmar\",\"Soviet Union\",\"Soviet Union\",\"Soviet Union\",\"Soviet Union\",\"Soviet Union\",\"Soviet Union\",\"Soviet Union\",\"Soviet Union\",\"Soviet Union\",\"Soviet Union\",\"Soviet Union\",\"Soviet Union\",\"Soviet Union\",\"Soviet Union\",\"Soviet Union\",\"Soviet Union\",\"Soviet Union\",\"Soviet Union\",\"Soviet Union\",\"Soviet Union\",\"Soviet Union\",\"Soviet Union\",\"Soviet Union\",\"Soviet Union\",\"Soviet Union\",\"Soviet Union\",\"Soviet Union\",\"Soviet Union\",\"Soviet Union\",\"Soviet Union\",\"Soviet Union\",\"Soviet Union\",\"Soviet Union\",\"Soviet Union\",\"Soviet Union\",\"Soviet Union\",\"Soviet Union\",\"Soviet Union\",\"Soviet Union\",\"Soviet Union\",\"Soviet Union\",\"Soviet Union\",\"Russia\",\"Russia\",\"Russia\",\"Russia\",\"Russia\",\"Russia\",\"Russia\",\"Russia\",\"Russia\",\"Russia\",\"Russia\",\"Russia\",\"Russia\",\"Russia\",\"Russia\",\"Russia\",\"Russia\",\"Russia\",\"Russia\",\"Russia\",\"Russia\",\"Russia\",\"Russia\",\"Russia\"],\"x\":[\"1950\",\"1951\",\"1952\",\"1953\",\"1954\",\"1955\",\"1956\",\"1957\",\"1958\",\"1959\",\"1960\",\"1961\",\"1962\",\"1963\",\"1964\",\"1965\",\"1966\",\"1967\",\"1968\",\"1969\",\"1970\",\"1971\",\"1972\",\"1973\",\"1974\",\"1975\",\"1976\",\"1977\",\"1978\",\"1979\",\"1980\",\"1981\",\"1982\",\"1983\",\"1984\",\"1985\",\"1986\",\"1987\",\"1988\",\"1989\",\"1990\",\"1991\",\"1992\",\"1993\",\"1994\",\"1995\",\"1996\",\"1997\",\"1998\",\"1999\",\"2000\",\"2001\",\"2002\",\"2003\",\"2004\",\"2005\",\"2006\",\"2007\",\"2008\",\"2009\",\"2010\",\"2011\",\"2012\",\"2013\",\"2014\",\"2015\",\"1950\",\"1951\",\"1952\",\"1953\",\"1954\",\"1955\",\"1956\",\"1957\",\"1958\",\"1959\",\"1960\",\"1961\",\"1962\",\"1963\",\"1964\",\"1965\",\"1966\",\"1967\",\"1968\",\"1969\",\"1970\",\"1971\",\"1972\",\"1973\",\"1974\",\"1975\",\"1976\",\"1977\",\"1978\",\"1979\",\"1980\",\"1981\",\"1982\",\"1983\",\"1984\",\"1985\",\"1986\",\"1987\",\"1988\",\"1989\",\"1990\",\"1991\",\"1992\",\"1993\",\"1994\",\"1995\",\"1996\",\"1997\",\"1998\",\"1999\",\"2000\",\"2001\",\"2002\",\"2003\",\"2004\",\"2005\",\"2006\",\"2007\",\"2008\",\"2009\",\"2010\",\"2011\",\"2012\",\"2013\",\"2014\",\"2015\",\"1950\",\"1951\",\"1952\",\"1953\",\"1954\",\"1955\",\"1956\",\"1957\",\"1958\",\"1959\",\"1960\",\"1961\",\"1962\",\"1963\",\"1964\",\"1965\",\"1966\",\"1967\",\"1968\",\"1969\",\"1970\",\"1971\",\"1972\",\"1973\",\"1974\",\"1975\",\"1976\",\"1977\",\"1978\",\"1979\",\"1980\",\"1981\",\"1982\",\"1983\",\"1984\",\"1985\",\"1986\",\"1987\",\"1988\",\"1989\",\"1990\",\"1991\",\"1992\",\"1993\",\"1994\",\"1995\",\"1996\",\"1997\",\"1998\",\"1999\",\"2000\",\"2001\",\"2002\",\"2003\",\"2004\",\"2005\",\"2006\",\"2007\",\"2008\",\"2009\",\"2010\",\"2011\",\"2012\",\"2013\",\"2014\",\"2015\",\"1950\",\"1953\",\"1954\",\"1955\",\"1956\",\"1957\",\"1958\",\"1959\",\"1960\",\"1961\",\"1962\",\"1963\",\"1964\",\"1965\",\"1966\",\"1967\",\"1968\",\"1969\",\"1970\",\"1971\",\"1972\",\"1975\",\"1976\",\"1977\",\"1978\",\"1979\",\"1980\",\"1982\",\"1986\",\"1989\",\"1990\",\"1991\",\"1992\",\"1993\",\"1994\",\"1995\",\"1996\",\"1997\",\"1998\",\"1999\",\"2000\",\"2001\",\"2002\",\"2003\",\"2004\",\"2005\",\"2006\",\"2007\",\"2008\",\"2009\",\"2010\",\"2011\",\"2012\",\"2013\",\"2014\",\"2015\",\"1950\",\"1951\",\"1952\",\"1953\",\"1954\",\"1955\",\"1956\",\"1957\",\"1958\",\"1959\",\"1960\",\"1961\",\"1962\",\"1963\",\"1964\",\"1965\",\"1966\",\"1967\",\"1968\",\"1969\",\"1970\",\"1971\",\"1972\",\"1973\",\"1974\",\"1975\",\"1976\",\"1977\",\"1978\",\"1979\",\"1980\",\"1981\",\"1982\",\"1983\",\"1984\",\"1985\",\"1986\",\"1987\",\"1988\",\"1989\",\"1990\",\"1991\",\"1992\",\"1993\",\"1994\",\"1995\",\"1996\",\"1997\",\"1998\",\"1999\",\"2000\",\"2001\",\"2002\",\"2003\",\"2004\",\"2005\",\"2006\",\"2007\",\"2008\",\"2009\",\"2010\",\"2011\",\"2012\",\"2013\",\"2014\",\"2015\"],\"y\":[0.05457516339869278,0.011372549019607846,0.009084556254367573,0.010309653916211296,0.03389115030906076,0.04693581780538302,0.01008869681814887,0.006183409436834094,0.017685891233396363,0.07010449867592726,0.005532660809659408,0.014992848610530454,0.0,0.00035052434030791814,0.011998473957979788,0.04893210618541987,0.05730809930451957,0.0427479814765284,0.011194007437401695,0.009503931442706951,0.020857782608255996,0.007551556869738687,0.00909678502864292,0.016212611430626314,0.005420909347906352,0.0018092893594619667,0.013658733036120294,0.03215516218950733,0.01337629867775852,0.04236797110353933,0.03974319173622268,0.03450366679457021,0.031165913038861234,0.0074256978161292035,0.006216434984385273,0.02188843671043706,0.060823832945391836,0.02376746401104782,0.019807532725180047,0.023242006259441936,0.038240110245596245,0.019414569946660132,0.012698140906415802,0.011605475027191831,0.019325298158325253,0.036292460123123274,0.02007499036488763,0.0023391191950309117,0.01718861163527069,0.012737274220686667,0.010876848677386714,0.010627275617919638,0.005524385911948295,0.01115702203327778,0.025079044517386122,0.03924037357917666,0.014125532036653518,0.00646318243674996,0.03832336455944882,0.01479025016714958,0.007986099642938659,0.018911944367239787,0.05076581203873523,0.05011243796328971,0.07740814436879934,0.01894220216773045,0.49892810457516334,0.6243137254901959,0.6416259026321918,0.46990892531876144,0.45031121449031886,0.5560504781622793,0.5558989273030369,0.7772006595636733,0.5846182383349164,0.458286951144094,0.5201869678552707,0.46522291337631483,0.579901796968265,0.5667743587352593,0.46162121222729613,0.4944711371336659,0.4752470629624828,0.436022442190273,0.42529573014114463,0.4201110558217038,0.46586765809893665,0.4523496904189468,0.4707301011307498,0.43963007105833046,0.4412271018849063,0.38462782645635285,0.40115156525947654,0.3214022321602979,0.30690985580707625,0.2324300095533085,0.23009310772120548,0.3024488676220853,0.3322633777835981,0.28686435711731095,0.33546971372761014,0.3307612824518721,0.32212360729046247,0.3176311025184896,0.357332459798286,0.32904779179815813,0.3020696185297851,0.2703913090715028,0.29949797987252375,0.3906237388275787,0.3860371709593446,0.36143412136126696,0.4185784884848875,0.4018894563757055,0.3903428883156944,0.3229069923270783,0.3441903448190596,0.3435986238180869,0.3651498889443949,0.45911084458510554,0.2540057370782335,0.3073535599165357,0.3148320374886884,0.301039985663377,0.303060152545782,0.27861730549445957,0.26679975097229564,0.2920088113347947,0.31835899478316076,0.22017044683186238,0.29784181988061476,0.4083615309213274,0.0,0.0,0.0,0.0,0.0,0.0,0.0,0.0,0.0,0.0,0.0,0.00012484394506866417,0.023255813953488372,0.006516765181310134,0.031137452283421678,0.030427848795195726,0.041866273344652406,0.05725622549842596,0.043949464106783666,0.03909133353001812,0.0392037416224519,0.04356288722263538,0.05933489046947004,0.0769132138128301,0.05154190151877388,0.04032020777146867,0.04562165559899261,0.03390627238641324,0.048243650761916924,0.027759731220732695,0.028376888421843948,0.017554194052318443,0.04477750646039399,0.05138693812101549,0.03115114570031583,0.045580943215532695,0.024864890514911968,0.05349726385540425,0.05206186275926257,0.07962480741779403,0.07172654233469473,0.09640566379489525,0.11018193524646187,0.09391971114297916,0.1463683990440058,0.1233018196066946,0.10909363232404928,0.10158128007623032,0.05030539328588832,0.07552572914991731,0.11403540297039891,0.09672690483238094,0.09310603979930246,0.09911598562812762,0.09475568463177324,0.08405528499124061,0.10568534997204135,0.13777004773121124,0.16018424372199366,0.13465321106297604,0.1078598281051507,0.06900753836781563,0.09092827258165352,0.0976754235779052,0.12278106392672866,0.13572009422379921,0.0,0.0,0.0026910900045228406,0.0,0.0,0.0,0.0035885167464114833,0.000111000111000111,0.0008259311204612748,0.0,0.0,0.04551002251479145,0.0,0.002383123106876526,0.0,0.0,0.0,0.0014052085480656912,0.000987095869275545,0.0018591318591318592,0.0,0.0,5.2791708923188074e-05,0.0007104988026019784,0.0,0.0,0.00011385395642498575,0.0,7.59892503011769e-05,0.0,0.0011183562002889734,0.0012085756080265346,0.010988734349072429,0.0,0.00032991927539580986,0.0,0.0,0.0,0.0,0.006179557724515994,7.701193685021177e-05,0.009134964784189976,0.0015145242099419995,0.0019813920017347996,0.0,0.0,0.01763785469142612,0.017855774650970605,0.020318088303209587,0.0009329214106548768,0.0001649753181457618,0.003038598058923513,0.0,0.0,0.0,0.0007741142795244628,0.30977777777777776,0.2580392156862745,0.3081761006289308,0.024043715846994537,0.024423337856173677,0.3178684807256236,0.28489300210190616,0.27796803652968033,0.3356971975393029,0.36746586746586746,0.3042887972761744,0.3355758312817309,0.3397596384910299,0.3269009652631634,0.22312111523316597,0.25267621489481357,0.22370518222619215,0.32207560597245677,0.24069153894385845,0.2033057363033372,0.22612372372046707,0.2275441646309043,0.2579875411083415,0.21583804916110683,0.2372406987626171,0.24664289374680973,0.23484411458954943,0.23826592860160434,0.24643992759007677,0.2707796220686297,0.31849935300117854,0.2708397401966884,0.27889690692626284,0.26688389226993375,0.26996066917919037,0.22858063474120022,0.29634802193122417,0.3104357224522925,0.2900407910254089,0.26955057312516606,0.24781829473896147,0.16729107491515677,0.17177291746095955,0.1999738957037577,0.15391168010229375,0.20203964561382637,0.2099395369556992,0.11471137102620996,0.16565705258284116,0.19206417037921314,0.17706647476645002,0.15987534890148195,0.19858217200214667,0.10648627878846949,0.1995556279266344,0.17758993735877432,0.14405561864674615,0.15711816792165834,0.12240958745386657,0.168379441623755,0.20763844227173414,0.17083863636256996,0.1310298725667046,0.12241419353397123,0.1313667484912652,0.08712484295554641]}},\"id\":\"8ee2c112-3520-4510-bb34-dea4c47b4f32\",\"type\":\"ColumnDataSource\"},{\"attributes\":{\"overlay\":{\"id\":\"6d280ea5-a5cd-4610-b07f-e0fc2de955d3\",\"type\":\"BoxAnnotation\"},\"plot\":{\"id\":\"588ff450-d97d-47eb-8b27-f8080cc7fb2a\",\"subtype\":\"Figure\",\"type\":\"Plot\"}},\"id\":\"2cd13ca7-318c-450f-91bb-71b268bd2825\",\"type\":\"BoxZoomTool\"},{\"attributes\":{\"line_alpha\":{\"value\":0.1},\"line_color\":{\"value\":\"#1f77b4\"},\"x\":{\"field\":\"x\"},\"y\":{\"field\":\"y\"}},\"id\":\"e97eb759-c958-4e74-9f17-8db55a94bc74\",\"type\":\"Line\"},{\"attributes\":{\"dimension\":1,\"plot\":{\"id\":\"588ff450-d97d-47eb-8b27-f8080cc7fb2a\",\"subtype\":\"Figure\",\"type\":\"Plot\"},\"ticker\":{\"id\":\"f137d9de-d8f4-49bf-aac4-25387fca23cc\",\"type\":\"BasicTicker\"}},\"id\":\"2506ed84-198e-4166-940a-4c1296f20186\",\"type\":\"Grid\"},{\"attributes\":{\"line_color\":{\"value\":\"#ff7f00\"},\"x\":{\"field\":\"x\"},\"y\":{\"field\":\"y\"}},\"id\":\"4f513be4-769b-4295-ae32-b63159d34903\",\"type\":\"Line\"},{\"attributes\":{\"callback\":null,\"plot\":{\"id\":\"588ff450-d97d-47eb-8b27-f8080cc7fb2a\",\"subtype\":\"Figure\",\"type\":\"Plot\"},\"renderers\":[{\"id\":\"b2a723c2-5e70-4856-bccc-ca92437a1ede\",\"type\":\"GlyphRenderer\"}],\"tooltips\":[[\"year\",\"@x\"],[\"country\",\"@country\"],[\"node centrality\",\"@y\"]]},\"id\":\"9585e764-3e3a-4721-b254-8878916cfe85\",\"type\":\"HoverTool\"},{\"attributes\":{\"line_alpha\":{\"value\":0.1},\"line_color\":{\"value\":\"#1f77b4\"},\"x\":{\"field\":\"x\"},\"y\":{\"field\":\"y\"}},\"id\":\"70114c73-1a53-409b-9c92-a713b0ad8190\",\"type\":\"Line\"},{\"attributes\":{},\"id\":\"f137d9de-d8f4-49bf-aac4-25387fca23cc\",\"type\":\"BasicTicker\"}],\"root_ids\":[\"588ff450-d97d-47eb-8b27-f8080cc7fb2a\"]},\"title\":\"Bokeh Application\",\"version\":\"0.12.3\"}};\n",
       "            var render_items = [{\"docid\":\"adc38477-78c9-4c13-a5f7-0d4afce61136\",\"elementid\":\"3aa17564-9862-4417-aa49-661681b2f2a2\",\"modelid\":\"588ff450-d97d-47eb-8b27-f8080cc7fb2a\"}];\n",
       "            \n",
       "            Bokeh.embed.embed_items(docs_json, render_items);\n",
       "        });\n",
       "      },\n",
       "      function(Bokeh) {\n",
       "      }\n",
       "    ];\n",
       "  \n",
       "    function run_inline_js() {\n",
       "      \n",
       "      if ((window.Bokeh !== undefined) || (force === \"1\")) {\n",
       "        for (var i = 0; i < inline_js.length; i++) {\n",
       "          inline_js[i](window.Bokeh);\n",
       "        }if (force === \"1\") {\n",
       "          display_loaded();\n",
       "        }} else if (Date.now() < window._bokeh_timeout) {\n",
       "        setTimeout(run_inline_js, 100);\n",
       "      } else if (!window._bokeh_failed_load) {\n",
       "        console.log(\"Bokeh: BokehJS failed to load within specified timeout.\");\n",
       "        window._bokeh_failed_load = true;\n",
       "      } else if (!force) {\n",
       "        var cell = $(\"#3aa17564-9862-4417-aa49-661681b2f2a2\").parents('.cell').data().cell;\n",
       "        cell.output_area.append_execute_result(NB_LOAD_WARNING)\n",
       "      }\n",
       "  \n",
       "    }\n",
       "  \n",
       "    if (window._bokeh_is_loading === 0) {\n",
       "      console.log(\"Bokeh: BokehJS loaded, going straight to plotting\");\n",
       "      run_inline_js();\n",
       "    } else {\n",
       "      load_libs(js_urls, function() {\n",
       "        console.log(\"Bokeh: BokehJS plotting callback run at\", now());\n",
       "        run_inline_js();\n",
       "      });\n",
       "    }\n",
       "  }(this));\n",
       "</script>"
      ]
     },
     "metadata": {},
     "output_type": "display_data"
    }
   ],
   "source": [
    "countriestoanalyze = ['Canada', 'United States', 'China', 'Myanmar', 'Soviet Union', 'Russia']\n",
    "\n",
    "plot = generateTimelinesPlot(influencedict,countriestoanalyze,'node centrality')\n",
    "\n",
    "plot.yaxis.bounds = [0,1]\n",
    "plot.xaxis.bounds = [1950,2015]\n",
    "plot.x_range.start = 1950\n",
    "plot.x_range.end = 2015\n",
    "plot.y_range.start = 0\n",
    "plot.y_range.end = 1\n",
    "plot.title.text = 'Influence over time'\n",
    "show(plot)\n",
    "\n"
   ]
  },
  {
   "cell_type": "markdown",
   "metadata": {
    "collapsed": true
   },
   "source": [
    "### Analysisfunctions, In and Outflow of Weapons"
   ]
  },
  {
   "cell_type": "markdown",
   "metadata": {},
   "source": [
    "### Definition"
   ]
  },
  {
   "cell_type": "code",
   "execution_count": 42,
   "metadata": {
    "collapsed": false
   },
   "outputs": [],
   "source": [
    "def WeaponFlowTimeAllCountries(MultiDiDict,militaryexpdict):\n",
    "    weaponinflow = dict()\n",
    "    weaponoutflow = dict()\n",
    "    for year in MultiDiDict:\n",
    "        G = createYearMultiDiGraph(MultiDiDict, year,militaryexpdict)\n",
    "        for country in G.nodes_iter():\n",
    "            inflow = 0\n",
    "            for x in G.in_edges_iter(nbunch=country, data=True):\n",
    "                inflow = inflow + x[2]['weight']\n",
    "            if country in weaponinflow:\n",
    "                weaponinflow[country][year] = inflow\n",
    "            else:\n",
    "                weaponinflow.setdefault(country, dict())\n",
    "                weaponinflow[country][year] = inflow\n",
    "                \n",
    "            outflow = 0\n",
    "            for x in G.out_edges_iter(nbunch=country, data=True):\n",
    "                outflow = outflow + x[2]['weight']\n",
    "            if country in weaponoutflow:\n",
    "                weaponoutflow[country][year] = outflow\n",
    "            else:\n",
    "                weaponoutflow.setdefault(country, dict())\n",
    "                weaponoutflow[country][year] = outflow\n",
    "    \n",
    "    return weaponinflow, weaponoutflow"
   ]
  },
  {
   "cell_type": "code",
   "execution_count": 43,
   "metadata": {
    "collapsed": false
   },
   "outputs": [],
   "source": [
    "weaponinflow, weaponoutflow = WeaponFlowTimeAllCountries(MultiDiDict,militaryexpdict)"
   ]
  },
  {
   "cell_type": "code",
   "execution_count": 44,
   "metadata": {
    "collapsed": false
   },
   "outputs": [
    {
     "data": {
      "text/html": [
       "\n",
       "\n",
       "    <div class=\"bk-root\">\n",
       "        <div class=\"plotdiv\" id=\"dbfeaa41-e08a-4a6c-a18c-e5ab91d36238\"></div>\n",
       "    </div>\n",
       "<script type=\"text/javascript\">\n",
       "  \n",
       "  (function(global) {\n",
       "    function now() {\n",
       "      return new Date();\n",
       "    }\n",
       "  \n",
       "    var force = \"\";\n",
       "  \n",
       "    if (typeof (window._bokeh_onload_callbacks) === \"undefined\" || force !== \"\") {\n",
       "      window._bokeh_onload_callbacks = [];\n",
       "      window._bokeh_is_loading = undefined;\n",
       "    }\n",
       "  \n",
       "  \n",
       "    \n",
       "    if (typeof (window._bokeh_timeout) === \"undefined\" || force !== \"\") {\n",
       "      window._bokeh_timeout = Date.now() + 0;\n",
       "      window._bokeh_failed_load = false;\n",
       "    }\n",
       "  \n",
       "    var NB_LOAD_WARNING = {'data': {'text/html':\n",
       "       \"<div style='background-color: #fdd'>\\n\"+\n",
       "       \"<p>\\n\"+\n",
       "       \"BokehJS does not appear to have successfully loaded. If loading BokehJS from CDN, this \\n\"+\n",
       "       \"may be due to a slow or bad network connection. Possible fixes:\\n\"+\n",
       "       \"</p>\\n\"+\n",
       "       \"<ul>\\n\"+\n",
       "       \"<li>re-rerun `output_notebook()` to attempt to load from CDN again, or</li>\\n\"+\n",
       "       \"<li>use INLINE resources instead, as so:</li>\\n\"+\n",
       "       \"</ul>\\n\"+\n",
       "       \"<code>\\n\"+\n",
       "       \"from bokeh.resources import INLINE\\n\"+\n",
       "       \"output_notebook(resources=INLINE)\\n\"+\n",
       "       \"</code>\\n\"+\n",
       "       \"</div>\"}};\n",
       "  \n",
       "    function display_loaded() {\n",
       "      if (window.Bokeh !== undefined) {\n",
       "        Bokeh.$(\"#dbfeaa41-e08a-4a6c-a18c-e5ab91d36238\").text(\"BokehJS successfully loaded.\");\n",
       "      } else if (Date.now() < window._bokeh_timeout) {\n",
       "        setTimeout(display_loaded, 100)\n",
       "      }\n",
       "    }\n",
       "  \n",
       "    function run_callbacks() {\n",
       "      window._bokeh_onload_callbacks.forEach(function(callback) { callback() });\n",
       "      delete window._bokeh_onload_callbacks\n",
       "      console.info(\"Bokeh: all callbacks have finished\");\n",
       "    }\n",
       "  \n",
       "    function load_libs(js_urls, callback) {\n",
       "      window._bokeh_onload_callbacks.push(callback);\n",
       "      if (window._bokeh_is_loading > 0) {\n",
       "        console.log(\"Bokeh: BokehJS is being loaded, scheduling callback at\", now());\n",
       "        return null;\n",
       "      }\n",
       "      if (js_urls == null || js_urls.length === 0) {\n",
       "        run_callbacks();\n",
       "        return null;\n",
       "      }\n",
       "      console.log(\"Bokeh: BokehJS not loaded, scheduling load and callback at\", now());\n",
       "      window._bokeh_is_loading = js_urls.length;\n",
       "      for (var i = 0; i < js_urls.length; i++) {\n",
       "        var url = js_urls[i];\n",
       "        var s = document.createElement('script');\n",
       "        s.src = url;\n",
       "        s.async = false;\n",
       "        s.onreadystatechange = s.onload = function() {\n",
       "          window._bokeh_is_loading--;\n",
       "          if (window._bokeh_is_loading === 0) {\n",
       "            console.log(\"Bokeh: all BokehJS libraries loaded\");\n",
       "            run_callbacks()\n",
       "          }\n",
       "        };\n",
       "        s.onerror = function() {\n",
       "          console.warn(\"failed to load library \" + url);\n",
       "        };\n",
       "        console.log(\"Bokeh: injecting script tag for BokehJS library: \", url);\n",
       "        document.getElementsByTagName(\"head\")[0].appendChild(s);\n",
       "      }\n",
       "    };var element = document.getElementById(\"dbfeaa41-e08a-4a6c-a18c-e5ab91d36238\");\n",
       "    if (element == null) {\n",
       "      console.log(\"Bokeh: ERROR: autoload.js configured with elementid 'dbfeaa41-e08a-4a6c-a18c-e5ab91d36238' but no matching script tag was found. \")\n",
       "      return false;\n",
       "    }\n",
       "  \n",
       "    var js_urls = [];\n",
       "  \n",
       "    var inline_js = [\n",
       "      function(Bokeh) {\n",
       "        Bokeh.$(function() {\n",
       "            var docs_json = {\"ef466662-f2cd-4b3a-8c75-82082a04a867\":{\"roots\":{\"references\":[{\"attributes\":{\"plot\":{\"id\":\"05eb1875-a9bb-48f4-9b7b-f7a7f25fb0e1\",\"subtype\":\"Figure\",\"type\":\"Plot\"}},\"id\":\"46cf8755-0ab0-45a2-8b89-c66371e39466\",\"type\":\"ResetTool\"},{\"attributes\":{\"callback\":null,\"column_names\":[\"y\",\"x\"],\"data\":{\"x\":[\"1952\",\"1953\",\"1954\",\"1955\",\"1956\",\"1957\",\"1958\",\"1959\",\"1960\",\"1961\",\"1962\",\"1964\",\"1965\",\"1966\",\"1967\",\"1968\",\"1969\",\"1970\",\"1971\",\"1972\",\"1973\",\"1974\",\"1975\",\"1976\",\"1977\",\"1978\",\"1979\",\"1980\",\"1981\",\"1982\",\"1983\",\"1984\",\"1985\",\"1986\",\"1987\",\"1988\",\"1989\",\"1990\",\"1991\",\"1992\",\"1993\",\"1994\",\"1995\",\"1996\",\"1997\",\"1998\",\"1999\",\"2000\",\"2001\",\"2002\",\"2003\",\"2004\",\"2005\",\"2006\",\"2007\",\"2008\",\"2009\",\"2010\",\"2011\",\"2012\",\"2013\",\"2014\",\"2015\"],\"y\":[7.0,1.0,2.0,16.0,10.0,55.0,37.0,8.0,17.0,12.0,22.0,5.0,48.0,234.0,210.0,456.0,383.0,54.0,10.0,101.0,182.0,368.0,467.0,591.0,927.0,1002.0,759.0,1094.0,1810.0,2212.0,1817.0,832.0,1328.0,2848.0,2009.0,788.0,1383.0,2079.0,1048.0,1123.0,2373.0,983.0,984.0,1730.0,2792.0,2899.0,1580.0,85.0,61.0,566.0,167.0,1171.0,167.0,205.0,214.0,362.0,795.0,1070.0,1239.0,1080.0,1673.0,2782.0,3161.0]}},\"id\":\"47e18c4d-07d8-4a1b-9879-6af0a76f5552\",\"type\":\"ColumnDataSource\"},{\"attributes\":{\"bottom_units\":\"screen\",\"fill_alpha\":{\"value\":0.5},\"fill_color\":{\"value\":\"lightgrey\"},\"left_units\":\"screen\",\"level\":\"overlay\",\"line_alpha\":{\"value\":1.0},\"line_color\":{\"value\":\"black\"},\"line_dash\":[4,4],\"line_width\":{\"value\":2},\"plot\":null,\"render_mode\":\"css\",\"right_units\":\"screen\",\"top_units\":\"screen\"},\"id\":\"e6da029a-9c47-4ed8-b2b7-c87c1535f5ff\",\"type\":\"BoxAnnotation\"},{\"attributes\":{\"fill_alpha\":{\"value\":0.1},\"fill_color\":{\"value\":\"#1f77b4\"},\"line_alpha\":{\"value\":0.1},\"line_color\":{\"value\":\"#1f77b4\"},\"x\":{\"field\":\"x\"},\"y\":{\"field\":\"y\"}},\"id\":\"b18a5be6-d366-4342-b48c-6c6681059409\",\"type\":\"Circle\"},{\"attributes\":{},\"id\":\"6d5cddf3-1b90-40ff-97f0-f35d64a542b1\",\"type\":\"ToolEvents\"},{\"attributes\":{\"active_drag\":\"auto\",\"active_scroll\":\"auto\",\"active_tap\":\"auto\",\"tools\":[{\"id\":\"e56505eb-4faf-402e-82c1-75647799486d\",\"type\":\"PanTool\"},{\"id\":\"3a0ca6ae-680a-46ee-8694-d5d60296d753\",\"type\":\"TapTool\"},{\"id\":\"2dd85359-968f-4061-982c-724e097c5a62\",\"type\":\"BoxZoomTool\"},{\"id\":\"46cf8755-0ab0-45a2-8b89-c66371e39466\",\"type\":\"ResetTool\"},{\"id\":\"97a31aa3-7e3e-4e98-9643-8c1e52462cad\",\"type\":\"WheelZoomTool\"},{\"id\":\"8f568566-0879-4249-9c55-6485a1363fe5\",\"type\":\"SaveTool\"},{\"id\":\"1e691749-11f3-4a86-8902-c2e807db3360\",\"type\":\"HoverTool\"}]},\"id\":\"1bbca1db-7eff-4bb7-937b-07265643a5fc\",\"type\":\"Toolbar\"},{\"attributes\":{},\"id\":\"b29f44cd-39d8-423d-8adf-1af6dde97f0f\",\"type\":\"BasicTicker\"},{\"attributes\":{\"data_source\":{\"id\":\"bca86dc3-06a8-4ce4-abb7-468eff5c34ae\",\"type\":\"ColumnDataSource\"},\"glyph\":{\"id\":\"6c7aeb54-601c-4c3f-aae1-395642b359fd\",\"type\":\"Line\"},\"hover_glyph\":null,\"nonselection_glyph\":{\"id\":\"19fb417f-1c68-4af7-995b-0b0226bbd227\",\"type\":\"Line\"},\"selection_glyph\":null},\"id\":\"60c13715-6dad-4a7a-b469-b5b23e4c41fa\",\"type\":\"GlyphRenderer\"},{\"attributes\":{\"plot\":{\"id\":\"05eb1875-a9bb-48f4-9b7b-f7a7f25fb0e1\",\"subtype\":\"Figure\",\"type\":\"Plot\"}},\"id\":\"97a31aa3-7e3e-4e98-9643-8c1e52462cad\",\"type\":\"WheelZoomTool\"},{\"attributes\":{\"label\":{\"value\":\"Saudi Arabia\"},\"renderers\":[{\"id\":\"1a71fd7e-3e13-4743-aa22-a47a30bc755f\",\"type\":\"GlyphRenderer\"}]},\"id\":\"05d73c0a-1530-4967-bb30-13621bfb6eaa\",\"type\":\"LegendItem\"},{\"attributes\":{\"plot\":null,\"text\":\"Weapon inflow into countries\"},\"id\":\"f6702aad-6663-45b3-ba37-7e5e2e2d61a2\",\"type\":\"Title\"},{\"attributes\":{\"below\":[{\"id\":\"d8185b63-a188-4fff-bd5e-e377bf8acae7\",\"type\":\"LinearAxis\"}],\"left\":[{\"id\":\"d87d0f68-95ff-437a-b0d0-c15afcc3896b\",\"type\":\"LinearAxis\"}],\"plot_height\":400,\"renderers\":[{\"id\":\"d8185b63-a188-4fff-bd5e-e377bf8acae7\",\"type\":\"LinearAxis\"},{\"id\":\"42a7b5b8-5335-46cd-9dde-a8a38c8856ba\",\"type\":\"Grid\"},{\"id\":\"d87d0f68-95ff-437a-b0d0-c15afcc3896b\",\"type\":\"LinearAxis\"},{\"id\":\"cface18f-9200-417e-9210-c3dd7e41ec3e\",\"type\":\"Grid\"},{\"id\":\"e6da029a-9c47-4ed8-b2b7-c87c1535f5ff\",\"type\":\"BoxAnnotation\"},{\"id\":\"0dd45ca7-1e11-46dd-a5fd-65f60a7dabf4\",\"type\":\"Legend\"},{\"id\":\"60c13715-6dad-4a7a-b469-b5b23e4c41fa\",\"type\":\"GlyphRenderer\"},{\"id\":\"1a71fd7e-3e13-4743-aa22-a47a30bc755f\",\"type\":\"GlyphRenderer\"},{\"id\":\"f2550d47-e0cb-4f79-b3e1-abed7027c8c9\",\"type\":\"GlyphRenderer\"}],\"title\":{\"id\":\"f6702aad-6663-45b3-ba37-7e5e2e2d61a2\",\"type\":\"Title\"},\"tool_events\":{\"id\":\"6d5cddf3-1b90-40ff-97f0-f35d64a542b1\",\"type\":\"ToolEvents\"},\"toolbar\":{\"id\":\"1bbca1db-7eff-4bb7-937b-07265643a5fc\",\"type\":\"Toolbar\"},\"x_range\":{\"id\":\"300f183f-f868-4334-8866-d897aaa00300\",\"type\":\"DataRange1d\"},\"y_range\":{\"id\":\"fd954a53-7279-4cab-99ff-995cac07606e\",\"type\":\"DataRange1d\"}},\"id\":\"05eb1875-a9bb-48f4-9b7b-f7a7f25fb0e1\",\"subtype\":\"Figure\",\"type\":\"Plot\"},{\"attributes\":{\"callback\":null},\"id\":\"300f183f-f868-4334-8866-d897aaa00300\",\"type\":\"DataRange1d\"},{\"attributes\":{\"callback\":null},\"id\":\"fd954a53-7279-4cab-99ff-995cac07606e\",\"type\":\"DataRange1d\"},{\"attributes\":{\"items\":[{\"id\":\"af6dd7de-8948-4324-b55c-ad7f6fc3785a\",\"type\":\"LegendItem\"},{\"id\":\"05d73c0a-1530-4967-bb30-13621bfb6eaa\",\"type\":\"LegendItem\"}],\"plot\":{\"id\":\"05eb1875-a9bb-48f4-9b7b-f7a7f25fb0e1\",\"subtype\":\"Figure\",\"type\":\"Plot\"}},\"id\":\"0dd45ca7-1e11-46dd-a5fd-65f60a7dabf4\",\"type\":\"Legend\"},{\"attributes\":{\"formatter\":{\"id\":\"3889344e-a725-4200-89f8-6c08fa8bbcc7\",\"type\":\"BasicTickFormatter\"},\"plot\":{\"id\":\"05eb1875-a9bb-48f4-9b7b-f7a7f25fb0e1\",\"subtype\":\"Figure\",\"type\":\"Plot\"},\"ticker\":{\"id\":\"b29f44cd-39d8-423d-8adf-1af6dde97f0f\",\"type\":\"BasicTicker\"}},\"id\":\"d8185b63-a188-4fff-bd5e-e377bf8acae7\",\"type\":\"LinearAxis\"},{\"attributes\":{\"plot\":{\"id\":\"05eb1875-a9bb-48f4-9b7b-f7a7f25fb0e1\",\"subtype\":\"Figure\",\"type\":\"Plot\"}},\"id\":\"8f568566-0879-4249-9c55-6485a1363fe5\",\"type\":\"SaveTool\"},{\"attributes\":{\"line_color\":{\"value\":\"#e41a1c\"},\"x\":{\"field\":\"x\"},\"y\":{\"field\":\"y\"}},\"id\":\"6c7aeb54-601c-4c3f-aae1-395642b359fd\",\"type\":\"Line\"},{\"attributes\":{\"dimension\":1,\"plot\":{\"id\":\"05eb1875-a9bb-48f4-9b7b-f7a7f25fb0e1\",\"subtype\":\"Figure\",\"type\":\"Plot\"},\"ticker\":{\"id\":\"7a6b5a00-1900-4de5-9c80-ae9ef75fd5bf\",\"type\":\"BasicTicker\"}},\"id\":\"cface18f-9200-417e-9210-c3dd7e41ec3e\",\"type\":\"Grid\"},{\"attributes\":{\"overlay\":{\"id\":\"e6da029a-9c47-4ed8-b2b7-c87c1535f5ff\",\"type\":\"BoxAnnotation\"},\"plot\":{\"id\":\"05eb1875-a9bb-48f4-9b7b-f7a7f25fb0e1\",\"subtype\":\"Figure\",\"type\":\"Plot\"}},\"id\":\"2dd85359-968f-4061-982c-724e097c5a62\",\"type\":\"BoxZoomTool\"},{\"attributes\":{\"formatter\":{\"id\":\"f535111b-d6ae-4c35-9bb9-c27c1f16f0c5\",\"type\":\"BasicTickFormatter\"},\"plot\":{\"id\":\"05eb1875-a9bb-48f4-9b7b-f7a7f25fb0e1\",\"subtype\":\"Figure\",\"type\":\"Plot\"},\"ticker\":{\"id\":\"7a6b5a00-1900-4de5-9c80-ae9ef75fd5bf\",\"type\":\"BasicTicker\"}},\"id\":\"d87d0f68-95ff-437a-b0d0-c15afcc3896b\",\"type\":\"LinearAxis\"},{\"attributes\":{},\"id\":\"7a6b5a00-1900-4de5-9c80-ae9ef75fd5bf\",\"type\":\"BasicTicker\"},{\"attributes\":{},\"id\":\"3889344e-a725-4200-89f8-6c08fa8bbcc7\",\"type\":\"BasicTickFormatter\"},{\"attributes\":{\"callback\":null,\"column_names\":[\"y\",\"x\"],\"data\":{\"x\":[\"1950\",\"1953\",\"1954\",\"1955\",\"1956\",\"1957\",\"1958\",\"1959\",\"1960\",\"1961\",\"1962\",\"1963\",\"1964\",\"1965\",\"1966\",\"1967\",\"1968\",\"1969\",\"1970\",\"1971\",\"1972\",\"1975\",\"1976\",\"1977\",\"1978\",\"1979\",\"1980\",\"1982\",\"1986\",\"1989\",\"1990\",\"1991\",\"1992\",\"1993\",\"1994\",\"1995\",\"1996\",\"1997\",\"1998\",\"1999\",\"2000\",\"2001\",\"2002\",\"2003\",\"2004\",\"2005\",\"2006\",\"2007\",\"2008\",\"2009\",\"2010\",\"2011\",\"2012\",\"2013\",\"2014\",\"2015\"],\"y\":[4.0,16.0,40.0,47.0,30.0,53.0,60.0,21.0,13.0,16.0,14.0,51.0,18.0,19.0,3.0,14.0,6.0,22.0,4.0,23.0,4.0,53.0,10.0,9.0,25.0,19.0,41.0,39.0,8.0,34.0,266.0,231.0,64.0,323.0,96.0,223.0,118.0,231.0,156.0,141.0,17.0,149.0,158.0,83.0,194.0,160.0,175.0,138.0,93.0,52.0,63.0,662.0,478.0,238.0,301.0,321.0]}},\"id\":\"bca86dc3-06a8-4ce4-abb7-468eff5c34ae\",\"type\":\"ColumnDataSource\"},{\"attributes\":{\"fill_color\":{\"field\":\"color\"},\"line_color\":{\"field\":\"color\"},\"x\":{\"field\":\"x\"},\"y\":{\"field\":\"y\"}},\"id\":\"ff11efe3-8ce3-41de-9883-0d5e873a352a\",\"type\":\"Circle\"},{\"attributes\":{\"line_color\":{\"value\":\"#377eb8\"},\"x\":{\"field\":\"x\"},\"y\":{\"field\":\"y\"}},\"id\":\"93a75546-318e-4736-8bd9-8f4c105cb7f3\",\"type\":\"Line\"},{\"attributes\":{\"callback\":null,\"plot\":{\"id\":\"05eb1875-a9bb-48f4-9b7b-f7a7f25fb0e1\",\"subtype\":\"Figure\",\"type\":\"Plot\"},\"renderers\":[{\"id\":\"f2550d47-e0cb-4f79-b3e1-abed7027c8c9\",\"type\":\"GlyphRenderer\"}],\"tooltips\":[[\"year\",\"@x\"],[\"country\",\"@country\"],[\"Weapon Inflow\",\"@y\"]]},\"id\":\"1e691749-11f3-4a86-8902-c2e807db3360\",\"type\":\"HoverTool\"},{\"attributes\":{\"plot\":{\"id\":\"05eb1875-a9bb-48f4-9b7b-f7a7f25fb0e1\",\"subtype\":\"Figure\",\"type\":\"Plot\"},\"ticker\":{\"id\":\"b29f44cd-39d8-423d-8adf-1af6dde97f0f\",\"type\":\"BasicTicker\"}},\"id\":\"42a7b5b8-5335-46cd-9dde-a8a38c8856ba\",\"type\":\"Grid\"},{\"attributes\":{\"plot\":{\"id\":\"05eb1875-a9bb-48f4-9b7b-f7a7f25fb0e1\",\"subtype\":\"Figure\",\"type\":\"Plot\"}},\"id\":\"e56505eb-4faf-402e-82c1-75647799486d\",\"type\":\"PanTool\"},{\"attributes\":{\"line_alpha\":{\"value\":0.1},\"line_color\":{\"value\":\"#1f77b4\"},\"x\":{\"field\":\"x\"},\"y\":{\"field\":\"y\"}},\"id\":\"324270a8-b645-44cf-b14b-71344a7066cb\",\"type\":\"Line\"},{\"attributes\":{},\"id\":\"f535111b-d6ae-4c35-9bb9-c27c1f16f0c5\",\"type\":\"BasicTickFormatter\"},{\"attributes\":{\"data_source\":{\"id\":\"47e18c4d-07d8-4a1b-9879-6af0a76f5552\",\"type\":\"ColumnDataSource\"},\"glyph\":{\"id\":\"93a75546-318e-4736-8bd9-8f4c105cb7f3\",\"type\":\"Line\"},\"hover_glyph\":null,\"nonselection_glyph\":{\"id\":\"324270a8-b645-44cf-b14b-71344a7066cb\",\"type\":\"Line\"},\"selection_glyph\":null},\"id\":\"1a71fd7e-3e13-4743-aa22-a47a30bc755f\",\"type\":\"GlyphRenderer\"},{\"attributes\":{\"data_source\":{\"id\":\"7ff22744-7b62-47c7-8e20-7943050c4e66\",\"type\":\"ColumnDataSource\"},\"glyph\":{\"id\":\"ff11efe3-8ce3-41de-9883-0d5e873a352a\",\"type\":\"Circle\"},\"hover_glyph\":null,\"nonselection_glyph\":{\"id\":\"b18a5be6-d366-4342-b48c-6c6681059409\",\"type\":\"Circle\"},\"selection_glyph\":null},\"id\":\"f2550d47-e0cb-4f79-b3e1-abed7027c8c9\",\"type\":\"GlyphRenderer\"},{\"attributes\":{\"callback\":null,\"column_names\":[\"color\",\"country\",\"y\",\"x\"],\"data\":{\"color\":[\"#e41a1c\",\"#e41a1c\",\"#e41a1c\",\"#e41a1c\",\"#e41a1c\",\"#e41a1c\",\"#e41a1c\",\"#e41a1c\",\"#e41a1c\",\"#e41a1c\",\"#e41a1c\",\"#e41a1c\",\"#e41a1c\",\"#e41a1c\",\"#e41a1c\",\"#e41a1c\",\"#e41a1c\",\"#e41a1c\",\"#e41a1c\",\"#e41a1c\",\"#e41a1c\",\"#e41a1c\",\"#e41a1c\",\"#e41a1c\",\"#e41a1c\",\"#e41a1c\",\"#e41a1c\",\"#e41a1c\",\"#e41a1c\",\"#e41a1c\",\"#e41a1c\",\"#e41a1c\",\"#e41a1c\",\"#e41a1c\",\"#e41a1c\",\"#e41a1c\",\"#e41a1c\",\"#e41a1c\",\"#e41a1c\",\"#e41a1c\",\"#e41a1c\",\"#e41a1c\",\"#e41a1c\",\"#e41a1c\",\"#e41a1c\",\"#e41a1c\",\"#e41a1c\",\"#e41a1c\",\"#e41a1c\",\"#e41a1c\",\"#e41a1c\",\"#e41a1c\",\"#e41a1c\",\"#e41a1c\",\"#e41a1c\",\"#e41a1c\",\"#377eb8\",\"#377eb8\",\"#377eb8\",\"#377eb8\",\"#377eb8\",\"#377eb8\",\"#377eb8\",\"#377eb8\",\"#377eb8\",\"#377eb8\",\"#377eb8\",\"#377eb8\",\"#377eb8\",\"#377eb8\",\"#377eb8\",\"#377eb8\",\"#377eb8\",\"#377eb8\",\"#377eb8\",\"#377eb8\",\"#377eb8\",\"#377eb8\",\"#377eb8\",\"#377eb8\",\"#377eb8\",\"#377eb8\",\"#377eb8\",\"#377eb8\",\"#377eb8\",\"#377eb8\",\"#377eb8\",\"#377eb8\",\"#377eb8\",\"#377eb8\",\"#377eb8\",\"#377eb8\",\"#377eb8\",\"#377eb8\",\"#377eb8\",\"#377eb8\",\"#377eb8\",\"#377eb8\",\"#377eb8\",\"#377eb8\",\"#377eb8\",\"#377eb8\",\"#377eb8\",\"#377eb8\",\"#377eb8\",\"#377eb8\",\"#377eb8\",\"#377eb8\",\"#377eb8\",\"#377eb8\",\"#377eb8\",\"#377eb8\",\"#377eb8\",\"#377eb8\",\"#377eb8\",\"#377eb8\",\"#377eb8\",\"#377eb8\",\"#377eb8\"],\"country\":[\"Myanmar\",\"Myanmar\",\"Myanmar\",\"Myanmar\",\"Myanmar\",\"Myanmar\",\"Myanmar\",\"Myanmar\",\"Myanmar\",\"Myanmar\",\"Myanmar\",\"Myanmar\",\"Myanmar\",\"Myanmar\",\"Myanmar\",\"Myanmar\",\"Myanmar\",\"Myanmar\",\"Myanmar\",\"Myanmar\",\"Myanmar\",\"Myanmar\",\"Myanmar\",\"Myanmar\",\"Myanmar\",\"Myanmar\",\"Myanmar\",\"Myanmar\",\"Myanmar\",\"Myanmar\",\"Myanmar\",\"Myanmar\",\"Myanmar\",\"Myanmar\",\"Myanmar\",\"Myanmar\",\"Myanmar\",\"Myanmar\",\"Myanmar\",\"Myanmar\",\"Myanmar\",\"Myanmar\",\"Myanmar\",\"Myanmar\",\"Myanmar\",\"Myanmar\",\"Myanmar\",\"Myanmar\",\"Myanmar\",\"Myanmar\",\"Myanmar\",\"Myanmar\",\"Myanmar\",\"Myanmar\",\"Myanmar\",\"Myanmar\",\"Saudi Arabia\",\"Saudi Arabia\",\"Saudi Arabia\",\"Saudi Arabia\",\"Saudi Arabia\",\"Saudi Arabia\",\"Saudi Arabia\",\"Saudi Arabia\",\"Saudi Arabia\",\"Saudi Arabia\",\"Saudi Arabia\",\"Saudi Arabia\",\"Saudi Arabia\",\"Saudi Arabia\",\"Saudi Arabia\",\"Saudi Arabia\",\"Saudi Arabia\",\"Saudi Arabia\",\"Saudi Arabia\",\"Saudi Arabia\",\"Saudi Arabia\",\"Saudi Arabia\",\"Saudi Arabia\",\"Saudi Arabia\",\"Saudi Arabia\",\"Saudi Arabia\",\"Saudi Arabia\",\"Saudi Arabia\",\"Saudi Arabia\",\"Saudi Arabia\",\"Saudi Arabia\",\"Saudi Arabia\",\"Saudi Arabia\",\"Saudi Arabia\",\"Saudi Arabia\",\"Saudi Arabia\",\"Saudi Arabia\",\"Saudi Arabia\",\"Saudi Arabia\",\"Saudi Arabia\",\"Saudi Arabia\",\"Saudi Arabia\",\"Saudi Arabia\",\"Saudi Arabia\",\"Saudi Arabia\",\"Saudi Arabia\",\"Saudi Arabia\",\"Saudi Arabia\",\"Saudi Arabia\",\"Saudi Arabia\",\"Saudi Arabia\",\"Saudi Arabia\",\"Saudi Arabia\",\"Saudi Arabia\",\"Saudi Arabia\",\"Saudi Arabia\",\"Saudi Arabia\",\"Saudi Arabia\",\"Saudi Arabia\",\"Saudi Arabia\",\"Saudi Arabia\",\"Saudi Arabia\",\"Saudi Arabia\"],\"x\":[\"1950\",\"1953\",\"1954\",\"1955\",\"1956\",\"1957\",\"1958\",\"1959\",\"1960\",\"1961\",\"1962\",\"1963\",\"1964\",\"1965\",\"1966\",\"1967\",\"1968\",\"1969\",\"1970\",\"1971\",\"1972\",\"1975\",\"1976\",\"1977\",\"1978\",\"1979\",\"1980\",\"1982\",\"1986\",\"1989\",\"1990\",\"1991\",\"1992\",\"1993\",\"1994\",\"1995\",\"1996\",\"1997\",\"1998\",\"1999\",\"2000\",\"2001\",\"2002\",\"2003\",\"2004\",\"2005\",\"2006\",\"2007\",\"2008\",\"2009\",\"2010\",\"2011\",\"2012\",\"2013\",\"2014\",\"2015\",\"1952\",\"1953\",\"1954\",\"1955\",\"1956\",\"1957\",\"1958\",\"1959\",\"1960\",\"1961\",\"1962\",\"1964\",\"1965\",\"1966\",\"1967\",\"1968\",\"1969\",\"1970\",\"1971\",\"1972\",\"1973\",\"1974\",\"1975\",\"1976\",\"1977\",\"1978\",\"1979\",\"1980\",\"1981\",\"1982\",\"1983\",\"1984\",\"1985\",\"1986\",\"1987\",\"1988\",\"1989\",\"1990\",\"1991\",\"1992\",\"1993\",\"1994\",\"1995\",\"1996\",\"1997\",\"1998\",\"1999\",\"2000\",\"2001\",\"2002\",\"2003\",\"2004\",\"2005\",\"2006\",\"2007\",\"2008\",\"2009\",\"2010\",\"2011\",\"2012\",\"2013\",\"2014\",\"2015\"],\"y\":[4.0,16.0,40.0,47.0,30.0,53.0,60.0,21.0,13.0,16.0,14.0,51.0,18.0,19.0,3.0,14.0,6.0,22.0,4.0,23.0,4.0,53.0,10.0,9.0,25.0,19.0,41.0,39.0,8.0,34.0,266.0,231.0,64.0,323.0,96.0,223.0,118.0,231.0,156.0,141.0,17.0,149.0,158.0,83.0,194.0,160.0,175.0,138.0,93.0,52.0,63.0,662.0,478.0,238.0,301.0,321.0,7.0,1.0,2.0,16.0,10.0,55.0,37.0,8.0,17.0,12.0,22.0,5.0,48.0,234.0,210.0,456.0,383.0,54.0,10.0,101.0,182.0,368.0,467.0,591.0,927.0,1002.0,759.0,1094.0,1810.0,2212.0,1817.0,832.0,1328.0,2848.0,2009.0,788.0,1383.0,2079.0,1048.0,1123.0,2373.0,983.0,984.0,1730.0,2792.0,2899.0,1580.0,85.0,61.0,566.0,167.0,1171.0,167.0,205.0,214.0,362.0,795.0,1070.0,1239.0,1080.0,1673.0,2782.0,3161.0]}},\"id\":\"7ff22744-7b62-47c7-8e20-7943050c4e66\",\"type\":\"ColumnDataSource\"},{\"attributes\":{\"label\":{\"value\":\"Myanmar\"},\"renderers\":[{\"id\":\"60c13715-6dad-4a7a-b469-b5b23e4c41fa\",\"type\":\"GlyphRenderer\"}]},\"id\":\"af6dd7de-8948-4324-b55c-ad7f6fc3785a\",\"type\":\"LegendItem\"},{\"attributes\":{\"callback\":null,\"plot\":{\"id\":\"05eb1875-a9bb-48f4-9b7b-f7a7f25fb0e1\",\"subtype\":\"Figure\",\"type\":\"Plot\"}},\"id\":\"3a0ca6ae-680a-46ee-8694-d5d60296d753\",\"type\":\"TapTool\"},{\"attributes\":{\"line_alpha\":{\"value\":0.1},\"line_color\":{\"value\":\"#1f77b4\"},\"x\":{\"field\":\"x\"},\"y\":{\"field\":\"y\"}},\"id\":\"19fb417f-1c68-4af7-995b-0b0226bbd227\",\"type\":\"Line\"}],\"root_ids\":[\"05eb1875-a9bb-48f4-9b7b-f7a7f25fb0e1\"]},\"title\":\"Bokeh Application\",\"version\":\"0.12.3\"}};\n",
       "            var render_items = [{\"docid\":\"ef466662-f2cd-4b3a-8c75-82082a04a867\",\"elementid\":\"dbfeaa41-e08a-4a6c-a18c-e5ab91d36238\",\"modelid\":\"05eb1875-a9bb-48f4-9b7b-f7a7f25fb0e1\"}];\n",
       "            \n",
       "            Bokeh.embed.embed_items(docs_json, render_items);\n",
       "        });\n",
       "      },\n",
       "      function(Bokeh) {\n",
       "      }\n",
       "    ];\n",
       "  \n",
       "    function run_inline_js() {\n",
       "      \n",
       "      if ((window.Bokeh !== undefined) || (force === \"1\")) {\n",
       "        for (var i = 0; i < inline_js.length; i++) {\n",
       "          inline_js[i](window.Bokeh);\n",
       "        }if (force === \"1\") {\n",
       "          display_loaded();\n",
       "        }} else if (Date.now() < window._bokeh_timeout) {\n",
       "        setTimeout(run_inline_js, 100);\n",
       "      } else if (!window._bokeh_failed_load) {\n",
       "        console.log(\"Bokeh: BokehJS failed to load within specified timeout.\");\n",
       "        window._bokeh_failed_load = true;\n",
       "      } else if (!force) {\n",
       "        var cell = $(\"#dbfeaa41-e08a-4a6c-a18c-e5ab91d36238\").parents('.cell').data().cell;\n",
       "        cell.output_area.append_execute_result(NB_LOAD_WARNING)\n",
       "      }\n",
       "  \n",
       "    }\n",
       "  \n",
       "    if (window._bokeh_is_loading === 0) {\n",
       "      console.log(\"Bokeh: BokehJS loaded, going straight to plotting\");\n",
       "      run_inline_js();\n",
       "    } else {\n",
       "      load_libs(js_urls, function() {\n",
       "        console.log(\"Bokeh: BokehJS plotting callback run at\", now());\n",
       "        run_inline_js();\n",
       "      });\n",
       "    }\n",
       "  }(this));\n",
       "</script>"
      ]
     },
     "metadata": {},
     "output_type": "display_data"
    }
   ],
   "source": [
    "plot3 = generateTimelinesPlot(weaponinflow, ['Myanmar', 'Saudi Arabia'], 'Weapon Inflow')\n",
    "\n",
    "plot3.title.text = 'Weapon inflow into countries'\n",
    "\n",
    "show(plot3)"
   ]
  },
  {
   "cell_type": "code",
   "execution_count": 45,
   "metadata": {
    "collapsed": false
   },
   "outputs": [
    {
     "data": {
      "text/html": [
       "\n",
       "\n",
       "    <div class=\"bk-root\">\n",
       "        <div class=\"plotdiv\" id=\"a3af648e-418d-44d4-b02d-2a5c4f301137\"></div>\n",
       "    </div>\n",
       "<script type=\"text/javascript\">\n",
       "  \n",
       "  (function(global) {\n",
       "    function now() {\n",
       "      return new Date();\n",
       "    }\n",
       "  \n",
       "    var force = \"\";\n",
       "  \n",
       "    if (typeof (window._bokeh_onload_callbacks) === \"undefined\" || force !== \"\") {\n",
       "      window._bokeh_onload_callbacks = [];\n",
       "      window._bokeh_is_loading = undefined;\n",
       "    }\n",
       "  \n",
       "  \n",
       "    \n",
       "    if (typeof (window._bokeh_timeout) === \"undefined\" || force !== \"\") {\n",
       "      window._bokeh_timeout = Date.now() + 0;\n",
       "      window._bokeh_failed_load = false;\n",
       "    }\n",
       "  \n",
       "    var NB_LOAD_WARNING = {'data': {'text/html':\n",
       "       \"<div style='background-color: #fdd'>\\n\"+\n",
       "       \"<p>\\n\"+\n",
       "       \"BokehJS does not appear to have successfully loaded. If loading BokehJS from CDN, this \\n\"+\n",
       "       \"may be due to a slow or bad network connection. Possible fixes:\\n\"+\n",
       "       \"</p>\\n\"+\n",
       "       \"<ul>\\n\"+\n",
       "       \"<li>re-rerun `output_notebook()` to attempt to load from CDN again, or</li>\\n\"+\n",
       "       \"<li>use INLINE resources instead, as so:</li>\\n\"+\n",
       "       \"</ul>\\n\"+\n",
       "       \"<code>\\n\"+\n",
       "       \"from bokeh.resources import INLINE\\n\"+\n",
       "       \"output_notebook(resources=INLINE)\\n\"+\n",
       "       \"</code>\\n\"+\n",
       "       \"</div>\"}};\n",
       "  \n",
       "    function display_loaded() {\n",
       "      if (window.Bokeh !== undefined) {\n",
       "        Bokeh.$(\"#a3af648e-418d-44d4-b02d-2a5c4f301137\").text(\"BokehJS successfully loaded.\");\n",
       "      } else if (Date.now() < window._bokeh_timeout) {\n",
       "        setTimeout(display_loaded, 100)\n",
       "      }\n",
       "    }\n",
       "  \n",
       "    function run_callbacks() {\n",
       "      window._bokeh_onload_callbacks.forEach(function(callback) { callback() });\n",
       "      delete window._bokeh_onload_callbacks\n",
       "      console.info(\"Bokeh: all callbacks have finished\");\n",
       "    }\n",
       "  \n",
       "    function load_libs(js_urls, callback) {\n",
       "      window._bokeh_onload_callbacks.push(callback);\n",
       "      if (window._bokeh_is_loading > 0) {\n",
       "        console.log(\"Bokeh: BokehJS is being loaded, scheduling callback at\", now());\n",
       "        return null;\n",
       "      }\n",
       "      if (js_urls == null || js_urls.length === 0) {\n",
       "        run_callbacks();\n",
       "        return null;\n",
       "      }\n",
       "      console.log(\"Bokeh: BokehJS not loaded, scheduling load and callback at\", now());\n",
       "      window._bokeh_is_loading = js_urls.length;\n",
       "      for (var i = 0; i < js_urls.length; i++) {\n",
       "        var url = js_urls[i];\n",
       "        var s = document.createElement('script');\n",
       "        s.src = url;\n",
       "        s.async = false;\n",
       "        s.onreadystatechange = s.onload = function() {\n",
       "          window._bokeh_is_loading--;\n",
       "          if (window._bokeh_is_loading === 0) {\n",
       "            console.log(\"Bokeh: all BokehJS libraries loaded\");\n",
       "            run_callbacks()\n",
       "          }\n",
       "        };\n",
       "        s.onerror = function() {\n",
       "          console.warn(\"failed to load library \" + url);\n",
       "        };\n",
       "        console.log(\"Bokeh: injecting script tag for BokehJS library: \", url);\n",
       "        document.getElementsByTagName(\"head\")[0].appendChild(s);\n",
       "      }\n",
       "    };var element = document.getElementById(\"a3af648e-418d-44d4-b02d-2a5c4f301137\");\n",
       "    if (element == null) {\n",
       "      console.log(\"Bokeh: ERROR: autoload.js configured with elementid 'a3af648e-418d-44d4-b02d-2a5c4f301137' but no matching script tag was found. \")\n",
       "      return false;\n",
       "    }\n",
       "  \n",
       "    var js_urls = [];\n",
       "  \n",
       "    var inline_js = [\n",
       "      function(Bokeh) {\n",
       "        Bokeh.$(function() {\n",
       "            var docs_json = {\"bb74af3d-4606-4863-b994-9060af4b9a33\":{\"roots\":{\"references\":[{\"attributes\":{\"plot\":{\"id\":\"d8548a88-c44c-4d3b-9909-d20ce0aba8e9\",\"subtype\":\"Figure\",\"type\":\"Plot\"}},\"id\":\"21bbbae1-4548-4c1e-834e-8397501dcde8\",\"type\":\"ResetTool\"},{\"attributes\":{\"fill_alpha\":{\"value\":0.1},\"fill_color\":{\"value\":\"#1f77b4\"},\"line_alpha\":{\"value\":0.1},\"line_color\":{\"value\":\"#1f77b4\"},\"x\":{\"field\":\"x\"},\"y\":{\"field\":\"y\"}},\"id\":\"8117654a-d571-4e50-b337-f31784279989\",\"type\":\"Circle\"},{\"attributes\":{\"callback\":null},\"id\":\"ea001789-4a3b-41d0-9cd4-42423825595f\",\"type\":\"DataRange1d\"},{\"attributes\":{},\"id\":\"10541b0b-461d-4f45-9afb-d6ec12434a5a\",\"type\":\"BasicTicker\"},{\"attributes\":{\"callback\":null,\"plot\":{\"id\":\"d8548a88-c44c-4d3b-9909-d20ce0aba8e9\",\"subtype\":\"Figure\",\"type\":\"Plot\"},\"renderers\":[{\"id\":\"036ca195-5e00-4bb4-a90a-3937e94f49df\",\"type\":\"GlyphRenderer\"}],\"tooltips\":[[\"year\",\"@x\"],[\"country\",\"@country\"],[\"Weapon Outflow\",\"@y\"]]},\"id\":\"b2b7a11d-f920-443d-8337-bb8881bfaeb7\",\"type\":\"HoverTool\"},{\"attributes\":{\"line_alpha\":{\"value\":0.1},\"line_color\":{\"value\":\"#1f77b4\"},\"x\":{\"field\":\"x\"},\"y\":{\"field\":\"y\"}},\"id\":\"2c5aee97-4cb9-4c27-b5f0-9fc170ed939e\",\"type\":\"Line\"},{\"attributes\":{\"items\":[{\"id\":\"d698ff36-f551-4f10-bbfd-36c5d4f04c9d\",\"type\":\"LegendItem\"},{\"id\":\"468ac5ba-958d-485a-9e60-75d14b78ba6c\",\"type\":\"LegendItem\"},{\"id\":\"f6d50d2a-c969-4c79-ab64-2f623a48f7b0\",\"type\":\"LegendItem\"},{\"id\":\"885a2e54-4b24-47cc-ba96-e1fdd2549e8e\",\"type\":\"LegendItem\"}],\"plot\":{\"id\":\"d8548a88-c44c-4d3b-9909-d20ce0aba8e9\",\"subtype\":\"Figure\",\"type\":\"Plot\"}},\"id\":\"0f852941-54c0-4c86-90ce-5904f54efd1d\",\"type\":\"Legend\"},{\"attributes\":{\"label\":{\"value\":\"China\"},\"renderers\":[{\"id\":\"2514f34a-58df-4b44-8079-ae02f4443820\",\"type\":\"GlyphRenderer\"}]},\"id\":\"f6d50d2a-c969-4c79-ab64-2f623a48f7b0\",\"type\":\"LegendItem\"},{\"attributes\":{\"dimension\":1,\"plot\":{\"id\":\"d8548a88-c44c-4d3b-9909-d20ce0aba8e9\",\"subtype\":\"Figure\",\"type\":\"Plot\"},\"ticker\":{\"id\":\"10541b0b-461d-4f45-9afb-d6ec12434a5a\",\"type\":\"BasicTicker\"}},\"id\":\"9d9b1ddf-c483-4bc5-8e53-4d919afd7bc8\",\"type\":\"Grid\"},{\"attributes\":{\"line_alpha\":{\"value\":0.1},\"line_color\":{\"value\":\"#1f77b4\"},\"x\":{\"field\":\"x\"},\"y\":{\"field\":\"y\"}},\"id\":\"a392066e-2333-4c7e-b7c6-f2ad49561a72\",\"type\":\"Line\"},{\"attributes\":{\"callback\":null,\"column_names\":[\"color\",\"country\",\"y\",\"x\"],\"data\":{\"color\":[\"#e41a1c\",\"#e41a1c\",\"#e41a1c\",\"#e41a1c\",\"#e41a1c\",\"#e41a1c\",\"#e41a1c\",\"#e41a1c\",\"#e41a1c\",\"#e41a1c\",\"#e41a1c\",\"#e41a1c\",\"#e41a1c\",\"#e41a1c\",\"#e41a1c\",\"#e41a1c\",\"#e41a1c\",\"#e41a1c\",\"#e41a1c\",\"#e41a1c\",\"#e41a1c\",\"#e41a1c\",\"#e41a1c\",\"#e41a1c\",\"#e41a1c\",\"#e41a1c\",\"#e41a1c\",\"#e41a1c\",\"#e41a1c\",\"#e41a1c\",\"#e41a1c\",\"#e41a1c\",\"#e41a1c\",\"#e41a1c\",\"#e41a1c\",\"#e41a1c\",\"#e41a1c\",\"#e41a1c\",\"#e41a1c\",\"#e41a1c\",\"#e41a1c\",\"#e41a1c\",\"#e41a1c\",\"#e41a1c\",\"#e41a1c\",\"#e41a1c\",\"#e41a1c\",\"#e41a1c\",\"#e41a1c\",\"#e41a1c\",\"#e41a1c\",\"#e41a1c\",\"#e41a1c\",\"#e41a1c\",\"#e41a1c\",\"#e41a1c\",\"#e41a1c\",\"#e41a1c\",\"#e41a1c\",\"#e41a1c\",\"#e41a1c\",\"#e41a1c\",\"#e41a1c\",\"#377eb8\",\"#377eb8\",\"#377eb8\",\"#377eb8\",\"#377eb8\",\"#377eb8\",\"#377eb8\",\"#377eb8\",\"#377eb8\",\"#377eb8\",\"#377eb8\",\"#377eb8\",\"#377eb8\",\"#377eb8\",\"#377eb8\",\"#377eb8\",\"#377eb8\",\"#377eb8\",\"#377eb8\",\"#377eb8\",\"#377eb8\",\"#377eb8\",\"#377eb8\",\"#377eb8\",\"#377eb8\",\"#377eb8\",\"#377eb8\",\"#377eb8\",\"#377eb8\",\"#377eb8\",\"#377eb8\",\"#377eb8\",\"#377eb8\",\"#377eb8\",\"#377eb8\",\"#377eb8\",\"#377eb8\",\"#377eb8\",\"#377eb8\",\"#377eb8\",\"#377eb8\",\"#377eb8\",\"#377eb8\",\"#377eb8\",\"#377eb8\",\"#377eb8\",\"#377eb8\",\"#377eb8\",\"#377eb8\",\"#377eb8\",\"#377eb8\",\"#377eb8\",\"#377eb8\",\"#377eb8\",\"#377eb8\",\"#377eb8\",\"#377eb8\",\"#377eb8\",\"#377eb8\",\"#377eb8\",\"#377eb8\",\"#377eb8\",\"#377eb8\",\"#377eb8\",\"#377eb8\",\"#377eb8\",\"#4daf4a\",\"#4daf4a\",\"#4daf4a\",\"#4daf4a\",\"#4daf4a\",\"#4daf4a\",\"#4daf4a\",\"#4daf4a\",\"#4daf4a\",\"#4daf4a\",\"#4daf4a\",\"#4daf4a\",\"#4daf4a\",\"#4daf4a\",\"#4daf4a\",\"#4daf4a\",\"#4daf4a\",\"#4daf4a\",\"#4daf4a\",\"#4daf4a\",\"#4daf4a\",\"#4daf4a\",\"#4daf4a\",\"#4daf4a\",\"#4daf4a\",\"#4daf4a\",\"#4daf4a\",\"#4daf4a\",\"#4daf4a\",\"#4daf4a\",\"#4daf4a\",\"#4daf4a\",\"#4daf4a\",\"#4daf4a\",\"#4daf4a\",\"#4daf4a\",\"#4daf4a\",\"#4daf4a\",\"#4daf4a\",\"#4daf4a\",\"#4daf4a\",\"#4daf4a\",\"#4daf4a\",\"#4daf4a\",\"#4daf4a\",\"#4daf4a\",\"#4daf4a\",\"#4daf4a\",\"#4daf4a\",\"#4daf4a\",\"#4daf4a\",\"#4daf4a\",\"#4daf4a\",\"#4daf4a\",\"#4daf4a\",\"#4daf4a\",\"#4daf4a\",\"#4daf4a\",\"#4daf4a\",\"#4daf4a\",\"#4daf4a\",\"#4daf4a\",\"#4daf4a\",\"#4daf4a\",\"#4daf4a\",\"#4daf4a\",\"#984ea3\",\"#984ea3\",\"#984ea3\",\"#984ea3\",\"#984ea3\",\"#984ea3\",\"#984ea3\",\"#984ea3\",\"#984ea3\",\"#984ea3\",\"#984ea3\",\"#984ea3\",\"#984ea3\",\"#984ea3\",\"#984ea3\",\"#984ea3\",\"#984ea3\",\"#984ea3\",\"#984ea3\",\"#984ea3\",\"#984ea3\",\"#984ea3\",\"#984ea3\",\"#984ea3\",\"#984ea3\",\"#984ea3\",\"#984ea3\",\"#984ea3\",\"#984ea3\",\"#984ea3\",\"#984ea3\",\"#984ea3\",\"#984ea3\",\"#984ea3\",\"#984ea3\",\"#984ea3\",\"#984ea3\",\"#984ea3\",\"#984ea3\",\"#984ea3\",\"#984ea3\",\"#984ea3\",\"#984ea3\",\"#984ea3\",\"#984ea3\",\"#984ea3\",\"#984ea3\",\"#984ea3\",\"#984ea3\",\"#984ea3\",\"#984ea3\",\"#984ea3\",\"#984ea3\",\"#984ea3\",\"#984ea3\",\"#984ea3\"],\"country\":[\"Germany (FRG)\",\"Germany (FRG)\",\"Germany (FRG)\",\"Germany (FRG)\",\"Germany (FRG)\",\"Germany (FRG)\",\"Germany (FRG)\",\"Germany (FRG)\",\"Germany (FRG)\",\"Germany (FRG)\",\"Germany (FRG)\",\"Germany (FRG)\",\"Germany (FRG)\",\"Germany (FRG)\",\"Germany (FRG)\",\"Germany (FRG)\",\"Germany (FRG)\",\"Germany (FRG)\",\"Germany (FRG)\",\"Germany (FRG)\",\"Germany (FRG)\",\"Germany (FRG)\",\"Germany (FRG)\",\"Germany (FRG)\",\"Germany (FRG)\",\"Germany (FRG)\",\"Germany (FRG)\",\"Germany (FRG)\",\"Germany (FRG)\",\"Germany (FRG)\",\"Germany (FRG)\",\"Germany (FRG)\",\"Germany (FRG)\",\"Germany (FRG)\",\"Germany (FRG)\",\"Germany (FRG)\",\"Germany (FRG)\",\"Germany (FRG)\",\"Germany (FRG)\",\"Germany (FRG)\",\"Germany (FRG)\",\"Germany (FRG)\",\"Germany (FRG)\",\"Germany (FRG)\",\"Germany (FRG)\",\"Germany (FRG)\",\"Germany (FRG)\",\"Germany (FRG)\",\"Germany (FRG)\",\"Germany (FRG)\",\"Germany (FRG)\",\"Germany (FRG)\",\"Germany (FRG)\",\"Germany (FRG)\",\"Germany (FRG)\",\"Germany (FRG)\",\"Germany (FRG)\",\"Germany (FRG)\",\"Germany (FRG)\",\"Germany (FRG)\",\"Germany (FRG)\",\"Germany (FRG)\",\"Germany (FRG)\",\"United States\",\"United States\",\"United States\",\"United States\",\"United States\",\"United States\",\"United States\",\"United States\",\"United States\",\"United States\",\"United States\",\"United States\",\"United States\",\"United States\",\"United States\",\"United States\",\"United States\",\"United States\",\"United States\",\"United States\",\"United States\",\"United States\",\"United States\",\"United States\",\"United States\",\"United States\",\"United States\",\"United States\",\"United States\",\"United States\",\"United States\",\"United States\",\"United States\",\"United States\",\"United States\",\"United States\",\"United States\",\"United States\",\"United States\",\"United States\",\"United States\",\"United States\",\"United States\",\"United States\",\"United States\",\"United States\",\"United States\",\"United States\",\"United States\",\"United States\",\"United States\",\"United States\",\"United States\",\"United States\",\"United States\",\"United States\",\"United States\",\"United States\",\"United States\",\"United States\",\"United States\",\"United States\",\"United States\",\"United States\",\"United States\",\"United States\",\"China\",\"China\",\"China\",\"China\",\"China\",\"China\",\"China\",\"China\",\"China\",\"China\",\"China\",\"China\",\"China\",\"China\",\"China\",\"China\",\"China\",\"China\",\"China\",\"China\",\"China\",\"China\",\"China\",\"China\",\"China\",\"China\",\"China\",\"China\",\"China\",\"China\",\"China\",\"China\",\"China\",\"China\",\"China\",\"China\",\"China\",\"China\",\"China\",\"China\",\"China\",\"China\",\"China\",\"China\",\"China\",\"China\",\"China\",\"China\",\"China\",\"China\",\"China\",\"China\",\"China\",\"China\",\"China\",\"China\",\"China\",\"China\",\"China\",\"China\",\"China\",\"China\",\"China\",\"China\",\"China\",\"China\",\"Myanmar\",\"Myanmar\",\"Myanmar\",\"Myanmar\",\"Myanmar\",\"Myanmar\",\"Myanmar\",\"Myanmar\",\"Myanmar\",\"Myanmar\",\"Myanmar\",\"Myanmar\",\"Myanmar\",\"Myanmar\",\"Myanmar\",\"Myanmar\",\"Myanmar\",\"Myanmar\",\"Myanmar\",\"Myanmar\",\"Myanmar\",\"Myanmar\",\"Myanmar\",\"Myanmar\",\"Myanmar\",\"Myanmar\",\"Myanmar\",\"Myanmar\",\"Myanmar\",\"Myanmar\",\"Myanmar\",\"Myanmar\",\"Myanmar\",\"Myanmar\",\"Myanmar\",\"Myanmar\",\"Myanmar\",\"Myanmar\",\"Myanmar\",\"Myanmar\",\"Myanmar\",\"Myanmar\",\"Myanmar\",\"Myanmar\",\"Myanmar\",\"Myanmar\",\"Myanmar\",\"Myanmar\",\"Myanmar\",\"Myanmar\",\"Myanmar\",\"Myanmar\",\"Myanmar\",\"Myanmar\",\"Myanmar\",\"Myanmar\"],\"x\":[\"1953\",\"1954\",\"1955\",\"1956\",\"1957\",\"1958\",\"1959\",\"1960\",\"1961\",\"1962\",\"1963\",\"1964\",\"1965\",\"1966\",\"1967\",\"1968\",\"1969\",\"1970\",\"1971\",\"1972\",\"1973\",\"1974\",\"1975\",\"1976\",\"1977\",\"1978\",\"1979\",\"1980\",\"1981\",\"1982\",\"1983\",\"1984\",\"1985\",\"1986\",\"1987\",\"1988\",\"1989\",\"1990\",\"1991\",\"1992\",\"1993\",\"1994\",\"1995\",\"1996\",\"1997\",\"1998\",\"1999\",\"2000\",\"2001\",\"2002\",\"2003\",\"2004\",\"2005\",\"2006\",\"2007\",\"2008\",\"2009\",\"2010\",\"2011\",\"2012\",\"2013\",\"2014\",\"2015\",\"1950\",\"1951\",\"1952\",\"1953\",\"1954\",\"1955\",\"1956\",\"1957\",\"1958\",\"1959\",\"1960\",\"1961\",\"1962\",\"1963\",\"1964\",\"1965\",\"1966\",\"1967\",\"1968\",\"1969\",\"1970\",\"1971\",\"1972\",\"1973\",\"1974\",\"1975\",\"1976\",\"1977\",\"1978\",\"1979\",\"1980\",\"1981\",\"1982\",\"1983\",\"1984\",\"1985\",\"1986\",\"1987\",\"1988\",\"1989\",\"1990\",\"1991\",\"1992\",\"1993\",\"1994\",\"1995\",\"1996\",\"1997\",\"1998\",\"1999\",\"2000\",\"2001\",\"2002\",\"2003\",\"2004\",\"2005\",\"2006\",\"2007\",\"2008\",\"2009\",\"2010\",\"2011\",\"2012\",\"2013\",\"2014\",\"2015\",\"1950\",\"1951\",\"1952\",\"1953\",\"1954\",\"1955\",\"1956\",\"1957\",\"1958\",\"1959\",\"1960\",\"1961\",\"1962\",\"1963\",\"1964\",\"1965\",\"1966\",\"1967\",\"1968\",\"1969\",\"1970\",\"1971\",\"1972\",\"1973\",\"1974\",\"1975\",\"1976\",\"1977\",\"1978\",\"1979\",\"1980\",\"1981\",\"1982\",\"1983\",\"1984\",\"1985\",\"1986\",\"1987\",\"1988\",\"1989\",\"1990\",\"1991\",\"1992\",\"1993\",\"1994\",\"1995\",\"1996\",\"1997\",\"1998\",\"1999\",\"2000\",\"2001\",\"2002\",\"2003\",\"2004\",\"2005\",\"2006\",\"2007\",\"2008\",\"2009\",\"2010\",\"2011\",\"2012\",\"2013\",\"2014\",\"2015\",\"1950\",\"1953\",\"1954\",\"1955\",\"1956\",\"1957\",\"1958\",\"1959\",\"1960\",\"1961\",\"1962\",\"1963\",\"1964\",\"1965\",\"1966\",\"1967\",\"1968\",\"1969\",\"1970\",\"1971\",\"1972\",\"1975\",\"1976\",\"1977\",\"1978\",\"1979\",\"1980\",\"1982\",\"1986\",\"1989\",\"1990\",\"1991\",\"1992\",\"1993\",\"1994\",\"1995\",\"1996\",\"1997\",\"1998\",\"1999\",\"2000\",\"2001\",\"2002\",\"2003\",\"2004\",\"2005\",\"2006\",\"2007\",\"2008\",\"2009\",\"2010\",\"2011\",\"2012\",\"2013\",\"2014\",\"2015\"],\"y\":[38.0,29.0,24.0,24.0,44.0,25.0,93.0,156.0,12.0,126.0,94.0,380.0,268.0,654.0,722.0,550.0,710.0,1463.0,1367.0,1377.0,226.0,1210.0,1443.0,1665.0,1714.0,1630.0,1440.0,1618.0,1941.0,1588.0,2310.0,2861.0,1284.0,1412.0,957.0,1394.0,1204.0,1832.0,2514.0,1442.0,1541.0,2746.0,1465.0,1960.0,942.0,1824.0,1856.0,1617.0,891.0,904.0,1660.0,1123.0,2072.0,2699.0,3247.0,2379.0,2537.0,2747.0,1353.0,820.0,726.0,1789.0,2055.0,1704.0,4721.0,6410.0,8923.0,6020.0,6599.0,8435.0,8580.0,9682.0,7355.0,5923.0,6392.0,5719.0,8751.0,12251.0,11173.0,8362.0,7221.0,8374.0,11463.0,8960.0,11581.0,10728.0,11972.0,12274.0,16120.0,15670.0,14472.0,13968.0,9640.0,10637.0,13459.0,13923.0,13815.0,11784.0,10664.0,11531.0,12114.0,11761.0,11313.0,10731.0,12504.0,14082.0,13810.0,11457.0,11133.0,10830.0,14546.0,15694.0,11562.0,7598.0,5682.0,4955.0,5615.0,6792.0,6829.0,7480.0,7802.0,6802.0,6812.0,8096.0,9105.0,9163.0,7692.0,10470.0,10485.0,0.0,0.0,0.0,0.0,0.0,0.0,39.0,30.0,463.0,361.0,285.0,35.0,51.0,11.0,61.0,419.0,619.0,410.0,682.0,608.0,845.0,1239.0,1185.0,672.0,509.0,671.0,613.0,225.0,618.0,559.0,949.0,643.0,1506.0,1774.0,1926.0,1274.0,1853.0,2596.0,1399.0,1032.0,935.0,1316.0,703.0,1436.0,1111.0,1014.0,773.0,435.0,352.0,331.0,303.0,516.0,526.0,702.0,400.0,289.0,671.0,505.0,636.0,1178.0,1497.0,1338.0,1729.0,2055.0,1362.0,1968.0,0.0,0.0,0.0,0.0,0.0,0.0,0.0,0.0,0.0,0.0,0.0,0.0,0.0,0.0,0.0,0.0,0.0,0.0,0.0,0.0,0.0,0.0,0.0,0.0,0.0,0.0,0.0,0.0,0.0,0.0,0.0,0.0,0.0,0.0,0.0,0.0,0.0,0.0,0.0,0.0,0.0,0.0,0.0,0.0,0.0,0.0,0.0,0.0,0.0,0.0,0.0,0.0,0.0,0.0,0.0,0.0]}},\"id\":\"6b3dea7b-03bb-4319-acec-5f5a83957d5c\",\"type\":\"ColumnDataSource\"},{\"attributes\":{\"line_color\":{\"value\":\"#377eb8\"},\"x\":{\"field\":\"x\"},\"y\":{\"field\":\"y\"}},\"id\":\"91f5edf4-a8dd-4bbd-b43b-77aa9f200a4b\",\"type\":\"Line\"},{\"attributes\":{\"data_source\":{\"id\":\"b093ad4c-edc1-4805-a3c7-c6d2a9b9b3f4\",\"type\":\"ColumnDataSource\"},\"glyph\":{\"id\":\"466193fd-55fb-463c-8cc0-1a715c01f6d8\",\"type\":\"Line\"},\"hover_glyph\":null,\"nonselection_glyph\":{\"id\":\"aa668825-6d49-4afa-98d1-dfada4fe94dd\",\"type\":\"Line\"},\"selection_glyph\":null},\"id\":\"67cb785e-bec4-4267-8aff-f14671520579\",\"type\":\"GlyphRenderer\"},{\"attributes\":{\"plot\":{\"id\":\"d8548a88-c44c-4d3b-9909-d20ce0aba8e9\",\"subtype\":\"Figure\",\"type\":\"Plot\"}},\"id\":\"e86315eb-0079-421a-852c-87f2386c1896\",\"type\":\"PanTool\"},{\"attributes\":{\"callback\":null,\"column_names\":[\"y\",\"x\"],\"data\":{\"x\":[\"1953\",\"1954\",\"1955\",\"1956\",\"1957\",\"1958\",\"1959\",\"1960\",\"1961\",\"1962\",\"1963\",\"1964\",\"1965\",\"1966\",\"1967\",\"1968\",\"1969\",\"1970\",\"1971\",\"1972\",\"1973\",\"1974\",\"1975\",\"1976\",\"1977\",\"1978\",\"1979\",\"1980\",\"1981\",\"1982\",\"1983\",\"1984\",\"1985\",\"1986\",\"1987\",\"1988\",\"1989\",\"1990\",\"1991\",\"1992\",\"1993\",\"1994\",\"1995\",\"1996\",\"1997\",\"1998\",\"1999\",\"2000\",\"2001\",\"2002\",\"2003\",\"2004\",\"2005\",\"2006\",\"2007\",\"2008\",\"2009\",\"2010\",\"2011\",\"2012\",\"2013\",\"2014\",\"2015\"],\"y\":[38.0,29.0,24.0,24.0,44.0,25.0,93.0,156.0,12.0,126.0,94.0,380.0,268.0,654.0,722.0,550.0,710.0,1463.0,1367.0,1377.0,226.0,1210.0,1443.0,1665.0,1714.0,1630.0,1440.0,1618.0,1941.0,1588.0,2310.0,2861.0,1284.0,1412.0,957.0,1394.0,1204.0,1832.0,2514.0,1442.0,1541.0,2746.0,1465.0,1960.0,942.0,1824.0,1856.0,1617.0,891.0,904.0,1660.0,1123.0,2072.0,2699.0,3247.0,2379.0,2537.0,2747.0,1353.0,820.0,726.0,1789.0,2055.0]}},\"id\":\"aaf0f168-ac8b-44a2-814b-bb015a90ad21\",\"type\":\"ColumnDataSource\"},{\"attributes\":{\"line_alpha\":{\"value\":0.1},\"line_color\":{\"value\":\"#1f77b4\"},\"x\":{\"field\":\"x\"},\"y\":{\"field\":\"y\"}},\"id\":\"614d65e5-97f5-4c9e-9cb0-466040dcaddf\",\"type\":\"Line\"},{\"attributes\":{\"line_alpha\":{\"value\":0.1},\"line_color\":{\"value\":\"#1f77b4\"},\"x\":{\"field\":\"x\"},\"y\":{\"field\":\"y\"}},\"id\":\"aa668825-6d49-4afa-98d1-dfada4fe94dd\",\"type\":\"Line\"},{\"attributes\":{\"callback\":null,\"column_names\":[\"y\",\"x\"],\"data\":{\"x\":[\"1950\",\"1951\",\"1952\",\"1953\",\"1954\",\"1955\",\"1956\",\"1957\",\"1958\",\"1959\",\"1960\",\"1961\",\"1962\",\"1963\",\"1964\",\"1965\",\"1966\",\"1967\",\"1968\",\"1969\",\"1970\",\"1971\",\"1972\",\"1973\",\"1974\",\"1975\",\"1976\",\"1977\",\"1978\",\"1979\",\"1980\",\"1981\",\"1982\",\"1983\",\"1984\",\"1985\",\"1986\",\"1987\",\"1988\",\"1989\",\"1990\",\"1991\",\"1992\",\"1993\",\"1994\",\"1995\",\"1996\",\"1997\",\"1998\",\"1999\",\"2000\",\"2001\",\"2002\",\"2003\",\"2004\",\"2005\",\"2006\",\"2007\",\"2008\",\"2009\",\"2010\",\"2011\",\"2012\",\"2013\",\"2014\",\"2015\"],\"y\":[0.0,0.0,0.0,0.0,0.0,0.0,39.0,30.0,463.0,361.0,285.0,35.0,51.0,11.0,61.0,419.0,619.0,410.0,682.0,608.0,845.0,1239.0,1185.0,672.0,509.0,671.0,613.0,225.0,618.0,559.0,949.0,643.0,1506.0,1774.0,1926.0,1274.0,1853.0,2596.0,1399.0,1032.0,935.0,1316.0,703.0,1436.0,1111.0,1014.0,773.0,435.0,352.0,331.0,303.0,516.0,526.0,702.0,400.0,289.0,671.0,505.0,636.0,1178.0,1497.0,1338.0,1729.0,2055.0,1362.0,1968.0]}},\"id\":\"88d89ba3-e389-40c0-b1b4-556c46c0cbf8\",\"type\":\"ColumnDataSource\"},{\"attributes\":{\"callback\":null},\"id\":\"efd16780-161e-40d6-8ece-31c3e3d580a2\",\"type\":\"DataRange1d\"},{\"attributes\":{\"line_color\":{\"value\":\"#984ea3\"},\"x\":{\"field\":\"x\"},\"y\":{\"field\":\"y\"}},\"id\":\"466193fd-55fb-463c-8cc0-1a715c01f6d8\",\"type\":\"Line\"},{\"attributes\":{\"active_drag\":\"auto\",\"active_scroll\":\"auto\",\"active_tap\":\"auto\",\"tools\":[{\"id\":\"e86315eb-0079-421a-852c-87f2386c1896\",\"type\":\"PanTool\"},{\"id\":\"4d2d5bbf-2a5c-4260-8002-6e753cca8110\",\"type\":\"TapTool\"},{\"id\":\"8d7acb73-98a1-492e-bfb2-815c930b1a77\",\"type\":\"BoxZoomTool\"},{\"id\":\"21bbbae1-4548-4c1e-834e-8397501dcde8\",\"type\":\"ResetTool\"},{\"id\":\"04223125-257f-4f4e-ae7c-539557dbcac6\",\"type\":\"WheelZoomTool\"},{\"id\":\"ef88a950-8b47-40ee-908a-e9bc73d03b6b\",\"type\":\"SaveTool\"},{\"id\":\"b2b7a11d-f920-443d-8337-bb8881bfaeb7\",\"type\":\"HoverTool\"}]},\"id\":\"5981b7a3-af17-4300-bb17-16dc7e545dca\",\"type\":\"Toolbar\"},{\"attributes\":{\"line_color\":{\"value\":\"#4daf4a\"},\"x\":{\"field\":\"x\"},\"y\":{\"field\":\"y\"}},\"id\":\"87e092c7-492c-433e-b004-5c6bb18624be\",\"type\":\"Line\"},{\"attributes\":{\"plot\":{\"id\":\"d8548a88-c44c-4d3b-9909-d20ce0aba8e9\",\"subtype\":\"Figure\",\"type\":\"Plot\"}},\"id\":\"04223125-257f-4f4e-ae7c-539557dbcac6\",\"type\":\"WheelZoomTool\"},{\"attributes\":{\"plot\":null,\"text\":null},\"id\":\"361f4c13-2f8c-443c-bdb9-62bb3a69dfc3\",\"type\":\"Title\"},{\"attributes\":{},\"id\":\"d9b99ac3-8a66-47b8-aede-660ed29d4e3b\",\"type\":\"ToolEvents\"},{\"attributes\":{\"bottom_units\":\"screen\",\"fill_alpha\":{\"value\":0.5},\"fill_color\":{\"value\":\"lightgrey\"},\"left_units\":\"screen\",\"level\":\"overlay\",\"line_alpha\":{\"value\":1.0},\"line_color\":{\"value\":\"black\"},\"line_dash\":[4,4],\"line_width\":{\"value\":2},\"plot\":null,\"render_mode\":\"css\",\"right_units\":\"screen\",\"top_units\":\"screen\"},\"id\":\"53a2b5db-1b86-4dc9-b5bf-7aed92027e73\",\"type\":\"BoxAnnotation\"},{\"attributes\":{\"data_source\":{\"id\":\"aaf0f168-ac8b-44a2-814b-bb015a90ad21\",\"type\":\"ColumnDataSource\"},\"glyph\":{\"id\":\"7d52bf00-2e1e-4b2b-8bd6-d4761433bbc8\",\"type\":\"Line\"},\"hover_glyph\":null,\"nonselection_glyph\":{\"id\":\"614d65e5-97f5-4c9e-9cb0-466040dcaddf\",\"type\":\"Line\"},\"selection_glyph\":null},\"id\":\"4c99ebbd-9519-4898-b0cb-4a1372aeaa4b\",\"type\":\"GlyphRenderer\"},{\"attributes\":{\"overlay\":{\"id\":\"53a2b5db-1b86-4dc9-b5bf-7aed92027e73\",\"type\":\"BoxAnnotation\"},\"plot\":{\"id\":\"d8548a88-c44c-4d3b-9909-d20ce0aba8e9\",\"subtype\":\"Figure\",\"type\":\"Plot\"}},\"id\":\"8d7acb73-98a1-492e-bfb2-815c930b1a77\",\"type\":\"BoxZoomTool\"},{\"attributes\":{\"formatter\":{\"id\":\"c707fc4d-a3b2-49ab-bd08-215120535d61\",\"type\":\"BasicTickFormatter\"},\"plot\":{\"id\":\"d8548a88-c44c-4d3b-9909-d20ce0aba8e9\",\"subtype\":\"Figure\",\"type\":\"Plot\"},\"ticker\":{\"id\":\"f174cef5-1d06-49c7-bfa9-bcb6c508e76f\",\"type\":\"BasicTicker\"}},\"id\":\"4568e44c-2419-4e75-bc77-5c8656f71585\",\"type\":\"LinearAxis\"},{\"attributes\":{},\"id\":\"c707fc4d-a3b2-49ab-bd08-215120535d61\",\"type\":\"BasicTickFormatter\"},{\"attributes\":{\"callback\":null,\"plot\":{\"id\":\"d8548a88-c44c-4d3b-9909-d20ce0aba8e9\",\"subtype\":\"Figure\",\"type\":\"Plot\"}},\"id\":\"4d2d5bbf-2a5c-4260-8002-6e753cca8110\",\"type\":\"TapTool\"},{\"attributes\":{\"below\":[{\"id\":\"4568e44c-2419-4e75-bc77-5c8656f71585\",\"type\":\"LinearAxis\"}],\"left\":[{\"id\":\"a09b1a62-10f5-496a-adef-d11411602198\",\"type\":\"LinearAxis\"}],\"plot_height\":400,\"renderers\":[{\"id\":\"4568e44c-2419-4e75-bc77-5c8656f71585\",\"type\":\"LinearAxis\"},{\"id\":\"bf2e34e8-eb2c-4186-b494-4462a93b1372\",\"type\":\"Grid\"},{\"id\":\"a09b1a62-10f5-496a-adef-d11411602198\",\"type\":\"LinearAxis\"},{\"id\":\"9d9b1ddf-c483-4bc5-8e53-4d919afd7bc8\",\"type\":\"Grid\"},{\"id\":\"53a2b5db-1b86-4dc9-b5bf-7aed92027e73\",\"type\":\"BoxAnnotation\"},{\"id\":\"0f852941-54c0-4c86-90ce-5904f54efd1d\",\"type\":\"Legend\"},{\"id\":\"4c99ebbd-9519-4898-b0cb-4a1372aeaa4b\",\"type\":\"GlyphRenderer\"},{\"id\":\"2c331356-05d4-4585-988d-e18c7f627559\",\"type\":\"GlyphRenderer\"},{\"id\":\"2514f34a-58df-4b44-8079-ae02f4443820\",\"type\":\"GlyphRenderer\"},{\"id\":\"67cb785e-bec4-4267-8aff-f14671520579\",\"type\":\"GlyphRenderer\"},{\"id\":\"036ca195-5e00-4bb4-a90a-3937e94f49df\",\"type\":\"GlyphRenderer\"}],\"title\":{\"id\":\"361f4c13-2f8c-443c-bdb9-62bb3a69dfc3\",\"type\":\"Title\"},\"tool_events\":{\"id\":\"d9b99ac3-8a66-47b8-aede-660ed29d4e3b\",\"type\":\"ToolEvents\"},\"toolbar\":{\"id\":\"5981b7a3-af17-4300-bb17-16dc7e545dca\",\"type\":\"Toolbar\"},\"x_range\":{\"id\":\"ea001789-4a3b-41d0-9cd4-42423825595f\",\"type\":\"DataRange1d\"},\"y_range\":{\"id\":\"efd16780-161e-40d6-8ece-31c3e3d580a2\",\"type\":\"DataRange1d\"}},\"id\":\"d8548a88-c44c-4d3b-9909-d20ce0aba8e9\",\"subtype\":\"Figure\",\"type\":\"Plot\"},{\"attributes\":{},\"id\":\"f7e624ea-25d9-4092-9c1e-da1ad27ed0ee\",\"type\":\"BasicTickFormatter\"},{\"attributes\":{\"label\":{\"value\":\"Myanmar\"},\"renderers\":[{\"id\":\"67cb785e-bec4-4267-8aff-f14671520579\",\"type\":\"GlyphRenderer\"}]},\"id\":\"885a2e54-4b24-47cc-ba96-e1fdd2549e8e\",\"type\":\"LegendItem\"},{\"attributes\":{\"label\":{\"value\":\"Germany (FRG)\"},\"renderers\":[{\"id\":\"4c99ebbd-9519-4898-b0cb-4a1372aeaa4b\",\"type\":\"GlyphRenderer\"}]},\"id\":\"d698ff36-f551-4f10-bbfd-36c5d4f04c9d\",\"type\":\"LegendItem\"},{\"attributes\":{\"data_source\":{\"id\":\"1869ad0a-da8b-4405-81df-9d3741519bfd\",\"type\":\"ColumnDataSource\"},\"glyph\":{\"id\":\"91f5edf4-a8dd-4bbd-b43b-77aa9f200a4b\",\"type\":\"Line\"},\"hover_glyph\":null,\"nonselection_glyph\":{\"id\":\"a392066e-2333-4c7e-b7c6-f2ad49561a72\",\"type\":\"Line\"},\"selection_glyph\":null},\"id\":\"2c331356-05d4-4585-988d-e18c7f627559\",\"type\":\"GlyphRenderer\"},{\"attributes\":{\"plot\":{\"id\":\"d8548a88-c44c-4d3b-9909-d20ce0aba8e9\",\"subtype\":\"Figure\",\"type\":\"Plot\"}},\"id\":\"ef88a950-8b47-40ee-908a-e9bc73d03b6b\",\"type\":\"SaveTool\"},{\"attributes\":{\"formatter\":{\"id\":\"f7e624ea-25d9-4092-9c1e-da1ad27ed0ee\",\"type\":\"BasicTickFormatter\"},\"plot\":{\"id\":\"d8548a88-c44c-4d3b-9909-d20ce0aba8e9\",\"subtype\":\"Figure\",\"type\":\"Plot\"},\"ticker\":{\"id\":\"10541b0b-461d-4f45-9afb-d6ec12434a5a\",\"type\":\"BasicTicker\"}},\"id\":\"a09b1a62-10f5-496a-adef-d11411602198\",\"type\":\"LinearAxis\"},{\"attributes\":{\"callback\":null,\"column_names\":[\"y\",\"x\"],\"data\":{\"x\":[\"1950\",\"1953\",\"1954\",\"1955\",\"1956\",\"1957\",\"1958\",\"1959\",\"1960\",\"1961\",\"1962\",\"1963\",\"1964\",\"1965\",\"1966\",\"1967\",\"1968\",\"1969\",\"1970\",\"1971\",\"1972\",\"1975\",\"1976\",\"1977\",\"1978\",\"1979\",\"1980\",\"1982\",\"1986\",\"1989\",\"1990\",\"1991\",\"1992\",\"1993\",\"1994\",\"1995\",\"1996\",\"1997\",\"1998\",\"1999\",\"2000\",\"2001\",\"2002\",\"2003\",\"2004\",\"2005\",\"2006\",\"2007\",\"2008\",\"2009\",\"2010\",\"2011\",\"2012\",\"2013\",\"2014\",\"2015\"],\"y\":[0,0,0,0,0,0,0,0,0,0,0,0,0,0,0,0,0,0,0,0,0,0,0,0,0,0,0,0,0,0,0,0,0,0,0,0,0,0,0,0,0,0,0,0,0,0,0,0,0,0,0,0,0,0,0,0]}},\"id\":\"b093ad4c-edc1-4805-a3c7-c6d2a9b9b3f4\",\"type\":\"ColumnDataSource\"},{\"attributes\":{\"callback\":null,\"column_names\":[\"y\",\"x\"],\"data\":{\"x\":[\"1950\",\"1951\",\"1952\",\"1953\",\"1954\",\"1955\",\"1956\",\"1957\",\"1958\",\"1959\",\"1960\",\"1961\",\"1962\",\"1963\",\"1964\",\"1965\",\"1966\",\"1967\",\"1968\",\"1969\",\"1970\",\"1971\",\"1972\",\"1973\",\"1974\",\"1975\",\"1976\",\"1977\",\"1978\",\"1979\",\"1980\",\"1981\",\"1982\",\"1983\",\"1984\",\"1985\",\"1986\",\"1987\",\"1988\",\"1989\",\"1990\",\"1991\",\"1992\",\"1993\",\"1994\",\"1995\",\"1996\",\"1997\",\"1998\",\"1999\",\"2000\",\"2001\",\"2002\",\"2003\",\"2004\",\"2005\",\"2006\",\"2007\",\"2008\",\"2009\",\"2010\",\"2011\",\"2012\",\"2013\",\"2014\",\"2015\"],\"y\":[1704.0,4721.0,6410.0,8923.0,6020.0,6599.0,8435.0,8580.0,9682.0,7355.0,5923.0,6392.0,5719.0,8751.0,12251.0,11173.0,8362.0,7221.0,8374.0,11463.0,8960.0,11581.0,10728.0,11972.0,12274.0,16120.0,15670.0,14472.0,13968.0,9640.0,10637.0,13459.0,13923.0,13815.0,11784.0,10664.0,11531.0,12114.0,11761.0,11313.0,10731.0,12504.0,14082.0,13810.0,11457.0,11133.0,10830.0,14546.0,15694.0,11562.0,7598.0,5682.0,4955.0,5615.0,6792.0,6829.0,7480.0,7802.0,6802.0,6812.0,8096.0,9105.0,9163.0,7692.0,10470.0,10485.0]}},\"id\":\"1869ad0a-da8b-4405-81df-9d3741519bfd\",\"type\":\"ColumnDataSource\"},{\"attributes\":{\"label\":{\"value\":\"United States\"},\"renderers\":[{\"id\":\"2c331356-05d4-4585-988d-e18c7f627559\",\"type\":\"GlyphRenderer\"}]},\"id\":\"468ac5ba-958d-485a-9e60-75d14b78ba6c\",\"type\":\"LegendItem\"},{\"attributes\":{\"line_color\":{\"value\":\"#e41a1c\"},\"x\":{\"field\":\"x\"},\"y\":{\"field\":\"y\"}},\"id\":\"7d52bf00-2e1e-4b2b-8bd6-d4761433bbc8\",\"type\":\"Line\"},{\"attributes\":{},\"id\":\"f174cef5-1d06-49c7-bfa9-bcb6c508e76f\",\"type\":\"BasicTicker\"},{\"attributes\":{\"data_source\":{\"id\":\"6b3dea7b-03bb-4319-acec-5f5a83957d5c\",\"type\":\"ColumnDataSource\"},\"glyph\":{\"id\":\"e6462585-9cf5-4d8b-b5f7-531f0d70b6e0\",\"type\":\"Circle\"},\"hover_glyph\":null,\"nonselection_glyph\":{\"id\":\"8117654a-d571-4e50-b337-f31784279989\",\"type\":\"Circle\"},\"selection_glyph\":null},\"id\":\"036ca195-5e00-4bb4-a90a-3937e94f49df\",\"type\":\"GlyphRenderer\"},{\"attributes\":{\"fill_color\":{\"field\":\"color\"},\"line_color\":{\"field\":\"color\"},\"x\":{\"field\":\"x\"},\"y\":{\"field\":\"y\"}},\"id\":\"e6462585-9cf5-4d8b-b5f7-531f0d70b6e0\",\"type\":\"Circle\"},{\"attributes\":{\"data_source\":{\"id\":\"88d89ba3-e389-40c0-b1b4-556c46c0cbf8\",\"type\":\"ColumnDataSource\"},\"glyph\":{\"id\":\"87e092c7-492c-433e-b004-5c6bb18624be\",\"type\":\"Line\"},\"hover_glyph\":null,\"nonselection_glyph\":{\"id\":\"2c5aee97-4cb9-4c27-b5f0-9fc170ed939e\",\"type\":\"Line\"},\"selection_glyph\":null},\"id\":\"2514f34a-58df-4b44-8079-ae02f4443820\",\"type\":\"GlyphRenderer\"},{\"attributes\":{\"plot\":{\"id\":\"d8548a88-c44c-4d3b-9909-d20ce0aba8e9\",\"subtype\":\"Figure\",\"type\":\"Plot\"},\"ticker\":{\"id\":\"f174cef5-1d06-49c7-bfa9-bcb6c508e76f\",\"type\":\"BasicTicker\"}},\"id\":\"bf2e34e8-eb2c-4186-b494-4462a93b1372\",\"type\":\"Grid\"}],\"root_ids\":[\"d8548a88-c44c-4d3b-9909-d20ce0aba8e9\"]},\"title\":\"Bokeh Application\",\"version\":\"0.12.3\"}};\n",
       "            var render_items = [{\"docid\":\"bb74af3d-4606-4863-b994-9060af4b9a33\",\"elementid\":\"a3af648e-418d-44d4-b02d-2a5c4f301137\",\"modelid\":\"d8548a88-c44c-4d3b-9909-d20ce0aba8e9\"}];\n",
       "            \n",
       "            Bokeh.embed.embed_items(docs_json, render_items);\n",
       "        });\n",
       "      },\n",
       "      function(Bokeh) {\n",
       "      }\n",
       "    ];\n",
       "  \n",
       "    function run_inline_js() {\n",
       "      \n",
       "      if ((window.Bokeh !== undefined) || (force === \"1\")) {\n",
       "        for (var i = 0; i < inline_js.length; i++) {\n",
       "          inline_js[i](window.Bokeh);\n",
       "        }if (force === \"1\") {\n",
       "          display_loaded();\n",
       "        }} else if (Date.now() < window._bokeh_timeout) {\n",
       "        setTimeout(run_inline_js, 100);\n",
       "      } else if (!window._bokeh_failed_load) {\n",
       "        console.log(\"Bokeh: BokehJS failed to load within specified timeout.\");\n",
       "        window._bokeh_failed_load = true;\n",
       "      } else if (!force) {\n",
       "        var cell = $(\"#a3af648e-418d-44d4-b02d-2a5c4f301137\").parents('.cell').data().cell;\n",
       "        cell.output_area.append_execute_result(NB_LOAD_WARNING)\n",
       "      }\n",
       "  \n",
       "    }\n",
       "  \n",
       "    if (window._bokeh_is_loading === 0) {\n",
       "      console.log(\"Bokeh: BokehJS loaded, going straight to plotting\");\n",
       "      run_inline_js();\n",
       "    } else {\n",
       "      load_libs(js_urls, function() {\n",
       "        console.log(\"Bokeh: BokehJS plotting callback run at\", now());\n",
       "        run_inline_js();\n",
       "      });\n",
       "    }\n",
       "  }(this));\n",
       "</script>"
      ]
     },
     "metadata": {},
     "output_type": "display_data"
    }
   ],
   "source": [
    "plot3 = generateTimelinesPlot(weaponoutflow, ['Germany (FRG)', 'United States', 'China', 'Myanmar'],'Weapon Outflow')\n",
    "\n",
    "show(plot3)"
   ]
  },
  {
   "cell_type": "markdown",
   "metadata": {},
   "source": [
    "# Weapon Expenditure of countries over time"
   ]
  },
  {
   "cell_type": "code",
   "execution_count": 46,
   "metadata": {
    "collapsed": false
   },
   "outputs": [],
   "source": [
    "militaryexpenditureallcountries = dict()\n",
    "for year in AddedUpDict:\n",
    "    G = createYearGraph(AddedUpDict, year, militaryexpdict)\n",
    "    for country in G.nodes_iter(data=True):\n",
    "        if country[0] in militaryexpdict:\n",
    "            if isinstance(node[1]['military expenditure'],(float,int)) and not math.isnan(node[1]['military expenditure']):\n",
    "                militaryexpenditureallcountries[country[0]][year] = country[1]['military expenditure']\n",
    "        else:\n",
    "            if isinstance(node[1]['military expenditure'],(float,int)) and not math.isnan(node[1]['military expenditure']):\n",
    "                militaryexpenditureallcountries.setdefault(country[0], dict())\n",
    "                militaryexpenditureallcountries[country[0]][year] = country[1]['military expenditure']\n",
    "\n"
   ]
  },
  {
   "cell_type": "code",
   "execution_count": 47,
   "metadata": {
    "collapsed": false
   },
   "outputs": [
    {
     "data": {
      "text/html": [
       "\n",
       "\n",
       "    <div class=\"bk-root\">\n",
       "        <div class=\"plotdiv\" id=\"2f7ae693-bdef-48d5-8c73-6f7296d340ef\"></div>\n",
       "    </div>\n",
       "<script type=\"text/javascript\">\n",
       "  \n",
       "  (function(global) {\n",
       "    function now() {\n",
       "      return new Date();\n",
       "    }\n",
       "  \n",
       "    var force = \"\";\n",
       "  \n",
       "    if (typeof (window._bokeh_onload_callbacks) === \"undefined\" || force !== \"\") {\n",
       "      window._bokeh_onload_callbacks = [];\n",
       "      window._bokeh_is_loading = undefined;\n",
       "    }\n",
       "  \n",
       "  \n",
       "    \n",
       "    if (typeof (window._bokeh_timeout) === \"undefined\" || force !== \"\") {\n",
       "      window._bokeh_timeout = Date.now() + 0;\n",
       "      window._bokeh_failed_load = false;\n",
       "    }\n",
       "  \n",
       "    var NB_LOAD_WARNING = {'data': {'text/html':\n",
       "       \"<div style='background-color: #fdd'>\\n\"+\n",
       "       \"<p>\\n\"+\n",
       "       \"BokehJS does not appear to have successfully loaded. If loading BokehJS from CDN, this \\n\"+\n",
       "       \"may be due to a slow or bad network connection. Possible fixes:\\n\"+\n",
       "       \"</p>\\n\"+\n",
       "       \"<ul>\\n\"+\n",
       "       \"<li>re-rerun `output_notebook()` to attempt to load from CDN again, or</li>\\n\"+\n",
       "       \"<li>use INLINE resources instead, as so:</li>\\n\"+\n",
       "       \"</ul>\\n\"+\n",
       "       \"<code>\\n\"+\n",
       "       \"from bokeh.resources import INLINE\\n\"+\n",
       "       \"output_notebook(resources=INLINE)\\n\"+\n",
       "       \"</code>\\n\"+\n",
       "       \"</div>\"}};\n",
       "  \n",
       "    function display_loaded() {\n",
       "      if (window.Bokeh !== undefined) {\n",
       "        Bokeh.$(\"#2f7ae693-bdef-48d5-8c73-6f7296d340ef\").text(\"BokehJS successfully loaded.\");\n",
       "      } else if (Date.now() < window._bokeh_timeout) {\n",
       "        setTimeout(display_loaded, 100)\n",
       "      }\n",
       "    }\n",
       "  \n",
       "    function run_callbacks() {\n",
       "      window._bokeh_onload_callbacks.forEach(function(callback) { callback() });\n",
       "      delete window._bokeh_onload_callbacks\n",
       "      console.info(\"Bokeh: all callbacks have finished\");\n",
       "    }\n",
       "  \n",
       "    function load_libs(js_urls, callback) {\n",
       "      window._bokeh_onload_callbacks.push(callback);\n",
       "      if (window._bokeh_is_loading > 0) {\n",
       "        console.log(\"Bokeh: BokehJS is being loaded, scheduling callback at\", now());\n",
       "        return null;\n",
       "      }\n",
       "      if (js_urls == null || js_urls.length === 0) {\n",
       "        run_callbacks();\n",
       "        return null;\n",
       "      }\n",
       "      console.log(\"Bokeh: BokehJS not loaded, scheduling load and callback at\", now());\n",
       "      window._bokeh_is_loading = js_urls.length;\n",
       "      for (var i = 0; i < js_urls.length; i++) {\n",
       "        var url = js_urls[i];\n",
       "        var s = document.createElement('script');\n",
       "        s.src = url;\n",
       "        s.async = false;\n",
       "        s.onreadystatechange = s.onload = function() {\n",
       "          window._bokeh_is_loading--;\n",
       "          if (window._bokeh_is_loading === 0) {\n",
       "            console.log(\"Bokeh: all BokehJS libraries loaded\");\n",
       "            run_callbacks()\n",
       "          }\n",
       "        };\n",
       "        s.onerror = function() {\n",
       "          console.warn(\"failed to load library \" + url);\n",
       "        };\n",
       "        console.log(\"Bokeh: injecting script tag for BokehJS library: \", url);\n",
       "        document.getElementsByTagName(\"head\")[0].appendChild(s);\n",
       "      }\n",
       "    };var element = document.getElementById(\"2f7ae693-bdef-48d5-8c73-6f7296d340ef\");\n",
       "    if (element == null) {\n",
       "      console.log(\"Bokeh: ERROR: autoload.js configured with elementid '2f7ae693-bdef-48d5-8c73-6f7296d340ef' but no matching script tag was found. \")\n",
       "      return false;\n",
       "    }\n",
       "  \n",
       "    var js_urls = [];\n",
       "  \n",
       "    var inline_js = [\n",
       "      function(Bokeh) {\n",
       "        Bokeh.$(function() {\n",
       "            var docs_json = {\"2888c1d0-8866-42b7-9acd-49ddcd2c1273\":{\"roots\":{\"references\":[{\"attributes\":{\"items\":[{\"id\":\"d646caa0-79e4-4abd-b2ec-28eb81e168e5\",\"type\":\"LegendItem\"},{\"id\":\"484e6f05-1d32-46f3-94c0-b45873c7dfb7\",\"type\":\"LegendItem\"},{\"id\":\"36c91d7c-de36-4780-96e7-17b017a0c69c\",\"type\":\"LegendItem\"}],\"plot\":{\"id\":\"14469db8-57a0-49e2-bf67-308d27ad5566\",\"subtype\":\"Figure\",\"type\":\"Plot\"}},\"id\":\"3815bd9c-51a6-4588-bef6-c7e7b96f2882\",\"type\":\"Legend\"},{\"attributes\":{\"plot\":{\"id\":\"14469db8-57a0-49e2-bf67-308d27ad5566\",\"subtype\":\"Figure\",\"type\":\"Plot\"}},\"id\":\"7fcbe7be-c867-4ebd-b32a-8447454478e2\",\"type\":\"ResetTool\"},{\"attributes\":{\"formatter\":{\"id\":\"71fc8eec-d529-4d89-bcc2-06e2db4a4fd1\",\"type\":\"BasicTickFormatter\"},\"plot\":{\"id\":\"14469db8-57a0-49e2-bf67-308d27ad5566\",\"subtype\":\"Figure\",\"type\":\"Plot\"},\"ticker\":{\"id\":\"309ea98d-148e-4f9d-a186-9e00613239ac\",\"type\":\"BasicTicker\"}},\"id\":\"a025061e-da5e-4b12-9bb0-d7d46ed24b64\",\"type\":\"LinearAxis\"},{\"attributes\":{},\"id\":\"309ea98d-148e-4f9d-a186-9e00613239ac\",\"type\":\"BasicTicker\"},{\"attributes\":{\"data_source\":{\"id\":\"c5a2b430-f4e7-43a0-a203-38406fcd2ac5\",\"type\":\"ColumnDataSource\"},\"glyph\":{\"id\":\"d0b10c75-3e1f-4337-9d1d-e9831e829107\",\"type\":\"Line\"},\"hover_glyph\":null,\"nonselection_glyph\":{\"id\":\"7d3e5ac5-7aae-4aa4-98f9-7145bb11199b\",\"type\":\"Line\"},\"selection_glyph\":null},\"id\":\"8422d579-dacc-4ef0-a7e5-51848d1bbf21\",\"type\":\"GlyphRenderer\"},{\"attributes\":{\"line_alpha\":{\"value\":0.1},\"line_color\":{\"value\":\"#1f77b4\"},\"x\":{\"field\":\"x\"},\"y\":{\"field\":\"y\"}},\"id\":\"b3a1221d-48e1-4e81-9393-ac294ebff17a\",\"type\":\"Line\"},{\"attributes\":{\"callback\":null,\"column_names\":[\"y\",\"x\"],\"data\":{\"x\":[\"1950\",\"1953\",\"1954\",\"1955\",\"1956\",\"1957\",\"1958\",\"1959\",\"1960\",\"1961\",\"1962\",\"1963\",\"1964\",\"1965\",\"1966\",\"1967\",\"1968\",\"1969\",\"1970\",\"1971\",\"1972\",\"1975\",\"1976\",\"1977\",\"1978\",\"1979\",\"1980\",\"1982\",\"1986\",\"1989\",\"1990\",\"1991\",\"1992\",\"1993\",\"1994\",\"1995\",\"1996\",\"1997\",\"1998\",\"1999\",\"2000\",\"2001\",\"2002\",\"2003\",\"2004\",\"2005\",\"2006\",\"2007\",\"2008\",\"2009\",\"2010\",\"2011\",\"2012\",\"2013\",\"2014\",\"2015\"],\"y\":[\"NaN\",193.0,241.9,212.8,213.2,218.7,240.5,260.6,251.8,241.2,259.7,295.2,289.4,269.4,211.1,202.5,202.8,231.9,259.3,264.4,258.1,173.3,166.2,193.4,214.5,204.6,213.8,230.7,201.2,237.2,282.1,244.8,283.6,326.4,346.9,368.8,393.8,327.5,269.9,267.3,360.5,323.1,235.3,350.1,390.9,395.4,\"NaN\",\"NaN\",\"NaN\",\"NaN\",\"NaN\",\"NaN\",1639.3,1804.6,1808.5,1759.5]}},\"id\":\"ec8c10d5-f8a9-4455-88a9-2cdb3e84c6aa\",\"type\":\"ColumnDataSource\"},{\"attributes\":{\"overlay\":{\"id\":\"df8e86fb-52d1-4bb7-8548-54d9a59b9296\",\"type\":\"BoxAnnotation\"},\"plot\":{\"id\":\"14469db8-57a0-49e2-bf67-308d27ad5566\",\"subtype\":\"Figure\",\"type\":\"Plot\"}},\"id\":\"26f9e33a-0421-43d3-bfac-b24bced114f3\",\"type\":\"BoxZoomTool\"},{\"attributes\":{\"below\":[{\"id\":\"efadfc7d-add6-49d3-9c72-d28337fed4de\",\"type\":\"LinearAxis\"}],\"left\":[{\"id\":\"a025061e-da5e-4b12-9bb0-d7d46ed24b64\",\"type\":\"LinearAxis\"}],\"plot_height\":400,\"renderers\":[{\"id\":\"efadfc7d-add6-49d3-9c72-d28337fed4de\",\"type\":\"LinearAxis\"},{\"id\":\"601d5e88-2ffa-48ee-806a-6157f58fc03b\",\"type\":\"Grid\"},{\"id\":\"a025061e-da5e-4b12-9bb0-d7d46ed24b64\",\"type\":\"LinearAxis\"},{\"id\":\"1b394073-15f9-4693-a5cf-67678eadaa28\",\"type\":\"Grid\"},{\"id\":\"df8e86fb-52d1-4bb7-8548-54d9a59b9296\",\"type\":\"BoxAnnotation\"},{\"id\":\"3815bd9c-51a6-4588-bef6-c7e7b96f2882\",\"type\":\"Legend\"},{\"id\":\"f20423ad-a932-4890-8e47-ca823a8f7e3e\",\"type\":\"GlyphRenderer\"},{\"id\":\"8422d579-dacc-4ef0-a7e5-51848d1bbf21\",\"type\":\"GlyphRenderer\"},{\"id\":\"cd6604f5-7283-45fd-9a33-5bb68932675b\",\"type\":\"GlyphRenderer\"},{\"id\":\"5ae8d0b2-1f6c-4cd8-a4e7-7f3ce4f13a60\",\"type\":\"GlyphRenderer\"}],\"title\":{\"id\":\"fa07a431-4106-4d39-89e2-782a441ead03\",\"type\":\"Title\"},\"tool_events\":{\"id\":\"2f7a0522-a7d0-4043-95da-beee6a9d705b\",\"type\":\"ToolEvents\"},\"toolbar\":{\"id\":\"555e03fa-0755-4427-a1b8-7db746be029d\",\"type\":\"Toolbar\"},\"x_range\":{\"id\":\"6ca6844c-0e5b-4b7d-bcfa-66bbcab5ae2f\",\"type\":\"DataRange1d\"},\"y_range\":{\"id\":\"c956cd87-2b1e-4662-9622-88fdde650221\",\"type\":\"DataRange1d\"}},\"id\":\"14469db8-57a0-49e2-bf67-308d27ad5566\",\"subtype\":\"Figure\",\"type\":\"Plot\"},{\"attributes\":{},\"id\":\"ead4abba-e6e6-4e06-99ad-8122a03091f6\",\"type\":\"BasicTickFormatter\"},{\"attributes\":{\"formatter\":{\"id\":\"ead4abba-e6e6-4e06-99ad-8122a03091f6\",\"type\":\"BasicTickFormatter\"},\"plot\":{\"id\":\"14469db8-57a0-49e2-bf67-308d27ad5566\",\"subtype\":\"Figure\",\"type\":\"Plot\"},\"ticker\":{\"id\":\"3802643d-8bfd-439d-835f-27d9ad8c41f9\",\"type\":\"BasicTicker\"}},\"id\":\"efadfc7d-add6-49d3-9c72-d28337fed4de\",\"type\":\"LinearAxis\"},{\"attributes\":{},\"id\":\"2f7a0522-a7d0-4043-95da-beee6a9d705b\",\"type\":\"ToolEvents\"},{\"attributes\":{\"callback\":null,\"column_names\":[\"y\",\"x\"],\"data\":{\"x\":[\"1993\",\"1994\",\"1995\",\"1996\",\"1997\",\"1998\",\"1999\",\"2000\",\"2001\",\"2002\",\"2003\",\"2004\",\"2005\",\"2007\"],\"y\":[335.0,240.9,377.9,430.5,271.8,758.1,803.6,668.6,494.9,473.1,461.8,\"NaN\",\"NaN\",\"NaN\"]}},\"id\":\"c5a2b430-f4e7-43a0-a203-38406fcd2ac5\",\"type\":\"ColumnDataSource\"},{\"attributes\":{\"active_drag\":\"auto\",\"active_scroll\":\"auto\",\"active_tap\":\"auto\",\"tools\":[{\"id\":\"1a229aa1-ebb6-4dd7-92f9-549af9f445ad\",\"type\":\"PanTool\"},{\"id\":\"7d0ee969-9d00-45ea-85bb-83d46009f600\",\"type\":\"TapTool\"},{\"id\":\"26f9e33a-0421-43d3-bfac-b24bced114f3\",\"type\":\"BoxZoomTool\"},{\"id\":\"7fcbe7be-c867-4ebd-b32a-8447454478e2\",\"type\":\"ResetTool\"},{\"id\":\"8db54fd7-da45-4b66-9d44-69a37351122b\",\"type\":\"WheelZoomTool\"},{\"id\":\"6137d97d-951b-493e-9924-41f237b6f1c2\",\"type\":\"SaveTool\"},{\"id\":\"34d6de34-2dce-4596-b1cd-023d4bb53c2f\",\"type\":\"HoverTool\"}]},\"id\":\"555e03fa-0755-4427-a1b8-7db746be029d\",\"type\":\"Toolbar\"},{\"attributes\":{\"dimension\":1,\"plot\":{\"id\":\"14469db8-57a0-49e2-bf67-308d27ad5566\",\"subtype\":\"Figure\",\"type\":\"Plot\"},\"ticker\":{\"id\":\"309ea98d-148e-4f9d-a186-9e00613239ac\",\"type\":\"BasicTicker\"}},\"id\":\"1b394073-15f9-4693-a5cf-67678eadaa28\",\"type\":\"Grid\"},{\"attributes\":{\"bottom_units\":\"screen\",\"fill_alpha\":{\"value\":0.5},\"fill_color\":{\"value\":\"lightgrey\"},\"left_units\":\"screen\",\"level\":\"overlay\",\"line_alpha\":{\"value\":1.0},\"line_color\":{\"value\":\"black\"},\"line_dash\":[4,4],\"line_width\":{\"value\":2},\"plot\":null,\"render_mode\":\"css\",\"right_units\":\"screen\",\"top_units\":\"screen\"},\"id\":\"df8e86fb-52d1-4bb7-8548-54d9a59b9296\",\"type\":\"BoxAnnotation\"},{\"attributes\":{\"line_color\":{\"value\":\"#4daf4a\"},\"x\":{\"field\":\"x\"},\"y\":{\"field\":\"y\"}},\"id\":\"50a29a3c-8eaa-4899-b66b-77c1b42977fd\",\"type\":\"Line\"},{\"attributes\":{\"callback\":null},\"id\":\"6ca6844c-0e5b-4b7d-bcfa-66bbcab5ae2f\",\"type\":\"DataRange1d\"},{\"attributes\":{\"callback\":null,\"plot\":{\"id\":\"14469db8-57a0-49e2-bf67-308d27ad5566\",\"subtype\":\"Figure\",\"type\":\"Plot\"},\"renderers\":[{\"id\":\"5ae8d0b2-1f6c-4cd8-a4e7-7f3ce4f13a60\",\"type\":\"GlyphRenderer\"}],\"tooltips\":[[\"year\",\"@x\"],[\"country\",\"@country\"],[\"Weapon Expenditure\",\"@y\"]]},\"id\":\"34d6de34-2dce-4596-b1cd-023d4bb53c2f\",\"type\":\"HoverTool\"},{\"attributes\":{\"callback\":null,\"column_names\":[\"color\",\"country\",\"y\",\"x\"],\"data\":{\"color\":[\"#e41a1c\",\"#e41a1c\",\"#e41a1c\",\"#e41a1c\",\"#e41a1c\",\"#e41a1c\",\"#e41a1c\",\"#e41a1c\",\"#e41a1c\",\"#e41a1c\",\"#e41a1c\",\"#e41a1c\",\"#e41a1c\",\"#e41a1c\",\"#e41a1c\",\"#e41a1c\",\"#e41a1c\",\"#e41a1c\",\"#e41a1c\",\"#e41a1c\",\"#e41a1c\",\"#e41a1c\",\"#e41a1c\",\"#e41a1c\",\"#e41a1c\",\"#e41a1c\",\"#e41a1c\",\"#e41a1c\",\"#e41a1c\",\"#e41a1c\",\"#e41a1c\",\"#e41a1c\",\"#e41a1c\",\"#e41a1c\",\"#e41a1c\",\"#e41a1c\",\"#e41a1c\",\"#e41a1c\",\"#e41a1c\",\"#e41a1c\",\"#e41a1c\",\"#e41a1c\",\"#e41a1c\",\"#e41a1c\",\"#e41a1c\",\"#e41a1c\",\"#e41a1c\",\"#e41a1c\",\"#e41a1c\",\"#e41a1c\",\"#e41a1c\",\"#e41a1c\",\"#e41a1c\",\"#e41a1c\",\"#e41a1c\",\"#e41a1c\",\"#377eb8\",\"#377eb8\",\"#377eb8\",\"#377eb8\",\"#377eb8\",\"#377eb8\",\"#377eb8\",\"#377eb8\",\"#377eb8\",\"#377eb8\",\"#377eb8\",\"#377eb8\",\"#377eb8\",\"#377eb8\",\"#4daf4a\",\"#4daf4a\",\"#4daf4a\",\"#4daf4a\",\"#4daf4a\",\"#4daf4a\",\"#4daf4a\",\"#4daf4a\",\"#4daf4a\",\"#4daf4a\",\"#4daf4a\",\"#4daf4a\",\"#4daf4a\",\"#4daf4a\",\"#4daf4a\",\"#4daf4a\",\"#4daf4a\",\"#4daf4a\",\"#4daf4a\",\"#4daf4a\",\"#4daf4a\",\"#4daf4a\",\"#4daf4a\",\"#4daf4a\",\"#4daf4a\",\"#4daf4a\",\"#4daf4a\",\"#4daf4a\",\"#4daf4a\",\"#4daf4a\",\"#4daf4a\",\"#4daf4a\",\"#4daf4a\",\"#4daf4a\",\"#4daf4a\",\"#4daf4a\",\"#4daf4a\",\"#4daf4a\",\"#4daf4a\",\"#4daf4a\",\"#4daf4a\",\"#4daf4a\"],\"country\":[\"Myanmar\",\"Myanmar\",\"Myanmar\",\"Myanmar\",\"Myanmar\",\"Myanmar\",\"Myanmar\",\"Myanmar\",\"Myanmar\",\"Myanmar\",\"Myanmar\",\"Myanmar\",\"Myanmar\",\"Myanmar\",\"Myanmar\",\"Myanmar\",\"Myanmar\",\"Myanmar\",\"Myanmar\",\"Myanmar\",\"Myanmar\",\"Myanmar\",\"Myanmar\",\"Myanmar\",\"Myanmar\",\"Myanmar\",\"Myanmar\",\"Myanmar\",\"Myanmar\",\"Myanmar\",\"Myanmar\",\"Myanmar\",\"Myanmar\",\"Myanmar\",\"Myanmar\",\"Myanmar\",\"Myanmar\",\"Myanmar\",\"Myanmar\",\"Myanmar\",\"Myanmar\",\"Myanmar\",\"Myanmar\",\"Myanmar\",\"Myanmar\",\"Myanmar\",\"Myanmar\",\"Myanmar\",\"Myanmar\",\"Myanmar\",\"Myanmar\",\"Myanmar\",\"Myanmar\",\"Myanmar\",\"Myanmar\",\"Myanmar\",\"Eritrea\",\"Eritrea\",\"Eritrea\",\"Eritrea\",\"Eritrea\",\"Eritrea\",\"Eritrea\",\"Eritrea\",\"Eritrea\",\"Eritrea\",\"Eritrea\",\"Eritrea\",\"Eritrea\",\"Eritrea\",\"Soviet Union\",\"Soviet Union\",\"Soviet Union\",\"Soviet Union\",\"Soviet Union\",\"Soviet Union\",\"Soviet Union\",\"Soviet Union\",\"Soviet Union\",\"Soviet Union\",\"Soviet Union\",\"Soviet Union\",\"Soviet Union\",\"Soviet Union\",\"Soviet Union\",\"Soviet Union\",\"Soviet Union\",\"Soviet Union\",\"Soviet Union\",\"Soviet Union\",\"Soviet Union\",\"Soviet Union\",\"Soviet Union\",\"Soviet Union\",\"Soviet Union\",\"Soviet Union\",\"Soviet Union\",\"Soviet Union\",\"Soviet Union\",\"Soviet Union\",\"Soviet Union\",\"Soviet Union\",\"Soviet Union\",\"Soviet Union\",\"Soviet Union\",\"Soviet Union\",\"Soviet Union\",\"Soviet Union\",\"Soviet Union\",\"Soviet Union\",\"Soviet Union\",\"Soviet Union\"],\"x\":[\"1950\",\"1953\",\"1954\",\"1955\",\"1956\",\"1957\",\"1958\",\"1959\",\"1960\",\"1961\",\"1962\",\"1963\",\"1964\",\"1965\",\"1966\",\"1967\",\"1968\",\"1969\",\"1970\",\"1971\",\"1972\",\"1975\",\"1976\",\"1977\",\"1978\",\"1979\",\"1980\",\"1982\",\"1986\",\"1989\",\"1990\",\"1991\",\"1992\",\"1993\",\"1994\",\"1995\",\"1996\",\"1997\",\"1998\",\"1999\",\"2000\",\"2001\",\"2002\",\"2003\",\"2004\",\"2005\",\"2006\",\"2007\",\"2008\",\"2009\",\"2010\",\"2011\",\"2012\",\"2013\",\"2014\",\"2015\",\"1993\",\"1994\",\"1995\",\"1996\",\"1997\",\"1998\",\"1999\",\"2000\",\"2001\",\"2002\",\"2003\",\"2004\",\"2005\",\"2007\",\"1950\",\"1951\",\"1952\",\"1953\",\"1954\",\"1955\",\"1956\",\"1957\",\"1958\",\"1959\",\"1960\",\"1961\",\"1962\",\"1963\",\"1964\",\"1965\",\"1966\",\"1967\",\"1968\",\"1969\",\"1970\",\"1971\",\"1972\",\"1973\",\"1974\",\"1975\",\"1976\",\"1977\",\"1978\",\"1979\",\"1980\",\"1981\",\"1982\",\"1983\",\"1984\",\"1985\",\"1986\",\"1987\",\"1988\",\"1989\",\"1990\",\"1991\"],\"y\":[\"NaN\",193.0,241.9,212.8,213.2,218.7,240.5,260.6,251.8,241.2,259.7,295.2,289.4,269.4,211.1,202.5,202.8,231.9,259.3,264.4,258.1,173.3,166.2,193.4,214.5,204.6,213.8,230.7,201.2,237.2,282.1,244.8,283.6,326.4,346.9,368.8,393.8,327.5,269.9,267.3,360.5,323.1,235.3,350.1,390.9,395.4,\"NaN\",\"NaN\",\"NaN\",\"NaN\",\"NaN\",\"NaN\",1639.3,1804.6,1808.5,1759.5,335.0,240.9,377.9,430.5,271.8,758.1,803.6,668.6,494.9,473.1,461.8,\"NaN\",\"NaN\",\"NaN\",\"NaN\",\"NaN\",\"NaN\",\"NaN\",\"NaN\",\"NaN\",\"NaN\",\"NaN\",\"NaN\",\"NaN\",\"NaN\",\"NaN\",\"NaN\",\"NaN\",\"NaN\",\"NaN\",\"NaN\",\"NaN\",\"NaN\",\"NaN\",\"NaN\",\"NaN\",\"NaN\",\"NaN\",\"NaN\",\"NaN\",\"NaN\",\"NaN\",\"NaN\",\"NaN\",\"NaN\",\"NaN\",\"NaN\",\"NaN\",\"NaN\",\"NaN\",\"NaN\",\"NaN\",189708.3,175905.3,148813.5,\"NaN\"]}},\"id\":\"6c9aaf2e-a8d3-4fcb-b031-e2cb2b37d9b0\",\"type\":\"ColumnDataSource\"},{\"attributes\":{\"label\":{\"value\":\"Soviet Union\"},\"renderers\":[{\"id\":\"cd6604f5-7283-45fd-9a33-5bb68932675b\",\"type\":\"GlyphRenderer\"}]},\"id\":\"36c91d7c-de36-4780-96e7-17b017a0c69c\",\"type\":\"LegendItem\"},{\"attributes\":{\"fill_alpha\":{\"value\":0.1},\"fill_color\":{\"value\":\"#1f77b4\"},\"line_alpha\":{\"value\":0.1},\"line_color\":{\"value\":\"#1f77b4\"},\"x\":{\"field\":\"x\"},\"y\":{\"field\":\"y\"}},\"id\":\"481e7fc8-8929-42bf-90b2-c253dee366a5\",\"type\":\"Circle\"},{\"attributes\":{\"line_alpha\":{\"value\":0.1},\"line_color\":{\"value\":\"#1f77b4\"},\"x\":{\"field\":\"x\"},\"y\":{\"field\":\"y\"}},\"id\":\"7d3e5ac5-7aae-4aa4-98f9-7145bb11199b\",\"type\":\"Line\"},{\"attributes\":{\"data_source\":{\"id\":\"3d68374c-9a3a-4afe-861f-fbc1ec1a4f38\",\"type\":\"ColumnDataSource\"},\"glyph\":{\"id\":\"50a29a3c-8eaa-4899-b66b-77c1b42977fd\",\"type\":\"Line\"},\"hover_glyph\":null,\"nonselection_glyph\":{\"id\":\"b3a1221d-48e1-4e81-9393-ac294ebff17a\",\"type\":\"Line\"},\"selection_glyph\":null},\"id\":\"cd6604f5-7283-45fd-9a33-5bb68932675b\",\"type\":\"GlyphRenderer\"},{\"attributes\":{\"data_source\":{\"id\":\"ec8c10d5-f8a9-4455-88a9-2cdb3e84c6aa\",\"type\":\"ColumnDataSource\"},\"glyph\":{\"id\":\"21b0117e-df31-444d-a5c4-6fdb15936f90\",\"type\":\"Line\"},\"hover_glyph\":null,\"nonselection_glyph\":{\"id\":\"61426ef8-7706-4dcd-af11-bda37c6d4c99\",\"type\":\"Line\"},\"selection_glyph\":null},\"id\":\"f20423ad-a932-4890-8e47-ca823a8f7e3e\",\"type\":\"GlyphRenderer\"},{\"attributes\":{},\"id\":\"71fc8eec-d529-4d89-bcc2-06e2db4a4fd1\",\"type\":\"BasicTickFormatter\"},{\"attributes\":{\"plot\":{\"id\":\"14469db8-57a0-49e2-bf67-308d27ad5566\",\"subtype\":\"Figure\",\"type\":\"Plot\"}},\"id\":\"8db54fd7-da45-4b66-9d44-69a37351122b\",\"type\":\"WheelZoomTool\"},{\"attributes\":{\"label\":{\"value\":\"Eritrea\"},\"renderers\":[{\"id\":\"8422d579-dacc-4ef0-a7e5-51848d1bbf21\",\"type\":\"GlyphRenderer\"}]},\"id\":\"484e6f05-1d32-46f3-94c0-b45873c7dfb7\",\"type\":\"LegendItem\"},{\"attributes\":{\"callback\":null},\"id\":\"c956cd87-2b1e-4662-9622-88fdde650221\",\"type\":\"DataRange1d\"},{\"attributes\":{\"line_alpha\":{\"value\":0.1},\"line_color\":{\"value\":\"#1f77b4\"},\"x\":{\"field\":\"x\"},\"y\":{\"field\":\"y\"}},\"id\":\"61426ef8-7706-4dcd-af11-bda37c6d4c99\",\"type\":\"Line\"},{\"attributes\":{\"fill_color\":{\"field\":\"color\"},\"line_color\":{\"field\":\"color\"},\"x\":{\"field\":\"x\"},\"y\":{\"field\":\"y\"}},\"id\":\"e1c485ba-ae67-4cd0-b15d-a0b2d4d3fc04\",\"type\":\"Circle\"},{\"attributes\":{\"line_color\":{\"value\":\"#e41a1c\"},\"x\":{\"field\":\"x\"},\"y\":{\"field\":\"y\"}},\"id\":\"21b0117e-df31-444d-a5c4-6fdb15936f90\",\"type\":\"Line\"},{\"attributes\":{\"data_source\":{\"id\":\"6c9aaf2e-a8d3-4fcb-b031-e2cb2b37d9b0\",\"type\":\"ColumnDataSource\"},\"glyph\":{\"id\":\"e1c485ba-ae67-4cd0-b15d-a0b2d4d3fc04\",\"type\":\"Circle\"},\"hover_glyph\":null,\"nonselection_glyph\":{\"id\":\"481e7fc8-8929-42bf-90b2-c253dee366a5\",\"type\":\"Circle\"},\"selection_glyph\":null},\"id\":\"5ae8d0b2-1f6c-4cd8-a4e7-7f3ce4f13a60\",\"type\":\"GlyphRenderer\"},{\"attributes\":{\"label\":{\"value\":\"Myanmar\"},\"renderers\":[{\"id\":\"f20423ad-a932-4890-8e47-ca823a8f7e3e\",\"type\":\"GlyphRenderer\"}]},\"id\":\"d646caa0-79e4-4abd-b2ec-28eb81e168e5\",\"type\":\"LegendItem\"},{\"attributes\":{},\"id\":\"3802643d-8bfd-439d-835f-27d9ad8c41f9\",\"type\":\"BasicTicker\"},{\"attributes\":{\"plot\":{\"id\":\"14469db8-57a0-49e2-bf67-308d27ad5566\",\"subtype\":\"Figure\",\"type\":\"Plot\"}},\"id\":\"6137d97d-951b-493e-9924-41f237b6f1c2\",\"type\":\"SaveTool\"},{\"attributes\":{\"plot\":null,\"text\":null},\"id\":\"fa07a431-4106-4d39-89e2-782a441ead03\",\"type\":\"Title\"},{\"attributes\":{\"line_color\":{\"value\":\"#377eb8\"},\"x\":{\"field\":\"x\"},\"y\":{\"field\":\"y\"}},\"id\":\"d0b10c75-3e1f-4337-9d1d-e9831e829107\",\"type\":\"Line\"},{\"attributes\":{\"plot\":{\"id\":\"14469db8-57a0-49e2-bf67-308d27ad5566\",\"subtype\":\"Figure\",\"type\":\"Plot\"}},\"id\":\"1a229aa1-ebb6-4dd7-92f9-549af9f445ad\",\"type\":\"PanTool\"},{\"attributes\":{\"callback\":null,\"plot\":{\"id\":\"14469db8-57a0-49e2-bf67-308d27ad5566\",\"subtype\":\"Figure\",\"type\":\"Plot\"}},\"id\":\"7d0ee969-9d00-45ea-85bb-83d46009f600\",\"type\":\"TapTool\"},{\"attributes\":{\"plot\":{\"id\":\"14469db8-57a0-49e2-bf67-308d27ad5566\",\"subtype\":\"Figure\",\"type\":\"Plot\"},\"ticker\":{\"id\":\"3802643d-8bfd-439d-835f-27d9ad8c41f9\",\"type\":\"BasicTicker\"}},\"id\":\"601d5e88-2ffa-48ee-806a-6157f58fc03b\",\"type\":\"Grid\"},{\"attributes\":{\"callback\":null,\"column_names\":[\"y\",\"x\"],\"data\":{\"x\":[\"1950\",\"1951\",\"1952\",\"1953\",\"1954\",\"1955\",\"1956\",\"1957\",\"1958\",\"1959\",\"1960\",\"1961\",\"1962\",\"1963\",\"1964\",\"1965\",\"1966\",\"1967\",\"1968\",\"1969\",\"1970\",\"1971\",\"1972\",\"1973\",\"1974\",\"1975\",\"1976\",\"1977\",\"1978\",\"1979\",\"1980\",\"1981\",\"1982\",\"1983\",\"1984\",\"1985\",\"1986\",\"1987\",\"1988\",\"1989\",\"1990\",\"1991\"],\"y\":[\"NaN\",\"NaN\",\"NaN\",\"NaN\",\"NaN\",\"NaN\",\"NaN\",\"NaN\",\"NaN\",\"NaN\",\"NaN\",\"NaN\",\"NaN\",\"NaN\",\"NaN\",\"NaN\",\"NaN\",\"NaN\",\"NaN\",\"NaN\",\"NaN\",\"NaN\",\"NaN\",\"NaN\",\"NaN\",\"NaN\",\"NaN\",\"NaN\",\"NaN\",\"NaN\",\"NaN\",\"NaN\",\"NaN\",\"NaN\",\"NaN\",\"NaN\",\"NaN\",\"NaN\",189708.3,175905.3,148813.5,\"NaN\"]}},\"id\":\"3d68374c-9a3a-4afe-861f-fbc1ec1a4f38\",\"type\":\"ColumnDataSource\"}],\"root_ids\":[\"14469db8-57a0-49e2-bf67-308d27ad5566\"]},\"title\":\"Bokeh Application\",\"version\":\"0.12.3\"}};\n",
       "            var render_items = [{\"docid\":\"2888c1d0-8866-42b7-9acd-49ddcd2c1273\",\"elementid\":\"2f7ae693-bdef-48d5-8c73-6f7296d340ef\",\"modelid\":\"14469db8-57a0-49e2-bf67-308d27ad5566\"}];\n",
       "            \n",
       "            Bokeh.embed.embed_items(docs_json, render_items);\n",
       "        });\n",
       "      },\n",
       "      function(Bokeh) {\n",
       "      }\n",
       "    ];\n",
       "  \n",
       "    function run_inline_js() {\n",
       "      \n",
       "      if ((window.Bokeh !== undefined) || (force === \"1\")) {\n",
       "        for (var i = 0; i < inline_js.length; i++) {\n",
       "          inline_js[i](window.Bokeh);\n",
       "        }if (force === \"1\") {\n",
       "          display_loaded();\n",
       "        }} else if (Date.now() < window._bokeh_timeout) {\n",
       "        setTimeout(run_inline_js, 100);\n",
       "      } else if (!window._bokeh_failed_load) {\n",
       "        console.log(\"Bokeh: BokehJS failed to load within specified timeout.\");\n",
       "        window._bokeh_failed_load = true;\n",
       "      } else if (!force) {\n",
       "        var cell = $(\"#2f7ae693-bdef-48d5-8c73-6f7296d340ef\").parents('.cell').data().cell;\n",
       "        cell.output_area.append_execute_result(NB_LOAD_WARNING)\n",
       "      }\n",
       "  \n",
       "    }\n",
       "  \n",
       "    if (window._bokeh_is_loading === 0) {\n",
       "      console.log(\"Bokeh: BokehJS loaded, going straight to plotting\");\n",
       "      run_inline_js();\n",
       "    } else {\n",
       "      load_libs(js_urls, function() {\n",
       "        console.log(\"Bokeh: BokehJS plotting callback run at\", now());\n",
       "        run_inline_js();\n",
       "      });\n",
       "    }\n",
       "  }(this));\n",
       "</script>"
      ]
     },
     "metadata": {},
     "output_type": "display_data"
    }
   ],
   "source": [
    "plot = generateTimelinesPlot(militaryexpenditureallcountries, ['Myanmar','Eritrea', 'Soviet Union'],'Weapon Expenditure')\n",
    "\n",
    "show(plot)"
   ]
  },
  {
   "cell_type": "markdown",
   "metadata": {},
   "source": [
    "# Trade between two countries"
   ]
  },
  {
   "cell_type": "code",
   "execution_count": 48,
   "metadata": {
    "collapsed": false
   },
   "outputs": [],
   "source": [
    "def weaponflowbetweentwocountries(country1,country2,MultiDiDict):\n",
    "    country1tocountry2 = dict()\n",
    "    country2tocountry1 = dict()\n",
    "    #totalbetweencountries = dict()\n",
    "    for year in MultiDiDict:\n",
    "        G = createYearMultiDiGraph(MultiDiDict, year,militaryexpdict)\n",
    "        country1tocountry2int = 0\n",
    "        country2tocountry1int = 0\n",
    "        #totalbetweencountriesint = 0\n",
    "        for edge in G.edges_iter(nbunch=(country1,country2), data=True):\n",
    "            if (edge[0] == country1) and (edge[1] == country2):\n",
    "                country1tocountry2int = country1tocountry2int + edge[2]['weight']\n",
    "                #totalbetweencountriesint = totalbetweencountriesint + edge[2]['weight']\n",
    "            elif (edge[0] == country2) and (edge[1] == country1):                      \n",
    "                country2tocountry1int = country2tocountry1int + edge[2]['weight']\n",
    "                #totalbetweencountriesint = totalbetweencountriesint + edge[2]['weight']\n",
    "        country1tocountry2[year] = country1tocountry2int\n",
    "        country2tocountry1[year] = country2tocountry1int\n",
    "        #totalbetweencountries[year] = totalbetweencountriesint\n",
    "        #dicts = [country1tocountry2,country2tocountry1,totalbetweencountries]\n",
    "        dicts = [country1tocountry2,country2tocountry1]\n",
    "\n",
    "        \n",
    "    plot = figure(plot_width=600, plot_height=400, tools=['pan','tap','box_zoom','reset','wheel_zoom','save'])\n",
    "\n",
    "    from bokeh.palettes import Spectral10\n",
    "    d = dict(x=[], y=[], country=[], color=[])\n",
    "    color = copy.copy(Spectral10)\n",
    "    for graph in dicts:\n",
    "        countrycolor = color[0]\n",
    "        color.remove(countrycolor)\n",
    "        line = dict(xe=[], ye=[])\n",
    "        for entry in sorted(graph.items(), key=operator.itemgetter(0)):\n",
    "            d['x'].append(entry[0])\n",
    "            d['y'].append(entry[1])\n",
    "            if graph == country1tocountry2:\n",
    "                d['country'].append(country1+' to '+country2)\n",
    "            elif graph == country2tocountry1:\n",
    "                d['country'].append(country2+' to '+country1)\n",
    "            #else:\n",
    "            #    d['country'].append('totaltrade')\n",
    "            d['color'].append(countrycolor)\n",
    "            line['xe'].append(entry[0])\n",
    "            line['ye'].append(entry[1])\n",
    "        plot.line(line['xe'], line['ye'],legend='test', color=countrycolor)\n",
    "    \n",
    "    s1 = plot.scatter('x', 'y', line_width=1, color = 'color', source=ColumnDataSource(d))\n",
    "    plot.add_tools(HoverTool(renderers=[s1], tooltips=[('year','@x'),('desc','@country'),('amount','@y')]))\n",
    "        \n",
    "    return plot\n"
   ]
  },
  {
   "cell_type": "code",
   "execution_count": 49,
   "metadata": {
    "collapsed": false
   },
   "outputs": [],
   "source": [
    "plot = weaponflowbetweentwocountries('Saudi Arabia','Germany (FRG)',MultiDiDict)"
   ]
  },
  {
   "cell_type": "code",
   "execution_count": 50,
   "metadata": {
    "collapsed": false
   },
   "outputs": [
    {
     "data": {
      "text/html": [
       "\n",
       "\n",
       "    <div class=\"bk-root\">\n",
       "        <div class=\"plotdiv\" id=\"50af8b8b-e20a-4a75-bcfe-dcd9394bb33f\"></div>\n",
       "    </div>\n",
       "<script type=\"text/javascript\">\n",
       "  \n",
       "  (function(global) {\n",
       "    function now() {\n",
       "      return new Date();\n",
       "    }\n",
       "  \n",
       "    var force = \"\";\n",
       "  \n",
       "    if (typeof (window._bokeh_onload_callbacks) === \"undefined\" || force !== \"\") {\n",
       "      window._bokeh_onload_callbacks = [];\n",
       "      window._bokeh_is_loading = undefined;\n",
       "    }\n",
       "  \n",
       "  \n",
       "    \n",
       "    if (typeof (window._bokeh_timeout) === \"undefined\" || force !== \"\") {\n",
       "      window._bokeh_timeout = Date.now() + 0;\n",
       "      window._bokeh_failed_load = false;\n",
       "    }\n",
       "  \n",
       "    var NB_LOAD_WARNING = {'data': {'text/html':\n",
       "       \"<div style='background-color: #fdd'>\\n\"+\n",
       "       \"<p>\\n\"+\n",
       "       \"BokehJS does not appear to have successfully loaded. If loading BokehJS from CDN, this \\n\"+\n",
       "       \"may be due to a slow or bad network connection. Possible fixes:\\n\"+\n",
       "       \"</p>\\n\"+\n",
       "       \"<ul>\\n\"+\n",
       "       \"<li>re-rerun `output_notebook()` to attempt to load from CDN again, or</li>\\n\"+\n",
       "       \"<li>use INLINE resources instead, as so:</li>\\n\"+\n",
       "       \"</ul>\\n\"+\n",
       "       \"<code>\\n\"+\n",
       "       \"from bokeh.resources import INLINE\\n\"+\n",
       "       \"output_notebook(resources=INLINE)\\n\"+\n",
       "       \"</code>\\n\"+\n",
       "       \"</div>\"}};\n",
       "  \n",
       "    function display_loaded() {\n",
       "      if (window.Bokeh !== undefined) {\n",
       "        Bokeh.$(\"#50af8b8b-e20a-4a75-bcfe-dcd9394bb33f\").text(\"BokehJS successfully loaded.\");\n",
       "      } else if (Date.now() < window._bokeh_timeout) {\n",
       "        setTimeout(display_loaded, 100)\n",
       "      }\n",
       "    }\n",
       "  \n",
       "    function run_callbacks() {\n",
       "      window._bokeh_onload_callbacks.forEach(function(callback) { callback() });\n",
       "      delete window._bokeh_onload_callbacks\n",
       "      console.info(\"Bokeh: all callbacks have finished\");\n",
       "    }\n",
       "  \n",
       "    function load_libs(js_urls, callback) {\n",
       "      window._bokeh_onload_callbacks.push(callback);\n",
       "      if (window._bokeh_is_loading > 0) {\n",
       "        console.log(\"Bokeh: BokehJS is being loaded, scheduling callback at\", now());\n",
       "        return null;\n",
       "      }\n",
       "      if (js_urls == null || js_urls.length === 0) {\n",
       "        run_callbacks();\n",
       "        return null;\n",
       "      }\n",
       "      console.log(\"Bokeh: BokehJS not loaded, scheduling load and callback at\", now());\n",
       "      window._bokeh_is_loading = js_urls.length;\n",
       "      for (var i = 0; i < js_urls.length; i++) {\n",
       "        var url = js_urls[i];\n",
       "        var s = document.createElement('script');\n",
       "        s.src = url;\n",
       "        s.async = false;\n",
       "        s.onreadystatechange = s.onload = function() {\n",
       "          window._bokeh_is_loading--;\n",
       "          if (window._bokeh_is_loading === 0) {\n",
       "            console.log(\"Bokeh: all BokehJS libraries loaded\");\n",
       "            run_callbacks()\n",
       "          }\n",
       "        };\n",
       "        s.onerror = function() {\n",
       "          console.warn(\"failed to load library \" + url);\n",
       "        };\n",
       "        console.log(\"Bokeh: injecting script tag for BokehJS library: \", url);\n",
       "        document.getElementsByTagName(\"head\")[0].appendChild(s);\n",
       "      }\n",
       "    };var element = document.getElementById(\"50af8b8b-e20a-4a75-bcfe-dcd9394bb33f\");\n",
       "    if (element == null) {\n",
       "      console.log(\"Bokeh: ERROR: autoload.js configured with elementid '50af8b8b-e20a-4a75-bcfe-dcd9394bb33f' but no matching script tag was found. \")\n",
       "      return false;\n",
       "    }\n",
       "  \n",
       "    var js_urls = [];\n",
       "  \n",
       "    var inline_js = [\n",
       "      function(Bokeh) {\n",
       "        Bokeh.$(function() {\n",
       "            var docs_json = {\"41015588-8c78-4fa6-8171-39c526f13e13\":{\"roots\":{\"references\":[{\"attributes\":{\"items\":[{\"id\":\"e137a33c-b383-4892-adc9-6e908e1a0636\",\"type\":\"LegendItem\"}],\"plot\":{\"id\":\"b22ffcf6-7343-4c69-8fb6-102dfb5b2bc4\",\"subtype\":\"Figure\",\"type\":\"Plot\"}},\"id\":\"ae14dbef-9699-486e-8f12-8d70e8ec9ab3\",\"type\":\"Legend\"},{\"attributes\":{\"overlay\":{\"id\":\"9b5be244-28b3-43c9-8121-6b222447a956\",\"type\":\"BoxAnnotation\"},\"plot\":{\"id\":\"b22ffcf6-7343-4c69-8fb6-102dfb5b2bc4\",\"subtype\":\"Figure\",\"type\":\"Plot\"}},\"id\":\"8528776d-0ad1-4a48-86a8-2cd022e372fd\",\"type\":\"BoxZoomTool\"},{\"attributes\":{\"plot\":{\"id\":\"b22ffcf6-7343-4c69-8fb6-102dfb5b2bc4\",\"subtype\":\"Figure\",\"type\":\"Plot\"}},\"id\":\"2eca04db-4ded-4274-84e6-9ea6a0ffda25\",\"type\":\"PanTool\"},{\"attributes\":{},\"id\":\"ed6f2f77-4349-47c9-8348-02abbbdf48d7\",\"type\":\"BasicTickFormatter\"},{\"attributes\":{\"plot\":null,\"text\":null},\"id\":\"11b1e102-68a9-4b94-a22f-d365a8b271ff\",\"type\":\"Title\"},{\"attributes\":{\"line_color\":{\"value\":\"#5e4fa2\"},\"x\":{\"field\":\"x\"},\"y\":{\"field\":\"y\"}},\"id\":\"c35d60a1-d5f7-43af-a301-57ff432e0fb6\",\"type\":\"Line\"},{\"attributes\":{\"callback\":null,\"plot\":{\"id\":\"b22ffcf6-7343-4c69-8fb6-102dfb5b2bc4\",\"subtype\":\"Figure\",\"type\":\"Plot\"}},\"id\":\"b4bb18b8-3e54-4a2a-aedf-71ee545d6c54\",\"type\":\"TapTool\"},{\"attributes\":{\"fill_alpha\":{\"value\":0.1},\"fill_color\":{\"value\":\"#1f77b4\"},\"line_alpha\":{\"value\":0.1},\"line_color\":{\"value\":\"#1f77b4\"},\"x\":{\"field\":\"x\"},\"y\":{\"field\":\"y\"}},\"id\":\"db990206-3961-4dd2-b85e-a89b47f1ccda\",\"type\":\"Circle\"},{\"attributes\":{\"callback\":null},\"id\":\"3ddc986c-6897-493d-8d4f-9ba6585543f5\",\"type\":\"DataRange1d\"},{\"attributes\":{\"callback\":null,\"column_names\":[\"y\",\"x\"],\"data\":{\"x\":[\"1950\",\"1951\",\"1952\",\"1953\",\"1954\",\"1955\",\"1956\",\"1957\",\"1958\",\"1959\",\"1960\",\"1961\",\"1962\",\"1963\",\"1964\",\"1965\",\"1966\",\"1967\",\"1968\",\"1969\",\"1970\",\"1971\",\"1972\",\"1973\",\"1974\",\"1975\",\"1976\",\"1977\",\"1978\",\"1979\",\"1980\",\"1981\",\"1982\",\"1983\",\"1984\",\"1985\",\"1986\",\"1987\",\"1988\",\"1989\",\"1990\",\"1991\",\"1992\",\"1993\",\"1994\",\"1995\",\"1996\",\"1997\",\"1998\",\"1999\",\"2000\",\"2001\",\"2002\",\"2003\",\"2004\",\"2005\",\"2006\",\"2007\",\"2008\",\"2009\",\"2010\",\"2011\",\"2012\",\"2013\",\"2014\",\"2015\"],\"y\":[0.0,0.0,0.0,0.0,0.0,0.0,0.0,0.0,0.0,0.0,0.0,0.0,0.0,0.0,0.0,0.0,0.0,0.0,0.0,53.0,0.0,0.0,0.0,0.0,0.0,0.0,0.0,0.0,2.0,2.0,1.0,3.0,3.0,1.0,0.0,0.0,0.0,12.0,0.0,59.0,0.0,13.0,0.0,0.0,0.0,0.0,0.0,0.0,1.0,1.0,1.0,1.0,1.0,1.0,1.0,1.0,0.0,0.0,3.0,3.0,12.0,73.0,71.0,71.0,64.0,1.0]}},\"id\":\"4bcfac1e-22ab-41b9-bd9f-806b60d8a3c6\",\"type\":\"ColumnDataSource\"},{\"attributes\":{\"callback\":null,\"column_names\":[\"color\",\"country\",\"y\",\"x\"],\"data\":{\"color\":[\"#5e4fa2\",\"#5e4fa2\",\"#5e4fa2\",\"#5e4fa2\",\"#5e4fa2\",\"#5e4fa2\",\"#5e4fa2\",\"#5e4fa2\",\"#5e4fa2\",\"#5e4fa2\",\"#5e4fa2\",\"#5e4fa2\",\"#5e4fa2\",\"#5e4fa2\",\"#5e4fa2\",\"#5e4fa2\",\"#5e4fa2\",\"#5e4fa2\",\"#5e4fa2\",\"#5e4fa2\",\"#5e4fa2\",\"#5e4fa2\",\"#5e4fa2\",\"#5e4fa2\",\"#5e4fa2\",\"#5e4fa2\",\"#5e4fa2\",\"#5e4fa2\",\"#5e4fa2\",\"#5e4fa2\",\"#5e4fa2\",\"#5e4fa2\",\"#5e4fa2\",\"#5e4fa2\",\"#5e4fa2\",\"#5e4fa2\",\"#5e4fa2\",\"#5e4fa2\",\"#5e4fa2\",\"#5e4fa2\",\"#5e4fa2\",\"#5e4fa2\",\"#5e4fa2\",\"#5e4fa2\",\"#5e4fa2\",\"#5e4fa2\",\"#5e4fa2\",\"#5e4fa2\",\"#5e4fa2\",\"#5e4fa2\",\"#5e4fa2\",\"#5e4fa2\",\"#5e4fa2\",\"#5e4fa2\",\"#5e4fa2\",\"#5e4fa2\",\"#5e4fa2\",\"#5e4fa2\",\"#5e4fa2\",\"#5e4fa2\",\"#5e4fa2\",\"#5e4fa2\",\"#5e4fa2\",\"#5e4fa2\",\"#5e4fa2\",\"#5e4fa2\",\"#3288bd\",\"#3288bd\",\"#3288bd\",\"#3288bd\",\"#3288bd\",\"#3288bd\",\"#3288bd\",\"#3288bd\",\"#3288bd\",\"#3288bd\",\"#3288bd\",\"#3288bd\",\"#3288bd\",\"#3288bd\",\"#3288bd\",\"#3288bd\",\"#3288bd\",\"#3288bd\",\"#3288bd\",\"#3288bd\",\"#3288bd\",\"#3288bd\",\"#3288bd\",\"#3288bd\",\"#3288bd\",\"#3288bd\",\"#3288bd\",\"#3288bd\",\"#3288bd\",\"#3288bd\",\"#3288bd\",\"#3288bd\",\"#3288bd\",\"#3288bd\",\"#3288bd\",\"#3288bd\",\"#3288bd\",\"#3288bd\",\"#3288bd\",\"#3288bd\",\"#3288bd\",\"#3288bd\",\"#3288bd\",\"#3288bd\",\"#3288bd\",\"#3288bd\",\"#3288bd\",\"#3288bd\",\"#3288bd\",\"#3288bd\",\"#3288bd\",\"#3288bd\",\"#3288bd\",\"#3288bd\",\"#3288bd\",\"#3288bd\",\"#3288bd\",\"#3288bd\",\"#3288bd\",\"#3288bd\",\"#3288bd\",\"#3288bd\",\"#3288bd\",\"#3288bd\",\"#3288bd\",\"#3288bd\"],\"country\":[\"Saudi Arabia to Germany (FRG)\",\"Saudi Arabia to Germany (FRG)\",\"Saudi Arabia to Germany (FRG)\",\"Saudi Arabia to Germany (FRG)\",\"Saudi Arabia to Germany (FRG)\",\"Saudi Arabia to Germany (FRG)\",\"Saudi Arabia to Germany (FRG)\",\"Saudi Arabia to Germany (FRG)\",\"Saudi Arabia to Germany (FRG)\",\"Saudi Arabia to Germany (FRG)\",\"Saudi Arabia to Germany (FRG)\",\"Saudi Arabia to Germany (FRG)\",\"Saudi Arabia to Germany (FRG)\",\"Saudi Arabia to Germany (FRG)\",\"Saudi Arabia to Germany (FRG)\",\"Saudi Arabia to Germany (FRG)\",\"Saudi Arabia to Germany (FRG)\",\"Saudi Arabia to Germany (FRG)\",\"Saudi Arabia to Germany (FRG)\",\"Saudi Arabia to Germany (FRG)\",\"Saudi Arabia to Germany (FRG)\",\"Saudi Arabia to Germany (FRG)\",\"Saudi Arabia to Germany (FRG)\",\"Saudi Arabia to Germany (FRG)\",\"Saudi Arabia to Germany (FRG)\",\"Saudi Arabia to Germany (FRG)\",\"Saudi Arabia to Germany (FRG)\",\"Saudi Arabia to Germany (FRG)\",\"Saudi Arabia to Germany (FRG)\",\"Saudi Arabia to Germany (FRG)\",\"Saudi Arabia to Germany (FRG)\",\"Saudi Arabia to Germany (FRG)\",\"Saudi Arabia to Germany (FRG)\",\"Saudi Arabia to Germany (FRG)\",\"Saudi Arabia to Germany (FRG)\",\"Saudi Arabia to Germany (FRG)\",\"Saudi Arabia to Germany (FRG)\",\"Saudi Arabia to Germany (FRG)\",\"Saudi Arabia to Germany (FRG)\",\"Saudi Arabia to Germany (FRG)\",\"Saudi Arabia to Germany (FRG)\",\"Saudi Arabia to Germany (FRG)\",\"Saudi Arabia to Germany (FRG)\",\"Saudi Arabia to Germany (FRG)\",\"Saudi Arabia to Germany (FRG)\",\"Saudi Arabia to Germany (FRG)\",\"Saudi Arabia to Germany (FRG)\",\"Saudi Arabia to Germany (FRG)\",\"Saudi Arabia to Germany (FRG)\",\"Saudi Arabia to Germany (FRG)\",\"Saudi Arabia to Germany (FRG)\",\"Saudi Arabia to Germany (FRG)\",\"Saudi Arabia to Germany (FRG)\",\"Saudi Arabia to Germany (FRG)\",\"Saudi Arabia to Germany (FRG)\",\"Saudi Arabia to Germany (FRG)\",\"Saudi Arabia to Germany (FRG)\",\"Saudi Arabia to Germany (FRG)\",\"Saudi Arabia to Germany (FRG)\",\"Saudi Arabia to Germany (FRG)\",\"Saudi Arabia to Germany (FRG)\",\"Saudi Arabia to Germany (FRG)\",\"Saudi Arabia to Germany (FRG)\",\"Saudi Arabia to Germany (FRG)\",\"Saudi Arabia to Germany (FRG)\",\"Saudi Arabia to Germany (FRG)\",\"Germany (FRG) to Saudi Arabia\",\"Germany (FRG) to Saudi Arabia\",\"Germany (FRG) to Saudi Arabia\",\"Germany (FRG) to Saudi Arabia\",\"Germany (FRG) to Saudi Arabia\",\"Germany (FRG) to Saudi Arabia\",\"Germany (FRG) to Saudi Arabia\",\"Germany (FRG) to Saudi Arabia\",\"Germany (FRG) to Saudi Arabia\",\"Germany (FRG) to Saudi Arabia\",\"Germany (FRG) to Saudi Arabia\",\"Germany (FRG) to Saudi Arabia\",\"Germany (FRG) to Saudi Arabia\",\"Germany (FRG) to Saudi Arabia\",\"Germany (FRG) to Saudi Arabia\",\"Germany (FRG) to Saudi Arabia\",\"Germany (FRG) to Saudi Arabia\",\"Germany (FRG) to Saudi Arabia\",\"Germany (FRG) to Saudi Arabia\",\"Germany (FRG) to Saudi Arabia\",\"Germany (FRG) to Saudi Arabia\",\"Germany (FRG) to Saudi Arabia\",\"Germany (FRG) to Saudi Arabia\",\"Germany (FRG) to Saudi Arabia\",\"Germany (FRG) to Saudi Arabia\",\"Germany (FRG) to Saudi Arabia\",\"Germany (FRG) to Saudi Arabia\",\"Germany (FRG) to Saudi Arabia\",\"Germany (FRG) to Saudi Arabia\",\"Germany (FRG) to Saudi Arabia\",\"Germany (FRG) to Saudi Arabia\",\"Germany (FRG) to Saudi Arabia\",\"Germany (FRG) to Saudi Arabia\",\"Germany (FRG) to Saudi Arabia\",\"Germany (FRG) to Saudi Arabia\",\"Germany (FRG) to Saudi Arabia\",\"Germany (FRG) to Saudi Arabia\",\"Germany (FRG) to Saudi Arabia\",\"Germany (FRG) to Saudi Arabia\",\"Germany (FRG) to Saudi Arabia\",\"Germany (FRG) to Saudi Arabia\",\"Germany (FRG) to Saudi Arabia\",\"Germany (FRG) to Saudi Arabia\",\"Germany (FRG) to Saudi Arabia\",\"Germany (FRG) to Saudi Arabia\",\"Germany (FRG) to Saudi Arabia\",\"Germany (FRG) to Saudi Arabia\",\"Germany (FRG) to Saudi Arabia\",\"Germany (FRG) to Saudi Arabia\",\"Germany (FRG) to Saudi Arabia\",\"Germany (FRG) to Saudi Arabia\",\"Germany (FRG) to Saudi Arabia\",\"Germany (FRG) to Saudi Arabia\",\"Germany (FRG) to Saudi Arabia\",\"Germany (FRG) to Saudi Arabia\",\"Germany (FRG) to Saudi Arabia\",\"Germany (FRG) to Saudi Arabia\",\"Germany (FRG) to Saudi Arabia\",\"Germany (FRG) to Saudi Arabia\",\"Germany (FRG) to Saudi Arabia\",\"Germany (FRG) to Saudi Arabia\",\"Germany (FRG) to Saudi Arabia\",\"Germany (FRG) to Saudi Arabia\",\"Germany (FRG) to Saudi Arabia\",\"Germany (FRG) to Saudi Arabia\",\"Germany (FRG) to Saudi Arabia\"],\"x\":[\"1950\",\"1951\",\"1952\",\"1953\",\"1954\",\"1955\",\"1956\",\"1957\",\"1958\",\"1959\",\"1960\",\"1961\",\"1962\",\"1963\",\"1964\",\"1965\",\"1966\",\"1967\",\"1968\",\"1969\",\"1970\",\"1971\",\"1972\",\"1973\",\"1974\",\"1975\",\"1976\",\"1977\",\"1978\",\"1979\",\"1980\",\"1981\",\"1982\",\"1983\",\"1984\",\"1985\",\"1986\",\"1987\",\"1988\",\"1989\",\"1990\",\"1991\",\"1992\",\"1993\",\"1994\",\"1995\",\"1996\",\"1997\",\"1998\",\"1999\",\"2000\",\"2001\",\"2002\",\"2003\",\"2004\",\"2005\",\"2006\",\"2007\",\"2008\",\"2009\",\"2010\",\"2011\",\"2012\",\"2013\",\"2014\",\"2015\",\"1950\",\"1951\",\"1952\",\"1953\",\"1954\",\"1955\",\"1956\",\"1957\",\"1958\",\"1959\",\"1960\",\"1961\",\"1962\",\"1963\",\"1964\",\"1965\",\"1966\",\"1967\",\"1968\",\"1969\",\"1970\",\"1971\",\"1972\",\"1973\",\"1974\",\"1975\",\"1976\",\"1977\",\"1978\",\"1979\",\"1980\",\"1981\",\"1982\",\"1983\",\"1984\",\"1985\",\"1986\",\"1987\",\"1988\",\"1989\",\"1990\",\"1991\",\"1992\",\"1993\",\"1994\",\"1995\",\"1996\",\"1997\",\"1998\",\"1999\",\"2000\",\"2001\",\"2002\",\"2003\",\"2004\",\"2005\",\"2006\",\"2007\",\"2008\",\"2009\",\"2010\",\"2011\",\"2012\",\"2013\",\"2014\",\"2015\"],\"y\":[0.0,0.0,0.0,0.0,0.0,0.0,0.0,0.0,0.0,0.0,0.0,0.0,0.0,0.0,0.0,0.0,0.0,0.0,0.0,0.0,0.0,0.0,0.0,0.0,0.0,0.0,0.0,0.0,0.0,0.0,0.0,0.0,0.0,0.0,0.0,0.0,0.0,0.0,0.0,0.0,0.0,0.0,0.0,0.0,0.0,0.0,0.0,0.0,0.0,0.0,0.0,0.0,0.0,0.0,0.0,0.0,0.0,0.0,0.0,0.0,0.0,0.0,0.0,0.0,0.0,0.0,0.0,0.0,0.0,0.0,0.0,0.0,0.0,0.0,0.0,0.0,0.0,0.0,0.0,0.0,0.0,0.0,0.0,0.0,0.0,53.0,0.0,0.0,0.0,0.0,0.0,0.0,0.0,0.0,2.0,2.0,1.0,3.0,3.0,1.0,0.0,0.0,0.0,12.0,0.0,59.0,0.0,13.0,0.0,0.0,0.0,0.0,0.0,0.0,1.0,1.0,1.0,1.0,1.0,1.0,1.0,1.0,0.0,0.0,3.0,3.0,12.0,73.0,71.0,71.0,64.0,1.0]}},\"id\":\"d3632853-cb6a-4ac2-8774-0f052e5691ca\",\"type\":\"ColumnDataSource\"},{\"attributes\":{\"bottom_units\":\"screen\",\"fill_alpha\":{\"value\":0.5},\"fill_color\":{\"value\":\"lightgrey\"},\"left_units\":\"screen\",\"level\":\"overlay\",\"line_alpha\":{\"value\":1.0},\"line_color\":{\"value\":\"black\"},\"line_dash\":[4,4],\"line_width\":{\"value\":2},\"plot\":null,\"render_mode\":\"css\",\"right_units\":\"screen\",\"top_units\":\"screen\"},\"id\":\"9b5be244-28b3-43c9-8121-6b222447a956\",\"type\":\"BoxAnnotation\"},{\"attributes\":{\"callback\":null,\"plot\":{\"id\":\"b22ffcf6-7343-4c69-8fb6-102dfb5b2bc4\",\"subtype\":\"Figure\",\"type\":\"Plot\"},\"renderers\":[{\"id\":\"585ad1b7-c869-4921-9302-a4aad916cea6\",\"type\":\"GlyphRenderer\"}],\"tooltips\":[[\"year\",\"@x\"],[\"desc\",\"@country\"],[\"amount\",\"@y\"]]},\"id\":\"ecd6ea98-acc5-46be-ba0d-9eb59de27e0e\",\"type\":\"HoverTool\"},{\"attributes\":{\"plot\":{\"id\":\"b22ffcf6-7343-4c69-8fb6-102dfb5b2bc4\",\"subtype\":\"Figure\",\"type\":\"Plot\"},\"ticker\":{\"id\":\"90e6a3c8-e3ab-46a4-943d-4615b11da228\",\"type\":\"BasicTicker\"}},\"id\":\"5747dde3-9d51-4c8f-988b-b70902a4ffb5\",\"type\":\"Grid\"},{\"attributes\":{\"callback\":null},\"id\":\"aa6e9d31-a1e4-47bf-9c75-e1124d6ce90a\",\"type\":\"DataRange1d\"},{\"attributes\":{\"plot\":{\"id\":\"b22ffcf6-7343-4c69-8fb6-102dfb5b2bc4\",\"subtype\":\"Figure\",\"type\":\"Plot\"}},\"id\":\"79de9d66-f605-40f3-8806-c91dc4cfa124\",\"type\":\"SaveTool\"},{\"attributes\":{},\"id\":\"1f889eb2-c9db-404a-ba31-358173374447\",\"type\":\"BasicTicker\"},{\"attributes\":{\"line_color\":{\"value\":\"#3288bd\"},\"x\":{\"field\":\"x\"},\"y\":{\"field\":\"y\"}},\"id\":\"28545346-db46-42c5-b508-11ed9d7d2026\",\"type\":\"Line\"},{\"attributes\":{\"data_source\":{\"id\":\"4bcfac1e-22ab-41b9-bd9f-806b60d8a3c6\",\"type\":\"ColumnDataSource\"},\"glyph\":{\"id\":\"28545346-db46-42c5-b508-11ed9d7d2026\",\"type\":\"Line\"},\"hover_glyph\":null,\"nonselection_glyph\":{\"id\":\"b2a102e2-fc77-4453-ad07-5b44ac80f989\",\"type\":\"Line\"},\"selection_glyph\":null},\"id\":\"851f0da2-16ae-4141-85fc-9a5bd2f639a6\",\"type\":\"GlyphRenderer\"},{\"attributes\":{\"below\":[{\"id\":\"6650689c-7a4f-4cef-a164-6752c2c900d5\",\"type\":\"LinearAxis\"}],\"left\":[{\"id\":\"9a198411-6928-4be5-a42c-08e82560e625\",\"type\":\"LinearAxis\"}],\"plot_height\":400,\"renderers\":[{\"id\":\"6650689c-7a4f-4cef-a164-6752c2c900d5\",\"type\":\"LinearAxis\"},{\"id\":\"5747dde3-9d51-4c8f-988b-b70902a4ffb5\",\"type\":\"Grid\"},{\"id\":\"9a198411-6928-4be5-a42c-08e82560e625\",\"type\":\"LinearAxis\"},{\"id\":\"15312692-e43b-4460-a308-236cd2543f96\",\"type\":\"Grid\"},{\"id\":\"9b5be244-28b3-43c9-8121-6b222447a956\",\"type\":\"BoxAnnotation\"},{\"id\":\"ae14dbef-9699-486e-8f12-8d70e8ec9ab3\",\"type\":\"Legend\"},{\"id\":\"69269f27-bea2-42be-bbcb-f9666c2cefa2\",\"type\":\"GlyphRenderer\"},{\"id\":\"851f0da2-16ae-4141-85fc-9a5bd2f639a6\",\"type\":\"GlyphRenderer\"},{\"id\":\"585ad1b7-c869-4921-9302-a4aad916cea6\",\"type\":\"GlyphRenderer\"}],\"title\":{\"id\":\"11b1e102-68a9-4b94-a22f-d365a8b271ff\",\"type\":\"Title\"},\"tool_events\":{\"id\":\"fd30d49a-ce01-47a7-ae6a-b4e02e369a9a\",\"type\":\"ToolEvents\"},\"toolbar\":{\"id\":\"729f38a4-c3b7-4c5a-b284-4d541bddccc0\",\"type\":\"Toolbar\"},\"x_range\":{\"id\":\"aa6e9d31-a1e4-47bf-9c75-e1124d6ce90a\",\"type\":\"DataRange1d\"},\"y_range\":{\"id\":\"3ddc986c-6897-493d-8d4f-9ba6585543f5\",\"type\":\"DataRange1d\"}},\"id\":\"b22ffcf6-7343-4c69-8fb6-102dfb5b2bc4\",\"subtype\":\"Figure\",\"type\":\"Plot\"},{\"attributes\":{\"callback\":null,\"column_names\":[\"y\",\"x\"],\"data\":{\"x\":[\"1950\",\"1951\",\"1952\",\"1953\",\"1954\",\"1955\",\"1956\",\"1957\",\"1958\",\"1959\",\"1960\",\"1961\",\"1962\",\"1963\",\"1964\",\"1965\",\"1966\",\"1967\",\"1968\",\"1969\",\"1970\",\"1971\",\"1972\",\"1973\",\"1974\",\"1975\",\"1976\",\"1977\",\"1978\",\"1979\",\"1980\",\"1981\",\"1982\",\"1983\",\"1984\",\"1985\",\"1986\",\"1987\",\"1988\",\"1989\",\"1990\",\"1991\",\"1992\",\"1993\",\"1994\",\"1995\",\"1996\",\"1997\",\"1998\",\"1999\",\"2000\",\"2001\",\"2002\",\"2003\",\"2004\",\"2005\",\"2006\",\"2007\",\"2008\",\"2009\",\"2010\",\"2011\",\"2012\",\"2013\",\"2014\",\"2015\"],\"y\":[0,0,0,0,0,0,0,0,0,0,0,0,0,0,0,0,0,0,0,0,0,0,0,0,0,0,0,0,0,0,0,0,0,0,0,0,0,0,0,0,0,0,0,0,0,0,0,0,0,0,0,0,0,0,0,0,0,0,0,0,0,0,0,0,0,0]}},\"id\":\"b4289e98-e69d-4cc3-8c76-f6f8b8daff8e\",\"type\":\"ColumnDataSource\"},{\"attributes\":{\"data_source\":{\"id\":\"d3632853-cb6a-4ac2-8774-0f052e5691ca\",\"type\":\"ColumnDataSource\"},\"glyph\":{\"id\":\"541448e2-c53a-4835-8185-e55fe47572dd\",\"type\":\"Circle\"},\"hover_glyph\":null,\"nonselection_glyph\":{\"id\":\"db990206-3961-4dd2-b85e-a89b47f1ccda\",\"type\":\"Circle\"},\"selection_glyph\":null},\"id\":\"585ad1b7-c869-4921-9302-a4aad916cea6\",\"type\":\"GlyphRenderer\"},{\"attributes\":{\"fill_color\":{\"field\":\"color\"},\"line_color\":{\"field\":\"color\"},\"x\":{\"field\":\"x\"},\"y\":{\"field\":\"y\"}},\"id\":\"541448e2-c53a-4835-8185-e55fe47572dd\",\"type\":\"Circle\"},{\"attributes\":{},\"id\":\"cf01c689-034e-433c-af64-2b8d35210eb7\",\"type\":\"BasicTickFormatter\"},{\"attributes\":{\"plot\":{\"id\":\"b22ffcf6-7343-4c69-8fb6-102dfb5b2bc4\",\"subtype\":\"Figure\",\"type\":\"Plot\"}},\"id\":\"7ebdc31e-abf2-45b5-9da5-b7c680c66603\",\"type\":\"WheelZoomTool\"},{\"attributes\":{\"formatter\":{\"id\":\"ed6f2f77-4349-47c9-8348-02abbbdf48d7\",\"type\":\"BasicTickFormatter\"},\"plot\":{\"id\":\"b22ffcf6-7343-4c69-8fb6-102dfb5b2bc4\",\"subtype\":\"Figure\",\"type\":\"Plot\"},\"ticker\":{\"id\":\"1f889eb2-c9db-404a-ba31-358173374447\",\"type\":\"BasicTicker\"}},\"id\":\"9a198411-6928-4be5-a42c-08e82560e625\",\"type\":\"LinearAxis\"},{\"attributes\":{\"data_source\":{\"id\":\"b4289e98-e69d-4cc3-8c76-f6f8b8daff8e\",\"type\":\"ColumnDataSource\"},\"glyph\":{\"id\":\"c35d60a1-d5f7-43af-a301-57ff432e0fb6\",\"type\":\"Line\"},\"hover_glyph\":null,\"nonselection_glyph\":{\"id\":\"f0712fde-b78a-4c9f-8c88-14ce6711a4c1\",\"type\":\"Line\"},\"selection_glyph\":null},\"id\":\"69269f27-bea2-42be-bbcb-f9666c2cefa2\",\"type\":\"GlyphRenderer\"},{\"attributes\":{},\"id\":\"fd30d49a-ce01-47a7-ae6a-b4e02e369a9a\",\"type\":\"ToolEvents\"},{\"attributes\":{\"active_drag\":\"auto\",\"active_scroll\":\"auto\",\"active_tap\":\"auto\",\"tools\":[{\"id\":\"2eca04db-4ded-4274-84e6-9ea6a0ffda25\",\"type\":\"PanTool\"},{\"id\":\"b4bb18b8-3e54-4a2a-aedf-71ee545d6c54\",\"type\":\"TapTool\"},{\"id\":\"8528776d-0ad1-4a48-86a8-2cd022e372fd\",\"type\":\"BoxZoomTool\"},{\"id\":\"0f173d72-3dc2-41df-98dc-b137d0de3018\",\"type\":\"ResetTool\"},{\"id\":\"7ebdc31e-abf2-45b5-9da5-b7c680c66603\",\"type\":\"WheelZoomTool\"},{\"id\":\"79de9d66-f605-40f3-8806-c91dc4cfa124\",\"type\":\"SaveTool\"},{\"id\":\"ecd6ea98-acc5-46be-ba0d-9eb59de27e0e\",\"type\":\"HoverTool\"}]},\"id\":\"729f38a4-c3b7-4c5a-b284-4d541bddccc0\",\"type\":\"Toolbar\"},{\"attributes\":{\"line_alpha\":{\"value\":0.1},\"line_color\":{\"value\":\"#1f77b4\"},\"x\":{\"field\":\"x\"},\"y\":{\"field\":\"y\"}},\"id\":\"b2a102e2-fc77-4453-ad07-5b44ac80f989\",\"type\":\"Line\"},{\"attributes\":{\"formatter\":{\"id\":\"cf01c689-034e-433c-af64-2b8d35210eb7\",\"type\":\"BasicTickFormatter\"},\"plot\":{\"id\":\"b22ffcf6-7343-4c69-8fb6-102dfb5b2bc4\",\"subtype\":\"Figure\",\"type\":\"Plot\"},\"ticker\":{\"id\":\"90e6a3c8-e3ab-46a4-943d-4615b11da228\",\"type\":\"BasicTicker\"}},\"id\":\"6650689c-7a4f-4cef-a164-6752c2c900d5\",\"type\":\"LinearAxis\"},{\"attributes\":{\"label\":{\"value\":\"test\"},\"renderers\":[{\"id\":\"69269f27-bea2-42be-bbcb-f9666c2cefa2\",\"type\":\"GlyphRenderer\"},{\"id\":\"851f0da2-16ae-4141-85fc-9a5bd2f639a6\",\"type\":\"GlyphRenderer\"}]},\"id\":\"e137a33c-b383-4892-adc9-6e908e1a0636\",\"type\":\"LegendItem\"},{\"attributes\":{\"line_alpha\":{\"value\":0.1},\"line_color\":{\"value\":\"#1f77b4\"},\"x\":{\"field\":\"x\"},\"y\":{\"field\":\"y\"}},\"id\":\"f0712fde-b78a-4c9f-8c88-14ce6711a4c1\",\"type\":\"Line\"},{\"attributes\":{\"plot\":{\"id\":\"b22ffcf6-7343-4c69-8fb6-102dfb5b2bc4\",\"subtype\":\"Figure\",\"type\":\"Plot\"}},\"id\":\"0f173d72-3dc2-41df-98dc-b137d0de3018\",\"type\":\"ResetTool\"},{\"attributes\":{},\"id\":\"90e6a3c8-e3ab-46a4-943d-4615b11da228\",\"type\":\"BasicTicker\"},{\"attributes\":{\"dimension\":1,\"plot\":{\"id\":\"b22ffcf6-7343-4c69-8fb6-102dfb5b2bc4\",\"subtype\":\"Figure\",\"type\":\"Plot\"},\"ticker\":{\"id\":\"1f889eb2-c9db-404a-ba31-358173374447\",\"type\":\"BasicTicker\"}},\"id\":\"15312692-e43b-4460-a308-236cd2543f96\",\"type\":\"Grid\"}],\"root_ids\":[\"b22ffcf6-7343-4c69-8fb6-102dfb5b2bc4\"]},\"title\":\"Bokeh Application\",\"version\":\"0.12.3\"}};\n",
       "            var render_items = [{\"docid\":\"41015588-8c78-4fa6-8171-39c526f13e13\",\"elementid\":\"50af8b8b-e20a-4a75-bcfe-dcd9394bb33f\",\"modelid\":\"b22ffcf6-7343-4c69-8fb6-102dfb5b2bc4\"}];\n",
       "            \n",
       "            Bokeh.embed.embed_items(docs_json, render_items);\n",
       "        });\n",
       "      },\n",
       "      function(Bokeh) {\n",
       "      }\n",
       "    ];\n",
       "  \n",
       "    function run_inline_js() {\n",
       "      \n",
       "      if ((window.Bokeh !== undefined) || (force === \"1\")) {\n",
       "        for (var i = 0; i < inline_js.length; i++) {\n",
       "          inline_js[i](window.Bokeh);\n",
       "        }if (force === \"1\") {\n",
       "          display_loaded();\n",
       "        }} else if (Date.now() < window._bokeh_timeout) {\n",
       "        setTimeout(run_inline_js, 100);\n",
       "      } else if (!window._bokeh_failed_load) {\n",
       "        console.log(\"Bokeh: BokehJS failed to load within specified timeout.\");\n",
       "        window._bokeh_failed_load = true;\n",
       "      } else if (!force) {\n",
       "        var cell = $(\"#50af8b8b-e20a-4a75-bcfe-dcd9394bb33f\").parents('.cell').data().cell;\n",
       "        cell.output_area.append_execute_result(NB_LOAD_WARNING)\n",
       "      }\n",
       "  \n",
       "    }\n",
       "  \n",
       "    if (window._bokeh_is_loading === 0) {\n",
       "      console.log(\"Bokeh: BokehJS loaded, going straight to plotting\");\n",
       "      run_inline_js();\n",
       "    } else {\n",
       "      load_libs(js_urls, function() {\n",
       "        console.log(\"Bokeh: BokehJS plotting callback run at\", now());\n",
       "        run_inline_js();\n",
       "      });\n",
       "    }\n",
       "  }(this));\n",
       "</script>"
      ]
     },
     "metadata": {},
     "output_type": "display_data"
    }
   ],
   "source": [
    "show(plot)"
   ]
  },
  {
   "cell_type": "markdown",
   "metadata": {},
   "source": [
    "## New Visualization"
   ]
  },
  {
   "cell_type": "code",
   "execution_count": 51,
   "metadata": {
    "collapsed": false
   },
   "outputs": [
    {
     "data": {
      "text/html": [
       "\n",
       "    <div class=\"bk-root\">\n",
       "        <a href=\"http://bokeh.pydata.org\" target=\"_blank\" class=\"bk-logo bk-logo-small bk-logo-notebook\"></a>\n",
       "        <span id=\"4f325293-15d1-4c74-a8ed-f02181ce962d\">Loading BokehJS ...</span>\n",
       "    </div>"
      ]
     },
     "metadata": {},
     "output_type": "display_data"
    },
    {
     "data": {
      "application/javascript": [
       "\n",
       "(function(global) {\n",
       "  function now() {\n",
       "    return new Date();\n",
       "  }\n",
       "\n",
       "  var force = \"1\";\n",
       "\n",
       "  if (typeof (window._bokeh_onload_callbacks) === \"undefined\" || force !== \"\") {\n",
       "    window._bokeh_onload_callbacks = [];\n",
       "    window._bokeh_is_loading = undefined;\n",
       "  }\n",
       "\n",
       "\n",
       "  \n",
       "  if (typeof (window._bokeh_timeout) === \"undefined\" || force !== \"\") {\n",
       "    window._bokeh_timeout = Date.now() + 5000;\n",
       "    window._bokeh_failed_load = false;\n",
       "  }\n",
       "\n",
       "  var NB_LOAD_WARNING = {'data': {'text/html':\n",
       "     \"<div style='background-color: #fdd'>\\n\"+\n",
       "     \"<p>\\n\"+\n",
       "     \"BokehJS does not appear to have successfully loaded. If loading BokehJS from CDN, this \\n\"+\n",
       "     \"may be due to a slow or bad network connection. Possible fixes:\\n\"+\n",
       "     \"</p>\\n\"+\n",
       "     \"<ul>\\n\"+\n",
       "     \"<li>re-rerun `output_notebook()` to attempt to load from CDN again, or</li>\\n\"+\n",
       "     \"<li>use INLINE resources instead, as so:</li>\\n\"+\n",
       "     \"</ul>\\n\"+\n",
       "     \"<code>\\n\"+\n",
       "     \"from bokeh.resources import INLINE\\n\"+\n",
       "     \"output_notebook(resources=INLINE)\\n\"+\n",
       "     \"</code>\\n\"+\n",
       "     \"</div>\"}};\n",
       "\n",
       "  function display_loaded() {\n",
       "    if (window.Bokeh !== undefined) {\n",
       "      Bokeh.$(\"#4f325293-15d1-4c74-a8ed-f02181ce962d\").text(\"BokehJS successfully loaded.\");\n",
       "    } else if (Date.now() < window._bokeh_timeout) {\n",
       "      setTimeout(display_loaded, 100)\n",
       "    }\n",
       "  }\n",
       "\n",
       "  function run_callbacks() {\n",
       "    window._bokeh_onload_callbacks.forEach(function(callback) { callback() });\n",
       "    delete window._bokeh_onload_callbacks\n",
       "    console.info(\"Bokeh: all callbacks have finished\");\n",
       "  }\n",
       "\n",
       "  function load_libs(js_urls, callback) {\n",
       "    window._bokeh_onload_callbacks.push(callback);\n",
       "    if (window._bokeh_is_loading > 0) {\n",
       "      console.log(\"Bokeh: BokehJS is being loaded, scheduling callback at\", now());\n",
       "      return null;\n",
       "    }\n",
       "    if (js_urls == null || js_urls.length === 0) {\n",
       "      run_callbacks();\n",
       "      return null;\n",
       "    }\n",
       "    console.log(\"Bokeh: BokehJS not loaded, scheduling load and callback at\", now());\n",
       "    window._bokeh_is_loading = js_urls.length;\n",
       "    for (var i = 0; i < js_urls.length; i++) {\n",
       "      var url = js_urls[i];\n",
       "      var s = document.createElement('script');\n",
       "      s.src = url;\n",
       "      s.async = false;\n",
       "      s.onreadystatechange = s.onload = function() {\n",
       "        window._bokeh_is_loading--;\n",
       "        if (window._bokeh_is_loading === 0) {\n",
       "          console.log(\"Bokeh: all BokehJS libraries loaded\");\n",
       "          run_callbacks()\n",
       "        }\n",
       "      };\n",
       "      s.onerror = function() {\n",
       "        console.warn(\"failed to load library \" + url);\n",
       "      };\n",
       "      console.log(\"Bokeh: injecting script tag for BokehJS library: \", url);\n",
       "      document.getElementsByTagName(\"head\")[0].appendChild(s);\n",
       "    }\n",
       "  };var element = document.getElementById(\"4f325293-15d1-4c74-a8ed-f02181ce962d\");\n",
       "  if (element == null) {\n",
       "    console.log(\"Bokeh: ERROR: autoload.js configured with elementid '4f325293-15d1-4c74-a8ed-f02181ce962d' but no matching script tag was found. \")\n",
       "    return false;\n",
       "  }\n",
       "\n",
       "  var js_urls = ['https://cdn.pydata.org/bokeh/release/bokeh-0.12.3.min.js', 'https://cdn.pydata.org/bokeh/release/bokeh-widgets-0.12.3.min.js'];\n",
       "\n",
       "  var inline_js = [\n",
       "    function(Bokeh) {\n",
       "      Bokeh.set_log_level(\"info\");\n",
       "    },\n",
       "    \n",
       "    function(Bokeh) {\n",
       "      \n",
       "      Bokeh.$(\"#4f325293-15d1-4c74-a8ed-f02181ce962d\").text(\"BokehJS is loading...\");\n",
       "    },\n",
       "    function(Bokeh) {\n",
       "      console.log(\"Bokeh: injecting CSS: https://cdn.pydata.org/bokeh/release/bokeh-0.12.3.min.css\");\n",
       "      Bokeh.embed.inject_css(\"https://cdn.pydata.org/bokeh/release/bokeh-0.12.3.min.css\");\n",
       "      console.log(\"Bokeh: injecting CSS: https://cdn.pydata.org/bokeh/release/bokeh-widgets-0.12.3.min.css\");\n",
       "      Bokeh.embed.inject_css(\"https://cdn.pydata.org/bokeh/release/bokeh-widgets-0.12.3.min.css\");\n",
       "    }\n",
       "  ];\n",
       "\n",
       "  function run_inline_js() {\n",
       "    \n",
       "    if ((window.Bokeh !== undefined) || (force === \"1\")) {\n",
       "      for (var i = 0; i < inline_js.length; i++) {\n",
       "        inline_js[i](window.Bokeh);\n",
       "      }if (force === \"1\") {\n",
       "        display_loaded();\n",
       "      }} else if (Date.now() < window._bokeh_timeout) {\n",
       "      setTimeout(run_inline_js, 100);\n",
       "    } else if (!window._bokeh_failed_load) {\n",
       "      console.log(\"Bokeh: BokehJS failed to load within specified timeout.\");\n",
       "      window._bokeh_failed_load = true;\n",
       "    } else if (!force) {\n",
       "      var cell = $(\"#4f325293-15d1-4c74-a8ed-f02181ce962d\").parents('.cell').data().cell;\n",
       "      cell.output_area.append_execute_result(NB_LOAD_WARNING)\n",
       "    }\n",
       "\n",
       "  }\n",
       "\n",
       "  if (window._bokeh_is_loading === 0) {\n",
       "    console.log(\"Bokeh: BokehJS loaded, going straight to plotting\");\n",
       "    run_inline_js();\n",
       "  } else {\n",
       "    load_libs(js_urls, function() {\n",
       "      console.log(\"Bokeh: BokehJS plotting callback run at\", now());\n",
       "      run_inline_js();\n",
       "    });\n",
       "  }\n",
       "}(this));"
      ]
     },
     "metadata": {},
     "output_type": "display_data"
    }
   ],
   "source": [
    "from math import sqrt\n",
    "from bokeh.io import curdoc\n",
    "from bokeh.layouts import row, widgetbox\n",
    "from bokeh.models import ColumnDataSource,HoverTool\n",
    "from bokeh.models.widgets import Slider, TextInput\n",
    "from bokeh.plotting import figure,show\n",
    "output_notebook()"
   ]
  },
  {
   "cell_type": "code",
   "execution_count": 52,
   "metadata": {
    "collapsed": false
   },
   "outputs": [],
   "source": [
    "def get_nodes_specs(_network, _layout):\n",
    "    d = dict(x=[], y=[], color=[], country=[], size=[], totaltrade =[], \n",
    "             cluster=[], alpha=[], largestpartner=[], military_expenditure=[],year=[],countrycode=[])\n",
    "    \n",
    "    partition = community.best_partition(_network)\n",
    "    year = _network.graph['year']\n",
    "    for node in _network.nodes(data = True):\n",
    "        totaltrade = 0\n",
    "        largest_trade_partner_trade = 0\n",
    "        largest_trade_partner_name = ''  \n",
    "        \n",
    "        for edge in _network.edges(data=True):\n",
    "                if edge[0] == node[0] or edge[1] == node[0]:\n",
    "                    totaltrade += edge[2]['weight']\n",
    "                    if edge[2]['weight'] >= largest_trade_partner_trade:\n",
    "                        largest_trade_partner_trade = edge[2]['weight']\n",
    "                        if edge[0] == node[0]:\n",
    "                            largest_trade_partner_name = edge[1]\n",
    "                        else:\n",
    "                            largest_trade_partner_name = edge[0] \n",
    "\n",
    "        d['x'].append(_layout[node[0]][0])\n",
    "        d['y'].append(_layout[node[0]][1])\n",
    "        d['color'].append(colormap[partition[node[0]]])\n",
    "        d['country'].append(node[0])\n",
    "        d['countrycode'].append(countryCodeMap[node[0]])\n",
    "        \n",
    "        if isinstance(node[1]['military expenditure'],float) and not math.isnan(node[1]['military expenditure']):\n",
    "            #d['size'].append((np.log(node[1]['military expenditure'])*0.8)\n",
    "            d['alpha'].append(0.7)\n",
    "        else:\n",
    "            d['alpha'].append(0.2)\n",
    "        \n",
    "        if isinstance(np.log(totaltrade),(float,int)) and not math.isnan(np.log(totaltrade)):\n",
    "            d['size'].append(2+np.log(totaltrade))\n",
    "        else:\n",
    "            d['size'].append(1)\n",
    "\n",
    "        d['totaltrade'].append(totaltrade)\n",
    "        d['cluster'].append(partition[node[0]])\n",
    "        \n",
    "        d['largestpartner'].append(largest_trade_partner_name)\n",
    "        if isinstance(node[1]['military expenditure'],float) and not math.isnan(node[1]['military expenditure']):\n",
    "            d['military_expenditure'].append(node[1]['military expenditure'])\n",
    "        else:\n",
    "            d['military_expenditure'].append('NaN')\n",
    "        d['year'].append(int(year))\n",
    "        \n",
    "    return d"
   ]
  },
  {
   "cell_type": "code",
   "execution_count": 89,
   "metadata": {
    "collapsed": true
   },
   "outputs": [],
   "source": [
    "def get_edges_specs(_network, _layout):\n",
    "    d = dict(xs=[], ys=[], alphas=[], width=[], year=[])\n",
    "    year = _network.graph['year']\n",
    "\n",
    "    weights = []\n",
    "    for u, v, data in _network.edges(data=True):\n",
    "        weights.append(data['weight'])\n",
    "    max_weight = max(weights)\n",
    "    calc_alpha = lambda h: (0.1 + 0.2 * (float(h) / max_weight))*0.5\n",
    "    for u, v, data in _network.edges(data=True):\n",
    "        d['xs'].append([_layout[u][0], _layout[v][0]])\n",
    "        d['ys'].append([_layout[u][1], _layout[v][1]])\n",
    "        d['alphas'].append((calc_alpha(data['weight'])))\n",
    "        d['width'].append(np.log(data['weight']))\n",
    "        d['year'].append(int(year))\n",
    "    \n",
    "    return d"
   ]
  },
  {
   "cell_type": "code",
   "execution_count": 90,
   "metadata": {
    "collapsed": false
   },
   "outputs": [],
   "source": [
    "hover = HoverTool(tooltips=[('country','@country'),\n",
    "                            ('cluster','@cluster'),\n",
    "                            ('military expenditure','@military_expenditure'),\n",
    "                            ('largest tradepartner', '@largestpartner'),\n",
    "                            #('imports from', '@import'),\n",
    "                            #('exports from', '@export')\n",
    "                           ])\n",
    "\n",
    "plot = figure(plot_width=800, plot_height=600, tools=['pan','tap',hover,'box_zoom','reset','wheel_zoom','save'])\n",
    "\n",
    "layout = nx.spring_layout(mastergraph, k = 0.3)\n",
    "\n",
    "nodes = ColumnDataSource(get_nodes_specs(mastergraph, layout))\n",
    "edges = ColumnDataSource(get_edges_specs(mastergraph, layout))\n",
    "\n",
    "r_circles = plot.circle('x','y', source=nodes, size='size', color='color', level='overlay',alpha='alpha', name='country')\n",
    "r_lines = plot.multi_line('xs', 'ys', source=edges, line_width='width', alpha='alphas', color='navy')\n",
    "r_text = plot.text('x','y',source=nodes, text='country', alpha=0.9, text_font_size=\"7pt\", text_baseline=\"middle\", text_align=\"center\",level='overlay')\n"
   ]
  },
  {
   "cell_type": "code",
   "execution_count": 91,
   "metadata": {
    "collapsed": false
   },
   "outputs": [
    {
     "data": {
      "text/html": [
       "\n",
       "\n",
       "    <div class=\"bk-root\">\n",
       "        <div class=\"plotdiv\" id=\"8c1e71c1-749b-495f-9ca5-d1a7da797002\"></div>\n",
       "    </div>\n",
       "<script type=\"text/javascript\">\n",
       "  \n",
       "  (function(global) {\n",
       "    function now() {\n",
       "      return new Date();\n",
       "    }\n",
       "  \n",
       "    var force = \"\";\n",
       "  \n",
       "    if (typeof (window._bokeh_onload_callbacks) === \"undefined\" || force !== \"\") {\n",
       "      window._bokeh_onload_callbacks = [];\n",
       "      window._bokeh_is_loading = undefined;\n",
       "    }\n",
       "  \n",
       "  \n",
       "    \n",
       "    if (typeof (window._bokeh_timeout) === \"undefined\" || force !== \"\") {\n",
       "      window._bokeh_timeout = Date.now() + 0;\n",
       "      window._bokeh_failed_load = false;\n",
       "    }\n",
       "  \n",
       "    var NB_LOAD_WARNING = {'data': {'text/html':\n",
       "       \"<div style='background-color: #fdd'>\\n\"+\n",
       "       \"<p>\\n\"+\n",
       "       \"BokehJS does not appear to have successfully loaded. If loading BokehJS from CDN, this \\n\"+\n",
       "       \"may be due to a slow or bad network connection. Possible fixes:\\n\"+\n",
       "       \"</p>\\n\"+\n",
       "       \"<ul>\\n\"+\n",
       "       \"<li>re-rerun `output_notebook()` to attempt to load from CDN again, or</li>\\n\"+\n",
       "       \"<li>use INLINE resources instead, as so:</li>\\n\"+\n",
       "       \"</ul>\\n\"+\n",
       "       \"<code>\\n\"+\n",
       "       \"from bokeh.resources import INLINE\\n\"+\n",
       "       \"output_notebook(resources=INLINE)\\n\"+\n",
       "       \"</code>\\n\"+\n",
       "       \"</div>\"}};\n",
       "  \n",
       "    function display_loaded() {\n",
       "      if (window.Bokeh !== undefined) {\n",
       "        Bokeh.$(\"#8c1e71c1-749b-495f-9ca5-d1a7da797002\").text(\"BokehJS successfully loaded.\");\n",
       "      } else if (Date.now() < window._bokeh_timeout) {\n",
       "        setTimeout(display_loaded, 100)\n",
       "      }\n",
       "    }\n",
       "  \n",
       "    function run_callbacks() {\n",
       "      window._bokeh_onload_callbacks.forEach(function(callback) { callback() });\n",
       "      delete window._bokeh_onload_callbacks\n",
       "      console.info(\"Bokeh: all callbacks have finished\");\n",
       "    }\n",
       "  \n",
       "    function load_libs(js_urls, callback) {\n",
       "      window._bokeh_onload_callbacks.push(callback);\n",
       "      if (window._bokeh_is_loading > 0) {\n",
       "        console.log(\"Bokeh: BokehJS is being loaded, scheduling callback at\", now());\n",
       "        return null;\n",
       "      }\n",
       "      if (js_urls == null || js_urls.length === 0) {\n",
       "        run_callbacks();\n",
       "        return null;\n",
       "      }\n",
       "      console.log(\"Bokeh: BokehJS not loaded, scheduling load and callback at\", now());\n",
       "      window._bokeh_is_loading = js_urls.length;\n",
       "      for (var i = 0; i < js_urls.length; i++) {\n",
       "        var url = js_urls[i];\n",
       "        var s = document.createElement('script');\n",
       "        s.src = url;\n",
       "        s.async = false;\n",
       "        s.onreadystatechange = s.onload = function() {\n",
       "          window._bokeh_is_loading--;\n",
       "          if (window._bokeh_is_loading === 0) {\n",
       "            console.log(\"Bokeh: all BokehJS libraries loaded\");\n",
       "            run_callbacks()\n",
       "          }\n",
       "        };\n",
       "        s.onerror = function() {\n",
       "          console.warn(\"failed to load library \" + url);\n",
       "        };\n",
       "        console.log(\"Bokeh: injecting script tag for BokehJS library: \", url);\n",
       "        document.getElementsByTagName(\"head\")[0].appendChild(s);\n",
       "      }\n",
       "    };var element = document.getElementById(\"8c1e71c1-749b-495f-9ca5-d1a7da797002\");\n",
       "    if (element == null) {\n",
       "      console.log(\"Bokeh: ERROR: autoload.js configured with elementid '8c1e71c1-749b-495f-9ca5-d1a7da797002' but no matching script tag was found. \")\n",
       "      return false;\n",
       "    }\n",
       "  \n",
       "    var js_urls = [];\n",
       "  \n",
       "    var inline_js = [\n",
       "      function(Bokeh) {\n",
       "        Bokeh.$(function() {\n",
       "            var docs_json = {\"d833bb47-6539-4987-a6b4-4f2fa24bbf93\":{\"roots\":{\"references\":[{\"attributes\":{\"plot\":{\"id\":\"2f2d1ae3-f9a1-484d-8386-fc540faea630\",\"subtype\":\"Figure\",\"type\":\"Plot\"}},\"id\":\"972d6da3-d7db-4e2a-b3d3-6eea4a5f31a1\",\"type\":\"PanTool\"},{\"attributes\":{\"data_source\":{\"id\":\"b81b9e3d-c0f2-482f-9845-73179247a7ec\",\"type\":\"ColumnDataSource\"},\"glyph\":{\"id\":\"33d56e89-74e4-4cd0-adee-3367fab3b002\",\"type\":\"Text\"},\"hover_glyph\":null,\"level\":\"overlay\",\"nonselection_glyph\":{\"id\":\"5849f42c-1675-41d2-941f-e3d57c30d971\",\"type\":\"Text\"},\"selection_glyph\":null},\"id\":\"4c0f522f-8d7d-4f29-aada-6a226f24f691\",\"type\":\"GlyphRenderer\"},{\"attributes\":{\"line_alpha\":{\"field\":\"alphas\"},\"line_color\":{\"value\":\"navy\"},\"line_width\":{\"field\":\"width\"},\"xs\":{\"field\":\"xs\"},\"ys\":{\"field\":\"ys\"}},\"id\":\"efbf091a-a00b-45a2-bdaf-1aca43655368\",\"type\":\"MultiLine\"},{\"attributes\":{\"plot\":{\"id\":\"2f2d1ae3-f9a1-484d-8386-fc540faea630\",\"subtype\":\"Figure\",\"type\":\"Plot\"}},\"id\":\"084eb51b-f37f-4e8a-b31e-2d392a5e3843\",\"type\":\"SaveTool\"},{\"attributes\":{\"callback\":null,\"column_names\":[\"width\",\"ys\",\"year\",\"xs\",\"alphas\"],\"data\":{\"alphas\":[0.050041135335252986,0.05008227067050597,0.05008227067050597,0.05082270670505965,0.05777457836281366,0.050041135335252986,0.05555327025915262,0.05185109008638421,0.05131633072809544,0.05300287947346771,0.05407239819004525,0.06974496092143151,0.08591114767585356,0.05123406005758947,0.050411353352529824,0.06489099136157961,0.05102838338132456,0.05008227067050597,0.050041135335252986,0.06361579596873715,0.0506993006993007,0.05008227067050597,0.0502468120115179,0.05366104483751543,0.050575894693541755,0.0502468120115179,0.05049362402303579,0.0506993006993007,0.05065816536404772,0.051809954751131225,0.05008227067050597,0.0574454956807898,0.05032908268202386,0.051645413410119294,0.05020567667626492,0.058515014397367345,0.05193336075689017,0.051645413410119294,0.05008227067050597,0.050041135335252986,0.050164541341011934,0.05456602221308104,0.050164541341011934,0.05172768408062526,0.05255039078568491,0.052632661456190874,0.06048951048951049,0.07381735911147676,0.05053475935828877,0.051645413410119294,0.07237762237762238,0.05020567667626492,0.05020567667626492,0.05185109008638421,0.050164541341011934,0.05008227067050597,0.051645413410119294,0.050041135335252986,0.05115178938708351,0.05008227067050597,0.050041135335252986,0.06867544220485397,0.05082270670505965,0.05012340600575895,0.05049362402303579,0.0506993006993007,0.050041135335252986,0.05012340600575895,0.051522007404360345,0.05094611271081859,0.050041135335252986,0.0502468120115179,0.050041135335252986,0.05049362402303579,0.05032908268202386,0.050041135335252986,0.050411353352529824,0.052632661456190874,0.0548951048951049,0.05012340600575895,0.05580008227067051,0.055224187577128755,0.06172357054709996,0.15000000000000002,0.05065816536404772,0.05012340600575895,0.06760592348827643,0.05061703002879474,0.050041135335252986,0.05403126285479227,0.050575894693541755,0.05748663101604278,0.05168654874537228,0.05493624023035788,0.051809954751131225,0.06316330728095434,0.05271493212669683,0.05213903743315508,0.050411353352529824,0.052056766762649115,0.05131633072809544,0.052632661456190874,0.05115178938708351,0.05448375154257507,0.0520979020979021,0.05045248868778281,0.05020567667626492,0.05259152612093789,0.05032908268202386,0.05053475935828877,0.0506993006993007,0.05020567667626492,0.0502468120115179,0.05612916495269437,0.05053475935828877,0.05703414232825998,0.05020567667626492,0.06044837515425751,0.05032908268202386,0.08414232825997532,0.05008227067050597,0.05436034553681613,0.05008227067050597,0.050041135335252986,0.06949814890991363,0.050863842040312635,0.05686960098724805,0.051110654051830524,0.050411353352529824,0.07464006581653641,0.05008227067050597,0.05510078157136981,0.050041135335252986,0.05131633072809544,0.050041135335252986,0.0520979020979021,0.05037021801727684,0.06151789387083505,0.05008227067050597,0.05012340600575895,0.05686960098724805,0.05082270670505965,0.052879473467708764,0.05740436034553682,0.050411353352529824,0.05008227067050597,0.05106951871657754,0.05032908268202386,0.050041135335252986,0.05255039078568491,0.05020567667626492,0.05008227067050597,0.09664747017688194,0.05061703002879474,0.05123406005758947,0.0850884409707939,0.05830933772110243,0.050164541341011934,0.05045248868778281,0.050041135335252986,0.051522007404360345,0.05571781160016454,0.05292060880296175,0.05008227067050597,0.05020567667626492],\"width\":[0.0,0.6931471805599453,0.6931471805599453,2.995732273553991,5.241747015059643,0.0,4.90527477843843,3.8066624897703196,3.4657359027997265,4.290459441148391,4.59511985013459,6.173786103901937,6.771935555839602,3.4011973816621555,2.302585092994046,5.8916442118257715,3.2188758248682006,0.6931471805599453,0.0,5.802118375377063,2.833213344056216,0.6931471805599453,1.791759469228055,4.48863636973214,2.6390573296152584,1.791759469228055,2.4849066497880004,2.833213344056216,2.772588722239781,3.784189633918261,0.6931471805599453,5.198497031265826,2.0794415416798357,3.6888794541139363,1.6094379124341003,5.332718793265369,3.8501476017100584,3.6888794541139363,0.6931471805599453,0.0,1.3862943611198906,4.709530201312334,1.3862943611198906,3.7376696182833684,4.127134385045092,4.1588830833596715,5.541263545158426,6.361302477572996,2.5649493574615367,3.6888794541139363,6.298949246855942,1.6094379124341003,1.6094379124341003,3.8066624897703196,1.3862943611198906,0.6931471805599453,3.6888794541139363,0.0,3.332204510175204,0.6931471805599453,0.0,6.118097198041348,2.995732273553991,1.0986122886681098,2.4849066497880004,2.833213344056216,0.0,1.0986122886681098,3.6109179126442243,3.1354942159291497,0.0,1.791759469228055,0.0,2.4849066497880004,2.0794415416798357,0.0,2.302585092994046,4.1588830833596715,4.77912349311153,1.0986122886681098,4.948759890378168,4.844187086458591,5.652489180268651,7.796057974316123,2.772588722239781,1.0986122886681098,6.059123195581797,2.70805020110221,0.0,4.584967478670572,2.6390573296152584,5.204006687076795,3.713572066704308,4.787491742782046,3.784189633918261,5.768320995793772,4.189654742026425,3.9512437185814275,2.302585092994046,3.912023005428146,3.4657359027997265,4.1588830833596715,3.332204510175204,4.6913478822291435,3.9318256327243257,2.3978952727983707,1.6094379124341003,4.143134726391533,2.0794415416798357,2.5649493574615367,2.833213344056216,1.6094379124341003,1.791759469228055,5.003946305945459,2.5649493574615367,5.14166355650266,1.6094379124341003,5.537334267018537,2.0794415416798357,6.721425700790643,0.6931471805599453,4.663439094112067,0.6931471805599453,0.0,6.161207321695077,3.044522437723423,5.117993812416755,3.295836866004329,2.302585092994046,6.395261598115449,0.6931471805599453,4.820281565605037,0.0,3.4657359027997265,0.0,3.9318256327243257,2.1972245773362196,5.634789603169249,0.6931471805599453,1.0986122886681098,5.117993812416755,2.995732273553991,4.248495242049359,5.19295685089021,2.302585092994046,0.6931471805599453,3.258096538021482,2.0794415416798357,0.0,4.127134385045092,1.6094379124341003,0.6931471805599453,7.033506484287697,2.70805020110221,3.4011973816621555,6.748759547491679,5.308267697401205,1.3862943611198906,2.3978952727983707,0.0,3.6109179126442243,4.9344739331306915,4.2626798770413155,0.6931471805599453,1.6094379124341003],\"xs\":[[0.49097870883347317,0.7993129891754666],[0.49097870883347317,0.4378887700462853],[0.49097870883347317,0.4262063109356349],[0.49097870883347317,0.6111017921348315],[0.49097870883347317,0.5328028715778477],[0.49097870883347317,0.6167765358881234],[0.5835678762660416,0.7050303806440904],[0.5835678762660416,0.7556132814069532],[0.5835678762660416,0.6182157406482207],[0.5835678762660416,0.5358855867525028],[0.5835678762660416,0.4262063109356349],[0.5835678762660416,0.6111017921348315],[0.5835678762660416,0.5328028715778477],[0.5835678762660416,0.72756188384762],[0.5835678762660416,0.5690521259518188],[0.5835678762660416,0.637352218380986],[0.5835678762660416,0.4264628347529498],[0.5835678762660416,0.47768448981193423],[0.3556078553663505,0.6111017921348315],[0.1321683711102399,0.1998896649468377],[0.34399934617903083,0.5328028715778477],[0.34399934617903083,0.72756188384762],[0.34399934617903083,0.3810844085400547],[0.5097710940122886,0.5328028715778477],[0.5097710940122886,0.6111017921348315],[0.010215107664703025,0.17102399635943716],[0.9566303884963443,0.7050303806440904],[0.6628933951848541,0.5328028715778477],[0.7264590230704253,0.5328028715778477],[0.9360391517951336,0.7050303806440904],[0.47768448981193423,0.07989965595348933],[0.47768448981193423,0.5328028715778477],[0.47768448981193423,0.5358855867525028],[0.47768448981193423,0.6111017921348315],[0.6182157406482207,0.686307959446362],[0.6182157406482207,0.5328028715778477],[0.6182157406482207,0.7050303806440904],[0.6182157406482207,0.6111017921348315],[0.9051047305120321,0.6846542607199131],[0.9149250479209614,0.7050303806440904],[0.846192153604702,0.5328028715778477],[0.846192153604702,0.7050303806440904],[0.846192153604702,0.5358855867525028],[0.5267374640848488,0.5328028715778477],[0.1446087674788972,0.1998896649468377],[0.021518093188249536,0.1998896649468377],[0.5271454994698458,0.5328028715778477],[0.4830105177150684,0.5328028715778477],[0.4830105177150684,0.4264628347529498],[0.03295827080306331,0.1998896649468377],[0.7780571408274227,0.7050303806440904],[0.1932603887018609,0.18833959260725439],[0.1932603887018609,0.1998896649468377],[0.6111017921348315,0.686307959446362],[0.6111017921348315,0.6851701765534254],[0.6111017921348315,0.4264628347529498],[0.6111017921348315,0.7556132814069532],[0.6111017921348315,0.8665275806407898],[0.6111017921348315,0.6846542607199131],[0.6111017921348315,0.9973689877458122],[0.6111017921348315,0.34893908642160787],[0.6111017921348315,0.5328028715778477],[0.6111017921348315,0.2694715194146406],[0.6111017921348315,0.72756188384762],[0.6111017921348315,0.637352218380986],[0.6111017921348315,0.8267252120928645],[0.6111017921348315,0.3740922208303773],[0.6111017921348315,0.7832753037775367],[0.6111017921348315,0.8090911576494592],[0.6111017921348315,0.7050303806440904],[0.6111017921348315,0.6167765358881234],[0.6111017921348315,0.9557004624330415],[0.6111017921348315,0.8046262300569541],[0.6111017921348315,0.3810844085400547],[0.6111017921348315,0.5291486283091538],[0.6111017921348315,0.43750795565195694],[0.23815980030460085,0.5358855867525028],[0.6851701765534254,0.5328028715778477],[0.6851701765534254,0.7050303806440904],[0.5980741295420015,0.5328028715778477],[0.4264628347529498,0.5328028715778477],[0.06629593056400174,0.1998896649468377],[0.18486481465207638,0.12643942378198395],[0.18486481465207638,0.1998896649468377],[0.5756513216151495,0.5328028715778477],[0.5756513216151495,0.72756188384762],[0.46329753424892384,0.5328028715778477],[0.34893908642160787,0.7050303806440904],[0.34893908642160787,0.72756188384762],[0.34893908642160787,0.1998896649468377],[0.7588779573182038,0.7050303806440904],[0.4262063109356349,0.5328028715778477],[0.4262063109356349,0.7050303806440904],[0.4262063109356349,0.1998896649468377],[0.5139291652522974,0.5328028715778477],[0.5328028715778477,0.5358855867525028],[0.5328028715778477,0.5373801526123662],[0.5328028715778477,0.6450838486812919],[0.5328028715778477,0.7993129891754666],[0.5328028715778477,0.6431144413110492],[0.5328028715778477,0.7598543881410686],[0.5328028715778477,0.6846542607199131],[0.5328028715778477,0.6561346824668252],[0.5328028715778477,0.3241245386980241],[0.5328028715778477,0.3987964256786924],[0.5328028715778477,0.72756188384762],[0.5328028715778477,0.06792027197870162],[0.5328028715778477,0.686307959446362],[0.5328028715778477,0.4378887700462853],[0.5328028715778477,0.8267252120928645],[0.5328028715778477,0.17102399635943716],[0.5328028715778477,0.8090911576494592],[0.5328028715778477,0.5342591522605484],[0.5328028715778477,0.7050303806440904],[0.5328028715778477,0.6167765358881234],[0.5328028715778477,0.3810844085400547],[0.5328028715778477,0.17064443184624667],[0.5328028715778477,0.5690521259518188],[0.5328028715778477,0.5115315574192701],[0.5328028715778477,0.5291486283091538],[0.5328028715778477,0.28611481387463716],[0.72756188384762,0.7050303806440904],[0.72756188384762,0.8090911576494592],[0.72756188384762,0.9557004624330415],[0.23343557417498892,0.1998896649468377],[0.14160241867479423,0.22360561398980744],[0.14160241867479423,0.1998896649468377],[0.7832753037775367,0.637352218380986],[0.7832753037775367,0.7050303806440904],[0.1424153660381276,0.1998896649468377],[0.686307959446362,0.5115315574192701],[0.686307959446362,0.7050303806440904],[0.08226110934670212,0.22360561398980744],[0.08226110934670212,0.1998896649468377],[0.030560134202603877,0.7050303806440904],[0.6450838486812919,0.7050303806440904],[0.6450838486812919,0.5358855867525028],[0.7598543881410686,0.7050303806440904],[0.6846542607199131,0.9851101750306439],[0.20315305664306416,0.2694715194146406],[0.20315305664306416,0.1998896649468377],[0.3241245386980241,0.0],[0.637352218380986,0.5358855867525028],[0.637352218380986,0.7050303806440904],[0.637352218380986,0.5291486283091538],[0.8267252120928645,0.7050303806440904],[0.988964108314412,0.7050303806440904],[0.8680652800457113,0.7050303806440904],[0.8680652800457113,0.1998896649468377],[0.7556132814069532,0.7050303806440904],[0.13170403588372692,0.7050303806440904],[0.22360561398980744,0.07989965595348933],[0.22360561398980744,0.1998896649468377],[0.9828326564460339,0.7050303806440904],[0.9694982172801674,0.7050303806440904],[0.18833959260725439,0.1998896649468377],[0.12643942378198395,0.1998896649468377],[0.7172726305339826,0.7050303806440904],[0.5291486283091538,0.7050303806440904],[0.5291486283091538,0.4378887700462853],[0.23541040281364659,0.1998896649468377],[0.1998896649468377,0.07989965595348933],[0.1998896649468377,0.3810844085400547],[0.4378887700462853,0.7050303806440904],[0.7050303806440904,0.3810844085400547]],\"year\":[1960,1960,1960,1960,1960,1960,1960,1960,1960,1960,1960,1960,1960,1960,1960,1960,1960,1960,1960,1960,1960,1960,1960,1960,1960,1960,1960,1960,1960,1960,1960,1960,1960,1960,1960,1960,1960,1960,1960,1960,1960,1960,1960,1960,1960,1960,1960,1960,1960,1960,1960,1960,1960,1960,1960,1960,1960,1960,1960,1960,1960,1960,1960,1960,1960,1960,1960,1960,1960,1960,1960,1960,1960,1960,1960,1960,1960,1960,1960,1960,1960,1960,1960,1960,1960,1960,1960,1960,1960,1960,1960,1960,1960,1960,1960,1960,1960,1960,1960,1960,1960,1960,1960,1960,1960,1960,1960,1960,1960,1960,1960,1960,1960,1960,1960,1960,1960,1960,1960,1960,1960,1960,1960,1960,1960,1960,1960,1960,1960,1960,1960,1960,1960,1960,1960,1960,1960,1960,1960,1960,1960,1960,1960,1960,1960,1960,1960,1960,1960,1960,1960,1960,1960,1960,1960,1960,1960,1960,1960,1960,1960,1960,1960,1960,1960],\"ys\":[[0.452299249548916,0.10260799144816792],[0.452299249548916,0.9533231808593496],[0.452299249548916,0.4437310237718561],[0.452299249548916,0.5416302379507417],[0.452299249548916,0.5334918367119801],[0.452299249548916,0.05972186173951126],[0.5522222467293305,0.556215925147305],[0.5522222467293305,0.47427934965381807],[0.5522222467293305,0.48546788635222793],[0.5522222467293305,0.6300885685389325],[0.5522222467293305,0.4437310237718561],[0.5522222467293305,0.5416302379507417],[0.5522222467293305,0.5334918367119801],[0.5522222467293305,0.6685856011520004],[0.5522222467293305,0.4470009800457144],[0.5522222467293305,0.616987856276588],[0.5522222467293305,0.6026495060569936],[0.5522222467293305,0.615305522346598],[0.020042953725967944,0.5416302379507417],[0.2806996066705484,0.3216297060768796],[0.8287298581952857,0.5334918367119801],[0.8287298581952857,0.6685856011520004],[0.8287298581952857,0.4661518318084293],[0.6996585113959591,0.5334918367119801],[0.6996585113959591,0.5416302379507417],[0.6260289469748627,0.7244354769219771],[0.7022031665287689,0.556215925147305],[0.932467923132941,0.5334918367119801],[0.1355157996466287,0.5334918367119801],[0.6362130685419923,0.556215925147305],[0.615305522346598,0.30892347744711474],[0.615305522346598,0.5334918367119801],[0.615305522346598,0.6300885685389325],[0.615305522346598,0.5416302379507417],[0.48546788635222793,0.5072934270653816],[0.48546788635222793,0.5334918367119801],[0.48546788635222793,0.556215925147305],[0.48546788635222793,0.5416302379507417],[0.21371263430357074,0.4026333058146241],[0.7778605160681386,0.556215925147305],[0.5751011929581267,0.5334918367119801],[0.5751011929581267,0.556215925147305],[0.5751011929581267,0.6300885685389325],[0.2528350884931995,0.5334918367119801],[0.16601858687331886,0.3216297060768796],[0.40029545802211913,0.3216297060768796],[0.42855016517154426,0.5334918367119801],[0.5133254068714423,0.5334918367119801],[0.5133254068714423,0.6026495060569936],[0.3218483847084025,0.3216297060768796],[0.5433477308705462,0.556215925147305],[0.0987502236408297,0.27604152079188937],[0.0987502236408297,0.3216297060768796],[0.5416302379507417,0.5072934270653816],[0.5416302379507417,0.6227192950384324],[0.5416302379507417,0.6026495060569936],[0.5416302379507417,0.47427934965381807],[0.5416302379507417,0.8430085243979002],[0.5416302379507417,0.4026333058146241],[0.5416302379507417,0.5432273857054274],[0.5416302379507417,0.3086271802525179],[0.5416302379507417,0.5334918367119801],[0.5416302379507417,0.6697472837433539],[0.5416302379507417,0.6685856011520004],[0.5416302379507417,0.616987856276588],[0.5416302379507417,0.348098205104187],[0.5416302379507417,0.9893601696473427],[0.5416302379507417,0.814895668609826],[0.5416302379507417,0.7206066005647679],[0.5416302379507417,0.556215925147305],[0.5416302379507417,0.05972186173951126],[0.5416302379507417,0.296350131123565],[0.5416302379507417,0.8974991235072074],[0.5416302379507417,0.4661518318084293],[0.5416302379507417,0.5726947575305067],[0.5416302379507417,5.768720358812563e-06],[0.93068353706049,0.6300885685389325],[0.6227192950384324,0.5334918367119801],[0.6227192950384324,0.556215925147305],[0.9910929592091694,0.5334918367119801],[0.6026495060569936,0.5334918367119801],[0.3749779531822563,0.3216297060768796],[0.3529239802326145,0.3766916744007338],[0.3529239802326145,0.3216297060768796],[0.9356277735628414,0.5334918367119801],[0.9356277735628414,0.6685856011520004],[0.5516581104486856,0.5334918367119801],[0.3086271802525179,0.556215925147305],[0.3086271802525179,0.6685856011520004],[0.3086271802525179,0.3216297060768796],[0.9251135079067064,0.556215925147305],[0.4437310237718561,0.5334918367119801],[0.4437310237718561,0.556215925147305],[0.4437310237718561,0.3216297060768796],[0.795816616009835,0.5334918367119801],[0.5334918367119801,0.6300885685389325],[0.5334918367119801,0.3271849677225802],[0.5334918367119801,0.7025562436553418],[0.5334918367119801,0.10260799144816792],[0.5334918367119801,0.31344240917819916],[0.5334918367119801,0.5893470656332793],[0.5334918367119801,0.4026333058146241],[0.5334918367119801,0.218278593475882],[0.5334918367119801,0.5681184064337342],[0.5334918367119801,0.7314037873569863],[0.5334918367119801,0.6685856011520004],[0.5334918367119801,0.7592912453158972],[0.5334918367119801,0.5072934270653816],[0.5334918367119801,0.9533231808593496],[0.5334918367119801,0.348098205104187],[0.5334918367119801,0.7244354769219771],[0.5334918367119801,0.7206066005647679],[0.5334918367119801,0.0],[0.5334918367119801,0.556215925147305],[0.5334918367119801,0.05972186173951126],[0.5334918367119801,0.4661518318084293],[0.5334918367119801,0.8815678855763284],[0.5334918367119801,0.4470009800457144],[0.5334918367119801,1.0],[0.5334918367119801,0.5726947575305067],[0.5334918367119801,0.9573768651455793],[0.6685856011520004,0.556215925147305],[0.6685856011520004,0.7206066005647679],[0.6685856011520004,0.296350131123565],[0.26265020503387754,0.3216297060768796],[0.23192766785012206,0.32936800558190715],[0.23192766785012206,0.3216297060768796],[0.814895668609826,0.616987856276588],[0.814895668609826,0.556215925147305],[0.3234703911346639,0.3216297060768796],[0.5072934270653816,1.0],[0.5072934270653816,0.556215925147305],[0.22334830376676515,0.32936800558190715],[0.22334830376676515,0.3216297060768796],[0.6886423746101679,0.556215925147305],[0.7025562436553418,0.556215925147305],[0.7025562436553418,0.6300885685389325],[0.5893470656332793,0.556215925147305],[0.4026333058146241,0.6036958110902889],[0.21001079375916973,0.6697472837433539],[0.21001079375916973,0.3216297060768796],[0.5681184064337342,0.5682177913754398],[0.616987856276588,0.6300885685389325],[0.616987856276588,0.556215925147305],[0.616987856276588,0.5726947575305067],[0.348098205104187,0.556215925147305],[0.49413833880806846,0.556215925147305],[0.16244234049133183,0.556215925147305],[0.16244234049133183,0.3216297060768796],[0.47427934965381807,0.556215925147305],[0.8442655751580923,0.556215925147305],[0.32936800558190715,0.30892347744711474],[0.32936800558190715,0.3216297060768796],[0.3809544604590044,0.556215925147305],[0.4448168023902832,0.556215925147305],[0.27604152079188937,0.3216297060768796],[0.3766916744007338,0.3216297060768796],[0.047867314440454264,0.556215925147305],[0.5726947575305067,0.556215925147305],[0.5726947575305067,0.9533231808593496],[0.0881261138266354,0.3216297060768796],[0.3216297060768796,0.30892347744711474],[0.3216297060768796,0.4661518318084293],[0.9533231808593496,0.556215925147305],[0.556215925147305,0.4661518318084293]]}},\"id\":\"9715f931-c500-48ad-8f6b-0942c90586cf\",\"type\":\"ColumnDataSource\"},{\"attributes\":{},\"id\":\"44551bad-81fe-4bec-b0d6-7456ef7fe287\",\"type\":\"ToolEvents\"},{\"attributes\":{\"callback\":null,\"column_names\":[\"largestpartner\",\"countrycode\",\"alpha\",\"color\",\"country\",\"military_expenditure\",\"cluster\",\"totaltrade\",\"year\",\"y\",\"x\",\"size\"],\"data\":{\"alpha\":[0.7,0.7,0.2,0.7,0.2,0.7,0.2,0.7,0.2,0.7,0.2,0.7,0.7,0.2,0.2,0.7,0.7,0.2,0.2,0.7,0.7,0.2,0.7,0.2,0.7,0.2,0.7,0.2,0.7,0.2,0.2,0.2,0.7,0.2,0.7,0.2,0.2,0.2,0.7,0.7,0.2,0.2,0.2,0.7,0.2,0.7,0.2,0.2,0.7,0.2,0.7,0.7,0.7,0.7,0.7,0.7,0.7,0.2,0.7,0.7,0.7,0.7,0.7,0.2,0.7,0.2,0.2,0.7,0.2,0.2,0.7,0.7,0.7,0.7,0.7,0.2,0.7,0.2,0.2,0.2,0.2,0.2,0.7,0.7,0.2,0.2,0.7,0.7,0.2,0.7,0.2,0.2,0.7,0.7],\"cluster\":[0,0,0,1,0,0,0,2,0,0,2,0,0,0,2,2,0,1,1,0,0,1,2,1,0,0,2,0,0,1,0,1,0,0,1,2,0,0,0,2,1,1,0,0,0,0,1,0,2,1,2,0,2,0,2,0,0,0,1,0,0,0,0,0,0,0,0,0,0,2,0,2,0,2,2,0,1,2,2,1,0,1,2,0,1,1,0,0,1,2,0,0,0,0],\"color\":[\"#e41a1c\",\"#e41a1c\",\"#e41a1c\",\"#377eb8\",\"#e41a1c\",\"#e41a1c\",\"#e41a1c\",\"#4daf4a\",\"#e41a1c\",\"#e41a1c\",\"#4daf4a\",\"#e41a1c\",\"#e41a1c\",\"#e41a1c\",\"#4daf4a\",\"#4daf4a\",\"#e41a1c\",\"#377eb8\",\"#377eb8\",\"#e41a1c\",\"#e41a1c\",\"#377eb8\",\"#4daf4a\",\"#377eb8\",\"#e41a1c\",\"#e41a1c\",\"#4daf4a\",\"#e41a1c\",\"#e41a1c\",\"#377eb8\",\"#e41a1c\",\"#377eb8\",\"#e41a1c\",\"#e41a1c\",\"#377eb8\",\"#4daf4a\",\"#e41a1c\",\"#e41a1c\",\"#e41a1c\",\"#4daf4a\",\"#377eb8\",\"#377eb8\",\"#e41a1c\",\"#e41a1c\",\"#e41a1c\",\"#e41a1c\",\"#377eb8\",\"#e41a1c\",\"#4daf4a\",\"#377eb8\",\"#4daf4a\",\"#e41a1c\",\"#4daf4a\",\"#e41a1c\",\"#4daf4a\",\"#e41a1c\",\"#e41a1c\",\"#e41a1c\",\"#377eb8\",\"#e41a1c\",\"#e41a1c\",\"#e41a1c\",\"#e41a1c\",\"#e41a1c\",\"#e41a1c\",\"#e41a1c\",\"#e41a1c\",\"#e41a1c\",\"#e41a1c\",\"#4daf4a\",\"#e41a1c\",\"#4daf4a\",\"#e41a1c\",\"#4daf4a\",\"#4daf4a\",\"#e41a1c\",\"#377eb8\",\"#4daf4a\",\"#4daf4a\",\"#377eb8\",\"#e41a1c\",\"#377eb8\",\"#4daf4a\",\"#e41a1c\",\"#377eb8\",\"#377eb8\",\"#e41a1c\",\"#e41a1c\",\"#377eb8\",\"#4daf4a\",\"#e41a1c\",\"#e41a1c\",\"#e41a1c\",\"#e41a1c\"],\"country\":[\"Canada\",\"Germany (FRG)\",\"Cambodia\",\"East Germany (GDR)\",\"Ethiopia\",\"Argentina\",\"Bolivia\",\"Ghana\",\"Saudi Arabia\",\"Guatemala\",\"Kuwait\",\"Spain\",\"Netherlands\",\"DR Congo\",\"Oman\",\"New Zealand\",\"Pakistan\",\"Albania\",\"Viet Nam\",\"South Korea\",\"Turkey\",\"Afghanistan\",\"India\",\"Mongolia\",\"France\",\"Somalia\",\"Peru\",\"Laos\",\"Norway\",\"Cuba\",\"Togo\",\"China\",\"Dominican Republic\",\"Taiwan (ROC)\",\"Finland\",\"Libya\",\"Indonesia\",\"South Vietnam\",\"United States\",\"Sweden\",\"Bulgaria\",\"Romania\",\"Chad\",\"South Africa\",\"United Nations**\",\"Austria\",\"Hungary\",\"Niger\",\"Brazil\",\"Guinea\",\"Ireland\",\"Ecuador\",\"Australia\",\"Iran\",\"Chile\",\"Belgium\",\"Thailand\",\"Haiti\",\"Iraq\",\"Denmark\",\"Philippines\",\"Morocco\",\"Switzerland\",\"Katanga\",\"Portugal\",\"Uruguay\",\"Tunisia\",\"Colombia\",\"Nicaragua\",\"NATO**\",\"Italy\",\"Sudan\",\"Venezuela\",\"Israel\",\"Malaysia\",\"Iceland\",\"Czechoslovakia\",\"Zimbabwe\",\"Jordan\",\"Poland\",\"Mauritania\",\"North Korea\",\"Sri Lanka\",\"Japan\",\"Syria\",\"Soviet Union\",\"Myanmar\",\"Mexico\",\"Egypt\",\"United Kingdom\",\"Congo\",\"Yugoslavia\",\"Greece\",\"Paraguay\"],\"countrycode\":[\"CAN\",\"FRG\",\"CMB\",\"GDR\",\"ETH\",\"ARG\",\"BOL\",\"GHA\",\"SAU\",\"GUA\",\"KUW\",\"SPA\",\"NET\",\"DRC\",\"OMA\",\"NZ\",\"PAK\",\"ALB\",\"VN\",\"KOS\",\"TUR\",\"AFG\",\"IND\",\"MON\",\"FRA\",\"SOM\",\"PER\",\"LAO\",\"NOR\",\"CUB\",\"TOG\",\"CHI\",\"DOM\",\"TAI\",\"FIN\",\"LYA\",\"INS\",\"VNS\",\"USA\",\"SWE\",\"BUL\",\"ROM\",\"CHA\",\"SA\",\"UNO\",\"AST\",\"HUN\",\"NIR\",\"BRA\",\"GUI\",\"IRE\",\"ECU\",\"AUS\",\"IRA\",\"CHE\",\"BEL\",\"THA\",\"HAI\",\"IRQ\",\"DEN\",\"PHI\",\"MOR\",\"SWI\",\"KAT\",\"POR\",\"URU\",\"TUN\",\"COL\",\"NIC\",\"NAT\",\"ITA\",\"SUD\",\"VEN\",\"ISR\",\"MAL\",\"ICE\",\"CZE\",\"ZIM\",\"JOR\",\"POL\",\"MRA\",\"KON\",\"SRI\",\"JAP\",\"SYR\",\"USR\",\"MYA\",\"MEX\",\"EGY\",\"UK\",\"CON\",\"YUG\",\"GRE\",\"PAR\"],\"largestpartner\":[\"United States\",\"United States\",\"France\",\"Soviet Union\",\"United States\",\"United States\",\"Uruguay\",\"United Kingdom\",\"United States\",\"United States\",\"United Kingdom\",\"United States\",\"United States\",\"Belgium\",\"United Kingdom\",\"United Kingdom\",\"United States\",\"Soviet Union\",\"Soviet Union\",\"United States\",\"United States\",\"Soviet Union\",\"United Kingdom\",\"Soviet Union\",\"Germany (FRG)\",\"Italy\",\"United Kingdom\",\"United States\",\"United States\",\"Soviet Union\",\"France\",\"Soviet Union\",\"United States\",\"United States\",\"Soviet Union\",\"United Kingdom\",\"United States\",\"United States\",\"Germany (FRG)\",\"United Kingdom\",\"Soviet Union\",\"Soviet Union\",\"France\",\"Switzerland\",\"United States\",\"France\",\"Soviet Union\",\"France\",\"United Kingdom\",\"Soviet Union\",\"United Kingdom\",\"United States\",\"United States\",\"United States\",\"United Kingdom\",\"United States\",\"United States\",\"United States\",\"Soviet Union\",\"United States\",\"United States\",\"France\",\"Germany (FRG)\",\"Belgium\",\"France\",\"United States\",\"France\",\"United States\",\"United States\",\"United Kingdom\",\"United States\",\"United Kingdom\",\"United States\",\"United Kingdom\",\"United Kingdom\",\"Denmark\",\"Soviet Union\",\"United Kingdom\",\"United Kingdom\",\"Soviet Union\",\"France\",\"China\",\"United Kingdom\",\"United States\",\"Soviet Union\",\"China\",\"United States\",\"United States\",\"Soviet Union\",\"India\",\"France\",\"United States\",\"United States\",\"United States\"],\"military_expenditure\":[\"6639.6\",\"19588.5\",\"NaN\",\"357.5\",\"NaN\",\"616.4\",\"NaN\",\"42.7\",\"NaN\",\"58.5\",\"NaN\",\"2329.4\",\"3785.7\",\"NaN\",\"NaN\",\"713.6\",\"374.5\",\"NaN\",\"NaN\",\"455.0\",\"1161.7\",\"NaN\",\"1592.9\",\"NaN\",\"21772.4\",\"NaN\",\"726.8\",\"NaN\",\"1095.7\",\"NaN\",\"NaN\",\"NaN\",\"129.7\",\"NaN\",\"486.7\",\"NaN\",\"NaN\",\"NaN\",\"200412.8\",\"2467.7\",\"NaN\",\"NaN\",\"NaN\",\"187.8\",\"NaN\",\"781.4\",\"NaN\",\"NaN\",\"1300.8\",\"NaN\",\"177.2\",\"72.5\",\"2824.8\",\"287.1\",\"138.5\",\"2416.1\",\"246.7\",\"NaN\",\"172.9\",\"1416.1\",\"318.2\",\"145.4\",\"2179.4\",\"NaN\",\"930.3\",\"NaN\",\"NaN\",\"271.8\",\"NaN\",\"NaN\",\"6959.3\",\"146.4\",\"1304.8\",\"634.5\",\"137.4\",\"NaN\",\"1545.7\",\"NaN\",\"NaN\",\"NaN\",\"NaN\",\"NaN\",\"28.6\",\"4959.7\",\"NaN\",\"NaN\",\"251.8\",\"393.2\",\"NaN\",\"25561.3\",\"NaN\",\"NaN\",\"1005.5\",\"31.8\"],\"size\":[7.3706380281276624,9.680637427560935,2.0,7.802118375377063,5.218875824868201,6.634728988229636,3.791759469228055,4.484906649788,4.833213344056216,4.772588722239782,5.7841896339182615,7.4510384535657,7.802118375377063,2.6931471805599454,2.0,6.77912349311153,5.737669618283368,6.127134385045092,6.1588830833596715,7.541263545158426,8.383506634884005,5.688879454113936,8.298949246855942,4.302585092994046,9.18311170174328,4.302585092994046,7.231108616854587,3.09861228866811,7.198497031265826,6.844187086458591,2.0,9.906915488678587,4.94443897916644,8.059123195581797,6.74493212836325,4.639057329615259,8.095824562432224,5.7841896339182615,10.723068501163928,7.0689042022202315,8.161207321695077,7.236441962829949,2.0,5.688879454113936,4.7080502011022105,3.9459101490553135,8.39526159811545,2.0,7.476463551931511,5.49650756146648,2.0,6.189654742026425,6.718498871295094,4.397895272798371,7.7430031878094825,6.564348191467836,5.332204510175204,3.6094379124341005,7.135798437050262,6.859812404361672,5.931825632724326,5.13549421592915,8.493753839851685,2.6931471805599454,5.465735902799727,5.13549421592915,5.7841896339182615,3.6094379124341005,2.6931471805599454,5.258096538021482,8.202535517187922,4.19722457733622,5.912023005428146,6.990432586778736,3.6094379124341005,4.99573227355399,9.05444965813294,4.7080502011022105,5.401197381662156,8.754604099487963,2.6931471805599454,8.18826412308259,3.386294361119891,8.756932389247552,5.610917912644224,10.875426919818963,4.564949357461536,3.791759469228055,6.962844630259907,9.685703061234548,2.0,7.579729825986222,7.575949103146316,4.302585092994046],\"totaltrade\":[215.0,2166.0,1.0,331.0,25.0,103.0,6.0,12.0,17.0,16.0,44.0,233.0,331.0,2.0,1.0,119.0,42.0,62.0,64.0,255.0,592.0,40.0,544.0,10.0,1317.0,10.0,187.0,3.0,181.0,127.0,1.0,2716.0,19.0,428.0,115.0,14.0,444.0,44.0,6143.0,159.0,474.0,188.0,1.0,40.0,15.0,7.0,599.0,1.0,239.0,33.0,1.0,66.0,112.0,11.0,312.0,96.0,28.0,5.0,170.0,129.0,51.0,23.0,661.0,2.0,32.0,23.0,44.0,5.0,2.0,26.0,494.0,9.0,50.0,147.0,5.0,20.0,1158.0,15.0,30.0,858.0,2.0,487.0,4.0,860.0,37.0,7154.0,13.0,6.0,143.0,2177.0,1.0,265.0,264.0,10.0],\"x\":[0.49097870883347317,0.5835678762660416,0.3556078553663505,0.1321683711102399,0.34399934617903083,0.5097710940122886,0.010215107664703025,0.9566303884963443,0.6628933951848541,0.7264590230704253,0.9360391517951336,0.47768448981193423,0.6182157406482207,0.9051047305120321,0.9149250479209614,0.846192153604702,0.5267374640848488,0.1446087674788972,0.021518093188249536,0.5271454994698458,0.4830105177150684,0.03295827080306331,0.7780571408274227,0.1932603887018609,0.6111017921348315,0.23815980030460085,0.6851701765534254,0.5980741295420015,0.4264628347529498,0.06629593056400174,0.8665275806407898,0.18486481465207638,0.5756513216151495,0.46329753424892384,0.34893908642160787,0.7588779573182038,0.4262063109356349,0.5139291652522974,0.5328028715778477,0.72756188384762,0.23343557417498892,0.14160241867479423,0.3740922208303773,0.7832753037775367,0.6167765358881234,0.9557004624330415,0.1424153660381276,0.43750795565195694,0.686307959446362,0.08226110934670212,0.030560134202603877,0.5373801526123662,0.6450838486812919,0.7993129891754666,0.7598543881410686,0.6846542607199131,0.6561346824668252,0.06792027197870162,0.20315305664306416,0.3241245386980241,0.3987964256786924,0.2694715194146406,0.637352218380986,0.9851101750306439,0.8267252120928645,0.17102399635943716,0.8090911576494592,0.17064443184624667,0.28611481387463716,0.988964108314412,0.5358855867525028,0.8680652800457113,0.6431144413110492,0.7556132814069532,0.13170403588372692,0.0,0.22360561398980744,0.9828326564460339,0.9694982172801674,0.18833959260725439,0.9973689877458122,0.12643942378198395,0.7172726305339826,0.5291486283091538,0.23541040281364659,0.1998896649468377,0.4378887700462853,0.5342591522605484,0.07989965595348933,0.7050303806440904,0.8046262300569541,0.3810844085400547,0.5690521259518188,0.5115315574192701],\"y\":[0.452299249548916,0.5522222467293305,0.020042953725967944,0.2806996066705484,0.8287298581952857,0.6996585113959591,0.6260289469748627,0.7022031665287689,0.932467923132941,0.1355157996466287,0.6362130685419923,0.615305522346598,0.48546788635222793,0.21371263430357074,0.7778605160681386,0.5751011929581267,0.2528350884931995,0.16601858687331886,0.40029545802211913,0.42855016517154426,0.5133254068714423,0.3218483847084025,0.5433477308705462,0.0987502236408297,0.5416302379507417,0.93068353706049,0.6227192950384324,0.9910929592091694,0.6026495060569936,0.3749779531822563,0.8430085243979002,0.3529239802326145,0.9356277735628414,0.5516581104486856,0.3086271802525179,0.9251135079067064,0.4437310237718561,0.795816616009835,0.5334918367119801,0.6685856011520004,0.26265020503387754,0.23192766785012206,0.9893601696473427,0.814895668609826,0.05972186173951126,0.296350131123565,0.3234703911346639,5.768720358812563e-06,0.5072934270653816,0.22334830376676515,0.6886423746101679,0.3271849677225802,0.7025562436553418,0.10260799144816792,0.5893470656332793,0.4026333058146241,0.218278593475882,0.7592912453158972,0.21001079375916973,0.5681184064337342,0.7314037873569863,0.6697472837433539,0.616987856276588,0.6036958110902889,0.348098205104187,0.7244354769219771,0.7206066005647679,0.8815678855763284,0.9573768651455793,0.49413833880806846,0.6300885685389325,0.16244234049133183,0.31344240917819916,0.47427934965381807,0.8442655751580923,0.5682177913754398,0.32936800558190715,0.3809544604590044,0.4448168023902832,0.27604152079188937,0.5432273857054274,0.3766916744007338,0.047867314440454264,0.5726947575305067,0.0881261138266354,0.3216297060768796,0.9533231808593496,0.0,0.30892347744711474,0.556215925147305,0.8974991235072074,0.4661518318084293,0.4470009800457144,1.0],\"year\":[1960,1960,1960,1960,1960,1960,1960,1960,1960,1960,1960,1960,1960,1960,1960,1960,1960,1960,1960,1960,1960,1960,1960,1960,1960,1960,1960,1960,1960,1960,1960,1960,1960,1960,1960,1960,1960,1960,1960,1960,1960,1960,1960,1960,1960,1960,1960,1960,1960,1960,1960,1960,1960,1960,1960,1960,1960,1960,1960,1960,1960,1960,1960,1960,1960,1960,1960,1960,1960,1960,1960,1960,1960,1960,1960,1960,1960,1960,1960,1960,1960,1960,1960,1960,1960,1960,1960,1960,1960,1960,1960,1960,1960,1960]}},\"id\":\"b81b9e3d-c0f2-482f-9845-73179247a7ec\",\"type\":\"ColumnDataSource\"},{\"attributes\":{\"overlay\":{\"id\":\"4f1f70e0-01a3-4c76-90e2-4fe69620457f\",\"type\":\"BoxAnnotation\"},\"plot\":{\"id\":\"2f2d1ae3-f9a1-484d-8386-fc540faea630\",\"subtype\":\"Figure\",\"type\":\"Plot\"}},\"id\":\"560bff16-e698-461b-bfa1-ba12d5e3b006\",\"type\":\"BoxZoomTool\"},{\"attributes\":{\"callback\":null,\"plot\":{\"id\":\"2f2d1ae3-f9a1-484d-8386-fc540faea630\",\"subtype\":\"Figure\",\"type\":\"Plot\"}},\"id\":\"6a6d0400-e23a-4c65-9747-677c824eb2e5\",\"type\":\"TapTool\"},{\"attributes\":{\"text\":{\"field\":\"country\"},\"text_align\":\"center\",\"text_alpha\":{\"value\":0.9},\"text_baseline\":\"middle\",\"text_color\":{\"value\":\"black\"},\"text_font_size\":{\"value\":\"7pt\"},\"x\":{\"field\":\"x\"},\"y\":{\"field\":\"y\"}},\"id\":\"33d56e89-74e4-4cd0-adee-3367fab3b002\",\"type\":\"Text\"},{\"attributes\":{\"plot\":null,\"text\":null},\"id\":\"501bc313-2781-4559-8f05-035bda7633c6\",\"type\":\"Title\"},{\"attributes\":{\"callback\":null},\"id\":\"2580e181-0ff2-4504-9124-731515b400ed\",\"type\":\"DataRange1d\"},{\"attributes\":{\"fill_alpha\":{\"value\":0.1},\"fill_color\":{\"value\":\"#1f77b4\"},\"line_alpha\":{\"value\":0.1},\"line_color\":{\"value\":\"#1f77b4\"},\"size\":{\"field\":\"size\",\"units\":\"screen\"},\"x\":{\"field\":\"x\"},\"y\":{\"field\":\"y\"}},\"id\":\"4d17b347-6e70-415c-93a7-10463261b1c4\",\"type\":\"Circle\"},{\"attributes\":{\"callback\":null,\"plot\":{\"id\":\"2f2d1ae3-f9a1-484d-8386-fc540faea630\",\"subtype\":\"Figure\",\"type\":\"Plot\"},\"tooltips\":[[\"country\",\"@country\"],[\"cluster\",\"@cluster\"],[\"military expenditure\",\"@military_expenditure\"],[\"largest tradepartner\",\"@largestpartner\"]]},\"id\":\"6de38922-9d2a-4cdf-b555-08129e4e6d4c\",\"type\":\"HoverTool\"},{\"attributes\":{\"plot\":{\"id\":\"2f2d1ae3-f9a1-484d-8386-fc540faea630\",\"subtype\":\"Figure\",\"type\":\"Plot\"}},\"id\":\"cc43beb5-c453-445f-a612-32e0167b77f5\",\"type\":\"ResetTool\"},{\"attributes\":{\"text\":{\"field\":\"country\"},\"text_align\":\"center\",\"text_alpha\":{\"value\":0.1},\"text_baseline\":\"middle\",\"text_color\":{\"value\":\"black\"},\"text_font_size\":{\"value\":\"7pt\"},\"x\":{\"field\":\"x\"},\"y\":{\"field\":\"y\"}},\"id\":\"5849f42c-1675-41d2-941f-e3d57c30d971\",\"type\":\"Text\"},{\"attributes\":{\"callback\":null},\"id\":\"337dc63a-e20a-44f2-aaa3-1f09c1680a0b\",\"type\":\"DataRange1d\"},{\"attributes\":{\"plot\":{\"id\":\"2f2d1ae3-f9a1-484d-8386-fc540faea630\",\"subtype\":\"Figure\",\"type\":\"Plot\"}},\"id\":\"8a601d75-bd22-49a2-936f-aad9a9307906\",\"type\":\"WheelZoomTool\"},{\"attributes\":{\"data_source\":{\"id\":\"9715f931-c500-48ad-8f6b-0942c90586cf\",\"type\":\"ColumnDataSource\"},\"glyph\":{\"id\":\"efbf091a-a00b-45a2-bdaf-1aca43655368\",\"type\":\"MultiLine\"},\"hover_glyph\":null,\"nonselection_glyph\":{\"id\":\"72d3afbb-e1b6-40be-83f4-af3a6a85fbcc\",\"type\":\"MultiLine\"},\"selection_glyph\":null},\"id\":\"c87764c4-ea2d-4704-8e46-b3ed50e7e8f6\",\"type\":\"GlyphRenderer\"},{\"attributes\":{\"plot\":{\"id\":\"2f2d1ae3-f9a1-484d-8386-fc540faea630\",\"subtype\":\"Figure\",\"type\":\"Plot\"},\"ticker\":{\"id\":\"9421f148-48af-4c65-ae4f-7d7d4501553e\",\"type\":\"BasicTicker\"}},\"id\":\"9647d583-7671-404b-8a3c-2429a4ce2af4\",\"type\":\"Grid\"},{\"attributes\":{\"dimension\":1,\"plot\":{\"id\":\"2f2d1ae3-f9a1-484d-8386-fc540faea630\",\"subtype\":\"Figure\",\"type\":\"Plot\"},\"ticker\":{\"id\":\"a579634f-d65f-4a7d-885d-4ed620ceb41f\",\"type\":\"BasicTicker\"}},\"id\":\"88d1656c-2367-4e21-85c7-9bc7fd6d4fb7\",\"type\":\"Grid\"},{\"attributes\":{\"fill_alpha\":{\"field\":\"alpha\"},\"fill_color\":{\"field\":\"color\"},\"line_alpha\":{\"field\":\"alpha\"},\"line_color\":{\"field\":\"color\"},\"size\":{\"field\":\"size\",\"units\":\"screen\"},\"x\":{\"field\":\"x\"},\"y\":{\"field\":\"y\"}},\"id\":\"bc6df2c8-263b-4a2e-9a38-94af61baee30\",\"type\":\"Circle\"},{\"attributes\":{\"line_alpha\":{\"value\":0.1},\"line_color\":{\"value\":\"#1f77b4\"},\"line_width\":{\"field\":\"width\"},\"xs\":{\"field\":\"xs\"},\"ys\":{\"field\":\"ys\"}},\"id\":\"72d3afbb-e1b6-40be-83f4-af3a6a85fbcc\",\"type\":\"MultiLine\"},{\"attributes\":{\"below\":[{\"id\":\"d1614d16-866a-441b-b461-ebfeede021ac\",\"type\":\"LinearAxis\"}],\"left\":[{\"id\":\"ad0c1359-808c-41b8-ae41-95d7c3a64b1b\",\"type\":\"LinearAxis\"}],\"plot_width\":800,\"renderers\":[{\"id\":\"d1614d16-866a-441b-b461-ebfeede021ac\",\"type\":\"LinearAxis\"},{\"id\":\"9647d583-7671-404b-8a3c-2429a4ce2af4\",\"type\":\"Grid\"},{\"id\":\"ad0c1359-808c-41b8-ae41-95d7c3a64b1b\",\"type\":\"LinearAxis\"},{\"id\":\"88d1656c-2367-4e21-85c7-9bc7fd6d4fb7\",\"type\":\"Grid\"},{\"id\":\"4f1f70e0-01a3-4c76-90e2-4fe69620457f\",\"type\":\"BoxAnnotation\"},{\"id\":\"cca0ccee-3d72-4193-8f61-11f975e19c2b\",\"type\":\"GlyphRenderer\"},{\"id\":\"c87764c4-ea2d-4704-8e46-b3ed50e7e8f6\",\"type\":\"GlyphRenderer\"},{\"id\":\"4c0f522f-8d7d-4f29-aada-6a226f24f691\",\"type\":\"GlyphRenderer\"}],\"title\":{\"id\":\"501bc313-2781-4559-8f05-035bda7633c6\",\"type\":\"Title\"},\"tool_events\":{\"id\":\"44551bad-81fe-4bec-b0d6-7456ef7fe287\",\"type\":\"ToolEvents\"},\"toolbar\":{\"id\":\"80625e37-26c3-4520-8c06-69fc856d2453\",\"type\":\"Toolbar\"},\"x_range\":{\"id\":\"337dc63a-e20a-44f2-aaa3-1f09c1680a0b\",\"type\":\"DataRange1d\"},\"y_range\":{\"id\":\"2580e181-0ff2-4504-9124-731515b400ed\",\"type\":\"DataRange1d\"}},\"id\":\"2f2d1ae3-f9a1-484d-8386-fc540faea630\",\"subtype\":\"Figure\",\"type\":\"Plot\"},{\"attributes\":{},\"id\":\"a579634f-d65f-4a7d-885d-4ed620ceb41f\",\"type\":\"BasicTicker\"},{\"attributes\":{\"data_source\":{\"id\":\"b81b9e3d-c0f2-482f-9845-73179247a7ec\",\"type\":\"ColumnDataSource\"},\"glyph\":{\"id\":\"bc6df2c8-263b-4a2e-9a38-94af61baee30\",\"type\":\"Circle\"},\"hover_glyph\":null,\"level\":\"overlay\",\"name\":\"country\",\"nonselection_glyph\":{\"id\":\"4d17b347-6e70-415c-93a7-10463261b1c4\",\"type\":\"Circle\"},\"selection_glyph\":null},\"id\":\"cca0ccee-3d72-4193-8f61-11f975e19c2b\",\"type\":\"GlyphRenderer\"},{\"attributes\":{\"formatter\":{\"id\":\"d5b2a875-428e-4a88-8509-f65d041b2f6d\",\"type\":\"BasicTickFormatter\"},\"plot\":{\"id\":\"2f2d1ae3-f9a1-484d-8386-fc540faea630\",\"subtype\":\"Figure\",\"type\":\"Plot\"},\"ticker\":{\"id\":\"a579634f-d65f-4a7d-885d-4ed620ceb41f\",\"type\":\"BasicTicker\"}},\"id\":\"ad0c1359-808c-41b8-ae41-95d7c3a64b1b\",\"type\":\"LinearAxis\"},{\"attributes\":{},\"id\":\"d5b2a875-428e-4a88-8509-f65d041b2f6d\",\"type\":\"BasicTickFormatter\"},{\"attributes\":{},\"id\":\"9421f148-48af-4c65-ae4f-7d7d4501553e\",\"type\":\"BasicTicker\"},{\"attributes\":{\"bottom_units\":\"screen\",\"fill_alpha\":{\"value\":0.5},\"fill_color\":{\"value\":\"lightgrey\"},\"left_units\":\"screen\",\"level\":\"overlay\",\"line_alpha\":{\"value\":1.0},\"line_color\":{\"value\":\"black\"},\"line_dash\":[4,4],\"line_width\":{\"value\":2},\"plot\":null,\"render_mode\":\"css\",\"right_units\":\"screen\",\"top_units\":\"screen\"},\"id\":\"4f1f70e0-01a3-4c76-90e2-4fe69620457f\",\"type\":\"BoxAnnotation\"},{\"attributes\":{\"formatter\":{\"id\":\"32a04382-8769-4503-b44a-e44e1fd61159\",\"type\":\"BasicTickFormatter\"},\"plot\":{\"id\":\"2f2d1ae3-f9a1-484d-8386-fc540faea630\",\"subtype\":\"Figure\",\"type\":\"Plot\"},\"ticker\":{\"id\":\"9421f148-48af-4c65-ae4f-7d7d4501553e\",\"type\":\"BasicTicker\"}},\"id\":\"d1614d16-866a-441b-b461-ebfeede021ac\",\"type\":\"LinearAxis\"},{\"attributes\":{\"active_drag\":\"auto\",\"active_scroll\":\"auto\",\"active_tap\":\"auto\",\"tools\":[{\"id\":\"6de38922-9d2a-4cdf-b555-08129e4e6d4c\",\"type\":\"HoverTool\"},{\"id\":\"972d6da3-d7db-4e2a-b3d3-6eea4a5f31a1\",\"type\":\"PanTool\"},{\"id\":\"6a6d0400-e23a-4c65-9747-677c824eb2e5\",\"type\":\"TapTool\"},{\"id\":\"560bff16-e698-461b-bfa1-ba12d5e3b006\",\"type\":\"BoxZoomTool\"},{\"id\":\"cc43beb5-c453-445f-a612-32e0167b77f5\",\"type\":\"ResetTool\"},{\"id\":\"8a601d75-bd22-49a2-936f-aad9a9307906\",\"type\":\"WheelZoomTool\"},{\"id\":\"084eb51b-f37f-4e8a-b31e-2d392a5e3843\",\"type\":\"SaveTool\"}]},\"id\":\"80625e37-26c3-4520-8c06-69fc856d2453\",\"type\":\"Toolbar\"},{\"attributes\":{},\"id\":\"32a04382-8769-4503-b44a-e44e1fd61159\",\"type\":\"BasicTickFormatter\"}],\"root_ids\":[\"2f2d1ae3-f9a1-484d-8386-fc540faea630\"]},\"title\":\"Bokeh Application\",\"version\":\"0.12.3\"}};\n",
       "            var render_items = [{\"docid\":\"d833bb47-6539-4987-a6b4-4f2fa24bbf93\",\"elementid\":\"8c1e71c1-749b-495f-9ca5-d1a7da797002\",\"modelid\":\"2f2d1ae3-f9a1-484d-8386-fc540faea630\"}];\n",
       "            \n",
       "            Bokeh.embed.embed_items(docs_json, render_items);\n",
       "        });\n",
       "      },\n",
       "      function(Bokeh) {\n",
       "      }\n",
       "    ];\n",
       "  \n",
       "    function run_inline_js() {\n",
       "      \n",
       "      if ((window.Bokeh !== undefined) || (force === \"1\")) {\n",
       "        for (var i = 0; i < inline_js.length; i++) {\n",
       "          inline_js[i](window.Bokeh);\n",
       "        }if (force === \"1\") {\n",
       "          display_loaded();\n",
       "        }} else if (Date.now() < window._bokeh_timeout) {\n",
       "        setTimeout(run_inline_js, 100);\n",
       "      } else if (!window._bokeh_failed_load) {\n",
       "        console.log(\"Bokeh: BokehJS failed to load within specified timeout.\");\n",
       "        window._bokeh_failed_load = true;\n",
       "      } else if (!force) {\n",
       "        var cell = $(\"#8c1e71c1-749b-495f-9ca5-d1a7da797002\").parents('.cell').data().cell;\n",
       "        cell.output_area.append_execute_result(NB_LOAD_WARNING)\n",
       "      }\n",
       "  \n",
       "    }\n",
       "  \n",
       "    if (window._bokeh_is_loading === 0) {\n",
       "      console.log(\"Bokeh: BokehJS loaded, going straight to plotting\");\n",
       "      run_inline_js();\n",
       "    } else {\n",
       "      load_libs(js_urls, function() {\n",
       "        console.log(\"Bokeh: BokehJS plotting callback run at\", now());\n",
       "        run_inline_js();\n",
       "      });\n",
       "    }\n",
       "  }(this));\n",
       "</script>"
      ]
     },
     "metadata": {},
     "output_type": "display_data"
    }
   ],
   "source": [
    "show(plot)"
   ]
  },
  {
   "cell_type": "code",
   "execution_count": 92,
   "metadata": {
    "collapsed": false
   },
   "outputs": [],
   "source": [
    "# analyze weapon trade before/during/after conflict\n",
    "# weapon flow democratic vs republican leadership #germany"
   ]
  },
  {
   "cell_type": "markdown",
   "metadata": {
    "collapsed": false
   },
   "source": [
    "# Add up Graphs (past 15 years)"
   ]
  },
  {
   "cell_type": "raw",
   "metadata": {
    "collapsed": true
   },
   "source": [
    "def addUpGraphs(multidididict,yearstart,yearend):\n",
    "    summedupgraph = nx.Graph()    \n",
    "\n",
    "    for year in range(2001,2015,1):\n",
    "        addthisgraph = nx.Graph()    \n",
    "        for countryExport in AddedUpDict[year]:\n",
    "            for countryImport in AddedUpDict[year][countryExport]:\n",
    "                if AddedUpDict[year][countryExport][countryImport] != 0:\n",
    "                    # add edge to graph\n",
    "                    if summedupgraph.has_edge(countryExport,countryImport):\n",
    "                        summedupgraph.add_weighted_edges_from([(countryExport,countryImport,AddedUpDict[year][countryExport][countryImport])])\n",
    "                        summedupgraph[countryExport][countryImport]['weight']\n",
    "                    #add edge to existing edge\n",
    "                    else:\n",
    "                        summedupgraph.add_weighted_edges_from([(countryExport,countryImport,AddedUpDict[year][countryExport][countryImport])])\n",
    "\n",
    "                    \n",
    "                        \n",
    "        for node in G.nodes_iter():\n",
    "            if node in militaryexpdict[year]:\n",
    "                G.node[node]['military expenditure'] = militaryexpdict[year][node]\n",
    "            else:\n",
    "                G.node[node]['military expenditure'] = 'no data'\n",
    "            \n",
    "    G.graph['year']= year\n",
    "    \n",
    "    return G\n",
    "        \n",
    "        \n",
    "\n"
   ]
  },
  {
   "cell_type": "code",
   "execution_count": 93,
   "metadata": {
    "collapsed": false
   },
   "outputs": [],
   "source": [
    "summedupgraph = nx.Graph()\n",
    "\n",
    "for year in range(2005,2015,1):\n",
    "    G = AllGraphs[str(year)][0]\n",
    "    for edge in G.edges(data=True):\n",
    "        if summedupgraph.has_edge(edge[0],edge[1]):\n",
    "            summedupgraph[edge[0]][edge[1]]['weight'] = summedupgraph[edge[0]][edge[1]]['weight'] + G[edge[0]][edge[1]]['weight']\n",
    "        else:\n",
    "            summedupgraph.add_edge(edge[0],edge[1], weight=edge[2]['weight'])\n",
    "            \n",
    "nx.set_node_attributes(summedupgraph, 'military expenditure', 0)\n",
    "for year in range(2005,2015,1):\n",
    "    G = AllGraphs[str(year)][0]\n",
    "    for node in G.nodes(data=True):\n",
    "        if isinstance(node[1]['military expenditure'],(float,int)) and not math.isnan(node[1]['military expenditure']):\n",
    "            if 'military expenditure' in summedupgraph.node[node[0]]:\n",
    "                summedupgraph.node[node[0]]['military expenditure'] = summedupgraph.node[node[0]]['military expenditure'] + G.node[node[0]]['military expenditure']\n",
    "            #else:\n",
    "            #    nx.set_node_attributes(summedupgraph, 'military expenditure', G.node[node[0]]['military expenditure'])\n",
    "summedupgraph.graph['year'] = '2000'\n",
    "\n",
    "    "
   ]
  },
  {
   "cell_type": "code",
   "execution_count": 94,
   "metadata": {
    "collapsed": false
   },
   "outputs": [],
   "source": [
    "partition = community.best_partition(summedupgraph)\n"
   ]
  },
  {
   "cell_type": "code",
   "execution_count": 95,
   "metadata": {
    "collapsed": false
   },
   "outputs": [],
   "source": [
    "weapontrade = dict()\n",
    "\n",
    "for country in summedupgraph.nodes_iter():\n",
    "    weapontrade[country] = 0\n",
    "    for edge in summedupgraph.edges(data=True):\n",
    "        if edge[0] == country or edge[1] == country:\n",
    "            weapontrade[country] = weapontrade[country] + edge[2]['weight']\n",
    "\n",
    "lessthan50 = list()\n",
    "for country, value in sorted(weapontrade.items(), key=operator.itemgetter(1),reverse = False):\n",
    "    if value <=50:\n",
    "        lessthan50.append(country)\n",
    "        \n",
    "for country in lessthan50:\n",
    "    summedupgraph.remove_node(country)"
   ]
  },
  {
   "cell_type": "code",
   "execution_count": 184,
   "metadata": {
    "collapsed": false
   },
   "outputs": [
    {
     "data": {
      "text/html": [
       "\n",
       "\n",
       "    <div class=\"bk-root\">\n",
       "        <div class=\"plotdiv\" id=\"56b18751-d518-44db-8a68-5b076782016a\"></div>\n",
       "    </div>\n",
       "<script type=\"text/javascript\">\n",
       "  \n",
       "  (function(global) {\n",
       "    function now() {\n",
       "      return new Date();\n",
       "    }\n",
       "  \n",
       "    var force = \"\";\n",
       "  \n",
       "    if (typeof (window._bokeh_onload_callbacks) === \"undefined\" || force !== \"\") {\n",
       "      window._bokeh_onload_callbacks = [];\n",
       "      window._bokeh_is_loading = undefined;\n",
       "    }\n",
       "  \n",
       "  \n",
       "    \n",
       "    if (typeof (window._bokeh_timeout) === \"undefined\" || force !== \"\") {\n",
       "      window._bokeh_timeout = Date.now() + 0;\n",
       "      window._bokeh_failed_load = false;\n",
       "    }\n",
       "  \n",
       "    var NB_LOAD_WARNING = {'data': {'text/html':\n",
       "       \"<div style='background-color: #fdd'>\\n\"+\n",
       "       \"<p>\\n\"+\n",
       "       \"BokehJS does not appear to have successfully loaded. If loading BokehJS from CDN, this \\n\"+\n",
       "       \"may be due to a slow or bad network connection. Possible fixes:\\n\"+\n",
       "       \"</p>\\n\"+\n",
       "       \"<ul>\\n\"+\n",
       "       \"<li>re-rerun `output_notebook()` to attempt to load from CDN again, or</li>\\n\"+\n",
       "       \"<li>use INLINE resources instead, as so:</li>\\n\"+\n",
       "       \"</ul>\\n\"+\n",
       "       \"<code>\\n\"+\n",
       "       \"from bokeh.resources import INLINE\\n\"+\n",
       "       \"output_notebook(resources=INLINE)\\n\"+\n",
       "       \"</code>\\n\"+\n",
       "       \"</div>\"}};\n",
       "  \n",
       "    function display_loaded() {\n",
       "      if (window.Bokeh !== undefined) {\n",
       "        Bokeh.$(\"#56b18751-d518-44db-8a68-5b076782016a\").text(\"BokehJS successfully loaded.\");\n",
       "      } else if (Date.now() < window._bokeh_timeout) {\n",
       "        setTimeout(display_loaded, 100)\n",
       "      }\n",
       "    }\n",
       "  \n",
       "    function run_callbacks() {\n",
       "      window._bokeh_onload_callbacks.forEach(function(callback) { callback() });\n",
       "      delete window._bokeh_onload_callbacks\n",
       "      console.info(\"Bokeh: all callbacks have finished\");\n",
       "    }\n",
       "  \n",
       "    function load_libs(js_urls, callback) {\n",
       "      window._bokeh_onload_callbacks.push(callback);\n",
       "      if (window._bokeh_is_loading > 0) {\n",
       "        console.log(\"Bokeh: BokehJS is being loaded, scheduling callback at\", now());\n",
       "        return null;\n",
       "      }\n",
       "      if (js_urls == null || js_urls.length === 0) {\n",
       "        run_callbacks();\n",
       "        return null;\n",
       "      }\n",
       "      console.log(\"Bokeh: BokehJS not loaded, scheduling load and callback at\", now());\n",
       "      window._bokeh_is_loading = js_urls.length;\n",
       "      for (var i = 0; i < js_urls.length; i++) {\n",
       "        var url = js_urls[i];\n",
       "        var s = document.createElement('script');\n",
       "        s.src = url;\n",
       "        s.async = false;\n",
       "        s.onreadystatechange = s.onload = function() {\n",
       "          window._bokeh_is_loading--;\n",
       "          if (window._bokeh_is_loading === 0) {\n",
       "            console.log(\"Bokeh: all BokehJS libraries loaded\");\n",
       "            run_callbacks()\n",
       "          }\n",
       "        };\n",
       "        s.onerror = function() {\n",
       "          console.warn(\"failed to load library \" + url);\n",
       "        };\n",
       "        console.log(\"Bokeh: injecting script tag for BokehJS library: \", url);\n",
       "        document.getElementsByTagName(\"head\")[0].appendChild(s);\n",
       "      }\n",
       "    };var element = document.getElementById(\"56b18751-d518-44db-8a68-5b076782016a\");\n",
       "    if (element == null) {\n",
       "      console.log(\"Bokeh: ERROR: autoload.js configured with elementid '56b18751-d518-44db-8a68-5b076782016a' but no matching script tag was found. \")\n",
       "      return false;\n",
       "    }\n",
       "  \n",
       "    var js_urls = [];\n",
       "  \n",
       "    var inline_js = [\n",
       "      function(Bokeh) {\n",
       "        Bokeh.$(function() {\n",
       "            var docs_json = {\"d2cb2beb-fd7f-4d06-8836-85d47bfe49db\":{\"roots\":{\"references\":[{\"attributes\":{\"plot\":{\"id\":\"8b44b103-addb-4645-8cc3-0c04332bf971\",\"subtype\":\"Figure\",\"type\":\"Plot\"},\"ticker\":{\"id\":\"3459588d-85e1-42a6-b842-05fb30197c91\",\"type\":\"BasicTicker\"}},\"id\":\"dc68d072-cc98-4054-af6c-93a4575a91ca\",\"type\":\"Grid\"},{\"attributes\":{\"data_source\":{\"id\":\"d44cf50d-809e-4cf4-80b9-4767364732c2\",\"type\":\"ColumnDataSource\"},\"glyph\":{\"id\":\"fa2425e3-a414-4430-aed9-48455d037600\",\"type\":\"MultiLine\"},\"hover_glyph\":null,\"nonselection_glyph\":{\"id\":\"4ee00e1c-d5b9-4212-9417-d79fa97466b1\",\"type\":\"MultiLine\"},\"selection_glyph\":null},\"id\":\"b6f6dce8-ec0b-495f-b75e-603036bb0e4f\",\"type\":\"GlyphRenderer\"},{\"attributes\":{\"fill_alpha\":{\"value\":0.1},\"fill_color\":{\"value\":\"#1f77b4\"},\"line_alpha\":{\"value\":0.1},\"line_color\":{\"value\":\"#1f77b4\"},\"size\":{\"field\":\"size\",\"units\":\"screen\"},\"x\":{\"field\":\"x\"},\"y\":{\"field\":\"y\"}},\"id\":\"3384f25f-1f2a-4bbb-86da-03946bac97fe\",\"type\":\"Circle\"},{\"attributes\":{\"bottom_units\":\"screen\",\"fill_alpha\":{\"value\":0.5},\"fill_color\":{\"value\":\"lightgrey\"},\"left_units\":\"screen\",\"level\":\"overlay\",\"line_alpha\":{\"value\":1.0},\"line_color\":{\"value\":\"black\"},\"line_dash\":[4,4],\"line_width\":{\"value\":2},\"plot\":null,\"render_mode\":\"css\",\"right_units\":\"screen\",\"top_units\":\"screen\"},\"id\":\"3c7d78bb-9e54-4185-b8fb-d8af6461a74b\",\"type\":\"BoxAnnotation\"},{\"attributes\":{\"below\":[{\"id\":\"66063b07-f18e-4e28-ba3d-d831f8c851f6\",\"type\":\"LinearAxis\"}],\"left\":[{\"id\":\"fd0b5c5c-cd18-456c-ab5b-eb442428202a\",\"type\":\"LinearAxis\"}],\"plot_width\":800,\"renderers\":[{\"id\":\"66063b07-f18e-4e28-ba3d-d831f8c851f6\",\"type\":\"LinearAxis\"},{\"id\":\"dc68d072-cc98-4054-af6c-93a4575a91ca\",\"type\":\"Grid\"},{\"id\":\"fd0b5c5c-cd18-456c-ab5b-eb442428202a\",\"type\":\"LinearAxis\"},{\"id\":\"ca5161ae-dd2a-462c-a210-fba0476d715d\",\"type\":\"Grid\"},{\"id\":\"3c7d78bb-9e54-4185-b8fb-d8af6461a74b\",\"type\":\"BoxAnnotation\"},{\"id\":\"6cfcf549-af4d-49d1-a998-f7c17db11447\",\"type\":\"GlyphRenderer\"},{\"id\":\"b6f6dce8-ec0b-495f-b75e-603036bb0e4f\",\"type\":\"GlyphRenderer\"},{\"id\":\"6708dd41-8c13-4553-a367-1f809bbbf4f1\",\"type\":\"GlyphRenderer\"}],\"title\":{\"id\":\"57eea27e-deb4-42a7-8455-548de1da5905\",\"type\":\"Title\"},\"tool_events\":{\"id\":\"118d70dd-6af5-46d7-9602-4d047bcaaf7b\",\"type\":\"ToolEvents\"},\"toolbar\":{\"id\":\"2c87e01e-7f19-46db-8cbe-9c57e07c179c\",\"type\":\"Toolbar\"},\"x_range\":{\"id\":\"08d08bf3-82f3-426d-a392-30bb5088ad05\",\"type\":\"DataRange1d\"},\"y_range\":{\"id\":\"3c8d12ca-914d-436b-9623-5a0690f235e0\",\"type\":\"DataRange1d\"}},\"id\":\"8b44b103-addb-4645-8cc3-0c04332bf971\",\"subtype\":\"Figure\",\"type\":\"Plot\"},{\"attributes\":{\"callback\":null},\"id\":\"3c8d12ca-914d-436b-9623-5a0690f235e0\",\"type\":\"DataRange1d\"},{\"attributes\":{\"data_source\":{\"id\":\"9824d9b5-fb53-4c3e-99f4-92fd5ff33d5b\",\"type\":\"ColumnDataSource\"},\"glyph\":{\"id\":\"46ca9415-1214-4380-9d8c-d43d200009ef\",\"type\":\"Circle\"},\"hover_glyph\":null,\"level\":\"overlay\",\"name\":\"country\",\"nonselection_glyph\":{\"id\":\"3384f25f-1f2a-4bbb-86da-03946bac97fe\",\"type\":\"Circle\"},\"selection_glyph\":null},\"id\":\"6cfcf549-af4d-49d1-a998-f7c17db11447\",\"type\":\"GlyphRenderer\"},{\"attributes\":{},\"id\":\"3017583a-a88c-41f6-a83d-eb865e9789ca\",\"type\":\"BasicTickFormatter\"},{\"attributes\":{\"callback\":null,\"column_names\":[\"width\",\"ys\",\"year\",\"xs\",\"alphas\"],\"data\":{\"alphas\":[0.05035765379113019,0.05013352408202194,0.05001907486886028,0.050038149737720555,0.05015736766809729,0.05025274201239867,0.05001907486886028,0.05000476871721507,0.050934668574153553,0.05015736766809729,0.050038149737720555,0.05001430615164521,0.05001907486886028,0.05008583690987125,0.0500619933237959,0.051044349070100144,0.05008583690987125,0.05005722460658083,0.050052455889365764,0.05001907486886028,0.05001907486886028,0.0500619933237959,0.05005722460658083,0.05002861230329042,0.05003338102050549,0.0500476871721507,0.05020982355746305,0.05001907486886028,0.05000476871721507,0.05006676204101097,0.05002861230329042,0.05068192656175489,0.05000476871721507,0.0501239866475918,0.05013352408202194,0.05012875536480687,0.06638054363376253,0.05006676204101097,0.05042918454935623,0.050081068192656175,0.05004291845493562,0.050162136385312354,0.05001907486886028,0.0500476871721507,0.05001907486886028,0.05011444921316166,0.05000476871721507,0.050214592274678116,0.05006676204101097,0.050038149737720555,0.05006676204101097,0.05011444921316166,0.050820219360991896,0.05002861230329042,0.050023843586075346,0.05019551740581784,0.050095374344301384,0.05007153075822604,0.05037195994277539,0.050667620410109686,0.05001430615164521,0.050205054840247974,0.05000476871721507,0.050009537434430144,0.050009537434430144,0.05019551740581784,0.05129232236528374,0.05976156413924655,0.05327134000953744,0.05465426800190749,0.050023843586075346,0.050023843586075346,0.05116833571769194,0.05000476871721507,0.05007153075822604,0.050701001430615164,0.050023843586075346,0.05001907486886028,0.05006676204101097,0.05037195994277539,0.05009060562708632,0.05011444921316166,0.051535526943252266,0.05142107773009061,0.053018597997138775,0.05017644253695756,0.05302336671435384,0.05029566046733429,0.05034811635670005,0.0530138292799237,0.05011444921316166,0.05044349070100143,0.0500476871721507,0.050271816881258945,0.05096328087744397,0.05003338102050549,0.05660944206008584,0.05001907486886028,0.05085836909871245,0.054282308059132096,0.05056270863137816,0.05001907486886028,0.050491177873152125,0.05294229852169767,0.060896518836433,0.050038149737720555,0.05080591320934669,0.05011444921316166,0.050023843586075346,0.05039103481163567,0.05014306151645208,0.05107296137339056,0.05006676204101097,0.050767763471626134,0.05001907486886028,0.050724845016690515,0.05080591320934669,0.052622794468288034,0.050009537434430144,0.058435860753457324,0.0505722460658083,0.050095374344301384,0.050095374344301384,0.050038149737720555,0.0500619933237959,0.05030519790176443,0.054601812112541726,0.05350500715307582,0.05080114449213162,0.05062947067238913,0.060438721983786366,0.05001430615164521,0.057749165474487364,0.05034811635670005,0.050228898426323325,0.05011444921316166,0.0501239866475918,0.05007629947544111,0.05000476871721507,0.050009537434430144,0.050257510729613736,0.05013352408202194,0.05014306151645208,0.05006676204101097,0.05054363376251789,0.05001907486886028,0.05001907486886028,0.051616595135908445,0.05004291845493562,0.0500476871721507,0.050257510729613736,0.05019551740581784,0.050257510729613736,0.05000476871721507,0.05002861230329042,0.05084406294706724,0.05001430615164521,0.05000476871721507,0.050009537434430144,0.05006676204101097,0.05008583690987125,0.050023843586075346,0.05001907486886028,0.050081068192656175,0.05004291845493562,0.05000476871721507,0.05019551740581784,0.0500476871721507,0.050023843586075346,0.05001430615164521,0.05007153075822604,0.05005722460658083,0.05047210300429185,0.05006676204101097,0.050081068192656175,0.05000476871721507,0.05009060562708632,0.05002861230329042,0.05001430615164521,0.05050071530758226,0.050023843586075346,0.05019551740581784,0.05011444921316166,0.051564139246542684,0.05041964711492609,0.05000476871721507,0.05001907486886028,0.05009060562708632,0.05079160705770148,0.052484501669051026,0.06955174058178351,0.05082498807820696,0.050009537434430144,0.050314735336194565,0.06526943252265141,0.050104911778731526,0.050314735336194565,0.05000476871721507,0.05186933714830711,0.050009537434430144,0.05004291845493562,0.050009537434430144,0.0501239866475918,0.050038149737720555,0.050009537434430144,0.05016690510252742,0.050395803528850744,0.05183118741058655,0.06286599904625656,0.05007153075822604,0.050009537434430144,0.05002861230329042,0.05020028612303291,0.05001430615164521,0.050009537434430144,0.05140200286123033,0.050257510729613736,0.05007153075822604,0.050009537434430144,0.050023843586075346,0.08500238435860755,0.051120648545541256,0.05058178350023844,0.05320457796852647,0.050162136385312354,0.050190748688602765,0.050162136385312354,0.05001907486886028,0.05012875536480687,0.050314735336194565,0.05000476871721507,0.05005722460658083,0.05068669527896996,0.051039580352885076,0.050228898426323325,0.051039580352885076,0.050052455889365764,0.050286123032904154,0.06018121125417263,0.050329041487839773,0.05053886504530282,0.05462088698140201,0.05034334763948498,0.05138769670958512,0.05007629947544111,0.05181688125894135,0.05064854554124941,0.050228898426323325,0.05068669527896996,0.05017167381974249,0.05173581306628517,0.05358130662851693,0.05007629947544111,0.05071530758226037,0.050038149737720555,0.0500476871721507,0.05000476871721507,0.050886981402002866,0.05106342393896042,0.05074391988555079,0.050228898426323325,0.05010014306151645,0.05005722460658083,0.05008583690987125,0.0502479732951836,0.051425846447305676,0.050023843586075346,0.05051979017644254,0.050147830233667146,0.05125894134477826,0.050896518836433,0.05010968049594659,0.050834525512637105,0.05041964711492609,0.05071530758226037,0.050081068192656175,0.05009060562708632,0.05056747734859323,0.050081068192656175,0.050190748688602765,0.050205054840247974,0.051564139246542684,0.05452074391988555,0.0502479732951836,0.05129709108249881,0.050147830233667146,0.05285169289461135,0.05074868860276586,0.0500476871721507,0.05010968049594659,0.05437768240343348,0.05219837863614688,0.051659513590844065,0.05052455889365761,0.05037672865999047,0.051673819742489274,0.05005722460658083,0.050038149737720555,0.052398664759179786,0.05002861230329042,0.050701001430615164,0.05001430615164521,0.05031950405340964,0.05240820219360992,0.05002861230329042,0.050381497377205535,0.050710538865045306,0.050448259418216505,0.05162136385312351,0.05056270863137816,0.05150214592274678,0.05002861230329042,0.050767763471626134,0.050658082975679544,0.050038149737720555,0.05190271816881259,0.06348116356700048,0.05000476871721507,0.05184072484501669,0.07172150691463997,0.050009537434430144,0.05074391988555079,0.05044349070100143,0.050081068192656175,0.05078683834048641,0.05084406294706724,0.05013352408202194,0.05000476871721507,0.05000476871721507,0.05000476871721507,0.055069146399618504,0.05014306151645208,0.05168812589413448,0.05218884120171674,0.05001907486886028,0.05158321411540296,0.050095374344301384,0.05000476871721507,0.05000476871721507,0.05000476871721507,0.050286123032904154,0.0506342393896042,0.05007629947544111,0.05045302813543157,0.05005722460658083,0.05002861230329042,0.050300429184549356,0.0500476871721507,0.050424415832141155,0.05023366714353839,0.05033381020505484,0.05001430615164521,0.05029089175011922,0.05011444921316166,0.05091082498807821,0.05002861230329042,0.051607057701478304,0.051769194086790656,0.051602288984263237,0.05012875536480687,0.05298998569384836,0.056471149260848834,0.05044349070100143,0.05096804959465904,0.05017167381974249,0.05157367668097282,0.06288984263233191,0.05001430615164521,0.0502622794468288,0.15000000000000002,0.05007629947544111,0.050314735336194565,0.05628040057224607,0.05020028612303291,0.05213161659513591,0.05025274201239867,0.050395803528850744,0.05104911778731522,0.05013352408202194,0.050023843586075346,0.05856461611826419,0.0500476871721507,0.0500476871721507,0.050038149737720555,0.05047210300429185,0.05014306151645208,0.050095374344301384,0.056208869814020034,0.05041487839771102,0.05014306151645208,0.05001907486886028,0.053404864091559374,0.05339532665712923,0.09101096804959466,0.050052455889365764,0.050476871721506916,0.05014306151645208,0.05001430615164521,0.05017167381974249,0.05010968049594659,0.050009537434430144,0.05006676204101097,0.050896518836433,0.0502479732951836,0.05001430615164521,0.050023843586075346,0.05015736766809729,0.05185979971387697,0.05002861230329042,0.05010968049594659,0.05026704816404388,0.050038149737720555,0.05005722460658083,0.050214592274678116,0.05120171673819743,0.050329041487839773,0.05004291845493562,0.050009537434430144,0.053061516452074395,0.0653171196948021,0.05015259895088221,0.05005722460658083,0.05000476871721507,0.050739151168335724,0.050228898426323325,0.050023843586075346,0.05001430615164521,0.05001907486886028,0.05008583690987125,0.050758226037196,0.050286123032904154,0.05852169766332857,0.050052455889365764,0.050023843586075346,0.05011444921316166,0.05000476871721507,0.05263710061993324,0.05001430615164521,0.05016690510252742,0.05013352408202194,0.05009060562708632,0.05010968049594659,0.05026704816404388,0.056909871244635195,0.05005722460658083,0.05070577014783024,0.05001430615164521,0.05023843586075346,0.06621840724845017,0.050710538865045306,0.050863137815927516,0.05019551740581784,0.050009537434430144,0.05007153075822604,0.050023843586075346,0.05007153075822604,0.06719122556032428,0.05045302813543157,0.05171196948020983,0.05055317119694802,0.05080591320934669,0.05004291845493562,0.05006676204101097,0.05010014306151645,0.05017167381974249,0.05285169289461135,0.05074391988555079,0.0585789222699094,0.05143538388173582,0.0501239866475918,0.05007629947544111,0.059532665712923226,0.05008583690987125,0.05218407248450167,0.050009537434430144,0.05056747734859323,0.050052455889365764,0.050009537434430144,0.050023843586075346,0.0500476871721507,0.05037195994277539,0.051120648545541256,0.050081068192656175,0.05324749642346209,0.05629470672389128,0.050324272770624706,0.05002861230329042,0.050987124463519315,0.050228898426323325,0.050023843586075346,0.050491177873152125,0.05009060562708632,0.05003338102050549,0.05010968049594659,0.050643776824034335,0.05029566046733429,0.050476871721506916,0.05008583690987125,0.051645207439198856,0.052265140677157845,0.05051502145922747,0.05011444921316166,0.05521220791607058,0.05015736766809729,0.050104911778731526,0.050009537434430144,0.05006676204101097,0.05007629947544111,0.050023843586075346,0.05006676204101097,0.05001907486886028,0.05001907486886028,0.05005722460658083,0.05002861230329042,0.050009537434430144,0.05007629947544111,0.05005722460658083,0.050038149737720555,0.05007153075822604,0.05337148307105389,0.050329041487839773,0.050009537434430144,0.05059608965188365,0.0501239866475918,0.05017644253695756,0.05008583690987125,0.05040057224606581,0.05003338102050549,0.05000476871721507,0.050009537434430144,0.0500619933237959,0.05013829279923701,0.0500476871721507,0.05023843586075346,0.050448259418216505,0.05619933237958989,0.05011444921316166,0.05001430615164521,0.05011444921316166,0.05002861230329042,0.050095374344301384,0.05011444921316166,0.05039103481163567,0.05013829279923701,0.05146399618502623,0.0503862660944206,0.05111587982832618,0.050009537434430144,0.05001430615164521,0.05005722460658083,0.07073438245112065,0.05118264186933715,0.05051502145922747,0.05039103481163567,0.05013829279923701,0.05085836909871245,0.05007629947544111,0.050009537434430144,0.05109203624225084,0.052155460181211255,0.05101573676680973,0.050038149737720555,0.050810681926561754,0.05193133047210301,0.050701001430615164,0.0503862660944206,0.05004291845493562,0.050476871721506916,0.05584644730567478,0.05101096804959466,0.05137815927515499,0.05005722460658083,0.05309966618979495,0.05036242250834526,0.11396757272293753,0.05029089175011922,0.055331425846447305,0.05002861230329042,0.05078206962327134,0.050162136385312354,0.05205054840247973,0.050023843586075346,0.050009537434430144,0.050023843586075346,0.05090128755364807,0.050944206008583695,0.050038149737720555,0.05000476871721507,0.05052455889365761,0.05016690510252742,0.05015736766809729,0.05027658559847401,0.051373390557939914,0.0503862660944206,0.05031950405340964,0.05015736766809729,0.050410109680495946,0.050023843586075346,0.05015736766809729,0.05143538388173582,0.050329041487839773,0.051344778254649504,0.05001907486886028,0.05007153075822604,0.0500476871721507,0.05019551740581784,0.05039103481163567,0.05119694802098236,0.05241297091082499,0.05004291845493562,0.05068669527896996,0.051111111111111114,0.05037195994277539,0.05001907486886028,0.050591320934668574,0.05010014306151645,0.050023843586075346,0.050286123032904154,0.05113018597997139,0.05007629947544111,0.050104911778731526,0.050758226037196,0.05001907486886028,0.05024320457796853,0.05001907486886028,0.05005722460658083,0.050023843586075346,0.051988555078683836,0.05070577014783024,0.05001907486886028,0.05151645207439199,0.0503862660944206,0.05036242250834526,0.05008583690987125,0.050038149737720555,0.05007153075822604,0.050324272770624706,0.050038149737720555,0.050023843586075346,0.050190748688602765,0.05001430615164521,0.050052455889365764,0.05000476871721507,0.05000476871721507,0.050481640438721984,0.0502622794468288,0.05015259895088221,0.05000476871721507,0.05011444921316166,0.05000476871721507,0.05017644253695756,0.0500619933237959,0.05003338102050549,0.050081068192656175,0.051506914639961855,0.05014306151645208,0.05420600858369099,0.052579876013352414,0.05007629947544111,0.050038149737720555,0.05000476871721507,0.05005722460658083,0.05029566046733429,0.05256080114449213,0.05007629947544111,0.050052455889365764,0.05086790653314259,0.05000476871721507,0.05003338102050549,0.052513113972341444,0.05030519790176443,0.050009537434430144,0.050395803528850744,0.05187410586552218,0.055331425846447305,0.050095374344301384,0.052002861230329045,0.05003338102050549,0.05055317119694802,0.05007153075822604,0.05024320457796853,0.07682403433476395,0.050104911778731526,0.053128278493085365,0.050205054840247974,0.0507725321888412,0.06187887458273725,0.05003338102050549,0.05107296137339056,0.05957081545064378,0.05475441106342394,0.050023843586075346,0.05436337625178827,0.05247496423462089,0.05000476871721507,0.051616595135908445,0.05040534096328088,0.05045779685264664,0.05330948974725799,0.0533857892226991,0.05508345255126371,0.07138292799237006,0.050052455889365764,0.05201239866475918,0.05008583690987125,0.050863137815927516,0.05014306151645208,0.050119217930376735,0.06964711492608489,0.05008583690987125,0.06432522651406772,0.07154983309489747,0.05000476871721507,0.057415355269432526,0.050104911778731526,0.050023843586075346,0.050410109680495946,0.05184549356223176,0.050052455889365764,0.05006676204101097,0.05026704816404388,0.051907486886027664,0.050810681926561754,0.050481640438721984,0.050052455889365764,0.05004291845493562,0.05023843586075346,0.050329041487839773,0.05015736766809729,0.05347639484978541,0.05003338102050549,0.05112541726275632,0.05058178350023844,0.05175488793514545,0.05014306151645208,0.05007153075822604,0.05001430615164521,0.05068669527896996,0.050820219360991896,0.05003338102050549,0.05191225560324273,0.05027658559847401,0.050257510729613736,0.05107296137339056,0.052265140677157845,0.05003338102050549,0.06911301859799715,0.05008583690987125,0.050023843586075346,0.05386742966142108,0.08037672865999047,0.05023843586075346,0.050481640438721984,0.051068192656175494,0.05339532665712923,0.0519790176442537,0.05027658559847401,0.05001430615164521,0.05001430615164521,0.053004291845493566,0.05025274201239867,0.05016690510252742,0.05071530758226037,0.05001907486886028,0.050324272770624706,0.05029089175011922,0.05010968049594659,0.05657606103958036,0.05079160705770148,0.05010014306151645,0.05525035765379113,0.05003338102050549,0.055798760133524083,0.050433953266571296,0.05029089175011922,0.050009537434430144,0.05589413447782547,0.05015259895088221,0.05006676204101097,0.050300429184549356,0.050300429184549356,0.050324272770624706,0.05001430615164521,0.050162136385312354,0.050228898426323325,0.05001907486886028,0.051497377205531714,0.050009537434430144,0.05001907486886028,0.05104911778731522,0.05045779685264664,0.05047210300429185,0.05003338102050549,0.05015259895088221,0.05004291845493562,0.050023843586075346,0.050424415832141155,0.05015736766809729,0.050863137815927516,0.05035765379113019,0.0503099666189795,0.05011444921316166,0.05030519790176443,0.0500619933237959,0.050228898426323325,0.05002861230329042,0.05003338102050549,0.05045779685264664,0.0500619933237959,0.05003338102050549,0.05010968049594659,0.050147830233667146,0.05012875536480687,0.0500476871721507,0.050009537434430144,0.05001907486886028,0.050009537434430144,0.05131139723414402,0.050119217930376735,0.05025274201239867,0.05004291845493562,0.05061993323795899,0.05076299475441107,0.0500476871721507,0.050119217930376735,0.05082498807820696,0.0502479732951836,0.05013829279923701,0.05011444921316166,0.050023843586075346,0.05000476871721507,0.05002861230329042,0.05000476871721507,0.050038149737720555,0.05007629947544111,0.05015736766809729,0.050009537434430144,0.050052455889365764,0.05118741058655222,0.05000476871721507,0.0500476871721507,0.050710538865045306,0.05046256556986171,0.05090605627086314,0.05020982355746305,0.05027658559847401,0.05007153075822604,0.050052455889365764,0.050038149737720555,0.05003338102050549,0.05074868860276586,0.05052932761087268,0.050228898426323325,0.05002861230329042,0.05021936099189318,0.05014306151645208,0.05045779685264664,0.050009537434430144,0.05013829279923701,0.05015736766809729,0.051001430615164524,0.0501859799713877,0.05001907486886028,0.0500476871721507,0.050119217930376735,0.05040534096328088,0.05001430615164521,0.0500476871721507,0.05008583690987125,0.050038149737720555,0.05002861230329042,0.050476871721506916,0.050190748688602765,0.05020982355746305,0.05007629947544111,0.05001907486886028,0.050338578922269915,0.05007153075822604,0.05003338102050549,0.05001430615164521,0.05001430615164521,0.05000476871721507,0.05009060562708632,0.05001430615164521,0.050534096328087745,0.05000476871721507,0.05011444921316166,0.050758226037196,0.050023843586075346,0.050095374344301384,0.05147830233667144,0.05015736766809729,0.05000476871721507,0.051192179303767286,0.050095374344301384,0.050534096328087745,0.050023843586075346,0.051988555078683836,0.05048640915593706,0.05087267525035766,0.05025274201239867,0.050081068192656175,0.050095374344301384,0.05031950405340964,0.05009060562708632,0.0502622794468288,0.05000476871721507,0.05004291845493562,0.050095374344301384,0.051549833094897475,0.050300429184549356,0.05037195994277539,0.0500476871721507,0.05020982355746305,0.05003338102050549,0.05033381020505484,0.050424415832141155,0.050023843586075346,0.05015736766809729,0.0500476871721507,0.05017167381974249,0.050433953266571296,0.0500619933237959,0.050038149737720555,0.05001907486886028,0.05002861230329042,0.05086790653314259,0.050052455889365764,0.05002861230329042,0.05002861230329042,0.05034811635670005,0.05103481163567001,0.050395803528850744,0.05001430615164521,0.050095374344301384,0.0500476871721507,0.050052455889365764,0.05006676204101097,0.050505484024797334,0.05008583690987125,0.05005722460658083,0.05013352408202194,0.05000476871721507,0.05001430615164521,0.05116833571769194,0.050023843586075346,0.05015259895088221,0.050257510729613736,0.05039103481163567,0.05026704816404388,0.05151168335717692,0.05001907486886028,0.05008583690987125,0.050987124463519315,0.05009060562708632,0.05003338102050549,0.05012875536480687,0.05001430615164521,0.0501859799713877,0.050009537434430144,0.05004291845493562,0.05008583690987125,0.05035288507391512,0.05198378636146877,0.05080591320934669,0.05001430615164521,0.0500476871721507,0.05001907486886028,0.05000476871721507,0.05029089175011922,0.050190748688602765,0.05010968049594659,0.05087267525035766,0.050038149737720555,0.05037195994277539,0.050023843586075346,0.05000476871721507,0.05001430615164521,0.050476871721506916,0.0502622794468288,0.05095374344301383],\"width\":[4.31748811353631,3.332204510175204,1.3862943611198906,2.0794415416798357,3.4965075614664802,3.970291913552122,1.3862943611198906,0.0,5.278114659230517,3.4965075614664802,2.0794415416798357,1.0986122886681098,1.3862943611198906,2.8903717578961645,2.5649493574615367,5.389071729816501,2.8903717578961645,2.4849066497880004,2.3978952727983707,1.3862943611198906,1.3862943611198906,2.5649493574615367,2.4849066497880004,1.791759469228055,1.9459101490553132,2.302585092994046,3.784189633918261,1.3862943611198906,0.0,2.6390573296152584,1.791759469228055,4.962844630259907,0.0,3.258096538021482,3.332204510175204,3.295836866004329,8.14177220465645,2.6390573296152584,4.499809670330265,2.833213344056216,2.1972245773362196,3.5263605246161616,1.3862943611198906,2.302585092994046,1.3862943611198906,3.1780538303479458,0.0,3.8066624897703196,2.6390573296152584,2.0794415416798357,2.6390573296152584,3.1780538303479458,5.147494476813453,1.791759469228055,1.6094379124341003,3.713572066704308,2.995732273553991,2.70805020110221,4.356708826689592,4.941642422609304,1.0986122886681098,3.7612001156935624,0.0,0.6931471805599453,0.6931471805599453,3.713572066704308,5.602118820879701,7.624130585661289,6.530877627725885,6.883462586413092,1.6094379124341003,1.6094379124341003,5.501258210544727,0.0,2.70805020110221,4.990432586778736,1.6094379124341003,1.3862943611198906,2.6390573296152584,4.356708826689592,2.9444389791664403,3.1780538303479458,5.7745515455444085,5.697093486505405,6.450470422144176,3.6109179126442243,6.452048954437226,4.127134385045092,4.290459441148391,6.448889394146858,3.1780538303479458,4.532599493153256,2.302585092994046,4.04305126783455,5.308267697401205,1.9459101490553132,7.234177179749849,1.3862943611198906,5.19295685089021,6.8001700683022,4.770684624465665,1.3862943611198906,4.634728988229636,6.424869023905388,7.734121303328305,2.0794415416798357,5.1298987149230735,3.1780538303479458,1.6094379124341003,4.406719247264253,3.4011973816621555,5.41610040220442,2.6390573296152584,5.081404364984463,1.3862943611198906,5.0238805208462765,5.1298987149230735,6.309918278226516,0.6931471805599453,7.478169694159785,4.787491742782046,2.995732273553991,2.995732273553991,2.0794415416798357,2.5649493574615367,4.1588830833596715,6.872128101338986,6.5998704992128365,5.123963979403259,4.882801922586371,7.691200097522863,1.0986122886681098,7.393263094763838,4.290459441148391,3.871201010907891,3.1780538303479458,3.258096538021482,2.772588722239781,0.0,0.6931471805599453,3.9889840465642745,3.332204510175204,3.4011973816621555,2.6390573296152584,4.736198448394496,1.3862943611198906,1.3862943611198906,5.82600010738045,2.1972245773362196,2.302585092994046,3.9889840465642745,3.713572066704308,3.9889840465642745,0.0,1.791759469228055,5.176149732573829,1.0986122886681098,0.0,0.6931471805599453,2.6390573296152584,2.8903717578961645,1.6094379124341003,1.3862943611198906,2.833213344056216,2.1972245773362196,0.0,3.713572066704308,2.302585092994046,1.6094379124341003,1.0986122886681098,2.70805020110221,2.4849066497880004,4.59511985013459,2.6390573296152584,2.833213344056216,0.0,2.9444389791664403,1.791759469228055,1.0986122886681098,4.653960350157523,1.6094379124341003,3.713572066704308,3.1780538303479458,5.793013608384144,4.477336814478207,0.0,1.3862943611198906,2.9444389791664403,5.111987788356544,6.255750041753367,8.318742252692399,5.153291594497779,0.6931471805599453,4.189654742026425,8.07153089355666,3.091042453358316,4.189654742026425,0.0,5.971261839790462,0.6931471805599453,2.1972245773362196,0.6931471805599453,3.258096538021482,2.0794415416798357,0.6931471805599453,3.5553480614894135,4.418840607796598,5.950642552587727,7.900266036767701,2.70805020110221,0.6931471805599453,1.791759469228055,3.7376696182833684,1.0986122886681098,0.6931471805599453,5.683579767338681,3.9889840465642745,2.70805020110221,0.6931471805599453,1.6094379124341003,8.901094121608562,5.459585514144159,4.804021044733257,6.51025834052315,3.5263605246161616,3.6888794541139363,3.5263605246161616,1.3862943611198906,3.295836866004329,4.189654742026425,0.0,2.4849066497880004,4.969813299576001,5.384495062789089,3.871201010907891,5.384495062789089,2.3978952727983707,4.0943445622221,7.666221925662725,4.23410650459726,4.727387818712341,6.876264611890766,4.276666119016055,5.673323267171493,2.772588722239781,5.942799375126701,4.912654885736052,3.871201010907891,4.969813299576001,3.58351893845611,5.8971538676367405,6.621405651764134,2.772588722239781,5.0106352940962555,2.0794415416798357,2.302585092994046,0.0,5.225746673713202,5.407171771460119,5.049856007249537,3.871201010907891,3.044522437723423,2.4849066497880004,2.8903717578961645,3.9512437185814275,5.700443573390687,1.6094379124341003,4.6913478822291435,3.4339872044851463,5.575949103146316,5.236441962829949,3.1354942159291497,5.1647859739235145,4.477336814478207,5.0106352940962555,2.833213344056216,2.9444389791664403,4.77912349311153,2.833213344056216,3.6888794541139363,3.7612001156935624,5.793013608384144,6.854354502255021,3.9512437185814275,5.605802066295998,3.4339872044851463,6.393590753950631,5.056245805348308,2.302585092994046,3.1354942159291497,6.822197390620491,6.133398042996649,5.8522024797744745,4.700480365792417,4.3694478524670215,5.860786223465865,2.4849066497880004,2.0794415416798357,6.220590170099739,1.791759469228055,4.990432586778736,1.0986122886681098,4.204692619390966,6.22455842927536,1.791759469228055,4.382026634673881,5.003946305945459,4.543294782270004,5.8289456176102075,4.770684624465665,5.752572638825633,1.791759469228055,5.081404364984463,4.927253685157205,2.0794415416798357,5.988961416889864,7.946971357693591,0.0,5.955837369464831,8.423980809694058,0.6931471805599453,5.049856007249537,4.532599493153256,2.833213344056216,5.10594547390058,5.176149732573829,3.332204510175204,0.0,0.0,0.0,6.968850378341948,3.4011973816621555,5.869296913133774,6.129050210060545,1.3862943611198906,5.805134968916488,2.995732273553991,0.0,0.0,0.0,4.0943445622221,4.890349128221754,2.772588722239781,4.553876891600541,2.4849066497880004,1.791759469228055,4.143134726391533,2.302585092994046,4.48863636973214,3.8918202981106265,4.248495242049359,1.0986122886681098,4.110873864173311,3.1780538303479458,5.25227342804663,1.791759469228055,5.820082930352362,5.916202062607435,5.817111159963204,3.295836866004329,6.440946540632921,7.213031659834869,4.532599493153256,5.313205979041787,3.58351893845611,5.799092654460526,7.902117546276448,1.0986122886681098,4.007333185232471,9.950848123895966,2.772588722239781,4.189654742026425,7.183111701743281,3.7376696182833684,6.102558594613569,3.970291913552122,4.418840607796598,5.393627546352362,3.332204510175204,1.6094379124341003,7.493317248862145,2.302585092994046,2.302585092994046,2.0794415416798357,4.59511985013459,3.4011973816621555,2.995732273553991,7.171656822768514,4.465908118654584,3.4011973816621555,1.3862943611198906,6.570882962339584,6.568077911411976,9.0595174822416,2.3978952727983707,4.605170185988092,3.4011973816621555,1.0986122886681098,3.58351893845611,3.1354942159291497,0.6931471805599453,2.6390573296152584,5.236441962829949,3.9512437185814275,1.0986122886681098,1.6094379124341003,3.4965075614664802,5.966146739123692,1.791759469228055,3.1354942159291497,4.02535169073515,2.0794415416798357,2.4849066497880004,3.8066624897703196,5.529429087511423,4.23410650459726,2.1972245773362196,0.6931471805599453,6.464588303689961,8.074649075066652,3.4657359027997265,2.4849066497880004,0.0,5.043425116919247,3.871201010907891,1.6094379124341003,1.0986122886681098,1.3862943611198906,2.8903717578961645,5.0689042022202315,4.0943445622221,7.488293515159428,2.3978952727983707,1.6094379124341003,3.1780538303479458,0.0,6.315358001522335,1.0986122886681098,3.5553480614894135,3.332204510175204,2.9444389791664403,3.1354942159291497,4.02535169073515,7.278628942320682,2.4849066497880004,4.997212273764115,1.0986122886681098,3.912023005428146,8.131824785007195,5.003946305945459,5.198497031265826,3.713572066704308,0.6931471805599453,2.70805020110221,1.6094379124341003,2.70805020110221,8.190077049719049,4.553876891600541,5.883322388488279,4.7535901911063645,5.1298987149230735,2.1972245773362196,2.6390573296152584,3.044522437723423,3.58351893845611,6.393590753950631,5.049856007249537,7.4949862339505335,5.707110264748875,3.258096538021482,2.772588722239781,7.6004023345004,2.8903717578961645,6.126869184114185,0.6931471805599453,4.77912349311153,2.3978952727983707,0.6931471805599453,1.6094379124341003,2.302585092994046,4.356708826689592,5.459585514144159,2.833213344056216,6.523562306149512,7.1853870155804165,4.219507705176107,1.791759469228055,5.332718793265369,3.871201010907891,1.6094379124341003,4.634728988229636,2.9444389791664403,1.9459101490553132,3.1354942159291497,4.90527477843843,4.127134385045092,4.605170185988092,2.8903717578961645,5.84354441703136,6.163314804034641,4.68213122712422,3.1780538303479458,6.996681488176539,3.4965075614664802,3.091042453358316,0.6931471805599453,2.6390573296152584,2.772588722239781,1.6094379124341003,2.6390573296152584,1.3862943611198906,1.3862943611198906,2.4849066497880004,1.791759469228055,0.6931471805599453,2.772588722239781,2.4849066497880004,2.0794415416798357,2.70805020110221,6.561030665896573,4.23410650459726,0.6931471805599453,4.8283137373023015,3.258096538021482,3.6109179126442243,2.8903717578961645,4.430816798843313,1.9459101490553132,0.0,0.6931471805599453,2.5649493574615367,3.367295829986474,2.302585092994046,3.912023005428146,4.543294782270004,7.170119543449628,3.1780538303479458,1.0986122886681098,3.1780538303479458,1.791759469228055,2.995732273553991,3.1780538303479458,4.406719247264253,3.367295829986474,5.726847747587197,4.394449154672439,5.455321115357702,0.6931471805599453,1.0986122886681098,2.4849066497880004,8.3774712482411,5.5134287461649825,4.68213122712422,4.406719247264253,3.367295829986474,5.19295685089021,2.772588722239781,0.6931471805599453,5.43372200355424,6.113682179832232,5.3612921657094255,2.0794415416798357,5.135798437050262,6.003887067106539,4.990432586778736,4.394449154672439,2.1972245773362196,4.605170185988092,7.111512116496157,5.356586274672012,5.666426688112432,2.4849066497880004,6.476972362889683,4.330733340286331,9.504054216659682,4.110873864173311,7.0192966537150445,1.791759469228055,5.099866427824199,3.5263605246161616,6.063785208687608,1.6094379124341003,0.6931471805599453,1.6094379124341003,5.241747015059643,5.288267030694535,2.0794415416798357,0.0,4.700480365792417,3.5553480614894135,3.4965075614664802,4.060443010546419,5.662960480135946,4.394449154672439,4.204692619390966,3.4965075614664802,4.454347296253507,1.6094379124341003,3.4965075614664802,5.707110264748875,4.23410650459726,5.641907070938114,1.3862943611198906,2.70805020110221,2.302585092994046,3.713572066704308,4.406719247264253,5.5254529391317835,6.226536669287466,2.1972245773362196,4.969813299576001,5.4510384535657,4.356708826689592,1.3862943611198906,4.820281565605037,3.044522437723423,1.6094379124341003,4.0943445622221,5.4680601411351315,2.772588722239781,3.091042453358316,5.0689042022202315,1.3862943611198906,3.9318256327243257,1.3862943611198906,2.4849066497880004,1.6094379124341003,6.0330862217988015,4.997212273764115,1.3862943611198906,5.762051382780177,4.394449154672439,4.330733340286331,2.8903717578961645,2.0794415416798357,2.70805020110221,4.219507705176107,2.0794415416798357,1.6094379124341003,3.6888794541139363,1.0986122886681098,2.3978952727983707,0.0,0.0,4.61512051684126,4.007333185232471,3.4657359027997265,0.0,3.1780538303479458,0.0,3.6109179126442243,2.5649493574615367,1.9459101490553132,2.833213344056216,5.755742213586912,3.4011973816621555,6.782192056006791,6.293419278846481,2.772588722239781,2.0794415416798357,0.0,2.4849066497880004,4.127134385045092,6.285998094508865,2.772588722239781,2.3978952727983707,5.204006687076795,0.0,1.9459101490553132,6.267200548541362,4.1588830833596715,0.6931471805599453,4.418840607796598,5.973809611869261,7.0192966537150445,2.995732273553991,6.040254711277414,1.9459101490553132,4.7535901911063645,2.70805020110221,3.9318256327243257,8.63497622707262,3.091042453358316,6.486160788944089,3.7612001156935624,5.087596335232384,7.820439515262181,1.9459101490553132,5.41610040220442,7.604396348796338,6.904750769961838,1.6094379124341003,6.818924065275521,6.251903883165888,0.0,5.82600010738045,4.442651256490317,4.564348191467836,6.542471960506805,6.565264970035361,6.97166860472579,8.40827078419205,2.3978952727983707,6.045005314036012,2.8903717578961645,5.198497031265826,3.4011973816621555,3.2188758248682006,8.323608442343572,2.8903717578961645,8.007700012884026,8.41604600941128,0.0,7.349230824613334,3.091042453358316,1.6094379124341003,4.454347296253507,5.958424693029782,2.3978952727983707,2.6390573296152584,4.02535169073515,5.991464547107982,5.135798437050262,4.61512051684126,2.3978952727983707,2.1972245773362196,3.912023005428146,4.23410650459726,3.4965075614664802,6.591673732008658,1.9459101490553132,5.4638318050256105,4.804021044733257,5.908082938168931,3.4011973816621555,2.70805020110221,1.0986122886681098,4.969813299576001,5.147494476813453,1.9459101490553132,5.993961427306569,4.060443010546419,3.9889840465642745,5.41610040220442,6.163314804034641,1.9459101490553132,8.2960476427647,2.8903717578961645,1.6094379124341003,6.698268054115413,8.759354748566208,3.912023005428146,4.61512051684126,5.4116460518550396,6.568077911411976,6.028278520230698,4.060443010546419,1.0986122886681098,1.0986122886681098,6.4457198193855785,3.970291913552122,3.5553480614894135,5.0106352940962555,1.3862943611198906,4.219507705176107,4.110873864173311,3.1354942159291497,7.229113877793302,5.111987788356544,3.044522437723423,7.00397413672268,1.9459101490553132,7.103322062526113,4.51085950651685,4.110873864173311,0.6931471805599453,7.119635638017636,3.4657359027997265,2.6390573296152584,4.143134726391533,4.143134726391533,4.219507705176107,1.0986122886681098,3.5263605246161616,3.871201010907891,1.3862943611198906,5.749392985908253,0.6931471805599453,1.3862943611198906,5.393627546352362,4.564348191467836,4.59511985013459,1.9459101490553132,3.4657359027997265,2.1972245773362196,1.6094379124341003,4.48863636973214,3.4965075614664802,5.198497031265826,4.31748811353631,4.174387269895637,3.1780538303479458,4.1588830833596715,2.5649493574615367,3.871201010907891,1.791759469228055,1.9459101490553132,4.564348191467836,2.5649493574615367,1.9459101490553132,3.1354942159291497,3.4339872044851463,3.295836866004329,2.302585092994046,0.6931471805599453,1.3862943611198906,0.6931471805599453,5.616771097666572,3.2188758248682006,3.970291913552122,2.1972245773362196,4.867534450455582,5.075173815233827,2.302585092994046,3.2188758248682006,5.153291594497779,3.9512437185814275,3.367295829986474,3.1780538303479458,1.6094379124341003,0.0,1.791759469228055,0.0,2.0794415416798357,2.772588722239781,3.4965075614664802,0.6931471805599453,2.3978952727983707,5.517452896464707,0.0,2.302585092994046,5.003946305945459,4.574710978503383,5.247024072160486,3.784189633918261,4.060443010546419,2.70805020110221,2.3978952727983707,2.0794415416798357,1.9459101490553132,5.056245805348308,4.709530201312334,3.871201010907891,1.791759469228055,3.828641396489095,3.4011973816621555,4.564348191467836,0.6931471805599453,3.367295829986474,3.4965075614664802,5.3471075307174685,3.6635616461296463,1.3862943611198906,2.302585092994046,3.2188758248682006,4.442651256490317,1.0986122886681098,2.302585092994046,2.8903717578961645,2.0794415416798357,1.791759469228055,4.605170185988092,3.6888794541139363,3.784189633918261,2.772588722239781,1.3862943611198906,4.2626798770413155,2.70805020110221,1.9459101490553132,1.0986122886681098,1.0986122886681098,0.0,2.9444389791664403,1.0986122886681098,4.718498871295094,0.0,3.1780538303479458,5.0689042022202315,1.6094379124341003,2.995732273553991,5.736572297479192,3.4965075614664802,0.0,5.521460917862246,2.995732273553991,4.718498871295094,1.6094379124341003,6.0330862217988015,4.624972813284271,5.209486152841421,3.970291913552122,2.833213344056216,2.995732273553991,4.204692619390966,2.9444389791664403,4.007333185232471,0.0,2.1972245773362196,2.995732273553991,5.783825182329737,4.143134726391533,4.356708826689592,2.302585092994046,3.784189633918261,1.9459101490553132,4.248495242049359,4.48863636973214,1.6094379124341003,3.4965075614664802,2.302585092994046,3.58351893845611,4.51085950651685,2.5649493574615367,2.0794415416798357,1.3862943611198906,1.791759469228055,5.204006687076795,2.3978952727983707,1.791759469228055,1.791759469228055,4.290459441148391,5.37989735354046,4.418840607796598,1.0986122886681098,2.995732273553991,2.302585092994046,2.3978952727983707,2.6390573296152584,4.663439094112067,2.8903717578961645,2.4849066497880004,3.332204510175204,0.0,1.0986122886681098,5.501258210544727,1.6094379124341003,3.4657359027997265,3.9889840465642745,4.406719247264253,4.02535169073515,5.75890177387728,1.3862943611198906,2.8903717578961645,5.332718793265369,2.9444389791664403,1.9459101490553132,3.295836866004329,1.0986122886681098,3.6635616461296463,0.6931471805599453,2.1972245773362196,2.8903717578961645,4.30406509320417,6.030685260261263,5.1298987149230735,1.0986122886681098,2.302585092994046,1.3862943611198906,0.0,4.110873864173311,3.6888794541139363,3.1354942159291497,5.209486152841421,2.0794415416798357,4.356708826689592,1.6094379124341003,0.0,1.0986122886681098,4.605170185988092,4.007333185232471,5.298317366548036],\"xs\":[[0.6653101501724501,0.5966349147560841],[0.6653101501724501,0.6529135856154092],[0.6653101501724501,0.736880483134217],[0.6653101501724501,0.7918390223369927],[0.6653101501724501,0.40920427124503167],[0.6653101501724501,0.5628129754200635],[0.6653101501724501,0.9318702744207252],[0.6653101501724501,0.6068018180972011],[0.6653101501724501,0.6490980257695416],[0.6653101501724501,0.7556477957966334],[0.6653101501724501,0.6875080219145162],[0.6653101501724501,0.9662245605776967],[0.6653101501724501,0.7089892927948869],[0.6653101501724501,0.9046340897956535],[0.6653101501724501,0.04725384474800306],[0.6653101501724501,0.7117435324033483],[0.6653101501724501,0.47138972204402835],[0.6653101501724501,0.2939206270045194],[0.6653101501724501,0.6961034102667168],[0.6653101501724501,0.5623147227861753],[0.6653101501724501,0.7290181390697199],[0.6653101501724501,0.7342854976807314],[0.6653101501724501,0.8420680841107232],[0.6653101501724501,0.882424968967801],[0.6653101501724501,0.8895848953141715],[0.6653101501724501,0.4597882371867368],[0.6653101501724501,0.6199886305316484],[0.6653101501724501,0.5597668852676685],[0.6653101501724501,0.49730814482867075],[0.6653101501724501,0.6503206856474639],[0.6653101501724501,0.8385765802711208],[0.6653101501724501,0.48966609209162226],[0.6653101501724501,0.9595821995156103],[0.6653101501724501,0.5985179723652233],[0.6653101501724501,0.476490024296203],[0.6653101501724501,0.49376187514298536],[0.6653101501724501,0.5826429591907643],[0.6653101501724501,0.7645786319998119],[0.6653101501724501,0.758217119249808],[0.6653101501724501,0.011192072179944905],[0.6653101501724501,0.113803154307909],[0.6653101501724501,0.747790342481593],[0.6653101501724501,0.804414050145503],[0.6653101501724501,0.6792047961021898],[0.6653101501724501,0.17982054361906233],[0.6653101501724501,0.5201483029985335],[0.6653101501724501,0.4377087980899392],[0.6653101501724501,0.3830580052838985],[0.6653101501724501,0.4442790945674951],[0.6653101501724501,0.16118645715419522],[0.6653101501724501,0.5179040304849165],[0.6653101501724501,0.24409158799697808],[0.6653101501724501,0.6326925592649957],[0.6653101501724501,0.3741886704616954],[0.6653101501724501,0.02490796503362513],[0.6653101501724501,0.37853849251079885],[0.6653101501724501,0.6121577705870944],[0.6653101501724501,0.5295657228713452],[0.9036081943007792,0.49730814482867075],[0.9036081943007792,0.6529135856154092],[0.9036081943007792,0.01743718535667467],[0.9036081943007792,0.6051731240959267],[0.9036081943007792,0.5628129754200635],[0.9036081943007792,0.6068018180972011],[0.9036081943007792,0.5343151973186228],[0.9036081943007792,0.6490980257695416],[0.9036081943007792,0.36159893920095015],[0.5628129754200635,0.6529135856154092],[0.5628129754200635,0.5966349147560841],[0.5628129754200635,0.6051731240959267],[0.5628129754200635,0.7918390223369927],[0.5628129754200635,0.20609355967543713],[0.5628129754200635,0.40920427124503167],[0.5628129754200635,0.3355554701986722],[0.5628129754200635,0.6139658594351796],[0.5628129754200635,0.6068018180972011],[0.5628129754200635,0.0019201566684931104],[0.5628129754200635,0.20925488491641947],[0.5628129754200635,0.9239724432977857],[0.5628129754200635,0.7089892927948869],[0.5628129754200635,0.882424968967801],[0.5628129754200635,0.04725384474800306],[0.5628129754200635,0.3994813444241805],[0.5628129754200635,0.7117435324033483],[0.5628129754200635,0.47138972204402835],[0.5628129754200635,0.2939206270045194],[0.5628129754200635,0.6961034102667168],[0.5628129754200635,0.32828045778038617],[0.5628129754200635,0.44468599491207733],[0.5628129754200635,0.7342854976807314],[0.5628129754200635,0.8420680841107232],[0.5628129754200635,0.8624228153726801],[0.5628129754200635,0.5987667617957559],[0.5628129754200635,0.4597882371867368],[0.5628129754200635,0.6199886305316484],[0.5628129754200635,0.3076173038958696],[0.5628129754200635,0.5597668852676685],[0.5628129754200635,0.9662245605776967],[0.5628129754200635,0.6788031630615824],[0.5628129754200635,0.6490980257695416],[0.5628129754200635,0.9595821995156103],[0.5628129754200635,0.026619353699646242],[0.5628129754200635,0.476490024296203],[0.5628129754200635,0.49376187514298536],[0.5628129754200635,0.5826429591907643],[0.5628129754200635,0.7645786319998119],[0.5628129754200635,0.758217119249808],[0.5628129754200635,0.3597359633456222],[0.5628129754200635,0.0],[0.5628129754200635,0.8385765802711208],[0.5628129754200635,0.5933058195455151],[0.5628129754200635,0.747790342481593],[0.5628129754200635,0.804414050145503],[0.5628129754200635,0.5985179723652233],[0.5628129754200635,0.36159893920095015],[0.5628129754200635,0.513860592267151],[0.5628129754200635,0.6792047961021898],[0.5628129754200635,0.5201483029985335],[0.5628129754200635,0.99402242124475],[0.5628129754200635,0.5179040304849165],[0.5628129754200635,0.4442790945674951],[0.5628129754200635,0.16118645715419522],[0.5628129754200635,0.011192072179944905],[0.5628129754200635,0.24409158799697808],[0.5628129754200635,0.7556477957966334],[0.5628129754200635,0.6326925592649957],[0.5628129754200635,0.3741886704616954],[0.5628129754200635,0.5343151973186228],[0.5628129754200635,0.39853915091095476],[0.5628129754200635,0.37853849251079885],[0.5628129754200635,0.6121577705870944],[0.5628129754200635,0.7972897536250797],[0.5628129754200635,0.5295657228713452],[0.6139658594351796,0.6326925592649957],[0.6139658594351796,0.6051731240959267],[0.6139658594351796,0.9595821995156103],[0.6139658594351796,0.5826429591907643],[0.6139658594351796,0.7089892927948869],[0.6139658594351796,0.5985179723652233],[0.6139658594351796,0.9916370830063983],[0.9318702744207252,0.49730814482867075],[0.9318702744207252,0.7918390223369927],[0.9318702744207252,0.09989167185672589],[0.9318702744207252,0.24409158799697808],[0.9318702744207252,0.44468599491207733],[0.9318702744207252,0.47549528146043446],[0.9318702744207252,0.9916370830063983],[0.9588879918759399,0.49730814482867075],[0.9588879918759399,0.09989167185672589],[0.9588879918759399,0.5826429591907643],[0.9588879918759399,0.44468599491207733],[0.9588879918759399,0.8491902921025718],[0.9588879918759399,0.36159893920095015],[0.20925488491641947,0.5966349147560841],[0.20925488491641947,0.6051731240959267],[0.20925488491641947,0.5826429591907643],[0.20925488491641947,0.5343151973186228],[0.20925488491641947,0.44468599491207733],[0.20925488491641947,0.9239724432977857],[0.20925488491641947,0.36159893920095015],[0.20925488491641947,0.5597668852676685],[0.9239724432977857,0.5966349147560841],[0.9239724432977857,0.49730814482867075],[0.9239724432977857,0.6068018180972011],[0.9239724432977857,0.5826429591907643],[0.9239724432977857,0.5343151973186228],[0.9239724432977857,0.44468599491207733],[0.9239724432977857,0.32828045778038617],[0.9239724432977857,0.5597668852676685],[0.5623147227861753,0.49376187514298536],[0.5623147227861753,0.6068018180972011],[0.5623147227861753,0.5826429591907643],[0.5623147227861753,0.44468599491207733],[0.5623147227861753,0.36159893920095015],[0.5623147227861753,0.5597668852676685],[0.04725384474800306,0.5179040304849165],[0.04725384474800306,0.9530005457664286],[0.04725384474800306,0.5826429591907643],[0.04725384474800306,0.5343151973186228],[0.04725384474800306,0.44468599491207733],[0.04725384474800306,0.5295657228713452],[0.04725384474800306,0.36159893920095015],[0.04725384474800306,0.5597668852676685],[0.7117435324033483,0.6529135856154092],[0.7117435324033483,0.6490980257695416],[0.7117435324033483,0.6051731240959267],[0.7117435324033483,0.513860592267151],[0.7117435324033483,0.5179040304849165],[0.7117435324033483,0.758217119249808],[0.7117435324033483,0.6068018180972011],[0.7117435324033483,0.5826429591907643],[0.7117435324033483,0.747790342481593],[0.7117435324033483,0.5343151973186228],[0.7117435324033483,0.44468599491207733],[0.7117435324033483,0.6326925592649957],[0.7117435324033483,0.8385765802711208],[0.7117435324033483,0.8624228153726801],[0.7117435324033483,0.07538934326530128],[0.7117435324033483,0.5597668852676685],[0.44259635752738025,0.6529135856154092],[0.44259635752738025,0.8385765802711208],[0.44259635752738025,0.758217119249808],[0.44259635752738025,0.6068018180972011],[0.44259635752738025,0.5343151973186228],[0.44259635752738025,0.7089892927948869],[0.44259635752738025,0.36159893920095015],[0.6199886305316484,0.6529135856154092],[0.6199886305316484,0.6051731240959267],[0.6199886305316484,0.6068018180972011],[0.6199886305316484,0.8828036173092907],[0.6199886305316484,0.2939206270045194],[0.6199886305316484,0.6961034102667168],[0.6199886305316484,0.5987667617957559],[0.6199886305316484,0.9595821995156103],[0.6199886305316484,0.4597882371867368],[0.6199886305316484,0.5597668852676685],[0.6199886305316484,0.48966609209162226],[0.6199886305316484,0.8420680841107232],[0.6199886305316484,0.9757725217806393],[0.6199886305316484,0.8385765802711208],[0.6199886305316484,0.5826429591907643],[0.6199886305316484,0.758217119249808],[0.6199886305316484,0.747790342481593],[0.6199886305316484,0.36159893920095015],[0.6199886305316484,0.513860592267151],[0.6199886305316484,0.6792047961021898],[0.6199886305316484,0.5179040304849165],[0.6199886305316484,0.4442790945674951],[0.6199886305316484,0.7972897536250797],[0.6199886305316484,0.6326925592649957],[0.6199886305316484,0.3741886704616954],[0.6199886305316484,0.5343151973186228],[0.5597668852676685,0.5966349147560841],[0.5597668852676685,0.6051731240959267],[0.5597668852676685,0.7918390223369927],[0.5597668852676685,0.6068018180972011],[0.5597668852676685,0.6953675546166159],[0.5597668852676685,0.5343151973186228],[0.5597668852676685,0.7089892927948869],[0.5597668852676685,0.9046340897956535],[0.5597668852676685,0.49376187514298536],[0.5597668852676685,0.47138972204402835],[0.5597668852676685,0.2939206270045194],[0.5597668852676685,0.32828045778038617],[0.5597668852676685,0.5987667617957559],[0.5597668852676685,0.7342854976807314],[0.5597668852676685,0.476490024296203],[0.5597668852676685,0.8420680841107232],[0.5597668852676685,0.5985179723652233],[0.5597668852676685,0.8385765802711208],[0.5597668852676685,0.6529135856154092],[0.5597668852676685,0.5826429591907643],[0.5597668852676685,0.758217119249808],[0.5597668852676685,0.747790342481593],[0.5597668852676685,0.07538934326530128],[0.5597668852676685,0.513860592267151],[0.5597668852676685,0.6792047961021898],[0.5597668852676685,0.5201483029985335],[0.5597668852676685,0.3830580052838985],[0.5597668852676685,0.4442790945674951],[0.5597668852676685,0.16118645715419522],[0.5597668852676685,0.011192072179944905],[0.5597668852676685,0.24409158799697808],[0.5597668852676685,0.5179040304849165],[0.5597668852676685,0.6326925592649957],[0.5597668852676685,0.3741886704616954],[0.5597668852676685,0.04150772136896717],[0.5597668852676685,0.37853849251079885],[0.5597668852676685,0.20609355967543713],[0.6490980257695416,0.6529135856154092],[0.6490980257695416,0.6051731240959267],[0.6490980257695416,0.6961034102667168],[0.6490980257695416,0.6068018180972011],[0.6490980257695416,0.7556477957966334],[0.6490980257695416,0.32828045778038617],[0.6490980257695416,0.9046340897956535],[0.6490980257695416,0.3994813444241805],[0.6490980257695416,0.49376187514298536],[0.6490980257695416,0.47138972204402835],[0.6490980257695416,0.3830580052838985],[0.6490980257695416,0.7089892927948869],[0.6490980257695416,0.5987667617957559],[0.6490980257695416,0.7342854976807314],[0.6490980257695416,0.8420680841107232],[0.6490980257695416,0.8624228153726801],[0.6490980257695416,0.882424968967801],[0.6490980257695416,0.476490024296203],[0.6490980257695416,0.9595821995156103],[0.6490980257695416,0.5985179723652233],[0.6490980257695416,0.8385765802711208],[0.6490980257695416,0.5826429591907643],[0.6490980257695416,0.7645786319998119],[0.6490980257695416,0.758217119249808],[0.6490980257695416,0.3597359633456222],[0.6490980257695416,0.804414050145503],[0.6490980257695416,0.6792047961021898],[0.6490980257695416,0.17982054361906233],[0.6490980257695416,0.99402242124475],[0.6490980257695416,0.5201483029985335],[0.6490980257695416,0.5179040304849165],[0.6490980257695416,0.4442790945674951],[0.6490980257695416,0.011192072179944905],[0.6490980257695416,0.40920427124503167],[0.6490980257695416,0.6326925592649957],[0.6490980257695416,0.3741886704616954],[0.6490980257695416,0.37853849251079885],[0.6490980257695416,0.6121577705870944],[0.6490980257695416,0.5295657228713452],[0.513860592267151,0.49730814482867075],[0.513860592267151,0.6529135856154092],[0.513860592267151,0.6051731240959267],[0.513860592267151,0.3076173038958696],[0.513860592267151,0.48966609209162226],[0.513860592267151,0.5987667617957559],[0.513860592267151,0.5966349147560841],[0.513860592267151,0.6068018180972011],[0.513860592267151,0.5826429591907643],[0.513860592267151,0.1275287979745205],[0.513860592267151,0.758217119249808],[0.513860592267151,0.44468599491207733],[0.513860592267151,0.6326925592649957],[0.513860592267151,0.747790342481593],[0.513860592267151,0.882424968967801],[0.513860592267151,0.4597882371867368],[0.513860592267151,0.36159893920095015],[0.9530005457664286,0.49730814482867075],[0.9530005457664286,0.5826429591907643],[0.9530005457664286,0.09989167185672589],[0.9530005457664286,0.9916370830063983],[0.8420680841107232,0.8828036173092907],[0.8420680841107232,0.5826429591907643],[0.8420680841107232,0.6051731240959267],[0.8420680841107232,0.6068018180972011],[0.8420680841107232,0.6326925592649957],[0.9757725217806393,0.49730814482867075],[0.9757725217806393,0.44468599491207733],[0.9757725217806393,0.6051731240959267],[0.0,0.5826429591907643],[0.0,0.6068018180972011],[0.0,0.44468599491207733],[0.0,0.5179040304849165],[0.804414050145503,0.5826429591907643],[0.804414050145503,0.49376187514298536],[0.804414050145503,0.47138972204402835],[0.804414050145503,0.6051731240959267],[0.804414050145503,0.8385765802711208],[0.804414050145503,0.6068018180972011],[0.804414050145503,0.6326925592649957],[0.07538934326530128,0.49730814482867075],[0.07538934326530128,0.47138972204402835],[0.07538934326530128,0.6051731240959267],[0.07538934326530128,0.7918390223369927],[0.07538934326530128,0.5179040304849165],[0.07538934326530128,0.5826429591907643],[0.07538934326530128,0.01743718535667467],[0.07538934326530128,0.5987667617957559],[0.07538934326530128,0.36159893920095015],[0.40920427124503167,0.6051731240959267],[0.40920427124503167,0.6068018180972011],[0.40920427124503167,0.9046340897956535],[0.40920427124503167,0.0851433666911855],[0.40920427124503167,0.49376187514298536],[0.40920427124503167,0.47138972204402835],[0.40920427124503167,0.49730814482867075],[0.40920427124503167,0.6503206856474639],[0.40920427124503167,0.5985179723652233],[0.40920427124503167,0.5826429591907643],[0.40920427124503167,0.3123356279733194],[0.40920427124503167,0.747790342481593],[0.40920427124503167,0.36159893920095015],[0.40920427124503167,0.22574884153450211],[0.40920427124503167,0.5179040304849165],[0.40920427124503167,0.6326925592649957],[0.40920427124503167,0.1275287979745205],[0.1925665955932926,0.49730814482867075],[0.1925665955932926,0.6529135856154092],[0.1925665955932926,0.49376187514298536],[0.1925665955932926,0.01743718535667467],[0.1925665955932926,0.5179040304849165],[0.1925665955932926,0.5826429591907643],[0.1925665955932926,0.36159893920095015],[0.20609355967543713,0.5179040304849165],[0.20609355967543713,0.09989167185672589],[0.20609355967543713,0.6068018180972011],[0.20609355967543713,0.5987667617957559],[0.20609355967543713,0.44468599491207733],[0.20609355967543713,0.36159893920095015],[0.5295657228713452,0.6529135856154092],[0.5295657228713452,0.49376187514298536],[0.5295657228713452,0.37853849251079885],[0.5295657228713452,0.3741886704616954],[0.5295657228713452,0.476490024296203],[0.5295657228713452,0.6068018180972011],[0.5295657228713452,0.5826429591907643],[0.5295657228713452,0.026619353699646242],[0.5295657228713452,0.758217119249808],[0.5295657228713452,0.47138972204402835],[0.5295657228713452,0.5987667617957559],[0.5295657228713452,0.6326925592649957],[0.5295657228713452,0.7556477957966334],[0.5295657228713452,0.4597882371867368],[0.5295657228713452,0.16118645715419522],[0.5295657228713452,0.36159893920095015],[0.007939329517445108,0.36159893920095015],[0.007939329517445108,0.9916370830063983],[0.6529135856154092,0.458459566270683],[0.6529135856154092,0.736880483134217],[0.6529135856154092,0.6051731240959267],[0.6529135856154092,0.3076173038958696],[0.6529135856154092,0.6068018180972011],[0.6529135856154092,0.9827535400550562],[0.6529135856154092,0.9662245605776967],[0.6529135856154092,0.7089892927948869],[0.6529135856154092,0.8828036173092907],[0.6529135856154092,0.44468599491207733],[0.6529135856154092,0.4597882371867368],[0.6529135856154092,0.9595821995156103],[0.6529135856154092,0.026619353699646242],[0.6529135856154092,0.49376187514298536],[0.6529135856154092,0.5826429591907643],[0.6529135856154092,0.36159893920095015],[0.6529135856154092,0.4442790945674951],[0.6529135856154092,0.16118645715419522],[0.6529135856154092,0.6326925592649957],[0.6529135856154092,0.3741886704616954],[0.6529135856154092,0.6953675546166159],[0.6529135856154092,0.39853915091095476],[0.6529135856154092,0.37853849251079885],[0.458459566270683,0.49730814482867075],[0.458459566270683,0.6051731240959267],[0.458459566270683,0.7918390223369927],[0.458459566270683,0.5826429591907643],[0.458459566270683,0.47549528146043446],[0.458459566270683,0.6326925592649957],[0.458459566270683,0.747790342481593],[0.458459566270683,0.7089892927948869],[0.458459566270683,0.36159893920095015],[0.3076173038958696,0.6792047961021898],[0.3076173038958696,0.6051731240959267],[0.3076173038958696,0.09989167185672589],[0.3076173038958696,0.6068018180972011],[0.3076173038958696,0.6326925592649957],[0.3076173038958696,0.5826429591907643],[0.3076173038958696,0.44468599491207733],[0.3076173038958696,0.49730814482867075],[0.3076173038958696,0.36159893920095015],[0.6788031630615824,0.6051731240959267],[0.6788031630615824,0.6068018180972011],[0.6788031630615824,0.5826429591907643],[0.24409158799697808,0.49730814482867075],[0.24409158799697808,0.49376187514298536],[0.24409158799697808,0.7918390223369927],[0.24409158799697808,0.6792047961021898],[0.24409158799697808,0.6068018180972011],[0.24409158799697808,0.47549528146043446],[0.24409158799697808,0.5985179723652233],[0.24409158799697808,0.36159893920095015],[0.5159945534119704,0.36159893920095015],[0.6068018180972011,0.5966349147560841],[0.6068018180972011,0.736880483134217],[0.6068018180972011,0.6051731240959267],[0.6068018180972011,0.6227242104663185],[0.6068018180972011,0.9662245605776967],[0.6068018180972011,0.8828036173092907],[0.6068018180972011,0.3994813444241805],[0.6068018180972011,0.47138972204402835],[0.6068018180972011,0.2939206270045194],[0.6068018180972011,0.6961034102667168],[0.6068018180972011,0.7089892927948869],[0.6068018180972011,0.16118645715419522],[0.6068018180972011,0.04150772136896717],[0.6068018180972011,0.44468599491207733],[0.6068018180972011,0.9046340897956535],[0.6068018180972011,0.7342854976807314],[0.6068018180972011,0.9595821995156103],[0.6068018180972011,0.8624228153726801],[0.6068018180972011,0.5987667617957559],[0.6068018180972011,0.4597882371867368],[0.6068018180972011,0.7972897536250797],[0.6068018180972011,0.48966609209162226],[0.6068018180972011,0.5985179723652233],[0.6068018180972011,0.476490024296203],[0.6068018180972011,0.49376187514298536],[0.6068018180972011,0.5826429591907643],[0.6068018180972011,0.7645786319998119],[0.6068018180972011,0.758217119249808],[0.6068018180972011,0.011192072179944905],[0.6068018180972011,0.8385765802711208],[0.6068018180972011,0.882424968967801],[0.6068018180972011,0.36159893920095015],[0.6068018180972011,0.9916370830063983],[0.6068018180972011,0.6792047961021898],[0.6068018180972011,0.4377087980899392],[0.6068018180972011,0.99402242124475],[0.6068018180972011,0.3830580052838985],[0.6068018180972011,0.4442790945674951],[0.6068018180972011,0.5179040304849165],[0.6068018180972011,0.7556477957966334],[0.6068018180972011,0.6326925592649957],[0.6068018180972011,0.3741886704616954],[0.6068018180972011,0.5343151973186228],[0.6068018180972011,0.37853849251079885],[0.6068018180972011,0.6121577705870944],[0.6068018180972011,0.5933058195455151],[0.6068018180972011,0.2801984624348342],[0.6953675546166159,0.49730814482867075],[0.6953675546166159,0.49376187514298536],[0.6953675546166159,0.5179040304849165],[0.6953675546166159,0.44468599491207733],[0.6953675546166159,0.36159893920095015],[0.47549528146043446,0.49730814482867075],[0.47549528146043446,0.17982054361906233],[0.47549528146043446,0.7918390223369927],[0.47549528146043446,0.11645916892168938],[0.47549528146043446,0.6051731240959267],[0.47549528146043446,0.2801984624348342],[0.47549528146043446,0.36159893920095015],[0.7556477957966334,0.6326925592649957],[0.7556477957966334,0.49376187514298536],[0.7556477957966334,0.6051731240959267],[0.7556477957966334,0.5826429591907643],[0.7556477957966334,0.44468599491207733],[0.7556477957966334,0.36159893920095015],[0.6875080219145162,0.49730814482867075],[0.6875080219145162,0.44468599491207733],[0.6875080219145162,0.36159893920095015],[0.7089892927948869,0.6051731240959267],[0.7089892927948869,0.7918390223369927],[0.7089892927948869,0.6227242104663185],[0.7089892927948869,0.0019201566684931104],[0.7089892927948869,0.9662245605776967],[0.7089892927948869,0.47138972204402835],[0.7089892927948869,0.7342854976807314],[0.7089892927948869,0.5985179723652233],[0.7089892927948869,0.8385765802711208],[0.7089892927948869,0.5826429591907643],[0.7089892927948869,0.758217119249808],[0.7089892927948869,0.9972830140214519],[0.7089892927948869,0.747790342481593],[0.7089892927948869,0.5966349147560841],[0.7089892927948869,0.6792047961021898],[0.7089892927948869,0.5179040304849165],[0.7089892927948869,0.6326925592649957],[0.6961034102667168,0.6326925592649957],[0.6961034102667168,0.49376187514298536],[0.6961034102667168,0.47138972204402835],[0.6961034102667168,0.6051731240959267],[0.6961034102667168,0.4377087980899392],[0.6961034102667168,0.5179040304849165],[0.6961034102667168,0.9595821995156103],[0.6961034102667168,0.5826429591907643],[0.6961034102667168,0.758217119249808],[0.6961034102667168,0.747790342481593],[0.6961034102667168,0.882424968967801],[0.6961034102667168,0.9662245605776967],[0.6089003983537324,0.4442790945674951],[0.6089003983537324,0.09989167185672589],[0.6089003983537324,0.2702121257461129],[0.44468599491207733,0.11645916892168938],[0.44468599491207733,0.32828045778038617],[0.44468599491207733,0.9662245605776967],[0.44468599491207733,0.9046340897956535],[0.44468599491207733,0.01743718535667467],[0.44468599491207733,0.11366159759609375],[0.44468599491207733,0.2939206270045194],[0.44468599491207733,0.7290181390697199],[0.44468599491207733,0.5987667617957559],[0.44468599491207733,0.882424968967801],[0.44468599491207733,0.49730814482867075],[0.44468599491207733,0.476490024296203],[0.44468599491207733,0.7645786319998119],[0.44468599491207733,0.113803154307909],[0.44468599491207733,0.747790342481593],[0.44468599491207733,0.1127977390851583],[0.44468599491207733,0.36159893920095015],[0.44468599491207733,0.4377087980899392],[0.44468599491207733,0.22574884153450211],[0.44468599491207733,0.3830580052838985],[0.44468599491207733,0.4442790945674951],[0.44468599491207733,0.2419848961686502],[0.44468599491207733,0.6326925592649957],[0.44468599491207733,0.3741886704616954],[0.44468599491207733,0.02490796503362513],[0.44468599491207733,0.08191064946300623],[0.44468599491207733,0.1275287979745205],[0.44468599491207733,0.3123356279733194],[0.2702121257461129,0.49730814482867075],[0.2702121257461129,0.01743718535667467],[0.2702121257461129,0.36159893920095015],[0.8895848953141715,0.5966349147560841],[0.8895848953141715,0.49376187514298536],[0.49730814482867075,0.18147051553826807],[0.49730814482867075,0.11645916892168938],[0.49730814482867075,0.9662245605776967],[0.49730814482867075,0.32828045778038617],[0.49730814482867075,0.01743718535667467],[0.49730814482867075,0.2939206270045194],[0.49730814482867075,0.7290181390697199],[0.49730814482867075,0.5987667617957559],[0.49730814482867075,0.4597882371867368],[0.49730814482867075,0.16118645715419522],[0.49730814482867075,0.9827535400550562],[0.49730814482867075,0.99402242124475],[0.49730814482867075,0.5826429591907643],[0.49730814482867075,0.7645786319998119],[0.49730814482867075,0.9972830140214519],[0.49730814482867075,0.113803154307909],[0.49730814482867075,0.882424968967801],[0.49730814482867075,0.36159893920095015],[0.49730814482867075,0.22574884153450211],[0.49730814482867075,0.4377087980899392],[0.49730814482867075,0.2419848961686502],[0.49730814482867075,0.4442790945674951],[0.49730814482867075,0.02490796503362513],[0.49730814482867075,0.08191064946300623],[0.49730814482867075,0.1275287979745205],[0.49730814482867075,0.2801984624348342],[0.8828036173092907,0.6326925592649957],[0.8828036173092907,0.5826429591907643],[0.8828036173092907,0.8624228153726801],[0.8385765802711208,0.18147051553826807],[0.8385765802711208,0.6051731240959267],[0.8385765802711208,0.0019201566684931104],[0.8385765802711208,0.49376187514298536],[0.8385765802711208,0.2939206270045194],[0.8385765802711208,0.7342854976807314],[0.8385765802711208,0.9595821995156103],[0.8385765802711208,0.5985179723652233],[0.8385765802711208,0.5826429591907643],[0.8385765802711208,0.7645786319998119],[0.8385765802711208,0.758217119249808],[0.8385765802711208,0.9972830140214519],[0.8385765802711208,0.747790342481593],[0.8385765802711208,0.99402242124475],[0.8385765802711208,0.5201483029985335],[0.8385765802711208,0.5179040304849165],[0.8385765802711208,0.4442790945674951],[0.8385765802711208,0.37853849251079885],[0.8385765802711208,0.8491902921025718],[0.48966609209162226,0.6051731240959267],[0.48966609209162226,0.4377087980899392],[0.48966609209162226,0.11645916892168938],[0.48966609209162226,0.5343151973186228],[0.48966609209162226,0.5987667617957559],[0.48966609209162226,0.36159893920095015],[0.476490024296203,0.5966349147560841],[0.476490024296203,0.6051731240959267],[0.476490024296203,0.7918390223369927],[0.476490024296203,0.3994813444241805],[0.476490024296203,0.49376187514298536],[0.476490024296203,0.47138972204402835],[0.476490024296203,0.8624228153726801],[0.476490024296203,0.9595821995156103],[0.476490024296203,0.5985179723652233],[0.476490024296203,0.5826429591907643],[0.476490024296203,0.747790342481593],[0.476490024296203,0.36159893920095015],[0.476490024296203,0.6326925592649957],[0.476490024296203,0.3741886704616954],[0.476490024296203,0.04150772136896717],[0.476490024296203,0.1275287979745205],[0.5826429591907643,0.1275287979745205],[0.5826429591907643,0.7918390223369927],[0.5826429591907643,0.758217119249808],[0.5826429591907643,0.36159893920095015],[0.5826429591907643,0.9916370830063983],[0.5826429591907643,0.6792047961021898],[0.5826429591907643,0.17982054361906233],[0.5826429591907643,0.4377087980899392],[0.5826429591907643,0.5179040304849165],[0.5826429591907643,0.3741886704616954],[0.5826429591907643,0.04150772136896717],[0.5826429591907643,0.8491902921025718],[0.5826429591907643,0.5966349147560841],[0.5826429591907643,0.6227242104663185],[0.5826429591907643,0.3355554701986722],[0.5826429591907643,0.18147051553826807],[0.5826429591907643,0.0019201566684931104],[0.5826429591907643,0.9662245605776967],[0.5826429591907643,0.9046340897956535],[0.5826429591907643,0.3994813444241805],[0.5826429591907643,0.47138972204402835],[0.5826429591907643,0.2939206270045194],[0.5826429591907643,0.7342854976807314],[0.5826429591907643,0.8624228153726801],[0.5826429591907643,0.882424968967801],[0.5826429591907643,0.4597882371867368],[0.5826429591907643,0.9827535400550562],[0.5826429591907643,0.9595821995156103],[0.5826429591907643,0.5985179723652233],[0.5826429591907643,0.7645786319998119],[0.5826429591907643,0.3123356279733194],[0.5826429591907643,0.747790342481593],[0.5826429591907643,0.5201483029985335],[0.5826429591907643,0.99402242124475],[0.5826429591907643,0.3830580052838985],[0.5826429591907643,0.7972897536250797],[0.5826429591907643,0.39853915091095476],[0.5826429591907643,0.37853849251079885],[0.5826429591907643,0.736880483134217],[0.5826429591907643,0.6051731240959267],[0.5826429591907643,0.49376187514298536],[0.5826429591907643,0.5343151973186228],[0.5826429591907643,0.5987667617957559],[0.5826429591907643,0.16118645715419522],[0.5826429591907643,0.026619353699646242],[0.5826429591907643,0.23697057066385802],[0.5826429591907643,0.3597359633456222],[0.5826429591907643,0.5933058195455151],[0.5826429591907643,0.2419848961686502],[0.5826429591907643,0.4442790945674951],[0.5826429591907643,0.6326925592649957],[0.5826429591907643,0.02490796503362513],[0.5826429591907643,0.6121577705870944],[0.5826429591907643,0.9972830140214519],[0.758217119249808,0.5966349147560841],[0.758217119249808,0.6051731240959267],[0.758217119249808,0.7918390223369927],[0.758217119249808,0.3994813444241805],[0.758217119249808,0.49376187514298536],[0.758217119249808,0.47138972204402835],[0.758217119249808,0.882424968967801],[0.758217119249808,0.9595821995156103],[0.758217119249808,0.5985179723652233],[0.758217119249808,0.3597359633456222],[0.758217119249808,0.9972830140214519],[0.758217119249808,0.5933058195455151],[0.758217119249808,0.747790342481593],[0.758217119249808,0.99402242124475],[0.758217119249808,0.5179040304849165],[0.758217119249808,0.011192072179944905],[0.758217119249808,0.6326925592649957],[0.758217119249808,0.6121577705870944],[0.758217119249808,0.8491902921025718],[0.01743718535667467,0.7672120809681132],[0.01743718535667467,0.11366159759609375],[0.01743718535667467,0.08191064946300623],[0.01743718535667467,0.11645916892168938],[0.01743718535667467,0.1127977390851583],[0.01743718535667467,0.9662245605776967],[0.01743718535667467,0.36159893920095015],[0.36159893920095015,0.18147051553826807],[0.36159893920095015,0.6051731240959267],[0.36159893920095015,0.7918390223369927],[0.36159893920095015,0.11645916892168938],[0.36159893920095015,0.8491902921025718],[0.36159893920095015,0.32828045778038617],[0.36159893920095015,0.9046340897956535],[0.36159893920095015,0.49376187514298536],[0.36159893920095015,0.11366159759609375],[0.36159893920095015,0.2939206270045194],[0.36159893920095015,0.5179040304849165],[0.36159893920095015,0.6227242104663185],[0.36159893920095015,0.5987667617957559],[0.36159893920095015,0.4597882371867368],[0.36159893920095015,0.16118645715419522],[0.36159893920095015,0.9662245605776967],[0.36159893920095015,0.7672120809681132],[0.36159893920095015,0.6503206856474639],[0.36159893920095015,0.08191064946300623],[0.36159893920095015,0.5985179723652233],[0.36159893920095015,0.5310449205443606],[0.36159893920095015,0.7645786319998119],[0.36159893920095015,0.3597359633456222],[0.36159893920095015,0.9972830140214519],[0.36159893920095015,0.113803154307909],[0.36159893920095015,0.882424968967801],[0.36159893920095015,0.1127977390851583],[0.36159893920095015,0.5966349147560841],[0.36159893920095015,0.4377087980899392],[0.36159893920095015,0.22574884153450211],[0.36159893920095015,0.011192072179944905],[0.36159893920095015,0.4442790945674951],[0.36159893920095015,0.2801984624348342],[0.36159893920095015,0.3830580052838985],[0.36159893920095015,0.6326925592649957],[0.36159893920095015,0.3741886704616954],[0.36159893920095015,0.04150772136896717],[0.36159893920095015,0.02490796503362513],[0.36159893920095015,0.37853849251079885],[0.36159893920095015,0.6121577705870944],[0.9916370830063983,0.7672120809681132],[0.9916370830063983,0.49376187514298536],[0.9916370830063983,0.9827535400550562],[0.9916370830063983,0.6051731240959267],[0.9916370830063983,0.4377087980899392],[0.9916370830063983,0.8624228153726801],[0.9916370830063983,0.17982054361906233],[0.9916370830063983,0.4597882371867368],[0.6792047961021898,0.6326925592649957],[0.6792047961021898,0.49376187514298536],[0.6792047961021898,0.6051731240959267],[0.6792047961021898,0.747790342481593],[0.17982054361906233,0.5966349147560841],[0.17982054361906233,0.49376187514298536],[0.17982054361906233,0.7918390223369927],[0.17982054361906233,0.8293604127712862],[0.5201483029985335,0.49376187514298536],[0.5201483029985335,0.6051731240959267],[0.5201483029985335,0.011192072179944905],[0.5201483029985335,0.5343151973186228],[0.5201483029985335,0.7342854976807314],[0.5201483029985335,0.8624228153726801],[0.5179040304849165,0.5966349147560841],[0.5179040304849165,0.6051731240959267],[0.5179040304849165,0.0019201566684931104],[0.5179040304849165,0.9662245605776967],[0.5179040304849165,0.9046340897956535],[0.5179040304849165,0.2939206270045194],[0.5179040304849165,0.7290181390697199],[0.5179040304849165,0.5987667617957559],[0.5179040304849165,0.882424968967801],[0.5179040304849165,0.4597882371867368],[0.5179040304849165,0.49376187514298536],[0.5179040304849165,0.113803154307909],[0.5179040304849165,0.2419848961686502],[0.5179040304849165,0.4442790945674951],[0.5179040304849165,0.6326925592649957],[0.5179040304849165,0.04150772136896717],[0.5179040304849165,0.02490796503362513],[0.5179040304849165,0.08191064946300623],[0.3741886704616954,0.6326925592649957],[0.3741886704616954,0.6051731240959267],[0.3741886704616954,0.747790342481593],[0.3741886704616954,0.5966349147560841],[0.3741886704616954,0.5985179723652233],[0.5343151973186228,0.6051731240959267],[0.5343151973186228,0.7918390223369927],[0.5343151973186228,0.6227242104663185],[0.5343151973186228,0.32828045778038617],[0.5343151973186228,0.9662245605776967],[0.5343151973186228,0.882424968967801],[0.5343151973186228,0.5985179723652233],[0.5343151973186228,0.49376187514298536],[0.5343151973186228,0.747790342481593],[0.5343151973186228,0.6326925592649957],[0.5343151973186228,0.08191064946300623],[0.08191064946300623,0.49376187514298536],[0.5933058195455151,0.6326925592649957],[0.5933058195455151,0.47138972204402835],[0.5933058195455151,0.6051731240959267],[0.5966349147560841,0.6051731240959267],[0.5966349147560841,0.9046340897956535],[0.5966349147560841,0.49376187514298536],[0.5966349147560841,0.5987667617957559],[0.5966349147560841,0.7342854976807314],[0.5966349147560841,0.9595821995156103],[0.5966349147560841,0.3123356279733194],[0.5966349147560841,0.747790342481593],[0.5966349147560841,0.011192072179944905],[0.5966349147560841,0.6326925592649957],[0.5966349147560841,0.37853849251079885],[0.5966349147560841,0.6121577705870944],[0.6227242104663185,0.6326925592649957],[0.6227242104663185,0.6051731240959267],[0.3355554701986722,0.6051731240959267],[0.736880483134217,0.6051731240959267],[0.736880483134217,0.3830580052838985],[0.736880483134217,0.747790342481593],[0.0019201566684931104,0.6326925592649957],[0.0019201566684931104,0.47138972204402835],[0.0019201566684931104,0.6051731240959267],[0.0019201566684931104,0.7342854976807314],[0.0019201566684931104,0.747790342481593],[0.9662245605776967,0.49376187514298536],[0.9662245605776967,0.6051731240959267],[0.9662245605776967,0.7918390223369927],[0.9046340897956535,0.6326925592649957],[0.9046340897956535,0.49376187514298536],[0.9046340897956535,0.6051731240959267],[0.9046340897956535,0.011192072179944905],[0.9046340897956535,0.7342854976807314],[0.9046340897956535,0.32828045778038617],[0.7918390223369927,0.6051731240959267],[0.7918390223369927,0.49376187514298536],[0.7918390223369927,0.4597882371867368],[0.7918390223369927,0.9827535400550562],[0.7918390223369927,0.99402242124475],[0.7918390223369927,0.2419848961686502],[0.7918390223369927,0.3830580052838985],[0.7918390223369927,0.6326925592649957],[0.7918390223369927,0.2801984624348342],[0.3994813444241805,0.9595821995156103],[0.47138972204402835,0.6051731240959267],[0.47138972204402835,0.49376187514298536],[0.47138972204402835,0.5987667617957559],[0.47138972204402835,0.23697057066385802],[0.47138972204402835,0.6326925592649957],[0.47138972204402835,0.1275287979745205],[0.11366159759609375,0.11645916892168938],[0.11366159759609375,0.1127977390851583],[0.11366159759609375,0.4597882371867368],[0.11366159759609375,0.32828045778038617],[0.2939206270045194,0.6051731240959267],[0.2939206270045194,0.5985179723652233],[0.2939206270045194,0.6326925592649957],[0.2939206270045194,0.9595821995156103],[0.7342854976807314,0.6326925592649957],[0.7342854976807314,0.49376187514298536],[0.7342854976807314,0.6051731240959267],[0.7342854976807314,0.8624228153726801],[0.7342854976807314,0.747790342481593],[0.8624228153726801,0.6326925592649957],[0.8624228153726801,0.6051731240959267],[0.8624228153726801,0.4377087980899392],[0.8624228153726801,0.7645786319998119],[0.8624228153726801,0.99402242124475],[0.8624228153726801,0.7972897536250797],[0.8624228153726801,0.49376187514298536],[0.8624228153726801,0.5987667617957559],[0.8624228153726801,0.747790342481593],[0.882424968967801,0.6326925592649957],[0.882424968967801,0.49376187514298536],[0.882424968967801,0.6051731240959267],[0.882424968967801,0.9595821995156103],[0.4597882371867368,0.6051731240959267],[0.4597882371867368,0.5985179723652233],[0.4597882371867368,0.09989167185672589],[0.4597882371867368,0.5987667617957559],[0.4597882371867368,0.6326925592649957],[0.4597882371867368,0.6121577705870944],[0.4597882371867368,0.8491902921025718],[0.9827535400550562,0.49376187514298536],[0.9827535400550562,0.5985179723652233],[0.9827535400550562,0.0851433666911855],[0.9827535400550562,0.16118645715419522],[0.9595821995156103,0.6326925592649957],[0.9595821995156103,0.49376187514298536],[0.9595821995156103,0.3830580052838985],[0.9595821995156103,0.37853849251079885],[0.9595821995156103,0.747790342481593],[0.5985179723652233,0.6051731240959267],[0.5985179723652233,0.49376187514298536],[0.5985179723652233,0.5987667617957559],[0.5985179723652233,0.026619353699646242],[0.5985179723652233,0.6326925592649957],[0.8293604127712862,0.6326925592649957],[0.7645786319998119,0.49376187514298536],[0.7645786319998119,0.6051731240959267],[0.7645786319998119,0.747790342481593],[0.3123356279733194,0.6051731240959267],[0.747790342481593,0.32828045778038617],[0.747790342481593,0.4377087980899392],[0.747790342481593,0.3830580052838985],[0.747790342481593,0.6326925592649957],[0.4377087980899392,0.49376187514298536],[0.4377087980899392,0.6051731240959267],[0.99402242124475,0.6326925592649957],[0.2419848961686502,0.49376187514298536],[0.7972897536250797,0.5987667617957559],[0.37853849251079885,0.49376187514298536],[0.37853849251079885,0.6051731240959267],[0.2801984624348342,0.6051731240959267],[0.6051731240959267,0.49376187514298536],[0.6051731240959267,0.32828045778038617],[0.6051731240959267,0.7290181390697199],[0.6051731240959267,0.5987667617957559],[0.6051731240959267,0.3597359633456222],[0.6051731240959267,0.8491902921025718],[0.6051731240959267,0.9972830140214519],[0.6051731240959267,0.026619353699646242],[0.6051731240959267,0.4442790945674951],[0.6051731240959267,0.3830580052838985],[0.6051731240959267,0.6326925592649957],[0.6051731240959267,0.6121577705870944],[0.11645916892168938,0.09989167185672589],[0.32828045778038617,0.49376187514298536],[0.32828045778038617,0.6326925592649957],[0.49376187514298536,0.04150772136896717],[0.49376187514298536,0.22574884153450211],[0.49376187514298536,0.16118645715419522],[0.49376187514298536,0.3830580052838985],[0.49376187514298536,0.6326925592649957],[0.49376187514298536,0.6121577705870944],[0.49376187514298536,0.1275287979745205],[0.49376187514298536,0.8491902921025718],[0.5987667617957559,0.6326925592649957],[0.026619353699646242,0.6326925592649957],[0.5310449205443606,0.1127977390851583],[0.22574884153450211,0.09989167185672589],[0.6326925592649957,0.6121577705870944]],\"year\":[2000,2000,2000,2000,2000,2000,2000,2000,2000,2000,2000,2000,2000,2000,2000,2000,2000,2000,2000,2000,2000,2000,2000,2000,2000,2000,2000,2000,2000,2000,2000,2000,2000,2000,2000,2000,2000,2000,2000,2000,2000,2000,2000,2000,2000,2000,2000,2000,2000,2000,2000,2000,2000,2000,2000,2000,2000,2000,2000,2000,2000,2000,2000,2000,2000,2000,2000,2000,2000,2000,2000,2000,2000,2000,2000,2000,2000,2000,2000,2000,2000,2000,2000,2000,2000,2000,2000,2000,2000,2000,2000,2000,2000,2000,2000,2000,2000,2000,2000,2000,2000,2000,2000,2000,2000,2000,2000,2000,2000,2000,2000,2000,2000,2000,2000,2000,2000,2000,2000,2000,2000,2000,2000,2000,2000,2000,2000,2000,2000,2000,2000,2000,2000,2000,2000,2000,2000,2000,2000,2000,2000,2000,2000,2000,2000,2000,2000,2000,2000,2000,2000,2000,2000,2000,2000,2000,2000,2000,2000,2000,2000,2000,2000,2000,2000,2000,2000,2000,2000,2000,2000,2000,2000,2000,2000,2000,2000,2000,2000,2000,2000,2000,2000,2000,2000,2000,2000,2000,2000,2000,2000,2000,2000,2000,2000,2000,2000,2000,2000,2000,2000,2000,2000,2000,2000,2000,2000,2000,2000,2000,2000,2000,2000,2000,2000,2000,2000,2000,2000,2000,2000,2000,2000,2000,2000,2000,2000,2000,2000,2000,2000,2000,2000,2000,2000,2000,2000,2000,2000,2000,2000,2000,2000,2000,2000,2000,2000,2000,2000,2000,2000,2000,2000,2000,2000,2000,2000,2000,2000,2000,2000,2000,2000,2000,2000,2000,2000,2000,2000,2000,2000,2000,2000,2000,2000,2000,2000,2000,2000,2000,2000,2000,2000,2000,2000,2000,2000,2000,2000,2000,2000,2000,2000,2000,2000,2000,2000,2000,2000,2000,2000,2000,2000,2000,2000,2000,2000,2000,2000,2000,2000,2000,2000,2000,2000,2000,2000,2000,2000,2000,2000,2000,2000,2000,2000,2000,2000,2000,2000,2000,2000,2000,2000,2000,2000,2000,2000,2000,2000,2000,2000,2000,2000,2000,2000,2000,2000,2000,2000,2000,2000,2000,2000,2000,2000,2000,2000,2000,2000,2000,2000,2000,2000,2000,2000,2000,2000,2000,2000,2000,2000,2000,2000,2000,2000,2000,2000,2000,2000,2000,2000,2000,2000,2000,2000,2000,2000,2000,2000,2000,2000,2000,2000,2000,2000,2000,2000,2000,2000,2000,2000,2000,2000,2000,2000,2000,2000,2000,2000,2000,2000,2000,2000,2000,2000,2000,2000,2000,2000,2000,2000,2000,2000,2000,2000,2000,2000,2000,2000,2000,2000,2000,2000,2000,2000,2000,2000,2000,2000,2000,2000,2000,2000,2000,2000,2000,2000,2000,2000,2000,2000,2000,2000,2000,2000,2000,2000,2000,2000,2000,2000,2000,2000,2000,2000,2000,2000,2000,2000,2000,2000,2000,2000,2000,2000,2000,2000,2000,2000,2000,2000,2000,2000,2000,2000,2000,2000,2000,2000,2000,2000,2000,2000,2000,2000,2000,2000,2000,2000,2000,2000,2000,2000,2000,2000,2000,2000,2000,2000,2000,2000,2000,2000,2000,2000,2000,2000,2000,2000,2000,2000,2000,2000,2000,2000,2000,2000,2000,2000,2000,2000,2000,2000,2000,2000,2000,2000,2000,2000,2000,2000,2000,2000,2000,2000,2000,2000,2000,2000,2000,2000,2000,2000,2000,2000,2000,2000,2000,2000,2000,2000,2000,2000,2000,2000,2000,2000,2000,2000,2000,2000,2000,2000,2000,2000,2000,2000,2000,2000,2000,2000,2000,2000,2000,2000,2000,2000,2000,2000,2000,2000,2000,2000,2000,2000,2000,2000,2000,2000,2000,2000,2000,2000,2000,2000,2000,2000,2000,2000,2000,2000,2000,2000,2000,2000,2000,2000,2000,2000,2000,2000,2000,2000,2000,2000,2000,2000,2000,2000,2000,2000,2000,2000,2000,2000,2000,2000,2000,2000,2000,2000,2000,2000,2000,2000,2000,2000,2000,2000,2000,2000,2000,2000,2000,2000,2000,2000,2000,2000,2000,2000,2000,2000,2000,2000,2000,2000,2000,2000,2000,2000,2000,2000,2000,2000,2000,2000,2000,2000,2000,2000,2000,2000,2000,2000,2000,2000,2000,2000,2000,2000,2000,2000,2000,2000,2000,2000,2000,2000,2000,2000,2000,2000,2000,2000,2000,2000,2000,2000,2000,2000,2000,2000,2000,2000,2000,2000,2000,2000,2000,2000,2000,2000,2000,2000,2000,2000,2000,2000,2000,2000,2000,2000,2000,2000,2000,2000,2000,2000,2000,2000,2000,2000,2000,2000,2000,2000,2000,2000,2000,2000,2000,2000,2000,2000,2000,2000,2000,2000,2000,2000,2000,2000,2000,2000,2000,2000,2000,2000,2000,2000,2000,2000,2000,2000,2000,2000,2000,2000,2000,2000,2000,2000,2000,2000,2000,2000,2000,2000,2000,2000,2000,2000,2000,2000,2000,2000,2000,2000,2000,2000,2000,2000,2000,2000,2000,2000,2000,2000,2000,2000,2000,2000,2000,2000,2000,2000,2000,2000,2000,2000,2000,2000,2000,2000,2000,2000,2000,2000,2000,2000,2000,2000,2000,2000,2000,2000,2000,2000,2000,2000,2000,2000,2000,2000,2000,2000,2000,2000,2000,2000,2000,2000,2000,2000,2000,2000,2000,2000,2000,2000,2000,2000,2000,2000,2000,2000,2000,2000,2000,2000,2000,2000,2000,2000,2000,2000,2000,2000,2000,2000,2000,2000,2000,2000,2000,2000,2000,2000,2000,2000,2000,2000,2000,2000,2000,2000,2000,2000,2000,2000,2000,2000,2000,2000,2000,2000,2000,2000,2000,2000,2000,2000,2000,2000,2000,2000,2000,2000,2000,2000,2000,2000,2000,2000,2000,2000,2000,2000,2000,2000,2000,2000,2000,2000,2000,2000,2000,2000,2000,2000,2000,2000,2000,2000,2000,2000,2000,2000,2000,2000,2000,2000,2000,2000,2000,2000,2000,2000,2000,2000,2000,2000,2000,2000,2000,2000,2000,2000,2000,2000,2000,2000,2000,2000,2000,2000,2000,2000,2000,2000],\"ys\":[[0.708949036733866,0.39308316323568465],[0.708949036733866,0.5812045835722591],[0.708949036733866,0.9161458681452793],[0.708949036733866,0.8487821958930505],[0.708949036733866,0.5791731659459162],[0.708949036733866,0.5870872925760926],[0.708949036733866,0.24677027449462066],[0.708949036733866,0.5681425918579212],[0.708949036733866,0.43782413359694217],[0.708949036733866,0.256698355945779],[0.708949036733866,0.03989300865307673],[0.708949036733866,0.6041496227448312],[0.708949036733866,0.4839430091847065],[0.708949036733866,0.21343341823658527],[0.708949036733866,0.28902779498734193],[0.708949036733866,0.6023999311835284],[0.708949036733866,0.5562225370842039],[0.708949036733866,0.5095158075166081],[0.708949036733866,0.6614572428485384],[0.708949036733866,0.004884200317951512],[0.708949036733866,0.05413297864013885],[0.708949036733866,0.41553377155650323],[0.708949036733866,0.6712020628576231],[0.708949036733866,0.5596379152794421],[0.708949036733866,0.8151664024624603],[0.708949036733866,0.7404164238711415],[0.708949036733866,0.6520370156053892],[0.708949036733866,0.4969446089734095],[0.708949036733866,0.46569449935268775],[0.708949036733866,0.022642444131082507],[0.708949036733866,0.7746763157700715],[0.708949036733866,1.0],[0.708949036733866,0.4958425877225121],[0.708949036733866,0.7688703907270031],[0.708949036733866,0.414042405885577],[0.708949036733866,0.5988807433794776],[0.708949036733866,0.6337241570532792],[0.708949036733866,0.48594017840200654],[0.708949036733866,0.6925543111977287],[0.708949036733866,0.3852631806150162],[0.708949036733866,0.8226122066775645],[0.708949036733866,0.5466530715156043],[0.708949036733866,0.10945226858280949],[0.708949036733866,0.242542160674151],[0.708949036733866,0.11335039299444988],[0.708949036733866,0.34104511139606436],[0.708949036733866,0.002943207298867866],[0.708949036733866,0.30633438131337065],[0.708949036733866,0.690414061551089],[0.708949036733866,0.7967105282938625],[0.708949036733866,0.6951577572074862],[0.708949036733866,0.5954386505564265],[0.708949036733866,0.5377523042176889],[0.708949036733866,0.6529141730937803],[0.708949036733866,0.34116456998882105],[0.708949036733866,0.8032467757922584],[0.708949036733866,0.7102555745082368],[0.708949036733866,0.6341594339997164],[0.33962947980829067,0.46569449935268775],[0.33962947980829067,0.5812045835722591],[0.33962947980829067,0.4860759642741822],[0.33962947980829067,0.5089079619250386],[0.33962947980829067,0.5870872925760926],[0.33962947980829067,0.5681425918579212],[0.33962947980829067,0.8978368322303774],[0.33962947980829067,0.43782413359694217],[0.33962947980829067,0.529636816262738],[0.5870872925760926,0.5812045835722591],[0.5870872925760926,0.39308316323568465],[0.5870872925760926,0.5089079619250386],[0.5870872925760926,0.8487821958930505],[0.5870872925760926,0.0923990867477837],[0.5870872925760926,0.5791731659459162],[0.5870872925760926,0.9718768038049783],[0.5870872925760926,0.014992583115443535],[0.5870872925760926,0.5681425918579212],[0.5870872925760926,0.44390446011736584],[0.5870872925760926,0.9065330263030027],[0.5870872925760926,0.7627517643095089],[0.5870872925760926,0.4839430091847065],[0.5870872925760926,0.5596379152794421],[0.5870872925760926,0.28902779498734193],[0.5870872925760926,0.9909604793120607],[0.5870872925760926,0.6023999311835284],[0.5870872925760926,0.5562225370842039],[0.5870872925760926,0.5095158075166081],[0.5870872925760926,0.6614572428485384],[0.5870872925760926,0.42210336898123035],[0.5870872925760926,0.46501018825377705],[0.5870872925760926,0.41553377155650323],[0.5870872925760926,0.6712020628576231],[0.5870872925760926,0.28216427340698363],[0.5870872925760926,0.28767737268461346],[0.5870872925760926,0.7404164238711415],[0.5870872925760926,0.6520370156053892],[0.5870872925760926,0.2616728472055211],[0.5870872925760926,0.4969446089734095],[0.5870872925760926,0.6041496227448312],[0.5870872925760926,0.809046749761805],[0.5870872925760926,0.43782413359694217],[0.5870872925760926,0.4958425877225121],[0.5870872925760926,0.660234625715304],[0.5870872925760926,0.414042405885577],[0.5870872925760926,0.5988807433794776],[0.5870872925760926,0.6337241570532792],[0.5870872925760926,0.48594017840200654],[0.5870872925760926,0.6925543111977287],[0.5870872925760926,0.021899798748530985],[0.5870872925760926,0.5420729908673055],[0.5870872925760926,0.7746763157700715],[0.5870872925760926,0.8097667927242951],[0.5870872925760926,0.5466530715156043],[0.5870872925760926,0.10945226858280949],[0.5870872925760926,0.7688703907270031],[0.5870872925760926,0.529636816262738],[0.5870872925760926,0.5390442094955332],[0.5870872925760926,0.242542160674151],[0.5870872925760926,0.34104511139606436],[0.5870872925760926,0.5665991364060283],[0.5870872925760926,0.6951577572074862],[0.5870872925760926,0.690414061551089],[0.5870872925760926,0.7967105282938625],[0.5870872925760926,0.3852631806150162],[0.5870872925760926,0.5954386505564265],[0.5870872925760926,0.256698355945779],[0.5870872925760926,0.5377523042176889],[0.5870872925760926,0.6529141730937803],[0.5870872925760926,0.8978368322303774],[0.5870872925760926,0.009265674629636527],[0.5870872925760926,0.8032467757922584],[0.5870872925760926,0.7102555745082368],[0.5870872925760926,0.9042449541039536],[0.5870872925760926,0.6341594339997164],[0.014992583115443535,0.5377523042176889],[0.014992583115443535,0.5089079619250386],[0.014992583115443535,0.4958425877225121],[0.014992583115443535,0.6337241570532792],[0.014992583115443535,0.4839430091847065],[0.014992583115443535,0.7688703907270031],[0.014992583115443535,0.41293166900622064],[0.24677027449462066,0.46569449935268775],[0.24677027449462066,0.8487821958930505],[0.24677027449462066,0.19812628394427112],[0.24677027449462066,0.5954386505564265],[0.24677027449462066,0.46501018825377705],[0.24677027449462066,0.0],[0.24677027449462066,0.41293166900622064],[0.30726976442861803,0.46569449935268775],[0.30726976442861803,0.19812628394427112],[0.30726976442861803,0.6337241570532792],[0.30726976442861803,0.46501018825377705],[0.30726976442861803,0.8570715088313895],[0.30726976442861803,0.529636816262738],[0.9065330263030027,0.39308316323568465],[0.9065330263030027,0.5089079619250386],[0.9065330263030027,0.6337241570532792],[0.9065330263030027,0.8978368322303774],[0.9065330263030027,0.46501018825377705],[0.9065330263030027,0.7627517643095089],[0.9065330263030027,0.529636816262738],[0.9065330263030027,0.4969446089734095],[0.7627517643095089,0.39308316323568465],[0.7627517643095089,0.46569449935268775],[0.7627517643095089,0.5681425918579212],[0.7627517643095089,0.6337241570532792],[0.7627517643095089,0.8978368322303774],[0.7627517643095089,0.46501018825377705],[0.7627517643095089,0.42210336898123035],[0.7627517643095089,0.4969446089734095],[0.004884200317951512,0.5988807433794776],[0.004884200317951512,0.5681425918579212],[0.004884200317951512,0.6337241570532792],[0.004884200317951512,0.46501018825377705],[0.004884200317951512,0.529636816262738],[0.004884200317951512,0.4969446089734095],[0.28902779498734193,0.6951577572074862],[0.28902779498734193,0.705090732198442],[0.28902779498734193,0.6337241570532792],[0.28902779498734193,0.8978368322303774],[0.28902779498734193,0.46501018825377705],[0.28902779498734193,0.6341594339997164],[0.28902779498734193,0.529636816262738],[0.28902779498734193,0.4969446089734095],[0.6023999311835284,0.5812045835722591],[0.6023999311835284,0.43782413359694217],[0.6023999311835284,0.5089079619250386],[0.6023999311835284,0.5390442094955332],[0.6023999311835284,0.6951577572074862],[0.6023999311835284,0.6925543111977287],[0.6023999311835284,0.5681425918579212],[0.6023999311835284,0.6337241570532792],[0.6023999311835284,0.5466530715156043],[0.6023999311835284,0.8978368322303774],[0.6023999311835284,0.46501018825377705],[0.6023999311835284,0.5377523042176889],[0.6023999311835284,0.7746763157700715],[0.6023999311835284,0.28216427340698363],[0.6023999311835284,0.7232246865603701],[0.6023999311835284,0.4969446089734095],[0.9964323922834429,0.5812045835722591],[0.9964323922834429,0.7746763157700715],[0.9964323922834429,0.6925543111977287],[0.9964323922834429,0.5681425918579212],[0.9964323922834429,0.8978368322303774],[0.9964323922834429,0.4839430091847065],[0.9964323922834429,0.529636816262738],[0.6520370156053892,0.5812045835722591],[0.6520370156053892,0.5089079619250386],[0.6520370156053892,0.5681425918579212],[0.6520370156053892,0.18025767859194156],[0.6520370156053892,0.5095158075166081],[0.6520370156053892,0.6614572428485384],[0.6520370156053892,0.28767737268461346],[0.6520370156053892,0.4958425877225121],[0.6520370156053892,0.7404164238711415],[0.6520370156053892,0.4969446089734095],[0.6520370156053892,1.0],[0.6520370156053892,0.6712020628576231],[0.6520370156053892,0.6504441668068701],[0.6520370156053892,0.7746763157700715],[0.6520370156053892,0.6337241570532792],[0.6520370156053892,0.6925543111977287],[0.6520370156053892,0.5466530715156043],[0.6520370156053892,0.529636816262738],[0.6520370156053892,0.5390442094955332],[0.6520370156053892,0.242542160674151],[0.6520370156053892,0.6951577572074862],[0.6520370156053892,0.690414061551089],[0.6520370156053892,0.9042449541039536],[0.6520370156053892,0.5377523042176889],[0.6520370156053892,0.6529141730937803],[0.6520370156053892,0.8978368322303774],[0.4969446089734095,0.39308316323568465],[0.4969446089734095,0.5089079619250386],[0.4969446089734095,0.8487821958930505],[0.4969446089734095,0.5681425918579212],[0.4969446089734095,0.9613927836555833],[0.4969446089734095,0.8978368322303774],[0.4969446089734095,0.4839430091847065],[0.4969446089734095,0.21343341823658527],[0.4969446089734095,0.5988807433794776],[0.4969446089734095,0.5562225370842039],[0.4969446089734095,0.5095158075166081],[0.4969446089734095,0.42210336898123035],[0.4969446089734095,0.28767737268461346],[0.4969446089734095,0.41553377155650323],[0.4969446089734095,0.414042405885577],[0.4969446089734095,0.6712020628576231],[0.4969446089734095,0.7688703907270031],[0.4969446089734095,0.7746763157700715],[0.4969446089734095,0.5812045835722591],[0.4969446089734095,0.6337241570532792],[0.4969446089734095,0.6925543111977287],[0.4969446089734095,0.5466530715156043],[0.4969446089734095,0.7232246865603701],[0.4969446089734095,0.5390442094955332],[0.4969446089734095,0.242542160674151],[0.4969446089734095,0.34104511139606436],[0.4969446089734095,0.30633438131337065],[0.4969446089734095,0.690414061551089],[0.4969446089734095,0.7967105282938625],[0.4969446089734095,0.3852631806150162],[0.4969446089734095,0.5954386505564265],[0.4969446089734095,0.6951577572074862],[0.4969446089734095,0.5377523042176889],[0.4969446089734095,0.6529141730937803],[0.4969446089734095,0.7061082184254444],[0.4969446089734095,0.8032467757922584],[0.4969446089734095,0.0923990867477837],[0.43782413359694217,0.5812045835722591],[0.43782413359694217,0.5089079619250386],[0.43782413359694217,0.6614572428485384],[0.43782413359694217,0.5681425918579212],[0.43782413359694217,0.256698355945779],[0.43782413359694217,0.42210336898123035],[0.43782413359694217,0.21343341823658527],[0.43782413359694217,0.9909604793120607],[0.43782413359694217,0.5988807433794776],[0.43782413359694217,0.5562225370842039],[0.43782413359694217,0.30633438131337065],[0.43782413359694217,0.4839430091847065],[0.43782413359694217,0.28767737268461346],[0.43782413359694217,0.41553377155650323],[0.43782413359694217,0.6712020628576231],[0.43782413359694217,0.28216427340698363],[0.43782413359694217,0.5596379152794421],[0.43782413359694217,0.414042405885577],[0.43782413359694217,0.4958425877225121],[0.43782413359694217,0.7688703907270031],[0.43782413359694217,0.7746763157700715],[0.43782413359694217,0.6337241570532792],[0.43782413359694217,0.48594017840200654],[0.43782413359694217,0.6925543111977287],[0.43782413359694217,0.021899798748530985],[0.43782413359694217,0.10945226858280949],[0.43782413359694217,0.242542160674151],[0.43782413359694217,0.11335039299444988],[0.43782413359694217,0.5665991364060283],[0.43782413359694217,0.34104511139606436],[0.43782413359694217,0.6951577572074862],[0.43782413359694217,0.690414061551089],[0.43782413359694217,0.3852631806150162],[0.43782413359694217,0.5791731659459162],[0.43782413359694217,0.5377523042176889],[0.43782413359694217,0.6529141730937803],[0.43782413359694217,0.8032467757922584],[0.43782413359694217,0.7102555745082368],[0.43782413359694217,0.6341594339997164],[0.5390442094955332,0.46569449935268775],[0.5390442094955332,0.5812045835722591],[0.5390442094955332,0.5089079619250386],[0.5390442094955332,0.2616728472055211],[0.5390442094955332,1.0],[0.5390442094955332,0.28767737268461346],[0.5390442094955332,0.39308316323568465],[0.5390442094955332,0.5681425918579212],[0.5390442094955332,0.6337241570532792],[0.5390442094955332,0.16260392981461316],[0.5390442094955332,0.6925543111977287],[0.5390442094955332,0.46501018825377705],[0.5390442094955332,0.5377523042176889],[0.5390442094955332,0.5466530715156043],[0.5390442094955332,0.5596379152794421],[0.5390442094955332,0.7404164238711415],[0.5390442094955332,0.529636816262738],[0.705090732198442,0.46569449935268775],[0.705090732198442,0.6337241570532792],[0.705090732198442,0.19812628394427112],[0.705090732198442,0.41293166900622064],[0.6712020628576231,0.18025767859194156],[0.6712020628576231,0.6337241570532792],[0.6712020628576231,0.5089079619250386],[0.6712020628576231,0.5681425918579212],[0.6712020628576231,0.5377523042176889],[0.6504441668068701,0.46569449935268775],[0.6504441668068701,0.46501018825377705],[0.6504441668068701,0.5089079619250386],[0.5420729908673055,0.6337241570532792],[0.5420729908673055,0.5681425918579212],[0.5420729908673055,0.46501018825377705],[0.5420729908673055,0.6951577572074862],[0.10945226858280949,0.6337241570532792],[0.10945226858280949,0.5988807433794776],[0.10945226858280949,0.5562225370842039],[0.10945226858280949,0.5089079619250386],[0.10945226858280949,0.7746763157700715],[0.10945226858280949,0.5681425918579212],[0.10945226858280949,0.5377523042176889],[0.7232246865603701,0.46569449935268775],[0.7232246865603701,0.5562225370842039],[0.7232246865603701,0.5089079619250386],[0.7232246865603701,0.8487821958930505],[0.7232246865603701,0.6951577572074862],[0.7232246865603701,0.6337241570532792],[0.7232246865603701,0.4860759642741822],[0.7232246865603701,0.28767737268461346],[0.7232246865603701,0.529636816262738],[0.5791731659459162,0.5089079619250386],[0.5791731659459162,0.5681425918579212],[0.5791731659459162,0.21343341823658527],[0.5791731659459162,0.7779714352388815],[0.5791731659459162,0.5988807433794776],[0.5791731659459162,0.5562225370842039],[0.5791731659459162,0.46569449935268775],[0.5791731659459162,0.022642444131082507],[0.5791731659459162,0.7688703907270031],[0.5791731659459162,0.6337241570532792],[0.5791731659459162,0.036122048021492825],[0.5791731659459162,0.5466530715156043],[0.5791731659459162,0.529636816262738],[0.5791731659459162,0.36902541097366975],[0.5791731659459162,0.6951577572074862],[0.5791731659459162,0.5377523042176889],[0.5791731659459162,0.16260392981461316],[0.48374205217314675,0.46569449935268775],[0.48374205217314675,0.5812045835722591],[0.48374205217314675,0.5988807433794776],[0.48374205217314675,0.4860759642741822],[0.48374205217314675,0.6951577572074862],[0.48374205217314675,0.6337241570532792],[0.48374205217314675,0.529636816262738],[0.0923990867477837,0.6951577572074862],[0.0923990867477837,0.19812628394427112],[0.0923990867477837,0.5681425918579212],[0.0923990867477837,0.28767737268461346],[0.0923990867477837,0.46501018825377705],[0.0923990867477837,0.529636816262738],[0.6341594339997164,0.5812045835722591],[0.6341594339997164,0.5988807433794776],[0.6341594339997164,0.8032467757922584],[0.6341594339997164,0.6529141730937803],[0.6341594339997164,0.414042405885577],[0.6341594339997164,0.5681425918579212],[0.6341594339997164,0.6337241570532792],[0.6341594339997164,0.660234625715304],[0.6341594339997164,0.6925543111977287],[0.6341594339997164,0.5562225370842039],[0.6341594339997164,0.28767737268461346],[0.6341594339997164,0.5377523042176889],[0.6341594339997164,0.256698355945779],[0.6341594339997164,0.7404164238711415],[0.6341594339997164,0.7967105282938625],[0.6341594339997164,0.529636816262738],[0.5940196011030896,0.529636816262738],[0.5940196011030896,0.41293166900622064],[0.5812045835722591,0.8068504931798808],[0.5812045835722591,0.9161458681452793],[0.5812045835722591,0.5089079619250386],[0.5812045835722591,0.2616728472055211],[0.5812045835722591,0.5681425918579212],[0.5812045835722591,0.3758534718115175],[0.5812045835722591,0.6041496227448312],[0.5812045835722591,0.4839430091847065],[0.5812045835722591,0.18025767859194156],[0.5812045835722591,0.46501018825377705],[0.5812045835722591,0.7404164238711415],[0.5812045835722591,0.4958425877225121],[0.5812045835722591,0.660234625715304],[0.5812045835722591,0.5988807433794776],[0.5812045835722591,0.6337241570532792],[0.5812045835722591,0.529636816262738],[0.5812045835722591,0.690414061551089],[0.5812045835722591,0.7967105282938625],[0.5812045835722591,0.5377523042176889],[0.5812045835722591,0.6529141730937803],[0.5812045835722591,0.9613927836555833],[0.5812045835722591,0.009265674629636527],[0.5812045835722591,0.8032467757922584],[0.8068504931798808,0.46569449935268775],[0.8068504931798808,0.5089079619250386],[0.8068504931798808,0.8487821958930505],[0.8068504931798808,0.6337241570532792],[0.8068504931798808,0.0],[0.8068504931798808,0.5377523042176889],[0.8068504931798808,0.5466530715156043],[0.8068504931798808,0.4839430091847065],[0.8068504931798808,0.529636816262738],[0.2616728472055211,0.242542160674151],[0.2616728472055211,0.5089079619250386],[0.2616728472055211,0.19812628394427112],[0.2616728472055211,0.5681425918579212],[0.2616728472055211,0.5377523042176889],[0.2616728472055211,0.6337241570532792],[0.2616728472055211,0.46501018825377705],[0.2616728472055211,0.46569449935268775],[0.2616728472055211,0.529636816262738],[0.809046749761805,0.5089079619250386],[0.809046749761805,0.5681425918579212],[0.809046749761805,0.6337241570532792],[0.5954386505564265,0.46569449935268775],[0.5954386505564265,0.5988807433794776],[0.5954386505564265,0.8487821958930505],[0.5954386505564265,0.242542160674151],[0.5954386505564265,0.5681425918579212],[0.5954386505564265,0.0],[0.5954386505564265,0.7688703907270031],[0.5954386505564265,0.529636816262738],[0.0011558087403482084,0.529636816262738],[0.5681425918579212,0.39308316323568465],[0.5681425918579212,0.9161458681452793],[0.5681425918579212,0.5089079619250386],[0.5681425918579212,0.932391578335832],[0.5681425918579212,0.6041496227448312],[0.5681425918579212,0.18025767859194156],[0.5681425918579212,0.9909604793120607],[0.5681425918579212,0.5562225370842039],[0.5681425918579212,0.5095158075166081],[0.5681425918579212,0.6614572428485384],[0.5681425918579212,0.4839430091847065],[0.5681425918579212,0.7967105282938625],[0.5681425918579212,0.7061082184254444],[0.5681425918579212,0.46501018825377705],[0.5681425918579212,0.21343341823658527],[0.5681425918579212,0.41553377155650323],[0.5681425918579212,0.4958425877225121],[0.5681425918579212,0.28216427340698363],[0.5681425918579212,0.28767737268461346],[0.5681425918579212,0.7404164238711415],[0.5681425918579212,0.9042449541039536],[0.5681425918579212,1.0],[0.5681425918579212,0.7688703907270031],[0.5681425918579212,0.414042405885577],[0.5681425918579212,0.5988807433794776],[0.5681425918579212,0.6337241570532792],[0.5681425918579212,0.48594017840200654],[0.5681425918579212,0.6925543111977287],[0.5681425918579212,0.3852631806150162],[0.5681425918579212,0.7746763157700715],[0.5681425918579212,0.5596379152794421],[0.5681425918579212,0.529636816262738],[0.5681425918579212,0.41293166900622064],[0.5681425918579212,0.242542160674151],[0.5681425918579212,0.002943207298867866],[0.5681425918579212,0.5665991364060283],[0.5681425918579212,0.30633438131337065],[0.5681425918579212,0.690414061551089],[0.5681425918579212,0.6951577572074862],[0.5681425918579212,0.256698355945779],[0.5681425918579212,0.5377523042176889],[0.5681425918579212,0.6529141730937803],[0.5681425918579212,0.8978368322303774],[0.5681425918579212,0.8032467757922584],[0.5681425918579212,0.7102555745082368],[0.5681425918579212,0.8097667927242951],[0.5681425918579212,0.9513993145353901],[0.9613927836555833,0.46569449935268775],[0.9613927836555833,0.5988807433794776],[0.9613927836555833,0.6951577572074862],[0.9613927836555833,0.46501018825377705],[0.9613927836555833,0.529636816262738],[0.0,0.46569449935268775],[0.0,0.11335039299444988],[0.0,0.8487821958930505],[0.0,0.37865260558026737],[0.0,0.5089079619250386],[0.0,0.9513993145353901],[0.0,0.529636816262738],[0.256698355945779,0.5377523042176889],[0.256698355945779,0.5988807433794776],[0.256698355945779,0.5089079619250386],[0.256698355945779,0.6337241570532792],[0.256698355945779,0.46501018825377705],[0.256698355945779,0.529636816262738],[0.03989300865307673,0.46569449935268775],[0.03989300865307673,0.46501018825377705],[0.03989300865307673,0.529636816262738],[0.4839430091847065,0.5089079619250386],[0.4839430091847065,0.8487821958930505],[0.4839430091847065,0.932391578335832],[0.4839430091847065,0.44390446011736584],[0.4839430091847065,0.6041496227448312],[0.4839430091847065,0.5562225370842039],[0.4839430091847065,0.41553377155650323],[0.4839430091847065,0.7688703907270031],[0.4839430091847065,0.7746763157700715],[0.4839430091847065,0.6337241570532792],[0.4839430091847065,0.6925543111977287],[0.4839430091847065,0.5059793182661331],[0.4839430091847065,0.5466530715156043],[0.4839430091847065,0.39308316323568465],[0.4839430091847065,0.242542160674151],[0.4839430091847065,0.6951577572074862],[0.4839430091847065,0.5377523042176889],[0.6614572428485384,0.5377523042176889],[0.6614572428485384,0.5988807433794776],[0.6614572428485384,0.5562225370842039],[0.6614572428485384,0.5089079619250386],[0.6614572428485384,0.002943207298867866],[0.6614572428485384,0.6951577572074862],[0.6614572428485384,0.4958425877225121],[0.6614572428485384,0.6337241570532792],[0.6614572428485384,0.6925543111977287],[0.6614572428485384,0.5466530715156043],[0.6614572428485384,0.5596379152794421],[0.6614572428485384,0.6041496227448312],[0.9879440400721837,0.690414061551089],[0.9879440400721837,0.19812628394427112],[0.9879440400721837,0.053071660375550195],[0.46501018825377705,0.37865260558026737],[0.46501018825377705,0.42210336898123035],[0.46501018825377705,0.6041496227448312],[0.46501018825377705,0.21343341823658527],[0.46501018825377705,0.4860759642741822],[0.46501018825377705,0.6280852563806276],[0.46501018825377705,0.5095158075166081],[0.46501018825377705,0.05413297864013885],[0.46501018825377705,0.28767737268461346],[0.46501018825377705,0.5596379152794421],[0.46501018825377705,0.46569449935268775],[0.46501018825377705,0.414042405885577],[0.46501018825377705,0.48594017840200654],[0.46501018825377705,0.8226122066775645],[0.46501018825377705,0.5466530715156043],[0.46501018825377705,0.5827915437888479],[0.46501018825377705,0.529636816262738],[0.46501018825377705,0.002943207298867866],[0.46501018825377705,0.36902541097366975],[0.46501018825377705,0.30633438131337065],[0.46501018825377705,0.690414061551089],[0.46501018825377705,0.928457658564878],[0.46501018825377705,0.5377523042176889],[0.46501018825377705,0.6529141730937803],[0.46501018825377705,0.34116456998882105],[0.46501018825377705,0.2670415780495505],[0.46501018825377705,0.16260392981461316],[0.46501018825377705,0.036122048021492825],[0.053071660375550195,0.46569449935268775],[0.053071660375550195,0.4860759642741822],[0.053071660375550195,0.529636816262738],[0.8151664024624603,0.39308316323568465],[0.8151664024624603,0.5988807433794776],[0.46569449935268775,0.8822209137462341],[0.46569449935268775,0.37865260558026737],[0.46569449935268775,0.6041496227448312],[0.46569449935268775,0.42210336898123035],[0.46569449935268775,0.4860759642741822],[0.46569449935268775,0.5095158075166081],[0.46569449935268775,0.05413297864013885],[0.46569449935268775,0.28767737268461346],[0.46569449935268775,0.7404164238711415],[0.46569449935268775,0.7967105282938625],[0.46569449935268775,0.3758534718115175],[0.46569449935268775,0.5665991364060283],[0.46569449935268775,0.6337241570532792],[0.46569449935268775,0.48594017840200654],[0.46569449935268775,0.5059793182661331],[0.46569449935268775,0.8226122066775645],[0.46569449935268775,0.5596379152794421],[0.46569449935268775,0.529636816262738],[0.46569449935268775,0.36902541097366975],[0.46569449935268775,0.002943207298867866],[0.46569449935268775,0.928457658564878],[0.46569449935268775,0.690414061551089],[0.46569449935268775,0.34116456998882105],[0.46569449935268775,0.2670415780495505],[0.46569449935268775,0.16260392981461316],[0.46569449935268775,0.9513993145353901],[0.18025767859194156,0.5377523042176889],[0.18025767859194156,0.6337241570532792],[0.18025767859194156,0.28216427340698363],[0.7746763157700715,0.8822209137462341],[0.7746763157700715,0.5089079619250386],[0.7746763157700715,0.44390446011736584],[0.7746763157700715,0.5988807433794776],[0.7746763157700715,0.5095158075166081],[0.7746763157700715,0.41553377155650323],[0.7746763157700715,0.4958425877225121],[0.7746763157700715,0.7688703907270031],[0.7746763157700715,0.6337241570532792],[0.7746763157700715,0.48594017840200654],[0.7746763157700715,0.6925543111977287],[0.7746763157700715,0.5059793182661331],[0.7746763157700715,0.5466530715156043],[0.7746763157700715,0.5665991364060283],[0.7746763157700715,0.34104511139606436],[0.7746763157700715,0.6951577572074862],[0.7746763157700715,0.690414061551089],[0.7746763157700715,0.8032467757922584],[0.7746763157700715,0.8570715088313895],[1.0,0.5089079619250386],[1.0,0.002943207298867866],[1.0,0.37865260558026737],[1.0,0.8978368322303774],[1.0,0.28767737268461346],[1.0,0.529636816262738],[0.414042405885577,0.39308316323568465],[0.414042405885577,0.5089079619250386],[0.414042405885577,0.8487821958930505],[0.414042405885577,0.9909604793120607],[0.414042405885577,0.5988807433794776],[0.414042405885577,0.5562225370842039],[0.414042405885577,0.28216427340698363],[0.414042405885577,0.4958425877225121],[0.414042405885577,0.7688703907270031],[0.414042405885577,0.6337241570532792],[0.414042405885577,0.5466530715156043],[0.414042405885577,0.529636816262738],[0.414042405885577,0.5377523042176889],[0.414042405885577,0.6529141730937803],[0.414042405885577,0.7061082184254444],[0.414042405885577,0.16260392981461316],[0.6337241570532792,0.16260392981461316],[0.6337241570532792,0.8487821958930505],[0.6337241570532792,0.6925543111977287],[0.6337241570532792,0.529636816262738],[0.6337241570532792,0.41293166900622064],[0.6337241570532792,0.242542160674151],[0.6337241570532792,0.11335039299444988],[0.6337241570532792,0.002943207298867866],[0.6337241570532792,0.6951577572074862],[0.6337241570532792,0.6529141730937803],[0.6337241570532792,0.7061082184254444],[0.6337241570532792,0.8570715088313895],[0.6337241570532792,0.39308316323568465],[0.6337241570532792,0.932391578335832],[0.6337241570532792,0.9718768038049783],[0.6337241570532792,0.8822209137462341],[0.6337241570532792,0.44390446011736584],[0.6337241570532792,0.6041496227448312],[0.6337241570532792,0.21343341823658527],[0.6337241570532792,0.9909604793120607],[0.6337241570532792,0.5562225370842039],[0.6337241570532792,0.5095158075166081],[0.6337241570532792,0.41553377155650323],[0.6337241570532792,0.28216427340698363],[0.6337241570532792,0.5596379152794421],[0.6337241570532792,0.7404164238711415],[0.6337241570532792,0.3758534718115175],[0.6337241570532792,0.4958425877225121],[0.6337241570532792,0.7688703907270031],[0.6337241570532792,0.48594017840200654],[0.6337241570532792,0.036122048021492825],[0.6337241570532792,0.5466530715156043],[0.6337241570532792,0.34104511139606436],[0.6337241570532792,0.5665991364060283],[0.6337241570532792,0.30633438131337065],[0.6337241570532792,0.9042449541039536],[0.6337241570532792,0.009265674629636527],[0.6337241570532792,0.8032467757922584],[0.6337241570532792,0.9161458681452793],[0.6337241570532792,0.5089079619250386],[0.6337241570532792,0.5988807433794776],[0.6337241570532792,0.8978368322303774],[0.6337241570532792,0.28767737268461346],[0.6337241570532792,0.7967105282938625],[0.6337241570532792,0.660234625715304],[0.6337241570532792,0.07253611490304321],[0.6337241570532792,0.021899798748530985],[0.6337241570532792,0.8097667927242951],[0.6337241570532792,0.928457658564878],[0.6337241570532792,0.690414061551089],[0.6337241570532792,0.5377523042176889],[0.6337241570532792,0.34116456998882105],[0.6337241570532792,0.7102555745082368],[0.6337241570532792,0.5059793182661331],[0.6925543111977287,0.39308316323568465],[0.6925543111977287,0.5089079619250386],[0.6925543111977287,0.8487821958930505],[0.6925543111977287,0.9909604793120607],[0.6925543111977287,0.5988807433794776],[0.6925543111977287,0.5562225370842039],[0.6925543111977287,0.5596379152794421],[0.6925543111977287,0.4958425877225121],[0.6925543111977287,0.7688703907270031],[0.6925543111977287,0.021899798748530985],[0.6925543111977287,0.5059793182661331],[0.6925543111977287,0.8097667927242951],[0.6925543111977287,0.5466530715156043],[0.6925543111977287,0.5665991364060283],[0.6925543111977287,0.6951577572074862],[0.6925543111977287,0.3852631806150162],[0.6925543111977287,0.5377523042176889],[0.6925543111977287,0.7102555745082368],[0.6925543111977287,0.8570715088313895],[0.4860759642741822,0.07819485491067046],[0.4860759642741822,0.6280852563806276],[0.4860759642741822,0.2670415780495505],[0.4860759642741822,0.37865260558026737],[0.4860759642741822,0.5827915437888479],[0.4860759642741822,0.6041496227448312],[0.4860759642741822,0.529636816262738],[0.529636816262738,0.8822209137462341],[0.529636816262738,0.5089079619250386],[0.529636816262738,0.8487821958930505],[0.529636816262738,0.37865260558026737],[0.529636816262738,0.8570715088313895],[0.529636816262738,0.42210336898123035],[0.529636816262738,0.21343341823658527],[0.529636816262738,0.5988807433794776],[0.529636816262738,0.6280852563806276],[0.529636816262738,0.5095158075166081],[0.529636816262738,0.6951577572074862],[0.529636816262738,0.932391578335832],[0.529636816262738,0.28767737268461346],[0.529636816262738,0.7404164238711415],[0.529636816262738,0.7967105282938625],[0.529636816262738,0.6041496227448312],[0.529636816262738,0.07819485491067046],[0.529636816262738,0.022642444131082507],[0.529636816262738,0.2670415780495505],[0.529636816262738,0.7688703907270031],[0.529636816262738,0.9973056615168354],[0.529636816262738,0.48594017840200654],[0.529636816262738,0.021899798748530985],[0.529636816262738,0.5059793182661331],[0.529636816262738,0.8226122066775645],[0.529636816262738,0.5596379152794421],[0.529636816262738,0.5827915437888479],[0.529636816262738,0.39308316323568465],[0.529636816262738,0.002943207298867866],[0.529636816262738,0.36902541097366975],[0.529636816262738,0.3852631806150162],[0.529636816262738,0.690414061551089],[0.529636816262738,0.9513993145353901],[0.529636816262738,0.30633438131337065],[0.529636816262738,0.5377523042176889],[0.529636816262738,0.6529141730937803],[0.529636816262738,0.7061082184254444],[0.529636816262738,0.34116456998882105],[0.529636816262738,0.8032467757922584],[0.529636816262738,0.7102555745082368],[0.41293166900622064,0.07819485491067046],[0.41293166900622064,0.5988807433794776],[0.41293166900622064,0.3758534718115175],[0.41293166900622064,0.5089079619250386],[0.41293166900622064,0.002943207298867866],[0.41293166900622064,0.28216427340698363],[0.41293166900622064,0.11335039299444988],[0.41293166900622064,0.7404164238711415],[0.242542160674151,0.5377523042176889],[0.242542160674151,0.5988807433794776],[0.242542160674151,0.5089079619250386],[0.242542160674151,0.5466530715156043],[0.11335039299444988,0.39308316323568465],[0.11335039299444988,0.5988807433794776],[0.11335039299444988,0.8487821958930505],[0.11335039299444988,0.12463440631621009],[0.34104511139606436,0.5988807433794776],[0.34104511139606436,0.5089079619250386],[0.34104511139606436,0.3852631806150162],[0.34104511139606436,0.8978368322303774],[0.34104511139606436,0.41553377155650323],[0.34104511139606436,0.28216427340698363],[0.6951577572074862,0.39308316323568465],[0.6951577572074862,0.5089079619250386],[0.6951577572074862,0.44390446011736584],[0.6951577572074862,0.6041496227448312],[0.6951577572074862,0.21343341823658527],[0.6951577572074862,0.5095158075166081],[0.6951577572074862,0.05413297864013885],[0.6951577572074862,0.28767737268461346],[0.6951577572074862,0.5596379152794421],[0.6951577572074862,0.7404164238711415],[0.6951577572074862,0.5988807433794776],[0.6951577572074862,0.8226122066775645],[0.6951577572074862,0.928457658564878],[0.6951577572074862,0.690414061551089],[0.6951577572074862,0.5377523042176889],[0.6951577572074862,0.7061082184254444],[0.6951577572074862,0.34116456998882105],[0.6951577572074862,0.2670415780495505],[0.6529141730937803,0.5377523042176889],[0.6529141730937803,0.5089079619250386],[0.6529141730937803,0.5466530715156043],[0.6529141730937803,0.39308316323568465],[0.6529141730937803,0.7688703907270031],[0.8978368322303774,0.5089079619250386],[0.8978368322303774,0.8487821958930505],[0.8978368322303774,0.932391578335832],[0.8978368322303774,0.42210336898123035],[0.8978368322303774,0.6041496227448312],[0.8978368322303774,0.5596379152794421],[0.8978368322303774,0.7688703907270031],[0.8978368322303774,0.5988807433794776],[0.8978368322303774,0.5466530715156043],[0.8978368322303774,0.5377523042176889],[0.8978368322303774,0.2670415780495505],[0.2670415780495505,0.5988807433794776],[0.8097667927242951,0.5377523042176889],[0.8097667927242951,0.5562225370842039],[0.8097667927242951,0.5089079619250386],[0.39308316323568465,0.5089079619250386],[0.39308316323568465,0.21343341823658527],[0.39308316323568465,0.5988807433794776],[0.39308316323568465,0.28767737268461346],[0.39308316323568465,0.41553377155650323],[0.39308316323568465,0.4958425877225121],[0.39308316323568465,0.036122048021492825],[0.39308316323568465,0.5466530715156043],[0.39308316323568465,0.3852631806150162],[0.39308316323568465,0.5377523042176889],[0.39308316323568465,0.8032467757922584],[0.39308316323568465,0.7102555745082368],[0.932391578335832,0.5377523042176889],[0.932391578335832,0.5089079619250386],[0.9718768038049783,0.5089079619250386],[0.9161458681452793,0.5089079619250386],[0.9161458681452793,0.30633438131337065],[0.9161458681452793,0.5466530715156043],[0.44390446011736584,0.5377523042176889],[0.44390446011736584,0.5562225370842039],[0.44390446011736584,0.5089079619250386],[0.44390446011736584,0.41553377155650323],[0.44390446011736584,0.5466530715156043],[0.6041496227448312,0.5988807433794776],[0.6041496227448312,0.5089079619250386],[0.6041496227448312,0.8487821958930505],[0.21343341823658527,0.5377523042176889],[0.21343341823658527,0.5988807433794776],[0.21343341823658527,0.5089079619250386],[0.21343341823658527,0.3852631806150162],[0.21343341823658527,0.41553377155650323],[0.21343341823658527,0.42210336898123035],[0.8487821958930505,0.5089079619250386],[0.8487821958930505,0.5988807433794776],[0.8487821958930505,0.7404164238711415],[0.8487821958930505,0.3758534718115175],[0.8487821958930505,0.5665991364060283],[0.8487821958930505,0.928457658564878],[0.8487821958930505,0.30633438131337065],[0.8487821958930505,0.5377523042176889],[0.8487821958930505,0.9513993145353901],[0.9909604793120607,0.4958425877225121],[0.5562225370842039,0.5089079619250386],[0.5562225370842039,0.5988807433794776],[0.5562225370842039,0.28767737268461346],[0.5562225370842039,0.07253611490304321],[0.5562225370842039,0.5377523042176889],[0.5562225370842039,0.16260392981461316],[0.6280852563806276,0.37865260558026737],[0.6280852563806276,0.5827915437888479],[0.6280852563806276,0.7404164238711415],[0.6280852563806276,0.42210336898123035],[0.5095158075166081,0.5089079619250386],[0.5095158075166081,0.7688703907270031],[0.5095158075166081,0.5377523042176889],[0.5095158075166081,0.4958425877225121],[0.41553377155650323,0.5377523042176889],[0.41553377155650323,0.5988807433794776],[0.41553377155650323,0.5089079619250386],[0.41553377155650323,0.28216427340698363],[0.41553377155650323,0.5466530715156043],[0.28216427340698363,0.5377523042176889],[0.28216427340698363,0.5089079619250386],[0.28216427340698363,0.002943207298867866],[0.28216427340698363,0.48594017840200654],[0.28216427340698363,0.5665991364060283],[0.28216427340698363,0.9042449541039536],[0.28216427340698363,0.5988807433794776],[0.28216427340698363,0.28767737268461346],[0.28216427340698363,0.5466530715156043],[0.5596379152794421,0.5377523042176889],[0.5596379152794421,0.5988807433794776],[0.5596379152794421,0.5089079619250386],[0.5596379152794421,0.4958425877225121],[0.7404164238711415,0.5089079619250386],[0.7404164238711415,0.7688703907270031],[0.7404164238711415,0.19812628394427112],[0.7404164238711415,0.28767737268461346],[0.7404164238711415,0.5377523042176889],[0.7404164238711415,0.7102555745082368],[0.7404164238711415,0.8570715088313895],[0.3758534718115175,0.5988807433794776],[0.3758534718115175,0.7688703907270031],[0.3758534718115175,0.7779714352388815],[0.3758534718115175,0.7967105282938625],[0.4958425877225121,0.5377523042176889],[0.4958425877225121,0.5988807433794776],[0.4958425877225121,0.30633438131337065],[0.4958425877225121,0.8032467757922584],[0.4958425877225121,0.5466530715156043],[0.7688703907270031,0.5089079619250386],[0.7688703907270031,0.5988807433794776],[0.7688703907270031,0.28767737268461346],[0.7688703907270031,0.660234625715304],[0.7688703907270031,0.5377523042176889],[0.12463440631621009,0.5377523042176889],[0.48594017840200654,0.5988807433794776],[0.48594017840200654,0.5089079619250386],[0.48594017840200654,0.5466530715156043],[0.036122048021492825,0.5089079619250386],[0.5466530715156043,0.42210336898123035],[0.5466530715156043,0.002943207298867866],[0.5466530715156043,0.30633438131337065],[0.5466530715156043,0.5377523042176889],[0.002943207298867866,0.5988807433794776],[0.002943207298867866,0.5089079619250386],[0.5665991364060283,0.5377523042176889],[0.928457658564878,0.5988807433794776],[0.9042449541039536,0.28767737268461346],[0.8032467757922584,0.5988807433794776],[0.8032467757922584,0.5089079619250386],[0.9513993145353901,0.5089079619250386],[0.5089079619250386,0.5988807433794776],[0.5089079619250386,0.42210336898123035],[0.5089079619250386,0.05413297864013885],[0.5089079619250386,0.28767737268461346],[0.5089079619250386,0.021899798748530985],[0.5089079619250386,0.8570715088313895],[0.5089079619250386,0.5059793182661331],[0.5089079619250386,0.660234625715304],[0.5089079619250386,0.690414061551089],[0.5089079619250386,0.30633438131337065],[0.5089079619250386,0.5377523042176889],[0.5089079619250386,0.7102555745082368],[0.37865260558026737,0.19812628394427112],[0.42210336898123035,0.5988807433794776],[0.42210336898123035,0.5377523042176889],[0.5988807433794776,0.7061082184254444],[0.5988807433794776,0.36902541097366975],[0.5988807433794776,0.7967105282938625],[0.5988807433794776,0.30633438131337065],[0.5988807433794776,0.5377523042176889],[0.5988807433794776,0.7102555745082368],[0.5988807433794776,0.16260392981461316],[0.5988807433794776,0.8570715088313895],[0.28767737268461346,0.5377523042176889],[0.660234625715304,0.5377523042176889],[0.9973056615168354,0.5827915437888479],[0.36902541097366975,0.19812628394427112],[0.5377523042176889,0.7102555745082368]]}},\"id\":\"d44cf50d-809e-4cf4-80b9-4767364732c2\",\"type\":\"ColumnDataSource\"},{\"attributes\":{},\"id\":\"3459588d-85e1-42a6-b842-05fb30197c91\",\"type\":\"BasicTicker\"},{\"attributes\":{\"plot\":{\"id\":\"8b44b103-addb-4645-8cc3-0c04332bf971\",\"subtype\":\"Figure\",\"type\":\"Plot\"}},\"id\":\"c53ea68f-902a-459a-8699-cd62e84d409d\",\"type\":\"WheelZoomTool\"},{\"attributes\":{},\"id\":\"118d70dd-6af5-46d7-9602-4d047bcaaf7b\",\"type\":\"ToolEvents\"},{\"attributes\":{\"plot\":{\"id\":\"8b44b103-addb-4645-8cc3-0c04332bf971\",\"subtype\":\"Figure\",\"type\":\"Plot\"}},\"id\":\"83bd116d-8910-4f8d-9823-df7507e21beb\",\"type\":\"SaveTool\"},{\"attributes\":{\"line_alpha\":{\"field\":\"alphas\"},\"line_color\":{\"value\":\"navy\"},\"line_width\":{\"field\":\"width\"},\"xs\":{\"field\":\"xs\"},\"ys\":{\"field\":\"ys\"}},\"id\":\"fa2425e3-a414-4430-aed9-48455d037600\",\"type\":\"MultiLine\"},{\"attributes\":{\"text\":{\"field\":\"country\"},\"text_align\":\"center\",\"text_alpha\":{\"value\":0.1},\"text_baseline\":\"middle\",\"text_color\":{\"value\":\"black\"},\"text_font_size\":{\"value\":\"8pt\"},\"x\":{\"field\":\"x\"},\"y\":{\"field\":\"y\"}},\"id\":\"ea4e4017-de39-47cf-8fa4-f46e5491a31e\",\"type\":\"Text\"},{\"attributes\":{\"plot\":{\"id\":\"8b44b103-addb-4645-8cc3-0c04332bf971\",\"subtype\":\"Figure\",\"type\":\"Plot\"}},\"id\":\"d4c1bfda-a7ce-4eaa-b8fe-740847e513e0\",\"type\":\"ResetTool\"},{\"attributes\":{\"overlay\":{\"id\":\"3c7d78bb-9e54-4185-b8fb-d8af6461a74b\",\"type\":\"BoxAnnotation\"},\"plot\":{\"id\":\"8b44b103-addb-4645-8cc3-0c04332bf971\",\"subtype\":\"Figure\",\"type\":\"Plot\"}},\"id\":\"1057f219-1098-4dc7-8524-31a53899f5c4\",\"type\":\"BoxZoomTool\"},{\"attributes\":{\"callback\":null,\"plot\":{\"id\":\"8b44b103-addb-4645-8cc3-0c04332bf971\",\"subtype\":\"Figure\",\"type\":\"Plot\"},\"tooltips\":[[\"country\",\"@country\"],[\"cluster\",\"@cluster\"],[\"military expenditure\",\"@military_expenditure\"],[\"largest tradepartner\",\"@largestpartner\"]]},\"id\":\"79635e86-470b-4c41-b249-5bac163c0068\",\"type\":\"HoverTool\"},{\"attributes\":{\"formatter\":{\"id\":\"ea55e58e-093c-4a7c-8ad6-758435c847c7\",\"type\":\"BasicTickFormatter\"},\"plot\":{\"id\":\"8b44b103-addb-4645-8cc3-0c04332bf971\",\"subtype\":\"Figure\",\"type\":\"Plot\"},\"ticker\":{\"id\":\"3459588d-85e1-42a6-b842-05fb30197c91\",\"type\":\"BasicTicker\"}},\"id\":\"66063b07-f18e-4e28-ba3d-d831f8c851f6\",\"type\":\"LinearAxis\"},{\"attributes\":{\"formatter\":{\"id\":\"3017583a-a88c-41f6-a83d-eb865e9789ca\",\"type\":\"BasicTickFormatter\"},\"plot\":{\"id\":\"8b44b103-addb-4645-8cc3-0c04332bf971\",\"subtype\":\"Figure\",\"type\":\"Plot\"},\"ticker\":{\"id\":\"20d8c4c5-cbec-41e1-becb-5056ab9a71cb\",\"type\":\"BasicTicker\"}},\"id\":\"fd0b5c5c-cd18-456c-ab5b-eb442428202a\",\"type\":\"LinearAxis\"},{\"attributes\":{\"callback\":null},\"id\":\"08d08bf3-82f3-426d-a392-30bb5088ad05\",\"type\":\"DataRange1d\"},{\"attributes\":{\"text\":{\"field\":\"country\"},\"text_align\":\"center\",\"text_alpha\":{\"value\":0.9},\"text_baseline\":\"middle\",\"text_color\":{\"value\":\"black\"},\"text_font_size\":{\"value\":\"8pt\"},\"x\":{\"field\":\"x\"},\"y\":{\"field\":\"y\"}},\"id\":\"393ad0b5-4c33-4b93-bb23-594d80b35d98\",\"type\":\"Text\"},{\"attributes\":{\"dimension\":1,\"plot\":{\"id\":\"8b44b103-addb-4645-8cc3-0c04332bf971\",\"subtype\":\"Figure\",\"type\":\"Plot\"},\"ticker\":{\"id\":\"20d8c4c5-cbec-41e1-becb-5056ab9a71cb\",\"type\":\"BasicTicker\"}},\"id\":\"ca5161ae-dd2a-462c-a210-fba0476d715d\",\"type\":\"Grid\"},{\"attributes\":{\"callback\":null,\"plot\":{\"id\":\"8b44b103-addb-4645-8cc3-0c04332bf971\",\"subtype\":\"Figure\",\"type\":\"Plot\"}},\"id\":\"573d7666-02ac-470f-a4ce-a52295751f61\",\"type\":\"TapTool\"},{\"attributes\":{\"data_source\":{\"id\":\"9824d9b5-fb53-4c3e-99f4-92fd5ff33d5b\",\"type\":\"ColumnDataSource\"},\"glyph\":{\"id\":\"393ad0b5-4c33-4b93-bb23-594d80b35d98\",\"type\":\"Text\"},\"hover_glyph\":null,\"level\":\"overlay\",\"nonselection_glyph\":{\"id\":\"ea4e4017-de39-47cf-8fa4-f46e5491a31e\",\"type\":\"Text\"},\"selection_glyph\":null},\"id\":\"6708dd41-8c13-4553-a367-1f809bbbf4f1\",\"type\":\"GlyphRenderer\"},{\"attributes\":{\"plot\":{\"id\":\"8b44b103-addb-4645-8cc3-0c04332bf971\",\"subtype\":\"Figure\",\"type\":\"Plot\"}},\"id\":\"65e12bbf-a861-4cdb-a683-3385a53c1d65\",\"type\":\"PanTool\"},{\"attributes\":{},\"id\":\"ea55e58e-093c-4a7c-8ad6-758435c847c7\",\"type\":\"BasicTickFormatter\"},{\"attributes\":{\"fill_alpha\":{\"field\":\"alpha\"},\"fill_color\":{\"field\":\"color\"},\"line_alpha\":{\"field\":\"alpha\"},\"line_color\":{\"field\":\"color\"},\"size\":{\"field\":\"size\",\"units\":\"screen\"},\"x\":{\"field\":\"x\"},\"y\":{\"field\":\"y\"}},\"id\":\"46ca9415-1214-4380-9d8c-d43d200009ef\",\"type\":\"Circle\"},{\"attributes\":{\"callback\":null,\"column_names\":[\"largestpartner\",\"countrycode\",\"alpha\",\"color\",\"country\",\"military_expenditure\",\"cluster\",\"totaltrade\",\"year\",\"y\",\"x\",\"size\"],\"data\":{\"alpha\":[0.7,0.2,0.7,0.7,0.7,0.7,0.7,0.7,0.7,0.7,0.7,0.7,0.7,0.7,0.7,0.7,0.7,0.7,0.7,0.7,0.7,0.7,0.7,0.7,0.7,0.7,0.7,0.7,0.7,0.7,0.7,0.7,0.7,0.7,0.7,0.7,0.7,0.7,0.7,0.7,0.2,0.7,0.7,0.7,0.7,0.7,0.7,0.7,0.7,0.7,0.7,0.7,0.7,0.7,0.7,0.7,0.7,0.7,0.7,0.7,0.7,0.7,0.7,0.7,0.2,0.7,0.7,0.7,0.7,0.7,0.7,0.7,0.7,0.7,0.7,0.7,0.7,0.7,0.7,0.7,0.7,0.7,0.7,0.7,0.7,0.7,0.7,0.7,0.7,0.7,0.2,0.7,0.7,0.7,0.2,0.7,0.7,0.7,0.7,0.7,0.7,0.7,0.7,0.7,0.7,0.2,0.7,0.2,0.7,0.7,0.7,0.2,0.7,0.7,0.7,0.7,0.7,0.7,0.7,0.7,0.7],\"cluster\":[0,1,2,0,1,1,0,1,1,1,0,2,0,2,2,1,1,0,1,2,0,1,1,1,2,0,1,0,0,1,0,1,1,2,2,1,2,1,2,0,0,1,1,2,1,0,2,1,2,0,2,1,1,2,2,3,2,2,2,2,1,0,2,0,2,0,0,1,2,2,2,0,1,1,2,2,2,0,1,0,0,3,2,1,0,1,2,2,1,2,1,2,0,1,0,2,1,1,0,1,2,0,2,1,0,2,1,1,2,1,2,1,1,2,0,1,0,2,2,1,2],\"color\":[\"#e41a1c\",\"#377eb8\",\"#4daf4a\",\"#e41a1c\",\"#377eb8\",\"#377eb8\",\"#e41a1c\",\"#377eb8\",\"#377eb8\",\"#377eb8\",\"#e41a1c\",\"#4daf4a\",\"#e41a1c\",\"#4daf4a\",\"#4daf4a\",\"#377eb8\",\"#377eb8\",\"#e41a1c\",\"#377eb8\",\"#4daf4a\",\"#e41a1c\",\"#377eb8\",\"#377eb8\",\"#377eb8\",\"#4daf4a\",\"#e41a1c\",\"#377eb8\",\"#e41a1c\",\"#e41a1c\",\"#377eb8\",\"#e41a1c\",\"#377eb8\",\"#377eb8\",\"#4daf4a\",\"#4daf4a\",\"#377eb8\",\"#4daf4a\",\"#377eb8\",\"#4daf4a\",\"#e41a1c\",\"#e41a1c\",\"#377eb8\",\"#377eb8\",\"#4daf4a\",\"#377eb8\",\"#e41a1c\",\"#4daf4a\",\"#377eb8\",\"#4daf4a\",\"#e41a1c\",\"#4daf4a\",\"#377eb8\",\"#377eb8\",\"#4daf4a\",\"#4daf4a\",\"#984ea3\",\"#4daf4a\",\"#4daf4a\",\"#4daf4a\",\"#4daf4a\",\"#377eb8\",\"#e41a1c\",\"#4daf4a\",\"#e41a1c\",\"#4daf4a\",\"#e41a1c\",\"#e41a1c\",\"#377eb8\",\"#4daf4a\",\"#4daf4a\",\"#4daf4a\",\"#e41a1c\",\"#377eb8\",\"#377eb8\",\"#4daf4a\",\"#4daf4a\",\"#4daf4a\",\"#e41a1c\",\"#377eb8\",\"#e41a1c\",\"#e41a1c\",\"#984ea3\",\"#4daf4a\",\"#377eb8\",\"#e41a1c\",\"#377eb8\",\"#4daf4a\",\"#4daf4a\",\"#377eb8\",\"#4daf4a\",\"#377eb8\",\"#4daf4a\",\"#e41a1c\",\"#377eb8\",\"#e41a1c\",\"#4daf4a\",\"#377eb8\",\"#377eb8\",\"#e41a1c\",\"#377eb8\",\"#4daf4a\",\"#e41a1c\",\"#4daf4a\",\"#377eb8\",\"#e41a1c\",\"#4daf4a\",\"#377eb8\",\"#377eb8\",\"#4daf4a\",\"#377eb8\",\"#4daf4a\",\"#377eb8\",\"#377eb8\",\"#4daf4a\",\"#e41a1c\",\"#377eb8\",\"#e41a1c\",\"#4daf4a\",\"#4daf4a\",\"#377eb8\",\"#4daf4a\"],\"country\":[\"Canada\",\"Turkmenistan\",\"Germany (FRG)\",\"Lithuania\",\"Cambodia\",\"Ethiopia\",\"Argentina\",\"Bolivia\",\"Cameroon\",\"Ghana\",\"Saudi Arabia\",\"Slovenia\",\"UAE\",\"Spain\",\"Netherlands\",\"Pakistan\",\"DR Congo\",\"Oman\",\"Tanzania\",\"Gabon\",\"New Zealand\",\"Yemen\",\"India\",\"Azerbaijan\",\"Kenya\",\"South Korea\",\"Tajikistan\",\"Turkey\",\"Afghanistan\",\"Bangladesh\",\"Taiwan (ROC)\",\"Viet Nam\",\"Mongolia\",\"France\",\"Rwanda\",\"Slovakia\",\"Peru\",\"Laos\",\"Norway\",\"Singapore\",\"Montenegro\",\"China\",\"Armenia\",\"Dominican Republic\",\"Ukraine\",\"Bahrain\",\"Finland\",\"Libya\",\"Indonesia\",\"United States\",\"Sweden\",\"Belarus\",\"Russia\",\"Bulgaria\",\"Romania\",\"Angola\",\"Portugal\",\"South Africa\",\"Malaysia\",\"Austria\",\"Uganda\",\"Japan\",\"Brazil\",\"Kuwait\",\"Panama\",\"Qatar\",\"Ireland\",\"Nigeria\",\"Ecuador\",\"Czech Republic\",\"Brunei\",\"Australia\",\"Iran\",\"Algeria\",\"Chile\",\"Belgium\",\"Thailand\",\"Iraq\",\"Georgia\",\"Denmark\",\"Poland\",\"Moldova\",\"Morocco\",\"Namibia\",\"Switzerland\",\"Chad\",\"Estonia\",\"Uruguay\",\"Equatorial Guinea\",\"Lebanon\",\"Uzbekistan\",\"Tunisia\",\"Colombia\",\"Cyprus\",\"NATO**\",\"Italy\",\"Sudan\",\"Venezuela\",\"Israel\",\"Zambia\",\"Senegal\",\"Trinidad and Tobago\",\"Jordan\",\"Kazakhstan\",\"Philippines\",\"Eritrea\",\"Kyrgyzstan\",\"North Korea\",\"Latvia\",\"South Sudan\",\"Hungary\",\"Syria\",\"Myanmar\",\"Mexico\",\"Egypt\",\"Serbia\",\"United Kingdom\",\"Congo\",\"Greece\",\"Sri Lanka\",\"Croatia\"],\"countrycode\":[\"CAN\",\"TRK\",\"FRG\",\"LIT\",\"CMB\",\"ETH\",\"ARG\",\"BOL\",\"CAM\",\"GHA\",\"SAU\",\"SLO\",\"UAE\",\"SPA\",\"NET\",\"PAK\",\"DRC\",\"OMA\",\"TAN\",\"GAB\",\"NZ\",\"YEM\",\"IND\",\"AZB\",\"KEN\",\"KOS\",\"TAJ\",\"TUR\",\"AFG\",\"BAN\",\"TAI\",\"VN\",\"MON\",\"FRA\",\"RWA\",\"SLK\",\"PER\",\"LAO\",\"NOR\",\"SIN\",\"MNE\",\"CHI\",\"ARM\",\"DOM\",\"UKR\",\"BAH\",\"FIN\",\"LYA\",\"INS\",\"USA\",\"SWE\",\"BLR\",\"RUS\",\"BUL\",\"ROM\",\"ANG\",\"POR\",\"SA\",\"MAL\",\"AST\",\"UGA\",\"JAP\",\"BRA\",\"KUW\",\"PAN\",\"QAT\",\"IRE\",\"NIG\",\"ECU\",\"CZR\",\"BRU\",\"AUS\",\"IRA\",\"ALG\",\"CHE\",\"BEL\",\"THA\",\"IRQ\",\"GEO\",\"DEN\",\"POL\",\"MOL\",\"MOR\",\"NAM\",\"SWI\",\"CHA\",\"EST\",\"URU\",\"EQU\",\"LEB\",\"UZB\",\"TUN\",\"COL\",\"CYP\",\"NAT\",\"ITA\",\"SUD\",\"VEN\",\"ISR\",\"ZAM\",\"SEN\",\"TRI\",\"JOR\",\"KAZ\",\"PHI\",\"ERI\",\"KYR\",\"KON\",\"LAT\",\"SSD\",\"HUN\",\"SYR\",\"MYA\",\"MEX\",\"EGY\",\"SER\",\"UK\",\"CON\",\"GRE\",\"SRI\",\"CRO\"],\"largestpartner\":[\"United States\",\"Russia\",\"United States\",\"United Kingdom\",\"China\",\"Ukraine\",\"United States\",\"China\",\"China\",\"China\",\"United States\",\"Russia\",\"United States\",\"Norway\",\"Chile\",\"China\",\"Ukraine\",\"United States\",\"China\",\"South Africa\",\"United States\",\"Russia\",\"Russia\",\"Russia\",\"Jordan\",\"United States\",\"Russia\",\"United States\",\"United States\",\"China\",\"United States\",\"Russia\",\"Russia\",\"UAE\",\"South Africa\",\"Cyprus\",\"Italy\",\"China\",\"Spain\",\"United States\",\"Egypt\",\"Russia\",\"Russia\",\"Brazil\",\"China\",\"United States\",\"Poland\",\"Pakistan\",\"Russia\",\"South Korea\",\"South Africa\",\"Russia\",\"India\",\"Belgium\",\"Netherlands\",\"Moldova\",\"Germany (FRG)\",\"Germany (FRG)\",\"Russia\",\"Germany (FRG)\",\"Russia\",\"United States\",\"Germany (FRG)\",\"United States\",\"Italy\",\"United States\",\"Australia\",\"China\",\"Chile\",\"Sweden\",\"Germany (FRG)\",\"United States\",\"Russia\",\"Russia\",\"Netherlands\",\"Jordan\",\"Sweden\",\"United States\",\"Ukraine\",\"United States\",\"United States\",\"Angola\",\"France\",\"China\",\"United States\",\"Ukraine\",\"United Kingdom\",\"Portugal\",\"Ukraine\",\"United States\",\"India\",\"Germany (FRG)\",\"United States\",\"Russia\",\"United States\",\"United States\",\"Russia\",\"Russia\",\"United States\",\"China\",\"Russia\",\"United States\",\"United States\",\"Russia\",\"United States\",\"Bulgaria\",\"India\",\"Syria\",\"Netherlands\",\"Ukraine\",\"Sweden\",\"Russia\",\"China\",\"United States\",\"United States\",\"Myanmar\",\"United States\",\"South Africa\",\"Germany (FRG)\",\"China\",\"Finland\"],\"military_expenditure\":[\"104167.2\",\"NaN\",\"261328.0\",\"2190.9\",\"606.5\",\"1097.5\",\"15372.3\",\"2594.7\",\"1209.6\",\"615.1\",\"301138.7\",\"2504.3\",\"89210.3\",\"111100.7\",\"65177.3\",\"40914.0\",\"822.2\",\"41314.1\",\"1359.2\",\"738.4\",\"12370.2\",\"11112.3\",\"244131.5\",\"12490.9\",\"2757.6\",\"180254.9\",\"31.1\",\"92011.7\",\"1453.9\",\"8994.6\",\"54788.5\",\"17063.2\",\"184.7\",\"355713.3\",\"300.0\",\"6337.5\",\"10986.7\",\"74.6\",\"36349.3\",\"53064.1\",\"NaN\",\"761456.9\",\"1112.6\",\"756.7\",\"17181.7\",\"5005.5\",\"20175.9\",\"6055.8\",\"26432.8\",\"4004873.0\",\"35010.4\",\"4372.7\",\"344593.5\",\"5424.2\",\"14074.1\",\"18135.5\",\"26071.7\",\"20253.7\",\"25958.7\",\"19339.2\",\"1959.5\",\"256206.4\",\"158112.8\",\"30609.8\",\"NaN\",\"4107.7\",\"7262.2\",\"11591.7\",\"12565.0\",\"14272.0\",\"1847.7\",\"129679.3\",\"68192.3\",\"32368.9\",\"26157.5\",\"30766.9\",\"27629.9\",\"27531.2\",\"2841.5\",\"25051.4\",\"49389.7\",\"88.6\",\"17641.9\",\"1460.2\",\"26367.9\",\"2606.3\",\"2556.0\",\"3779.2\",\"725.2\",\"8932.7\",\"NaN\",\"2534.5\",\"57138.2\",\"1516.7\",\"NaN\",\"210523.7\",\"2850.0\",\"37942.1\",\"92088.1\",\"784.9\",\"1028.9\",\"417.2\",\"9196.8\",\"9150.4\",\"15854.2\",\"NaN\",\"330.7\",\"NaN\",\"2173.4\",\"4182.3\",\"7681.7\",\"NaN\",\"5647.8\",\"31734.4\",\"27971.8\",\"4894.5\",\"360789.0\",\"913.3\",\"44878.5\",\"6106.7\",\"4132.8\"],\"size\":[10.536407410340042,8.364750756851912,12.018154627514255,7.3230099791384085,7.529429087511423,8.228511003591183,7.420534999272286,6.68213122712422,7.099866427824199,7.484796933490655,11.176576741823373,6.430816798843313,11.428511581663834,11.180808569370145,11.06323150693797,11.198976041897133,7.420534999272286,9.629489916393995,7.8805329864007,6.219507705176107,8.06842558824411,8.732210706467207,12.271493062483911,9.875499292445209,7.3612921657094255,11.51745735706657,6.007333185232471,11.185330208972015,9.872073979866872,9.491087593534875,10.198089248956116,10.31164394850298,6.553876891600541,11.757073534080591,6.204692619390966,6.330733340286331,9.003974136722679,6.48863636973214,10.381373468273702,10.981681639973862,7.288267030694535,12.279180502310622,6.795790545596741,6.31748811353631,10.701346403039162,7.978885764901122,9.556427969440254,8.263398262591624,10.295798110636145,13.393488562429662,10.625329850020815,9.237059026124737,13.078180865609573,8.398594934535208,9.10578612948127,7.062595033026967,9.710653323501202,10.343077871169383,10.195057690895077,9.08002649992259,8.664409020350408,10.41027590907016,9.97349996402463,9.173958319756794,5.931825632724326,8.897704943128636,7.768320995793772,8.502790045915624,8.33682573114644,8.992096427415888,8.1779441140506,11.087607606593886,9.374629015218945,10.896724917497897,10.31090675716845,9.397561535524051,9.237778191923443,10.310169021981912,8.175867270105762,8.963189985870237,10.302513718514158,6.605170185988092,10.144969417087875,7.43372200355424,10.113426639943654,7.726847747587197,7.0689042022202315,7.1298987149230735,7.934894195619588,7.220355825078324,8.447305862541214,7.58724865840025,9.392031567514591,7.030437921392435,8.32435896238131,11.104201775914515,9.069874128458572,10.546169299652755,11.2093398716426,6.6443908991413725,6.48863636973214,5.9889840465642745,9.525639975041535,8.499787040655853,7.438079308923196,6.61512051684126,5.970291913552122,6.90527477843843,7.176149732573829,7.111987788356544,8.459904454377535,9.619233416226805,9.766416898019656,8.866933284461883,10.565030520830398,7.056245805348308,11.655923226680237,6.3694478524670215,10.639764743804419,7.855071922202427,7.420534999272286],\"totaltrade\":[5097.0,581.0,22430.0,205.0,252.0,507.0,226.0,108.0,164.0,241.0,9668.0,84.0,12438.0,9709.0,8632.0,9887.0,226.0,2058.0,358.0,68.0,432.0,839.0,28897.0,2632.0,213.0,13595.0,55.0,9753.0,2623.0,1792.0,3634.0,4071.0,95.0,17276.0,67.0,76.0,1101.0,89.0,4365.0,7956.0,198.0,29120.0,121.0,75.0,6011.0,395.0,1913.0,525.0,4007.0,88742.0,5571.0,1390.0,64743.0,601.0,1219.0,158.0,2232.0,4201.0,3623.0,1188.0,784.0,4493.0,2903.0,1305.0,51.0,990.0,320.0,667.0,565.0,1088.0,482.0,8845.0,1595.0,7308.0,4068.0,1632.0,1391.0,4065.0,481.0,1057.0,4034.0,100.0,3446.0,229.0,3339.0,307.0,159.0,169.0,378.0,185.0,631.0,267.0,1623.0,153.0,558.0,8993.0,1176.0,5147.0,9990.0,104.0,89.0,54.0,1855.0,665.0,230.0,101.0,53.0,135.0,177.0,166.0,639.0,2037.0,2360.0,960.0,5245.0,157.0,15614.0,79.0,5652.0,349.0,226.0],\"x\":[0.6653101501724501,0.9036081943007792,0.5628129754200635,0.6139658594351796,0.9318702744207252,0.9588879918759399,0.20925488491641947,0.9239724432977857,0.5623147227861753,0.04725384474800306,0.7117435324033483,0.44259635752738025,0.6199886305316484,0.5597668852676685,0.6490980257695416,0.513860592267151,0.9530005457664286,0.8420680841107232,0.9757725217806393,0.0,0.804414050145503,0.07538934326530128,0.40920427124503167,0.1925665955932926,0.20609355967543713,0.5295657228713452,0.007939329517445108,0.6529135856154092,0.458459566270683,0.3076173038958696,0.6788031630615824,0.24409158799697808,0.5159945534119704,0.6068018180972011,0.6953675546166159,0.47549528146043446,0.7556477957966334,0.6875080219145162,0.7089892927948869,0.6961034102667168,0.6089003983537324,0.44468599491207733,0.2702121257461129,0.8895848953141715,0.49730814482867075,0.8828036173092907,0.8385765802711208,0.48966609209162226,0.476490024296203,0.5826429591907643,0.758217119249808,0.01743718535667467,0.36159893920095015,0.9916370830063983,0.6792047961021898,0.17982054361906233,0.5201483029985335,0.5179040304849165,0.3741886704616954,0.5343151973186228,0.08191064946300623,0.5933058195455151,0.5966349147560841,0.6227242104663185,0.3355554701986722,0.736880483134217,0.0019201566684931104,0.9662245605776967,0.9046340897956535,0.7918390223369927,0.3994813444241805,0.47138972204402835,0.11366159759609375,0.2939206270045194,0.7342854976807314,0.8624228153726801,0.882424968967801,0.4597882371867368,0.9827535400550562,0.9595821995156103,0.5985179723652233,0.8293604127712862,0.7645786319998119,0.3123356279733194,0.747790342481593,0.4377087980899392,0.99402242124475,0.011192072179944905,0.2419848961686502,0.7972897536250797,0.0851433666911855,0.39853915091095476,0.37853849251079885,0.2801984624348342,0.18147051553826807,0.6051731240959267,0.11645916892168938,0.32828045778038617,0.49376187514298536,0.7290181390697199,0.04150772136896717,0.23697057066385802,0.5987667617957559,0.16118645715419522,0.026619353699646242,0.7672120809681132,0.6503206856474639,0.5310449205443606,0.3597359633456222,0.113803154307909,0.8491902921025718,0.1127977390851583,0.22574884153450211,0.3830580052838985,0.4442790945674951,0.09989167185672589,0.6326925592649957,0.02490796503362513,0.6121577705870944,0.1275287979745205,0.9972830140214519],\"y\":[0.708949036733866,0.33962947980829067,0.5870872925760926,0.014992583115443535,0.24677027449462066,0.30726976442861803,0.9065330263030027,0.7627517643095089,0.004884200317951512,0.28902779498734193,0.6023999311835284,0.9964323922834429,0.6520370156053892,0.4969446089734095,0.43782413359694217,0.5390442094955332,0.705090732198442,0.6712020628576231,0.6504441668068701,0.5420729908673055,0.10945226858280949,0.7232246865603701,0.5791731659459162,0.48374205217314675,0.0923990867477837,0.6341594339997164,0.5940196011030896,0.5812045835722591,0.8068504931798808,0.2616728472055211,0.809046749761805,0.5954386505564265,0.0011558087403482084,0.5681425918579212,0.9613927836555833,0.0,0.256698355945779,0.03989300865307673,0.4839430091847065,0.6614572428485384,0.9879440400721837,0.46501018825377705,0.053071660375550195,0.8151664024624603,0.46569449935268775,0.18025767859194156,0.7746763157700715,1.0,0.414042405885577,0.6337241570532792,0.6925543111977287,0.4860759642741822,0.529636816262738,0.41293166900622064,0.242542160674151,0.11335039299444988,0.34104511139606436,0.6951577572074862,0.6529141730937803,0.8978368322303774,0.2670415780495505,0.8097667927242951,0.39308316323568465,0.932391578335832,0.9718768038049783,0.9161458681452793,0.44390446011736584,0.6041496227448312,0.21343341823658527,0.8487821958930505,0.9909604793120607,0.5562225370842039,0.6280852563806276,0.5095158075166081,0.41553377155650323,0.28216427340698363,0.5596379152794421,0.7404164238711415,0.3758534718115175,0.4958425877225121,0.7688703907270031,0.12463440631621009,0.48594017840200654,0.036122048021492825,0.5466530715156043,0.002943207298867866,0.5665991364060283,0.3852631806150162,0.928457658564878,0.9042449541039536,0.7779714352388815,0.009265674629636527,0.8032467757922584,0.9513993145353901,0.8822209137462341,0.5089079619250386,0.37865260558026737,0.42210336898123035,0.5988807433794776,0.05413297864013885,0.7061082184254444,0.07253611490304321,0.28767737268461346,0.7967105282938625,0.660234625715304,0.07819485491067046,0.022642444131082507,0.9973056615168354,0.021899798748530985,0.8226122066775645,0.8570715088313895,0.5827915437888479,0.36902541097366975,0.30633438131337065,0.690414061551089,0.19812628394427112,0.5377523042176889,0.34116456998882105,0.7102555745082368,0.16260392981461316,0.5059793182661331],\"year\":[2000,2000,2000,2000,2000,2000,2000,2000,2000,2000,2000,2000,2000,2000,2000,2000,2000,2000,2000,2000,2000,2000,2000,2000,2000,2000,2000,2000,2000,2000,2000,2000,2000,2000,2000,2000,2000,2000,2000,2000,2000,2000,2000,2000,2000,2000,2000,2000,2000,2000,2000,2000,2000,2000,2000,2000,2000,2000,2000,2000,2000,2000,2000,2000,2000,2000,2000,2000,2000,2000,2000,2000,2000,2000,2000,2000,2000,2000,2000,2000,2000,2000,2000,2000,2000,2000,2000,2000,2000,2000,2000,2000,2000,2000,2000,2000,2000,2000,2000,2000,2000,2000,2000,2000,2000,2000,2000,2000,2000,2000,2000,2000,2000,2000,2000,2000,2000,2000,2000,2000,2000]}},\"id\":\"9824d9b5-fb53-4c3e-99f4-92fd5ff33d5b\",\"type\":\"ColumnDataSource\"},{\"attributes\":{\"plot\":null,\"text\":null},\"id\":\"57eea27e-deb4-42a7-8455-548de1da5905\",\"type\":\"Title\"},{\"attributes\":{},\"id\":\"20d8c4c5-cbec-41e1-becb-5056ab9a71cb\",\"type\":\"BasicTicker\"},{\"attributes\":{\"active_drag\":\"auto\",\"active_scroll\":\"auto\",\"active_tap\":\"auto\",\"tools\":[{\"id\":\"79635e86-470b-4c41-b249-5bac163c0068\",\"type\":\"HoverTool\"},{\"id\":\"65e12bbf-a861-4cdb-a683-3385a53c1d65\",\"type\":\"PanTool\"},{\"id\":\"573d7666-02ac-470f-a4ce-a52295751f61\",\"type\":\"TapTool\"},{\"id\":\"1057f219-1098-4dc7-8524-31a53899f5c4\",\"type\":\"BoxZoomTool\"},{\"id\":\"d4c1bfda-a7ce-4eaa-b8fe-740847e513e0\",\"type\":\"ResetTool\"},{\"id\":\"c53ea68f-902a-459a-8699-cd62e84d409d\",\"type\":\"WheelZoomTool\"},{\"id\":\"83bd116d-8910-4f8d-9823-df7507e21beb\",\"type\":\"SaveTool\"}]},\"id\":\"2c87e01e-7f19-46db-8cbe-9c57e07c179c\",\"type\":\"Toolbar\"},{\"attributes\":{\"line_alpha\":{\"value\":0.1},\"line_color\":{\"value\":\"#1f77b4\"},\"line_width\":{\"field\":\"width\"},\"xs\":{\"field\":\"xs\"},\"ys\":{\"field\":\"ys\"}},\"id\":\"4ee00e1c-d5b9-4212-9417-d79fa97466b1\",\"type\":\"MultiLine\"}],\"root_ids\":[\"8b44b103-addb-4645-8cc3-0c04332bf971\"]},\"title\":\"Bokeh Application\",\"version\":\"0.12.3\"}};\n",
       "            var render_items = [{\"docid\":\"d2cb2beb-fd7f-4d06-8836-85d47bfe49db\",\"elementid\":\"56b18751-d518-44db-8a68-5b076782016a\",\"modelid\":\"8b44b103-addb-4645-8cc3-0c04332bf971\"}];\n",
       "            \n",
       "            Bokeh.embed.embed_items(docs_json, render_items);\n",
       "        });\n",
       "      },\n",
       "      function(Bokeh) {\n",
       "      }\n",
       "    ];\n",
       "  \n",
       "    function run_inline_js() {\n",
       "      \n",
       "      if ((window.Bokeh !== undefined) || (force === \"1\")) {\n",
       "        for (var i = 0; i < inline_js.length; i++) {\n",
       "          inline_js[i](window.Bokeh);\n",
       "        }if (force === \"1\") {\n",
       "          display_loaded();\n",
       "        }} else if (Date.now() < window._bokeh_timeout) {\n",
       "        setTimeout(run_inline_js, 100);\n",
       "      } else if (!window._bokeh_failed_load) {\n",
       "        console.log(\"Bokeh: BokehJS failed to load within specified timeout.\");\n",
       "        window._bokeh_failed_load = true;\n",
       "      } else if (!force) {\n",
       "        var cell = $(\"#56b18751-d518-44db-8a68-5b076782016a\").parents('.cell').data().cell;\n",
       "        cell.output_area.append_execute_result(NB_LOAD_WARNING)\n",
       "      }\n",
       "  \n",
       "    }\n",
       "  \n",
       "    if (window._bokeh_is_loading === 0) {\n",
       "      console.log(\"Bokeh: BokehJS loaded, going straight to plotting\");\n",
       "      run_inline_js();\n",
       "    } else {\n",
       "      load_libs(js_urls, function() {\n",
       "        console.log(\"Bokeh: BokehJS plotting callback run at\", now());\n",
       "        run_inline_js();\n",
       "      });\n",
       "    }\n",
       "  }(this));\n",
       "</script>"
      ]
     },
     "metadata": {},
     "output_type": "display_data"
    }
   ],
   "source": [
    "hover = HoverTool(tooltips=[('country','@country'),\n",
    "                            ('cluster','@cluster'),\n",
    "                            ('military expenditure','@military_expenditure'),\n",
    "                            ('largest tradepartner', '@largestpartner'),\n",
    "                            #('imports from', '@import'),\n",
    "                            #('exports from', '@export')\n",
    "                           ])\n",
    "\n",
    "plot = figure(plot_width=800, plot_height=600, tools=['pan','tap',hover,'box_zoom','reset','wheel_zoom','save'])\n",
    "\n",
    "layout = nx.spring_layout(summedupgraph, k = 1)\n",
    "\n",
    "nodes = ColumnDataSource(get_nodes_specs(summedupgraph, layout))\n",
    "edges = ColumnDataSource(get_edges_specs(summedupgraph, layout))\n",
    "\n",
    "r_circles = plot.circle('x','y', source=nodes, size='size', color='color', level='overlay',alpha='alpha', name='country')\n",
    "r_lines = plot.multi_line('xs', 'ys', source=edges, line_width='width', alpha='alphas', color='navy')\n",
    "r_text = plot.text('x','y',source=nodes, text='country', alpha=0.9, text_font_size=\"8pt\", text_baseline=\"middle\", text_align=\"center\",level='overlay')\n",
    "show(plot)"
   ]
  },
  {
   "cell_type": "code",
   "execution_count": 63,
   "metadata": {
    "collapsed": true
   },
   "outputs": [],
   "source": [
    "def AllMultiDiGraphs(countrydict, militaryexpdict):\n",
    "    AllGraphsDict = dict()\n",
    "    for year in countrydict:\n",
    "        G = createYearMultiDiGraph(countrydict, year, militaryexpdict)\n",
    "        layout = nx.spring_layout(G)\n",
    "        AllGraphsDict[year] = [G,layout]\n",
    "    return AllGraphsDict\n",
    "\n",
    "AllMultiDiGraphs = AllMultiDiGraphs(AddedUpDict, militaryexpdict)"
   ]
  },
  {
   "cell_type": "code",
   "execution_count": 64,
   "metadata": {
    "collapsed": false
   },
   "outputs": [],
   "source": [
    "summedupMultiDigraph = nx.MultiDiGraph()\n",
    "\n",
    "for year in range(2005,2015,1):\n",
    "    G = AllMultiDiGraphs[str(year)][0]\n",
    "    for edge in G.edges(data=True):\n",
    "        if summedupMultiDigraph.has_edge(edge[0],edge[1]):\n",
    "            if 'weight' in summedupMultiDigraph[edge[0]][edge[1]]:\n",
    "                summedupMultiDigraph[edge[0]][edge[1]]['weight'] = summedupMultiDigraph[edge[0]][edge[1]]['weight'] + G[edge[0]][edge[1]]['weight']\n",
    "        else:\n",
    "            summedupMultiDigraph.add_edge(edge[0],edge[1], weight=edge[2]['weight'])\n",
    "            \n",
    "nx.set_node_attributes(summedupMultiDigraph, 'military expenditure', 0)\n",
    "for year in range(2005,2015,1):\n",
    "    G = AllMultiDiGraphs[str(year)][0]\n",
    "    for node in G.nodes(data=True):\n",
    "        if isinstance(node[1]['military expenditure'],(float,int)) and not math.isnan(node[1]['military expenditure']):\n",
    "            if 'military expenditure' in summedupMultiDigraph.node[node[0]]:\n",
    "                summedupMultiDigraph.node[node[0]]['military expenditure'] = summedupMultiDigraph.node[node[0]]['military expenditure'] + G.node[node[0]]['military expenditure']\n",
    "            #else:\n",
    "            #    nx.set_node_attributes(summedupgraph, 'military expenditure', G.node[node[0]]['military expenditure'])\n",
    "summedupMultiDigraph.graph['year'] = '2000'"
   ]
  },
  {
   "cell_type": "code",
   "execution_count": 65,
   "metadata": {
    "collapsed": false
   },
   "outputs": [],
   "source": [
    "#for country in mastergraph['United Kingdom']:\n",
    "#    print country['weight']\n"
   ]
  },
  {
   "cell_type": "code",
   "execution_count": 170,
   "metadata": {
    "collapsed": false
   },
   "outputs": [
    {
     "data": {
      "image/png": "[encoded data removed]",
      "text/plain": [
       "<matplotlib.figure.Figure at 0x124c327d0>"
      ]
     },
     "metadata": {},
     "output_type": "display_data"
    }
   ],
   "source": [
    "from bokeh.palettes import Spectral,Set1\n",
    "sns.set_style(\"whitegrid\")\n",
    "f, (ax1, ax2) = plt.subplots(1, 2, figsize=(15,3), sharex=True)"
   ]
  },
  {
   "cell_type": "code",
   "execution_count": 171,
   "metadata": {
    "collapsed": false
   },
   "outputs": [],
   "source": [
    "weaponimport = dict()\n",
    "\n",
    "for country in summedupMultiDigraph.nodes_iter():\n",
    "    weaponimport[country] = 0\n",
    "    for inedge in summedupMultiDigraph.in_edges_iter(nbunch = country,data=True):\n",
    "        weaponimport[country] = weaponimport[country] + inedge[2]['weight']\n",
    "\n",
    "xlist = list()\n",
    "ylist = list()\n",
    "huelist = list()\n",
    "for x,y in  sorted(weaponimport.items(), key=operator.itemgetter(1), reverse=True)[:10]:\n",
    "    xlist.append(countryCodeMap[x])\n",
    "    ylist.append(y)\n",
    "    huelist.append(Set1[9][partition[x]])\n",
    "\n",
    "barvalues = pd.DataFrame.from_items([('country', xlist), ('million USD', ylist)])\n"
   ]
  },
  {
   "cell_type": "code",
   "execution_count": 172,
   "metadata": {
    "collapsed": false
   },
   "outputs": [
    {
     "data": {
      "text/plain": [
       "<matplotlib.text.Text at 0x124a9f410>"
      ]
     },
     "execution_count": 172,
     "metadata": {},
     "output_type": "execute_result"
    }
   ],
   "source": [
    "top10importer = sns.barplot(x = 'country', y = 'million USD',data = barvalues, palette=huelist, ax=ax1)\n",
    "\n",
    "top10importer.set(xlabel='country', ylabel='estimated import in USD between 2000 and 2015')\n",
    "top10importer.set_title('top 10 weapons importers')"
   ]
  },
  {
   "cell_type": "code",
   "execution_count": 173,
   "metadata": {
    "collapsed": false
   },
   "outputs": [],
   "source": [
    "weaponexport = dict()\n",
    "\n",
    "for country in summedupMultiDigraph.nodes_iter():\n",
    "    weaponexport[country] = 0\n",
    "    for out_edges in summedupMultiDigraph.out_edges_iter(nbunch = country,data=True):\n",
    "        weaponexport[country] = weaponexport[country] + out_edges[2]['weight']"
   ]
  },
  {
   "cell_type": "code",
   "execution_count": 174,
   "metadata": {
    "collapsed": false
   },
   "outputs": [],
   "source": [
    "xlist = list()\n",
    "ylist = list()\n",
    "huelist = list()\n",
    "for x,y in  sorted(weaponexport.items(), key=operator.itemgetter(1), reverse=True)[:10]:\n",
    "    xlist.append(countryCodeMap[x])\n",
    "    ylist.append(y)\n",
    "    huelist.append(Set1[9][partition[x]])\n",
    "\n",
    "\n",
    "barvalues = pd.DataFrame.from_items([('country', xlist), ('million USD', ylist)])"
   ]
  },
  {
   "cell_type": "code",
   "execution_count": 175,
   "metadata": {
    "collapsed": false,
    "scrolled": false
   },
   "outputs": [
    {
     "data": {
      "text/plain": [
       "<matplotlib.text.Text at 0x124f03f10>"
      ]
     },
     "execution_count": 175,
     "metadata": {},
     "output_type": "execute_result"
    }
   ],
   "source": [
    "top10exporter = sns.barplot(x = 'country', y = 'million USD',data = barvalues, palette=huelist,ax = ax2)\n",
    "\n",
    "top10exporter.set(xlabel='country', ylabel='estimated export in USD between 2000 and 2015')\n",
    "top10exporter.set_title('top 10 weapons exporters')\n",
    "\n"
   ]
  },
  {
   "cell_type": "code",
   "execution_count": 176,
   "metadata": {
    "collapsed": false
   },
   "outputs": [
    {
     "data": {
      "text/plain": [
       "<matplotlib.text.Text at 0x1235dbad0>"
      ]
     },
     "execution_count": 176,
     "metadata": {},
     "output_type": "execute_result"
    },
    {
     "data": {
      "image/png": "[encoded data removed]",
      "text/plain": [
       "<matplotlib.figure.Figure at 0x1235b0a50>"
      ]
     },
     "metadata": {},
     "output_type": "display_data"
    }
   ],
   "source": [
    "\n",
    "#data = pd.DataFrame(sorted(nx.betweenness_centrality(multigraph).items(), key=operator.itemgetter(1), reverse=True)[:10])\n",
    "#data.columns = ['country','betweenness centrality']\n",
    "\n",
    "xlist = list()\n",
    "ylist = list()\n",
    "huelist = list()\n",
    "for x,y in sorted(nx.betweenness_centrality(summedupMultiDigraph).items(), key=operator.itemgetter(1), reverse=True)[:10]:\n",
    "    xlist.append(countryCodeMap[x])\n",
    "    ylist.append(y)\n",
    "    huelist.append(Set1[9][partition[x]])\n",
    "    \n",
    "barvalues = pd.DataFrame.from_items([('country', xlist), ('betweenness centrality', ylist)])\n",
    "\n",
    "top10centrality = sns.barplot(x = 'country', y = 'betweenness centrality',data = barvalues, palette=huelist)\n",
    "top10centrality.set(xlabel='country', ylabel='betweenness centrality')\n",
    "top10centrality.set_title('top 10 betweenness centrality')"
   ]
  },
  {
   "cell_type": "code",
   "execution_count": 177,
   "metadata": {
    "collapsed": false
   },
   "outputs": [
    {
     "data": {
      "text/plain": [
       "<matplotlib.text.Text at 0x1240e7850>"
      ]
     },
     "execution_count": 177,
     "metadata": {},
     "output_type": "execute_result"
    },
    {
     "data": {
      "image/png": "[encoded data removed]",
      "text/plain": [
       "<matplotlib.figure.Figure at 0x124c32d10>"
      ]
     },
     "metadata": {},
     "output_type": "display_data"
    }
   ],
   "source": [
    "\n",
    "#data = pd.DataFrame(sorted(nx.betweenness_centrality(multigraph).items(), key=operator.itemgetter(1), reverse=True)[:10])\n",
    "#data.columns = ['country','betweenness centrality']\n",
    "\n",
    "xlist = list()\n",
    "ylist = list()\n",
    "huelist = list()\n",
    "for x,y in sorted(nx.pagerank_numpy(summedupMultiDigraph).items(), key=operator.itemgetter(1), reverse=True)[:10]:\n",
    "    xlist.append(countryCodeMap[x])\n",
    "    ylist.append(y)\n",
    "    huelist.append(Set1[9][partition[x]])\n",
    "    \n",
    "barvalues = pd.DataFrame.from_items([('country', xlist), ('betweenness centrality', ylist)])\n",
    "\n",
    "top10pagerank = sns.barplot(x = 'country', y = 'betweenness centrality',data = barvalues, palette=huelist)\n",
    "top10pagerank.set(xlabel='country', ylabel='betweenness centrality')\n",
    "top10pagerank.set_title('top 10 pagerank')"
   ]
  },
  {
   "cell_type": "code",
   "execution_count": 178,
   "metadata": {
    "collapsed": false
   },
   "outputs": [
    {
     "data": {
      "image/png": "[encoded data removed]",
      "text/plain": [
       "<matplotlib.figure.Figure at 0x124c327d0>"
      ]
     },
     "execution_count": 178,
     "metadata": {},
     "output_type": "execute_result"
    }
   ],
   "source": [
    "f"
   ]
  },
  {
   "cell_type": "code",
   "execution_count": 179,
   "metadata": {
    "collapsed": true
   },
   "outputs": [],
   "source": [
    "import matplotlib.pyplot as plt"
   ]
  },
  {
   "cell_type": "code",
   "execution_count": null,
   "metadata": {
    "collapsed": false
   },
   "outputs": [],
   "source": []
  },
  {
   "cell_type": "code",
   "execution_count": null,
   "metadata": {
    "collapsed": true
   },
   "outputs": [],
   "source": []
  },
  {
   "cell_type": "code",
   "execution_count": null,
   "metadata": {
    "collapsed": true
   },
   "outputs": [],
   "source": []
  }
 ],
 "metadata": {
  "anaconda-cloud": {},
  "celltoolbar": "Raw Cell Format",
  "kernelspec": {
   "display_name": "Python [Root]",
   "language": "python",
   "name": "Python [Root]"
  },
  "language_info": {
   "codemirror_mode": {
    "name": "ipython",
    "version": 2
   },
   "file_extension": ".py",
   "mimetype": "text/x-python",
   "name": "python",
   "nbconvert_exporter": "python",
   "pygments_lexer": "ipython2",
   "version": "2.7.12"
  }
 },
 "nbformat": 4,
 "nbformat_minor": 0
}
