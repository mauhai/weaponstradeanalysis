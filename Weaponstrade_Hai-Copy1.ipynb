{
 "cells": [
  {
   "cell_type": "code",
   "execution_count": null,
   "metadata": {
    "collapsed": true
   },
   "outputs": [],
   "source": []
  },
  {
   "cell_type": "code",
   "execution_count": 1,
   "metadata": {
    "collapsed": false
   },
   "outputs": [],
   "source": [
    "import pandas as pd\n",
    "import numpy as np\n",
    "import os\n",
    "import networkx as nx\n",
    "import operator\n",
    "import matplotlib.pyplot as plt\n",
    "import community\n",
    "%matplotlib inline  \n",
    "import plotly\n",
    "from plotly.graph_objs import *\n",
    "import plotly.plotly as py\n",
    "import math\n"
   ]
  },
  {
   "cell_type": "code",
   "execution_count": 2,
   "metadata": {
    "collapsed": false
   },
   "outputs": [
    {
     "data": {
      "text/html": [
       "\n",
       "    <div class=\"bk-root\">\n",
       "        <a href=\"http://bokeh.pydata.org\" target=\"_blank\" class=\"bk-logo bk-logo-small bk-logo-notebook\"></a>\n",
       "        <span id=\"14796fc7-01a4-4adc-97d4-8b10bc35d537\">Loading BokehJS ...</span>\n",
       "    </div>"
      ]
     },
     "metadata": {},
     "output_type": "display_data"
    },
    {
     "data": {
      "application/javascript": [
       "\n",
       "(function(global) {\n",
       "  function now() {\n",
       "    return new Date();\n",
       "  }\n",
       "\n",
       "  if (typeof (window._bokeh_onload_callbacks) === \"undefined\") {\n",
       "    window._bokeh_onload_callbacks = [];\n",
       "  }\n",
       "\n",
       "  function run_callbacks() {\n",
       "    window._bokeh_onload_callbacks.forEach(function(callback) { callback() });\n",
       "    delete window._bokeh_onload_callbacks\n",
       "    console.info(\"Bokeh: all callbacks have finished\");\n",
       "  }\n",
       "\n",
       "  function load_libs(js_urls, callback) {\n",
       "    window._bokeh_onload_callbacks.push(callback);\n",
       "    if (window._bokeh_is_loading > 0) {\n",
       "      console.log(\"Bokeh: BokehJS is being loaded, scheduling callback at\", now());\n",
       "      return null;\n",
       "    }\n",
       "    if (js_urls == null || js_urls.length === 0) {\n",
       "      run_callbacks();\n",
       "      return null;\n",
       "    }\n",
       "    console.log(\"Bokeh: BokehJS not loaded, scheduling load and callback at\", now());\n",
       "    window._bokeh_is_loading = js_urls.length;\n",
       "    for (var i = 0; i < js_urls.length; i++) {\n",
       "      var url = js_urls[i];\n",
       "      var s = document.createElement('script');\n",
       "      s.src = url;\n",
       "      s.async = false;\n",
       "      s.onreadystatechange = s.onload = function() {\n",
       "        window._bokeh_is_loading--;\n",
       "        if (window._bokeh_is_loading === 0) {\n",
       "          console.log(\"Bokeh: all BokehJS libraries loaded\");\n",
       "          run_callbacks()\n",
       "        }\n",
       "      };\n",
       "      s.onerror = function() {\n",
       "        console.warn(\"failed to load library \" + url);\n",
       "      };\n",
       "      console.log(\"Bokeh: injecting script tag for BokehJS library: \", url);\n",
       "      document.getElementsByTagName(\"head\")[0].appendChild(s);\n",
       "    }\n",
       "  };\n",
       "\n",
       "  var js_urls = ['https://cdn.pydata.org/bokeh/release/bokeh-0.12.0.min.js', 'https://cdn.pydata.org/bokeh/release/bokeh-widgets-0.12.0.min.js', 'https://cdn.pydata.org/bokeh/release/bokeh-compiler-0.12.0.min.js'];\n",
       "\n",
       "  var inline_js = [\n",
       "    function(Bokeh) {\n",
       "      Bokeh.set_log_level(\"info\");\n",
       "    },\n",
       "    \n",
       "    function(Bokeh) {\n",
       "      Bokeh.$(\"#14796fc7-01a4-4adc-97d4-8b10bc35d537\").text(\"BokehJS successfully loaded\");\n",
       "    },\n",
       "    function(Bokeh) {\n",
       "      console.log(\"Bokeh: injecting CSS: https://cdn.pydata.org/bokeh/release/bokeh-0.12.0.min.css\");\n",
       "      Bokeh.embed.inject_css(\"https://cdn.pydata.org/bokeh/release/bokeh-0.12.0.min.css\");\n",
       "      console.log(\"Bokeh: injecting CSS: https://cdn.pydata.org/bokeh/release/bokeh-widgets-0.12.0.min.css\");\n",
       "      Bokeh.embed.inject_css(\"https://cdn.pydata.org/bokeh/release/bokeh-widgets-0.12.0.min.css\");\n",
       "    }\n",
       "  ];\n",
       "\n",
       "  function run_inline_js() {\n",
       "    for (var i = 0; i < inline_js.length; i++) {\n",
       "      inline_js[i](window.Bokeh);\n",
       "    }\n",
       "  }\n",
       "\n",
       "  if (window._bokeh_is_loading === 0) {\n",
       "    console.log(\"Bokeh: BokehJS loaded, going straight to plotting\");\n",
       "    run_inline_js();\n",
       "  } else {\n",
       "    load_libs(js_urls, function() {\n",
       "      console.log(\"Bokeh: BokehJS plotting callback run at\", now());\n",
       "      run_inline_js();\n",
       "    });\n",
       "  }\n",
       "}(this));"
      ]
     },
     "metadata": {},
     "output_type": "display_data"
    }
   ],
   "source": [
    "import copy\n",
    "from bokeh.io import output_notebook\n",
    "output_notebook()\n"
   ]
  },
  {
   "cell_type": "code",
   "execution_count": 3,
   "metadata": {
    "collapsed": false
   },
   "outputs": [],
   "source": [
    "def loadTable(directory, country_code):\n",
    "    path = directory+'TIV-Import-'+country_code+'-1950-2015.csv'\n",
    "    df = pd.read_csv(path)\n",
    "    \n",
    "    #extract current country\n",
    "    to_country = df.columns.values.tolist()[0].split('TIV of arms exports to ')[1].split(', 1950-2015')[0]\n",
    "    \n",
    "    #downsize\n",
    "    df = df.ix[9:]\n",
    "    \n",
    "    #get rid of column\n",
    "    df = df.drop(df.columns[[0]],axis =1)\n",
    "    df.columns = df.iloc[0]\n",
    "    df.columns.values[0] = 'country'\n",
    "    df = df.set_index((df['country']))\n",
    "    df = df.drop(df.columns[0], axis=1)\n",
    "    \n",
    "    #take the data less the header row\n",
    "    df = df[1:] \n",
    "    df.index.name = None #credit to ulynn\n",
    "    df.columns.name = None\n",
    "    \n",
    "    # Format of the keys should be YEAR - COUNTRYFROM - COUNTRYTO --> Faster query over the years\n",
    "\n",
    "    df.columns = df.columns.astype('str').str.replace('\\.0','')\n",
    "        \n",
    "    df.fillna(0, inplace=True)\n",
    "    try:\n",
    "        df.drop(df.loc['Unknown country'].name,inplace=True)\n",
    "    except:\n",
    "        \"\"\n",
    "        \n",
    "    #last cleansing\n",
    "    df.drop(df.index[[-1,-2]],inplace=True)\n",
    "    df.drop(df.columns[-1], axis=1,inplace=True)\n",
    "\n",
    "    return df, to_country"
   ]
  },
  {
   "cell_type": "code",
   "execution_count": 4,
   "metadata": {
    "collapsed": false
   },
   "outputs": [],
   "source": [
    "#FORMAT\n",
    "#[YEARS][FROM][TO] = MONEY\n",
    "def convertTableToDict(df, onecountrydict, countryTo):\n",
    "    years = list(df.columns.values)\n",
    "    countries = list(df.index)\n",
    "    \n",
    "    for year in years:\n",
    "        onecountrydict.setdefault(year, dict())\n",
    "        onecountrydict[year].setdefault(countryTo, dict())\n",
    "        \n",
    "        for country in countries:\n",
    "            value = df.get_value(country, year)\n",
    "            onecountrydict[year][countryTo].setdefault(country, value)\n",
    "            \n",
    "    return onecountrydict"
   ]
  },
  {
   "cell_type": "code",
   "execution_count": 5,
   "metadata": {
    "collapsed": true
   },
   "outputs": [],
   "source": [
    "#delete empty cells from dict\n",
    "\n",
    "def clean_empty(d):\n",
    "    if not isinstance(d, (dict, list)): #dictionairy or list\n",
    "        return d\n",
    "    if isinstance(d, list): \n",
    "        return [v for v in (clean_empty(v) for v in d) if v] #list comprehension\n",
    "    return {k: v for k, v in ((k, clean_empty(v)) for k, v in d.items()) if v}\n"
   ]
  },
  {
   "cell_type": "code",
   "execution_count": 6,
   "metadata": {
    "collapsed": false
   },
   "outputs": [],
   "source": [
    "countryImportDict = dict()\n",
    "PATH = '/Users/hai/Devproj/weaponstradeanalysis/data/'\n",
    "\n",
    "countryCodeMap = dict()\n",
    "\n",
    "for f in os.listdir(PATH):\n",
    "    if not f.startswith('.'):\n",
    "        if \"country_codes.csv\" not in f:\n",
    "            countryCode = f.replace('TIV-Import-',\"\").replace('-1950-2015.csv', \"\")\n",
    "            df,to_country = loadTable(PATH, countryCode)\n",
    "            countryImportDict = convertTableToDict(df, countryImportDict, to_country)\n",
    "            countryCodeMap.setdefault(to_country, countryCode)\n",
    "\n",
    "countryImportDict = clean_empty(countryImportDict)\n",
    "\n",
    "MultiDiDict = dict()\n",
    "for year in countryImportDict:\n",
    "    MultiDiDict.setdefault(year, dict())\n",
    "    for countryImport in countryImportDict[year]:\n",
    "        for countryExport in countryImportDict[year][countryImport]:\n",
    "            MultiDiDict[year].setdefault(countryExport, dict())\n",
    "            MultiDiDict[year][countryExport].setdefault(countryImport, 0)\n",
    "            MultiDiDict[year][countryExport][countryImport] += countryImportDict[year][countryImport][countryExport]"
   ]
  },
  {
   "cell_type": "code",
   "execution_count": 7,
   "metadata": {
    "collapsed": false
   },
   "outputs": [],
   "source": [
    "df = pd.DataFrame.from_dict(countryCodeMap, orient=\"index\")\n",
    "df.sort_index(inplace=True)\n",
    "df.to_csv('countrymap.csv')\n"
   ]
  },
  {
   "cell_type": "code",
   "execution_count": 8,
   "metadata": {
    "collapsed": false
   },
   "outputs": [],
   "source": [
    "militaryexpdf = pd.read_excel('/Users/hai/Devproj/weaponstradeanalysis/newdata/SIPRI extended milex database beta/Constant USD Beta.xlsx')\n",
    "militaryexpdf = militaryexpdf.iloc[2:175, 2:]\n",
    "militaryexpdf.columns = militaryexpdf.iloc[0]\n",
    "militaryexpdf.columns.values[0] = 'Country'\n",
    "militaryexpdf = militaryexpdf.set_index((militaryexpdf['Country']))\n",
    "militaryexpdf = militaryexpdf.drop(militaryexpdf.columns[0], axis=1)\n",
    "militaryexpdf = militaryexpdf[1:] \n",
    "militaryexpdf.index.name = None #credit to ulynn\n",
    "militaryexpdf.columns.name = None\n",
    "militaryexpdf.drop(['Montenegro'], inplace = True)\n",
    "\n",
    "\n",
    "namecorrectionmapping = pd.read_csv('/Users/hai/Devproj/weaponstradeanalysis/countrymapping.csv', delimiter = ';', header = None)\n",
    "namecorrectionmapping.columns = ['countrycode','newname', 'oldname']\n",
    "\n",
    "namecorrectionmapping.set_index((namecorrectionmapping['oldname']), inplace = True)\n",
    "namecorrectionmapping.drop(namecorrectionmapping.columns[[0,2]], axis=1, inplace = True)\n",
    "namecorrectionmapping.index.name = None\n",
    "namemappingdict = namecorrectionmapping.to_dict()\n",
    "\n",
    "\n",
    "from decimal import Decimal\n",
    "\n",
    "\n",
    "def convertmilitaryexpTableToDict(df,namemapping):\n",
    "    years = list(df.columns.values)\n",
    "    countries = list(df.index)\n",
    "    militaryexpdict = dict()\n",
    "    for year in years:\n",
    "        militaryexpdict.setdefault(str(year), dict())\n",
    "        for country in countries:\n",
    "            value = df.get_value(country, year)\n",
    "            if isinstance(value,float):\n",
    "                value = round(Decimal(value * 0.5520917815626),1) #inflation correction from constant 2014 to constant 1990\n",
    "            militaryexpdict[str(year)].setdefault((namemapping['newname'][country]), value)\n",
    "    return militaryexpdict\n",
    "\n",
    "militaryexpdict = convertmilitaryexpTableToDict(militaryexpdf, namemappingdict)"
   ]
  },
  {
   "cell_type": "code",
   "execution_count": 9,
   "metadata": {
    "collapsed": false
   },
   "outputs": [],
   "source": [
    "excludedentities = pd.read_csv('excludedcountries.csv', delimiter=';', header = None)\n",
    "excludedentities.columns = ['Name','Code']\n",
    "excludedentities.set_index((excludedentities['Name']), inplace = True)\n",
    "excludedentities.drop(excludedentities.columns[[0]], axis=1, inplace = True)\n",
    "excludedentities.index.name = None\n",
    "excludedentities = excludedentities.index\n"
   ]
  },
  {
   "cell_type": "code",
   "execution_count": 10,
   "metadata": {
    "collapsed": true
   },
   "outputs": [],
   "source": [
    "def clean_noncountries(d):\n",
    "    if not isinstance(d, (dict)): #dictionairy or list\n",
    "        return d\n",
    "    return {k: v for k, v in ((k, clean_noncountries(v)) for k, v in d.items()) if k not in excludedentities}"
   ]
  },
  {
   "cell_type": "code",
   "execution_count": 11,
   "metadata": {
    "collapsed": true
   },
   "outputs": [],
   "source": [
    "def createNeighbourGraph(G, node):\n",
    "    \n",
    "    newGraph = nx.Graph()\n",
    "    \n",
    "    for edge in G.edges(data=True):\n",
    "        if edge[0] == node or edge[1] == node:\n",
    "            newGraph.add_edge(edge[0],edge[1],edge[2])\n",
    "    \n",
    "    return newGraph"
   ]
  },
  {
   "cell_type": "code",
   "execution_count": 12,
   "metadata": {
    "collapsed": false
   },
   "outputs": [],
   "source": [
    "# most fucked up function\n",
    "\n",
    "def addUpDict(MasterDict):\n",
    "\n",
    "    SomethingsOverwrittenDict = copy.deepcopy(MasterDict)\n",
    "\n",
    "    AddedUpDict = dict()\n",
    "\n",
    "    for year in SomethingsOverwrittenDict:\n",
    "        AddedUpDict.setdefault(year, dict())\n",
    "        for countryExport in SomethingsOverwrittenDict[year]:\n",
    "            for countryImport in SomethingsOverwrittenDict[year][countryExport]:\n",
    "                AddedUpDict[year].setdefault(countryExport, dict())\n",
    "                AddedUpDict[year][countryExport].setdefault(countryImport, 0)\n",
    "                Richtung = SomethingsOverwrittenDict[year][countryExport][countryImport]\n",
    "                #andere richtung verfügbar?\n",
    "                if countryImport in SomethingsOverwrittenDict[year]:\n",
    "                    if countryExport in SomethingsOverwrittenDict[year][countryImport]:\n",
    "                        andereRichtung = SomethingsOverwrittenDict[year][countryImport][countryExport]\n",
    "                    else: andereRichtung = 0\n",
    "                else: andereRichtung = 0\n",
    "                \n",
    "                #Transmitting stuff into the AddedUpDict\n",
    "                if (Richtung + andereRichtung) != 0:\n",
    "                    AddedUpDict[year][countryExport][countryImport] = Richtung + andereRichtung\n",
    "\n",
    "                #\"Clearing the MasterDict\"\n",
    "                SomethingsOverwrittenDict[year][countryExport][countryImport] = 0\n",
    "\n",
    "                if countryImport in SomethingsOverwrittenDict[year]:\n",
    "                    if countryExport in SomethingsOverwrittenDict[year][countryImport]:\n",
    "                        SomethingsOverwrittenDict[year][countryImport][countryExport] = 0\n",
    "    \n",
    "    return AddedUpDict"
   ]
  },
  {
   "cell_type": "code",
   "execution_count": 13,
   "metadata": {
    "collapsed": true
   },
   "outputs": [],
   "source": [
    "def createYearGraph(AddedUpDict, year, militaryexpdict):\n",
    "    \n",
    "    G = nx.Graph()    \n",
    "    for countryExport in AddedUpDict[year]:\n",
    "        for countryImport in AddedUpDict[year][countryExport]:\n",
    "            if AddedUpDict[year][countryExport][countryImport] != 0:\n",
    "                G.add_weighted_edges_from([(countryExport,countryImport,AddedUpDict[year][countryExport][countryImport])])\n",
    "    \n",
    "    for node in G.nodes_iter():\n",
    "        if node in militaryexpdict[year]:\n",
    "            G.node[node]['military expenditure'] = militaryexpdict[year][node]\n",
    "        else:\n",
    "            G.node[node]['military expenditure'] = 'no data'\n",
    "    \n",
    "    return G"
   ]
  },
  {
   "cell_type": "code",
   "execution_count": 14,
   "metadata": {
    "collapsed": true
   },
   "outputs": [],
   "source": [
    "def createYearMultiDiGraph(AddedUpDict, year,militaryexpdict):\n",
    "    \n",
    "    G = nx.MultiDiGraph()    \n",
    "    for countryExport in AddedUpDict[year]:\n",
    "        for countryImport in AddedUpDict[year][countryExport]:\n",
    "            if AddedUpDict[year][countryExport][countryImport] != 0:\n",
    "                G.add_weighted_edges_from([(countryExport,countryImport,AddedUpDict[year][countryExport][countryImport])])\n",
    "    \n",
    "    for node in G.nodes_iter():\n",
    "        if node in militaryexpdict[year]:\n",
    "            G.node[node]['military expenditure'] = militaryexpdict[year][node]\n",
    "        else:\n",
    "            G.node[node]['military expenditure'] = 'no data'\n",
    "    \n",
    "    return G"
   ]
  },
  {
   "cell_type": "markdown",
   "metadata": {},
   "source": [
    "# Setup Dicts"
   ]
  },
  {
   "cell_type": "code",
   "execution_count": 15,
   "metadata": {
    "collapsed": false
   },
   "outputs": [],
   "source": [
    "CompleteDict = copy.deepcopy(MultiDiDict)\n",
    "\n",
    "MultiDiDict = clean_empty(clean_noncountries(MultiDiDict))\n",
    "CompleteDict = clean_empty(clean_noncountries(CompleteDict))\n",
    "AddedUpDict = clean_empty(clean_noncountries(addUpDict(MultiDiDict)))\n",
    "\n",
    "multigraph = createYearMultiDiGraph(MultiDiDict,'1960',militaryexpdict)\n",
    "mastergraph = createYearGraph(AddedUpDict, '1960', militaryexpdict)"
   ]
  },
  {
   "cell_type": "code",
   "execution_count": null,
   "metadata": {
    "collapsed": false
   },
   "outputs": [],
   "source": []
  },
  {
   "cell_type": "code",
   "execution_count": 16,
   "metadata": {
    "collapsed": false
   },
   "outputs": [],
   "source": [
    "colormap = dict([(0, 'rgb(91,147,204)'), (1, 'rgb(255,46,43)'),(2, 'rgb(145,58,31)'), (3, 'rgb(151,219,79)'), (4, 'rgb(41,255,25)'), (5, 'rgb(255,104,0)'), (6, 'rgb(44,20,204)'), (7, 'rgb(178,84,18)')])"
   ]
  },
  {
   "cell_type": "code",
   "execution_count": 17,
   "metadata": {
    "collapsed": false
   },
   "outputs": [],
   "source": [
    "from bokeh.plotting import figure, show\n",
    "from bokeh.models import ColumnDataSource,HoverTool\n",
    "from bokeh.io import curdoc\n",
    "from bokeh.layouts import row, widgetbox\n",
    "from bokeh.models.widgets import Slider, TextInput"
   ]
  },
  {
   "cell_type": "code",
   "execution_count": 18,
   "metadata": {
    "collapsed": false
   },
   "outputs": [],
   "source": [
    "def influenceOverTimeAll(countrydict,militaryexpdict):\n",
    "    influenceAll = dict()\n",
    "    for year in countrydict:\n",
    "        G = createYearGraph(countrydict, year,militaryexpdict)\n",
    "        for entry in nx.betweenness_centrality(G).items():\n",
    "            if entry[0] in influenceAll:\n",
    "                influenceAll[entry[0]][year] = entry[1]\n",
    "            else:\n",
    "                influenceAll.setdefault(entry[0], dict())\n",
    "                influenceAll[entry[0]][year] = entry[1]\n",
    "    return influenceAll"
   ]
  },
  {
   "cell_type": "code",
   "execution_count": 19,
   "metadata": {
    "collapsed": false
   },
   "outputs": [],
   "source": [
    "def generateTimelinesPlot(influencedict, countries, name):\n",
    "    from bokeh.palettes import Spectral10\n",
    "    \n",
    "    plot = figure(plot_width=600, plot_height=400, tools=['pan','tap','box_zoom','reset','wheel_zoom','save'])\n",
    "\n",
    "    d = dict(x=[], y=[],country=[], color=[])\n",
    "    color = copy.copy(Spectral10)\n",
    "    for country in countries:\n",
    "        countrycolor = color[0]\n",
    "        color.remove(countrycolor)\n",
    "        line = dict(xe=[], ye=[])\n",
    "        for entry in sorted(influencedict[country].items(), key=operator.itemgetter(0)):\n",
    "            d['x'].append(entry[0])\n",
    "            d['y'].append(entry[1])\n",
    "            d['country'].append(country)\n",
    "            d['color'].append(countrycolor)\n",
    "            line['xe'].append(entry[0])\n",
    "            line['ye'].append(entry[1])\n",
    "                    \n",
    "        plot.line(line['xe'], line['ye'],legend=country, color=countrycolor)\n",
    "    \n",
    "    s1 = plot.scatter('x', 'y', line_width=1, color = 'color', source=ColumnDataSource(d))\n",
    "    plot.add_tools(HoverTool(renderers=[s1], tooltips=[('year','@x'),('country','@country'),(name,'@y')]))\n",
    "    \n",
    "    return plot"
   ]
  },
  {
   "cell_type": "markdown",
   "metadata": {},
   "source": [
    "### Definition"
   ]
  },
  {
   "cell_type": "code",
   "execution_count": 20,
   "metadata": {
    "collapsed": false
   },
   "outputs": [],
   "source": [
    "def WeaponFlowTimeAll(MultiDiDict,militaryexpdict):\n",
    "    weaponinflow = dict()\n",
    "    weaponoutflow = dict()\n",
    "    for year in MultiDiDict:\n",
    "        G = createYearMultiDiGraph(MultiDiDict, year,militaryexpdict)\n",
    "        for country in G.nodes_iter():\n",
    "            inflow = 0\n",
    "            for x in G.in_edges_iter(nbunch=country, data=True):\n",
    "                inflow = inflow + x[2].values()[0]        \n",
    "            if country in weaponinflow:\n",
    "                weaponinflow[country][year] = inflow\n",
    "            else:\n",
    "                weaponinflow.setdefault(country, dict())\n",
    "                weaponinflow[country][year] = inflow\n",
    "                \n",
    "            outflow = 0\n",
    "            for x in G.out_edges_iter(nbunch=country, data=True):\n",
    "                outflow = outflow + x[2].values()[0]        \n",
    "            if country in weaponoutflow:\n",
    "                weaponoutflow[country][year] = outflow\n",
    "            else:\n",
    "                weaponoutflow.setdefault(country, dict())\n",
    "                weaponoutflow[country][year] = outflow\n",
    "    \n",
    "    return weaponinflow, weaponoutflow\n"
   ]
  },
  {
   "cell_type": "code",
   "execution_count": 21,
   "metadata": {
    "collapsed": false
   },
   "outputs": [],
   "source": [
    "weaponinflow, weaponoutflow = WeaponFlowTimeAll(MultiDiDict,militaryexpdict)"
   ]
  },
  {
   "cell_type": "markdown",
   "metadata": {},
   "source": [
    "## New Visualization"
   ]
  },
  {
   "cell_type": "code",
   "execution_count": 22,
   "metadata": {
    "collapsed": false
   },
   "outputs": [],
   "source": [
    "layout = nx.spring_layout(mastergraph)"
   ]
  },
  {
   "cell_type": "code",
   "execution_count": 23,
   "metadata": {
    "collapsed": false
   },
   "outputs": [],
   "source": [
    "def get_nodes_specs(_network, _layout):\n",
    "    d = dict(x=[], y=[], color=[], country=[], size=[], totaltrade =[], \n",
    "             cluster=[], alpha=[], largestpartner=[], military_expenditure=[])\n",
    "    \n",
    "    partition = community.best_partition(_network)\n",
    "    \n",
    "    for node in _network.nodes(data = True):\n",
    "        totaltrade = 0\n",
    "        largest_trade_partner_trade = 0\n",
    "        largest_trade_partner_name = ''  \n",
    "        \n",
    "        for edge in _network.edges(data=True):\n",
    "                if edge[0] == node[0] or edge[1] == node[0]:\n",
    "                    totaltrade += edge[2].values()[0]\n",
    "                    if edge[2].values()[0] >= largest_trade_partner_trade:\n",
    "                        largest_trade_partner_trade = edge[2].values()[0]\n",
    "                        if edge[0] == node[0]:\n",
    "                            largest_trade_partner_name = edge[1]\n",
    "                        else:\n",
    "                            largest_trade_partner_name = edge[0] \n",
    "\n",
    "        d['x'].append(_layout[node[0]][0])\n",
    "        d['y'].append(_layout[node[0]][1])\n",
    "        d['color'].append(colormap[partition[node[0]]])\n",
    "        d['country'].append(node[0])\n",
    "        \n",
    "        if isinstance(node[1].values()[0],float) and not math.isnan(node[1].values()[0]):\n",
    "            d['size'].append((np.log(node[1].values()[0]))*0.8)\n",
    "            d['alpha'].append(0.6)\n",
    "        else:\n",
    "            d['size'].append(np.log(totaltrade))\n",
    "            d['alpha'].append(0.2)\n",
    "        \n",
    "        d['totaltrade'].append(totaltrade)\n",
    "        d['cluster'].append(partition[node[0]])\n",
    "        \n",
    "        d['largestpartner'].append(largest_trade_partner_name)\n",
    "        d['military_expenditure'].append(node[1].values()[0])\n",
    "        \n",
    "    return d"
   ]
  },
  {
   "cell_type": "code",
   "execution_count": 24,
   "metadata": {
    "collapsed": true
   },
   "outputs": [],
   "source": [
    "def get_edges_specs(_network, _layout):\n",
    "    d = dict(xs=[], ys=[], alphas=[], width=[])\n",
    "    weights = []\n",
    "    for u, v, data in _network.edges(data=True):\n",
    "        weights.append(data)\n",
    "    max_weight = max(weights).values()\n",
    "    calc_alpha = lambda h: 0.1 + 0.6 * (h / max_weight)\n",
    "    for u, v, data in _network.edges(data=True):\n",
    "        d['xs'].append([_layout[u][0], _layout[v][0]])\n",
    "        d['ys'].append([_layout[u][1], _layout[v][1]])\n",
    "        d['alphas'].append(calc_alpha(data['weight']))\n",
    "        d['width'].append(np.log(data.values()[0]))\n",
    "    \n",
    "    return d"
   ]
  },
  {
   "cell_type": "code",
   "execution_count": 28,
   "metadata": {
    "collapsed": false
   },
   "outputs": [],
   "source": [
    "year = '1990'\n",
    "\n",
    "#pregenerate all graphs\n",
    "\n",
    "def AllGraphs(countrydict, militaryexpdict):\n",
    "    AllGraphsDict = dict()\n",
    "    for year in countrydict:\n",
    "        G = createYearGraph(countrydict, year, militaryexpdict)\n",
    "        layout = nx.spring_layout(G)\n",
    "        \n",
    "        AllGraphsDict[year] = [G,layout]\n",
    "        \n",
    "    return AllGraphsDict\n",
    "\n",
    "AllGraphs = AllGraphs(AddedUpDict, militaryexpdict)\n"
   ]
  },
  {
   "cell_type": "code",
   "execution_count": 29,
   "metadata": {
    "collapsed": false
   },
   "outputs": [],
   "source": [
    "for year in AddedUpDict:\n",
    "    nodes = dict()\n",
    "    edges = dict()\n",
    "    nodes[year] = ColumnDataSource(get_nodes_specs(AllGraphs[year][0],AllGraphs[year][1]))\n",
    "    edges[year] = ColumnDataSource(get_edges_specs(AllGraphs[year][0],AllGraphs[year][1]))\n",
    "\n",
    "    \n",
    "    \n",
    "    \n",
    "\n",
    "hover = HoverTool(tooltips=[('country','@country'),\n",
    "                            ('cluster','@cluster'),\n",
    "                            ('military expenditure','@military_expenditure'),\n",
    "                            ('largest tradepartner', '@largestpartner'),\n",
    "                            #('imports from', '@import'),\n",
    "                            #('exports from', '@export')\n",
    "                           ])\n",
    "    \n",
    "plot = figure(plot_width=800, plot_height=600, tools=['pan','tap',hover,'box_zoom','reset','wheel_zoom','save'])\n",
    "    \n",
    "r_circles = plot.circle('x','y', source=nodes, size='size', color='color', level='overlay',alpha='alpha')\n",
    "r_lines = plot.multi_line('xs', 'ys', source=edges, line_width='width', alpha='alphas', color='navy')"
   ]
  },
  {
   "cell_type": "code",
   "execution_count": null,
   "metadata": {
    "collapsed": true
   },
   "outputs": [],
   "source": [
    "#widget\n",
    "year = Slider(title=\"year\", value=1950, start=1950, end=2015, step = 1)"
   ]
  },
  {
   "cell_type": "code",
   "execution_count": null,
   "metadata": {
    "collapsed": true
   },
   "outputs": [],
   "source": [
    "#callback"
   ]
  },
  {
   "cell_type": "code",
   "execution_count": null,
   "metadata": {
    "collapsed": false
   },
   "outputs": [],
   "source": []
  },
  {
   "cell_type": "code",
   "execution_count": 27,
   "metadata": {
    "collapsed": false
   },
   "outputs": [
    {
     "data": {
      "text/html": [
       "\n",
       "\n",
       "    <div class=\"bk-root\">\n",
       "        <div class=\"plotdiv\" id=\"7b2433ad-4841-46f4-a03b-2b0b5b8fd6aa\"></div>\n",
       "    </div>\n",
       "<script type=\"text/javascript\">\n",
       "  \n",
       "  (function(global) {\n",
       "    function now() {\n",
       "      return new Date();\n",
       "    }\n",
       "  \n",
       "    if (typeof (window._bokeh_onload_callbacks) === \"undefined\") {\n",
       "      window._bokeh_onload_callbacks = [];\n",
       "    }\n",
       "  \n",
       "    function run_callbacks() {\n",
       "      window._bokeh_onload_callbacks.forEach(function(callback) { callback() });\n",
       "      delete window._bokeh_onload_callbacks\n",
       "      console.info(\"Bokeh: all callbacks have finished\");\n",
       "    }\n",
       "  \n",
       "    function load_libs(js_urls, callback) {\n",
       "      window._bokeh_onload_callbacks.push(callback);\n",
       "      if (window._bokeh_is_loading > 0) {\n",
       "        console.log(\"Bokeh: BokehJS is being loaded, scheduling callback at\", now());\n",
       "        return null;\n",
       "      }\n",
       "      if (js_urls == null || js_urls.length === 0) {\n",
       "        run_callbacks();\n",
       "        return null;\n",
       "      }\n",
       "      console.log(\"Bokeh: BokehJS not loaded, scheduling load and callback at\", now());\n",
       "      window._bokeh_is_loading = js_urls.length;\n",
       "      for (var i = 0; i < js_urls.length; i++) {\n",
       "        var url = js_urls[i];\n",
       "        var s = document.createElement('script');\n",
       "        s.src = url;\n",
       "        s.async = false;\n",
       "        s.onreadystatechange = s.onload = function() {\n",
       "          window._bokeh_is_loading--;\n",
       "          if (window._bokeh_is_loading === 0) {\n",
       "            console.log(\"Bokeh: all BokehJS libraries loaded\");\n",
       "            run_callbacks()\n",
       "          }\n",
       "        };\n",
       "        s.onerror = function() {\n",
       "          console.warn(\"failed to load library \" + url);\n",
       "        };\n",
       "        console.log(\"Bokeh: injecting script tag for BokehJS library: \", url);\n",
       "        document.getElementsByTagName(\"head\")[0].appendChild(s);\n",
       "      }\n",
       "    };var element = document.getElementById(\"7b2433ad-4841-46f4-a03b-2b0b5b8fd6aa\");\n",
       "    if (element == null) {\n",
       "      console.log(\"Bokeh: ERROR: autoload.js configured with elementid '7b2433ad-4841-46f4-a03b-2b0b5b8fd6aa' but no matching script tag was found. \")\n",
       "      return false;\n",
       "    }\n",
       "  \n",
       "    var js_urls = [];\n",
       "  \n",
       "    var inline_js = [\n",
       "      function(Bokeh) {\n",
       "        Bokeh.$(function() {\n",
       "            var docs_json = {\"bb08897c-c96d-4ba4-bc35-f352f0ee0c32\":{\"roots\":{\"references\":[{\"attributes\":{\"bottom_units\":\"screen\",\"fill_alpha\":{\"value\":0.5},\"fill_color\":{\"value\":\"lightgrey\"},\"left_units\":\"screen\",\"level\":\"overlay\",\"line_alpha\":{\"value\":1.0},\"line_color\":{\"value\":\"black\"},\"line_dash\":[4,4],\"line_width\":{\"value\":2},\"plot\":null,\"render_mode\":\"css\",\"right_units\":\"screen\",\"top_units\":\"screen\"},\"id\":\"8fdd820c-4dbd-4ab8-86c2-0ee8fd4cc8a5\",\"type\":\"BoxAnnotation\"},{\"attributes\":{\"formatter\":{\"id\":\"89fc456b-c4e6-4d1e-9718-8ea649a4f3db\",\"type\":\"BasicTickFormatter\"},\"plot\":{\"id\":\"ca26503f-983c-4716-9ae8-95d3571fe30c\",\"subtype\":\"Figure\",\"type\":\"Plot\"},\"ticker\":{\"id\":\"84f0a023-f617-43f7-bc86-6fbfa3e13289\",\"type\":\"BasicTicker\"}},\"id\":\"68b1e007-5d1d-4d9e-be97-b3213e2e84e2\",\"type\":\"LinearAxis\"},{\"attributes\":{\"callback\":null},\"id\":\"5c754f1c-7016-4e12-8336-a3827eb4aaba\",\"type\":\"DataRange1d\"},{\"attributes\":{\"active_drag\":\"auto\",\"active_scroll\":\"auto\",\"active_tap\":\"auto\",\"tools\":[{\"id\":\"d4a110b1-6838-41ba-805d-270edead0181\",\"type\":\"HoverTool\"},{\"id\":\"2db7d5a8-467f-4b95-82a0-2f57cf3fae45\",\"type\":\"PanTool\"},{\"id\":\"52e75cc7-005a-4d1a-998e-ff31eab2b8cd\",\"type\":\"TapTool\"},{\"id\":\"262cb717-efff-4507-b919-e0b57a73105d\",\"type\":\"BoxZoomTool\"},{\"id\":\"9bdf63dc-60f9-4b89-8421-513866055a84\",\"type\":\"ResetTool\"},{\"id\":\"29dcf010-34c4-40ff-afae-878d9dfaeb31\",\"type\":\"WheelZoomTool\"},{\"id\":\"ef2a2d72-9fbf-4b70-9786-2e4d67f8b6d8\",\"type\":\"SaveTool\"}]},\"id\":\"181c68be-2bbf-4032-9cbd-c52ab084bbdd\",\"type\":\"Toolbar\"},{\"attributes\":{\"plot\":null,\"text\":null},\"id\":\"3dbadfde-3fc9-434b-bd6b-55ddf36564bf\",\"type\":\"Title\"},{\"attributes\":{\"callback\":null,\"column_names\":[\"largestpartner\",\"color\",\"country\",\"military_expenditure\",\"cluster\",\"totaltrade\",\"alpha\",\"y\",\"x\",\"size\"],\"data\":{\"alpha\":[0.6,0.2,0.6,0.6,0.6,0.6,0.6,0.2,0.6,0.6,0.6,0.2,0.6,0.6,0.6,0.6,0.6,0.6,0.6,0.2,0.6,0.6,0.6,0.6,0.6,0.6,0.6,0.6,0.6,0.6,0.6,0.6,0.6,0.6,0.2,0.6,0.6,0.6,0.6,0.6,0.6,0.6,0.6,0.2,0.6,0.6,0.6,0.6,0.6,0.6,0.6,0.6,0.6,0.6,0.6,0.6,0.6,0.6,0.2,0.6,0.2,0.6,0.6,0.6,0.6,0.6,0.6,0.6,0.6,0.6,0.6,0.6,0.6,0.6,0.6,0.6,0.6,0.6,0.6,0.6,0.6,0.2,0.6,0.2,0.6,0.6,0.2,0.6,0.2,0.6,0.6,0.6,0.6,0.6,0.6,0.6,0.6,0.6,0.6,0.6,0.6,0.6,0.6,0.6,0.6,0.6,0.6],\"cluster\":[0,0,1,1,2,2,2,1,3,0,0,0,0,1,3,0,3,2,0,0,0,1,3,3,4,1,0,0,3,3,3,2,3,1,2,0,2,0,3,0,3,0,1,2,0,0,0,3,3,0,1,3,5,3,0,2,0,0,0,2,0,0,3,2,3,0,0,3,3,0,2,3,3,0,1,0,1,0,2,5,1,3,0,3,1,0,0,1,3,3,3,3,1,3,5,1,3,1,1,0,0,3,0,2,4,0,1],\"color\":[\"rgb(91,147,204)\",\"rgb(91,147,204)\",\"rgb(255,46,43)\",\"rgb(255,46,43)\",\"rgb(145,58,31)\",\"rgb(145,58,31)\",\"rgb(145,58,31)\",\"rgb(255,46,43)\",\"rgb(151,219,79)\",\"rgb(91,147,204)\",\"rgb(91,147,204)\",\"rgb(91,147,204)\",\"rgb(91,147,204)\",\"rgb(255,46,43)\",\"rgb(151,219,79)\",\"rgb(91,147,204)\",\"rgb(151,219,79)\",\"rgb(145,58,31)\",\"rgb(91,147,204)\",\"rgb(91,147,204)\",\"rgb(91,147,204)\",\"rgb(255,46,43)\",\"rgb(151,219,79)\",\"rgb(151,219,79)\",\"rgb(41,255,25)\",\"rgb(255,46,43)\",\"rgb(91,147,204)\",\"rgb(91,147,204)\",\"rgb(151,219,79)\",\"rgb(151,219,79)\",\"rgb(151,219,79)\",\"rgb(145,58,31)\",\"rgb(151,219,79)\",\"rgb(255,46,43)\",\"rgb(145,58,31)\",\"rgb(91,147,204)\",\"rgb(145,58,31)\",\"rgb(91,147,204)\",\"rgb(151,219,79)\",\"rgb(91,147,204)\",\"rgb(151,219,79)\",\"rgb(91,147,204)\",\"rgb(255,46,43)\",\"rgb(145,58,31)\",\"rgb(91,147,204)\",\"rgb(91,147,204)\",\"rgb(91,147,204)\",\"rgb(151,219,79)\",\"rgb(151,219,79)\",\"rgb(91,147,204)\",\"rgb(255,46,43)\",\"rgb(151,219,79)\",\"rgb(255,104,0)\",\"rgb(151,219,79)\",\"rgb(91,147,204)\",\"rgb(145,58,31)\",\"rgb(91,147,204)\",\"rgb(91,147,204)\",\"rgb(91,147,204)\",\"rgb(145,58,31)\",\"rgb(91,147,204)\",\"rgb(91,147,204)\",\"rgb(151,219,79)\",\"rgb(145,58,31)\",\"rgb(151,219,79)\",\"rgb(91,147,204)\",\"rgb(91,147,204)\",\"rgb(151,219,79)\",\"rgb(151,219,79)\",\"rgb(91,147,204)\",\"rgb(145,58,31)\",\"rgb(151,219,79)\",\"rgb(151,219,79)\",\"rgb(91,147,204)\",\"rgb(255,46,43)\",\"rgb(91,147,204)\",\"rgb(255,46,43)\",\"rgb(91,147,204)\",\"rgb(145,58,31)\",\"rgb(255,104,0)\",\"rgb(255,46,43)\",\"rgb(151,219,79)\",\"rgb(91,147,204)\",\"rgb(151,219,79)\",\"rgb(255,46,43)\",\"rgb(91,147,204)\",\"rgb(91,147,204)\",\"rgb(255,46,43)\",\"rgb(151,219,79)\",\"rgb(151,219,79)\",\"rgb(151,219,79)\",\"rgb(151,219,79)\",\"rgb(255,46,43)\",\"rgb(151,219,79)\",\"rgb(255,104,0)\",\"rgb(255,46,43)\",\"rgb(151,219,79)\",\"rgb(255,46,43)\",\"rgb(255,46,43)\",\"rgb(91,147,204)\",\"rgb(91,147,204)\",\"rgb(151,219,79)\",\"rgb(91,147,204)\",\"rgb(145,58,31)\",\"rgb(41,255,25)\",\"rgb(91,147,204)\",\"rgb(255,46,43)\"],\"country\":[\"Canada\",\"Turkmenistan\",\"Germany (FRG)\",\"Lithuania\",\"Argentina\",\"Bolivia\",\"Cameroon\",\"Burkina Faso\",\"Ghana\",\"Saudi Arabia\",\"Guatemala\",\"UAE\",\"Spain\",\"Netherlands\",\"Pakistan\",\"Oman\",\"Tanzania\",\"Gabon\",\"New Zealand\",\"Yemen\",\"Jamaica\",\"Albania\",\"India\",\"Azerbaijan\",\"Kenya\",\"South Korea\",\"Turkey\",\"Afghanistan\",\"Bangladesh\",\"Viet Nam\",\"Mongolia\",\"France\",\"Rwanda\",\"Peru\",\"Laos\",\"Norway\",\"Cote d'Ivoire\",\"Singapore\",\"China\",\"Dominican Republic\",\"Ukraine\",\"Taiwan (ROC)\",\"Finland\",\"Libya\",\"Indonesia\",\"United States\",\"Sweden\",\"Belarus\",\"Russia\",\"Bulgaria\",\"Romania\",\"Angola\",\"Portugal\",\"South Africa\",\"Malaysia\",\"Senegal\",\"Uganda\",\"Japan\",\"Niger\",\"Brazil\",\"Kuwait\",\"Ireland\",\"Nigeria\",\"Ecuador\",\"Czech Republic\",\"Brunei\",\"Australia\",\"Iran\",\"Algeria\",\"Chile\",\"Belgium\",\"Thailand\",\"Iraq\",\"Denmark\",\"Poland\",\"Morocco\",\"Croatia\",\"Switzerland\",\"Estonia\",\"Uruguay\",\"Lebanon\",\"Uzbekistan\",\"Tunisia\",\"Djibouti\",\"Colombia\",\"Burundi\",\"Qatar\",\"Italy\",\"Sudan\",\"Nepal\",\"Malta\",\"Venezuela\",\"Israel\",\"Zambia\",\"Austria\",\"Jordan\",\"Kazakhstan\",\"Philippines\",\"Trinidad and Tobago\",\"Latvia\",\"Honduras\",\"Myanmar\",\"Mexico\",\"Egypt\",\"Serbia\",\"United Kingdom\",\"Greece\"],\"largestpartner\":[\"United States\",\"Turkey\",\"Greece\",\"Poland\",\"United States\",\"France\",\"France\",\"Italy\",\"China\",\"United States\",\"Spain\",\"United States\",\"Australia\",\"Jordan\",\"China\",\"Spain\",\"China\",\"France\",\"United States\",\"United States\",\"Australia\",\"Germany (FRG)\",\"Russia\",\"Russia\",\"Serbia\",\"United States\",\"United States\",\"United States\",\"China\",\"Russia\",\"Russia\",\"Egypt\",\"Russia\",\"Russia\",\"France\",\"United States\",\"France\",\"United States\",\"Russia\",\"United States\",\"China\",\"United States\",\"United States\",\"Egypt\",\"United States\",\"Saudi Arabia\",\"UAE\",\"Russia\",\"India\",\"United States\",\"Italy\",\"Russia\",\"Austria\",\"Nigeria\",\"Spain\",\"France\",\"United States\",\"United States\",\"United States\",\"France\",\"United States\",\"United Kingdom\",\"Russia\",\"France\",\"Iraq\",\"United States\",\"United States\",\"China\",\"Russia\",\"United States\",\"France\",\"Ukraine\",\"United States\",\"Oman\",\"Germany (FRG)\",\"United States\",\"Germany (FRG)\",\"Indonesia\",\"France\",\"Portugal\",\"United States\",\"United States\",\"United States\",\"China\",\"Germany (FRG)\",\"United States\",\"United States\",\"Germany (FRG)\",\"China\",\"Russia\",\"Pakistan\",\"China\",\"Germany (FRG)\",\"Russia\",\"Portugal\",\"Netherlands\",\"Russia\",\"United States\",\"Netherlands\",\"United Kingdom\",\"Taiwan (ROC)\",\"China\",\"United States\",\"France\",\"Kenya\",\"Saudi Arabia\",\"Germany (FRG)\"],\"military_expenditure\":[9501.4,\"NaN\",25973.4,312.7,2949.3,283.2,229.1,\"NaN\",107.0,47123.5,145.7,\"NaN\",9346.3,5784.0,5105.6,5434.1,322.7,111.8,1350.8,\"NaN\",65.5,85.4,28220.7,2044.0,553.3,21332.6,9754.9,120.0,1390.1,2528.9,56.9,33537.9,53.5,1823.7,\"NaN\",4072.7,302.4,5638.6,118415.7,250.2,2450.4,5692.0,1967.1,\"NaN\",4455.8,328755.2,3631.9,540.5,50285.0,440.1,1645.4,2205.0,2418.0,2142.8,2926.2,141.0,187.6,25587.2,\"NaN\",17641.3,\"NaN\",656.0,1268.9,1430.9,1159.0,254.0,15344.3,5503.8,5648.0,2799.6,2734.4,3368.3,7107.2,2280.2,6958.1,2064.9,499.3,2796.4,301.3,576.4,1234.6,\"NaN\",595.4,\"NaN\",7147.0,34.6,\"NaN\",15712.5,\"NaN\",165.5,36.5,1122.1,9668.2,268.8,1659.6,890.7,1222.4,2149.4,129.2,188.0,181.9,1759.5,4955.6,2960.1,484.3,32976.2,3370.1],\"size\":[7.327355548121621,4.804021044733257,8.131862573104101,4.596195411571037,6.391458506432791,4.516922689455652,4.34732687156756,1.791759469228055,3.738263067569525,8.608421675203994,3.985239770560927,7.210079628170788,7.314188657631213,6.930280611070881,6.830474604419184,6.880359353973559,4.621378479246333,3.773369248576799,5.766761830809131,2.3978952727983707,3.3456401141129657,3.55787688063562,8.198248824161542,6.098131161058877,5.052720279923252,7.974393358466293,7.348420001481131,3.829993394225637,5.789704772786438,6.2684317636540055,3.233036272905828,8.336345137288161,3.1837453231215687,6.00689814673823,1.9459101490553132,6.649649159322971,4.569400515444303,6.909912869382673,9.345565275194089,4.417808478426249,6.2432052444148525,6.917453567367794,6.067452524750147,3.7612001156935624,6.721569517837139,10.162454943871609,6.558008965041997,5.033995709663411,8.660369680702864,4.869601579053636,5.924591035787865,6.158786230304758,6.232556824939791,6.135894931205445,6.385167945555249,3.959007912302535,4.187449629257699,8.119878004340777,2.1972245773362196,7.822398418392384,5.905361848054571,5.188928631155271,5.7167245299222955,5.812847116730151,5.644250274671801,4.429867413614829,7.710799478838685,6.890555233394932,6.911245423338463,6.349785463052308,6.330933849889061,6.497730756023682,7.095090906960087,6.185614749919696,7.0781293820436595,6.106269662457943,4.970565694005251,6.348870523710264,4.566485156909005,5.085441491300294,5.694801847967836,4.564348191467836,5.111386758865341,1.9459101490553132,7.0995583737759835,2.835082945650943,6.484635235635252,7.729769482318803,3.295836866004329,4.087176955853694,2.877849808470757,5.618365766936656,7.341277942728981,4.475174086919195,5.93146551076697,5.43360613635026,5.686857134729806,6.138355209925643,3.889089273078801,4.18915357026396,4.1627656684192615,5.978227965409312,6.806618823393267,6.394382664424985,4.946163639527347,8.322833094503064,6.498158157197328],\"totaltrade\":[700.0,122.0,2157.0,21.0,23.0,7.0,2.0,6.0,13.0,3161.0,33.0,1353.0,1432.0,512.0,735.0,150.0,20.0,3.0,63.0,11.0,1.0,7.0,3110.0,285.0,30.0,351.0,737.0,73.0,652.0,870.0,13.0,2049.0,7.0,169.0,7.0,300.0,6.0,147.0,3182.0,1.0,334.0,685.0,245.0,43.0,687.0,11049.0,231.0,179.0,5574.0,3.0,22.0,62.0,18.0,37.0,190.0,11.0,3.0,311.0,9.0,332.0,367.0,41.0,188.0,1.0,119.0,36.0,1682.0,13.0,637.0,114.0,48.0,187.0,1215.0,16.0,146.0,42.0,11.0,372.0,22.0,8.0,50.0,96.0,6.0,7.0,214.0,1.0,655.0,1169.0,27.0,14.0,5.0,162.0,1288.0,24.0,14.0,216.0,419.0,158.0,46.0,2.0,6.0,321.0,500.0,1498.0,19.0,1597.0,761.0],\"x\":[0.5743283863671813,0.5885374010988421,0.5811246774180648,0.7258490205398234,0.7166785361450713,0.5138372948623673,0.8472933295463768,0.788049169509791,0.6479255515300189,0.5814115307277488,0.5166973716404051,0.5902050185701554,0.5597116138243072,0.6155425974991876,0.5379533846166367,0.6145111122417947,0.5391854319938247,0.5474600131530868,0.5120927440172981,0.6512040669997647,0.052985903351599056,0.6263551786146828,0.5417641113705542,0.5048377443173493,0.8291668852107873,0.5521056907263093,0.5791667251825262,0.6089546615206151,0.5563927442512762,0.5035914124856202,0.36975816317093363,0.5893025074519892,0.31241417821214024,0.5258621935430083,0.5129302735920169,0.6393149847829201,0.5750307087793547,0.6267679800383118,0.5520428629368505,0.6008298559112657,0.5170368815288897,0.6068138664842682,0.6373278655851436,0.45510540644652414,0.6043951620919764,0.5878379210421856,0.599047385417739,0.4604418071918077,0.5161986680947315,0.7068357638104701,0.722166700008275,0.43414943451589005,0.17417133501917406,0.4034622047137951,0.5539381234629911,0.5857299795524155,0.8015158152395837,0.618801341510203,0.6084389641725942,0.6124726033042739,0.5994181272297667,0.512526647809162,0.48009342560517243,0.727704219636539,0.5366191617658644,0.6780666471155357,0.5746503690669978,0.4591444277807505,0.533082552252367,0.6521361241449639,0.6761134433619641,0.5358029394114524,0.5583225445567376,0.6927040071857578,0.6468305821768787,0.6477170572598522,0.6225638768011765,0.6201479577217263,0.6791309194075548,0.0,0.6989057725731092,0.5077764747482753,0.6739068639101174,0.7271462684519134,0.5433296946946127,1.0,0.606706785491054,0.5980210991251426,0.5662048734413656,0.3915186422676827,0.2991244643938513,0.4827748537269966,0.5599210387817273,0.44812703198100756,0.26569777014559404,0.6450199001091264,0.49404948227906903,0.5763148291425577,0.6849574949569291,0.3202055509109973,0.7987520748887386,0.5508737599536488,0.5697705337108581,0.5714265244418414,0.9957506659360265,0.5652098518268024,0.5911753025894433],\"y\":[0.5013904657318374,0.398543103226021,0.4624342402470075,0.3786330721456084,0.545016172860469,0.6943147043758156,0.2300744820987041,0.32598056769903894,0.6819468130277606,0.49034364112809614,0.33078678759300084,0.489361737130282,0.4380253147358294,0.4696649474370132,0.5361379773529803,0.3865134348407277,0.6757584986655185,0.7911524698816922,0.44421614599772075,0.656908445322606,0.4616410277774194,0.24662400732304465,0.5214304523553318,0.5122147984054589,0.5102382821241809,0.46315744767375905,0.46288514840454587,0.5801521577583717,0.5567287083984936,0.5357442859795243,0.5960202201891931,0.4755378888730543,0.6120756243199431,0.4868641818734258,0.27300430916488505,0.49288395481325525,0.24063901591548398,0.4336989458673858,0.5454653702928631,0.9746994567395411,0.5553680476875271,0.5298656983090368,0.4699879367532494,0.46366196929551745,0.48356218400187717,0.502670271557813,0.5151863586333267,0.5480980997641858,0.5396216305269287,0.7899170443754464,0.42018546374790783,0.5730940216587445,0.2172772215381716,0.535467807844499,0.3925371007104593,0.3051850576109357,0.7282166085888295,0.5297288125225267,0.6999776038369674,0.4561893241513276,0.5409954130645853,0.40064160048917286,0.5508131760491648,0.0,0.5801422639902076,0.5645562953847926,0.4729302323979219,0.6847872362626584,0.5238961046976616,0.5287995005975956,0.4396497982996954,0.5058061470490447,0.5273975011486668,0.31018489087955853,0.4277044001624885,0.587032971993999,0.28784856184316,0.5007725605648197,0.37168363286533684,0.06581102213174436,0.5264848848290673,0.47455705261507564,0.7237036781473518,0.671223775940252,0.4411960616180596,0.8264359752684285,0.5073651921878214,0.464224556042205,0.6548466058557424,0.6400880697334957,0.5262696615138565,0.5095280158173049,0.48527172210468184,0.630976683170203,0.3240404502294756,0.48581305610472614,0.5616042581989742,0.42497603072978646,0.5043499857874764,0.7501198759449026,0.6268370751471963,0.5752372025099555,0.4722987090986571,0.4861996443041582,0.48036712686426486,0.4946981418721447,0.44827480576384654]}},\"id\":\"bfc0f82b-bf15-4371-9529-a54006509c68\",\"type\":\"ColumnDataSource\"},{\"attributes\":{\"line_alpha\":{\"value\":0.1},\"line_color\":{\"value\":\"#1f77b4\"},\"line_width\":{\"field\":\"width\"},\"xs\":{\"field\":\"xs\"},\"ys\":{\"field\":\"ys\"}},\"id\":\"ce361060-54b1-438e-a76f-3d146731c3d4\",\"type\":\"MultiLine\"},{\"attributes\":{},\"id\":\"89fc456b-c4e6-4d1e-9718-8ea649a4f3db\",\"type\":\"BasicTickFormatter\"},{\"attributes\":{\"dimension\":1,\"plot\":{\"id\":\"ca26503f-983c-4716-9ae8-95d3571fe30c\",\"subtype\":\"Figure\",\"type\":\"Plot\"},\"ticker\":{\"id\":\"4e85d5ac-1c59-4c3c-8c7c-57bf13c01cac\",\"type\":\"BasicTicker\"}},\"id\":\"dfe4eab4-af1c-45cf-94d6-2eaedff29c6d\",\"type\":\"Grid\"},{\"attributes\":{\"callback\":null,\"plot\":{\"id\":\"ca26503f-983c-4716-9ae8-95d3571fe30c\",\"subtype\":\"Figure\",\"type\":\"Plot\"},\"tooltips\":[[\"country\",\"@country\"],[\"cluster\",\"@cluster\"],[\"military expenditure\",\"@military_expenditure\"],[\"largest tradepartner\",\"@largestpartner\"]]},\"id\":\"d4a110b1-6838-41ba-805d-270edead0181\",\"type\":\"HoverTool\"},{\"attributes\":{\"below\":[{\"id\":\"68b1e007-5d1d-4d9e-be97-b3213e2e84e2\",\"type\":\"LinearAxis\"}],\"left\":[{\"id\":\"24b9ff8d-6452-486c-a882-411c6ee75331\",\"type\":\"LinearAxis\"}],\"plot_width\":800,\"renderers\":[{\"id\":\"68b1e007-5d1d-4d9e-be97-b3213e2e84e2\",\"type\":\"LinearAxis\"},{\"id\":\"2ebfcea3-da0c-4469-b1e9-9a7909ef35c5\",\"type\":\"Grid\"},{\"id\":\"24b9ff8d-6452-486c-a882-411c6ee75331\",\"type\":\"LinearAxis\"},{\"id\":\"dfe4eab4-af1c-45cf-94d6-2eaedff29c6d\",\"type\":\"Grid\"},{\"id\":\"8fdd820c-4dbd-4ab8-86c2-0ee8fd4cc8a5\",\"type\":\"BoxAnnotation\"},{\"id\":\"75bb46f4-2e09-4269-9b24-051321e4cbb1\",\"type\":\"GlyphRenderer\"},{\"id\":\"e49a7b3e-ef1a-4e87-bc12-4ee239f4c634\",\"type\":\"GlyphRenderer\"}],\"title\":{\"id\":\"3dbadfde-3fc9-434b-bd6b-55ddf36564bf\",\"type\":\"Title\"},\"tool_events\":{\"id\":\"f549ff53-6a64-497c-84d3-9f795dc34b53\",\"type\":\"ToolEvents\"},\"toolbar\":{\"id\":\"181c68be-2bbf-4032-9cbd-c52ab084bbdd\",\"type\":\"Toolbar\"},\"x_range\":{\"id\":\"9edc76ba-b343-42ce-bcfd-6d3d8f2a2a20\",\"type\":\"DataRange1d\"},\"y_range\":{\"id\":\"5c754f1c-7016-4e12-8336-a3827eb4aaba\",\"type\":\"DataRange1d\"}},\"id\":\"ca26503f-983c-4716-9ae8-95d3571fe30c\",\"subtype\":\"Figure\",\"type\":\"Plot\"},{\"attributes\":{\"data_source\":{\"id\":\"bfc0f82b-bf15-4371-9529-a54006509c68\",\"type\":\"ColumnDataSource\"},\"glyph\":{\"id\":\"99152903-bad7-42a0-abee-93816f3b240e\",\"type\":\"Circle\"},\"hover_glyph\":null,\"level\":\"overlay\",\"nonselection_glyph\":{\"id\":\"7d1e698a-ed84-46bc-98e5-ff61bc5a0e35\",\"type\":\"Circle\"},\"selection_glyph\":null},\"id\":\"75bb46f4-2e09-4269-9b24-051321e4cbb1\",\"type\":\"GlyphRenderer\"},{\"attributes\":{},\"id\":\"f549ff53-6a64-497c-84d3-9f795dc34b53\",\"type\":\"ToolEvents\"},{\"attributes\":{\"plot\":{\"id\":\"ca26503f-983c-4716-9ae8-95d3571fe30c\",\"subtype\":\"Figure\",\"type\":\"Plot\"},\"ticker\":{\"id\":\"84f0a023-f617-43f7-bc86-6fbfa3e13289\",\"type\":\"BasicTicker\"}},\"id\":\"2ebfcea3-da0c-4469-b1e9-9a7909ef35c5\",\"type\":\"Grid\"},{\"attributes\":{\"plot\":{\"id\":\"ca26503f-983c-4716-9ae8-95d3571fe30c\",\"subtype\":\"Figure\",\"type\":\"Plot\"}},\"id\":\"9bdf63dc-60f9-4b89-8421-513866055a84\",\"type\":\"ResetTool\"},{\"attributes\":{\"plot\":{\"id\":\"ca26503f-983c-4716-9ae8-95d3571fe30c\",\"subtype\":\"Figure\",\"type\":\"Plot\"}},\"id\":\"2db7d5a8-467f-4b95-82a0-2f57cf3fae45\",\"type\":\"PanTool\"},{\"attributes\":{\"callback\":null,\"plot\":{\"id\":\"ca26503f-983c-4716-9ae8-95d3571fe30c\",\"subtype\":\"Figure\",\"type\":\"Plot\"}},\"id\":\"52e75cc7-005a-4d1a-998e-ff31eab2b8cd\",\"type\":\"TapTool\"},{\"attributes\":{\"plot\":{\"id\":\"ca26503f-983c-4716-9ae8-95d3571fe30c\",\"subtype\":\"Figure\",\"type\":\"Plot\"}},\"id\":\"29dcf010-34c4-40ff-afae-878d9dfaeb31\",\"type\":\"WheelZoomTool\"},{\"attributes\":{},\"id\":\"65dbd936-bbd5-4120-9839-fe5cdfb6cf2a\",\"type\":\"BasicTickFormatter\"},{\"attributes\":{\"fill_alpha\":{\"value\":0.1},\"fill_color\":{\"value\":\"#1f77b4\"},\"line_alpha\":{\"value\":0.1},\"line_color\":{\"value\":\"#1f77b4\"},\"size\":{\"field\":\"size\",\"units\":\"screen\"},\"x\":{\"field\":\"x\"},\"y\":{\"field\":\"y\"}},\"id\":\"7d1e698a-ed84-46bc-98e5-ff61bc5a0e35\",\"type\":\"Circle\"},{\"attributes\":{\"plot\":{\"id\":\"ca26503f-983c-4716-9ae8-95d3571fe30c\",\"subtype\":\"Figure\",\"type\":\"Plot\"}},\"id\":\"ef2a2d72-9fbf-4b70-9786-2e4d67f8b6d8\",\"type\":\"SaveTool\"},{\"attributes\":{\"overlay\":{\"id\":\"8fdd820c-4dbd-4ab8-86c2-0ee8fd4cc8a5\",\"type\":\"BoxAnnotation\"},\"plot\":{\"id\":\"ca26503f-983c-4716-9ae8-95d3571fe30c\",\"subtype\":\"Figure\",\"type\":\"Plot\"}},\"id\":\"262cb717-efff-4507-b919-e0b57a73105d\",\"type\":\"BoxZoomTool\"},{\"attributes\":{\"formatter\":{\"id\":\"65dbd936-bbd5-4120-9839-fe5cdfb6cf2a\",\"type\":\"BasicTickFormatter\"},\"plot\":{\"id\":\"ca26503f-983c-4716-9ae8-95d3571fe30c\",\"subtype\":\"Figure\",\"type\":\"Plot\"},\"ticker\":{\"id\":\"4e85d5ac-1c59-4c3c-8c7c-57bf13c01cac\",\"type\":\"BasicTicker\"}},\"id\":\"24b9ff8d-6452-486c-a882-411c6ee75331\",\"type\":\"LinearAxis\"},{\"attributes\":{},\"id\":\"4e85d5ac-1c59-4c3c-8c7c-57bf13c01cac\",\"type\":\"BasicTicker\"},{\"attributes\":{},\"id\":\"84f0a023-f617-43f7-bc86-6fbfa3e13289\",\"type\":\"BasicTicker\"},{\"attributes\":{\"data_source\":{\"id\":\"e0aab57b-e230-4475-9001-46a51e5d2ec7\",\"type\":\"ColumnDataSource\"},\"glyph\":{\"id\":\"829a380c-2619-437d-951e-8dd6e1de65c5\",\"type\":\"MultiLine\"},\"hover_glyph\":null,\"nonselection_glyph\":{\"id\":\"ce361060-54b1-438e-a76f-3d146731c3d4\",\"type\":\"MultiLine\"},\"selection_glyph\":null},\"id\":\"e49a7b3e-ef1a-4e87-bc12-4ee239f4c634\",\"type\":\"GlyphRenderer\"},{\"attributes\":{\"callback\":null,\"column_names\":[\"width\",\"ys\",\"alphas\",\"xs\"],\"data\":{\"alphas\":[[0.10549898167006111],[0.11955193482688392],[0.1164969450101833],[0.1039714867617108],[0.10488798370672098],[0.10183299389002037],[0.11344195519348269],[0.10183299389002037],[0.10122199592668026],[0.10213849287169044],[0.10427698574338086],[0.10122199592668026],[0.10183299389002037],[0.10458248472505093],[0.10152749490835031],[0.12810590631364563],[0.10091649694501019],[0.10061099796334012],[0.19837067209775966],[0.10061099796334012],[0.10091649694501019],[0.12780040733197556],[0.10122199592668026],[0.10519348268839104],[0.10305498981670061],[0.10427698574338086],[0.11955193482688392],[0.1840122199592668],[0.11038696537678208],[0.10122199592668026],[0.10030549898167007],[0.10274949083503056],[0.11313645621181263],[0.10366598778004074],[0.1039714867617108],[0.10702647657841141],[0.10305498981670061],[0.10336048879837068],[0.12566191446028513],[0.1039714867617108],[0.11802443991853362],[0.10824847250509165],[0.20020366598778006],[0.1620162932790224],[0.10855397148676171],[0.10336048879837068],[0.10336048879837068],[0.11160896130346233],[0.10213849287169044],[0.10244399185336049],[0.10305498981670061],[0.1079429735234216],[0.10213849287169044],[0.11374745417515275],[0.10427698574338086],[0.12321792260692464],[0.2719959266802444],[0.10152749490835031],[0.11008146639511202],[0.10336048879837068],[0.10305498981670061],[0.10366598778004074],[0.10336048879837068],[0.10213849287169044],[0.10061099796334012],[0.10183299389002037],[0.1039714867617108],[0.11588594704684319],[0.10763747454175153],[0.14887983706720978],[0.6389002036659878],[0.10244399185336049],[0.3468431771894094],[0.12535641547861506],[0.159877800407332],[0.11008146639511202],[0.12443991853360489],[0.11435845213849288],[0.10213849287169044],[0.10061099796334012],[0.10061099796334012],[0.10122199592668026],[0.10030549898167007],[0.10030549898167007],[0.10183299389002037],[0.15101832993890021],[0.37342158859470465],[0.11985743380855397],[0.11527494908350305],[0.10030549898167007],[0.12230142566191446],[0.10733197556008148],[0.24633401221995926],[0.10030549898167007],[0.12932790224032586],[0.11985743380855397],[0.10733197556008148],[0.10733197556008148],[0.10580448065173116],[0.12505091649694502],[0.14460285132382894],[0.11527494908350305],[0.1109979633401222],[0.11894093686354379],[0.1039714867617108],[0.10152749490835031],[0.10366598778004074],[0.10580448065173116],[0.11221995926680245],[0.10305498981670061],[0.10610997963340123],[0.10733197556008148],[0.11588594704684319],[0.10916496945010185],[0.10213849287169044],[0.12413441955193483],[0.10183299389002037],[0.10427698574338086],[0.10122199592668026],[0.10183299389002037],[0.10733197556008148],[0.10152749490835031],[0.12016293279022404],[0.10152749490835031],[0.2726069246435845],[0.10244399185336049],[0.11221995926680245],[0.10122199592668026],[0.10183299389002037],[0.11405295315682282],[0.10244399185336049],[0.10610997963340123],[0.10091649694501019],[0.11558044806517312],[0.10091649694501019],[0.10183299389002037],[0.10336048879837068],[0.10030549898167007],[0.10458248472505093],[0.19653767820773932],[0.10183299389002037],[0.10458248472505093],[0.14521384928716904],[0.19226069246435845],[0.14276985743380854],[0.10610997963340123],[0.11130346232179227],[0.7],[0.13177189409368636],[0.15529531568228105],[0.10030549898167007],[0.10580448065173116],[0.10305498981670061],[0.10183299389002037],[0.10733197556008148],[0.11221995926680245],[0.1039714867617108],[0.10091649694501019],[0.14215885947046844],[0.10336048879837068],[0.11527494908350305],[0.11008146639511202],[0.10977596741344196],[0.10458248472505093],[0.19409368635437882],[0.1079429735234216],[0.10488798370672098],[0.114969450101833],[0.10274949083503056],[0.10519348268839104],[0.10366598778004074],[0.10244399185336049],[0.10244399185336049],[0.1164969450101833],[0.24480651731160896],[0.12413441955193483],[0.1039714867617108],[0.10061099796334012],[0.10458248472505093],[0.34806517311608964],[0.1039714867617108],[0.1345213849287169],[0.11313645621181263],[0.10213849287169044],[0.10183299389002037],[0.10030549898167007],[0.12871690427698573],[0.10336048879837068],[0.10091649694501019],[0.15285132382892058],[0.1039714867617108],[0.10610997963340123],[0.10916496945010185],[0.10061099796334012],[0.11008146639511202],[0.11894093686354379],[0.1064154786150713],[0.11588594704684319],[0.10030549898167007],[0.10458248472505093],[0.3135437881873727],[0.10336048879837068],[0.10122199592668026],[0.11283095723014257],[0.10213849287169044],[0.11466395112016294],[0.10305498981670061],[0.1039714867617108],[0.12077393075356416],[0.10702647657841141],[0.10213849287169044],[0.10030549898167007],[0.10030549898167007],[0.10458248472505093],[0.11221995926680245],[0.1494908350305499],[0.10610997963340123],[0.10610997963340123],[0.10061099796334012],[0.11985743380855397],[0.10549898167006111],[0.10824847250509165],[0.11771894093686355],[0.14490835030549898],[0.11221995926680245],[0.10274949083503056],[0.1775967413441955],[0.10244399185336049],[0.10519348268839104],[0.129938900203666],[0.11008146639511202],[0.10488798370672098],[0.11008146639511202],[0.3517311608961303],[0.10030549898167007],[0.18798370672097758],[0.11038696537678208],[0.10213849287169044],[0.10030549898167007],[0.10305498981670061],[0.10122199592668026],[0.10061099796334012],[0.10122199592668026],[0.10183299389002037],[0.11924643584521386],[0.12199592668024441],[0.3080448065173116],[0.10122199592668026],[0.10213849287169044],[0.10366598778004074],[0.12566191446028513],[0.10152749490835031],[0.10122199592668026],[0.10672097759674135],[0.10427698574338086],[0.11130346232179227],[0.11130346232179227],[0.10152749490835031],[0.21120162932790226],[0.10733197556008148],[0.1274949083503055],[0.10122199592668026],[0.2603869653767821],[0.1760692464358452],[0.10977596741344196],[0.21181262729124234],[0.2179226069246436],[0.10183299389002037],[0.10213849287169044],[0.1109979633401222],[0.169959266802444],[0.3941955193482688],[0.10152749490835031],[0.11191446028513238],[0.12474541751527496],[0.10213849287169044],[0.10885947046843178],[0.31537678207739306],[0.10122199592668026],[0.10091649694501019],[0.11405295315682282],[0.11283095723014257],[0.10702647657841141],[0.11038696537678208],[0.11069246435845215],[0.10091649694501019],[0.10091649694501019],[0.10061099796334012],[0.10030549898167007],[0.21334012219959267],[0.2787169042769857],[0.10977596741344196],[0.11038696537678208],[0.10122199592668026],[0.10183299389002037],[0.11832993890020367],[0.12810590631364563],[0.10030549898167007],[0.18645621181262728],[0.10274949083503056],[0.10244399185336049],[0.10030549898167007],[0.10305498981670061],[0.1039714867617108],[0.10061099796334012],[0.10122199592668026],[0.14735234215885948],[0.10427698574338086],[0.12657841140529533],[0.10122199592668026],[0.18676171079429735],[0.10427698574338086],[0.10427698574338086],[0.23014256619144602],[0.22586558044806518],[0.11588594704684319],[0.10183299389002037],[0.10916496945010185],[0.10061099796334012],[0.10488798370672098],[0.10274949083503056],[0.10030549898167007],[0.10274949083503056],[0.10213849287169044],[0.10672097759674135],[0.1039714867617108],[0.1094704684317719],[0.11374745417515275],[0.10061099796334012],[0.11008146639511202],[0.10091649694501019],[0.10213849287169044],[0.11741344195519349],[0.12443991853360489],[0.10061099796334012],[0.10183299389002037],[0.1109979633401222],[0.10244399185336049],[0.10152749490835031],[0.10305498981670061],[0.11160896130346233],[0.10091649694501019],[0.11802443991853362],[0.10549898167006111],[0.10733197556008148],[0.140020366598778],[0.10488798370672098],[0.10244399185336049],[0.10366598778004074],[0.10152749490835031],[0.10122199592668026],[0.10824847250509165],[0.10610997963340123],[0.10336048879837068],[0.10030549898167007],[0.11527494908350305]],\"width\":[2.8903717578961645,4.1588830833596715,3.9889840465642745,2.5649493574615367,2.772588722239781,1.791759469228055,3.784189633918261,1.791759469228055,1.3862943611198906,1.9459101490553132,2.6390573296152584,1.3862943611198906,1.791759469228055,2.70805020110221,1.6094379124341003,4.5217885770490405,1.0986122886681098,0.6931471805599453,5.7745515455444085,0.6931471805599453,1.0986122886681098,4.51085950651685,1.3862943611198906,2.833213344056216,2.302585092994046,2.6390573296152584,4.1588830833596715,5.616771097666572,3.5263605246161616,1.3862943611198906,0.0,2.1972245773362196,3.7612001156935624,2.4849066497880004,2.5649493574615367,3.1354942159291497,2.302585092994046,2.3978952727983707,4.430816798843313,2.5649493574615367,4.07753744390572,3.295836866004329,5.793013608384144,5.313205979041787,3.332204510175204,2.3978952727983707,2.3978952727983707,3.6375861597263857,1.9459101490553132,2.0794415416798357,2.302585092994046,3.258096538021482,1.9459101490553132,3.8066624897703196,2.6390573296152584,4.330733340286331,6.333279628139691,1.6094379124341003,3.4965075614664802,2.3978952727983707,2.302585092994046,2.4849066497880004,2.3978952727983707,1.9459101490553132,0.6931471805599453,1.791759469228055,2.5649493574615367,3.9512437185814275,3.2188758248682006,5.075173815233827,7.475339236566737,2.0794415416798357,6.694562058521095,4.418840607796598,5.278114659230517,3.4965075614664802,4.382026634673881,3.8501476017100584,1.9459101490553132,0.6931471805599453,0.6931471805599453,1.3862943611198906,0.0,0.0,1.791759469228055,5.117993812416755,6.796823718274855,4.174387269895637,3.912023005428146,0.0,4.290459441148391,3.1780538303479458,6.171700597410915,0.0,4.564348191467836,4.174387269895637,3.1780538303479458,3.1780538303479458,2.9444389791664403,4.406719247264253,4.983606621708336,3.912023005428146,3.58351893845611,4.127134385045092,2.5649493574615367,1.6094379124341003,2.4849066497880004,2.9444389791664403,3.6888794541139363,2.302585092994046,2.995732273553991,3.1780538303479458,3.9512437185814275,3.4011973816621555,1.9459101490553132,4.3694478524670215,1.791759469228055,2.6390573296152584,1.3862943611198906,1.791759469228055,3.1780538303479458,1.6094379124341003,4.189654742026425,1.6094379124341003,6.336825731146441,2.0794415416798357,3.6888794541139363,1.3862943611198906,1.791759469228055,3.828641396489095,2.0794415416798357,2.995732273553991,1.0986122886681098,3.9318256327243257,1.0986122886681098,1.791759469228055,2.3978952727983707,0.0,2.70805020110221,5.755742213586912,1.791759469228055,2.70805020110221,4.997212273764115,5.71042701737487,4.941642422609304,2.995732273553991,3.6109179126442243,7.582738488914411,4.6443908991413725,5.198497031265826,0.0,2.9444389791664403,2.302585092994046,1.791759469228055,3.1780538303479458,3.6888794541139363,2.5649493574615367,1.0986122886681098,4.927253685157205,2.3978952727983707,3.912023005428146,3.4965075614664802,3.4657359027997265,2.70805020110221,5.730099782973574,3.258096538021482,2.772588722239781,3.8918202981106265,2.1972245773362196,2.833213344056216,2.4849066497880004,2.0794415416798357,2.0794415416798357,3.9889840465642745,6.161207321695077,4.3694478524670215,2.5649493574615367,0.6931471805599453,2.70805020110221,6.699500340161678,2.5649493574615367,4.727387818712341,3.7612001156935624,1.9459101490553132,1.791759469228055,0.0,4.543294782270004,2.3978952727983707,1.0986122886681098,5.153291594497779,2.5649493574615367,2.995732273553991,3.4011973816621555,0.6931471805599453,3.4965075614664802,4.127134385045092,3.044522437723423,3.9512437185814275,0.0,2.70805020110221,6.54965074223381,2.3978952727983707,1.3862943611198906,3.7376696182833684,1.9459101490553132,3.871201010907891,2.302585092994046,2.5649493574615367,4.219507705176107,3.1354942159291497,1.9459101490553132,0.0,0.0,2.70805020110221,3.6888794541139363,5.087596335232384,2.995732273553991,2.995732273553991,0.6931471805599453,4.174387269895637,2.8903717578961645,3.295836866004329,4.060443010546419,4.990432586778736,3.6888794541139363,2.1972245773362196,5.537334267018537,2.0794415416798357,2.833213344056216,4.584967478670572,3.4965075614664802,2.772588722239781,3.4965075614664802,6.714170529909472,0.0,5.662960480135946,3.5263605246161616,1.9459101490553132,0.0,2.302585092994046,1.3862943611198906,0.6931471805599453,1.3862943611198906,1.791759469228055,4.143134726391533,4.276666119016055,6.523562306149512,1.3862943611198906,1.9459101490553132,2.4849066497880004,4.430816798843313,1.6094379124341003,1.3862943611198906,3.091042453358316,2.6390573296152584,3.6109179126442243,3.6109179126442243,1.6094379124341003,5.8971538676367405,3.1780538303479458,4.499809670330265,1.3862943611198906,6.263398262591624,5.517452896464707,3.4657359027997265,5.902633333401366,5.955837369464831,1.791759469228055,1.9459101490553132,3.58351893845611,5.43372200355424,6.870053411798126,1.6094379124341003,3.6635616461296463,4.394449154672439,1.9459101490553132,3.367295829986474,6.558197802812269,1.3862943611198906,1.0986122886681098,3.828641396489095,3.7376696182833684,3.1354942159291497,3.5263605246161616,3.5553480614894135,1.0986122886681098,1.0986122886681098,0.6931471805599453,0.0,5.916202062607435,6.371611847231857,3.4657359027997265,3.5263605246161616,1.3862943611198906,1.791759469228055,4.0943445622221,4.5217885770490405,0.0,5.645446897643238,2.1972245773362196,2.0794415416798357,0.0,2.302585092994046,2.5649493574615367,0.6931471805599453,1.3862943611198906,5.043425116919247,2.6390573296152584,4.465908118654584,1.3862943611198906,5.648974238161206,2.6390573296152584,2.6390573296152584,6.054439346269371,6.021023349349527,3.9512437185814275,1.791759469228055,3.4011973816621555,0.6931471805599453,2.772588722239781,2.1972245773362196,0.0,2.1972245773362196,1.9459101490553132,3.091042453358316,2.5649493574615367,3.4339872044851463,3.8066624897703196,0.6931471805599453,3.4965075614664802,1.0986122886681098,1.9459101490553132,4.04305126783455,4.382026634673881,0.6931471805599453,1.791759469228055,3.58351893845611,2.0794415416798357,1.6094379124341003,2.302585092994046,3.6375861597263857,1.0986122886681098,4.07753744390572,2.8903717578961645,3.1780538303479458,4.875197323201151,2.772588722239781,2.0794415416798357,2.4849066497880004,1.6094379124341003,1.3862943611198906,3.295836866004329,2.995732273553991,2.3978952727983707,0.0,3.912023005428146],\"xs\":[[0.5743283863671813,0.5379533846166367],[0.5743283863671813,0.5814115307277488],[0.5743283863671813,0.6155425974991876],[0.5743283863671813,0.5697705337108581],[0.5743283863671813,0.5714265244418414],[0.5743283863671813,0.6145111122417947],[0.5743283863671813,0.5811246774180648],[0.5743283863671813,0.6043951620919764],[0.5743283863671813,0.5035914124856202],[0.5743283863671813,0.606706785491054],[0.5743283863671813,0.5902050185701554],[0.5743283863671813,0.5077764747482753],[0.5743283863671813,0.5763148291425577],[0.5743283863671813,0.599047385417739],[0.5743283863671813,0.5258621935430083],[0.5743283863671813,0.5417641113705542],[0.5743283863671813,0.6201479577217263],[0.5743283863671813,0.5120927440172981],[0.5743283863671813,0.5878379210421856],[0.5743283863671813,0.6468305821768787],[0.5743283863671813,0.48009342560517243],[0.5885374010988421,0.5791667251825262],[0.5885374010988421,0.5811246774180648],[0.5885374010988421,0.6155425974991876],[0.5885374010988421,0.5980210991251426],[0.5811246774180648,0.5791667251825262],[0.5811246774180648,0.606706785491054],[0.5811246774180648,0.5980210991251426],[0.5811246774180648,0.5893025074519892],[0.5811246774180648,0.48009342560517243],[0.5811246774180648,0.5814115307277488],[0.5811246774180648,0.5746503690669978],[0.5811246774180648,0.533082552252367],[0.5811246774180648,0.5520428629368505],[0.5811246774180648,0.6761134433619641],[0.5811246774180648,0.5358029394114524],[0.5811246774180648,0.5583225445567376],[0.5811246774180648,0.5902050185701554],[0.5811246774180648,0.5597116138243072],[0.5811246774180648,0.6155425974991876],[0.5811246774180648,0.6468305821768787],[0.5811246774180648,0.6043951620919764],[0.5811246774180648,0.5599210387817273],[0.5811246774180648,0.5878379210421856],[0.5811246774180648,0.599047385417739],[0.5811246774180648,0.6225638768011765],[0.5811246774180648,0.6201479577217263],[0.5811246774180648,0.6124726033042739],[0.5811246774180648,0.6263551786146828],[0.5811246774180648,0.5508737599536488],[0.5811246774180648,0.5697705337108581],[0.5811246774180648,0.5714265244418414],[0.5811246774180648,0.49404948227906903],[0.5811246774180648,0.5417641113705542],[0.5811246774180648,0.5539381234629911],[0.5811246774180648,0.5433296946946127],[0.5811246774180648,0.5911753025894433],[0.5811246774180648,0.618801341510203],[0.5811246774180648,0.5521056907263093],[0.7258490205398234,0.6468305821768787],[0.7258490205398234,0.5893025074519892],[0.7166785361450713,0.5878379210421856],[0.7166785361450713,0.5893025074519892],[0.5138372948623673,0.5893025074519892],[0.8472933295463768,0.5893025074519892],[0.788049169509791,0.5980210991251426],[0.6479255515300189,0.5520428629368505],[0.5814115307277488,0.5791667251825262],[0.5814115307277488,0.6155425974991876],[0.5814115307277488,0.5893025074519892],[0.5814115307277488,0.5878379210421856],[0.5814115307277488,0.5520428629368505],[0.5814115307277488,0.5652098518268024],[0.5814115307277488,0.6201479577217263],[0.5814115307277488,0.5597116138243072],[0.5166973716404051,0.5597116138243072],[0.5902050185701554,0.5791667251825262],[0.5902050185701554,0.5980210991251426],[0.5902050185701554,0.45510540644652414],[0.5902050185701554,0.533082552252367],[0.5902050185701554,0.6267679800383118],[0.5902050185701554,0.5714265244418414],[0.5902050185701554,0.6927040071857578],[0.5902050185701554,0.6373278655851436],[0.5902050185701554,0.4034622047137951],[0.5902050185701554,0.5893025074519892],[0.5902050185701554,0.5878379210421856],[0.5902050185701554,0.599047385417739],[0.5902050185701554,0.6450199001091264],[0.5902050185701554,0.5120927440172981],[0.5597116138243072,0.5791667251825262],[0.5597116138243072,0.5077764747482753],[0.5597116138243072,0.5746503690669978],[0.5597116138243072,0.0],[0.5597116138243072,0.5714265244418414],[0.5597116138243072,0.6145111122417947],[0.5597116138243072,0.6043951620919764],[0.5597116138243072,0.5035914124856202],[0.5597116138243072,0.5893025074519892],[0.5597116138243072,0.5697705337108581],[0.5597116138243072,0.5539381234629911],[0.5597116138243072,0.5878379210421856],[0.5597116138243072,0.5763148291425577],[0.6155425974991876,0.5980210991251426],[0.6155425974991876,0.533082552252367],[0.6155425974991876,0.6267679800383118],[0.6155425974991876,0.5714265244418414],[0.6155425974991876,0.6145111122417947],[0.6155425974991876,0.6373278655851436],[0.6155425974991876,0.5417641113705542],[0.6155425974991876,0.5697705337108581],[0.6155425974991876,0.5893025074519892],[0.6155425974991876,0.5878379210421856],[0.6155425974991876,0.6849574949569291],[0.6155425974991876,0.6791309194075548],[0.6155425974991876,0.6450199001091264],[0.6155425974991876,0.5258621935430083],[0.6155425974991876,0.5911753025894433],[0.6155425974991876,0.4827748537269966],[0.6155425974991876,0.6393149847829201],[0.5379533846166367,0.5791667251825262],[0.5379533846166367,0.2991244643938513],[0.5379533846166367,0.5878379210421856],[0.5379533846166367,0.599047385417739],[0.5379533846166367,0.5520428629368505],[0.5379533846166367,0.5170368815288897],[0.5379533846166367,0.5161986680947315],[0.5379533846166367,0.6124726033042739],[0.6145111122417947,0.5980210991251426],[0.6145111122417947,0.6267679800383118],[0.6145111122417947,0.6927040071857578],[0.5391854319938247,0.5520428629368505],[0.5474600131530868,0.5893025074519892],[0.5120927440172981,0.5878379210421856],[0.5120927440172981,0.5746503690669978],[0.5120927440172981,0.5258621935430083],[0.6512040669997647,0.5878379210421856],[0.052985903351599056,0.5746503690669978],[0.5417641113705542,0.6089546615206151],[0.5417641113705542,0.5599210387817273],[0.5417641113705542,0.5980210991251426],[0.5417641113705542,0.5508737599536488],[0.5417641113705542,0.5893025074519892],[0.5417641113705542,0.5878379210421856],[0.5417641113705542,0.5652098518268024],[0.5417641113705542,0.6201479577217263],[0.5417641113705542,0.5170368815288897],[0.5417641113705542,0.5161986680947315],[0.5048377443173493,0.5599210387817273],[0.5048377443173493,0.5161986680947315],[0.8291668852107873,0.5878379210421856],[0.8291668852107873,0.9957506659360265],[0.8291668852107873,0.5520428629368505],[0.5521056907263093,0.5791667251825262],[0.5521056907263093,0.5652098518268024],[0.5521056907263093,0.5599210387817273],[0.5521056907263093,0.5258621935430083],[0.5521056907263093,0.6043951620919764],[0.5521056907263093,0.5878379210421856],[0.5521056907263093,0.599047385417739],[0.5521056907263093,0.5433296946946127],[0.5521056907263093,0.5763148291425577],[0.5791667251825262,0.5980210991251426],[0.5791667251825262,0.5599210387817273],[0.5791667251825262,0.5878379210421856],[0.5791667251825262,0.5539381234629911],[0.5791667251825262,0.5161986680947315],[0.6089546615206151,0.5878379210421856],[0.6089546615206151,0.6201479577217263],[0.5563927442512762,0.5170368815288897],[0.5563927442512762,0.5980210991251426],[0.5563927442512762,0.5366191617658644],[0.5563927442512762,0.5893025074519892],[0.5563927442512762,0.5878379210421856],[0.5563927442512762,0.5520428629368505],[0.5563927442512762,0.5161986680947315],[0.5035914124856202,0.5170368815288897],[0.5035914124856202,0.5599210387817273],[0.5035914124856202,0.5366191617658644],[0.5035914124856202,0.5161986680947315],[0.36975816317093363,0.5161986680947315],[0.5893025074519892,0.6124726033042739],[0.5893025074519892,0.5980210991251426],[0.5893025074519892,0.5129302735920169],[0.5893025074519892,0.5750307087793547],[0.5893025074519892,0.727704219636539],[0.5893025074519892,0.5746503690669978],[0.5893025074519892,0.6267679800383118],[0.5893025074519892,0.6393149847829201],[0.5893025074519892,0.5520428629368505],[0.5893025074519892,0.6521361241449639],[0.5893025074519892,0.6761134433619641],[0.5893025074519892,0.5358029394114524],[0.5893025074519892,0.6927040071857578],[0.5893025074519892,0.6043951620919764],[0.5893025074519892,0.5878379210421856],[0.5893025074519892,0.599047385417739],[0.5893025074519892,0.6373278655851436],[0.5893025074519892,0.722166700008275],[0.5893025074519892,0.6791309194075548],[0.5893025074519892,0.5714265244418414],[0.5893025074519892,0.5857299795524155],[0.5893025074519892,0.5433296946946127],[0.5893025074519892,0.5911753025894433],[0.31241417821214024,0.5161986680947315],[0.5258621935430083,0.5980210991251426],[0.5258621935430083,0.5878379210421856],[0.5258621935430083,0.5520428629368505],[0.5258621935430083,0.5161986680947315],[0.6393149847829201,0.6124726033042739],[0.6393149847829201,0.5980210991251426],[0.6393149847829201,0.512526647809162],[0.6393149847829201,0.5994181272297667],[0.6393149847829201,0.6468305821768787],[0.6393149847829201,0.6373278655851436],[0.6393149847829201,0.5878379210421856],[0.6393149847829201,0.599047385417739],[0.6393149847829201,0.6521361241449639],[0.6393149847829201,0.6201479577217263],[0.6267679800383118,0.5878379210421856],[0.6267679800383118,0.6201479577217263],[0.5520428629368505,0.5662048734413656],[0.5520428629368505,0.48009342560517243],[0.5520428629368505,0.4827748537269966],[0.5520428629368505,0.5652098518268024],[0.5520428629368505,0.4591444277807505],[0.5520428629368505,0.533082552252367],[0.5520428629368505,0.44812703198100756],[0.5520428629368505,0.5583225445567376],[0.5520428629368505,0.5170368815288897],[0.5520428629368505,0.6043951620919764],[0.5520428629368505,0.6849574949569291],[0.5520428629368505,0.6201479577217263],[0.5520428629368505,0.5161986680947315],[0.5520428629368505,0.43414943451589005],[0.5520428629368505,0.5508737599536488],[0.5520428629368505,0.5077764747482753],[0.5520428629368505,0.7271462684519134],[0.6008298559112657,0.5878379210421856],[0.5170368815288897,0.4604418071918077],[0.5170368815288897,0.5508737599536488],[0.5170368815288897,0.44812703198100756],[0.5170368815288897,0.5878379210421856],[0.5170368815288897,0.5652098518268024],[0.5170368815288897,0.5358029394114524],[0.5170368815288897,0.5161986680947315],[0.6068138664842682,0.5878379210421856],[0.6068138664842682,0.7987520748887386],[0.6373278655851436,0.5980210991251426],[0.6373278655851436,0.6468305821768787],[0.6373278655851436,0.5878379210421856],[0.6373278655851436,0.599047385417739],[0.6373278655851436,0.512526647809162],[0.45510540644652414,0.5714265244418414],[0.45510540644652414,0.4604418071918077],[0.6043951620919764,0.6124726033042739],[0.6043951620919764,0.5746503690669978],[0.6043951620919764,0.6927040071857578],[0.6043951620919764,0.5878379210421856],[0.6043951620919764,0.5652098518268024],[0.6043951620919764,0.6201479577217263],[0.6043951620919764,0.5763148291425577],[0.5878379210421856,0.606706785491054],[0.5878379210421856,0.5980210991251426],[0.5878379210421856,0.5366191617658644],[0.5878379210421856,0.5994181272297667],[0.5878379210421856,0.5652098518268024],[0.5878379210421856,0.4827748537269966],[0.5878379210421856,0.48009342560517243],[0.5878379210421856,0.6780666471155357],[0.5878379210421856,0.5599210387817273],[0.5878379210421856,0.5746503690669978],[0.5878379210421856,0.533082552252367],[0.5878379210421856,0.6450199001091264],[0.5878379210421856,0.6521361241449639],[0.5878379210421856,0.6761134433619641],[0.5878379210421856,0.5358029394114524],[0.5878379210421856,0.5583225445567376],[0.5878379210421856,0.6468305821768787],[0.5878379210421856,0.8015158152395837],[0.5878379210421856,0.5763148291425577],[0.5878379210421856,0.6477170572598522],[0.5878379210421856,0.599047385417739],[0.5878379210421856,0.6201479577217263],[0.5878379210421856,0.6124726033042739],[0.5878379210421856,0.7068357638104701],[0.5878379210421856,0.722166700008275],[0.5878379210421856,0.7987520748887386],[0.5878379210421856,0.17417133501917406],[0.5878379210421856,0.5697705337108581],[0.5878379210421856,0.5714265244418414],[0.5878379210421856,0.6989057725731092],[0.5878379210421856,0.5077764747482753],[0.5878379210421856,0.5539381234629911],[0.5878379210421856,0.6739068639101174],[0.5878379210421856,0.5433296946946127],[0.5878379210421856,0.5911753025894433],[0.5878379210421856,1.0],[0.5878379210421856,0.618801341510203],[0.5878379210421856,0.6084389641725942],[0.599047385417739,0.5746503690669978],[0.599047385417739,0.3202055509109973],[0.599047385417739,0.618801341510203],[0.599047385417739,0.5358029394114524],[0.599047385417739,0.6468305821768787],[0.599047385417739,0.6124726033042739],[0.4604418071918077,0.5161986680947315],[0.5161986680947315,0.3915186422676827],[0.5161986680947315,0.48009342560517243],[0.5161986680947315,0.4591444277807505],[0.5161986680947315,0.533082552252367],[0.5161986680947315,0.44812703198100756],[0.5161986680947315,0.5358029394114524],[0.5161986680947315,0.5583225445567376],[0.5161986680947315,0.49404948227906903],[0.5161986680947315,0.43414943451589005],[0.5161986680947315,0.5508737599536488],[0.5161986680947315,0.5714265244418414],[0.722166700008275,0.6201479577217263],[0.722166700008275,0.5980210991251426],[0.43414943451589005,0.4034622047137951],[0.17417133501917406,0.5599210387817273],[0.17417133501917406,0.26569777014559404],[0.17417133501917406,0.0],[0.4034622047137951,0.48009342560517243],[0.618801341510203,0.5652098518268024],[0.6124726033042739,0.5599210387817273],[0.6124726033042739,0.5980210991251426],[0.6124726033042739,0.5652098518268024],[0.512526647809162,0.5652098518268024],[0.512526647809162,0.5980210991251426],[0.48009342560517243,0.5366191617658644],[0.5366191617658644,0.5583225445567376],[0.5746503690669978,0.5980210991251426],[0.5746503690669978,0.5652098518268024],[0.5746503690669978,0.5763148291425577],[0.533082552252367,0.5652098518268024],[0.6761134433619641,0.6201479577217263],[0.5358029394114524,0.5599210387817273],[0.5358029394114524,0.5980210991251426],[0.6468305821768787,0.5980210991251426],[0.6468305821768787,0.6450199001091264],[0.6201479577217263,0.606706785491054],[0.6989057725731092,0.6450199001091264],[0.5433296946946127,0.5599210387817273],[0.5980210991251426,0.5599210387817273],[0.5980210991251426,0.5763148291425577],[0.5980210991251426,0.5714265244418414],[0.5980210991251426,0.5652098518268024],[0.4827748537269966,0.26569777014559404],[0.5599210387817273,0.5697705337108581],[0.5599210387817273,0.6450199001091264],[0.5599210387817273,0.5652098518268024],[0.5599210387817273,0.5763148291425577],[0.3202055509109973,0.5652098518268024],[0.5652098518268024,0.5911753025894433]],\"ys\":[[0.5013904657318374,0.5361379773529803],[0.5013904657318374,0.49034364112809614],[0.5013904657318374,0.4696649474370132],[0.5013904657318374,0.4722987090986571],[0.5013904657318374,0.4861996443041582],[0.5013904657318374,0.3865134348407277],[0.5013904657318374,0.4624342402470075],[0.5013904657318374,0.48356218400187717],[0.5013904657318374,0.5357442859795243],[0.5013904657318374,0.5073651921878214],[0.5013904657318374,0.489361737130282],[0.5013904657318374,0.47455705261507564],[0.5013904657318374,0.42497603072978646],[0.5013904657318374,0.5151863586333267],[0.5013904657318374,0.4868641818734258],[0.5013904657318374,0.5214304523553318],[0.5013904657318374,0.5007725605648197],[0.5013904657318374,0.44421614599772075],[0.5013904657318374,0.502670271557813],[0.5013904657318374,0.4277044001624885],[0.5013904657318374,0.5508131760491648],[0.398543103226021,0.46288514840454587],[0.398543103226021,0.4624342402470075],[0.398543103226021,0.4696649474370132],[0.398543103226021,0.464224556042205],[0.4624342402470075,0.46288514840454587],[0.4624342402470075,0.5073651921878214],[0.4624342402470075,0.464224556042205],[0.4624342402470075,0.4755378888730543],[0.4624342402470075,0.5508131760491648],[0.4624342402470075,0.49034364112809614],[0.4624342402470075,0.4729302323979219],[0.4624342402470075,0.5238961046976616],[0.4624342402470075,0.5454653702928631],[0.4624342402470075,0.4396497982996954],[0.4624342402470075,0.5058061470490447],[0.4624342402470075,0.5273975011486668],[0.4624342402470075,0.489361737130282],[0.4624342402470075,0.4380253147358294],[0.4624342402470075,0.4696649474370132],[0.4624342402470075,0.4277044001624885],[0.4624342402470075,0.48356218400187717],[0.4624342402470075,0.48527172210468184],[0.4624342402470075,0.502670271557813],[0.4624342402470075,0.5151863586333267],[0.4624342402470075,0.28784856184316],[0.4624342402470075,0.5007725605648197],[0.4624342402470075,0.4561893241513276],[0.4624342402470075,0.24662400732304465],[0.4624342402470075,0.5752372025099555],[0.4624342402470075,0.4722987090986571],[0.4624342402470075,0.4861996443041582],[0.4624342402470075,0.5616042581989742],[0.4624342402470075,0.5214304523553318],[0.4624342402470075,0.3925371007104593],[0.4624342402470075,0.4411960616180596],[0.4624342402470075,0.44827480576384654],[0.4624342402470075,0.5297288125225267],[0.4624342402470075,0.46315744767375905],[0.3786330721456084,0.4277044001624885],[0.3786330721456084,0.4755378888730543],[0.545016172860469,0.502670271557813],[0.545016172860469,0.4755378888730543],[0.6943147043758156,0.4755378888730543],[0.2300744820987041,0.4755378888730543],[0.32598056769903894,0.464224556042205],[0.6819468130277606,0.5454653702928631],[0.49034364112809614,0.46288514840454587],[0.49034364112809614,0.4696649474370132],[0.49034364112809614,0.4755378888730543],[0.49034364112809614,0.502670271557813],[0.49034364112809614,0.5454653702928631],[0.49034364112809614,0.4946981418721447],[0.49034364112809614,0.5007725605648197],[0.49034364112809614,0.4380253147358294],[0.33078678759300084,0.4380253147358294],[0.489361737130282,0.46288514840454587],[0.489361737130282,0.464224556042205],[0.489361737130282,0.46366196929551745],[0.489361737130282,0.5238961046976616],[0.489361737130282,0.4336989458673858],[0.489361737130282,0.4861996443041582],[0.489361737130282,0.31018489087955853],[0.489361737130282,0.4699879367532494],[0.489361737130282,0.535467807844499],[0.489361737130282,0.4755378888730543],[0.489361737130282,0.502670271557813],[0.489361737130282,0.5151863586333267],[0.489361737130282,0.48581305610472614],[0.489361737130282,0.44421614599772075],[0.4380253147358294,0.46288514840454587],[0.4380253147358294,0.47455705261507564],[0.4380253147358294,0.4729302323979219],[0.4380253147358294,0.06581102213174436],[0.4380253147358294,0.4861996443041582],[0.4380253147358294,0.3865134348407277],[0.4380253147358294,0.48356218400187717],[0.4380253147358294,0.5357442859795243],[0.4380253147358294,0.4755378888730543],[0.4380253147358294,0.4722987090986571],[0.4380253147358294,0.3925371007104593],[0.4380253147358294,0.502670271557813],[0.4380253147358294,0.42497603072978646],[0.4696649474370132,0.464224556042205],[0.4696649474370132,0.5238961046976616],[0.4696649474370132,0.4336989458673858],[0.4696649474370132,0.4861996443041582],[0.4696649474370132,0.3865134348407277],[0.4696649474370132,0.4699879367532494],[0.4696649474370132,0.5214304523553318],[0.4696649474370132,0.4722987090986571],[0.4696649474370132,0.4755378888730543],[0.4696649474370132,0.502670271557813],[0.4696649474370132,0.5043499857874764],[0.4696649474370132,0.37168363286533684],[0.4696649474370132,0.48581305610472614],[0.4696649474370132,0.4868641818734258],[0.4696649474370132,0.44827480576384654],[0.4696649474370132,0.5095280158173049],[0.4696649474370132,0.49288395481325525],[0.5361379773529803,0.46288514840454587],[0.5361379773529803,0.5262696615138565],[0.5361379773529803,0.502670271557813],[0.5361379773529803,0.5151863586333267],[0.5361379773529803,0.5454653702928631],[0.5361379773529803,0.5553680476875271],[0.5361379773529803,0.5396216305269287],[0.5361379773529803,0.4561893241513276],[0.3865134348407277,0.464224556042205],[0.3865134348407277,0.4336989458673858],[0.3865134348407277,0.31018489087955853],[0.6757584986655185,0.5454653702928631],[0.7911524698816922,0.4755378888730543],[0.44421614599772075,0.502670271557813],[0.44421614599772075,0.4729302323979219],[0.44421614599772075,0.4868641818734258],[0.656908445322606,0.502670271557813],[0.4616410277774194,0.4729302323979219],[0.5214304523553318,0.5801521577583717],[0.5214304523553318,0.48527172210468184],[0.5214304523553318,0.464224556042205],[0.5214304523553318,0.5752372025099555],[0.5214304523553318,0.4755378888730543],[0.5214304523553318,0.502670271557813],[0.5214304523553318,0.4946981418721447],[0.5214304523553318,0.5007725605648197],[0.5214304523553318,0.5553680476875271],[0.5214304523553318,0.5396216305269287],[0.5122147984054589,0.48527172210468184],[0.5122147984054589,0.5396216305269287],[0.5102382821241809,0.502670271557813],[0.5102382821241809,0.48036712686426486],[0.5102382821241809,0.5454653702928631],[0.46315744767375905,0.46288514840454587],[0.46315744767375905,0.4946981418721447],[0.46315744767375905,0.48527172210468184],[0.46315744767375905,0.4868641818734258],[0.46315744767375905,0.48356218400187717],[0.46315744767375905,0.502670271557813],[0.46315744767375905,0.5151863586333267],[0.46315744767375905,0.4411960616180596],[0.46315744767375905,0.42497603072978646],[0.46288514840454587,0.464224556042205],[0.46288514840454587,0.48527172210468184],[0.46288514840454587,0.502670271557813],[0.46288514840454587,0.3925371007104593],[0.46288514840454587,0.5396216305269287],[0.5801521577583717,0.502670271557813],[0.5801521577583717,0.5007725605648197],[0.5567287083984936,0.5553680476875271],[0.5567287083984936,0.464224556042205],[0.5567287083984936,0.5801422639902076],[0.5567287083984936,0.4755378888730543],[0.5567287083984936,0.502670271557813],[0.5567287083984936,0.5454653702928631],[0.5567287083984936,0.5396216305269287],[0.5357442859795243,0.5553680476875271],[0.5357442859795243,0.48527172210468184],[0.5357442859795243,0.5801422639902076],[0.5357442859795243,0.5396216305269287],[0.5960202201891931,0.5396216305269287],[0.4755378888730543,0.4561893241513276],[0.4755378888730543,0.464224556042205],[0.4755378888730543,0.27300430916488505],[0.4755378888730543,0.24063901591548398],[0.4755378888730543,0.0],[0.4755378888730543,0.4729302323979219],[0.4755378888730543,0.4336989458673858],[0.4755378888730543,0.49288395481325525],[0.4755378888730543,0.5454653702928631],[0.4755378888730543,0.5287995005975956],[0.4755378888730543,0.4396497982996954],[0.4755378888730543,0.5058061470490447],[0.4755378888730543,0.31018489087955853],[0.4755378888730543,0.48356218400187717],[0.4755378888730543,0.502670271557813],[0.4755378888730543,0.5151863586333267],[0.4755378888730543,0.4699879367532494],[0.4755378888730543,0.42018546374790783],[0.4755378888730543,0.37168363286533684],[0.4755378888730543,0.4861996443041582],[0.4755378888730543,0.3051850576109357],[0.4755378888730543,0.4411960616180596],[0.4755378888730543,0.44827480576384654],[0.6120756243199431,0.5396216305269287],[0.4868641818734258,0.464224556042205],[0.4868641818734258,0.502670271557813],[0.4868641818734258,0.5454653702928631],[0.4868641818734258,0.5396216305269287],[0.49288395481325525,0.4561893241513276],[0.49288395481325525,0.464224556042205],[0.49288395481325525,0.40064160048917286],[0.49288395481325525,0.5409954130645853],[0.49288395481325525,0.4277044001624885],[0.49288395481325525,0.4699879367532494],[0.49288395481325525,0.502670271557813],[0.49288395481325525,0.5151863586333267],[0.49288395481325525,0.5287995005975956],[0.49288395481325525,0.5007725605648197],[0.4336989458673858,0.502670271557813],[0.4336989458673858,0.5007725605648197],[0.5454653702928631,0.6548466058557424],[0.5454653702928631,0.5508131760491648],[0.5454653702928631,0.5095280158173049],[0.5454653702928631,0.4946981418721447],[0.5454653702928631,0.6847872362626584],[0.5454653702928631,0.5238961046976616],[0.5454653702928631,0.630976683170203],[0.5454653702928631,0.5273975011486668],[0.5454653702928631,0.5553680476875271],[0.5454653702928631,0.48356218400187717],[0.5454653702928631,0.5043499857874764],[0.5454653702928631,0.5007725605648197],[0.5454653702928631,0.5396216305269287],[0.5454653702928631,0.5730940216587445],[0.5454653702928631,0.5752372025099555],[0.5454653702928631,0.47455705261507564],[0.5454653702928631,0.671223775940252],[0.9746994567395411,0.502670271557813],[0.5553680476875271,0.5480980997641858],[0.5553680476875271,0.5752372025099555],[0.5553680476875271,0.630976683170203],[0.5553680476875271,0.502670271557813],[0.5553680476875271,0.4946981418721447],[0.5553680476875271,0.5058061470490447],[0.5553680476875271,0.5396216305269287],[0.5298656983090368,0.502670271557813],[0.5298656983090368,0.6268370751471963],[0.4699879367532494,0.464224556042205],[0.4699879367532494,0.4277044001624885],[0.4699879367532494,0.502670271557813],[0.4699879367532494,0.5151863586333267],[0.4699879367532494,0.40064160048917286],[0.46366196929551745,0.4861996443041582],[0.46366196929551745,0.5480980997641858],[0.48356218400187717,0.4561893241513276],[0.48356218400187717,0.4729302323979219],[0.48356218400187717,0.31018489087955853],[0.48356218400187717,0.502670271557813],[0.48356218400187717,0.4946981418721447],[0.48356218400187717,0.5007725605648197],[0.48356218400187717,0.42497603072978646],[0.502670271557813,0.5073651921878214],[0.502670271557813,0.464224556042205],[0.502670271557813,0.5801422639902076],[0.502670271557813,0.5409954130645853],[0.502670271557813,0.4946981418721447],[0.502670271557813,0.5095280158173049],[0.502670271557813,0.5508131760491648],[0.502670271557813,0.5645562953847926],[0.502670271557813,0.48527172210468184],[0.502670271557813,0.4729302323979219],[0.502670271557813,0.5238961046976616],[0.502670271557813,0.48581305610472614],[0.502670271557813,0.5287995005975956],[0.502670271557813,0.4396497982996954],[0.502670271557813,0.5058061470490447],[0.502670271557813,0.5273975011486668],[0.502670271557813,0.4277044001624885],[0.502670271557813,0.7282166085888295],[0.502670271557813,0.42497603072978646],[0.502670271557813,0.587032971993999],[0.502670271557813,0.5151863586333267],[0.502670271557813,0.5007725605648197],[0.502670271557813,0.4561893241513276],[0.502670271557813,0.7899170443754464],[0.502670271557813,0.42018546374790783],[0.502670271557813,0.6268370751471963],[0.502670271557813,0.2172772215381716],[0.502670271557813,0.4722987090986571],[0.502670271557813,0.4861996443041582],[0.502670271557813,0.5264848848290673],[0.502670271557813,0.47455705261507564],[0.502670271557813,0.3925371007104593],[0.502670271557813,0.7237036781473518],[0.502670271557813,0.4411960616180596],[0.502670271557813,0.44827480576384654],[0.502670271557813,0.8264359752684285],[0.502670271557813,0.5297288125225267],[0.502670271557813,0.6999776038369674],[0.5151863586333267,0.4729302323979219],[0.5151863586333267,0.7501198759449026],[0.5151863586333267,0.5297288125225267],[0.5151863586333267,0.5058061470490447],[0.5151863586333267,0.4277044001624885],[0.5151863586333267,0.4561893241513276],[0.5480980997641858,0.5396216305269287],[0.5396216305269287,0.6400880697334957],[0.5396216305269287,0.5508131760491648],[0.5396216305269287,0.6847872362626584],[0.5396216305269287,0.5238961046976616],[0.5396216305269287,0.630976683170203],[0.5396216305269287,0.5058061470490447],[0.5396216305269287,0.5273975011486668],[0.5396216305269287,0.5616042581989742],[0.5396216305269287,0.5730940216587445],[0.5396216305269287,0.5752372025099555],[0.5396216305269287,0.4861996443041582],[0.42018546374790783,0.5007725605648197],[0.42018546374790783,0.464224556042205],[0.5730940216587445,0.535467807844499],[0.2172772215381716,0.48527172210468184],[0.2172772215381716,0.3240404502294756],[0.2172772215381716,0.06581102213174436],[0.535467807844499,0.5508131760491648],[0.5297288125225267,0.4946981418721447],[0.4561893241513276,0.48527172210468184],[0.4561893241513276,0.464224556042205],[0.4561893241513276,0.4946981418721447],[0.40064160048917286,0.4946981418721447],[0.40064160048917286,0.464224556042205],[0.5508131760491648,0.5801422639902076],[0.5801422639902076,0.5273975011486668],[0.4729302323979219,0.464224556042205],[0.4729302323979219,0.4946981418721447],[0.4729302323979219,0.42497603072978646],[0.5238961046976616,0.4946981418721447],[0.4396497982996954,0.5007725605648197],[0.5058061470490447,0.48527172210468184],[0.5058061470490447,0.464224556042205],[0.4277044001624885,0.464224556042205],[0.4277044001624885,0.48581305610472614],[0.5007725605648197,0.5073651921878214],[0.5264848848290673,0.48581305610472614],[0.4411960616180596,0.48527172210468184],[0.464224556042205,0.48527172210468184],[0.464224556042205,0.42497603072978646],[0.464224556042205,0.4861996443041582],[0.464224556042205,0.4946981418721447],[0.5095280158173049,0.3240404502294756],[0.48527172210468184,0.4722987090986571],[0.48527172210468184,0.48581305610472614],[0.48527172210468184,0.4946981418721447],[0.48527172210468184,0.42497603072978646],[0.7501198759449026,0.4946981418721447],[0.4946981418721447,0.44827480576384654]]}},\"id\":\"e0aab57b-e230-4475-9001-46a51e5d2ec7\",\"type\":\"ColumnDataSource\"},{\"attributes\":{\"callback\":null},\"id\":\"9edc76ba-b343-42ce-bcfd-6d3d8f2a2a20\",\"type\":\"DataRange1d\"},{\"attributes\":{\"line_alpha\":{\"field\":\"alphas\"},\"line_color\":{\"value\":\"navy\"},\"line_width\":{\"field\":\"width\"},\"xs\":{\"field\":\"xs\"},\"ys\":{\"field\":\"ys\"}},\"id\":\"829a380c-2619-437d-951e-8dd6e1de65c5\",\"type\":\"MultiLine\"},{\"attributes\":{\"fill_alpha\":{\"field\":\"alpha\"},\"fill_color\":{\"field\":\"color\"},\"line_alpha\":{\"field\":\"alpha\"},\"line_color\":{\"field\":\"color\"},\"size\":{\"field\":\"size\",\"units\":\"screen\"},\"x\":{\"field\":\"x\"},\"y\":{\"field\":\"y\"}},\"id\":\"99152903-bad7-42a0-abee-93816f3b240e\",\"type\":\"Circle\"}],\"root_ids\":[\"ca26503f-983c-4716-9ae8-95d3571fe30c\"]},\"title\":\"Bokeh Application\",\"version\":\"0.12.0\"}};\n",
       "            var render_items = [{\"docid\":\"bb08897c-c96d-4ba4-bc35-f352f0ee0c32\",\"elementid\":\"7b2433ad-4841-46f4-a03b-2b0b5b8fd6aa\",\"modelid\":\"ca26503f-983c-4716-9ae8-95d3571fe30c\",\"notebook_comms_target\":\"e6676cac-1a36-4b19-8d29-e83741246331\"}];\n",
       "            \n",
       "            Bokeh.embed.embed_items(docs_json, render_items);\n",
       "        });\n",
       "      },\n",
       "      function(Bokeh) {\n",
       "      }\n",
       "    ];\n",
       "  \n",
       "    function run_inline_js() {\n",
       "      for (var i = 0; i < inline_js.length; i++) {\n",
       "        inline_js[i](window.Bokeh);\n",
       "      }\n",
       "    }\n",
       "  \n",
       "    if (window._bokeh_is_loading === 0) {\n",
       "      console.log(\"Bokeh: BokehJS loaded, going straight to plotting\");\n",
       "      run_inline_js();\n",
       "    } else {\n",
       "      load_libs(js_urls, function() {\n",
       "        console.log(\"Bokeh: BokehJS plotting callback run at\", now());\n",
       "        run_inline_js();\n",
       "      });\n",
       "    }\n",
       "  }(this));\n",
       "</script>"
      ]
     },
     "metadata": {},
     "output_type": "display_data"
    },
    {
     "data": {
      "text/html": [
       "<p><code>&lt;Bokeh Notebook handle for <strong>In[27]</strong>&gt;</code></p>"
      ],
      "text/plain": [
       "<bokeh.io._CommsHandle at 0x1038d2910>"
      ]
     },
     "execution_count": 27,
     "metadata": {},
     "output_type": "execute_result"
    }
   ],
   "source": [
    "show(plot)"
   ]
  },
  {
   "cell_type": "code",
   "execution_count": null,
   "metadata": {
    "collapsed": true
   },
   "outputs": [],
   "source": []
  }
 ],
 "metadata": {
  "anaconda-cloud": {},
  "celltoolbar": "Raw Cell Format",
  "kernelspec": {
   "display_name": "Python [Root]",
   "language": "python",
   "name": "Python [Root]"
  },
  "language_info": {
   "codemirror_mode": {
    "name": "ipython",
    "version": 2
   },
   "file_extension": ".py",
   "mimetype": "text/x-python",
   "name": "python",
   "nbconvert_exporter": "python",
   "pygments_lexer": "ipython2",
   "version": "2.7.12"
  }
 },
 "nbformat": 4,
 "nbformat_minor": 0
}
